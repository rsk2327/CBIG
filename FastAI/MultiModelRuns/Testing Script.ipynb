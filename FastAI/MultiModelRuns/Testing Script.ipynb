{
 "cells": [
  {
   "cell_type": "code",
   "execution_count": 1,
   "metadata": {},
   "outputs": [],
   "source": [
    "import fastai\n",
    "from fastai.vision import *\n",
    "from fastai.callbacks import *\n",
    "from fastai.torch_core import *\n",
    "from fastai.callback import *\n",
    "from fastai.basic_train import *\n",
    "import torchvision.models as tmodels"
   ]
  },
  {
   "cell_type": "code",
   "execution_count": 2,
   "metadata": {},
   "outputs": [],
   "source": [
    "import pandas as pd\n",
    "import numpy as np\n",
    "import os\n",
    "from tqdm import tqdm\n",
    "from sklearn.metrics import accuracy_score\n",
    "from sklearn.metrics import accuracy_score, f1_score, confusion_matrix\n",
    "from scipy.misc import imsave"
   ]
  },
  {
   "cell_type": "code",
   "execution_count": 3,
   "metadata": {},
   "outputs": [],
   "source": [
    "import pandas as pd\n",
    "truthFile = '/home/santhosr/Documents/Birad/birad_targetFile.csv'\n",
    "truth = pd.read_csv(truthFile)"
   ]
  },
  {
   "cell_type": "markdown",
   "metadata": {
    "heading_collapsed": true
   },
   "source": [
    "#### Helper Functions"
   ]
  },
  {
   "cell_type": "code",
   "execution_count": 54,
   "metadata": {
    "hidden": true
   },
   "outputs": [],
   "source": [
    "def getTestAccuracy(model, data):\n",
    "    \n",
    "    predList2 = []\n",
    "    target = []\n",
    "    patientIDList = []\n",
    "    viewList = []\n",
    "\n",
    "    for i in tqdm(range(len(data.valid_ds.x))):\n",
    "        p = model.predict(data.valid_ds.x[i])\n",
    "        name = data.valid_ds.x.items[i].name\n",
    "        \n",
    "        if len(name.split(\"_\"))==5:\n",
    "            patientID = name.split(\"_\")[1]\n",
    "        else:\n",
    "            patientID = name.split(\"_\")[0]\n",
    "        \n",
    "        if 'MLO' in name:\n",
    "            viewList.append('MLO')\n",
    "        else:\n",
    "            viewList.append('CC')\n",
    "        \n",
    "        predList2.append(p)\n",
    "        target.append(int(data.valid_ds.y[i]))\n",
    "        patientIDList.append(patientID)\n",
    "    \n",
    "    predClass = [int(i[1].numpy()) for i in predList2]\n",
    "    \n",
    "    df = pd.DataFrame({'target':target,'pred2':predClass,'patientID':patientIDList,'view':viewList})\n",
    "    \n",
    "    errors = len(df[df.target != df.pred2])\n",
    "    acc = (len(target)-errors)/len(target)\n",
    "    print(\"Validation accuracy : {}\".format(acc))\n",
    "    \n",
    "    return df, acc\n",
    "\n",
    "def checkPatientOverlap(data1,data2):\n",
    "    \n",
    "    patientIDList1 = []\n",
    "    patientIDList2 = []\n",
    "    \n",
    "    for i in range(len(data1.x.items)):\n",
    "        name = data1.x.items[i].name\n",
    "        \n",
    "        if len(name.split(\"_\"))==5:\n",
    "            patientID = name.split(\"_\")[1]\n",
    "        else:\n",
    "            patientID = name.split(\"_\")[0]\n",
    "        \n",
    "        patientIDList1.append(patientID)\n",
    "        \n",
    "    for i in range(len(data2.x.items)):\n",
    "        name = data2.x.items[i].name\n",
    "        \n",
    "        if len(name.split(\"_\"))==5:\n",
    "            patientID = name.split(\"_\")[1]\n",
    "        else:\n",
    "            patientID = name.split(\"_\")[0]\n",
    "        \n",
    "        patientIDList2.append(patientID)\n",
    "        \n",
    "    patientIDList1 = set(patientIDList1)\n",
    "    patientIDList2 = set(patientIDList2)\n",
    "    \n",
    "    commonPatients = list(patientIDList1.intersection(patientIDList2))\n",
    "    \n",
    "    patientIDList1 = list(patientIDList1)\n",
    "    patientIDList2 = list(patientIDList2)\n",
    "        \n",
    "    \n",
    "    return commonPatients, patientIDList1, patientIDList2\n",
    "        "
   ]
  },
  {
   "cell_type": "code",
   "execution_count": 67,
   "metadata": {
    "hidden": true
   },
   "outputs": [],
   "source": [
    "def getValidAccuracy( data, model=None, pred = None):\n",
    "    \n",
    "    if pred == None:\n",
    "        pred = model.get_preds(data.valid_ds)\n",
    "        \n",
    "    common,trainList,validList = checkPatientOverlap(data.train_ds, data.valid_ds)\n",
    "    inTrain=[]\n",
    "    patientIDList=[]\n",
    "    \n",
    "    for i in range(len(data.valid_ds)):\n",
    "        name = data.valid_ds.x.items[i].name\n",
    "        \n",
    "        if len(name.split(\"_\"))==5:\n",
    "            patientID = name.split(\"_\")[1]\n",
    "        else:\n",
    "            patientID = name.split(\"_\")[0]\n",
    "        \n",
    "        patientIDList.append(patientID)\n",
    "        \n",
    "        if patientID in trainList:\n",
    "            inTrain.append(True)\n",
    "        else:\n",
    "            inTrain.append(False)\n",
    "    \n",
    "    target = pred[1].numpy()\n",
    "    finalPred = np.argmax(pred[0].numpy(),1)\n",
    "    score = accuracy_score(finalPred,target)\n",
    "    \n",
    "    df = pd.DataFrame({'target':target,'pred':finalPred,'ID':patientIDList,'inTrain':inTrain})\n",
    "    \n",
    "    totalNew = len(df[df.inTrain==False])\n",
    "    totalNewCorrect = len(df[(df.inTrain==False) & (df.target == df.pred) ])\n",
    "    newAccuracy = totalNewCorrect/totalNew\n",
    "    \n",
    "    \n",
    "    print(\"Test images : {} Accuracy : {} Unseen Data Accuracy : {}\".format(len(finalPred), score, newAccuracy))\n",
    "    return score,df"
   ]
  },
  {
   "cell_type": "code",
   "execution_count": 57,
   "metadata": {
    "hidden": true
   },
   "outputs": [
    {
     "data": {
      "text/plain": [
       "True"
      ]
     },
     "execution_count": 57,
     "metadata": {},
     "output_type": "execute_result"
    }
   ],
   "source": [
    "5 in [1,4,3,5]"
   ]
  },
  {
   "cell_type": "markdown",
   "metadata": {},
   "source": [
    "### Test on Val Data"
   ]
  },
  {
   "cell_type": "code",
   "execution_count": 4,
   "metadata": {},
   "outputs": [],
   "source": [
    "trainPath = '/home/santhosr/Documents/Birad/ProcessedData/FullRes_RaceSampled/'"
   ]
  },
  {
   "cell_type": "code",
   "execution_count": 5,
   "metadata": {},
   "outputs": [],
   "source": [
    "modelList = ['model_resnet_RS_id0_acc803_loss452',\n",
    "'model_resnet_RS_id1_acc805_loss471',\n",
    "'model_resnet_RS_id3_acc805_loss468',\n",
    "'model_resnet_RS_id4_acc806_loss499',\n",
    "'model_resnet_RS_id5_acc817_loss493',\n",
    "'model_resnet_RS_id7_acc790_loss511',\n",
    "'model_resnet_RS_id8_acc826_loss434',\n",
    "'model_resnet_RS_id9_acc793_loss466',\n",
    "'model_resnet_RS_id10_acc801_loss458',\n",
    "'model_resnet_RS_id11_acc813_loss473',\n",
    "'model_resnet_RS_id12_acc812_loss452',\n",
    "'model_resnet_RS_id13_acc819_loss446']\n",
    "\n",
    "\n",
    "seedList = [40,113,6767,999,555,1234,4321,1010,1101,1301,1701,2701]"
   ]
  },
  {
   "cell_type": "code",
   "execution_count": 43,
   "metadata": {},
   "outputs": [],
   "source": [
    "trainData = (ImageItemList.from_folder(trainPath).random_split_by_pct(seed=2701).label_from_folder().transform(get_transforms(),size=512).databunch(bs=20).normalize())"
   ]
  },
  {
   "cell_type": "code",
   "execution_count": 44,
   "metadata": {},
   "outputs": [],
   "source": [
    "learn = create_cnn(trainData, models.resnet50, metrics=accuracy,pretrained=False)"
   ]
  },
  {
   "cell_type": "code",
   "execution_count": 45,
   "metadata": {},
   "outputs": [
    {
     "data": {
      "text/plain": [
       "Learner(data=ImageDataBunch;\n",
       "\n",
       "Train: LabelList\n",
       "y: CategoryList (3200 items)\n",
       "[Category 3, Category 3, Category 3, Category 3, Category 3]...\n",
       "Path: /home/santhosr/Documents/Birad/ProcessedData/FullRes_RaceSampled\n",
       "x: ImageItemList (3200 items)\n",
       "[Image (3, 3328, 2560), Image (3, 4096, 3328), Image (3, 4096, 3328), Image (3, 3328, 2560), Image (3, 4096, 3328)]...\n",
       "Path: /home/santhosr/Documents/Birad/ProcessedData/FullRes_RaceSampled;\n",
       "\n",
       "Valid: LabelList\n",
       "y: CategoryList (800 items)\n",
       "[Category 4, Category 4, Category 4, Category 1, Category 4]...\n",
       "Path: /home/santhosr/Documents/Birad/ProcessedData/FullRes_RaceSampled\n",
       "x: ImageItemList (800 items)\n",
       "[Image (3, 3328, 2560), Image (3, 4096, 3328), Image (3, 3328, 2560), Image (3, 4096, 3328), Image (3, 3328, 2560)]...\n",
       "Path: /home/santhosr/Documents/Birad/ProcessedData/FullRes_RaceSampled;\n",
       "\n",
       "Test: None, model=Sequential(\n",
       "  (0): Sequential(\n",
       "    (0): Conv2d(3, 64, kernel_size=(7, 7), stride=(2, 2), padding=(3, 3), bias=False)\n",
       "    (1): BatchNorm2d(64, eps=1e-05, momentum=0.1, affine=True, track_running_stats=True)\n",
       "    (2): ReLU(inplace)\n",
       "    (3): MaxPool2d(kernel_size=3, stride=2, padding=1, dilation=1, ceil_mode=False)\n",
       "    (4): Sequential(\n",
       "      (0): Bottleneck(\n",
       "        (conv1): Conv2d(64, 64, kernel_size=(1, 1), stride=(1, 1), bias=False)\n",
       "        (bn1): BatchNorm2d(64, eps=1e-05, momentum=0.1, affine=True, track_running_stats=True)\n",
       "        (conv2): Conv2d(64, 64, kernel_size=(3, 3), stride=(1, 1), padding=(1, 1), bias=False)\n",
       "        (bn2): BatchNorm2d(64, eps=1e-05, momentum=0.1, affine=True, track_running_stats=True)\n",
       "        (conv3): Conv2d(64, 256, kernel_size=(1, 1), stride=(1, 1), bias=False)\n",
       "        (bn3): BatchNorm2d(256, eps=1e-05, momentum=0.1, affine=True, track_running_stats=True)\n",
       "        (relu): ReLU(inplace)\n",
       "        (downsample): Sequential(\n",
       "          (0): Conv2d(64, 256, kernel_size=(1, 1), stride=(1, 1), bias=False)\n",
       "          (1): BatchNorm2d(256, eps=1e-05, momentum=0.1, affine=True, track_running_stats=True)\n",
       "        )\n",
       "      )\n",
       "      (1): Bottleneck(\n",
       "        (conv1): Conv2d(256, 64, kernel_size=(1, 1), stride=(1, 1), bias=False)\n",
       "        (bn1): BatchNorm2d(64, eps=1e-05, momentum=0.1, affine=True, track_running_stats=True)\n",
       "        (conv2): Conv2d(64, 64, kernel_size=(3, 3), stride=(1, 1), padding=(1, 1), bias=False)\n",
       "        (bn2): BatchNorm2d(64, eps=1e-05, momentum=0.1, affine=True, track_running_stats=True)\n",
       "        (conv3): Conv2d(64, 256, kernel_size=(1, 1), stride=(1, 1), bias=False)\n",
       "        (bn3): BatchNorm2d(256, eps=1e-05, momentum=0.1, affine=True, track_running_stats=True)\n",
       "        (relu): ReLU(inplace)\n",
       "      )\n",
       "      (2): Bottleneck(\n",
       "        (conv1): Conv2d(256, 64, kernel_size=(1, 1), stride=(1, 1), bias=False)\n",
       "        (bn1): BatchNorm2d(64, eps=1e-05, momentum=0.1, affine=True, track_running_stats=True)\n",
       "        (conv2): Conv2d(64, 64, kernel_size=(3, 3), stride=(1, 1), padding=(1, 1), bias=False)\n",
       "        (bn2): BatchNorm2d(64, eps=1e-05, momentum=0.1, affine=True, track_running_stats=True)\n",
       "        (conv3): Conv2d(64, 256, kernel_size=(1, 1), stride=(1, 1), bias=False)\n",
       "        (bn3): BatchNorm2d(256, eps=1e-05, momentum=0.1, affine=True, track_running_stats=True)\n",
       "        (relu): ReLU(inplace)\n",
       "      )\n",
       "    )\n",
       "    (5): Sequential(\n",
       "      (0): Bottleneck(\n",
       "        (conv1): Conv2d(256, 128, kernel_size=(1, 1), stride=(1, 1), bias=False)\n",
       "        (bn1): BatchNorm2d(128, eps=1e-05, momentum=0.1, affine=True, track_running_stats=True)\n",
       "        (conv2): Conv2d(128, 128, kernel_size=(3, 3), stride=(2, 2), padding=(1, 1), bias=False)\n",
       "        (bn2): BatchNorm2d(128, eps=1e-05, momentum=0.1, affine=True, track_running_stats=True)\n",
       "        (conv3): Conv2d(128, 512, kernel_size=(1, 1), stride=(1, 1), bias=False)\n",
       "        (bn3): BatchNorm2d(512, eps=1e-05, momentum=0.1, affine=True, track_running_stats=True)\n",
       "        (relu): ReLU(inplace)\n",
       "        (downsample): Sequential(\n",
       "          (0): Conv2d(256, 512, kernel_size=(1, 1), stride=(2, 2), bias=False)\n",
       "          (1): BatchNorm2d(512, eps=1e-05, momentum=0.1, affine=True, track_running_stats=True)\n",
       "        )\n",
       "      )\n",
       "      (1): Bottleneck(\n",
       "        (conv1): Conv2d(512, 128, kernel_size=(1, 1), stride=(1, 1), bias=False)\n",
       "        (bn1): BatchNorm2d(128, eps=1e-05, momentum=0.1, affine=True, track_running_stats=True)\n",
       "        (conv2): Conv2d(128, 128, kernel_size=(3, 3), stride=(1, 1), padding=(1, 1), bias=False)\n",
       "        (bn2): BatchNorm2d(128, eps=1e-05, momentum=0.1, affine=True, track_running_stats=True)\n",
       "        (conv3): Conv2d(128, 512, kernel_size=(1, 1), stride=(1, 1), bias=False)\n",
       "        (bn3): BatchNorm2d(512, eps=1e-05, momentum=0.1, affine=True, track_running_stats=True)\n",
       "        (relu): ReLU(inplace)\n",
       "      )\n",
       "      (2): Bottleneck(\n",
       "        (conv1): Conv2d(512, 128, kernel_size=(1, 1), stride=(1, 1), bias=False)\n",
       "        (bn1): BatchNorm2d(128, eps=1e-05, momentum=0.1, affine=True, track_running_stats=True)\n",
       "        (conv2): Conv2d(128, 128, kernel_size=(3, 3), stride=(1, 1), padding=(1, 1), bias=False)\n",
       "        (bn2): BatchNorm2d(128, eps=1e-05, momentum=0.1, affine=True, track_running_stats=True)\n",
       "        (conv3): Conv2d(128, 512, kernel_size=(1, 1), stride=(1, 1), bias=False)\n",
       "        (bn3): BatchNorm2d(512, eps=1e-05, momentum=0.1, affine=True, track_running_stats=True)\n",
       "        (relu): ReLU(inplace)\n",
       "      )\n",
       "      (3): Bottleneck(\n",
       "        (conv1): Conv2d(512, 128, kernel_size=(1, 1), stride=(1, 1), bias=False)\n",
       "        (bn1): BatchNorm2d(128, eps=1e-05, momentum=0.1, affine=True, track_running_stats=True)\n",
       "        (conv2): Conv2d(128, 128, kernel_size=(3, 3), stride=(1, 1), padding=(1, 1), bias=False)\n",
       "        (bn2): BatchNorm2d(128, eps=1e-05, momentum=0.1, affine=True, track_running_stats=True)\n",
       "        (conv3): Conv2d(128, 512, kernel_size=(1, 1), stride=(1, 1), bias=False)\n",
       "        (bn3): BatchNorm2d(512, eps=1e-05, momentum=0.1, affine=True, track_running_stats=True)\n",
       "        (relu): ReLU(inplace)\n",
       "      )\n",
       "    )\n",
       "    (6): Sequential(\n",
       "      (0): Bottleneck(\n",
       "        (conv1): Conv2d(512, 256, kernel_size=(1, 1), stride=(1, 1), bias=False)\n",
       "        (bn1): BatchNorm2d(256, eps=1e-05, momentum=0.1, affine=True, track_running_stats=True)\n",
       "        (conv2): Conv2d(256, 256, kernel_size=(3, 3), stride=(2, 2), padding=(1, 1), bias=False)\n",
       "        (bn2): BatchNorm2d(256, eps=1e-05, momentum=0.1, affine=True, track_running_stats=True)\n",
       "        (conv3): Conv2d(256, 1024, kernel_size=(1, 1), stride=(1, 1), bias=False)\n",
       "        (bn3): BatchNorm2d(1024, eps=1e-05, momentum=0.1, affine=True, track_running_stats=True)\n",
       "        (relu): ReLU(inplace)\n",
       "        (downsample): Sequential(\n",
       "          (0): Conv2d(512, 1024, kernel_size=(1, 1), stride=(2, 2), bias=False)\n",
       "          (1): BatchNorm2d(1024, eps=1e-05, momentum=0.1, affine=True, track_running_stats=True)\n",
       "        )\n",
       "      )\n",
       "      (1): Bottleneck(\n",
       "        (conv1): Conv2d(1024, 256, kernel_size=(1, 1), stride=(1, 1), bias=False)\n",
       "        (bn1): BatchNorm2d(256, eps=1e-05, momentum=0.1, affine=True, track_running_stats=True)\n",
       "        (conv2): Conv2d(256, 256, kernel_size=(3, 3), stride=(1, 1), padding=(1, 1), bias=False)\n",
       "        (bn2): BatchNorm2d(256, eps=1e-05, momentum=0.1, affine=True, track_running_stats=True)\n",
       "        (conv3): Conv2d(256, 1024, kernel_size=(1, 1), stride=(1, 1), bias=False)\n",
       "        (bn3): BatchNorm2d(1024, eps=1e-05, momentum=0.1, affine=True, track_running_stats=True)\n",
       "        (relu): ReLU(inplace)\n",
       "      )\n",
       "      (2): Bottleneck(\n",
       "        (conv1): Conv2d(1024, 256, kernel_size=(1, 1), stride=(1, 1), bias=False)\n",
       "        (bn1): BatchNorm2d(256, eps=1e-05, momentum=0.1, affine=True, track_running_stats=True)\n",
       "        (conv2): Conv2d(256, 256, kernel_size=(3, 3), stride=(1, 1), padding=(1, 1), bias=False)\n",
       "        (bn2): BatchNorm2d(256, eps=1e-05, momentum=0.1, affine=True, track_running_stats=True)\n",
       "        (conv3): Conv2d(256, 1024, kernel_size=(1, 1), stride=(1, 1), bias=False)\n",
       "        (bn3): BatchNorm2d(1024, eps=1e-05, momentum=0.1, affine=True, track_running_stats=True)\n",
       "        (relu): ReLU(inplace)\n",
       "      )\n",
       "      (3): Bottleneck(\n",
       "        (conv1): Conv2d(1024, 256, kernel_size=(1, 1), stride=(1, 1), bias=False)\n",
       "        (bn1): BatchNorm2d(256, eps=1e-05, momentum=0.1, affine=True, track_running_stats=True)\n",
       "        (conv2): Conv2d(256, 256, kernel_size=(3, 3), stride=(1, 1), padding=(1, 1), bias=False)\n",
       "        (bn2): BatchNorm2d(256, eps=1e-05, momentum=0.1, affine=True, track_running_stats=True)\n",
       "        (conv3): Conv2d(256, 1024, kernel_size=(1, 1), stride=(1, 1), bias=False)\n",
       "        (bn3): BatchNorm2d(1024, eps=1e-05, momentum=0.1, affine=True, track_running_stats=True)\n",
       "        (relu): ReLU(inplace)\n",
       "      )\n",
       "      (4): Bottleneck(\n",
       "        (conv1): Conv2d(1024, 256, kernel_size=(1, 1), stride=(1, 1), bias=False)\n",
       "        (bn1): BatchNorm2d(256, eps=1e-05, momentum=0.1, affine=True, track_running_stats=True)\n",
       "        (conv2): Conv2d(256, 256, kernel_size=(3, 3), stride=(1, 1), padding=(1, 1), bias=False)\n",
       "        (bn2): BatchNorm2d(256, eps=1e-05, momentum=0.1, affine=True, track_running_stats=True)\n",
       "        (conv3): Conv2d(256, 1024, kernel_size=(1, 1), stride=(1, 1), bias=False)\n",
       "        (bn3): BatchNorm2d(1024, eps=1e-05, momentum=0.1, affine=True, track_running_stats=True)\n",
       "        (relu): ReLU(inplace)\n",
       "      )\n",
       "      (5): Bottleneck(\n",
       "        (conv1): Conv2d(1024, 256, kernel_size=(1, 1), stride=(1, 1), bias=False)\n",
       "        (bn1): BatchNorm2d(256, eps=1e-05, momentum=0.1, affine=True, track_running_stats=True)\n",
       "        (conv2): Conv2d(256, 256, kernel_size=(3, 3), stride=(1, 1), padding=(1, 1), bias=False)\n",
       "        (bn2): BatchNorm2d(256, eps=1e-05, momentum=0.1, affine=True, track_running_stats=True)\n",
       "        (conv3): Conv2d(256, 1024, kernel_size=(1, 1), stride=(1, 1), bias=False)\n",
       "        (bn3): BatchNorm2d(1024, eps=1e-05, momentum=0.1, affine=True, track_running_stats=True)\n",
       "        (relu): ReLU(inplace)\n",
       "      )\n",
       "    )\n",
       "    (7): Sequential(\n",
       "      (0): Bottleneck(\n",
       "        (conv1): Conv2d(1024, 512, kernel_size=(1, 1), stride=(1, 1), bias=False)\n",
       "        (bn1): BatchNorm2d(512, eps=1e-05, momentum=0.1, affine=True, track_running_stats=True)\n",
       "        (conv2): Conv2d(512, 512, kernel_size=(3, 3), stride=(2, 2), padding=(1, 1), bias=False)\n",
       "        (bn2): BatchNorm2d(512, eps=1e-05, momentum=0.1, affine=True, track_running_stats=True)\n",
       "        (conv3): Conv2d(512, 2048, kernel_size=(1, 1), stride=(1, 1), bias=False)\n",
       "        (bn3): BatchNorm2d(2048, eps=1e-05, momentum=0.1, affine=True, track_running_stats=True)\n",
       "        (relu): ReLU(inplace)\n",
       "        (downsample): Sequential(\n",
       "          (0): Conv2d(1024, 2048, kernel_size=(1, 1), stride=(2, 2), bias=False)\n",
       "          (1): BatchNorm2d(2048, eps=1e-05, momentum=0.1, affine=True, track_running_stats=True)\n",
       "        )\n",
       "      )\n",
       "      (1): Bottleneck(\n",
       "        (conv1): Conv2d(2048, 512, kernel_size=(1, 1), stride=(1, 1), bias=False)\n",
       "        (bn1): BatchNorm2d(512, eps=1e-05, momentum=0.1, affine=True, track_running_stats=True)\n",
       "        (conv2): Conv2d(512, 512, kernel_size=(3, 3), stride=(1, 1), padding=(1, 1), bias=False)\n",
       "        (bn2): BatchNorm2d(512, eps=1e-05, momentum=0.1, affine=True, track_running_stats=True)\n",
       "        (conv3): Conv2d(512, 2048, kernel_size=(1, 1), stride=(1, 1), bias=False)\n",
       "        (bn3): BatchNorm2d(2048, eps=1e-05, momentum=0.1, affine=True, track_running_stats=True)\n",
       "        (relu): ReLU(inplace)\n",
       "      )\n",
       "      (2): Bottleneck(\n",
       "        (conv1): Conv2d(2048, 512, kernel_size=(1, 1), stride=(1, 1), bias=False)\n",
       "        (bn1): BatchNorm2d(512, eps=1e-05, momentum=0.1, affine=True, track_running_stats=True)\n",
       "        (conv2): Conv2d(512, 512, kernel_size=(3, 3), stride=(1, 1), padding=(1, 1), bias=False)\n",
       "        (bn2): BatchNorm2d(512, eps=1e-05, momentum=0.1, affine=True, track_running_stats=True)\n",
       "        (conv3): Conv2d(512, 2048, kernel_size=(1, 1), stride=(1, 1), bias=False)\n",
       "        (bn3): BatchNorm2d(2048, eps=1e-05, momentum=0.1, affine=True, track_running_stats=True)\n",
       "        (relu): ReLU(inplace)\n",
       "      )\n",
       "    )\n",
       "  )\n",
       "  (1): Sequential(\n",
       "    (0): AdaptiveConcatPool2d(\n",
       "      (ap): AdaptiveAvgPool2d(output_size=1)\n",
       "      (mp): AdaptiveMaxPool2d(output_size=1)\n",
       "    )\n",
       "    (1): Lambda()\n",
       "    (2): BatchNorm1d(4096, eps=1e-05, momentum=0.1, affine=True, track_running_stats=True)\n",
       "    (3): Dropout(p=0.25)\n",
       "    (4): Linear(in_features=4096, out_features=512, bias=True)\n",
       "    (5): ReLU(inplace)\n",
       "    (6): BatchNorm1d(512, eps=1e-05, momentum=0.1, affine=True, track_running_stats=True)\n",
       "    (7): Dropout(p=0.5)\n",
       "    (8): Linear(in_features=512, out_features=4, bias=True)\n",
       "  )\n",
       "), opt_func=functools.partial(<class 'torch.optim.adam.Adam'>, betas=(0.9, 0.99)), loss_func=<fastai.layers.FlattenedLoss object at 0x7ff193225c88>, metrics=[<function accuracy at 0x7ff1391ccc80>], true_wd=True, bn_wd=True, wd=0.01, train_bn=True, path=PosixPath('/home/santhosr/Documents/Birad/ProcessedData/FullRes_RaceSampled'), model_dir='models', callback_fns=[<class 'fastai.basic_train.Recorder'>], callbacks=[], layer_groups=[Sequential(\n",
       "  (0): Conv2d(3, 64, kernel_size=(7, 7), stride=(2, 2), padding=(3, 3), bias=False)\n",
       "  (1): BatchNorm2d(64, eps=1e-05, momentum=0.1, affine=True, track_running_stats=True)\n",
       "  (2): ReLU(inplace)\n",
       "  (3): MaxPool2d(kernel_size=3, stride=2, padding=1, dilation=1, ceil_mode=False)\n",
       "  (4): Conv2d(64, 64, kernel_size=(1, 1), stride=(1, 1), bias=False)\n",
       "  (5): BatchNorm2d(64, eps=1e-05, momentum=0.1, affine=True, track_running_stats=True)\n",
       "  (6): Conv2d(64, 64, kernel_size=(3, 3), stride=(1, 1), padding=(1, 1), bias=False)\n",
       "  (7): BatchNorm2d(64, eps=1e-05, momentum=0.1, affine=True, track_running_stats=True)\n",
       "  (8): Conv2d(64, 256, kernel_size=(1, 1), stride=(1, 1), bias=False)\n",
       "  (9): BatchNorm2d(256, eps=1e-05, momentum=0.1, affine=True, track_running_stats=True)\n",
       "  (10): ReLU(inplace)\n",
       "  (11): Conv2d(64, 256, kernel_size=(1, 1), stride=(1, 1), bias=False)\n",
       "  (12): BatchNorm2d(256, eps=1e-05, momentum=0.1, affine=True, track_running_stats=True)\n",
       "  (13): Conv2d(256, 64, kernel_size=(1, 1), stride=(1, 1), bias=False)\n",
       "  (14): BatchNorm2d(64, eps=1e-05, momentum=0.1, affine=True, track_running_stats=True)\n",
       "  (15): Conv2d(64, 64, kernel_size=(3, 3), stride=(1, 1), padding=(1, 1), bias=False)\n",
       "  (16): BatchNorm2d(64, eps=1e-05, momentum=0.1, affine=True, track_running_stats=True)\n",
       "  (17): Conv2d(64, 256, kernel_size=(1, 1), stride=(1, 1), bias=False)\n",
       "  (18): BatchNorm2d(256, eps=1e-05, momentum=0.1, affine=True, track_running_stats=True)\n",
       "  (19): ReLU(inplace)\n",
       "  (20): Conv2d(256, 64, kernel_size=(1, 1), stride=(1, 1), bias=False)\n",
       "  (21): BatchNorm2d(64, eps=1e-05, momentum=0.1, affine=True, track_running_stats=True)\n",
       "  (22): Conv2d(64, 64, kernel_size=(3, 3), stride=(1, 1), padding=(1, 1), bias=False)\n",
       "  (23): BatchNorm2d(64, eps=1e-05, momentum=0.1, affine=True, track_running_stats=True)\n",
       "  (24): Conv2d(64, 256, kernel_size=(1, 1), stride=(1, 1), bias=False)\n",
       "  (25): BatchNorm2d(256, eps=1e-05, momentum=0.1, affine=True, track_running_stats=True)\n",
       "  (26): ReLU(inplace)\n",
       "  (27): Conv2d(256, 128, kernel_size=(1, 1), stride=(1, 1), bias=False)\n",
       "  (28): BatchNorm2d(128, eps=1e-05, momentum=0.1, affine=True, track_running_stats=True)\n",
       "  (29): Conv2d(128, 128, kernel_size=(3, 3), stride=(2, 2), padding=(1, 1), bias=False)\n",
       "  (30): BatchNorm2d(128, eps=1e-05, momentum=0.1, affine=True, track_running_stats=True)\n",
       "  (31): Conv2d(128, 512, kernel_size=(1, 1), stride=(1, 1), bias=False)\n",
       "  (32): BatchNorm2d(512, eps=1e-05, momentum=0.1, affine=True, track_running_stats=True)\n",
       "  (33): ReLU(inplace)\n",
       "  (34): Conv2d(256, 512, kernel_size=(1, 1), stride=(2, 2), bias=False)\n",
       "  (35): BatchNorm2d(512, eps=1e-05, momentum=0.1, affine=True, track_running_stats=True)\n",
       "  (36): Conv2d(512, 128, kernel_size=(1, 1), stride=(1, 1), bias=False)\n",
       "  (37): BatchNorm2d(128, eps=1e-05, momentum=0.1, affine=True, track_running_stats=True)\n",
       "  (38): Conv2d(128, 128, kernel_size=(3, 3), stride=(1, 1), padding=(1, 1), bias=False)\n",
       "  (39): BatchNorm2d(128, eps=1e-05, momentum=0.1, affine=True, track_running_stats=True)\n",
       "  (40): Conv2d(128, 512, kernel_size=(1, 1), stride=(1, 1), bias=False)\n",
       "  (41): BatchNorm2d(512, eps=1e-05, momentum=0.1, affine=True, track_running_stats=True)\n",
       "  (42): ReLU(inplace)\n",
       "  (43): Conv2d(512, 128, kernel_size=(1, 1), stride=(1, 1), bias=False)\n",
       "  (44): BatchNorm2d(128, eps=1e-05, momentum=0.1, affine=True, track_running_stats=True)\n",
       "  (45): Conv2d(128, 128, kernel_size=(3, 3), stride=(1, 1), padding=(1, 1), bias=False)\n",
       "  (46): BatchNorm2d(128, eps=1e-05, momentum=0.1, affine=True, track_running_stats=True)\n",
       "  (47): Conv2d(128, 512, kernel_size=(1, 1), stride=(1, 1), bias=False)\n",
       "  (48): BatchNorm2d(512, eps=1e-05, momentum=0.1, affine=True, track_running_stats=True)\n",
       "  (49): ReLU(inplace)\n",
       "  (50): Conv2d(512, 128, kernel_size=(1, 1), stride=(1, 1), bias=False)\n",
       "  (51): BatchNorm2d(128, eps=1e-05, momentum=0.1, affine=True, track_running_stats=True)\n",
       "  (52): Conv2d(128, 128, kernel_size=(3, 3), stride=(1, 1), padding=(1, 1), bias=False)\n",
       "  (53): BatchNorm2d(128, eps=1e-05, momentum=0.1, affine=True, track_running_stats=True)\n",
       "  (54): Conv2d(128, 512, kernel_size=(1, 1), stride=(1, 1), bias=False)\n",
       "  (55): BatchNorm2d(512, eps=1e-05, momentum=0.1, affine=True, track_running_stats=True)\n",
       "  (56): ReLU(inplace)\n",
       "), Sequential(\n",
       "  (0): Conv2d(512, 256, kernel_size=(1, 1), stride=(1, 1), bias=False)\n",
       "  (1): BatchNorm2d(256, eps=1e-05, momentum=0.1, affine=True, track_running_stats=True)\n",
       "  (2): Conv2d(256, 256, kernel_size=(3, 3), stride=(2, 2), padding=(1, 1), bias=False)\n",
       "  (3): BatchNorm2d(256, eps=1e-05, momentum=0.1, affine=True, track_running_stats=True)\n",
       "  (4): Conv2d(256, 1024, kernel_size=(1, 1), stride=(1, 1), bias=False)\n",
       "  (5): BatchNorm2d(1024, eps=1e-05, momentum=0.1, affine=True, track_running_stats=True)\n",
       "  (6): ReLU(inplace)\n",
       "  (7): Conv2d(512, 1024, kernel_size=(1, 1), stride=(2, 2), bias=False)\n",
       "  (8): BatchNorm2d(1024, eps=1e-05, momentum=0.1, affine=True, track_running_stats=True)\n",
       "  (9): Conv2d(1024, 256, kernel_size=(1, 1), stride=(1, 1), bias=False)\n",
       "  (10): BatchNorm2d(256, eps=1e-05, momentum=0.1, affine=True, track_running_stats=True)\n",
       "  (11): Conv2d(256, 256, kernel_size=(3, 3), stride=(1, 1), padding=(1, 1), bias=False)\n",
       "  (12): BatchNorm2d(256, eps=1e-05, momentum=0.1, affine=True, track_running_stats=True)\n",
       "  (13): Conv2d(256, 1024, kernel_size=(1, 1), stride=(1, 1), bias=False)\n",
       "  (14): BatchNorm2d(1024, eps=1e-05, momentum=0.1, affine=True, track_running_stats=True)\n",
       "  (15): ReLU(inplace)\n",
       "  (16): Conv2d(1024, 256, kernel_size=(1, 1), stride=(1, 1), bias=False)\n",
       "  (17): BatchNorm2d(256, eps=1e-05, momentum=0.1, affine=True, track_running_stats=True)\n",
       "  (18): Conv2d(256, 256, kernel_size=(3, 3), stride=(1, 1), padding=(1, 1), bias=False)\n",
       "  (19): BatchNorm2d(256, eps=1e-05, momentum=0.1, affine=True, track_running_stats=True)\n",
       "  (20): Conv2d(256, 1024, kernel_size=(1, 1), stride=(1, 1), bias=False)\n",
       "  (21): BatchNorm2d(1024, eps=1e-05, momentum=0.1, affine=True, track_running_stats=True)\n",
       "  (22): ReLU(inplace)\n",
       "  (23): Conv2d(1024, 256, kernel_size=(1, 1), stride=(1, 1), bias=False)\n",
       "  (24): BatchNorm2d(256, eps=1e-05, momentum=0.1, affine=True, track_running_stats=True)\n",
       "  (25): Conv2d(256, 256, kernel_size=(3, 3), stride=(1, 1), padding=(1, 1), bias=False)\n",
       "  (26): BatchNorm2d(256, eps=1e-05, momentum=0.1, affine=True, track_running_stats=True)\n",
       "  (27): Conv2d(256, 1024, kernel_size=(1, 1), stride=(1, 1), bias=False)\n",
       "  (28): BatchNorm2d(1024, eps=1e-05, momentum=0.1, affine=True, track_running_stats=True)\n",
       "  (29): ReLU(inplace)\n",
       "  (30): Conv2d(1024, 256, kernel_size=(1, 1), stride=(1, 1), bias=False)\n",
       "  (31): BatchNorm2d(256, eps=1e-05, momentum=0.1, affine=True, track_running_stats=True)\n",
       "  (32): Conv2d(256, 256, kernel_size=(3, 3), stride=(1, 1), padding=(1, 1), bias=False)\n",
       "  (33): BatchNorm2d(256, eps=1e-05, momentum=0.1, affine=True, track_running_stats=True)\n",
       "  (34): Conv2d(256, 1024, kernel_size=(1, 1), stride=(1, 1), bias=False)\n",
       "  (35): BatchNorm2d(1024, eps=1e-05, momentum=0.1, affine=True, track_running_stats=True)\n",
       "  (36): ReLU(inplace)\n",
       "  (37): Conv2d(1024, 256, kernel_size=(1, 1), stride=(1, 1), bias=False)\n",
       "  (38): BatchNorm2d(256, eps=1e-05, momentum=0.1, affine=True, track_running_stats=True)\n",
       "  (39): Conv2d(256, 256, kernel_size=(3, 3), stride=(1, 1), padding=(1, 1), bias=False)\n",
       "  (40): BatchNorm2d(256, eps=1e-05, momentum=0.1, affine=True, track_running_stats=True)\n",
       "  (41): Conv2d(256, 1024, kernel_size=(1, 1), stride=(1, 1), bias=False)\n",
       "  (42): BatchNorm2d(1024, eps=1e-05, momentum=0.1, affine=True, track_running_stats=True)\n",
       "  (43): ReLU(inplace)\n",
       "  (44): Conv2d(1024, 512, kernel_size=(1, 1), stride=(1, 1), bias=False)\n",
       "  (45): BatchNorm2d(512, eps=1e-05, momentum=0.1, affine=True, track_running_stats=True)\n",
       "  (46): Conv2d(512, 512, kernel_size=(3, 3), stride=(2, 2), padding=(1, 1), bias=False)\n",
       "  (47): BatchNorm2d(512, eps=1e-05, momentum=0.1, affine=True, track_running_stats=True)\n",
       "  (48): Conv2d(512, 2048, kernel_size=(1, 1), stride=(1, 1), bias=False)\n",
       "  (49): BatchNorm2d(2048, eps=1e-05, momentum=0.1, affine=True, track_running_stats=True)\n",
       "  (50): ReLU(inplace)\n",
       "  (51): Conv2d(1024, 2048, kernel_size=(1, 1), stride=(2, 2), bias=False)\n",
       "  (52): BatchNorm2d(2048, eps=1e-05, momentum=0.1, affine=True, track_running_stats=True)\n",
       "  (53): Conv2d(2048, 512, kernel_size=(1, 1), stride=(1, 1), bias=False)\n",
       "  (54): BatchNorm2d(512, eps=1e-05, momentum=0.1, affine=True, track_running_stats=True)\n",
       "  (55): Conv2d(512, 512, kernel_size=(3, 3), stride=(1, 1), padding=(1, 1), bias=False)\n",
       "  (56): BatchNorm2d(512, eps=1e-05, momentum=0.1, affine=True, track_running_stats=True)\n",
       "  (57): Conv2d(512, 2048, kernel_size=(1, 1), stride=(1, 1), bias=False)\n",
       "  (58): BatchNorm2d(2048, eps=1e-05, momentum=0.1, affine=True, track_running_stats=True)\n",
       "  (59): ReLU(inplace)\n",
       "  (60): Conv2d(2048, 512, kernel_size=(1, 1), stride=(1, 1), bias=False)\n",
       "  (61): BatchNorm2d(512, eps=1e-05, momentum=0.1, affine=True, track_running_stats=True)\n",
       "  (62): Conv2d(512, 512, kernel_size=(3, 3), stride=(1, 1), padding=(1, 1), bias=False)\n",
       "  (63): BatchNorm2d(512, eps=1e-05, momentum=0.1, affine=True, track_running_stats=True)\n",
       "  (64): Conv2d(512, 2048, kernel_size=(1, 1), stride=(1, 1), bias=False)\n",
       "  (65): BatchNorm2d(2048, eps=1e-05, momentum=0.1, affine=True, track_running_stats=True)\n",
       "  (66): ReLU(inplace)\n",
       "), Sequential(\n",
       "  (0): AdaptiveAvgPool2d(output_size=1)\n",
       "  (1): AdaptiveMaxPool2d(output_size=1)\n",
       "  (2): Lambda()\n",
       "  (3): BatchNorm1d(4096, eps=1e-05, momentum=0.1, affine=True, track_running_stats=True)\n",
       "  (4): Dropout(p=0.25)\n",
       "  (5): Linear(in_features=4096, out_features=512, bias=True)\n",
       "  (6): ReLU(inplace)\n",
       "  (7): BatchNorm1d(512, eps=1e-05, momentum=0.1, affine=True, track_running_stats=True)\n",
       "  (8): Dropout(p=0.5)\n",
       "  (9): Linear(in_features=512, out_features=4, bias=True)\n",
       ")])"
      ]
     },
     "execution_count": 45,
     "metadata": {},
     "output_type": "execute_result"
    }
   ],
   "source": [
    "learn.load('/home/santhosr/Documents/Birad/ProcessedData/FullRes_RaceSampled/models/bestModels/'+modelList[11])"
   ]
  },
  {
   "cell_type": "code",
   "execution_count": 46,
   "metadata": {},
   "outputs": [],
   "source": [
    "pred = learn.get_preds()"
   ]
  },
  {
   "cell_type": "code",
   "execution_count": 68,
   "metadata": {
    "scrolled": true
   },
   "outputs": [
    {
     "name": "stdout",
     "output_type": "stream",
     "text": [
      "Test images : 800 Accuracy : 0.82 Unseen Data Accuracy : 0.6879432624113475\n"
     ]
    },
    {
     "data": {
      "text/plain": [
       "(0.82,      target  pred        ID  inTrain\n",
       " 0         3     3   3746141     True\n",
       " 1         3     3  76204098     True\n",
       " 2         3     3  76007829     True\n",
       " 3         0     0   3078880     True\n",
       " 4         3     3   3048446     True\n",
       " 5         0     0   4099606     True\n",
       " 6         3     3  76717701     True\n",
       " 7         0     0  76656946     True\n",
       " 8         3     3   5217761     True\n",
       " 9         2     2  75538801    False\n",
       " 10        1     0   4846959    False\n",
       " 11        3     3  76007829     True\n",
       " 12        3     3  76442661     True\n",
       " 13        3     3  76095111     True\n",
       " 14        0     0  75366939     True\n",
       " 15        2     2   3085580    False\n",
       " 16        2     2  76768012     True\n",
       " 17        2     2  75761640     True\n",
       " 18        2     2  76895570     True\n",
       " 19        3     3  75207402     True\n",
       " 20        3     3  76204098     True\n",
       " 21        3     3  76928955     True\n",
       " 22        3     3  76204098     True\n",
       " 23        1     1  75152215     True\n",
       " 24        3     3  75201464     True\n",
       " 25        1     0  76178006     True\n",
       " 26        3     3  75904295     True\n",
       " 27        0     0   4686838     True\n",
       " 28        2     2  76780018     True\n",
       " 29        3     3  75539441     True\n",
       " ..      ...   ...       ...      ...\n",
       " 770       3     3  75213382     True\n",
       " 771       1     1  75315163     True\n",
       " 772       2     2   3603200     True\n",
       " 773       2     2  75121105     True\n",
       " 774       3     3  76442661     True\n",
       " 775       1     2   4772276    False\n",
       " 776       0     1   4704082     True\n",
       " 777       2     1   4895358     True\n",
       " 778       0     0  76457450     True\n",
       " 779       0     0   4099606     True\n",
       " 780       3     3  76007829     True\n",
       " 781       3     3  76204098     True\n",
       " 782       1     1   4634641     True\n",
       " 783       1     0   4245154    False\n",
       " 784       3     3  75213382     True\n",
       " 785       1     1   5164728     True\n",
       " 786       2     2  76160169     True\n",
       " 787       3     3  76095111     True\n",
       " 788       1     0  76105053    False\n",
       " 789       0     0   4690730     True\n",
       " 790       1     1   3728882    False\n",
       " 791       0     0  75544181     True\n",
       " 792       0     0   3472999     True\n",
       " 793       3     3  76442661     True\n",
       " 794       3     3  75386232     True\n",
       " 795       3     3  75904295     True\n",
       " 796       0     0   3086253     True\n",
       " 797       0     0  75125691     True\n",
       " 798       1     0   4903508    False\n",
       " 799       3     3  75910199     True\n",
       " \n",
       " [800 rows x 4 columns])"
      ]
     },
     "execution_count": 68,
     "metadata": {},
     "output_type": "execute_result"
    }
   ],
   "source": [
    "getValidAccuracy(trainData,pred = pred)"
   ]
  },
  {
   "cell_type": "code",
   "execution_count": 45,
   "metadata": {},
   "outputs": [],
   "source": [
    "a,b,c = checkPatientOverlap(trainData.train_ds, trainData.valid_ds)"
   ]
  },
  {
   "cell_type": "code",
   "execution_count": 32,
   "metadata": {},
   "outputs": [],
   "source": [
    "interp = ClassificationInterpretation.from_learner(learn)"
   ]
  },
  {
   "cell_type": "code",
   "execution_count": 33,
   "metadata": {},
   "outputs": [
    {
     "data": {
      "image/png": "[encoded data removed]",
      "text/plain": [
       "<Figure size 720x720 with 1 Axes>"
      ]
     },
     "metadata": {
      "needs_background": "light"
     },
     "output_type": "display_data"
    }
   ],
   "source": [
    "interp.plot_confusion_matrix(figsize=(12,12), dpi=60)"
   ]
  },
  {
   "cell_type": "markdown",
   "metadata": {
    "heading_collapsed": true
   },
   "source": [
    "### Testing with Test Data"
   ]
  },
  {
   "cell_type": "code",
   "execution_count": 13,
   "metadata": {
    "hidden": true
   },
   "outputs": [],
   "source": [
    "testPath = '/home/santhosr/Documents/Birad/ProcessedData/FullRes_Test/'"
   ]
  },
  {
   "cell_type": "code",
   "execution_count": 14,
   "metadata": {
    "hidden": true
   },
   "outputs": [],
   "source": [
    "testData = (ImageItemList.from_folder(testPath).random_split_by_pct(0.90,seed=40).label_from_folder().transform(get_transforms(),size=512).databunch(bs=20).normalize(trainData.stats))"
   ]
  },
  {
   "cell_type": "code",
   "execution_count": 18,
   "metadata": {
    "hidden": true
   },
   "outputs": [
    {
     "name": "stderr",
     "output_type": "stream",
     "text": [
      "100%|██████████| 1797/1797 [08:50<00:00,  3.21it/s]"
     ]
    },
    {
     "name": "stdout",
     "output_type": "stream",
     "text": [
      "Validation accuracy : 0.7161936560934892\n"
     ]
    },
    {
     "name": "stderr",
     "output_type": "stream",
     "text": [
      "\n"
     ]
    }
   ],
   "source": [
    " "
   ]
  },
  {
   "cell_type": "code",
   "execution_count": 23,
   "metadata": {
    "hidden": true
   },
   "outputs": [],
   "source": [
    "# pred = learn.get_preds(data.valid_ds)\n",
    "# target = pred[1].numpy()\n",
    "# finalPred = np.argmax(pred[0].numpy(),1)\n",
    "# accuracy_score(finalPred,target)\n",
    "\n",
    "\n"
   ]
  },
  {
   "cell_type": "code",
   "execution_count": 43,
   "metadata": {
    "hidden": true,
    "scrolled": true
   },
   "outputs": [
    {
     "data": {
      "text/plain": [
       "[tensor([[1.2090e-03, 6.8980e-03, 1.6187e-01, 8.3002e-01],\n",
       "         [3.3030e-04, 5.2553e-03, 1.6545e-01, 8.2897e-01],\n",
       "         [1.6966e-04, 3.0392e-04, 1.3685e-02, 9.8584e-01],\n",
       "         ...,\n",
       "         [6.9407e-01, 2.9444e-01, 1.0524e-02, 9.6242e-04],\n",
       "         [5.6478e-01, 4.3227e-01, 2.8284e-03, 1.2734e-04],\n",
       "         [9.5384e-04, 6.1421e-03, 1.4367e-01, 8.4923e-01]]),\n",
       " tensor([3, 3, 3, 0, 3, 0, 3, 0, 3, 2, 1, 3, 3, 3, 0, 2, 2, 2, 2, 3, 3, 3, 3, 1,\n",
       "         3, 1, 3, 0, 2, 3, 3, 3, 2, 0, 3, 3, 1, 3, 1, 0, 1, 2, 1, 0, 1, 1, 2, 2,\n",
       "         0, 1, 1, 2, 3, 0, 1, 2, 0, 1, 1, 1, 3, 1, 2, 0, 2, 1, 0, 1, 3, 1, 1, 3,\n",
       "         0, 3, 2, 0, 0, 2, 1, 0, 3, 3, 2, 0, 2, 3, 0, 0, 3, 3, 2, 1, 3, 1, 1, 0,\n",
       "         2, 2, 3, 0, 2, 3, 3, 1, 2, 0, 2, 2, 3, 1, 0, 3, 2, 1, 2, 2, 0, 3, 3, 0,\n",
       "         1, 0, 1, 1, 1, 2, 0, 3, 0, 0, 2, 3, 3, 3, 1, 1, 2, 1, 2, 2, 3, 1, 2, 1,\n",
       "         0, 3, 0, 3, 3, 2, 2, 1, 1, 3, 3, 2, 3, 3, 2, 2, 2, 0, 0, 1, 2, 0, 2, 0,\n",
       "         2, 0, 3, 0, 0, 2, 2, 1, 3, 0, 2, 3, 1, 0, 1, 1, 0, 3, 3, 2, 1, 0, 0, 1,\n",
       "         1, 2, 3, 0, 3, 3, 0, 2, 2, 2, 2, 0, 1, 2, 0, 2, 3, 3, 1, 3, 0, 3, 0, 0,\n",
       "         3, 3, 3, 3, 0, 3, 0, 0, 3, 0, 1, 1, 3, 0, 3, 0, 0, 1, 0, 1, 2, 0, 1, 3,\n",
       "         3, 1, 1, 2, 0, 0, 3, 3, 2, 3, 1, 2, 2, 0, 0, 0, 3, 0, 3, 2, 2, 1, 2, 3,\n",
       "         2, 2, 1, 1, 0, 0, 2, 1, 1, 2, 3, 1, 0, 3, 3, 0, 2, 1, 0, 2, 0, 1, 0, 3,\n",
       "         3, 0, 2, 0, 1, 0, 3, 3, 3, 0, 0, 1, 0, 0, 1, 0, 0, 1, 0, 3, 1, 0, 3, 1,\n",
       "         2, 2, 2, 2, 0, 0, 2, 2, 3, 3, 2, 1, 1, 2, 3, 1, 3, 3, 0, 3, 2, 2, 0, 2,\n",
       "         0, 0, 1, 2, 3, 0, 0, 2, 1, 0, 0, 0, 2, 0, 3, 0, 2, 1, 3, 3, 1, 0, 0, 1,\n",
       "         0, 0, 0, 2, 3, 1, 2, 0, 0, 1, 2, 3, 2, 0, 0, 0, 2, 1, 0, 0, 0, 2, 2, 2,\n",
       "         0, 3, 2, 2, 2, 3, 0, 0, 0, 3, 2, 0, 2, 3, 2, 0, 2, 0, 0, 2, 2, 0, 2, 3,\n",
       "         3, 2, 2, 0, 0, 0, 0, 3, 0, 2, 1, 2, 2, 1, 2, 2, 2, 2, 1, 3, 0, 1, 1, 0,\n",
       "         1, 0, 0, 2, 3, 1, 3, 3, 1, 2, 1, 3, 2, 3, 0, 1, 2, 3, 0, 2, 3, 3, 3, 0,\n",
       "         1, 3, 1, 3, 2, 3, 2, 2, 0, 2, 1, 2, 0, 1, 1, 2, 1, 1, 0, 1, 3, 3, 1, 2,\n",
       "         1, 2, 1, 0, 1, 2, 2, 1, 3, 3, 1, 3, 1, 0, 2, 2, 2, 0, 3, 3, 2, 2, 0, 1,\n",
       "         2, 1, 3, 2, 2, 2, 2, 3, 3, 2, 1, 0, 2, 2, 3, 0, 2, 2, 0, 1, 0, 2, 1, 2,\n",
       "         1, 2, 0, 1, 3, 2, 1, 3, 1, 1, 3, 3, 0, 0, 3, 3, 0, 1, 3, 3, 3, 3, 3, 3,\n",
       "         1, 3, 3, 3, 0, 0, 2, 0, 3, 0, 3, 0, 1, 3, 2, 1, 0, 3, 2, 2, 1, 3, 2, 3,\n",
       "         2, 0, 2, 0, 3, 0, 0, 1, 1, 2, 2, 0, 3, 2, 1, 3, 2, 1, 3, 0, 1, 3, 0, 0,\n",
       "         0, 2, 2, 1, 1, 3, 2, 2, 3, 0, 3, 0, 3, 3, 1, 3, 1, 2, 3, 1, 1, 3, 1, 0,\n",
       "         2, 3, 1, 2, 0, 0, 1, 2, 3, 3, 3, 1, 0, 1, 0, 3, 1, 0, 2, 3, 1, 1, 3, 2,\n",
       "         0, 1, 3, 0, 0, 2, 1, 1, 3, 2, 0, 0, 2, 0, 1, 2, 2, 1, 0, 2, 3, 1, 1, 2,\n",
       "         0, 2, 0, 3, 0, 1, 1, 2, 1, 1, 1, 2, 1, 2, 1, 0, 3, 2, 0, 1, 2, 3, 1, 3,\n",
       "         2, 3, 2, 2, 1, 3, 1, 1, 2, 3, 0, 2, 3, 0, 3, 0, 3, 3, 3, 0, 0, 1, 1, 2,\n",
       "         1, 3, 1, 3, 1, 1, 2, 1, 2, 3, 0, 3, 1, 3, 2, 1, 3, 0, 2, 0, 0, 3, 0, 2,\n",
       "         2, 1, 0, 1, 0, 0, 3, 3, 2, 1, 2, 3, 2, 0, 2, 2, 2, 2, 3, 3, 1, 2, 0, 3,\n",
       "         0, 1, 3, 1, 2, 2, 3, 1, 0, 2, 0, 0, 3, 3, 1, 1, 3, 1, 2, 3, 1, 0, 1, 0,\n",
       "         0, 3, 3, 3, 0, 0, 1, 3])]"
      ]
     },
     "execution_count": 43,
     "metadata": {},
     "output_type": "execute_result"
    }
   ],
   "source": [
    "pred"
   ]
  },
  {
   "cell_type": "markdown",
   "metadata": {},
   "source": [
    "### Processing Pred Files"
   ]
  },
  {
   "cell_type": "code",
   "execution_count": 40,
   "metadata": {},
   "outputs": [],
   "source": [
    "def getRaceAccuracy(fileName):\n",
    "    \n",
    "    df = pd.read_csv(fileName)\n",
    "    \n",
    "    df['Race'] = df['patientID'].apply(lambda x : truth[truth.DummyID==int(x)]['Medview_Race'].values[0] )\n",
    "    df['Age'] = df['patientID'].apply(lambda x : truth[truth.DummyID==int(x)]['Age'].values[0] )\n",
    "    \n",
    "    raceList = list(dict(df.Race.value_counts()).keys())\n",
    "    \n",
    "    for i in range(len(raceList)):\n",
    "    \n",
    "        total = len(df[df.Race==raceList[i]])\n",
    "        correct = len(df[(df.Race==raceList[i]) & (df.target==df.pred2) ] )\n",
    "        acc = np.round(correct/total,3)\n",
    "    \n",
    "        print(\"Race :{} Total : {} Accuracy : {}\".format(raceList[i], total, acc))"
   ]
  },
  {
   "cell_type": "code",
   "execution_count": 42,
   "metadata": {},
   "outputs": [
    {
     "name": "stdout",
     "output_type": "stream",
     "text": [
      "Race :African American Total : 1367 Accuracy : 0.49\n",
      "Race :White Total : 344 Accuracy : 0.5\n",
      "Race :Other Total : 38 Accuracy : 0.395\n",
      "Race :Hispanic Latino/White Total : 20 Accuracy : 0.45\n",
      "Race :Asian Total : 14 Accuracy : 0.071\n",
      "Race :Unknown Total : 14 Accuracy : 0.286\n"
     ]
    }
   ],
   "source": [
    "getRaceAccuracy('/home/santhosr/Documents/Birad/FastAI/MultiModelRuns/PredFiles/model_resnet_RS_id9_acc793_loss466.csv')"
   ]
  },
  {
   "cell_type": "code",
   "execution_count": null,
   "metadata": {},
   "outputs": [],
   "source": []
  },
  {
   "cell_type": "code",
   "execution_count": 70,
   "metadata": {},
   "outputs": [],
   "source": [
    "from numpy.random import choice"
   ]
  },
  {
   "cell_type": "code",
   "execution_count": 71,
   "metadata": {},
   "outputs": [
    {
     "ename": "TypeError",
     "evalue": "choice() got an unexpected keyword argument 'seed'",
     "output_type": "error",
     "traceback": [
      "\u001b[0;31m---------------------------------------------------------------------------\u001b[0m",
      "\u001b[0;31mTypeError\u001b[0m                                 Traceback (most recent call last)",
      "\u001b[0;32m<ipython-input-71-c06965c1ff19>\u001b[0m in \u001b[0;36m<module>\u001b[0;34m\u001b[0m\n\u001b[0;32m----> 1\u001b[0;31m \u001b[0mchoice\u001b[0m\u001b[0;34m(\u001b[0m\u001b[0;36m700\u001b[0m\u001b[0;34m,\u001b[0m\u001b[0;36m350\u001b[0m\u001b[0;34m,\u001b[0m\u001b[0mreplace\u001b[0m\u001b[0;34m=\u001b[0m\u001b[0;32mFalse\u001b[0m\u001b[0;34m,\u001b[0m\u001b[0mseed\u001b[0m\u001b[0;34m=\u001b[0m\u001b[0;36m123\u001b[0m\u001b[0;34m)\u001b[0m\u001b[0;34m\u001b[0m\u001b[0;34m\u001b[0m\u001b[0m\n\u001b[0m",
      "\u001b[0;32mmtrand.pyx\u001b[0m in \u001b[0;36mmtrand.RandomState.choice\u001b[0;34m()\u001b[0m\n",
      "\u001b[0;31mTypeError\u001b[0m: choice() got an unexpected keyword argument 'seed'"
     ]
    }
   ],
   "source": [
    "choice(700,350,replace=False,seed=123)"
   ]
  },
  {
   "cell_type": "code",
   "execution_count": 81,
   "metadata": {},
   "outputs": [
    {
     "data": {
      "text/plain": [
       "array([ 57, 478, 597, 689, 647])"
      ]
     },
     "execution_count": 81,
     "metadata": {},
     "output_type": "execute_result"
    }
   ],
   "source": [
    "np.random.seed(123)\n",
    "choice(700,5,replace=False)"
   ]
  },
  {
   "cell_type": "code",
   "execution_count": 82,
   "metadata": {},
   "outputs": [
    {
     "data": {
      "text/plain": [
       "array([268, 555, 221, 310, 218])"
      ]
     },
     "execution_count": 82,
     "metadata": {},
     "output_type": "execute_result"
    }
   ],
   "source": [
    "choice(700,5,replace=False)"
   ]
  },
  {
   "cell_type": "code",
   "execution_count": 83,
   "metadata": {},
   "outputs": [
    {
     "data": {
      "text/plain": [
       "array([165, 480, 497, 571, 650])"
      ]
     },
     "execution_count": 83,
     "metadata": {},
     "output_type": "execute_result"
    }
   ],
   "source": [
    "choice(700,5,replace=False)"
   ]
  },
  {
   "cell_type": "code",
   "execution_count": null,
   "metadata": {},
   "outputs": [],
   "source": []
  }
 ],
 "metadata": {
  "kernelspec": {
   "display_name": "python3.6",
   "language": "python",
   "name": "fastai"
  },
  "language_info": {
   "codemirror_mode": {
    "name": "ipython",
    "version": 3
   },
   "file_extension": ".py",
   "mimetype": "text/x-python",
   "name": "python",
   "nbconvert_exporter": "python",
   "pygments_lexer": "ipython3",
   "version": "3.6.8"
  }
 },
 "nbformat": 4,
 "nbformat_minor": 2
}
