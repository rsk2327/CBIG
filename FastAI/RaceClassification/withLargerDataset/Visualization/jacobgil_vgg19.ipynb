{
 "cells": [
  {
   "cell_type": "code",
   "execution_count": 34,
   "metadata": {},
   "outputs": [],
   "source": [
    "import torch\n",
    "from torch.autograd import Variable\n",
    "from torch.autograd import Function\n",
    "from torchvision import models\n",
    "from torchvision import utils\n",
    "import cv2\n",
    "import sys\n",
    "import numpy as np\n",
    "import argparse\n",
    "\n",
    "class FeatureExtractor():\n",
    "    \"\"\" Class for extracting activations and \n",
    "    registering gradients from targetted intermediate layers \"\"\"\n",
    "    def __init__(self, model, target_layers):\n",
    "        self.model = model\n",
    "        self.target_layers = target_layers\n",
    "        self.gradients = []\n",
    "\n",
    "    def save_gradient(self, grad):\n",
    "    \tself.gradients.append(grad)\n",
    "\n",
    "    def __call__(self, x):\n",
    "        outputs = []\n",
    "        self.gradients = []\n",
    "        for name, module in self.model._modules.items():\n",
    "            x = module(x)\n",
    "            if name in self.target_layers:\n",
    "                x.register_hook(self.save_gradient)\n",
    "                outputs += [x]\n",
    "        return outputs, x\n",
    "\n",
    "class ModelOutputs():\n",
    "\t\"\"\" Class for making a forward pass, and getting:\n",
    "\t1. The network output.\n",
    "\t2. Activations from intermeddiate targetted layers.\n",
    "\t3. Gradients from intermeddiate targetted layers. \"\"\"\n",
    "\tdef __init__(self, model, target_layers):\n",
    "\t\tself.model = model\n",
    "\t\tself.feature_extractor = FeatureExtractor(self.model.features, target_layers)\n",
    "\n",
    "\tdef get_gradients(self):\n",
    "\t\treturn self.feature_extractor.gradients\n",
    "\n",
    "\tdef __call__(self, x):\n",
    "\t\ttarget_activations, output  = self.feature_extractor(x)\n",
    "\t\toutput = output.view(output.size(0), -1)\n",
    "\t\toutput = self.model.classifier(output)\n",
    "\t\treturn target_activations, output\n",
    "\n",
    "def preprocess_image(img):\n",
    "\tmeans=[0.485, 0.456, 0.406]\n",
    "\tstds=[0.229, 0.224, 0.225]\n",
    "\n",
    "\tpreprocessed_img = img.copy()[: , :, ::-1]\n",
    "\tfor i in range(3):\n",
    "\t\tpreprocessed_img[:, :, i] = preprocessed_img[:, :, i] - means[i]\n",
    "\t\tpreprocessed_img[:, :, i] = preprocessed_img[:, :, i] / stds[i]\n",
    "\tpreprocessed_img = \\\n",
    "\t\tnp.ascontiguousarray(np.transpose(preprocessed_img, (2, 0, 1)))\n",
    "\tpreprocessed_img = torch.from_numpy(preprocessed_img)\n",
    "\tpreprocessed_img.unsqueeze_(0)\n",
    "\tinput = Variable(preprocessed_img, requires_grad = True)\n",
    "\treturn input\n",
    "\n",
    "def show_cam_on_image(img, mask):\n",
    "\theatmap = cv2.applyColorMap(np.uint8(255*mask), cv2.COLORMAP_JET)\n",
    "\theatmap = np.float32(heatmap) / 255\n",
    "\tcam = heatmap + np.float32(img)\n",
    "\tcam = cam / np.max(cam)\n",
    "\tcv2.imwrite(\"cam.jpg\", np.uint8(255 * cam))\n",
    "\n",
    "class GradCam:\n",
    "\tdef __init__(self, model, target_layer_names, use_cuda):\n",
    "\t\tself.model = model\n",
    "\t\tself.model.eval()\n",
    "\t\tself.cuda = use_cuda\n",
    "\t\tif self.cuda:\n",
    "\t\t\tself.model = model.cuda()\n",
    "\n",
    "\t\tself.extractor = ModelOutputs(self.model, target_layer_names)\n",
    "\n",
    "\tdef forward(self, input):\n",
    "\t\treturn self.model(input) \n",
    "\n",
    "\tdef __call__(self, input, index = None):\n",
    "\t\tif self.cuda:\n",
    "\t\t\tfeatures, output = self.extractor(input.cuda())\n",
    "\t\telse:\n",
    "\t\t\tfeatures, output = self.extractor(input)\n",
    "\n",
    "\t\tif index == None:\n",
    "\t\t\tindex = np.argmax(output.cpu().data.numpy())\n",
    "\n",
    "\t\tone_hot = np.zeros((1, output.size()[-1]), dtype = np.float32)\n",
    "\t\tone_hot[0][index] = 1\n",
    "\t\tone_hot = Variable(torch.from_numpy(one_hot), requires_grad = True)\n",
    "\t\tif self.cuda:\n",
    "\t\t\tone_hot = torch.sum(one_hot.cuda() * output)\n",
    "\t\telse:\n",
    "\t\t\tone_hot = torch.sum(one_hot * output)\n",
    "\n",
    "\t\tself.model.features.zero_grad()\n",
    "\t\tself.model.classifier.zero_grad()\n",
    "\t\tone_hot.backward(retain_graph=True)\n",
    "\n",
    "\t\tgrads_val = self.extractor.get_gradients()[-1].cpu().data.numpy()\n",
    "\n",
    "\t\ttarget = features[-1]\n",
    "\t\ttarget = target.cpu().data.numpy()[0, :]\n",
    "\n",
    "\t\tweights = np.mean(grads_val, axis = (2, 3))[0, :]\n",
    "\t\tcam = np.zeros(target.shape[1 : ], dtype = np.float32)\n",
    "\n",
    "\t\tfor i, w in enumerate(weights):\n",
    "\t\t\tcam += w * target[i, :, :]\n",
    "\n",
    "\t\tcam = np.maximum(cam, 0)\n",
    "\t\tcam = cv2.resize(cam, (224, 224))\n",
    "\t\tcam = cam - np.min(cam)\n",
    "\t\tcam = cam / np.max(cam)\n",
    "\t\treturn features, grads_val, cam\n",
    "\n",
    "\n",
    "\n",
    "def get_args():\n",
    "\tparser = argparse.ArgumentParser()\n",
    "\tparser.add_argument('--use-cuda', action='store_true', default=False,\n",
    "\t                    help='Use NVIDIA GPU acceleration')\n",
    "\tparser.add_argument('--image-path', type=str, default='./examples/both.png',\n",
    "\t                    help='Input image path')\n",
    "\targs = parser.parse_args()\n",
    "\targs.use_cuda = args.use_cuda and torch.cuda.is_available()\n",
    "\tif args.use_cuda:\n",
    "\t    print(\"Using GPU for acceleration\")\n",
    "\telse:\n",
    "\t    print(\"Using CPU for computation\")\n",
    "\n",
    "\treturn args\n",
    "\n"
   ]
  },
  {
   "cell_type": "code",
   "execution_count": 35,
   "metadata": {},
   "outputs": [],
   "source": [
    "img = cv2.imread('testImg_both.png', 1)\n",
    "img = np.float32(cv2.resize(img, (224, 224))) / 255\n",
    "input = preprocess_image(img)"
   ]
  },
  {
   "cell_type": "code",
   "execution_count": 7,
   "metadata": {},
   "outputs": [
    {
     "name": "stderr",
     "output_type": "stream",
     "text": [
      "Downloading: \"https://download.pytorch.org/models/vgg19-dcbb9e9d.pth\" to /home/santhosr/.torch/models/vgg19-dcbb9e9d.pth\n",
      "100%|██████████| 574673361/574673361 [00:16<00:00, 35607568.29it/s]\n"
     ]
    }
   ],
   "source": [
    "model = models.vgg19(pretrained=True)"
   ]
  },
  {
   "cell_type": "code",
   "execution_count": 9,
   "metadata": {},
   "outputs": [
    {
     "data": {
      "text/plain": [
       "Sequential(\n",
       "  (0): Linear(in_features=25088, out_features=4096, bias=True)\n",
       "  (1): ReLU(inplace)\n",
       "  (2): Dropout(p=0.5)\n",
       "  (3): Linear(in_features=4096, out_features=4096, bias=True)\n",
       "  (4): ReLU(inplace)\n",
       "  (5): Dropout(p=0.5)\n",
       "  (6): Linear(in_features=4096, out_features=1000, bias=True)\n",
       ")"
      ]
     },
     "execution_count": 9,
     "metadata": {},
     "output_type": "execute_result"
    }
   ],
   "source": [
    "model.classifier"
   ]
  },
  {
   "cell_type": "code",
   "execution_count": 12,
   "metadata": {},
   "outputs": [
    {
     "name": "stdout",
     "output_type": "stream",
     "text": [
      "0\n",
      "1\n",
      "2\n",
      "3\n",
      "4\n",
      "5\n",
      "6\n"
     ]
    }
   ],
   "source": [
    "for name, module in model.classifier._modules.items():\n",
    "    print(name)\n"
   ]
  },
  {
   "cell_type": "code",
   "execution_count": 36,
   "metadata": {},
   "outputs": [],
   "source": [
    "gdcam = GradCam(model, target_layer_names=['35'],use_cuda=True)"
   ]
  },
  {
   "cell_type": "code",
   "execution_count": 37,
   "metadata": {},
   "outputs": [],
   "source": [
    "target, grads_val,mask = gdcam(input, None)"
   ]
  },
  {
   "cell_type": "code",
   "execution_count": 50,
   "metadata": {},
   "outputs": [],
   "source": [
    "target = target[0].cpu().data.numpy()[0, :]"
   ]
  },
  {
   "cell_type": "code",
   "execution_count": 45,
   "metadata": {},
   "outputs": [],
   "source": [
    "weights = np.mean(grads_val, axis = (2, 3))[0, :]"
   ]
  },
  {
   "cell_type": "code",
   "execution_count": 52,
   "metadata": {},
   "outputs": [
    {
     "ename": "NameError",
     "evalue": "name 'cam' is not defined",
     "output_type": "error",
     "traceback": [
      "\u001b[0;31m---------------------------------------------------------------------------\u001b[0m",
      "\u001b[0;31mNameError\u001b[0m                                 Traceback (most recent call last)",
      "\u001b[0;32m<ipython-input-52-5b46f3811637>\u001b[0m in \u001b[0;36m<module>\u001b[0;34m\u001b[0m\n\u001b[1;32m      1\u001b[0m \u001b[0;32mfor\u001b[0m \u001b[0mi\u001b[0m\u001b[0;34m,\u001b[0m \u001b[0mw\u001b[0m \u001b[0;32min\u001b[0m \u001b[0menumerate\u001b[0m\u001b[0;34m(\u001b[0m\u001b[0mweights\u001b[0m\u001b[0;34m)\u001b[0m\u001b[0;34m:\u001b[0m\u001b[0;34m\u001b[0m\u001b[0;34m\u001b[0m\u001b[0m\n\u001b[0;32m----> 2\u001b[0;31m     \u001b[0mcam\u001b[0m \u001b[0;34m+=\u001b[0m \u001b[0mw\u001b[0m \u001b[0;34m*\u001b[0m \u001b[0mtarget\u001b[0m\u001b[0;34m[\u001b[0m\u001b[0mi\u001b[0m\u001b[0;34m,\u001b[0m \u001b[0;34m:\u001b[0m\u001b[0;34m,\u001b[0m \u001b[0;34m:\u001b[0m\u001b[0;34m]\u001b[0m\u001b[0;34m\u001b[0m\u001b[0;34m\u001b[0m\u001b[0m\n\u001b[0m",
      "\u001b[0;31mNameError\u001b[0m: name 'cam' is not defined"
     ]
    }
   ],
   "source": [
    "for i, w in enumerate(weights):\n",
    "    cam += w * target[i, :, :]"
   ]
  },
  {
   "cell_type": "code",
   "execution_count": 54,
   "metadata": {},
   "outputs": [
    {
     "data": {
      "text/plain": [
       "(512, 14, 14)"
      ]
     },
     "execution_count": 54,
     "metadata": {},
     "output_type": "execute_result"
    }
   ],
   "source": [
    "target.shape"
   ]
  },
  {
   "cell_type": "code",
   "execution_count": 21,
   "metadata": {},
   "outputs": [],
   "source": [
    "import matplotlib.pyplot as plt"
   ]
  },
  {
   "cell_type": "code",
   "execution_count": 22,
   "metadata": {},
   "outputs": [],
   "source": [
    "%matplotlib inline"
   ]
  },
  {
   "cell_type": "code",
   "execution_count": 23,
   "metadata": {},
   "outputs": [
    {
     "data": {
      "text/plain": [
       "<matplotlib.image.AxesImage at 0x7f2e40339ba8>"
      ]
     },
     "execution_count": 23,
     "metadata": {},
     "output_type": "execute_result"
    },
    {
     "data": {
      "image/png": "[encoded data removed]",
      "text/plain": [
       "<Figure size 432x288 with 1 Axes>"
      ]
     },
     "metadata": {
      "needs_background": "light"
     },
     "output_type": "display_data"
    }
   ],
   "source": [
    "plt.imshow(mask)"
   ]
  },
  {
   "cell_type": "code",
   "execution_count": 25,
   "metadata": {},
   "outputs": [
    {
     "data": {
      "text/plain": [
       "torch.Size([1, 512, 14, 14])"
      ]
     },
     "execution_count": 25,
     "metadata": {},
     "output_type": "execute_result"
    }
   ],
   "source": [
    "gdcam.extractor.get_gradients()[0].shape"
   ]
  },
  {
   "cell_type": "code",
   "execution_count": 26,
   "metadata": {},
   "outputs": [],
   "source": [
    "grads_val = gdcam.extractor.get_gradients()[-1].cpu().data.numpy()"
   ]
  },
  {
   "cell_type": "code",
   "execution_count": 28,
   "metadata": {},
   "outputs": [
    {
     "data": {
      "text/plain": [
       "(1, 512, 14, 14)"
      ]
     },
     "execution_count": 28,
     "metadata": {},
     "output_type": "execute_result"
    }
   ],
   "source": [
    "grads_val.shape"
   ]
  },
  {
   "cell_type": "code",
   "execution_count": null,
   "metadata": {},
   "outputs": [],
   "source": []
  }
 ],
 "metadata": {
  "kernelspec": {
   "display_name": "python3.6",
   "language": "python",
   "name": "fastai"
  },
  "language_info": {
   "codemirror_mode": {
    "name": "ipython",
    "version": 3
   },
   "file_extension": ".py",
   "mimetype": "text/x-python",
   "name": "python",
   "nbconvert_exporter": "python",
   "pygments_lexer": "ipython3",
   "version": "3.6.8"
  }
 },
 "nbformat": 4,
 "nbformat_minor": 2
}
