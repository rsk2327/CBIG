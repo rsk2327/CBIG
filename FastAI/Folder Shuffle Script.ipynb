{
 "cells": [
  {
   "cell_type": "code",
   "execution_count": 1,
   "metadata": {},
   "outputs": [],
   "source": [
    "import os\n",
    "import pandas as pd\n",
    "import numpy as np"
   ]
  },
  {
   "cell_type": "code",
   "execution_count": 2,
   "metadata": {},
   "outputs": [],
   "source": [
    "dataFolder = '/home/santhosr/Documents/Birad/ProcessedData/FullRes'\n",
    "newDataFolder = '/home/santhosr/Documents/Birad/ProcessedData/FullRes_RaceSampled'"
   ]
  },
  {
   "cell_type": "code",
   "execution_count": 3,
   "metadata": {},
   "outputs": [],
   "source": [
    "classFolders = os.listdir(dataFolder)\n",
    "\n",
    "#FastAi tends to add 'models' folder in the data directory\n",
    "if 'models' in classFolders:\n",
    "    classFolders.remove('models')"
   ]
  },
  {
   "cell_type": "code",
   "execution_count": 4,
   "metadata": {},
   "outputs": [
    {
     "data": {
      "text/plain": [
       "['3', '4', '2', '1']"
      ]
     },
     "execution_count": 4,
     "metadata": {},
     "output_type": "execute_result"
    }
   ],
   "source": [
    "classFolders"
   ]
  },
  {
   "cell_type": "code",
   "execution_count": 5,
   "metadata": {},
   "outputs": [],
   "source": [
    "## Number of images to have in each folder\n",
    "numImages = 1000"
   ]
  },
  {
   "cell_type": "code",
   "execution_count": 6,
   "metadata": {},
   "outputs": [],
   "source": [
    "#Creating folders\n",
    "\n",
    "os.chdir(newDataFolder)\n",
    "\n",
    "for i in classFolders:\n",
    "    !mkdir $i"
   ]
  },
  {
   "cell_type": "markdown",
   "metadata": {},
   "source": [
    "### Basic Reshuffling"
   ]
  },
  {
   "cell_type": "code",
   "execution_count": 56,
   "metadata": {},
   "outputs": [
    {
     "name": "stdout",
     "output_type": "stream",
     "text": [
      "3\n",
      "1403\n",
      "4\n",
      "112\n",
      "2\n",
      "3445\n",
      "1\n",
      "964\n"
     ]
    }
   ],
   "source": [
    "for i in range(len(classFolders)):\n",
    "    \n",
    "    label = classFolders[i]\n",
    "    \n",
    "    fileList = os.listdir(os.path.join(dataFolder,label))\n",
    "    numFiles = len(fileList)\n",
    "    print(label)\n",
    "    print(numFiles)\n",
    "    \n",
    "    if numFiles>numImages:\n",
    "        \n",
    "        selectedFiles = np.random.choice(fileList,numImages, replace=False)\n",
    "        \n",
    "        for j in range(numImages):\n",
    "            inputFile = os.path.join(dataFolder , label, selectedFiles[j])\n",
    "            outputFile = os.path.join(newDataFolder , label, selectedFiles[j])\n",
    "            ! ln -sf $inputFile $outputFile\n",
    "            \n",
    "    else:\n",
    "        \n",
    "        for j in range(numFiles):\n",
    "            inputFile = os.path.join(dataFolder , label, fileList[j])\n",
    "            outputFile = os.path.join(newDataFolder , label, fileList[j])\n",
    "            ! ln -sf $inputFile $outputFile\n",
    "            \n",
    "        selectedFiles = np.random.choice(fileList,numImages - numFiles, replace=True)\n",
    "        \n",
    "        for j in range(numImages-numFiles):\n",
    "            inputFile = os.path.join(dataFolder , label, selectedFiles[j])\n",
    "            outputFile = os.path.join(newDataFolder , label, str(int(np.random.random()*100000))+\"_\"+selectedFiles[j])\n",
    "            ! ln -sf $inputFile $outputFile\n",
    "        "
   ]
  },
  {
   "cell_type": "code",
   "execution_count": 20,
   "metadata": {},
   "outputs": [],
   "source": [
    "a = os.listdir('/home/santhosr/Documents/Birad/ProcessedData/FullRes_Sampled/4')"
   ]
  },
  {
   "cell_type": "code",
   "execution_count": 21,
   "metadata": {},
   "outputs": [
    {
     "data": {
      "text/plain": [
       "112"
      ]
     },
     "execution_count": 21,
     "metadata": {},
     "output_type": "execute_result"
    }
   ],
   "source": [
    "len(a)"
   ]
  },
  {
   "cell_type": "code",
   "execution_count": 19,
   "metadata": {},
   "outputs": [
    {
     "data": {
      "text/plain": [
       "2810"
      ]
     },
     "execution_count": 19,
     "metadata": {},
     "output_type": "execute_result"
    }
   ],
   "source": [
    "2250+560"
   ]
  },
  {
   "cell_type": "markdown",
   "metadata": {},
   "source": [
    "### Getting Patient List"
   ]
  },
  {
   "cell_type": "code",
   "execution_count": 8,
   "metadata": {},
   "outputs": [
    {
     "data": {
      "text/html": [
       "<div>\n",
       "<style scoped>\n",
       "    .dataframe tbody tr th:only-of-type {\n",
       "        vertical-align: middle;\n",
       "    }\n",
       "\n",
       "    .dataframe tbody tr th {\n",
       "        vertical-align: top;\n",
       "    }\n",
       "\n",
       "    .dataframe thead th {\n",
       "        text-align: right;\n",
       "    }\n",
       "</style>\n",
       "<table border=\"1\" class=\"dataframe\">\n",
       "  <thead>\n",
       "    <tr style=\"text-align: right;\">\n",
       "      <th></th>\n",
       "      <th>BMI</th>\n",
       "      <th>Medview_Race</th>\n",
       "      <th>ScreenDate</th>\n",
       "      <th>Age</th>\n",
       "      <th>DummyID</th>\n",
       "      <th>PresIntentType</th>\n",
       "      <th>DBT</th>\n",
       "      <th>Density_Overall</th>\n",
       "    </tr>\n",
       "  </thead>\n",
       "  <tbody>\n",
       "    <tr>\n",
       "      <th>0</th>\n",
       "      <td>27.1</td>\n",
       "      <td>White</td>\n",
       "      <td>3/23/2011</td>\n",
       "      <td>67.8</td>\n",
       "      <td>2508626</td>\n",
       "      <td>FOR PROCESSING</td>\n",
       "      <td>NaN</td>\n",
       "      <td>2</td>\n",
       "    </tr>\n",
       "    <tr>\n",
       "      <th>1</th>\n",
       "      <td>25.7</td>\n",
       "      <td>White</td>\n",
       "      <td>6/2/2011</td>\n",
       "      <td>58.8</td>\n",
       "      <td>2505738</td>\n",
       "      <td>FOR PROCESSING</td>\n",
       "      <td>NaN</td>\n",
       "      <td>2</td>\n",
       "    </tr>\n",
       "    <tr>\n",
       "      <th>2</th>\n",
       "      <td>28.1</td>\n",
       "      <td>White</td>\n",
       "      <td>5/24/2011</td>\n",
       "      <td>56.4</td>\n",
       "      <td>2547962</td>\n",
       "      <td>FOR PROCESSING</td>\n",
       "      <td>NaN</td>\n",
       "      <td>2</td>\n",
       "    </tr>\n",
       "    <tr>\n",
       "      <th>3</th>\n",
       "      <td>31.8</td>\n",
       "      <td>White</td>\n",
       "      <td>5/6/2011</td>\n",
       "      <td>51.7</td>\n",
       "      <td>2575490</td>\n",
       "      <td>FOR PROCESSING</td>\n",
       "      <td>NaN</td>\n",
       "      <td>2</td>\n",
       "    </tr>\n",
       "    <tr>\n",
       "      <th>4</th>\n",
       "      <td>27.5</td>\n",
       "      <td>Other</td>\n",
       "      <td>5/5/2011</td>\n",
       "      <td>63.7</td>\n",
       "      <td>2591080</td>\n",
       "      <td>FOR PROCESSING\\</td>\n",
       "      <td>No Tomo images</td>\n",
       "      <td>2</td>\n",
       "    </tr>\n",
       "  </tbody>\n",
       "</table>\n",
       "</div>"
      ],
      "text/plain": [
       "    BMI Medview_Race ScreenDate   Age  DummyID   PresIntentType  \\\n",
       "0  27.1        White  3/23/2011  67.8  2508626   FOR PROCESSING   \n",
       "1  25.7        White   6/2/2011  58.8  2505738   FOR PROCESSING   \n",
       "2  28.1        White  5/24/2011  56.4  2547962   FOR PROCESSING   \n",
       "3  31.8        White   5/6/2011  51.7  2575490   FOR PROCESSING   \n",
       "4  27.5        Other   5/5/2011  63.7  2591080  FOR PROCESSING\\   \n",
       "\n",
       "              DBT  Density_Overall  \n",
       "0             NaN                2  \n",
       "1             NaN                2  \n",
       "2             NaN                2  \n",
       "3             NaN                2  \n",
       "4  No Tomo images                2  "
      ]
     },
     "execution_count": 8,
     "metadata": {},
     "output_type": "execute_result"
    }
   ],
   "source": [
    "truthFile = '/home/santhosr/Documents/Birad/birad_targetFile.csv'\n",
    "truth = pd.read_csv(truthFile)\n",
    "truth.head()"
   ]
  },
  {
   "cell_type": "code",
   "execution_count": 11,
   "metadata": {},
   "outputs": [],
   "source": [
    "fullPatientList = []\n",
    "patientList = {'African American':[], 'White':[]}\n",
    "\n",
    "for i in range(len(classFolders)):\n",
    "    \n",
    "    label = classFolders[i]\n",
    "    \n",
    "    fileList = os.listdir(os.path.join(dataFolder,label))\n",
    "    \n",
    "    for j in range(len(fileList)):\n",
    "        \n",
    "        patient = fileList[j].split(\"_\")[0]\n",
    "        \n",
    "        if patient not in fullPatientList:\n",
    "            \n",
    "            fullPatientList.append(patient)\n",
    "            \n",
    "            try:\n",
    "                race = truth.loc[truth.DummyID == int(patient)]['Medview_Race'].values[0]\n",
    "            except:\n",
    "                print(patient)\n",
    "            \n",
    "            if race in ['African American','White']:\n",
    "                patientList[race].append(patient) \n"
   ]
  },
  {
   "cell_type": "code",
   "execution_count": 20,
   "metadata": {},
   "outputs": [
    {
     "data": {
      "text/plain": [
       "1428"
      ]
     },
     "execution_count": 20,
     "metadata": {},
     "output_type": "execute_result"
    }
   ],
   "source": [
    "len(patientList['African American'])"
   ]
  },
  {
   "cell_type": "markdown",
   "metadata": {},
   "source": [
    "### Reshuffling with Race"
   ]
  },
  {
   "cell_type": "code",
   "execution_count": 21,
   "metadata": {},
   "outputs": [],
   "source": [
    "whiteList = np.random.choice(patientList['White'],600, replace=False)\n",
    "AAlist = np.random.choice(patientList['African American'],600, replace=False)"
   ]
  },
  {
   "cell_type": "code",
   "execution_count": 23,
   "metadata": {},
   "outputs": [],
   "source": [
    "def cleanFolderList(fileList, patientList):\n",
    "    \"\"\"\n",
    "    Given a list of patient files, it retains only those files that are from patients given in the patientList\n",
    "    \"\"\"\n",
    "    \n",
    "    cleanFileList = []\n",
    "    \n",
    "    for i in range(len(fileList)):\n",
    "        \n",
    "        patient = fileList[i].split(\"_\")[0]\n",
    "        \n",
    "        if patient in patientList['White'] or patient in patientList['African American']:\n",
    "            cleanFileList.append(fileList[i])\n",
    "            \n",
    "    return cleanFileList"
   ]
  },
  {
   "cell_type": "code",
   "execution_count": 25,
   "metadata": {},
   "outputs": [
    {
     "name": "stdout",
     "output_type": "stream",
     "text": [
      "3\n",
      "1991\n",
      "1872\n",
      "4\n",
      "134\n",
      "118\n",
      "2\n",
      "5279\n",
      "5104\n",
      "1\n",
      "1344\n",
      "1324\n"
     ]
    }
   ],
   "source": [
    "for i in range(len(classFolders)):\n",
    "    \n",
    "    label = classFolders[i]\n",
    "    \n",
    "    print(label)\n",
    "    fileList = os.listdir(os.path.join(dataFolder,label))\n",
    "    print(len(fileList))\n",
    "    fileList = cleanFolderList(fileList, patientList)\n",
    "    numFiles = len(fileList)\n",
    "    \n",
    "    print(numFiles)\n",
    "    \n",
    "    if numFiles>numImages:\n",
    "        \n",
    "        selectedFiles = np.random.choice(fileList,numImages, replace=False)\n",
    "        \n",
    "        for j in range(numImages):\n",
    "            inputFile = os.path.join(dataFolder , label, selectedFiles[j])\n",
    "            outputFile = os.path.join(newDataFolder , label, selectedFiles[j])\n",
    "            ! ln -sf $inputFile $outputFile\n",
    "            \n",
    "    else:\n",
    "        \n",
    "        for j in range(numFiles):\n",
    "            inputFile = os.path.join(dataFolder , label, fileList[j])\n",
    "            outputFile = os.path.join(newDataFolder , label, fileList[j])\n",
    "            ! ln -sf $inputFile $outputFile\n",
    "            \n",
    "        selectedFiles = np.random.choice(fileList,numImages - numFiles, replace=True)\n",
    "        \n",
    "        for j in range(numImages-numFiles):\n",
    "            inputFile = os.path.join(dataFolder , label, selectedFiles[j])\n",
    "            outputFile = os.path.join(newDataFolder , label, str(int(np.random.random()*100000))+\"_\"+selectedFiles[j])\n",
    "            ! ln -sf $inputFile $outputFile\n",
    "        "
   ]
  },
  {
   "cell_type": "code",
   "execution_count": 24,
   "metadata": {},
   "outputs": [
    {
     "data": {
      "text/plain": [
       "'/home/santhosr/Documents/Birad/ProcessedData/FullRes_RaceSampled'"
      ]
     },
     "execution_count": 24,
     "metadata": {},
     "output_type": "execute_result"
    }
   ],
   "source": [
    "newDataFolder"
   ]
  },
  {
   "cell_type": "code",
   "execution_count": null,
   "metadata": {},
   "outputs": [],
   "source": []
  }
 ],
 "metadata": {
  "kernelspec": {
   "display_name": "python3.6",
   "language": "python",
   "name": "fastai"
  },
  "language_info": {
   "codemirror_mode": {
    "name": "ipython",
    "version": 3
   },
   "file_extension": ".py",
   "mimetype": "text/x-python",
   "name": "python",
   "nbconvert_exporter": "python",
   "pygments_lexer": "ipython3",
   "version": "3.6.8"
  }
 },
 "nbformat": 4,
 "nbformat_minor": 2
}
