{
 "cells": [
  {
   "cell_type": "code",
   "execution_count": 1,
   "metadata": {
    "Collapsed": "false"
   },
   "outputs": [],
   "source": [
    "import os\n",
    "import pandas as pd \n",
    "import numpy as np "
   ]
  },
  {
   "cell_type": "code",
   "execution_count": 113,
   "metadata": {
    "Collapsed": "false"
   },
   "outputs": [],
   "source": [
    "\n",
    "df =pd.read_csv('FileList.csv')\n",
    "df['DummyID'] = df.filename.apply(lambda x : int(x.split(\"_\")[0]))"
   ]
  },
  {
   "cell_type": "code",
   "execution_count": 114,
   "metadata": {
    "Collapsed": "false"
   },
   "outputs": [
    {
     "data": {
      "text/html": [
       "<div>\n",
       "<style scoped>\n",
       "    .dataframe tbody tr th:only-of-type {\n",
       "        vertical-align: middle;\n",
       "    }\n",
       "\n",
       "    .dataframe tbody tr th {\n",
       "        vertical-align: top;\n",
       "    }\n",
       "\n",
       "    .dataframe thead th {\n",
       "        text-align: right;\n",
       "    }\n",
       "</style>\n",
       "<table border=\"1\" class=\"dataframe\">\n",
       "  <thead>\n",
       "    <tr style=\"text-align: right;\">\n",
       "      <th></th>\n",
       "      <th>filename</th>\n",
       "      <th>DummyID</th>\n",
       "    </tr>\n",
       "  </thead>\n",
       "  <tbody>\n",
       "    <tr>\n",
       "      <td>0</td>\n",
       "      <td>76254864_L_MLO_1.jpg</td>\n",
       "      <td>76254864</td>\n",
       "    </tr>\n",
       "    <tr>\n",
       "      <td>1</td>\n",
       "      <td>76869974_L_MLO_1.jpg</td>\n",
       "      <td>76869974</td>\n",
       "    </tr>\n",
       "    <tr>\n",
       "      <td>2</td>\n",
       "      <td>75980282_R_MLO_1.jpg</td>\n",
       "      <td>75980282</td>\n",
       "    </tr>\n",
       "    <tr>\n",
       "      <td>3</td>\n",
       "      <td>75365498_L_CC_1.jpg</td>\n",
       "      <td>75365498</td>\n",
       "    </tr>\n",
       "    <tr>\n",
       "      <td>4</td>\n",
       "      <td>76899031_L_CC_1.jpg</td>\n",
       "      <td>76899031</td>\n",
       "    </tr>\n",
       "  </tbody>\n",
       "</table>\n",
       "</div>"
      ],
      "text/plain": [
       "               filename   DummyID\n",
       "0  76254864_L_MLO_1.jpg  76254864\n",
       "1  76869974_L_MLO_1.jpg  76869974\n",
       "2  75980282_R_MLO_1.jpg  75980282\n",
       "3   75365498_L_CC_1.jpg  75365498\n",
       "4   76899031_L_CC_1.jpg  76899031"
      ]
     },
     "execution_count": 114,
     "metadata": {},
     "output_type": "execute_result"
    }
   ],
   "source": [
    "df.head()"
   ]
  },
  {
   "cell_type": "code",
   "execution_count": 87,
   "metadata": {
    "Collapsed": "false"
   },
   "outputs": [
    {
     "data": {
      "text/html": [
       "<div>\n",
       "<style scoped>\n",
       "    .dataframe tbody tr th:only-of-type {\n",
       "        vertical-align: middle;\n",
       "    }\n",
       "\n",
       "    .dataframe tbody tr th {\n",
       "        vertical-align: top;\n",
       "    }\n",
       "\n",
       "    .dataframe thead th {\n",
       "        text-align: right;\n",
       "    }\n",
       "</style>\n",
       "<table border=\"1\" class=\"dataframe\">\n",
       "  <thead>\n",
       "    <tr style=\"text-align: right;\">\n",
       "      <th></th>\n",
       "      <th>Age</th>\n",
       "      <th>BMI</th>\n",
       "      <th>Density_Overall</th>\n",
       "      <th>DummyID</th>\n",
       "      <th>Medview_Race</th>\n",
       "      <th>ScreenDate</th>\n",
       "    </tr>\n",
       "  </thead>\n",
       "  <tbody>\n",
       "    <tr>\n",
       "      <td>0</td>\n",
       "      <td>67.8</td>\n",
       "      <td>27.1</td>\n",
       "      <td>2.0</td>\n",
       "      <td>2508626</td>\n",
       "      <td>White</td>\n",
       "      <td>3/23/2011</td>\n",
       "    </tr>\n",
       "    <tr>\n",
       "      <td>1</td>\n",
       "      <td>58.8</td>\n",
       "      <td>25.7</td>\n",
       "      <td>2.0</td>\n",
       "      <td>2505738</td>\n",
       "      <td>White</td>\n",
       "      <td>6/2/2011</td>\n",
       "    </tr>\n",
       "    <tr>\n",
       "      <td>2</td>\n",
       "      <td>56.4</td>\n",
       "      <td>28.1</td>\n",
       "      <td>2.0</td>\n",
       "      <td>2547962</td>\n",
       "      <td>White</td>\n",
       "      <td>5/24/2011</td>\n",
       "    </tr>\n",
       "    <tr>\n",
       "      <td>3</td>\n",
       "      <td>51.7</td>\n",
       "      <td>31.8</td>\n",
       "      <td>2.0</td>\n",
       "      <td>2575490</td>\n",
       "      <td>White</td>\n",
       "      <td>5/6/2011</td>\n",
       "    </tr>\n",
       "    <tr>\n",
       "      <td>4</td>\n",
       "      <td>63.7</td>\n",
       "      <td>27.5</td>\n",
       "      <td>2.0</td>\n",
       "      <td>2591080</td>\n",
       "      <td>Other</td>\n",
       "      <td>5/5/2011</td>\n",
       "    </tr>\n",
       "  </tbody>\n",
       "</table>\n",
       "</div>"
      ],
      "text/plain": [
       "    Age   BMI  Density_Overall  DummyID Medview_Race ScreenDate\n",
       "0  67.8  27.1              2.0  2508626        White  3/23/2011\n",
       "1  58.8  25.7              2.0  2505738        White   6/2/2011\n",
       "2  56.4  28.1              2.0  2547962        White  5/24/2011\n",
       "3  51.7  31.8              2.0  2575490        White   5/6/2011\n",
       "4  63.7  27.5              2.0  2591080        Other   5/5/2011"
      ]
     },
     "execution_count": 87,
     "metadata": {},
     "output_type": "execute_result"
    }
   ],
   "source": [
    "truthFile = 'TargetFiles/TargetFile_Combined.csv'\n",
    "truthDf = pd.read_csv(truthFile)\n",
    "\n",
    "truthDf.head()"
   ]
  },
  {
   "cell_type": "code",
   "execution_count": 88,
   "metadata": {
    "Collapsed": "false"
   },
   "outputs": [],
   "source": [
    "df = df.merge(truthDf[['DummyID','Medview_Race','BMI']], on='DummyID')\n",
    "df = df[df.Medview_Race.isin(['African American','White'])]\n",
    "\n",
    "df = df[pd.isna(df.BMI)==False]"
   ]
  },
  {
   "cell_type": "code",
   "execution_count": 89,
   "metadata": {
    "Collapsed": "false"
   },
   "outputs": [
    {
     "data": {
      "text/plain": [
       "4    14104\n",
       "8      641\n",
       "2       27\n",
       "3        9\n",
       "1        2\n",
       "6        1\n",
       "Name: DummyID, dtype: int64"
      ]
     },
     "execution_count": 89,
     "metadata": {},
     "output_type": "execute_result"
    }
   ],
   "source": [
    "df.DummyID.value_counts().value_counts()"
   ]
  },
  {
   "cell_type": "code",
   "execution_count": null,
   "metadata": {
    "Collapsed": "false"
   },
   "outputs": [],
   "source": []
  },
  {
   "cell_type": "code",
   "execution_count": 90,
   "metadata": {
    "Collapsed": "false"
   },
   "outputs": [
    {
     "name": "stderr",
     "output_type": "stream",
     "text": [
      "/Users/roshansk/opt/anaconda3/lib/python3.7/site-packages/ipykernel_launcher.py:10: SettingWithCopyWarning: \n",
      "A value is trying to be set on a copy of a slice from a DataFrame.\n",
      "Try using .loc[row_indexer,col_indexer] = value instead\n",
      "\n",
      "See the caveats in the documentation: http://pandas.pydata.org/pandas-docs/stable/user_guide/indexing.html#returning-a-view-versus-a-copy\n",
      "  # Remove the CWD from sys.path while we load stuff.\n"
     ]
    }
   ],
   "source": [
    "dummyCount = df.DummyID.value_counts().reset_index()\n",
    "dummyCount.columns = ['DummyID','counts']\n",
    "\n",
    "#Selecting all women with 4 images\n",
    "finalDf = df[df.DummyID.isin(dummyCount[dummyCount.counts==4]['DummyID'])]\n",
    "\n",
    "\n",
    "#Select the white women with duplicate images\n",
    "tempDf = df[df.DummyID.isin(dummyCount[dummyCount.counts==8]['DummyID'])]\n",
    "tempDf['drop'] = tempDf.filename.apply(lambda x : 'FOR' in x)  #Drop with filenames with FOR PROCESSING in it\n",
    "whiteDf=tempDf[tempDf['drop']==False]\n",
    "whiteDf.drop('drop',inplace = True, axis = 1)\n",
    "finalDf = pd.concat([finalDf,whiteDf], axis =0)"
   ]
  },
  {
   "cell_type": "code",
   "execution_count": null,
   "metadata": {
    "Collapsed": "false"
   },
   "outputs": [],
   "source": [
    "def generateDataList(dataFolder, truthFile, includeWhiteDuplicates = True):\n",
    "    \n",
    "    fileList = os.listdir(dataFolder)\n",
    "    df = pd.DataFrame(fileList)\n",
    "    df.columns = ['filename']\n",
    "    df['DummyID'] = df.filename.apply(lambda x : int(x.split(\"_\")[0]))\n",
    "\n",
    "    truthDf = pd.read_csv(truthFile)\n",
    "\n",
    "    df = df.merge(truthDf[['DummyID','Medview_Race','BMI']], on='DummyID')\n",
    "    df = df[df.Medview_Race.isin(['African American','White'])]\n",
    "\n",
    "    df = df[pd.isna(df.BMI)==False]\n",
    "\n",
    "\n",
    "    dummyCount = df.DummyID.value_counts().reset_index()\n",
    "    dummyCount.columns = ['DummyID','counts']\n",
    "\n",
    "    #Selecting all women with 4 images\n",
    "    finalDf = df[df.DummyID.isin(dummyCount[dummyCount.counts==4]['DummyID'])]\n",
    "\n",
    "    #Select the white women with duplicate images\n",
    "    if includeWhiteDuplicates ==True:\n",
    "        tempDf = df[df.DummyID.isin(dummyCount[dummyCount.counts==8]['DummyID'])]\n",
    "        tempDf['drop'] = tempDf.filename.apply(lambda x : 'FOR' in x)  #Drop with filenames with FOR PROCESSING in it\n",
    "        whiteDf=tempDf[tempDf['drop']==False]\n",
    "        whiteDf.drop('drop',inplace = True, axis = 1)\n",
    "        finalDf = pd.concat([finalDf,whiteDf], axis =0)\n",
    "        \n",
    "        \n",
    "    return finalDf"
   ]
  },
  {
   "cell_type": "code",
   "execution_count": 76,
   "metadata": {
    "Collapsed": "false"
   },
   "outputs": [
    {
     "data": {
      "text/plain": [
       "62108"
      ]
     },
     "execution_count": 76,
     "metadata": {},
     "output_type": "execute_result"
    }
   ],
   "source": [
    "len(finalDf)"
   ]
  },
  {
   "cell_type": "code",
   "execution_count": 115,
   "metadata": {
    "Collapsed": "false"
   },
   "outputs": [
    {
     "data": {
      "text/html": [
       "<div>\n",
       "<style scoped>\n",
       "    .dataframe tbody tr th:only-of-type {\n",
       "        vertical-align: middle;\n",
       "    }\n",
       "\n",
       "    .dataframe tbody tr th {\n",
       "        vertical-align: top;\n",
       "    }\n",
       "\n",
       "    .dataframe thead th {\n",
       "        text-align: right;\n",
       "    }\n",
       "</style>\n",
       "<table border=\"1\" class=\"dataframe\">\n",
       "  <thead>\n",
       "    <tr style=\"text-align: right;\">\n",
       "      <th></th>\n",
       "      <th>filename</th>\n",
       "      <th>DummyID</th>\n",
       "      <th>Medview_Race</th>\n",
       "      <th>BMI</th>\n",
       "    </tr>\n",
       "  </thead>\n",
       "  <tbody>\n",
       "    <tr>\n",
       "      <td>0</td>\n",
       "      <td>76254864_L_MLO_1.jpg</td>\n",
       "      <td>76254864</td>\n",
       "      <td>White</td>\n",
       "      <td>23.1</td>\n",
       "    </tr>\n",
       "    <tr>\n",
       "      <td>1</td>\n",
       "      <td>76254864_R_CC_1.jpg</td>\n",
       "      <td>76254864</td>\n",
       "      <td>White</td>\n",
       "      <td>23.1</td>\n",
       "    </tr>\n",
       "    <tr>\n",
       "      <td>2</td>\n",
       "      <td>76254864_L_CC_1.jpg</td>\n",
       "      <td>76254864</td>\n",
       "      <td>White</td>\n",
       "      <td>23.1</td>\n",
       "    </tr>\n",
       "    <tr>\n",
       "      <td>3</td>\n",
       "      <td>76254864_R_MLO_1.jpg</td>\n",
       "      <td>76254864</td>\n",
       "      <td>White</td>\n",
       "      <td>23.1</td>\n",
       "    </tr>\n",
       "    <tr>\n",
       "      <td>4</td>\n",
       "      <td>76869974_L_MLO_1.jpg</td>\n",
       "      <td>76869974</td>\n",
       "      <td>African American</td>\n",
       "      <td>38.1</td>\n",
       "    </tr>\n",
       "  </tbody>\n",
       "</table>\n",
       "</div>"
      ],
      "text/plain": [
       "               filename   DummyID      Medview_Race   BMI\n",
       "0  76254864_L_MLO_1.jpg  76254864             White  23.1\n",
       "1   76254864_R_CC_1.jpg  76254864             White  23.1\n",
       "2   76254864_L_CC_1.jpg  76254864             White  23.1\n",
       "3  76254864_R_MLO_1.jpg  76254864             White  23.1\n",
       "4  76869974_L_MLO_1.jpg  76869974  African American  38.1"
      ]
     },
     "execution_count": 115,
     "metadata": {},
     "output_type": "execute_result"
    }
   ],
   "source": [
    "finalDf.head()"
   ]
  },
  {
   "cell_type": "code",
   "execution_count": 91,
   "metadata": {
    "Collapsed": "false"
   },
   "outputs": [
    {
     "data": {
      "text/plain": [
       "0"
      ]
     },
     "execution_count": 91,
     "metadata": {},
     "output_type": "execute_result"
    }
   ],
   "source": [
    "np.sum(pd.isna(finalDf.BMI))"
   ]
  },
  {
   "cell_type": "code",
   "execution_count": 19,
   "metadata": {
    "Collapsed": "false"
   },
   "outputs": [
    {
     "data": {
      "text/html": [
       "<div>\n",
       "<style scoped>\n",
       "    .dataframe tbody tr th:only-of-type {\n",
       "        vertical-align: middle;\n",
       "    }\n",
       "\n",
       "    .dataframe tbody tr th {\n",
       "        vertical-align: top;\n",
       "    }\n",
       "\n",
       "    .dataframe thead th {\n",
       "        text-align: right;\n",
       "    }\n",
       "</style>\n",
       "<table border=\"1\" class=\"dataframe\">\n",
       "  <thead>\n",
       "    <tr style=\"text-align: right;\">\n",
       "      <th></th>\n",
       "      <th>filename</th>\n",
       "      <th>DummyID</th>\n",
       "      <th>Medview_Race</th>\n",
       "    </tr>\n",
       "  </thead>\n",
       "  <tbody>\n",
       "    <tr>\n",
       "      <td>37141</td>\n",
       "      <td>76075198_R_CC_1.jpg</td>\n",
       "      <td>76075198</td>\n",
       "      <td>White</td>\n",
       "    </tr>\n",
       "    <tr>\n",
       "      <td>37142</td>\n",
       "      <td>76075198_FOR-PROCESSING_R_MLO_1.jpg</td>\n",
       "      <td>76075198</td>\n",
       "      <td>White</td>\n",
       "    </tr>\n",
       "    <tr>\n",
       "      <td>37143</td>\n",
       "      <td>76075198_L_MLO_1.jpg</td>\n",
       "      <td>76075198</td>\n",
       "      <td>White</td>\n",
       "    </tr>\n",
       "    <tr>\n",
       "      <td>37144</td>\n",
       "      <td>76075198_FOR-PROCESSING_L_MLO_1.jpg</td>\n",
       "      <td>76075198</td>\n",
       "      <td>White</td>\n",
       "    </tr>\n",
       "    <tr>\n",
       "      <td>37145</td>\n",
       "      <td>76075198_R_MLO_1.jpg</td>\n",
       "      <td>76075198</td>\n",
       "      <td>White</td>\n",
       "    </tr>\n",
       "    <tr>\n",
       "      <td>37146</td>\n",
       "      <td>76075198_FOR-PROCESSING_L_CC_1.jpg</td>\n",
       "      <td>76075198</td>\n",
       "      <td>White</td>\n",
       "    </tr>\n",
       "    <tr>\n",
       "      <td>37147</td>\n",
       "      <td>76075198_L_CC_1.jpg</td>\n",
       "      <td>76075198</td>\n",
       "      <td>White</td>\n",
       "    </tr>\n",
       "    <tr>\n",
       "      <td>37148</td>\n",
       "      <td>76075198_FOR-PROCESSING_R_CC_1.jpg</td>\n",
       "      <td>76075198</td>\n",
       "      <td>White</td>\n",
       "    </tr>\n",
       "  </tbody>\n",
       "</table>\n",
       "</div>"
      ],
      "text/plain": [
       "                                  filename   DummyID Medview_Race\n",
       "37141                  76075198_R_CC_1.jpg  76075198        White\n",
       "37142  76075198_FOR-PROCESSING_R_MLO_1.jpg  76075198        White\n",
       "37143                 76075198_L_MLO_1.jpg  76075198        White\n",
       "37144  76075198_FOR-PROCESSING_L_MLO_1.jpg  76075198        White\n",
       "37145                 76075198_R_MLO_1.jpg  76075198        White\n",
       "37146   76075198_FOR-PROCESSING_L_CC_1.jpg  76075198        White\n",
       "37147                  76075198_L_CC_1.jpg  76075198        White\n",
       "37148   76075198_FOR-PROCESSING_R_CC_1.jpg  76075198        White"
      ]
     },
     "execution_count": 19,
     "metadata": {},
     "output_type": "execute_result"
    }
   ],
   "source": [
    "df[df.DummyID==76075198]"
   ]
  },
  {
   "cell_type": "code",
   "execution_count": 20,
   "metadata": {
    "Collapsed": "false"
   },
   "outputs": [
    {
     "data": {
      "text/html": [
       "<div>\n",
       "<style scoped>\n",
       "    .dataframe tbody tr th:only-of-type {\n",
       "        vertical-align: middle;\n",
       "    }\n",
       "\n",
       "    .dataframe tbody tr th {\n",
       "        vertical-align: top;\n",
       "    }\n",
       "\n",
       "    .dataframe thead th {\n",
       "        text-align: right;\n",
       "    }\n",
       "</style>\n",
       "<table border=\"1\" class=\"dataframe\">\n",
       "  <thead>\n",
       "    <tr style=\"text-align: right;\">\n",
       "      <th></th>\n",
       "      <th>filename</th>\n",
       "      <th>DummyID</th>\n",
       "      <th>Medview_Race</th>\n",
       "    </tr>\n",
       "  </thead>\n",
       "  <tbody>\n",
       "    <tr>\n",
       "      <td>34346</td>\n",
       "      <td>5201374_FOR-PROCESSING_R_MLO_1.jpg</td>\n",
       "      <td>5201374</td>\n",
       "      <td>White</td>\n",
       "    </tr>\n",
       "    <tr>\n",
       "      <td>34347</td>\n",
       "      <td>5201374_FOR-PROCESSING_L_CC_1.jpg</td>\n",
       "      <td>5201374</td>\n",
       "      <td>White</td>\n",
       "    </tr>\n",
       "    <tr>\n",
       "      <td>34348</td>\n",
       "      <td>5201374_L_CC_1.jpg</td>\n",
       "      <td>5201374</td>\n",
       "      <td>White</td>\n",
       "    </tr>\n",
       "    <tr>\n",
       "      <td>34349</td>\n",
       "      <td>5201374_FOR-PROCESSING_R_CC_1.jpg</td>\n",
       "      <td>5201374</td>\n",
       "      <td>White</td>\n",
       "    </tr>\n",
       "    <tr>\n",
       "      <td>34350</td>\n",
       "      <td>5201374_R_MLO_1.jpg</td>\n",
       "      <td>5201374</td>\n",
       "      <td>White</td>\n",
       "    </tr>\n",
       "    <tr>\n",
       "      <td>34351</td>\n",
       "      <td>5201374_L_MLO_1.jpg</td>\n",
       "      <td>5201374</td>\n",
       "      <td>White</td>\n",
       "    </tr>\n",
       "    <tr>\n",
       "      <td>34352</td>\n",
       "      <td>5201374_FOR-PROCESSING_L_MLO_1.jpg</td>\n",
       "      <td>5201374</td>\n",
       "      <td>White</td>\n",
       "    </tr>\n",
       "    <tr>\n",
       "      <td>34353</td>\n",
       "      <td>5201374_R_CC_1.jpg</td>\n",
       "      <td>5201374</td>\n",
       "      <td>White</td>\n",
       "    </tr>\n",
       "  </tbody>\n",
       "</table>\n",
       "</div>"
      ],
      "text/plain": [
       "                                 filename  DummyID Medview_Race\n",
       "34346  5201374_FOR-PROCESSING_R_MLO_1.jpg  5201374        White\n",
       "34347   5201374_FOR-PROCESSING_L_CC_1.jpg  5201374        White\n",
       "34348                  5201374_L_CC_1.jpg  5201374        White\n",
       "34349   5201374_FOR-PROCESSING_R_CC_1.jpg  5201374        White\n",
       "34350                 5201374_R_MLO_1.jpg  5201374        White\n",
       "34351                 5201374_L_MLO_1.jpg  5201374        White\n",
       "34352  5201374_FOR-PROCESSING_L_MLO_1.jpg  5201374        White\n",
       "34353                  5201374_R_CC_1.jpg  5201374        White"
      ]
     },
     "execution_count": 20,
     "metadata": {},
     "output_type": "execute_result"
    }
   ],
   "source": [
    "df[df.DummyID==5201374]"
   ]
  },
  {
   "cell_type": "code",
   "execution_count": 30,
   "metadata": {
    "Collapsed": "false"
   },
   "outputs": [],
   "source": [
    "edf = df[df.DummyID.isin(e[e.DummyID==8]['index'])]"
   ]
  },
  {
   "cell_type": "code",
   "execution_count": 31,
   "metadata": {
    "Collapsed": "false"
   },
   "outputs": [
    {
     "data": {
      "text/plain": [
       "5528"
      ]
     },
     "execution_count": 31,
     "metadata": {},
     "output_type": "execute_result"
    }
   ],
   "source": [
    "len(edf)"
   ]
  },
  {
   "cell_type": "code",
   "execution_count": 94,
   "metadata": {
    "Collapsed": "false"
   },
   "outputs": [],
   "source": [
    "def getBMIData(aa, white, bmi_min, bmi_max):\n",
    "    \n",
    "    aaSub = aa[(aa.BMI>=bmi_min) & (aa.BMI<bmi_max)]\n",
    "    whiteSub = white[(white.BMI>=bmi_min) & (white.BMI<bmi_max)]\n",
    "\n",
    "    maxSamples = min(len(whiteSub), len(aaSub))\n",
    "    \n",
    "    if maxSamples==0:\n",
    "        return pd.DataFrame()\n",
    "    \n",
    "    \n",
    "    #Subsetting to keep only maxSamples number of samples in each subset\n",
    "    aaSub = aaSub.sample(n=maxSamples, replace = False)\n",
    "    whiteSub = whiteSub.sample(n=maxSamples, replace = False)\n",
    "    \n",
    "    #Figuring out the number of samples in train/valid\n",
    "    numTrain = int(0.8*maxSamples)\n",
    "    numValid = maxSamples - numTrain\n",
    "    \n",
    "    \n",
    "    \n",
    "    aaTrain = np.random.choice(aaSub.DummyID, numTrain,replace = False)\n",
    "    whiteTrain = np.random.choice(whiteSub.DummyID, numTrain,replace = False)\n",
    "    \n",
    "    aaValid = np.array(list(set(aaSub.DummyID.values).difference(set(aaTrain))))\n",
    "    whiteValid = np.array(list(set(whiteSub.DummyID.values).difference(set(whiteTrain))))\n",
    "    \n",
    "    d =  pd.concat([\n",
    "        pd.DataFrame({'DummyID':aaTrain,'train':False}),\n",
    "        pd.DataFrame({'DummyID':whiteTrain,'train':False}),\n",
    "        pd.DataFrame({'DummyID':aaValid,'train':True}),\n",
    "        pd.DataFrame({'DummyID':whiteValid,'train':True})\n",
    "    ])\n",
    "    \n",
    "    print(\"Max Samples : {} numTrain  : {} df len : {}\".format(maxSamples, numTrain, len(d)))\n",
    "    \n",
    "    return d"
   ]
  },
  {
   "cell_type": "code",
   "execution_count": 109,
   "metadata": {
    "Collapsed": "false"
   },
   "outputs": [],
   "source": [
    "def createBMIDataset(df, numPatients, bmi_buckets = [0,20,30,40,50,55,60,100]):\n",
    "\n",
    "    #Restricting patient base\n",
    "    \n",
    "    patientList = df.DummyID.unique()\n",
    "    df = df[df.DummyID.isin(patientList[:numPatients])]\n",
    "\n",
    "    \n",
    "    #Creates equal number of patients from White and AA groups\n",
    "    white = df[df.Medview_Race=='White']\n",
    "    AA = df[df.Medview_Race=='African American']\n",
    "\n",
    "\n",
    "    outputDf = pd.DataFrame()\n",
    "\n",
    "    for i in range(len(bmi_buckets)-1):\n",
    "        out = getBMIData(AA,white, bmi_buckets[i], bmi_buckets[i+1])\n",
    "\n",
    "        outputDf = pd.concat([outputDf, out])\n",
    "        \n",
    "    df = df.merge(outputDf, on='DummyID')\n",
    "\n",
    "    #Shuffling data\n",
    "    index = list(range(len(df)))\n",
    "    np.random.shuffle(index)\n",
    "    df = df.iloc[index]\n",
    "    \n",
    "    return df\n"
   ]
  },
  {
   "cell_type": "code",
   "execution_count": 110,
   "metadata": {
    "Collapsed": "false"
   },
   "outputs": [
    {
     "name": "stdout",
     "output_type": "stream",
     "text": [
      "Max Samples : 540 numTrain  : 432 df len : 876\n",
      "Max Samples : 8456 numTrain  : 6764 df len : 13581\n",
      "Max Samples : 2284 numTrain  : 1827 df len : 3920\n",
      "Max Samples : 412 numTrain  : 329 df len : 709\n",
      "Max Samples : 40 numTrain  : 32 df len : 71\n",
      "Max Samples : 8 numTrain  : 6 df len : 13\n",
      "Max Samples : 4 numTrain  : 3 df len : 7\n"
     ]
    }
   ],
   "source": [
    "out = createBMIDataset(finalDf, 10000)"
   ]
  },
  {
   "cell_type": "code",
   "execution_count": 111,
   "metadata": {
    "Collapsed": "false"
   },
   "outputs": [
    {
     "data": {
      "text/html": [
       "<div>\n",
       "<style scoped>\n",
       "    .dataframe tbody tr th:only-of-type {\n",
       "        vertical-align: middle;\n",
       "    }\n",
       "\n",
       "    .dataframe tbody tr th {\n",
       "        vertical-align: top;\n",
       "    }\n",
       "\n",
       "    .dataframe thead th {\n",
       "        text-align: right;\n",
       "    }\n",
       "</style>\n",
       "<table border=\"1\" class=\"dataframe\">\n",
       "  <thead>\n",
       "    <tr style=\"text-align: right;\">\n",
       "      <th></th>\n",
       "      <th>filename</th>\n",
       "      <th>DummyID</th>\n",
       "      <th>Medview_Race</th>\n",
       "      <th>BMI</th>\n",
       "      <th>train</th>\n",
       "    </tr>\n",
       "  </thead>\n",
       "  <tbody>\n",
       "    <tr>\n",
       "      <td>31441</td>\n",
       "      <td>76676224_FOR-PROCESSING_R_CC_1.jpg</td>\n",
       "      <td>76676224</td>\n",
       "      <td>White</td>\n",
       "      <td>22.7</td>\n",
       "      <td>False</td>\n",
       "    </tr>\n",
       "    <tr>\n",
       "      <td>37237</td>\n",
       "      <td>3640282_L_CC_1.jpg</td>\n",
       "      <td>3640282</td>\n",
       "      <td>African American</td>\n",
       "      <td>23.3</td>\n",
       "      <td>False</td>\n",
       "    </tr>\n",
       "    <tr>\n",
       "      <td>19090</td>\n",
       "      <td>75767705_FOR-PROCESSING_L_MLO_1.jpg</td>\n",
       "      <td>75767705</td>\n",
       "      <td>White</td>\n",
       "      <td>28.9</td>\n",
       "      <td>False</td>\n",
       "    </tr>\n",
       "    <tr>\n",
       "      <td>66306</td>\n",
       "      <td>75485172_FOR-PROCESSING_R_MLO_1.jpg</td>\n",
       "      <td>75485172</td>\n",
       "      <td>White</td>\n",
       "      <td>26.8</td>\n",
       "      <td>False</td>\n",
       "    </tr>\n",
       "    <tr>\n",
       "      <td>52648</td>\n",
       "      <td>75775002_FOR-PROCESSING_L_MLO_1.jpg</td>\n",
       "      <td>75775002</td>\n",
       "      <td>White</td>\n",
       "      <td>28.7</td>\n",
       "      <td>False</td>\n",
       "    </tr>\n",
       "  </tbody>\n",
       "</table>\n",
       "</div>"
      ],
      "text/plain": [
       "                                  filename   DummyID      Medview_Race   BMI  \\\n",
       "31441   76676224_FOR-PROCESSING_R_CC_1.jpg  76676224             White  22.7   \n",
       "37237                   3640282_L_CC_1.jpg   3640282  African American  23.3   \n",
       "19090  75767705_FOR-PROCESSING_L_MLO_1.jpg  75767705             White  28.9   \n",
       "66306  75485172_FOR-PROCESSING_R_MLO_1.jpg  75485172             White  26.8   \n",
       "52648  75775002_FOR-PROCESSING_L_MLO_1.jpg  75775002             White  28.7   \n",
       "\n",
       "       train  \n",
       "31441  False  \n",
       "37237  False  \n",
       "19090  False  \n",
       "66306  False  \n",
       "52648  False  "
      ]
     },
     "execution_count": 111,
     "metadata": {},
     "output_type": "execute_result"
    }
   ],
   "source": [
    "out.head()"
   ]
  },
  {
   "cell_type": "code",
   "execution_count": 112,
   "metadata": {
    "Collapsed": "false"
   },
   "outputs": [
    {
     "data": {
      "text/plain": [
       "7991"
      ]
     },
     "execution_count": 112,
     "metadata": {},
     "output_type": "execute_result"
    }
   ],
   "source": [
    "out.DummyID.nunique()"
   ]
  },
  {
   "cell_type": "code",
   "execution_count": null,
   "metadata": {
    "Collapsed": "false"
   },
   "outputs": [],
   "source": []
  },
  {
   "cell_type": "code",
   "execution_count": null,
   "metadata": {
    "Collapsed": "false"
   },
   "outputs": [],
   "source": []
  },
  {
   "cell_type": "code",
   "execution_count": null,
   "metadata": {
    "Collapsed": "false"
   },
   "outputs": [],
   "source": []
  },
  {
   "cell_type": "code",
   "execution_count": null,
   "metadata": {
    "Collapsed": "false"
   },
   "outputs": [],
   "source": []
  },
  {
   "cell_type": "code",
   "execution_count": 99,
   "metadata": {
    "Collapsed": "false"
   },
   "outputs": [
    {
     "name": "stdout",
     "output_type": "stream",
     "text": [
      "Max Samples : 740 numTrain  : 592 df len : 1223\n",
      "Max Samples : 13660 numTrain  : 10928 df len : 21891\n",
      "Max Samples : 3720 numTrain  : 2976 df len : 6352\n",
      "Max Samples : 656 numTrain  : 524 df len : 1135\n",
      "Max Samples : 60 numTrain  : 48 df len : 104\n",
      "Max Samples : 12 numTrain  : 9 df len : 21\n",
      "Max Samples : 4 numTrain  : 3 df len : 7\n"
     ]
    }
   ],
   "source": [
    "df = finalDf.copy()\n",
    "bmi_buckets = [0,20,30,40,50,55,60,100]\n",
    "\n",
    "\n",
    "patientList = df.DummyID.unique()\n",
    "\n",
    "white = df[df.Medview_Race=='White']\n",
    "AA = df[df.Medview_Race=='African American']\n",
    "\n",
    "\n",
    "outputDf = pd.DataFrame()\n",
    "\n",
    "for i in range(len(bmi_buckets)-1):\n",
    "    out = getBMIData(AA,white, bmi_buckets[i], bmi_buckets[i+1])\n",
    "\n",
    "    outputDf = pd.concat([outputDf, out])"
   ]
  },
  {
   "cell_type": "code",
   "execution_count": 100,
   "metadata": {
    "Collapsed": "false"
   },
   "outputs": [
    {
     "data": {
      "text/html": [
       "<div>\n",
       "<style scoped>\n",
       "    .dataframe tbody tr th:only-of-type {\n",
       "        vertical-align: middle;\n",
       "    }\n",
       "\n",
       "    .dataframe tbody tr th {\n",
       "        vertical-align: top;\n",
       "    }\n",
       "\n",
       "    .dataframe thead th {\n",
       "        text-align: right;\n",
       "    }\n",
       "</style>\n",
       "<table border=\"1\" class=\"dataframe\">\n",
       "  <thead>\n",
       "    <tr style=\"text-align: right;\">\n",
       "      <th></th>\n",
       "      <th>DummyID</th>\n",
       "      <th>train</th>\n",
       "    </tr>\n",
       "  </thead>\n",
       "  <tbody>\n",
       "    <tr>\n",
       "      <td>0</td>\n",
       "      <td>4704002.0</td>\n",
       "      <td>False</td>\n",
       "    </tr>\n",
       "    <tr>\n",
       "      <td>1</td>\n",
       "      <td>3451937.0</td>\n",
       "      <td>False</td>\n",
       "    </tr>\n",
       "    <tr>\n",
       "      <td>2</td>\n",
       "      <td>75245116.0</td>\n",
       "      <td>False</td>\n",
       "    </tr>\n",
       "    <tr>\n",
       "      <td>3</td>\n",
       "      <td>5162527.0</td>\n",
       "      <td>False</td>\n",
       "    </tr>\n",
       "    <tr>\n",
       "      <td>4</td>\n",
       "      <td>75192210.0</td>\n",
       "      <td>False</td>\n",
       "    </tr>\n",
       "  </tbody>\n",
       "</table>\n",
       "</div>"
      ],
      "text/plain": [
       "      DummyID  train\n",
       "0   4704002.0  False\n",
       "1   3451937.0  False\n",
       "2  75245116.0  False\n",
       "3   5162527.0  False\n",
       "4  75192210.0  False"
      ]
     },
     "execution_count": 100,
     "metadata": {},
     "output_type": "execute_result"
    }
   ],
   "source": [
    "outputDf.head()"
   ]
  },
  {
   "cell_type": "code",
   "execution_count": 102,
   "metadata": {
    "Collapsed": "false"
   },
   "outputs": [],
   "source": [
    "df = df.merge(outputDf, on='DummyID')"
   ]
  },
  {
   "cell_type": "code",
   "execution_count": 103,
   "metadata": {
    "Collapsed": "false"
   },
   "outputs": [
    {
     "data": {
      "text/plain": [
       "122932"
      ]
     },
     "execution_count": 103,
     "metadata": {},
     "output_type": "execute_result"
    }
   ],
   "source": [
    "len(df)"
   ]
  },
  {
   "cell_type": "code",
   "execution_count": 104,
   "metadata": {
    "Collapsed": "false"
   },
   "outputs": [
    {
     "data": {
      "text/plain": [
       "30733"
      ]
     },
     "execution_count": 104,
     "metadata": {},
     "output_type": "execute_result"
    }
   ],
   "source": [
    "len(outputDf)"
   ]
  },
  {
   "cell_type": "code",
   "execution_count": 106,
   "metadata": {
    "Collapsed": "false"
   },
   "outputs": [
    {
     "data": {
      "text/html": [
       "<div>\n",
       "<style scoped>\n",
       "    .dataframe tbody tr th:only-of-type {\n",
       "        vertical-align: middle;\n",
       "    }\n",
       "\n",
       "    .dataframe tbody tr th {\n",
       "        vertical-align: top;\n",
       "    }\n",
       "\n",
       "    .dataframe thead th {\n",
       "        text-align: right;\n",
       "    }\n",
       "</style>\n",
       "<table border=\"1\" class=\"dataframe\">\n",
       "  <thead>\n",
       "    <tr style=\"text-align: right;\">\n",
       "      <th></th>\n",
       "      <th>filename</th>\n",
       "      <th>DummyID</th>\n",
       "      <th>Medview_Race</th>\n",
       "      <th>BMI</th>\n",
       "      <th>train</th>\n",
       "    </tr>\n",
       "  </thead>\n",
       "  <tbody>\n",
       "    <tr>\n",
       "      <td>0</td>\n",
       "      <td>76254864_L_MLO_1.jpg</td>\n",
       "      <td>76254864</td>\n",
       "      <td>White</td>\n",
       "      <td>23.1</td>\n",
       "      <td>False</td>\n",
       "    </tr>\n",
       "    <tr>\n",
       "      <td>1</td>\n",
       "      <td>76254864_L_MLO_1.jpg</td>\n",
       "      <td>76254864</td>\n",
       "      <td>White</td>\n",
       "      <td>23.1</td>\n",
       "      <td>False</td>\n",
       "    </tr>\n",
       "    <tr>\n",
       "      <td>2</td>\n",
       "      <td>76254864_L_MLO_1.jpg</td>\n",
       "      <td>76254864</td>\n",
       "      <td>White</td>\n",
       "      <td>23.1</td>\n",
       "      <td>False</td>\n",
       "    </tr>\n",
       "    <tr>\n",
       "      <td>3</td>\n",
       "      <td>76254864_R_CC_1.jpg</td>\n",
       "      <td>76254864</td>\n",
       "      <td>White</td>\n",
       "      <td>23.1</td>\n",
       "      <td>False</td>\n",
       "    </tr>\n",
       "    <tr>\n",
       "      <td>4</td>\n",
       "      <td>76254864_R_CC_1.jpg</td>\n",
       "      <td>76254864</td>\n",
       "      <td>White</td>\n",
       "      <td>23.1</td>\n",
       "      <td>False</td>\n",
       "    </tr>\n",
       "  </tbody>\n",
       "</table>\n",
       "</div>"
      ],
      "text/plain": [
       "               filename   DummyID Medview_Race   BMI  train\n",
       "0  76254864_L_MLO_1.jpg  76254864        White  23.1  False\n",
       "1  76254864_L_MLO_1.jpg  76254864        White  23.1  False\n",
       "2  76254864_L_MLO_1.jpg  76254864        White  23.1  False\n",
       "3   76254864_R_CC_1.jpg  76254864        White  23.1  False\n",
       "4   76254864_R_CC_1.jpg  76254864        White  23.1  False"
      ]
     },
     "execution_count": 106,
     "metadata": {},
     "output_type": "execute_result"
    }
   ],
   "source": [
    "df.head()"
   ]
  },
  {
   "cell_type": "code",
   "execution_count": 107,
   "metadata": {
    "Collapsed": "false"
   },
   "outputs": [],
   "source": [
    "patientList = df.DummyID.unique()"
   ]
  },
  {
   "cell_type": "code",
   "execution_count": 108,
   "metadata": {
    "Collapsed": "false"
   },
   "outputs": [
    {
     "data": {
      "text/plain": [
       "12205"
      ]
     },
     "execution_count": 108,
     "metadata": {},
     "output_type": "execute_result"
    }
   ],
   "source": [
    "len(patientList)"
   ]
  },
  {
   "cell_type": "code",
   "execution_count": 42,
   "metadata": {
    "Collapsed": "false"
   },
   "outputs": [
    {
     "data": {
      "text/plain": [
       "691.0"
      ]
     },
     "execution_count": 42,
     "metadata": {},
     "output_type": "execute_result"
    }
   ],
   "source": [
    "df = df[df.DummyID.isin(patientList[:])]"
   ]
  },
  {
   "cell_type": "code",
   "execution_count": null,
   "metadata": {
    "Collapsed": "false"
   },
   "outputs": [],
   "source": []
  }
 ],
 "metadata": {
  "kernelspec": {
   "display_name": "Python 3",
   "language": "python",
   "name": "python3"
  },
  "language_info": {
   "codemirror_mode": {
    "name": "ipython",
    "version": 3
   },
   "file_extension": ".py",
   "mimetype": "text/x-python",
   "name": "python",
   "nbconvert_exporter": "python",
   "pygments_lexer": "ipython3",
   "version": "3.7.4"
  }
 },
 "nbformat": 4,
 "nbformat_minor": 4
}
