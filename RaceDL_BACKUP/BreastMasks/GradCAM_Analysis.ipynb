{
 "cells": [
  {
   "cell_type": "code",
   "execution_count": 1,
   "metadata": {},
   "outputs": [],
   "source": [
    "from tqdm import tqdm\n",
    "import warnings\n",
    "warnings.filterwarnings(\"ignore\")\n",
    "import pandas as pd\n",
    "import numpy as np\n",
    "import os\n",
    "import torchvision\n",
    "from fastai.callbacks import *\n",
    "from scipy import ndimage\n",
    "import pickle\n",
    "\n",
    "import numpy as np\n",
    "import pandas as pd\n",
    "import os\n",
    "from imageio import imread\n",
    "from scipy.io import loadmat\n",
    "from tqdm import tqdm\n",
    "\n",
    "import matplotlib.pyplot as plt\n",
    "%matplotlib inline"
   ]
  },
  {
   "cell_type": "code",
   "execution_count": 2,
   "metadata": {},
   "outputs": [],
   "source": [
    "markerData = pd.read_csv('markerData.csv',sep=\"|\",header=None)\n",
    "\n",
    "markerData.columns = ['filename','markers','lastPoint','vertMidPoint','imageWidth']\n",
    "\n",
    "markerData = markerData.drop_duplicates()"
   ]
  },
  {
   "cell_type": "code",
   "execution_count": 3,
   "metadata": {},
   "outputs": [
    {
     "data": {
      "text/html": [
       "<div>\n",
       "<style scoped>\n",
       "    .dataframe tbody tr th:only-of-type {\n",
       "        vertical-align: middle;\n",
       "    }\n",
       "\n",
       "    .dataframe tbody tr th {\n",
       "        vertical-align: top;\n",
       "    }\n",
       "\n",
       "    .dataframe thead th {\n",
       "        text-align: right;\n",
       "    }\n",
       "</style>\n",
       "<table border=\"1\" class=\"dataframe\">\n",
       "  <thead>\n",
       "    <tr style=\"text-align: right;\">\n",
       "      <th></th>\n",
       "      <th>filename</th>\n",
       "      <th>markers</th>\n",
       "      <th>lastPoint</th>\n",
       "      <th>vertMidPoint</th>\n",
       "      <th>imageWidth</th>\n",
       "    </tr>\n",
       "  </thead>\n",
       "  <tbody>\n",
       "    <tr>\n",
       "      <th>0</th>\n",
       "      <td>75181645_R_CC_1</td>\n",
       "      <td>[0.0, 378.0, 756.0, 1133.0, 1511.0]</td>\n",
       "      <td>1512</td>\n",
       "      <td>2176</td>\n",
       "      <td>3328</td>\n",
       "    </tr>\n",
       "    <tr>\n",
       "      <th>1</th>\n",
       "      <td>75865422_L_CC_1</td>\n",
       "      <td>[375.0, 1113.0, 1851.0, 2589.0, 3327.0]</td>\n",
       "      <td>375</td>\n",
       "      <td>1832</td>\n",
       "      <td>3328</td>\n",
       "    </tr>\n",
       "    <tr>\n",
       "      <th>2</th>\n",
       "      <td>4980043_R_CC_1</td>\n",
       "      <td>[0.0, 625.0, 1250.0, 1874.0, 2499.0]</td>\n",
       "      <td>2500</td>\n",
       "      <td>2012</td>\n",
       "      <td>3328</td>\n",
       "    </tr>\n",
       "    <tr>\n",
       "      <th>3</th>\n",
       "      <td>4285649_L_CC_1</td>\n",
       "      <td>[1663.0, 2079.0, 2495.0, 2911.0, 3327.0]</td>\n",
       "      <td>1663</td>\n",
       "      <td>1948</td>\n",
       "      <td>3328</td>\n",
       "    </tr>\n",
       "    <tr>\n",
       "      <th>4</th>\n",
       "      <td>76441079_L_CC_1</td>\n",
       "      <td>[771.0, 1218.0, 1665.0, 2112.0, 2559.0]</td>\n",
       "      <td>771</td>\n",
       "      <td>1512</td>\n",
       "      <td>2560</td>\n",
       "    </tr>\n",
       "  </tbody>\n",
       "</table>\n",
       "</div>"
      ],
      "text/plain": [
       "          filename                                   markers  lastPoint  \\\n",
       "0  75181645_R_CC_1       [0.0, 378.0, 756.0, 1133.0, 1511.0]       1512   \n",
       "1  75865422_L_CC_1   [375.0, 1113.0, 1851.0, 2589.0, 3327.0]        375   \n",
       "2   4980043_R_CC_1      [0.0, 625.0, 1250.0, 1874.0, 2499.0]       2500   \n",
       "3   4285649_L_CC_1  [1663.0, 2079.0, 2495.0, 2911.0, 3327.0]       1663   \n",
       "4  76441079_L_CC_1   [771.0, 1218.0, 1665.0, 2112.0, 2559.0]        771   \n",
       "\n",
       "   vertMidPoint  imageWidth  \n",
       "0          2176        3328  \n",
       "1          1832        3328  \n",
       "2          2012        3328  \n",
       "3          1948        3328  \n",
       "4          1512        2560  "
      ]
     },
     "execution_count": 3,
     "metadata": {},
     "output_type": "execute_result"
    }
   ],
   "source": [
    "markerData.head()"
   ]
  },
  {
   "cell_type": "markdown",
   "metadata": {},
   "source": [
    "## Generating Output"
   ]
  },
  {
   "cell_type": "code",
   "execution_count": 4,
   "metadata": {},
   "outputs": [],
   "source": [
    "markerData['patientID'] = markerData.filename.apply(lambda x : x.split(\"_\")[0])\n",
    "markerData['side'] = markerData.filename.apply(lambda x : x.split(\"_\")[1])\n",
    "\n",
    "markerData['marker1'] = markerData.markers.apply(lambda x : float(x.split(\",\")[0].replace('[','')))\n",
    "markerData['marker2'] = markerData.markers.apply(lambda x : float(x.split(\",\")[1]))\n",
    "markerData['marker3'] = markerData.markers.apply(lambda x : float(x.split(\",\")[2]))\n",
    "markerData['marker4'] = markerData.markers.apply(lambda x : float(x.split(\",\")[3]))\n",
    "markerData['marker5'] = markerData.markers.apply(lambda x : float(x.split(\",\")[4].replace(']','')))"
   ]
  },
  {
   "cell_type": "code",
   "execution_count": 5,
   "metadata": {},
   "outputs": [
    {
     "data": {
      "text/html": [
       "<div>\n",
       "<style scoped>\n",
       "    .dataframe tbody tr th:only-of-type {\n",
       "        vertical-align: middle;\n",
       "    }\n",
       "\n",
       "    .dataframe tbody tr th {\n",
       "        vertical-align: top;\n",
       "    }\n",
       "\n",
       "    .dataframe thead th {\n",
       "        text-align: right;\n",
       "    }\n",
       "</style>\n",
       "<table border=\"1\" class=\"dataframe\">\n",
       "  <thead>\n",
       "    <tr style=\"text-align: right;\">\n",
       "      <th></th>\n",
       "      <th>filename</th>\n",
       "      <th>markers</th>\n",
       "      <th>lastPoint</th>\n",
       "      <th>vertMidPoint</th>\n",
       "      <th>imageWidth</th>\n",
       "      <th>patientID</th>\n",
       "      <th>side</th>\n",
       "      <th>marker1</th>\n",
       "      <th>marker2</th>\n",
       "      <th>marker3</th>\n",
       "      <th>marker4</th>\n",
       "      <th>marker5</th>\n",
       "    </tr>\n",
       "  </thead>\n",
       "  <tbody>\n",
       "    <tr>\n",
       "      <th>0</th>\n",
       "      <td>75181645_R_CC_1</td>\n",
       "      <td>[0.0, 378.0, 756.0, 1133.0, 1511.0]</td>\n",
       "      <td>1512</td>\n",
       "      <td>2176</td>\n",
       "      <td>3328</td>\n",
       "      <td>75181645</td>\n",
       "      <td>R</td>\n",
       "      <td>0.0</td>\n",
       "      <td>378.0</td>\n",
       "      <td>756.0</td>\n",
       "      <td>1133.0</td>\n",
       "      <td>1511.0</td>\n",
       "    </tr>\n",
       "    <tr>\n",
       "      <th>1</th>\n",
       "      <td>75865422_L_CC_1</td>\n",
       "      <td>[375.0, 1113.0, 1851.0, 2589.0, 3327.0]</td>\n",
       "      <td>375</td>\n",
       "      <td>1832</td>\n",
       "      <td>3328</td>\n",
       "      <td>75865422</td>\n",
       "      <td>L</td>\n",
       "      <td>375.0</td>\n",
       "      <td>1113.0</td>\n",
       "      <td>1851.0</td>\n",
       "      <td>2589.0</td>\n",
       "      <td>3327.0</td>\n",
       "    </tr>\n",
       "    <tr>\n",
       "      <th>2</th>\n",
       "      <td>4980043_R_CC_1</td>\n",
       "      <td>[0.0, 625.0, 1250.0, 1874.0, 2499.0]</td>\n",
       "      <td>2500</td>\n",
       "      <td>2012</td>\n",
       "      <td>3328</td>\n",
       "      <td>4980043</td>\n",
       "      <td>R</td>\n",
       "      <td>0.0</td>\n",
       "      <td>625.0</td>\n",
       "      <td>1250.0</td>\n",
       "      <td>1874.0</td>\n",
       "      <td>2499.0</td>\n",
       "    </tr>\n",
       "    <tr>\n",
       "      <th>3</th>\n",
       "      <td>4285649_L_CC_1</td>\n",
       "      <td>[1663.0, 2079.0, 2495.0, 2911.0, 3327.0]</td>\n",
       "      <td>1663</td>\n",
       "      <td>1948</td>\n",
       "      <td>3328</td>\n",
       "      <td>4285649</td>\n",
       "      <td>L</td>\n",
       "      <td>1663.0</td>\n",
       "      <td>2079.0</td>\n",
       "      <td>2495.0</td>\n",
       "      <td>2911.0</td>\n",
       "      <td>3327.0</td>\n",
       "    </tr>\n",
       "    <tr>\n",
       "      <th>4</th>\n",
       "      <td>76441079_L_CC_1</td>\n",
       "      <td>[771.0, 1218.0, 1665.0, 2112.0, 2559.0]</td>\n",
       "      <td>771</td>\n",
       "      <td>1512</td>\n",
       "      <td>2560</td>\n",
       "      <td>76441079</td>\n",
       "      <td>L</td>\n",
       "      <td>771.0</td>\n",
       "      <td>1218.0</td>\n",
       "      <td>1665.0</td>\n",
       "      <td>2112.0</td>\n",
       "      <td>2559.0</td>\n",
       "    </tr>\n",
       "  </tbody>\n",
       "</table>\n",
       "</div>"
      ],
      "text/plain": [
       "          filename                                   markers  lastPoint  \\\n",
       "0  75181645_R_CC_1       [0.0, 378.0, 756.0, 1133.0, 1511.0]       1512   \n",
       "1  75865422_L_CC_1   [375.0, 1113.0, 1851.0, 2589.0, 3327.0]        375   \n",
       "2   4980043_R_CC_1      [0.0, 625.0, 1250.0, 1874.0, 2499.0]       2500   \n",
       "3   4285649_L_CC_1  [1663.0, 2079.0, 2495.0, 2911.0, 3327.0]       1663   \n",
       "4  76441079_L_CC_1   [771.0, 1218.0, 1665.0, 2112.0, 2559.0]        771   \n",
       "\n",
       "   vertMidPoint  imageWidth patientID side  marker1  marker2  marker3  \\\n",
       "0          2176        3328  75181645    R      0.0    378.0    756.0   \n",
       "1          1832        3328  75865422    L    375.0   1113.0   1851.0   \n",
       "2          2012        3328   4980043    R      0.0    625.0   1250.0   \n",
       "3          1948        3328   4285649    L   1663.0   2079.0   2495.0   \n",
       "4          1512        2560  76441079    L    771.0   1218.0   1665.0   \n",
       "\n",
       "   marker4  marker5  \n",
       "0   1133.0   1511.0  \n",
       "1   2589.0   3327.0  \n",
       "2   1874.0   2499.0  \n",
       "3   2911.0   3327.0  \n",
       "4   2112.0   2559.0  "
      ]
     },
     "execution_count": 5,
     "metadata": {},
     "output_type": "execute_result"
    }
   ],
   "source": [
    "markerData.head()"
   ]
  },
  {
   "cell_type": "code",
   "execution_count": 5,
   "metadata": {},
   "outputs": [],
   "source": [
    "markerDataFileList = set(markerData.filename)"
   ]
  },
  {
   "cell_type": "markdown",
   "metadata": {
    "heading_collapsed": true
   },
   "source": [
    "### Patient File"
   ]
  },
  {
   "cell_type": "code",
   "execution_count": 6,
   "metadata": {
    "hidden": true
   },
   "outputs": [],
   "source": [
    "dfFile = \"/home/santhosr/Documents/Birad/FastAI/RaceClassification/DataFile5.csv\"\n",
    "\n",
    "\n",
    "#Feature Directories\n",
    "trainFolder = '/home/santhosr/Documents/Birad/FastAI/RaceClassification/Features/model6/train'\n",
    "\n",
    "validFolder = '/home/santhosr/Documents/Birad/FastAI/RaceClassification/Features/model6/valid'\n",
    "\n",
    "def getRaceLabel(x,binary=False):\n",
    "    ID = x.split(\"/\")[-1].split(\"_\")[0]\n",
    "    label = truth[truth.DummyID == int(ID)]['Medview_Race'].values[0]\n",
    "\n",
    "    if label == 'African American':\n",
    "        return 0\n",
    "    elif label == \"White\":\n",
    "        return 1\n",
    "    else:\n",
    "        return 2"
   ]
  },
  {
   "cell_type": "code",
   "execution_count": 7,
   "metadata": {
    "hidden": true
   },
   "outputs": [],
   "source": [
    "truthFile = '/home/santhosr/Documents/Birad/birad_targetFile.csv'\n",
    "truth = pd.read_csv(truthFile)\n",
    "\n",
    "df = pd.read_csv(dfFile)\n",
    "\n",
    "final = pd.read_csv(\"/home/santhosr/Documents/Birad/FastAI/RaceClassification/Final.csv\")\n",
    "keepList = ['ImageName','VolumetricBreastDensity','DenseAreaPercent']\n",
    "final = final[keepList]\n",
    "\n",
    "df['ImageName'] = df.files.apply(lambda x : x.split(\".\")[0].split(\"/\")[1])\n",
    "\n",
    "#merging with final to retrieve the density metrics\n",
    "df = pd.merge(df, final, on='ImageName',how='left')\n",
    "\n",
    "#removing instances which dont have breast density values\n",
    "df = df.loc[~pd.isna(df.VolumetricBreastDensity)]\n",
    "\n",
    "# Assigning the race label\n",
    "df['Race'] = df.files.apply(lambda x : getRaceLabel(x))"
   ]
  },
  {
   "cell_type": "code",
   "execution_count": 9,
   "metadata": {
    "hidden": true
   },
   "outputs": [
    {
     "data": {
      "text/html": [
       "<div>\n",
       "<style scoped>\n",
       "    .dataframe tbody tr th:only-of-type {\n",
       "        vertical-align: middle;\n",
       "    }\n",
       "\n",
       "    .dataframe tbody tr th {\n",
       "        vertical-align: top;\n",
       "    }\n",
       "\n",
       "    .dataframe thead th {\n",
       "        text-align: right;\n",
       "    }\n",
       "</style>\n",
       "<table border=\"1\" class=\"dataframe\">\n",
       "  <thead>\n",
       "    <tr style=\"text-align: right;\">\n",
       "      <th></th>\n",
       "      <th>files</th>\n",
       "      <th>train</th>\n",
       "      <th>ImageName</th>\n",
       "      <th>VolumetricBreastDensity</th>\n",
       "      <th>DenseAreaPercent</th>\n",
       "      <th>Race</th>\n",
       "    </tr>\n",
       "  </thead>\n",
       "  <tbody>\n",
       "    <tr>\n",
       "      <th>0</th>\n",
       "      <td>1/76974221_R_CC_1.jpg</td>\n",
       "      <td>False</td>\n",
       "      <td>76974221_R_CC_1</td>\n",
       "      <td>2.3666</td>\n",
       "      <td>1.66677</td>\n",
       "      <td>1</td>\n",
       "    </tr>\n",
       "    <tr>\n",
       "      <th>1</th>\n",
       "      <td>2/75580912_L_CC_1.jpg</td>\n",
       "      <td>False</td>\n",
       "      <td>75580912_L_CC_1</td>\n",
       "      <td>4.1610</td>\n",
       "      <td>22.29470</td>\n",
       "      <td>0</td>\n",
       "    </tr>\n",
       "    <tr>\n",
       "      <th>2</th>\n",
       "      <td>3/76668945_R_CC_1.jpg</td>\n",
       "      <td>False</td>\n",
       "      <td>76668945_R_CC_1</td>\n",
       "      <td>31.1962</td>\n",
       "      <td>91.78180</td>\n",
       "      <td>1</td>\n",
       "    </tr>\n",
       "    <tr>\n",
       "      <th>3</th>\n",
       "      <td>2/76219150_R_CC_1.jpg</td>\n",
       "      <td>False</td>\n",
       "      <td>76219150_R_CC_1</td>\n",
       "      <td>5.7050</td>\n",
       "      <td>44.64290</td>\n",
       "      <td>0</td>\n",
       "    </tr>\n",
       "    <tr>\n",
       "      <th>4</th>\n",
       "      <td>2/76430831_R_CC_1.jpg</td>\n",
       "      <td>False</td>\n",
       "      <td>76430831_R_CC_1</td>\n",
       "      <td>5.4578</td>\n",
       "      <td>32.99180</td>\n",
       "      <td>0</td>\n",
       "    </tr>\n",
       "  </tbody>\n",
       "</table>\n",
       "</div>"
      ],
      "text/plain": [
       "                   files  train        ImageName  VolumetricBreastDensity  \\\n",
       "0  1/76974221_R_CC_1.jpg  False  76974221_R_CC_1                   2.3666   \n",
       "1  2/75580912_L_CC_1.jpg  False  75580912_L_CC_1                   4.1610   \n",
       "2  3/76668945_R_CC_1.jpg  False  76668945_R_CC_1                  31.1962   \n",
       "3  2/76219150_R_CC_1.jpg  False  76219150_R_CC_1                   5.7050   \n",
       "4  2/76430831_R_CC_1.jpg  False  76430831_R_CC_1                   5.4578   \n",
       "\n",
       "   DenseAreaPercent  Race  \n",
       "0           1.66677     1  \n",
       "1          22.29470     0  \n",
       "2          91.78180     1  \n",
       "3          44.64290     0  \n",
       "4          32.99180     0  "
      ]
     },
     "execution_count": 9,
     "metadata": {},
     "output_type": "execute_result"
    }
   ],
   "source": [
    "df.head()"
   ]
  },
  {
   "cell_type": "markdown",
   "metadata": {},
   "source": [
    "### GradCam outputs"
   ]
  },
  {
   "cell_type": "code",
   "execution_count": 8,
   "metadata": {},
   "outputs": [],
   "source": [
    "gradCamFolder = '/home/santhosr/Documents/Birad/FastAI/RaceClassification/Visualization/GradCAM_Outputs/'\n",
    "\n",
    "imageFolder = '/home/santhosr/Documents/Birad/ProcessedData/FullRes/'"
   ]
  },
  {
   "cell_type": "code",
   "execution_count": 10,
   "metadata": {},
   "outputs": [],
   "source": [
    "fileList = os.listdir(gradCamFolder)"
   ]
  },
  {
   "cell_type": "code",
   "execution_count": 11,
   "metadata": {},
   "outputs": [
    {
     "data": {
      "text/plain": [
       "15391"
      ]
     },
     "execution_count": 11,
     "metadata": {},
     "output_type": "execute_result"
    }
   ],
   "source": [
    "len(fileList)"
   ]
  },
  {
   "cell_type": "code",
   "execution_count": 12,
   "metadata": {},
   "outputs": [
    {
     "data": {
      "text/plain": [
       "False    12326\n",
       "True      3091\n",
       "Name: train, dtype: int64"
      ]
     },
     "execution_count": 12,
     "metadata": {},
     "output_type": "execute_result"
    }
   ],
   "source": [
    "df.train.value_counts()"
   ]
  },
  {
   "cell_type": "code",
   "execution_count": 13,
   "metadata": {},
   "outputs": [],
   "source": [
    "cleanList = []\n",
    "\n",
    "for i in range(len(fileList)):\n",
    "    \n",
    "    filename = fileList[i].split(\".\")[0]\n",
    "    \n",
    "    if \"CC\" not in filename:\n",
    "        continue\n",
    "    \n",
    "    if \"R\" not in filename:\n",
    "        continue\n",
    "        \n",
    "    if filename not in markerDataFileList:\n",
    "        continue\n",
    "        \n",
    "#     try:\n",
    "#         if df[df.ImageName==filename]['train'][0]==True:\n",
    "#             continue\n",
    "#     except:\n",
    "#         a = 1\n",
    "# #         print(df[df.ImageName==filename]['train'])\n",
    "        \n",
    "    cleanList.append(filename)\n",
    "        \n",
    "    "
   ]
  },
  {
   "cell_type": "code",
   "execution_count": 14,
   "metadata": {},
   "outputs": [
    {
     "data": {
      "text/plain": [
       "3864"
      ]
     },
     "execution_count": 14,
     "metadata": {},
     "output_type": "execute_result"
    }
   ],
   "source": [
    "len(cleanList)"
   ]
  },
  {
   "cell_type": "code",
   "execution_count": 15,
   "metadata": {},
   "outputs": [
    {
     "data": {
      "text/plain": [
       "'3673890_R_CC_1'"
      ]
     },
     "execution_count": 15,
     "metadata": {},
     "output_type": "execute_result"
    }
   ],
   "source": [
    "cleanList[0]"
   ]
  },
  {
   "cell_type": "markdown",
   "metadata": {
    "heading_collapsed": true
   },
   "source": [
    "### Extracting GradCAM for selected inputs"
   ]
  },
  {
   "cell_type": "code",
   "execution_count": 16,
   "metadata": {
    "hidden": true
   },
   "outputs": [],
   "source": [
    "outList = []\n",
    "\n",
    "for i in range(len(cleanList)):\n",
    "    \n",
    "    filename = cleanList[i]\n",
    "    \n",
    "    try:\n",
    "        grad = pickle.load(open(gradCamFolder + filename+'.p','rb'))\n",
    "        \n",
    "        \n",
    "        img = df[df.ImageName==filename]['files'].values[0]\n",
    "        img = imread(imageFolder+img)\n",
    "        \n",
    "        imageHeight = img.shape[0]\n",
    "        imageWidth = float(markerData[markerData.filename==filename]['imageWidth'])\n",
    "        mult = round(256/imageWidth,3)\n",
    "        mult1 = round(256/imageHeight,3)\n",
    "\n",
    "        mark1 = int(float(markerData[markerData.filename==filename]['marker1'])*mult)\n",
    "        mark2 = int(float(markerData[markerData.filename==filename]['marker2'])*mult)\n",
    "        mark3 = int(float(markerData[markerData.filename==filename]['marker3'])*mult)\n",
    "        mark4 = int(float(markerData[markerData.filename==filename]['marker4'])*mult)\n",
    "        mark5 = int(float(markerData[markerData.filename==filename]['marker5'])*mult)\n",
    "        \n",
    "        vertMark = int(float(markerData[markerData.filename==filename]['vertMidPoint'])*mult1)\n",
    "\n",
    "        area1 = np.sum(grad[:, mark1:mark2])\n",
    "        area2 = np.sum(grad[:, mark2:mark3])\n",
    "        area3 = np.sum(grad[:, mark3:mark4])\n",
    "        area4 = np.sum(grad[:, mark4:mark5])\n",
    "        \n",
    "        vertArea1 = np.sum(grad[:vertMark, :])\n",
    "        vertArea2 = np.sum(grad[vertMark:, :])\n",
    "\n",
    "        bandGap = mark2 - mark1\n",
    "\n",
    "        totalArea = np.sum(grad)\n",
    "\n",
    "        outList.append([filename, area1,area2,area3,area4, vertArea1, vertArea2, bandGap, totalArea])\n",
    "    \n",
    "    except:\n",
    "        pass\n",
    "    \n",
    "    "
   ]
  },
  {
   "cell_type": "code",
   "execution_count": 17,
   "metadata": {
    "hidden": true
   },
   "outputs": [],
   "source": [
    "outList = pd.DataFrame(outList)"
   ]
  },
  {
   "cell_type": "code",
   "execution_count": 18,
   "metadata": {
    "hidden": true
   },
   "outputs": [],
   "source": [
    "outList.columns = ['filename','area1','area2','area3','area4', 'vertArea1', 'vertArea2','bandGap','totalArea']\n"
   ]
  },
  {
   "cell_type": "code",
   "execution_count": 19,
   "metadata": {
    "hidden": true
   },
   "outputs": [
    {
     "data": {
      "text/html": [
       "<div>\n",
       "<style scoped>\n",
       "    .dataframe tbody tr th:only-of-type {\n",
       "        vertical-align: middle;\n",
       "    }\n",
       "\n",
       "    .dataframe tbody tr th {\n",
       "        vertical-align: top;\n",
       "    }\n",
       "\n",
       "    .dataframe thead th {\n",
       "        text-align: right;\n",
       "    }\n",
       "</style>\n",
       "<table border=\"1\" class=\"dataframe\">\n",
       "  <thead>\n",
       "    <tr style=\"text-align: right;\">\n",
       "      <th></th>\n",
       "      <th>filename</th>\n",
       "      <th>area1</th>\n",
       "      <th>area2</th>\n",
       "      <th>area3</th>\n",
       "      <th>area4</th>\n",
       "      <th>vertArea1</th>\n",
       "      <th>vertArea2</th>\n",
       "      <th>bandGap</th>\n",
       "      <th>totalArea</th>\n",
       "    </tr>\n",
       "  </thead>\n",
       "  <tbody>\n",
       "    <tr>\n",
       "      <th>0</th>\n",
       "      <td>3673890_R_CC_1</td>\n",
       "      <td>840080.0</td>\n",
       "      <td>818752.0</td>\n",
       "      <td>458960.0</td>\n",
       "      <td>164608.0</td>\n",
       "      <td>1625205.0</td>\n",
       "      <td>1006123.0</td>\n",
       "      <td>29</td>\n",
       "      <td>2631328.0</td>\n",
       "    </tr>\n",
       "    <tr>\n",
       "      <th>1</th>\n",
       "      <td>76434528_R_CC_1</td>\n",
       "      <td>948576.0</td>\n",
       "      <td>1086128.0</td>\n",
       "      <td>877312.0</td>\n",
       "      <td>567328.0</td>\n",
       "      <td>2517302.0</td>\n",
       "      <td>1353658.0</td>\n",
       "      <td>34</td>\n",
       "      <td>3870960.0</td>\n",
       "    </tr>\n",
       "    <tr>\n",
       "      <th>2</th>\n",
       "      <td>75954889_R_CC_1</td>\n",
       "      <td>888048.0</td>\n",
       "      <td>675024.0</td>\n",
       "      <td>141456.0</td>\n",
       "      <td>49984.0</td>\n",
       "      <td>927774.0</td>\n",
       "      <td>1704002.0</td>\n",
       "      <td>38</td>\n",
       "      <td>2631776.0</td>\n",
       "    </tr>\n",
       "    <tr>\n",
       "      <th>3</th>\n",
       "      <td>76054106_R_CC_1</td>\n",
       "      <td>1792.0</td>\n",
       "      <td>33760.0</td>\n",
       "      <td>104640.0</td>\n",
       "      <td>187936.0</td>\n",
       "      <td>773905.0</td>\n",
       "      <td>468879.0</td>\n",
       "      <td>23</td>\n",
       "      <td>1242784.0</td>\n",
       "    </tr>\n",
       "    <tr>\n",
       "      <th>4</th>\n",
       "      <td>5221404_R_CC_1</td>\n",
       "      <td>27744.0</td>\n",
       "      <td>30464.0</td>\n",
       "      <td>134160.0</td>\n",
       "      <td>257600.0</td>\n",
       "      <td>678105.0</td>\n",
       "      <td>1871863.0</td>\n",
       "      <td>24</td>\n",
       "      <td>2549968.0</td>\n",
       "    </tr>\n",
       "  </tbody>\n",
       "</table>\n",
       "</div>"
      ],
      "text/plain": [
       "          filename     area1      area2     area3     area4  vertArea1  \\\n",
       "0   3673890_R_CC_1  840080.0   818752.0  458960.0  164608.0  1625205.0   \n",
       "1  76434528_R_CC_1  948576.0  1086128.0  877312.0  567328.0  2517302.0   \n",
       "2  75954889_R_CC_1  888048.0   675024.0  141456.0   49984.0   927774.0   \n",
       "3  76054106_R_CC_1    1792.0    33760.0  104640.0  187936.0   773905.0   \n",
       "4   5221404_R_CC_1   27744.0    30464.0  134160.0  257600.0   678105.0   \n",
       "\n",
       "   vertArea2  bandGap  totalArea  \n",
       "0  1006123.0       29  2631328.0  \n",
       "1  1353658.0       34  3870960.0  \n",
       "2  1704002.0       38  2631776.0  \n",
       "3   468879.0       23  1242784.0  \n",
       "4  1871863.0       24  2549968.0  "
      ]
     },
     "execution_count": 19,
     "metadata": {},
     "output_type": "execute_result"
    }
   ],
   "source": [
    "outList.head()"
   ]
  },
  {
   "cell_type": "code",
   "execution_count": 20,
   "metadata": {
    "hidden": true
   },
   "outputs": [],
   "source": [
    "outList.patientID = outList.filename.apply(lambda x : x.split(\"_\")[0])\n",
    "\n",
    "outList.area1 = outList.area1/outList.totalArea\n",
    "outList.area2 = outList.area2/outList.totalArea\n",
    "outList.area3 = outList.area3/outList.totalArea\n",
    "outList.area4 = outList.area4/outList.totalArea\n",
    "\n",
    "outList.vertArea1 = outList.vertArea1/outList.totalArea\n",
    "outList.vertArea2 = outList.vertArea2/outList.totalArea\n",
    "\n",
    "\n",
    "\n"
   ]
  },
  {
   "cell_type": "code",
   "execution_count": 21,
   "metadata": {
    "hidden": true
   },
   "outputs": [],
   "source": [
    "outList = pd.merge(outList, df[['ImageName','Race']],left_on='filename',right_on='ImageName')"
   ]
  },
  {
   "cell_type": "code",
   "execution_count": 22,
   "metadata": {
    "hidden": true
   },
   "outputs": [
    {
     "data": {
      "text/html": [
       "<div>\n",
       "<style scoped>\n",
       "    .dataframe tbody tr th:only-of-type {\n",
       "        vertical-align: middle;\n",
       "    }\n",
       "\n",
       "    .dataframe tbody tr th {\n",
       "        vertical-align: top;\n",
       "    }\n",
       "\n",
       "    .dataframe thead th {\n",
       "        text-align: right;\n",
       "    }\n",
       "</style>\n",
       "<table border=\"1\" class=\"dataframe\">\n",
       "  <thead>\n",
       "    <tr style=\"text-align: right;\">\n",
       "      <th></th>\n",
       "      <th>filename</th>\n",
       "      <th>area1</th>\n",
       "      <th>area2</th>\n",
       "      <th>area3</th>\n",
       "      <th>area4</th>\n",
       "      <th>vertArea1</th>\n",
       "      <th>vertArea2</th>\n",
       "      <th>bandGap</th>\n",
       "      <th>totalArea</th>\n",
       "      <th>ImageName</th>\n",
       "      <th>Race</th>\n",
       "    </tr>\n",
       "  </thead>\n",
       "  <tbody>\n",
       "    <tr>\n",
       "      <th>0</th>\n",
       "      <td>3673890_R_CC_1</td>\n",
       "      <td>0.319261</td>\n",
       "      <td>0.311155</td>\n",
       "      <td>0.174421</td>\n",
       "      <td>0.062557</td>\n",
       "      <td>0.617637</td>\n",
       "      <td>0.382363</td>\n",
       "      <td>29</td>\n",
       "      <td>2631328.0</td>\n",
       "      <td>3673890_R_CC_1</td>\n",
       "      <td>1</td>\n",
       "    </tr>\n",
       "    <tr>\n",
       "      <th>1</th>\n",
       "      <td>76434528_R_CC_1</td>\n",
       "      <td>0.245049</td>\n",
       "      <td>0.280584</td>\n",
       "      <td>0.226639</td>\n",
       "      <td>0.146560</td>\n",
       "      <td>0.650304</td>\n",
       "      <td>0.349696</td>\n",
       "      <td>34</td>\n",
       "      <td>3870960.0</td>\n",
       "      <td>76434528_R_CC_1</td>\n",
       "      <td>0</td>\n",
       "    </tr>\n",
       "    <tr>\n",
       "      <th>2</th>\n",
       "      <td>75954889_R_CC_1</td>\n",
       "      <td>0.337433</td>\n",
       "      <td>0.256490</td>\n",
       "      <td>0.053749</td>\n",
       "      <td>0.018992</td>\n",
       "      <td>0.352528</td>\n",
       "      <td>0.647472</td>\n",
       "      <td>38</td>\n",
       "      <td>2631776.0</td>\n",
       "      <td>75954889_R_CC_1</td>\n",
       "      <td>1</td>\n",
       "    </tr>\n",
       "    <tr>\n",
       "      <th>3</th>\n",
       "      <td>76054106_R_CC_1</td>\n",
       "      <td>0.001442</td>\n",
       "      <td>0.027165</td>\n",
       "      <td>0.084198</td>\n",
       "      <td>0.151222</td>\n",
       "      <td>0.622719</td>\n",
       "      <td>0.377281</td>\n",
       "      <td>23</td>\n",
       "      <td>1242784.0</td>\n",
       "      <td>76054106_R_CC_1</td>\n",
       "      <td>1</td>\n",
       "    </tr>\n",
       "    <tr>\n",
       "      <th>4</th>\n",
       "      <td>5221404_R_CC_1</td>\n",
       "      <td>0.010880</td>\n",
       "      <td>0.011947</td>\n",
       "      <td>0.052612</td>\n",
       "      <td>0.101021</td>\n",
       "      <td>0.265927</td>\n",
       "      <td>0.734073</td>\n",
       "      <td>24</td>\n",
       "      <td>2549968.0</td>\n",
       "      <td>5221404_R_CC_1</td>\n",
       "      <td>0</td>\n",
       "    </tr>\n",
       "  </tbody>\n",
       "</table>\n",
       "</div>"
      ],
      "text/plain": [
       "          filename     area1     area2     area3     area4  vertArea1  \\\n",
       "0   3673890_R_CC_1  0.319261  0.311155  0.174421  0.062557   0.617637   \n",
       "1  76434528_R_CC_1  0.245049  0.280584  0.226639  0.146560   0.650304   \n",
       "2  75954889_R_CC_1  0.337433  0.256490  0.053749  0.018992   0.352528   \n",
       "3  76054106_R_CC_1  0.001442  0.027165  0.084198  0.151222   0.622719   \n",
       "4   5221404_R_CC_1  0.010880  0.011947  0.052612  0.101021   0.265927   \n",
       "\n",
       "   vertArea2  bandGap  totalArea        ImageName  Race  \n",
       "0   0.382363       29  2631328.0   3673890_R_CC_1     1  \n",
       "1   0.349696       34  3870960.0  76434528_R_CC_1     0  \n",
       "2   0.647472       38  2631776.0  75954889_R_CC_1     1  \n",
       "3   0.377281       23  1242784.0  76054106_R_CC_1     1  \n",
       "4   0.734073       24  2549968.0   5221404_R_CC_1     0  "
      ]
     },
     "execution_count": 22,
     "metadata": {},
     "output_type": "execute_result"
    }
   ],
   "source": [
    "outList.head()"
   ]
  },
  {
   "cell_type": "markdown",
   "metadata": {},
   "source": [
    "## Testing"
   ]
  },
  {
   "cell_type": "code",
   "execution_count": 5,
   "metadata": {},
   "outputs": [],
   "source": [
    "# outList.to_csv('GradCAM_finalOutput.csv',index=False, index_label = False)\n",
    "\n",
    "outList = pd.read_csv('GradCAM_finalOutput.csv')"
   ]
  },
  {
   "cell_type": "code",
   "execution_count": 6,
   "metadata": {},
   "outputs": [
    {
     "data": {
      "text/html": [
       "<div>\n",
       "<style scoped>\n",
       "    .dataframe tbody tr th:only-of-type {\n",
       "        vertical-align: middle;\n",
       "    }\n",
       "\n",
       "    .dataframe tbody tr th {\n",
       "        vertical-align: top;\n",
       "    }\n",
       "\n",
       "    .dataframe thead th {\n",
       "        text-align: right;\n",
       "    }\n",
       "</style>\n",
       "<table border=\"1\" class=\"dataframe\">\n",
       "  <thead>\n",
       "    <tr style=\"text-align: right;\">\n",
       "      <th></th>\n",
       "      <th>filename</th>\n",
       "      <th>area1</th>\n",
       "      <th>area2</th>\n",
       "      <th>area3</th>\n",
       "      <th>area4</th>\n",
       "      <th>vertArea1</th>\n",
       "      <th>vertArea2</th>\n",
       "      <th>bandGap</th>\n",
       "      <th>totalArea</th>\n",
       "      <th>ImageName</th>\n",
       "      <th>Race</th>\n",
       "    </tr>\n",
       "  </thead>\n",
       "  <tbody>\n",
       "    <tr>\n",
       "      <th>0</th>\n",
       "      <td>3673890_R_CC_1</td>\n",
       "      <td>0.319261</td>\n",
       "      <td>0.311155</td>\n",
       "      <td>0.174421</td>\n",
       "      <td>0.062557</td>\n",
       "      <td>0.617637</td>\n",
       "      <td>0.382363</td>\n",
       "      <td>29</td>\n",
       "      <td>2631328.0</td>\n",
       "      <td>3673890_R_CC_1</td>\n",
       "      <td>1</td>\n",
       "    </tr>\n",
       "    <tr>\n",
       "      <th>1</th>\n",
       "      <td>76434528_R_CC_1</td>\n",
       "      <td>0.245049</td>\n",
       "      <td>0.280584</td>\n",
       "      <td>0.226639</td>\n",
       "      <td>0.146560</td>\n",
       "      <td>0.650304</td>\n",
       "      <td>0.349696</td>\n",
       "      <td>34</td>\n",
       "      <td>3870960.0</td>\n",
       "      <td>76434528_R_CC_1</td>\n",
       "      <td>0</td>\n",
       "    </tr>\n",
       "    <tr>\n",
       "      <th>2</th>\n",
       "      <td>75954889_R_CC_1</td>\n",
       "      <td>0.337433</td>\n",
       "      <td>0.256490</td>\n",
       "      <td>0.053749</td>\n",
       "      <td>0.018992</td>\n",
       "      <td>0.352528</td>\n",
       "      <td>0.647472</td>\n",
       "      <td>38</td>\n",
       "      <td>2631776.0</td>\n",
       "      <td>75954889_R_CC_1</td>\n",
       "      <td>1</td>\n",
       "    </tr>\n",
       "    <tr>\n",
       "      <th>3</th>\n",
       "      <td>76054106_R_CC_1</td>\n",
       "      <td>0.001442</td>\n",
       "      <td>0.027165</td>\n",
       "      <td>0.084198</td>\n",
       "      <td>0.151222</td>\n",
       "      <td>0.622719</td>\n",
       "      <td>0.377281</td>\n",
       "      <td>23</td>\n",
       "      <td>1242784.0</td>\n",
       "      <td>76054106_R_CC_1</td>\n",
       "      <td>1</td>\n",
       "    </tr>\n",
       "    <tr>\n",
       "      <th>4</th>\n",
       "      <td>5221404_R_CC_1</td>\n",
       "      <td>0.010880</td>\n",
       "      <td>0.011947</td>\n",
       "      <td>0.052612</td>\n",
       "      <td>0.101021</td>\n",
       "      <td>0.265927</td>\n",
       "      <td>0.734073</td>\n",
       "      <td>24</td>\n",
       "      <td>2549968.0</td>\n",
       "      <td>5221404_R_CC_1</td>\n",
       "      <td>0</td>\n",
       "    </tr>\n",
       "  </tbody>\n",
       "</table>\n",
       "</div>"
      ],
      "text/plain": [
       "          filename     area1     area2     area3     area4  vertArea1  \\\n",
       "0   3673890_R_CC_1  0.319261  0.311155  0.174421  0.062557   0.617637   \n",
       "1  76434528_R_CC_1  0.245049  0.280584  0.226639  0.146560   0.650304   \n",
       "2  75954889_R_CC_1  0.337433  0.256490  0.053749  0.018992   0.352528   \n",
       "3  76054106_R_CC_1  0.001442  0.027165  0.084198  0.151222   0.622719   \n",
       "4   5221404_R_CC_1  0.010880  0.011947  0.052612  0.101021   0.265927   \n",
       "\n",
       "   vertArea2  bandGap  totalArea        ImageName  Race  \n",
       "0   0.382363       29  2631328.0   3673890_R_CC_1     1  \n",
       "1   0.349696       34  3870960.0  76434528_R_CC_1     0  \n",
       "2   0.647472       38  2631776.0  75954889_R_CC_1     1  \n",
       "3   0.377281       23  1242784.0  76054106_R_CC_1     1  \n",
       "4   0.734073       24  2549968.0   5221404_R_CC_1     0  "
      ]
     },
     "execution_count": 6,
     "metadata": {},
     "output_type": "execute_result"
    }
   ],
   "source": [
    "outList.head()"
   ]
  },
  {
   "cell_type": "code",
   "execution_count": 97,
   "metadata": {},
   "outputs": [],
   "source": [
    "race0 = outList[outList.Race==0]\n",
    "race1 = outList[outList.Race==1]\n",
    "\n"
   ]
  },
  {
   "cell_type": "code",
   "execution_count": 12,
   "metadata": {},
   "outputs": [
    {
     "data": {
      "text/html": [
       "<div>\n",
       "<style scoped>\n",
       "    .dataframe tbody tr th:only-of-type {\n",
       "        vertical-align: middle;\n",
       "    }\n",
       "\n",
       "    .dataframe tbody tr th {\n",
       "        vertical-align: top;\n",
       "    }\n",
       "\n",
       "    .dataframe thead th {\n",
       "        text-align: right;\n",
       "    }\n",
       "</style>\n",
       "<table border=\"1\" class=\"dataframe\">\n",
       "  <thead>\n",
       "    <tr style=\"text-align: right;\">\n",
       "      <th></th>\n",
       "      <th>index</th>\n",
       "      <th>0</th>\n",
       "    </tr>\n",
       "  </thead>\n",
       "  <tbody>\n",
       "    <tr>\n",
       "      <th>0</th>\n",
       "      <td>area1</td>\n",
       "      <td>1.769222e-01</td>\n",
       "    </tr>\n",
       "    <tr>\n",
       "      <th>1</th>\n",
       "      <td>area2</td>\n",
       "      <td>1.842079e-01</td>\n",
       "    </tr>\n",
       "    <tr>\n",
       "      <th>2</th>\n",
       "      <td>area3</td>\n",
       "      <td>1.617106e-01</td>\n",
       "    </tr>\n",
       "    <tr>\n",
       "      <th>3</th>\n",
       "      <td>area4</td>\n",
       "      <td>1.434565e-01</td>\n",
       "    </tr>\n",
       "    <tr>\n",
       "      <th>4</th>\n",
       "      <td>vertArea1</td>\n",
       "      <td>4.365399e-01</td>\n",
       "    </tr>\n",
       "    <tr>\n",
       "      <th>5</th>\n",
       "      <td>vertArea2</td>\n",
       "      <td>5.634601e-01</td>\n",
       "    </tr>\n",
       "    <tr>\n",
       "      <th>6</th>\n",
       "      <td>bandGap</td>\n",
       "      <td>3.822382e+01</td>\n",
       "    </tr>\n",
       "    <tr>\n",
       "      <th>7</th>\n",
       "      <td>totalArea</td>\n",
       "      <td>3.021249e+06</td>\n",
       "    </tr>\n",
       "    <tr>\n",
       "      <th>8</th>\n",
       "      <td>Race</td>\n",
       "      <td>0.000000e+00</td>\n",
       "    </tr>\n",
       "  </tbody>\n",
       "</table>\n",
       "</div>"
      ],
      "text/plain": [
       "       index             0\n",
       "0      area1  1.769222e-01\n",
       "1      area2  1.842079e-01\n",
       "2      area3  1.617106e-01\n",
       "3      area4  1.434565e-01\n",
       "4  vertArea1  4.365399e-01\n",
       "5  vertArea2  5.634601e-01\n",
       "6    bandGap  3.822382e+01\n",
       "7  totalArea  3.021249e+06\n",
       "8       Race  0.000000e+00"
      ]
     },
     "execution_count": 12,
     "metadata": {},
     "output_type": "execute_result"
    }
   ],
   "source": [
    "race0.mean().reset_index()"
   ]
  },
  {
   "cell_type": "code",
   "execution_count": 13,
   "metadata": {
    "scrolled": true
   },
   "outputs": [
    {
     "data": {
      "text/html": [
       "<div>\n",
       "<style scoped>\n",
       "    .dataframe tbody tr th:only-of-type {\n",
       "        vertical-align: middle;\n",
       "    }\n",
       "\n",
       "    .dataframe tbody tr th {\n",
       "        vertical-align: top;\n",
       "    }\n",
       "\n",
       "    .dataframe thead th {\n",
       "        text-align: right;\n",
       "    }\n",
       "</style>\n",
       "<table border=\"1\" class=\"dataframe\">\n",
       "  <thead>\n",
       "    <tr style=\"text-align: right;\">\n",
       "      <th></th>\n",
       "      <th>index</th>\n",
       "      <th>0</th>\n",
       "    </tr>\n",
       "  </thead>\n",
       "  <tbody>\n",
       "    <tr>\n",
       "      <th>0</th>\n",
       "      <td>area1</td>\n",
       "      <td>1.566096e-01</td>\n",
       "    </tr>\n",
       "    <tr>\n",
       "      <th>1</th>\n",
       "      <td>area2</td>\n",
       "      <td>1.591389e-01</td>\n",
       "    </tr>\n",
       "    <tr>\n",
       "      <th>2</th>\n",
       "      <td>area3</td>\n",
       "      <td>1.533461e-01</td>\n",
       "    </tr>\n",
       "    <tr>\n",
       "      <th>3</th>\n",
       "      <td>area4</td>\n",
       "      <td>1.453391e-01</td>\n",
       "    </tr>\n",
       "    <tr>\n",
       "      <th>4</th>\n",
       "      <td>vertArea1</td>\n",
       "      <td>4.991269e-01</td>\n",
       "    </tr>\n",
       "    <tr>\n",
       "      <th>5</th>\n",
       "      <td>vertArea2</td>\n",
       "      <td>5.008731e-01</td>\n",
       "    </tr>\n",
       "    <tr>\n",
       "      <th>6</th>\n",
       "      <td>bandGap</td>\n",
       "      <td>3.273824e+01</td>\n",
       "    </tr>\n",
       "    <tr>\n",
       "      <th>7</th>\n",
       "      <td>totalArea</td>\n",
       "      <td>2.756505e+06</td>\n",
       "    </tr>\n",
       "    <tr>\n",
       "      <th>8</th>\n",
       "      <td>Race</td>\n",
       "      <td>1.000000e+00</td>\n",
       "    </tr>\n",
       "  </tbody>\n",
       "</table>\n",
       "</div>"
      ],
      "text/plain": [
       "       index             0\n",
       "0      area1  1.566096e-01\n",
       "1      area2  1.591389e-01\n",
       "2      area3  1.533461e-01\n",
       "3      area4  1.453391e-01\n",
       "4  vertArea1  4.991269e-01\n",
       "5  vertArea2  5.008731e-01\n",
       "6    bandGap  3.273824e+01\n",
       "7  totalArea  2.756505e+06\n",
       "8       Race  1.000000e+00"
      ]
     },
     "execution_count": 13,
     "metadata": {},
     "output_type": "execute_result"
    }
   ],
   "source": [
    "race1.mean().reset_index()"
   ]
  },
  {
   "cell_type": "code",
   "execution_count": 14,
   "metadata": {},
   "outputs": [
    {
     "ename": "NameError",
     "evalue": "name 'filename' is not defined",
     "output_type": "error",
     "traceback": [
      "\u001b[0;31m---------------------------------------------------------------------------\u001b[0m",
      "\u001b[0;31mNameError\u001b[0m                                 Traceback (most recent call last)",
      "\u001b[0;32m<ipython-input-14-9ba53b414a75>\u001b[0m in \u001b[0;36m<module>\u001b[0;34m\u001b[0m\n\u001b[0;32m----> 1\u001b[0;31m \u001b[0mimg\u001b[0m \u001b[0;34m=\u001b[0m \u001b[0mdf\u001b[0m\u001b[0;34m[\u001b[0m\u001b[0mdf\u001b[0m\u001b[0;34m.\u001b[0m\u001b[0mImageName\u001b[0m\u001b[0;34m==\u001b[0m\u001b[0mfilename\u001b[0m\u001b[0;34m]\u001b[0m\u001b[0;34m[\u001b[0m\u001b[0;34m'files'\u001b[0m\u001b[0;34m]\u001b[0m\u001b[0;34m.\u001b[0m\u001b[0mvalues\u001b[0m\u001b[0;34m[\u001b[0m\u001b[0;36m0\u001b[0m\u001b[0;34m]\u001b[0m\u001b[0;34m\u001b[0m\u001b[0;34m\u001b[0m\u001b[0m\n\u001b[0m\u001b[1;32m      2\u001b[0m \u001b[0mimg\u001b[0m \u001b[0;34m=\u001b[0m \u001b[0mimread\u001b[0m\u001b[0;34m(\u001b[0m\u001b[0mimageFolder\u001b[0m\u001b[0;34m+\u001b[0m\u001b[0mimg\u001b[0m\u001b[0;34m)\u001b[0m\u001b[0;34m\u001b[0m\u001b[0;34m\u001b[0m\u001b[0m\n",
      "\u001b[0;31mNameError\u001b[0m: name 'filename' is not defined"
     ]
    }
   ],
   "source": [
    "img = df[df.ImageName==filename]['files'].values[0]\n",
    "img = imread(imageFolder+img)"
   ]
  },
  {
   "cell_type": "code",
   "execution_count": 78,
   "metadata": {},
   "outputs": [
    {
     "data": {
      "text/plain": [
       "<matplotlib.image.AxesImage at 0x7fe2e18624a8>"
      ]
     },
     "execution_count": 78,
     "metadata": {},
     "output_type": "execute_result"
    },
    {
     "data": {
      "image/png": "[encoded data removed]",
      "text/plain": [
       "<Figure size 576x576 with 1 Axes>"
      ]
     },
     "metadata": {
      "needs_background": "light"
     },
     "output_type": "display_data"
    }
   ],
   "source": [
    "plt.figure(figsize = (8,8))\n",
    "plt.imshow(img,cmap='gray')"
   ]
  },
  {
   "cell_type": "markdown",
   "metadata": {},
   "source": [
    "#### Stat Analysis"
   ]
  },
  {
   "cell_type": "code",
   "execution_count": 15,
   "metadata": {},
   "outputs": [],
   "source": [
    "from scipy import stats\n",
    "from scipy.stats import shapiro,ranksums"
   ]
  },
  {
   "cell_type": "code",
   "execution_count": 98,
   "metadata": {},
   "outputs": [],
   "source": [
    "race1 = race1.dropna()\n",
    "race0 = race0.dropna()"
   ]
  },
  {
   "cell_type": "code",
   "execution_count": 15,
   "metadata": {},
   "outputs": [
    {
     "data": {
      "text/plain": [
       "(array([541., 434., 409., 272., 146.,  66.,  28.,  11.,   5.,   2.]),\n",
       " array([0.     , 0.07281, 0.14562, 0.21843, 0.29124, 0.36405, 0.43686, 0.50967, 0.58248, 0.65529, 0.7281 ]),\n",
       " <a list of 10 Patch objects>)"
      ]
     },
     "execution_count": 15,
     "metadata": {},
     "output_type": "execute_result"
    },
    {
     "data": {
      "image/png": "[encoded data removed]",
      "text/plain": [
       "<Figure size 432x288 with 1 Axes>"
      ]
     },
     "metadata": {
      "needs_background": "light"
     },
     "output_type": "display_data"
    }
   ],
   "source": [
    "plt.hist(race1.area1)"
   ]
  },
  {
   "cell_type": "code",
   "execution_count": 17,
   "metadata": {},
   "outputs": [
    {
     "data": {
      "text/plain": [
       "(array([434., 211., 294., 414., 403., 113.,  39.,   4.,   1.,   1.]),\n",
       " array([0.      , 0.055104, 0.110208, 0.165313, 0.220417, 0.275521, 0.330625, 0.385729, 0.440834, 0.495938, 0.551042]),\n",
       " <a list of 10 Patch objects>)"
      ]
     },
     "execution_count": 17,
     "metadata": {},
     "output_type": "execute_result"
    },
    {
     "data": {
      "image/png": "[encoded data removed]",
      "text/plain": [
       "<Figure size 432x288 with 1 Axes>"
      ]
     },
     "metadata": {
      "needs_background": "light"
     },
     "output_type": "display_data"
    }
   ],
   "source": [
    "plt.hist(race1.area3)"
   ]
  },
  {
   "cell_type": "code",
   "execution_count": 99,
   "metadata": {
    "scrolled": true
   },
   "outputs": [
    {
     "data": {
      "text/plain": [
       "RanksumsResult(statistic=4.106475726731749, pvalue=4.017416570201641e-05)"
      ]
     },
     "execution_count": 99,
     "metadata": {},
     "output_type": "execute_result"
    }
   ],
   "source": [
    "stats.ranksums(race0.area1.values, race1.area1.values)"
   ]
  },
  {
   "cell_type": "code",
   "execution_count": 100,
   "metadata": {},
   "outputs": [
    {
     "data": {
      "text/plain": [
       "RanksumsResult(statistic=6.944045597179449, pvalue=3.8102742880108645e-12)"
      ]
     },
     "execution_count": 100,
     "metadata": {},
     "output_type": "execute_result"
    }
   ],
   "source": [
    "stats.ranksums(race0.area2.values, race1.area2.values)"
   ]
  },
  {
   "cell_type": "code",
   "execution_count": 101,
   "metadata": {},
   "outputs": [
    {
     "data": {
      "text/plain": [
       "RanksumsResult(statistic=2.294816515725879, pvalue=0.021743641745393345)"
      ]
     },
     "execution_count": 101,
     "metadata": {},
     "output_type": "execute_result"
    }
   ],
   "source": [
    "stats.ranksums(race0.area3.values, race1.area3.values)"
   ]
  },
  {
   "cell_type": "code",
   "execution_count": 102,
   "metadata": {},
   "outputs": [
    {
     "data": {
      "text/plain": [
       "RanksumsResult(statistic=-2.1737019624963883, pvalue=0.029727525189975536)"
      ]
     },
     "execution_count": 102,
     "metadata": {},
     "output_type": "execute_result"
    }
   ],
   "source": [
    "stats.ranksums(race0.area4.values, race1.area4.values)"
   ]
  },
  {
   "cell_type": "code",
   "execution_count": 22,
   "metadata": {},
   "outputs": [
    {
     "data": {
      "text/plain": [
       "RanksumsResult(statistic=-7.676081094703535, pvalue=1.6402930894491685e-14)"
      ]
     },
     "execution_count": 22,
     "metadata": {},
     "output_type": "execute_result"
    }
   ],
   "source": [
    "stats.ranksums(race0.vertArea1.values, race1.vertArea1.values)"
   ]
  },
  {
   "cell_type": "code",
   "execution_count": 23,
   "metadata": {},
   "outputs": [
    {
     "data": {
      "text/plain": [
       "RanksumsResult(statistic=7.676081094703535, pvalue=1.6402930894491685e-14)"
      ]
     },
     "execution_count": 23,
     "metadata": {},
     "output_type": "execute_result"
    }
   ],
   "source": [
    "stats.ranksums(race0.vertArea2.values, race1.vertArea2.values)"
   ]
  },
  {
   "cell_type": "code",
   "execution_count": null,
   "metadata": {},
   "outputs": [],
   "source": []
  },
  {
   "cell_type": "code",
   "execution_count": null,
   "metadata": {},
   "outputs": [],
   "source": []
  },
  {
   "cell_type": "code",
   "execution_count": 24,
   "metadata": {},
   "outputs": [
    {
     "data": {
      "text/plain": [
       "RanksumsResult(statistic=-4.738159569408911, pvalue=2.1566796294273863e-06)"
      ]
     },
     "execution_count": 24,
     "metadata": {},
     "output_type": "execute_result"
    }
   ],
   "source": [
    "stats.ranksums(race0.area1.values, race0.area2.values)"
   ]
  },
  {
   "cell_type": "code",
   "execution_count": 25,
   "metadata": {},
   "outputs": [
    {
     "data": {
      "text/plain": [
       "RanksumsResult(statistic=1.2623262430588622, pvalue=0.20683141730192445)"
      ]
     },
     "execution_count": 25,
     "metadata": {},
     "output_type": "execute_result"
    }
   ],
   "source": [
    "stats.ranksums(race0.area1.values, race0.area3.values)"
   ]
  },
  {
   "cell_type": "code",
   "execution_count": 26,
   "metadata": {},
   "outputs": [
    {
     "data": {
      "text/plain": [
       "RanksumsResult(statistic=7.839355428915472, pvalue=4.528650163397016e-15)"
      ]
     },
     "execution_count": 26,
     "metadata": {},
     "output_type": "execute_result"
    }
   ],
   "source": [
    "stats.ranksums(race0.area1.values, race0.area4.values)"
   ]
  },
  {
   "cell_type": "code",
   "execution_count": null,
   "metadata": {},
   "outputs": [],
   "source": []
  },
  {
   "cell_type": "code",
   "execution_count": 27,
   "metadata": {},
   "outputs": [
    {
     "data": {
      "text/plain": [
       "RanksumsResult(statistic=-2.8626250646254645, pvalue=0.0042014741162720295)"
      ]
     },
     "execution_count": 27,
     "metadata": {},
     "output_type": "execute_result"
    }
   ],
   "source": [
    "stats.ranksums(race1.area1.values, race1.area2.values)"
   ]
  },
  {
   "cell_type": "code",
   "execution_count": 28,
   "metadata": {},
   "outputs": [
    {
     "data": {
      "text/plain": [
       "RanksumsResult(statistic=-1.9307041903294804, pvalue=0.05351964442978948)"
      ]
     },
     "execution_count": 28,
     "metadata": {},
     "output_type": "execute_result"
    }
   ],
   "source": [
    "stats.ranksums(race1.area1.values, race1.area3.values)"
   ]
  },
  {
   "cell_type": "code",
   "execution_count": 29,
   "metadata": {
    "scrolled": true
   },
   "outputs": [
    {
     "data": {
      "text/plain": [
       "RanksumsResult(statistic=0.6975220956063847, pvalue=0.4854761164932542)"
      ]
     },
     "execution_count": 29,
     "metadata": {},
     "output_type": "execute_result"
    }
   ],
   "source": [
    "stats.ranksums(race1.area1.values, race1.area4.values)"
   ]
  },
  {
   "cell_type": "code",
   "execution_count": null,
   "metadata": {},
   "outputs": [],
   "source": []
  },
  {
   "cell_type": "code",
   "execution_count": null,
   "metadata": {},
   "outputs": [],
   "source": []
  },
  {
   "cell_type": "markdown",
   "metadata": {
    "heading_collapsed": true
   },
   "source": [
    "### GuidedBackProp outputs"
   ]
  },
  {
   "cell_type": "code",
   "execution_count": 18,
   "metadata": {
    "hidden": true
   },
   "outputs": [],
   "source": [
    "guidedBackFolder = '/home/santhosr/Documents/Birad/FastAI/RaceClassification/Visualization/GuidedBack_Outputs/'\n",
    "\n",
    "imageFolder = '/home/santhosr/Documents/Birad/ProcessedData/FullRes/'"
   ]
  },
  {
   "cell_type": "code",
   "execution_count": 19,
   "metadata": {
    "hidden": true
   },
   "outputs": [],
   "source": [
    "fileList = os.listdir(guidedBackFolder)"
   ]
  },
  {
   "cell_type": "code",
   "execution_count": 20,
   "metadata": {
    "hidden": true
   },
   "outputs": [
    {
     "data": {
      "text/plain": [
       "15391"
      ]
     },
     "execution_count": 20,
     "metadata": {},
     "output_type": "execute_result"
    }
   ],
   "source": [
    "len(fileList)"
   ]
  },
  {
   "cell_type": "code",
   "execution_count": 21,
   "metadata": {
    "hidden": true
   },
   "outputs": [
    {
     "data": {
      "text/plain": [
       "False    12326\n",
       "True      3091\n",
       "Name: train, dtype: int64"
      ]
     },
     "execution_count": 21,
     "metadata": {},
     "output_type": "execute_result"
    }
   ],
   "source": [
    "df.train.value_counts()"
   ]
  },
  {
   "cell_type": "code",
   "execution_count": 22,
   "metadata": {
    "hidden": true
   },
   "outputs": [],
   "source": [
    "cleanList = []\n",
    "\n",
    "for i in range(len(fileList)):\n",
    "    \n",
    "    filename = fileList[i].split(\".\")[0]\n",
    "    \n",
    "    if \"CC\" not in filename:\n",
    "        continue\n",
    "    \n",
    "    if \"R\" not in filename:\n",
    "        continue\n",
    "        \n",
    "    if filename not in markerDataFileList:\n",
    "        continue\n",
    "        \n",
    "#     try:\n",
    "#         if df[df.ImageName==filename]['train'][0]==True:\n",
    "#             continue\n",
    "#     except:\n",
    "#         a = 1\n",
    "# #         print(df[df.ImageName==filename]['train'])\n",
    "        \n",
    "    cleanList.append(filename)\n",
    "        \n",
    "    "
   ]
  },
  {
   "cell_type": "code",
   "execution_count": 23,
   "metadata": {
    "hidden": true
   },
   "outputs": [
    {
     "data": {
      "text/plain": [
       "3864"
      ]
     },
     "execution_count": 23,
     "metadata": {},
     "output_type": "execute_result"
    }
   ],
   "source": [
    "len(cleanList)"
   ]
  },
  {
   "cell_type": "markdown",
   "metadata": {
    "heading_collapsed": true
   },
   "source": [
    "### Extracting GuidedBackprop from selected inputs"
   ]
  },
  {
   "cell_type": "code",
   "execution_count": 24,
   "metadata": {
    "hidden": true
   },
   "outputs": [],
   "source": [
    "outList = []\n",
    "\n",
    "for i in range(len(cleanList)):\n",
    "    \n",
    "    filename = cleanList[i]\n",
    "    \n",
    "    try:\n",
    "        grad = pickle.load(open(guidedBackFolder + filename+'.p','rb'))\n",
    "        \n",
    "        \n",
    "        img = df[df.ImageName==filename]['files'].values[0]\n",
    "        img = imread(imageFolder+img)\n",
    "        \n",
    "        imageHeight = img.shape[0]\n",
    "        imageWidth = float(markerData[markerData.filename==filename]['imageWidth'])\n",
    "        mult = round(256/imageWidth,3)\n",
    "        mult1 = round(256/imageHeight,3)\n",
    "\n",
    "        mark1 = int(float(markerData[markerData.filename==filename]['marker1'])*mult)\n",
    "        mark2 = int(float(markerData[markerData.filename==filename]['marker2'])*mult)\n",
    "        mark3 = int(float(markerData[markerData.filename==filename]['marker3'])*mult)\n",
    "        mark4 = int(float(markerData[markerData.filename==filename]['marker4'])*mult)\n",
    "        mark5 = int(float(markerData[markerData.filename==filename]['marker5'])*mult)\n",
    "        \n",
    "        vertMark = int(float(markerData[markerData.filename==filename]['vertMidPoint'])*mult1)\n",
    "\n",
    "        area1 = np.sum(grad[:, mark1:mark2])\n",
    "        area2 = np.sum(grad[:, mark2:mark3])\n",
    "        area3 = np.sum(grad[:, mark3:mark4])\n",
    "        area4 = np.sum(grad[:, mark4:mark5])\n",
    "        \n",
    "        vertArea1 = np.sum(grad[:vertMark, :])\n",
    "        vertArea2 = np.sum(grad[vertMark:, :])\n",
    "\n",
    "        bandGap = mark2 - mark1\n",
    "\n",
    "        totalArea = np.sum(grad)\n",
    "\n",
    "        outList.append([filename, area1,area2,area3,area4, vertArea1, vertArea2, bandGap, totalArea])\n",
    "    \n",
    "    except:\n",
    "        pass\n",
    "    \n",
    "    "
   ]
  },
  {
   "cell_type": "code",
   "execution_count": 25,
   "metadata": {
    "hidden": true
   },
   "outputs": [],
   "source": [
    "outList = pd.DataFrame(outList)"
   ]
  },
  {
   "cell_type": "code",
   "execution_count": 26,
   "metadata": {
    "hidden": true
   },
   "outputs": [],
   "source": [
    "outList.columns = ['filename','area1','area2','area3','area4', 'vertArea1', 'vertArea2','bandGap','totalArea']\n"
   ]
  },
  {
   "cell_type": "code",
   "execution_count": 27,
   "metadata": {
    "hidden": true
   },
   "outputs": [
    {
     "data": {
      "text/html": [
       "<div>\n",
       "<style scoped>\n",
       "    .dataframe tbody tr th:only-of-type {\n",
       "        vertical-align: middle;\n",
       "    }\n",
       "\n",
       "    .dataframe tbody tr th {\n",
       "        vertical-align: top;\n",
       "    }\n",
       "\n",
       "    .dataframe thead th {\n",
       "        text-align: right;\n",
       "    }\n",
       "</style>\n",
       "<table border=\"1\" class=\"dataframe\">\n",
       "  <thead>\n",
       "    <tr style=\"text-align: right;\">\n",
       "      <th></th>\n",
       "      <th>filename</th>\n",
       "      <th>area1</th>\n",
       "      <th>area2</th>\n",
       "      <th>area3</th>\n",
       "      <th>area4</th>\n",
       "      <th>vertArea1</th>\n",
       "      <th>vertArea2</th>\n",
       "      <th>bandGap</th>\n",
       "      <th>totalArea</th>\n",
       "    </tr>\n",
       "  </thead>\n",
       "  <tbody>\n",
       "    <tr>\n",
       "      <th>0</th>\n",
       "      <td>3673890_R_CC_1</td>\n",
       "      <td>1797.597290</td>\n",
       "      <td>1770.078125</td>\n",
       "      <td>1860.002930</td>\n",
       "      <td>3272.370605</td>\n",
       "      <td>9751.776367</td>\n",
       "      <td>12407.451172</td>\n",
       "      <td>29</td>\n",
       "      <td>22159.228516</td>\n",
       "    </tr>\n",
       "    <tr>\n",
       "      <th>1</th>\n",
       "      <td>76434528_R_CC_1</td>\n",
       "      <td>6545.959473</td>\n",
       "      <td>7185.452148</td>\n",
       "      <td>5502.702148</td>\n",
       "      <td>3715.930176</td>\n",
       "      <td>16400.292969</td>\n",
       "      <td>9483.934570</td>\n",
       "      <td>34</td>\n",
       "      <td>25884.226562</td>\n",
       "    </tr>\n",
       "    <tr>\n",
       "      <th>2</th>\n",
       "      <td>75954889_R_CC_1</td>\n",
       "      <td>4069.529053</td>\n",
       "      <td>2910.148926</td>\n",
       "      <td>1149.327271</td>\n",
       "      <td>1000.922852</td>\n",
       "      <td>5628.728516</td>\n",
       "      <td>8429.015625</td>\n",
       "      <td>38</td>\n",
       "      <td>14057.744141</td>\n",
       "    </tr>\n",
       "    <tr>\n",
       "      <th>3</th>\n",
       "      <td>76054106_R_CC_1</td>\n",
       "      <td>1260.093140</td>\n",
       "      <td>1589.450317</td>\n",
       "      <td>2112.616211</td>\n",
       "      <td>2468.351562</td>\n",
       "      <td>11090.153320</td>\n",
       "      <td>9453.588867</td>\n",
       "      <td>23</td>\n",
       "      <td>20543.740234</td>\n",
       "    </tr>\n",
       "    <tr>\n",
       "      <th>4</th>\n",
       "      <td>5221404_R_CC_1</td>\n",
       "      <td>5023.576172</td>\n",
       "      <td>5298.559082</td>\n",
       "      <td>4301.443848</td>\n",
       "      <td>2808.479492</td>\n",
       "      <td>14071.490234</td>\n",
       "      <td>7915.701660</td>\n",
       "      <td>24</td>\n",
       "      <td>21987.193359</td>\n",
       "    </tr>\n",
       "  </tbody>\n",
       "</table>\n",
       "</div>"
      ],
      "text/plain": [
       "          filename        area1        area2        area3        area4  \\\n",
       "0   3673890_R_CC_1  1797.597290  1770.078125  1860.002930  3272.370605   \n",
       "1  76434528_R_CC_1  6545.959473  7185.452148  5502.702148  3715.930176   \n",
       "2  75954889_R_CC_1  4069.529053  2910.148926  1149.327271  1000.922852   \n",
       "3  76054106_R_CC_1  1260.093140  1589.450317  2112.616211  2468.351562   \n",
       "4   5221404_R_CC_1  5023.576172  5298.559082  4301.443848  2808.479492   \n",
       "\n",
       "      vertArea1     vertArea2  bandGap     totalArea  \n",
       "0   9751.776367  12407.451172       29  22159.228516  \n",
       "1  16400.292969   9483.934570       34  25884.226562  \n",
       "2   5628.728516   8429.015625       38  14057.744141  \n",
       "3  11090.153320   9453.588867       23  20543.740234  \n",
       "4  14071.490234   7915.701660       24  21987.193359  "
      ]
     },
     "execution_count": 27,
     "metadata": {},
     "output_type": "execute_result"
    }
   ],
   "source": [
    "outList.head()"
   ]
  },
  {
   "cell_type": "code",
   "execution_count": 28,
   "metadata": {
    "hidden": true
   },
   "outputs": [],
   "source": [
    "outList.patientID = outList.filename.apply(lambda x : x.split(\"_\")[0])\n",
    "\n",
    "outList.area1 = outList.area1/outList.totalArea\n",
    "outList.area2 = outList.area2/outList.totalArea\n",
    "outList.area3 = outList.area3/outList.totalArea\n",
    "outList.area4 = outList.area4/outList.totalArea\n",
    "\n",
    "outList.vertArea1 = outList.vertArea1/outList.totalArea\n",
    "outList.vertArea2 = outList.vertArea2/outList.totalArea\n",
    "\n",
    "\n",
    "\n"
   ]
  },
  {
   "cell_type": "code",
   "execution_count": 29,
   "metadata": {
    "hidden": true
   },
   "outputs": [],
   "source": [
    "outList = pd.merge(outList, df[['ImageName','Race']],left_on='filename',right_on='ImageName')"
   ]
  },
  {
   "cell_type": "code",
   "execution_count": 30,
   "metadata": {
    "hidden": true
   },
   "outputs": [
    {
     "data": {
      "text/html": [
       "<div>\n",
       "<style scoped>\n",
       "    .dataframe tbody tr th:only-of-type {\n",
       "        vertical-align: middle;\n",
       "    }\n",
       "\n",
       "    .dataframe tbody tr th {\n",
       "        vertical-align: top;\n",
       "    }\n",
       "\n",
       "    .dataframe thead th {\n",
       "        text-align: right;\n",
       "    }\n",
       "</style>\n",
       "<table border=\"1\" class=\"dataframe\">\n",
       "  <thead>\n",
       "    <tr style=\"text-align: right;\">\n",
       "      <th></th>\n",
       "      <th>filename</th>\n",
       "      <th>area1</th>\n",
       "      <th>area2</th>\n",
       "      <th>area3</th>\n",
       "      <th>area4</th>\n",
       "      <th>vertArea1</th>\n",
       "      <th>vertArea2</th>\n",
       "      <th>bandGap</th>\n",
       "      <th>totalArea</th>\n",
       "      <th>ImageName</th>\n",
       "      <th>Race</th>\n",
       "    </tr>\n",
       "  </thead>\n",
       "  <tbody>\n",
       "    <tr>\n",
       "      <th>0</th>\n",
       "      <td>3673890_R_CC_1</td>\n",
       "      <td>0.081122</td>\n",
       "      <td>0.079880</td>\n",
       "      <td>0.083938</td>\n",
       "      <td>0.147675</td>\n",
       "      <td>0.440077</td>\n",
       "      <td>0.559923</td>\n",
       "      <td>29</td>\n",
       "      <td>22159.228516</td>\n",
       "      <td>3673890_R_CC_1</td>\n",
       "      <td>1</td>\n",
       "    </tr>\n",
       "    <tr>\n",
       "      <th>1</th>\n",
       "      <td>76434528_R_CC_1</td>\n",
       "      <td>0.252894</td>\n",
       "      <td>0.277600</td>\n",
       "      <td>0.212589</td>\n",
       "      <td>0.143560</td>\n",
       "      <td>0.633602</td>\n",
       "      <td>0.366398</td>\n",
       "      <td>34</td>\n",
       "      <td>25884.226562</td>\n",
       "      <td>76434528_R_CC_1</td>\n",
       "      <td>0</td>\n",
       "    </tr>\n",
       "    <tr>\n",
       "      <th>2</th>\n",
       "      <td>75954889_R_CC_1</td>\n",
       "      <td>0.289487</td>\n",
       "      <td>0.207014</td>\n",
       "      <td>0.081758</td>\n",
       "      <td>0.071201</td>\n",
       "      <td>0.400401</td>\n",
       "      <td>0.599599</td>\n",
       "      <td>38</td>\n",
       "      <td>14057.744141</td>\n",
       "      <td>75954889_R_CC_1</td>\n",
       "      <td>1</td>\n",
       "    </tr>\n",
       "    <tr>\n",
       "      <th>3</th>\n",
       "      <td>76054106_R_CC_1</td>\n",
       "      <td>0.061337</td>\n",
       "      <td>0.077369</td>\n",
       "      <td>0.102835</td>\n",
       "      <td>0.120151</td>\n",
       "      <td>0.539831</td>\n",
       "      <td>0.460169</td>\n",
       "      <td>23</td>\n",
       "      <td>20543.740234</td>\n",
       "      <td>76054106_R_CC_1</td>\n",
       "      <td>1</td>\n",
       "    </tr>\n",
       "    <tr>\n",
       "      <th>4</th>\n",
       "      <td>5221404_R_CC_1</td>\n",
       "      <td>0.228477</td>\n",
       "      <td>0.240984</td>\n",
       "      <td>0.195634</td>\n",
       "      <td>0.127733</td>\n",
       "      <td>0.639986</td>\n",
       "      <td>0.360014</td>\n",
       "      <td>24</td>\n",
       "      <td>21987.193359</td>\n",
       "      <td>5221404_R_CC_1</td>\n",
       "      <td>0</td>\n",
       "    </tr>\n",
       "  </tbody>\n",
       "</table>\n",
       "</div>"
      ],
      "text/plain": [
       "          filename     area1     area2     area3     area4  vertArea1  \\\n",
       "0   3673890_R_CC_1  0.081122  0.079880  0.083938  0.147675   0.440077   \n",
       "1  76434528_R_CC_1  0.252894  0.277600  0.212589  0.143560   0.633602   \n",
       "2  75954889_R_CC_1  0.289487  0.207014  0.081758  0.071201   0.400401   \n",
       "3  76054106_R_CC_1  0.061337  0.077369  0.102835  0.120151   0.539831   \n",
       "4   5221404_R_CC_1  0.228477  0.240984  0.195634  0.127733   0.639986   \n",
       "\n",
       "   vertArea2  bandGap     totalArea        ImageName  Race  \n",
       "0   0.559923       29  22159.228516   3673890_R_CC_1     1  \n",
       "1   0.366398       34  25884.226562  76434528_R_CC_1     0  \n",
       "2   0.599599       38  14057.744141  75954889_R_CC_1     1  \n",
       "3   0.460169       23  20543.740234  76054106_R_CC_1     1  \n",
       "4   0.360014       24  21987.193359   5221404_R_CC_1     0  "
      ]
     },
     "execution_count": 30,
     "metadata": {},
     "output_type": "execute_result"
    }
   ],
   "source": [
    "outList.head()"
   ]
  },
  {
   "cell_type": "code",
   "execution_count": 31,
   "metadata": {
    "hidden": true
   },
   "outputs": [],
   "source": [
    "outList.to_csv('GuidedBackProp_finalOutput.csv',index=False, index_label = False)"
   ]
  },
  {
   "cell_type": "markdown",
   "metadata": {},
   "source": [
    "# Testing"
   ]
  },
  {
   "cell_type": "code",
   "execution_count": 87,
   "metadata": {},
   "outputs": [],
   "source": [
    "outList = pd.read_csv('GuidedBackProp_finalOutput.csv')"
   ]
  },
  {
   "cell_type": "code",
   "execution_count": 88,
   "metadata": {},
   "outputs": [
    {
     "data": {
      "text/html": [
       "<div>\n",
       "<style scoped>\n",
       "    .dataframe tbody tr th:only-of-type {\n",
       "        vertical-align: middle;\n",
       "    }\n",
       "\n",
       "    .dataframe tbody tr th {\n",
       "        vertical-align: top;\n",
       "    }\n",
       "\n",
       "    .dataframe thead th {\n",
       "        text-align: right;\n",
       "    }\n",
       "</style>\n",
       "<table border=\"1\" class=\"dataframe\">\n",
       "  <thead>\n",
       "    <tr style=\"text-align: right;\">\n",
       "      <th></th>\n",
       "      <th>filename</th>\n",
       "      <th>area1</th>\n",
       "      <th>area2</th>\n",
       "      <th>area3</th>\n",
       "      <th>area4</th>\n",
       "      <th>vertArea1</th>\n",
       "      <th>vertArea2</th>\n",
       "      <th>bandGap</th>\n",
       "      <th>totalArea</th>\n",
       "      <th>ImageName</th>\n",
       "      <th>Race</th>\n",
       "    </tr>\n",
       "  </thead>\n",
       "  <tbody>\n",
       "    <tr>\n",
       "      <th>0</th>\n",
       "      <td>3673890_R_CC_1</td>\n",
       "      <td>0.081122</td>\n",
       "      <td>0.079880</td>\n",
       "      <td>0.083938</td>\n",
       "      <td>0.147675</td>\n",
       "      <td>0.440077</td>\n",
       "      <td>0.559923</td>\n",
       "      <td>29</td>\n",
       "      <td>22159.228516</td>\n",
       "      <td>3673890_R_CC_1</td>\n",
       "      <td>1</td>\n",
       "    </tr>\n",
       "    <tr>\n",
       "      <th>1</th>\n",
       "      <td>76434528_R_CC_1</td>\n",
       "      <td>0.252894</td>\n",
       "      <td>0.277600</td>\n",
       "      <td>0.212589</td>\n",
       "      <td>0.143560</td>\n",
       "      <td>0.633602</td>\n",
       "      <td>0.366398</td>\n",
       "      <td>34</td>\n",
       "      <td>25884.226562</td>\n",
       "      <td>76434528_R_CC_1</td>\n",
       "      <td>0</td>\n",
       "    </tr>\n",
       "    <tr>\n",
       "      <th>2</th>\n",
       "      <td>75954889_R_CC_1</td>\n",
       "      <td>0.289487</td>\n",
       "      <td>0.207014</td>\n",
       "      <td>0.081758</td>\n",
       "      <td>0.071201</td>\n",
       "      <td>0.400401</td>\n",
       "      <td>0.599599</td>\n",
       "      <td>38</td>\n",
       "      <td>14057.744141</td>\n",
       "      <td>75954889_R_CC_1</td>\n",
       "      <td>1</td>\n",
       "    </tr>\n",
       "    <tr>\n",
       "      <th>3</th>\n",
       "      <td>76054106_R_CC_1</td>\n",
       "      <td>0.061337</td>\n",
       "      <td>0.077369</td>\n",
       "      <td>0.102835</td>\n",
       "      <td>0.120151</td>\n",
       "      <td>0.539831</td>\n",
       "      <td>0.460169</td>\n",
       "      <td>23</td>\n",
       "      <td>20543.740234</td>\n",
       "      <td>76054106_R_CC_1</td>\n",
       "      <td>1</td>\n",
       "    </tr>\n",
       "    <tr>\n",
       "      <th>4</th>\n",
       "      <td>5221404_R_CC_1</td>\n",
       "      <td>0.228477</td>\n",
       "      <td>0.240984</td>\n",
       "      <td>0.195634</td>\n",
       "      <td>0.127733</td>\n",
       "      <td>0.639986</td>\n",
       "      <td>0.360014</td>\n",
       "      <td>24</td>\n",
       "      <td>21987.193359</td>\n",
       "      <td>5221404_R_CC_1</td>\n",
       "      <td>0</td>\n",
       "    </tr>\n",
       "  </tbody>\n",
       "</table>\n",
       "</div>"
      ],
      "text/plain": [
       "          filename     area1     area2     area3     area4  vertArea1  \\\n",
       "0   3673890_R_CC_1  0.081122  0.079880  0.083938  0.147675   0.440077   \n",
       "1  76434528_R_CC_1  0.252894  0.277600  0.212589  0.143560   0.633602   \n",
       "2  75954889_R_CC_1  0.289487  0.207014  0.081758  0.071201   0.400401   \n",
       "3  76054106_R_CC_1  0.061337  0.077369  0.102835  0.120151   0.539831   \n",
       "4   5221404_R_CC_1  0.228477  0.240984  0.195634  0.127733   0.639986   \n",
       "\n",
       "   vertArea2  bandGap     totalArea        ImageName  Race  \n",
       "0   0.559923       29  22159.228516   3673890_R_CC_1     1  \n",
       "1   0.366398       34  25884.226562  76434528_R_CC_1     0  \n",
       "2   0.599599       38  14057.744141  75954889_R_CC_1     1  \n",
       "3   0.460169       23  20543.740234  76054106_R_CC_1     1  \n",
       "4   0.360014       24  21987.193359   5221404_R_CC_1     0  "
      ]
     },
     "execution_count": 88,
     "metadata": {},
     "output_type": "execute_result"
    }
   ],
   "source": [
    "outList.head()"
   ]
  },
  {
   "cell_type": "code",
   "execution_count": 89,
   "metadata": {},
   "outputs": [],
   "source": [
    "race0 = outList[outList.Race==0]\n",
    "race1 = outList[outList.Race==1]\n",
    "\n"
   ]
  },
  {
   "cell_type": "code",
   "execution_count": 112,
   "metadata": {
    "scrolled": true
   },
   "outputs": [
    {
     "data": {
      "text/html": [
       "<div>\n",
       "<style scoped>\n",
       "    .dataframe tbody tr th:only-of-type {\n",
       "        vertical-align: middle;\n",
       "    }\n",
       "\n",
       "    .dataframe tbody tr th {\n",
       "        vertical-align: top;\n",
       "    }\n",
       "\n",
       "    .dataframe thead th {\n",
       "        text-align: right;\n",
       "    }\n",
       "</style>\n",
       "<table border=\"1\" class=\"dataframe\">\n",
       "  <thead>\n",
       "    <tr style=\"text-align: right;\">\n",
       "      <th></th>\n",
       "      <th>index</th>\n",
       "      <th>0</th>\n",
       "    </tr>\n",
       "  </thead>\n",
       "  <tbody>\n",
       "    <tr>\n",
       "      <th>0</th>\n",
       "      <td>area1</td>\n",
       "      <td>0.182848</td>\n",
       "    </tr>\n",
       "    <tr>\n",
       "      <th>1</th>\n",
       "      <td>area2</td>\n",
       "      <td>0.193773</td>\n",
       "    </tr>\n",
       "    <tr>\n",
       "      <th>2</th>\n",
       "      <td>area3</td>\n",
       "      <td>0.168983</td>\n",
       "    </tr>\n",
       "    <tr>\n",
       "      <th>3</th>\n",
       "      <td>area4</td>\n",
       "      <td>0.145054</td>\n",
       "    </tr>\n",
       "    <tr>\n",
       "      <th>4</th>\n",
       "      <td>vertArea1</td>\n",
       "      <td>0.485422</td>\n",
       "    </tr>\n",
       "    <tr>\n",
       "      <th>5</th>\n",
       "      <td>vertArea2</td>\n",
       "      <td>0.514578</td>\n",
       "    </tr>\n",
       "    <tr>\n",
       "      <th>6</th>\n",
       "      <td>bandGap</td>\n",
       "      <td>38.223819</td>\n",
       "    </tr>\n",
       "    <tr>\n",
       "      <th>7</th>\n",
       "      <td>totalArea</td>\n",
       "      <td>25237.883898</td>\n",
       "    </tr>\n",
       "    <tr>\n",
       "      <th>8</th>\n",
       "      <td>Race</td>\n",
       "      <td>0.000000</td>\n",
       "    </tr>\n",
       "  </tbody>\n",
       "</table>\n",
       "</div>"
      ],
      "text/plain": [
       "       index             0\n",
       "0      area1      0.182848\n",
       "1      area2      0.193773\n",
       "2      area3      0.168983\n",
       "3      area4      0.145054\n",
       "4  vertArea1      0.485422\n",
       "5  vertArea2      0.514578\n",
       "6    bandGap     38.223819\n",
       "7  totalArea  25237.883898\n",
       "8       Race      0.000000"
      ]
     },
     "execution_count": 112,
     "metadata": {},
     "output_type": "execute_result"
    }
   ],
   "source": [
    "race0.mean().reset_index()"
   ]
  },
  {
   "cell_type": "code",
   "execution_count": 113,
   "metadata": {
    "scrolled": true
   },
   "outputs": [
    {
     "data": {
      "text/html": [
       "<div>\n",
       "<style scoped>\n",
       "    .dataframe tbody tr th:only-of-type {\n",
       "        vertical-align: middle;\n",
       "    }\n",
       "\n",
       "    .dataframe tbody tr th {\n",
       "        vertical-align: top;\n",
       "    }\n",
       "\n",
       "    .dataframe thead th {\n",
       "        text-align: right;\n",
       "    }\n",
       "</style>\n",
       "<table border=\"1\" class=\"dataframe\">\n",
       "  <thead>\n",
       "    <tr style=\"text-align: right;\">\n",
       "      <th></th>\n",
       "      <th>index</th>\n",
       "      <th>0</th>\n",
       "    </tr>\n",
       "  </thead>\n",
       "  <tbody>\n",
       "    <tr>\n",
       "      <th>0</th>\n",
       "      <td>area1</td>\n",
       "      <td>0.148802</td>\n",
       "    </tr>\n",
       "    <tr>\n",
       "      <th>1</th>\n",
       "      <td>area2</td>\n",
       "      <td>0.156147</td>\n",
       "    </tr>\n",
       "    <tr>\n",
       "      <th>2</th>\n",
       "      <td>area3</td>\n",
       "      <td>0.150476</td>\n",
       "    </tr>\n",
       "    <tr>\n",
       "      <th>3</th>\n",
       "      <td>area4</td>\n",
       "      <td>0.140735</td>\n",
       "    </tr>\n",
       "    <tr>\n",
       "      <th>4</th>\n",
       "      <td>vertArea1</td>\n",
       "      <td>0.496259</td>\n",
       "    </tr>\n",
       "    <tr>\n",
       "      <th>5</th>\n",
       "      <td>vertArea2</td>\n",
       "      <td>0.503741</td>\n",
       "    </tr>\n",
       "    <tr>\n",
       "      <th>6</th>\n",
       "      <td>bandGap</td>\n",
       "      <td>32.738245</td>\n",
       "    </tr>\n",
       "    <tr>\n",
       "      <th>7</th>\n",
       "      <td>totalArea</td>\n",
       "      <td>23513.298526</td>\n",
       "    </tr>\n",
       "    <tr>\n",
       "      <th>8</th>\n",
       "      <td>Race</td>\n",
       "      <td>1.000000</td>\n",
       "    </tr>\n",
       "  </tbody>\n",
       "</table>\n",
       "</div>"
      ],
      "text/plain": [
       "       index             0\n",
       "0      area1      0.148802\n",
       "1      area2      0.156147\n",
       "2      area3      0.150476\n",
       "3      area4      0.140735\n",
       "4  vertArea1      0.496259\n",
       "5  vertArea2      0.503741\n",
       "6    bandGap     32.738245\n",
       "7  totalArea  23513.298526\n",
       "8       Race      1.000000"
      ]
     },
     "execution_count": 113,
     "metadata": {},
     "output_type": "execute_result"
    }
   ],
   "source": [
    "race1.mean().reset_index()"
   ]
  },
  {
   "cell_type": "code",
   "execution_count": null,
   "metadata": {},
   "outputs": [],
   "source": []
  },
  {
   "cell_type": "code",
   "execution_count": 90,
   "metadata": {},
   "outputs": [],
   "source": [
    "race1 = race1.dropna()\n",
    "race0 = race0.dropna()"
   ]
  },
  {
   "cell_type": "markdown",
   "metadata": {},
   "source": [
    "##### Across Races"
   ]
  },
  {
   "cell_type": "code",
   "execution_count": 91,
   "metadata": {
    "scrolled": true
   },
   "outputs": [
    {
     "data": {
      "text/plain": [
       "RanksumsResult(statistic=11.496050756640878, pvalue=1.3809032351458083e-30)"
      ]
     },
     "execution_count": 91,
     "metadata": {},
     "output_type": "execute_result"
    }
   ],
   "source": [
    "stats.ranksums(race0.area1.values, race1.area1.values)"
   ]
  },
  {
   "cell_type": "code",
   "execution_count": 92,
   "metadata": {},
   "outputs": [
    {
     "data": {
      "text/plain": [
       "RanksumsResult(statistic=12.974300125739907, pvalue=1.7115252614696461e-38)"
      ]
     },
     "execution_count": 92,
     "metadata": {},
     "output_type": "execute_result"
    }
   ],
   "source": [
    "stats.ranksums(race0.area2.values, race1.area2.values)"
   ]
  },
  {
   "cell_type": "code",
   "execution_count": 93,
   "metadata": {},
   "outputs": [
    {
     "data": {
      "text/plain": [
       "RanksumsResult(statistic=7.94312776542786, pvalue=1.9714568955732724e-15)"
      ]
     },
     "execution_count": 93,
     "metadata": {},
     "output_type": "execute_result"
    }
   ],
   "source": [
    "stats.ranksums(race0.area3.values, race1.area3.values)"
   ]
  },
  {
   "cell_type": "code",
   "execution_count": 94,
   "metadata": {},
   "outputs": [
    {
     "data": {
      "text/plain": [
       "RanksumsResult(statistic=1.8858410875104734, pvalue=0.05931637228336264)"
      ]
     },
     "execution_count": 94,
     "metadata": {},
     "output_type": "execute_result"
    }
   ],
   "source": [
    "stats.ranksums(race0.area4.values, race1.area4.values)"
   ]
  },
  {
   "cell_type": "code",
   "execution_count": 60,
   "metadata": {},
   "outputs": [
    {
     "data": {
      "text/plain": [
       "RanksumsResult(statistic=-7.676081094703535, pvalue=1.6402930894491685e-14)"
      ]
     },
     "execution_count": 60,
     "metadata": {},
     "output_type": "execute_result"
    }
   ],
   "source": [
    "stats.ranksums(race0.vertArea1.values, race1.vertArea1.values)"
   ]
  },
  {
   "cell_type": "code",
   "execution_count": null,
   "metadata": {},
   "outputs": [],
   "source": []
  },
  {
   "cell_type": "markdown",
   "metadata": {},
   "source": [
    "##### Within Race"
   ]
  },
  {
   "cell_type": "code",
   "execution_count": 43,
   "metadata": {},
   "outputs": [
    {
     "data": {
      "text/plain": [
       "2.1566796294273863e-06"
      ]
     },
     "execution_count": 43,
     "metadata": {},
     "output_type": "execute_result"
    }
   ],
   "source": [
    "stats.ranksums(race0.area1.values, race0.area2.values)[1]"
   ]
  },
  {
   "cell_type": "code",
   "execution_count": 44,
   "metadata": {},
   "outputs": [
    {
     "data": {
      "text/plain": [
       "0.20683141730192445"
      ]
     },
     "execution_count": 44,
     "metadata": {},
     "output_type": "execute_result"
    }
   ],
   "source": [
    "stats.ranksums(race0.area1.values, race0.area3.values)[1]"
   ]
  },
  {
   "cell_type": "code",
   "execution_count": 45,
   "metadata": {},
   "outputs": [
    {
     "data": {
      "text/plain": [
       "4.528650163397016e-15"
      ]
     },
     "execution_count": 45,
     "metadata": {},
     "output_type": "execute_result"
    }
   ],
   "source": [
    "stats.ranksums(race0.area1.values, race0.area4.values)[1]"
   ]
  },
  {
   "cell_type": "code",
   "execution_count": 46,
   "metadata": {},
   "outputs": [
    {
     "data": {
      "text/plain": [
       "5.943267333753636e-13"
      ]
     },
     "execution_count": 46,
     "metadata": {},
     "output_type": "execute_result"
    }
   ],
   "source": [
    "stats.ranksums(race0.area2.values, race0.area3.values)[1]"
   ]
  },
  {
   "cell_type": "code",
   "execution_count": 47,
   "metadata": {},
   "outputs": [
    {
     "data": {
      "text/plain": [
       "7.718564114493577e-30"
      ]
     },
     "execution_count": 47,
     "metadata": {},
     "output_type": "execute_result"
    }
   ],
   "source": [
    "stats.ranksums(race0.area2.values, race0.area4.values)[1]"
   ]
  },
  {
   "cell_type": "code",
   "execution_count": 48,
   "metadata": {},
   "outputs": [
    {
     "data": {
      "text/plain": [
       "8.96517847174985e-17"
      ]
     },
     "execution_count": 48,
     "metadata": {},
     "output_type": "execute_result"
    }
   ],
   "source": [
    "stats.ranksums(race0.area3.values, race0.area4.values)[1]"
   ]
  },
  {
   "cell_type": "code",
   "execution_count": null,
   "metadata": {},
   "outputs": [],
   "source": []
  },
  {
   "cell_type": "code",
   "execution_count": null,
   "metadata": {},
   "outputs": [],
   "source": []
  },
  {
   "cell_type": "code",
   "execution_count": null,
   "metadata": {},
   "outputs": [],
   "source": []
  },
  {
   "cell_type": "code",
   "execution_count": 49,
   "metadata": {},
   "outputs": [
    {
     "data": {
      "text/plain": [
       "0.0042014741162720295"
      ]
     },
     "execution_count": 49,
     "metadata": {},
     "output_type": "execute_result"
    }
   ],
   "source": [
    "stats.ranksums(race1.area1.values, race1.area2.values)[1]"
   ]
  },
  {
   "cell_type": "code",
   "execution_count": 50,
   "metadata": {},
   "outputs": [
    {
     "data": {
      "text/plain": [
       "0.05351964442978948"
      ]
     },
     "execution_count": 50,
     "metadata": {},
     "output_type": "execute_result"
    }
   ],
   "source": [
    "stats.ranksums(race1.area1.values, race1.area3.values)[1]"
   ]
  },
  {
   "cell_type": "code",
   "execution_count": 51,
   "metadata": {},
   "outputs": [
    {
     "data": {
      "text/plain": [
       "0.4854761164932542"
      ]
     },
     "execution_count": 51,
     "metadata": {},
     "output_type": "execute_result"
    }
   ],
   "source": [
    "stats.ranksums(race1.area1.values, race1.area4.values)[1]"
   ]
  },
  {
   "cell_type": "code",
   "execution_count": 52,
   "metadata": {},
   "outputs": [
    {
     "data": {
      "text/plain": [
       "0.15024859362935442"
      ]
     },
     "execution_count": 52,
     "metadata": {},
     "output_type": "execute_result"
    }
   ],
   "source": [
    "stats.ranksums(race1.area2.values, race1.area3.values)[1]"
   ]
  },
  {
   "cell_type": "code",
   "execution_count": 53,
   "metadata": {},
   "outputs": [
    {
     "data": {
      "text/plain": [
       "3.0218982832553113e-05"
      ]
     },
     "execution_count": 53,
     "metadata": {},
     "output_type": "execute_result"
    }
   ],
   "source": [
    "stats.ranksums(race1.area2.values, race1.area4.values)[1]"
   ]
  },
  {
   "cell_type": "code",
   "execution_count": 54,
   "metadata": {},
   "outputs": [
    {
     "data": {
      "text/plain": [
       "0.00310387168061006"
      ]
     },
     "execution_count": 54,
     "metadata": {},
     "output_type": "execute_result"
    }
   ],
   "source": [
    "stats.ranksums(race1.area3.values, race1.area4.values)[1]"
   ]
  },
  {
   "cell_type": "code",
   "execution_count": null,
   "metadata": {},
   "outputs": [],
   "source": []
  },
  {
   "cell_type": "code",
   "execution_count": null,
   "metadata": {},
   "outputs": [],
   "source": []
  },
  {
   "cell_type": "code",
   "execution_count": null,
   "metadata": {},
   "outputs": [],
   "source": []
  },
  {
   "cell_type": "code",
   "execution_count": null,
   "metadata": {},
   "outputs": [],
   "source": []
  },
  {
   "cell_type": "code",
   "execution_count": null,
   "metadata": {},
   "outputs": [],
   "source": []
  },
  {
   "cell_type": "code",
   "execution_count": null,
   "metadata": {},
   "outputs": [],
   "source": []
  },
  {
   "cell_type": "code",
   "execution_count": null,
   "metadata": {},
   "outputs": [],
   "source": []
  },
  {
   "cell_type": "code",
   "execution_count": null,
   "metadata": {},
   "outputs": [],
   "source": []
  },
  {
   "cell_type": "code",
   "execution_count": null,
   "metadata": {},
   "outputs": [],
   "source": []
  },
  {
   "cell_type": "code",
   "execution_count": null,
   "metadata": {},
   "outputs": [],
   "source": []
  },
  {
   "cell_type": "code",
   "execution_count": null,
   "metadata": {},
   "outputs": [],
   "source": []
  },
  {
   "cell_type": "code",
   "execution_count": null,
   "metadata": {},
   "outputs": [],
   "source": []
  },
  {
   "cell_type": "markdown",
   "metadata": {},
   "source": [
    "With just the valid data"
   ]
  },
  {
   "cell_type": "code",
   "execution_count": 96,
   "metadata": {
    "scrolled": true
   },
   "outputs": [
    {
     "data": {
      "text/html": [
       "<div>\n",
       "<style scoped>\n",
       "    .dataframe tbody tr th:only-of-type {\n",
       "        vertical-align: middle;\n",
       "    }\n",
       "\n",
       "    .dataframe tbody tr th {\n",
       "        vertical-align: top;\n",
       "    }\n",
       "\n",
       "    .dataframe thead th {\n",
       "        text-align: right;\n",
       "    }\n",
       "</style>\n",
       "<table border=\"1\" class=\"dataframe\">\n",
       "  <thead>\n",
       "    <tr style=\"text-align: right;\">\n",
       "      <th></th>\n",
       "      <th>index</th>\n",
       "      <th>0</th>\n",
       "    </tr>\n",
       "  </thead>\n",
       "  <tbody>\n",
       "    <tr>\n",
       "      <th>0</th>\n",
       "      <td>area1</td>\n",
       "      <td>0.196057</td>\n",
       "    </tr>\n",
       "    <tr>\n",
       "      <th>1</th>\n",
       "      <td>area2</td>\n",
       "      <td>0.211874</td>\n",
       "    </tr>\n",
       "    <tr>\n",
       "      <th>2</th>\n",
       "      <td>area3</td>\n",
       "      <td>0.179653</td>\n",
       "    </tr>\n",
       "    <tr>\n",
       "      <th>3</th>\n",
       "      <td>area4</td>\n",
       "      <td>0.145786</td>\n",
       "    </tr>\n",
       "    <tr>\n",
       "      <th>4</th>\n",
       "      <td>vertArea1</td>\n",
       "      <td>0.495530</td>\n",
       "    </tr>\n",
       "    <tr>\n",
       "      <th>5</th>\n",
       "      <td>vertArea2</td>\n",
       "      <td>0.504470</td>\n",
       "    </tr>\n",
       "    <tr>\n",
       "      <th>6</th>\n",
       "      <td>bandGap</td>\n",
       "      <td>37.954606</td>\n",
       "    </tr>\n",
       "    <tr>\n",
       "      <th>7</th>\n",
       "      <td>totalArea</td>\n",
       "      <td>26475.577114</td>\n",
       "    </tr>\n",
       "    <tr>\n",
       "      <th>8</th>\n",
       "      <td>Race</td>\n",
       "      <td>0.000000</td>\n",
       "    </tr>\n",
       "  </tbody>\n",
       "</table>\n",
       "</div>"
      ],
      "text/plain": [
       "       index             0\n",
       "0      area1      0.196057\n",
       "1      area2      0.211874\n",
       "2      area3      0.179653\n",
       "3      area4      0.145786\n",
       "4  vertArea1      0.495530\n",
       "5  vertArea2      0.504470\n",
       "6    bandGap     37.954606\n",
       "7  totalArea  26475.577114\n",
       "8       Race      0.000000"
      ]
     },
     "execution_count": 96,
     "metadata": {},
     "output_type": "execute_result"
    }
   ],
   "source": [
    "race0.mean().reset_index()"
   ]
  },
  {
   "cell_type": "code",
   "execution_count": 97,
   "metadata": {
    "scrolled": true
   },
   "outputs": [
    {
     "data": {
      "text/html": [
       "<div>\n",
       "<style scoped>\n",
       "    .dataframe tbody tr th:only-of-type {\n",
       "        vertical-align: middle;\n",
       "    }\n",
       "\n",
       "    .dataframe tbody tr th {\n",
       "        vertical-align: top;\n",
       "    }\n",
       "\n",
       "    .dataframe thead th {\n",
       "        text-align: right;\n",
       "    }\n",
       "</style>\n",
       "<table border=\"1\" class=\"dataframe\">\n",
       "  <thead>\n",
       "    <tr style=\"text-align: right;\">\n",
       "      <th></th>\n",
       "      <th>index</th>\n",
       "      <th>0</th>\n",
       "    </tr>\n",
       "  </thead>\n",
       "  <tbody>\n",
       "    <tr>\n",
       "      <th>0</th>\n",
       "      <td>area1</td>\n",
       "      <td>0.151298</td>\n",
       "    </tr>\n",
       "    <tr>\n",
       "      <th>1</th>\n",
       "      <td>area2</td>\n",
       "      <td>0.166611</td>\n",
       "    </tr>\n",
       "    <tr>\n",
       "      <th>2</th>\n",
       "      <td>area3</td>\n",
       "      <td>0.163277</td>\n",
       "    </tr>\n",
       "    <tr>\n",
       "      <th>3</th>\n",
       "      <td>area4</td>\n",
       "      <td>0.151495</td>\n",
       "    </tr>\n",
       "    <tr>\n",
       "      <th>4</th>\n",
       "      <td>vertArea1</td>\n",
       "      <td>0.481080</td>\n",
       "    </tr>\n",
       "    <tr>\n",
       "      <th>5</th>\n",
       "      <td>vertArea2</td>\n",
       "      <td>0.518920</td>\n",
       "    </tr>\n",
       "    <tr>\n",
       "      <th>6</th>\n",
       "      <td>bandGap</td>\n",
       "      <td>32.952120</td>\n",
       "    </tr>\n",
       "    <tr>\n",
       "      <th>7</th>\n",
       "      <td>totalArea</td>\n",
       "      <td>24439.231262</td>\n",
       "    </tr>\n",
       "    <tr>\n",
       "      <th>8</th>\n",
       "      <td>Race</td>\n",
       "      <td>1.000000</td>\n",
       "    </tr>\n",
       "  </tbody>\n",
       "</table>\n",
       "</div>"
      ],
      "text/plain": [
       "       index             0\n",
       "0      area1      0.151298\n",
       "1      area2      0.166611\n",
       "2      area3      0.163277\n",
       "3      area4      0.151495\n",
       "4  vertArea1      0.481080\n",
       "5  vertArea2      0.518920\n",
       "6    bandGap     32.952120\n",
       "7  totalArea  24439.231262\n",
       "8       Race      1.000000"
      ]
     },
     "execution_count": 97,
     "metadata": {},
     "output_type": "execute_result"
    }
   ],
   "source": [
    "race1.mean().reset_index()"
   ]
  },
  {
   "cell_type": "code",
   "execution_count": null,
   "metadata": {},
   "outputs": [],
   "source": []
  }
 ],
 "metadata": {
  "kernelspec": {
   "display_name": "python3.6",
   "language": "python",
   "name": "fastai"
  },
  "language_info": {
   "codemirror_mode": {
    "name": "ipython",
    "version": 3
   },
   "file_extension": ".py",
   "mimetype": "text/x-python",
   "name": "python",
   "nbconvert_exporter": "python",
   "pygments_lexer": "ipython3",
   "version": "3.6.9"
  }
 },
 "nbformat": 4,
 "nbformat_minor": 2
}
