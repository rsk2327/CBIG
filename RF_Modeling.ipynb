{
 "cells": [
  {
   "cell_type": "code",
   "execution_count": 1,
   "metadata": {},
   "outputs": [
    {
     "name": "stderr",
     "output_type": "stream",
     "text": [
      "/cbica/software/external/python/anaconda/2/envs/default/lib/python2.7/site-packages/h5py/__init__.py:36: FutureWarning: Conversion of the second argument of issubdtype from `float` to `np.floating` is deprecated. In future, it will be treated as `np.float64 == np.dtype(float).type`.\n",
      "  from ._conv import register_converters as _register_converters\n",
      "Using TensorFlow backend.\n"
     ]
    }
   ],
   "source": [
    "import pandas as pd\n",
    "import numpy as np\n",
    "import os\n",
    "import pydicom\n",
    "import matplotlib.pyplot as plt\n",
    "\n",
    "from scipy.misc import imsave\n",
    "from imageio import imwrite, imread\n",
    "from tqdm import tqdm\n",
    "from skimage import *\n",
    "import itertools\n",
    "\n",
    "import keras\n",
    "from keras.preprocessing import image\n",
    "\n",
    "%matplotlib inline\n",
    "\n",
    "from sklearn.decomposition import PCA\n",
    "from sklearn.model_selection import train_test_split\n",
    "from sklearn.metrics import confusion_matrix,accuracy_score, f1_score\n",
    "from sklearn.model_selection import cross_val_score\n",
    "\n",
    "from sklearn.ensemble import RandomForestClassifier, ExtraTreesClassifier\n",
    "from sklearn.model_selection import GridSearchCV\n",
    "\n",
    "\n",
    "# !pip install tqdm --user"
   ]
  },
  {
   "cell_type": "code",
   "execution_count": 2,
   "metadata": {},
   "outputs": [],
   "source": [
    "%run '/gpfs/cbica/home/santhosr/Codes/utils.py'"
   ]
  },
  {
   "cell_type": "code",
   "execution_count": null,
   "metadata": {},
   "outputs": [],
   "source": []
  },
  {
   "cell_type": "code",
   "execution_count": 3,
   "metadata": {},
   "outputs": [
    {
     "name": "stderr",
     "output_type": "stream",
     "text": [
      "100%|██████████| 200/200 [00:18<00:00, 11.90it/s]\n",
      "100%|██████████| 200/200 [00:17<00:00, 11.59it/s]\n"
     ]
    }
   ],
   "source": [
    "numSamples0 = 200\n",
    "numSamples1 = 200\n",
    "\n",
    "X0 = []\n",
    "X1 = []\n",
    "\n",
    "baseDir0 = '/gpfs/cbica/home/santhosr/Datasets/jpeg/0'\n",
    "baseDir1 = '/gpfs/cbica/home/santhosr/Datasets/jpeg/1'\n",
    "\n",
    "# Non Cancer images\n",
    "fileList = os.listdir(baseDir0)\n",
    "np.random.shuffle(fileList)\n",
    "fileList = fileList[:numSamples0]\n",
    "\n",
    "for i in tqdm(range(numSamples0)):\n",
    "    img = read_img(os.path.join(baseDir0,fileList[i]),(225,225))\n",
    "    img = img.reshape((img.shape[0]*img.shape[1],))\n",
    "    X0.append(img)\n",
    "    \n",
    "    \n",
    "# Cancer images\n",
    "fileList = os.listdir(baseDir1)\n",
    "np.random.shuffle(fileList)\n",
    "fileList = fileList[:numSamples1]\n",
    "\n",
    "for i in tqdm(range(numSamples1)):\n",
    "    img = read_img(os.path.join(baseDir1,fileList[i]),(225,225))\n",
    "    img = img.reshape((img.shape[0]*img.shape[1],))\n",
    "    X1.append(img)\n",
    "\n"
   ]
  },
  {
   "cell_type": "code",
   "execution_count": 4,
   "metadata": {},
   "outputs": [],
   "source": [
    "X0 = np.array(X0)\n",
    "X1 = np.array(X1)\n"
   ]
  },
  {
   "cell_type": "code",
   "execution_count": 5,
   "metadata": {},
   "outputs": [],
   "source": [
    "def shuffleCombineData(x0,x1):\n",
    "    \n",
    "    e = [(x,0) for x in x0]\n",
    "    f = [(x,1) for x in x1]\n",
    "    e = e+f\n",
    "    \n",
    "    np.random.shuffle(e)\n",
    "    \n",
    "    X = np.array([x[0] for x in e])\n",
    "    y = [x[1] for x in e]\n",
    "    \n",
    "    return X,y"
   ]
  },
  {
   "cell_type": "code",
   "execution_count": 6,
   "metadata": {},
   "outputs": [],
   "source": [
    "X,y =shuffleCombineData(X0,X1)"
   ]
  },
  {
   "cell_type": "code",
   "execution_count": 7,
   "metadata": {},
   "outputs": [
    {
     "data": {
      "text/plain": [
       "(400, 50625)"
      ]
     },
     "execution_count": 7,
     "metadata": {},
     "output_type": "execute_result"
    }
   ],
   "source": [
    "X.shape"
   ]
  },
  {
   "cell_type": "code",
   "execution_count": 39,
   "metadata": {},
   "outputs": [
    {
     "data": {
      "text/plain": [
       "PCA(copy=True, iterated_power='auto', n_components=1500, random_state=None,\n",
       "  svd_solver='auto', tol=0.0, whiten=False)"
      ]
     },
     "execution_count": 39,
     "metadata": {},
     "output_type": "execute_result"
    }
   ],
   "source": [
    "pcaModel = PCA(n_components=1500)\n",
    "pcaModel.fit(X)"
   ]
  },
  {
   "cell_type": "code",
   "execution_count": 40,
   "metadata": {},
   "outputs": [
    {
     "data": {
      "text/plain": [
       "1.0"
      ]
     },
     "execution_count": 40,
     "metadata": {},
     "output_type": "execute_result"
    }
   ],
   "source": [
    "np.sum(pcaModel.explained_variance_ratio_)"
   ]
  },
  {
   "cell_type": "code",
   "execution_count": 41,
   "metadata": {},
   "outputs": [],
   "source": [
    "pcaX = pcaModel.transform(X)"
   ]
  },
  {
   "cell_type": "code",
   "execution_count": 42,
   "metadata": {},
   "outputs": [
    {
     "data": {
      "text/plain": [
       "(400, 400)"
      ]
     },
     "execution_count": 42,
     "metadata": {},
     "output_type": "execute_result"
    }
   ],
   "source": [
    "pcaX.shape"
   ]
  },
  {
   "cell_type": "code",
   "execution_count": 43,
   "metadata": {},
   "outputs": [],
   "source": [
    "trainx,testx,trainy,testy = train_test_split(pcaX,y,test_size = 0.1)"
   ]
  },
  {
   "cell_type": "markdown",
   "metadata": {},
   "source": [
    "### Random Forest"
   ]
  },
  {
   "cell_type": "code",
   "execution_count": 42,
   "metadata": {},
   "outputs": [],
   "source": [
    "rfModel = RandomForestClassifier(n_estimators=1000,max_depth=6, min_samples_leaf=4)\n",
    "\n",
    "# rfModel = RandomForestClassifier()"
   ]
  },
  {
   "cell_type": "code",
   "execution_count": 43,
   "metadata": {},
   "outputs": [
    {
     "data": {
      "text/plain": [
       "RandomForestClassifier(bootstrap=True, class_weight=None, criterion='gini',\n",
       "            max_depth=6, max_features='auto', max_leaf_nodes=None,\n",
       "            min_impurity_decrease=0.0, min_impurity_split=None,\n",
       "            min_samples_leaf=4, min_samples_split=2,\n",
       "            min_weight_fraction_leaf=0.0, n_estimators=1000, n_jobs=1,\n",
       "            oob_score=False, random_state=None, verbose=0,\n",
       "            warm_start=False)"
      ]
     },
     "execution_count": 43,
     "metadata": {},
     "output_type": "execute_result"
    }
   ],
   "source": [
    "rfModel.fit(trainx,trainy)"
   ]
  },
  {
   "cell_type": "code",
   "execution_count": 44,
   "metadata": {},
   "outputs": [
    {
     "name": "stdout",
     "output_type": "stream",
     "text": [
      "Confusion matrix, without normalization\n",
      "[[11  6]\n",
      " [13 10]]\n",
      "Accuracy - Train : 1.0  Test : 0.525\n",
      "F1 Score - Train : 1.0  Test : 0.512820512821\n",
      "----------------------\n"
     ]
    },
    {
     "data": {
      "image/png": "[encoded data removed]",
      "text/plain": [
       "<Figure size 432x288 with 2 Axes>"
      ]
     },
     "metadata": {},
     "output_type": "display_data"
    }
   ],
   "source": [
    "printResults(rfModel,trainx,trainy,testx,testy)"
   ]
  },
  {
   "cell_type": "code",
   "execution_count": 151,
   "metadata": {},
   "outputs": [
    {
     "data": {
      "text/plain": [
       "0.575"
      ]
     },
     "execution_count": 151,
     "metadata": {},
     "output_type": "execute_result"
    }
   ],
   "source": [
    "accuracy_score(testy,pred)"
   ]
  },
  {
   "cell_type": "code",
   "execution_count": 152,
   "metadata": {},
   "outputs": [
    {
     "data": {
      "text/plain": [
       "0.5142857142857143"
      ]
     },
     "execution_count": 152,
     "metadata": {},
     "output_type": "execute_result"
    }
   ],
   "source": [
    "f1_score(testy,pred)\n"
   ]
  },
  {
   "cell_type": "code",
   "execution_count": 153,
   "metadata": {},
   "outputs": [],
   "source": [
    "cv = cross_val_score(rfModel,pcaX,y,cv=5,scoring='accuracy')"
   ]
  },
  {
   "cell_type": "code",
   "execution_count": 154,
   "metadata": {},
   "outputs": [
    {
     "data": {
      "text/plain": [
       "array([0.55, 0.51, 0.6 , 0.51, 0.6 ])"
      ]
     },
     "execution_count": 154,
     "metadata": {},
     "output_type": "execute_result"
    }
   ],
   "source": [
    "cv"
   ]
  },
  {
   "cell_type": "code",
   "execution_count": 35,
   "metadata": {},
   "outputs": [],
   "source": [
    "param_grid = {\"n_estimators\": [3, None],\n",
    "              \"max_features\": [1, 3, 10],\n",
    "              \"min_samples_split\": [2, 3, 10],\n",
    "              \"bootstrap\": [True, False],\n",
    "              \"criterion\": [\"gini\", \"entropy\"]}\n",
    "\n",
    "param_grid = {\"n_estimators\": [500,1000],\n",
    "              \"max_depth\":[10,15]\n",
    "              }"
   ]
  },
  {
   "cell_type": "code",
   "execution_count": 36,
   "metadata": {},
   "outputs": [],
   "source": [
    "grid_search = GridSearchCV(rfModel, param_grid=param_grid, cv=5)"
   ]
  },
  {
   "cell_type": "code",
   "execution_count": 37,
   "metadata": {
    "scrolled": false
   },
   "outputs": [
    {
     "data": {
      "text/plain": [
       "GridSearchCV(cv=5, error_score='raise',\n",
       "       estimator=RandomForestClassifier(bootstrap=True, class_weight=None, criterion='gini',\n",
       "            max_depth=4, max_features='auto', max_leaf_nodes=None,\n",
       "            min_impurity_decrease=0.0, min_impurity_split=None,\n",
       "            min_samples_leaf=4, min_samples_split=2,\n",
       "            min_weight_fraction_leaf=0.0, n_estimators=200, n_jobs=1,\n",
       "            oob_score=False, random_state=None, verbose=0,\n",
       "            warm_start=False),\n",
       "       fit_params=None, iid=True, n_jobs=1,\n",
       "       param_grid={'n_estimators': [500, 1000], 'max_depth': [10, 15]},\n",
       "       pre_dispatch='2*n_jobs', refit=True, return_train_score='warn',\n",
       "       scoring=None, verbose=0)"
      ]
     },
     "execution_count": 37,
     "metadata": {},
     "output_type": "execute_result"
    }
   ],
   "source": [
    "grid_search.fit(trainx,trainy)"
   ]
  },
  {
   "cell_type": "code",
   "execution_count": 38,
   "metadata": {},
   "outputs": [
    {
     "name": "stderr",
     "output_type": "stream",
     "text": [
      "/cbica/software/external/python/anaconda/2/envs/default/lib/python2.7/site-packages/sklearn/model_selection/_search.py:761: DeprecationWarning: The grid_scores_ attribute was deprecated in version 0.18 in favor of the more elaborate cv_results_ attribute. The grid_scores_ attribute will not be available from 0.20\n",
      "  DeprecationWarning)\n"
     ]
    },
    {
     "data": {
      "text/plain": [
       "[mean: 0.55278, std: 0.01380, params: {'n_estimators': 500, 'max_depth': 10},\n",
       " mean: 0.53333, std: 0.05015, params: {'n_estimators': 1000, 'max_depth': 10},\n",
       " mean: 0.52222, std: 0.03722, params: {'n_estimators': 500, 'max_depth': 15},\n",
       " mean: 0.53889, std: 0.04496, params: {'n_estimators': 1000, 'max_depth': 15}]"
      ]
     },
     "execution_count": 38,
     "metadata": {},
     "output_type": "execute_result"
    }
   ],
   "source": [
    "grid_search.grid_scores_"
   ]
  },
  {
   "cell_type": "markdown",
   "metadata": {},
   "source": [
    "## XGBoost"
   ]
  },
  {
   "cell_type": "code",
   "execution_count": 13,
   "metadata": {},
   "outputs": [],
   "source": [
    " from xgboost import XGBClassifier"
   ]
  },
  {
   "cell_type": "code",
   "execution_count": 14,
   "metadata": {},
   "outputs": [],
   "source": [
    "xgModel = XGBClassifier()"
   ]
  },
  {
   "cell_type": "code",
   "execution_count": 18,
   "metadata": {},
   "outputs": [
    {
     "data": {
      "text/plain": [
       "XGBClassifier(base_score=0.5, booster='gbtree', colsample_bylevel=1,\n",
       "       colsample_bytree=1, gamma=0, learning_rate=0.1, max_delta_step=0,\n",
       "       max_depth=3, min_child_weight=1, missing=None, n_estimators=100,\n",
       "       n_jobs=1, nthread=None, objective='binary:logistic', random_state=0,\n",
       "       reg_alpha=0, reg_lambda=1, scale_pos_weight=1, seed=None,\n",
       "       silent=True, subsample=1)"
      ]
     },
     "execution_count": 18,
     "metadata": {},
     "output_type": "execute_result"
    }
   ],
   "source": [
    "xgModel.fit(trainx,trainy)"
   ]
  },
  {
   "cell_type": "code",
   "execution_count": 19,
   "metadata": {},
   "outputs": [
    {
     "name": "stderr",
     "output_type": "stream",
     "text": [
      "/cbica/software/external/python/anaconda/2/envs/default/lib/python2.7/site-packages/sklearn/preprocessing/label.py:151: DeprecationWarning: The truth value of an empty array is ambiguous. Returning False, but in future this will result in an error. Use `array.size > 0` to check that an array is not empty.\n",
      "  if diff:\n",
      "/cbica/software/external/python/anaconda/2/envs/default/lib/python2.7/site-packages/sklearn/preprocessing/label.py:151: DeprecationWarning: The truth value of an empty array is ambiguous. Returning False, but in future this will result in an error. Use `array.size > 0` to check that an array is not empty.\n",
      "  if diff:\n"
     ]
    },
    {
     "name": "stdout",
     "output_type": "stream",
     "text": [
      "Confusion matrix, without normalization\n",
      "[[12  3]\n",
      " [14 11]]\n",
      "Accuracy - Train : 1.0  Test : 0.575\n",
      "F1 Score - Train : 1.0  Test : 0.564102564103\n",
      "----------------------\n"
     ]
    },
    {
     "data": {
      "image/png": "[encoded data removed]",
      "text/plain": [
       "<Figure size 432x288 with 2 Axes>"
      ]
     },
     "metadata": {},
     "output_type": "display_data"
    }
   ],
   "source": [
    "printResults(xgModel,trainx,trainy,testx,testy)"
   ]
  },
  {
   "cell_type": "code",
   "execution_count": 22,
   "metadata": {},
   "outputs": [
    {
     "name": "stderr",
     "output_type": "stream",
     "text": [
      "/cbica/software/external/python/anaconda/2/envs/default/lib/python2.7/site-packages/sklearn/preprocessing/label.py:151: DeprecationWarning: The truth value of an empty array is ambiguous. Returning False, but in future this will result in an error. Use `array.size > 0` to check that an array is not empty.\n",
      "  if diff:\n",
      "/cbica/software/external/python/anaconda/2/envs/default/lib/python2.7/site-packages/sklearn/preprocessing/label.py:151: DeprecationWarning: The truth value of an empty array is ambiguous. Returning False, but in future this will result in an error. Use `array.size > 0` to check that an array is not empty.\n",
      "  if diff:\n",
      "/cbica/software/external/python/anaconda/2/envs/default/lib/python2.7/site-packages/sklearn/preprocessing/label.py:151: DeprecationWarning: The truth value of an empty array is ambiguous. Returning False, but in future this will result in an error. Use `array.size > 0` to check that an array is not empty.\n",
      "  if diff:\n",
      "/cbica/software/external/python/anaconda/2/envs/default/lib/python2.7/site-packages/sklearn/preprocessing/label.py:151: DeprecationWarning: The truth value of an empty array is ambiguous. Returning False, but in future this will result in an error. Use `array.size > 0` to check that an array is not empty.\n",
      "  if diff:\n",
      "/cbica/software/external/python/anaconda/2/envs/default/lib/python2.7/site-packages/sklearn/preprocessing/label.py:151: DeprecationWarning: The truth value of an empty array is ambiguous. Returning False, but in future this will result in an error. Use `array.size > 0` to check that an array is not empty.\n",
      "  if diff:\n"
     ]
    }
   ],
   "source": [
    "cv = cross_val_score(xgModel,pcaX,y,cv=5,scoring='accuracy')"
   ]
  },
  {
   "cell_type": "code",
   "execution_count": 23,
   "metadata": {},
   "outputs": [
    {
     "data": {
      "text/plain": [
       "array([0.53, 0.56, 0.64, 0.54, 0.4 ])"
      ]
     },
     "execution_count": 23,
     "metadata": {},
     "output_type": "execute_result"
    }
   ],
   "source": [
    "cv"
   ]
  },
  {
   "cell_type": "code",
   "execution_count": 24,
   "metadata": {},
   "outputs": [
    {
     "data": {
      "text/plain": [
       "0.5325"
      ]
     },
     "execution_count": 24,
     "metadata": {},
     "output_type": "execute_result"
    }
   ],
   "source": [
    "np.mean(cv)"
   ]
  },
  {
   "cell_type": "markdown",
   "metadata": {},
   "source": [
    "## LighGBM"
   ]
  },
  {
   "cell_type": "code",
   "execution_count": 26,
   "metadata": {},
   "outputs": [
    {
     "name": "stdout",
     "output_type": "stream",
     "text": [
      "Collecting lightgbm\n",
      "\u001b[?25l  Downloading https://files.pythonhosted.org/packages/4c/3b/4ae113193b4ee01387ed76d5eea32788aec0589df9ae7378a8b7443eaa8b/lightgbm-2.2.2-py2.py3-none-manylinux1_x86_64.whl (1.2MB)\n",
      "\u001b[K    100% |████████████████████████████████| 1.2MB 506kB/s eta 0:00:01\n",
      "\u001b[?25hRequirement already satisfied: scipy in /cbica/software/external/python/anaconda/2/envs/default/lib/python2.7/site-packages (from lightgbm) (1.1.0)\n",
      "Requirement already satisfied: numpy in /cbica/software/external/python/anaconda/2/envs/default/lib/python2.7/site-packages (from lightgbm) (1.14.3)\n",
      "Requirement already satisfied: scikit-learn in /cbica/software/external/python/anaconda/2/envs/default/lib/python2.7/site-packages (from lightgbm) (0.19.1)\n",
      "Installing collected packages: lightgbm\n",
      "Successfully installed lightgbm-2.2.2\n",
      "\u001b[33mYou are using pip version 18.0, however version 18.1 is available.\n",
      "You should consider upgrading via the 'pip install --upgrade pip' command.\u001b[0m\n"
     ]
    }
   ],
   "source": [
    "!pip install lightgbm --user"
   ]
  },
  {
   "cell_type": "code",
   "execution_count": 27,
   "metadata": {},
   "outputs": [],
   "source": [
    "import lightgbm"
   ]
  },
  {
   "cell_type": "code",
   "execution_count": 44,
   "metadata": {},
   "outputs": [],
   "source": [
    "train_data = lightgbm.Dataset(trainx,label = trainy)\n",
    "test_data = lightgbm.Dataset(testx,label = testy)"
   ]
  },
  {
   "cell_type": "code",
   "execution_count": 45,
   "metadata": {},
   "outputs": [],
   "source": [
    "parameters = {\n",
    "    'application': 'binary',\n",
    "    'objective': 'binary',\n",
    "    'metric': 'auc',\n",
    "    'is_unbalance': 'true',\n",
    "    'boosting': 'gbdt',\n",
    "    'num_leaves': 100,\n",
    "    'feature_fraction': 0.5,\n",
    "    'bagging_fraction': 0.5,\n",
    "    'bagging_freq': 20,\n",
    "    'learning_rate': 0.001,\n",
    "    'verbose': 0\n",
    "}"
   ]
  },
  {
   "cell_type": "code",
   "execution_count": 46,
   "metadata": {},
   "outputs": [
    {
     "name": "stdout",
     "output_type": "stream",
     "text": [
      "[1]\tvalid_0's auc: 0.42803\n",
      "Training until validation scores don't improve for 400 rounds.\n",
      "[2]\tvalid_0's auc: 0.491162\n",
      "[3]\tvalid_0's auc: 0.521465\n",
      "[4]\tvalid_0's auc: 0.469697\n",
      "[5]\tvalid_0's auc: 0.445707\n",
      "[6]\tvalid_0's auc: 0.474747\n",
      "[7]\tvalid_0's auc: 0.532828\n",
      "[8]\tvalid_0's auc: 0.469697\n",
      "[9]\tvalid_0's auc: 0.487374\n",
      "[10]\tvalid_0's auc: 0.477273\n",
      "[11]\tvalid_0's auc: 0.467172\n",
      "[12]\tvalid_0's auc: 0.459596\n",
      "[13]\tvalid_0's auc: 0.462121\n",
      "[14]\tvalid_0's auc: 0.462121\n",
      "[15]\tvalid_0's auc: 0.441919\n",
      "[16]\tvalid_0's auc: 0.44697\n",
      "[17]\tvalid_0's auc: 0.441919\n",
      "[18]\tvalid_0's auc: 0.434343\n",
      "[19]\tvalid_0's auc: 0.431818\n",
      "[20]\tvalid_0's auc: 0.436869\n",
      "[21]\tvalid_0's auc: 0.414141\n",
      "[22]\tvalid_0's auc: 0.44697\n",
      "[23]\tvalid_0's auc: 0.454545\n",
      "[24]\tvalid_0's auc: 0.44697\n",
      "[25]\tvalid_0's auc: 0.45202\n",
      "[26]\tvalid_0's auc: 0.464646\n",
      "[27]\tvalid_0's auc: 0.477273\n",
      "[28]\tvalid_0's auc: 0.469697\n",
      "[29]\tvalid_0's auc: 0.464646\n",
      "[30]\tvalid_0's auc: 0.464646\n",
      "[31]\tvalid_0's auc: 0.464646\n",
      "[32]\tvalid_0's auc: 0.505051\n",
      "[33]\tvalid_0's auc: 0.505051\n",
      "[34]\tvalid_0's auc: 0.502525\n",
      "[35]\tvalid_0's auc: 0.527778\n",
      "[36]\tvalid_0's auc: 0.532828\n",
      "[37]\tvalid_0's auc: 0.532828\n",
      "[38]\tvalid_0's auc: 0.517677\n",
      "[39]\tvalid_0's auc: 0.517677\n",
      "[40]\tvalid_0's auc: 0.510101\n",
      "[41]\tvalid_0's auc: 0.515152\n",
      "[42]\tvalid_0's auc: 0.525253\n",
      "[43]\tvalid_0's auc: 0.5\n",
      "[44]\tvalid_0's auc: 0.520202\n",
      "[45]\tvalid_0's auc: 0.512626\n",
      "[46]\tvalid_0's auc: 0.532828\n",
      "[47]\tvalid_0's auc: 0.535354\n",
      "[48]\tvalid_0's auc: 0.507576\n",
      "[49]\tvalid_0's auc: 0.522727\n",
      "[50]\tvalid_0's auc: 0.502525\n",
      "[51]\tvalid_0's auc: 0.512626\n",
      "[52]\tvalid_0's auc: 0.484848\n",
      "[53]\tvalid_0's auc: 0.484848\n",
      "[54]\tvalid_0's auc: 0.489899\n",
      "[55]\tvalid_0's auc: 0.477273\n",
      "[56]\tvalid_0's auc: 0.467172\n",
      "[57]\tvalid_0's auc: 0.464646\n",
      "[58]\tvalid_0's auc: 0.469697\n",
      "[59]\tvalid_0's auc: 0.467172\n",
      "[60]\tvalid_0's auc: 0.474747\n",
      "[61]\tvalid_0's auc: 0.467172\n",
      "[62]\tvalid_0's auc: 0.464646\n",
      "[63]\tvalid_0's auc: 0.459596\n",
      "[64]\tvalid_0's auc: 0.444444\n",
      "[65]\tvalid_0's auc: 0.44697\n",
      "[66]\tvalid_0's auc: 0.441919\n",
      "[67]\tvalid_0's auc: 0.457071\n",
      "[68]\tvalid_0's auc: 0.459596\n",
      "[69]\tvalid_0's auc: 0.462121\n",
      "[70]\tvalid_0's auc: 0.464646\n",
      "[71]\tvalid_0's auc: 0.464646\n",
      "[72]\tvalid_0's auc: 0.454545\n",
      "[73]\tvalid_0's auc: 0.457071\n",
      "[74]\tvalid_0's auc: 0.454545\n",
      "[75]\tvalid_0's auc: 0.454545\n",
      "[76]\tvalid_0's auc: 0.45202\n",
      "[77]\tvalid_0's auc: 0.44697\n",
      "[78]\tvalid_0's auc: 0.441919\n",
      "[79]\tvalid_0's auc: 0.436869\n",
      "[80]\tvalid_0's auc: 0.439394\n",
      "[81]\tvalid_0's auc: 0.431818\n",
      "[82]\tvalid_0's auc: 0.434343\n",
      "[83]\tvalid_0's auc: 0.441919\n",
      "[84]\tvalid_0's auc: 0.434343\n",
      "[85]\tvalid_0's auc: 0.439394\n",
      "[86]\tvalid_0's auc: 0.439394\n",
      "[87]\tvalid_0's auc: 0.44697\n",
      "[88]\tvalid_0's auc: 0.449495\n",
      "[89]\tvalid_0's auc: 0.454545\n",
      "[90]\tvalid_0's auc: 0.45202\n",
      "[91]\tvalid_0's auc: 0.45202\n",
      "[92]\tvalid_0's auc: 0.44697\n",
      "[93]\tvalid_0's auc: 0.444444\n",
      "[94]\tvalid_0's auc: 0.457071\n",
      "[95]\tvalid_0's auc: 0.454545\n",
      "[96]\tvalid_0's auc: 0.457071\n",
      "[97]\tvalid_0's auc: 0.462121\n",
      "[98]\tvalid_0's auc: 0.472222\n",
      "[99]\tvalid_0's auc: 0.464646\n",
      "[100]\tvalid_0's auc: 0.457071\n",
      "[101]\tvalid_0's auc: 0.462121\n",
      "[102]\tvalid_0's auc: 0.45202\n",
      "[103]\tvalid_0's auc: 0.457071\n",
      "[104]\tvalid_0's auc: 0.457071\n",
      "[105]\tvalid_0's auc: 0.467172\n",
      "[106]\tvalid_0's auc: 0.464646\n",
      "[107]\tvalid_0's auc: 0.479798\n",
      "[108]\tvalid_0's auc: 0.492424\n",
      "[109]\tvalid_0's auc: 0.482323\n",
      "[110]\tvalid_0's auc: 0.479798\n",
      "[111]\tvalid_0's auc: 0.482323\n",
      "[112]\tvalid_0's auc: 0.505051\n",
      "[113]\tvalid_0's auc: 0.497475\n",
      "[114]\tvalid_0's auc: 0.494949\n",
      "[115]\tvalid_0's auc: 0.5\n",
      "[116]\tvalid_0's auc: 0.515152\n",
      "[117]\tvalid_0's auc: 0.507576\n",
      "[118]\tvalid_0's auc: 0.537879\n",
      "[119]\tvalid_0's auc: 0.527778\n",
      "[120]\tvalid_0's auc: 0.535354\n",
      "[121]\tvalid_0's auc: 0.530303\n",
      "[122]\tvalid_0's auc: 0.535354\n",
      "[123]\tvalid_0's auc: 0.520202\n",
      "[124]\tvalid_0's auc: 0.507576\n",
      "[125]\tvalid_0's auc: 0.512626\n",
      "[126]\tvalid_0's auc: 0.497475\n",
      "[127]\tvalid_0's auc: 0.492424\n",
      "[128]\tvalid_0's auc: 0.5\n",
      "[129]\tvalid_0's auc: 0.5\n",
      "[130]\tvalid_0's auc: 0.515152\n",
      "[131]\tvalid_0's auc: 0.510101\n",
      "[132]\tvalid_0's auc: 0.502525\n",
      "[133]\tvalid_0's auc: 0.505051\n",
      "[134]\tvalid_0's auc: 0.510101\n",
      "[135]\tvalid_0's auc: 0.522727\n",
      "[136]\tvalid_0's auc: 0.532828\n",
      "[137]\tvalid_0's auc: 0.537879\n",
      "[138]\tvalid_0's auc: 0.545455\n",
      "[139]\tvalid_0's auc: 0.555556\n",
      "[140]\tvalid_0's auc: 0.54798\n",
      "[141]\tvalid_0's auc: 0.54798\n",
      "[142]\tvalid_0's auc: 0.542929\n",
      "[143]\tvalid_0's auc: 0.542929\n",
      "[144]\tvalid_0's auc: 0.545455\n",
      "[145]\tvalid_0's auc: 0.54798\n",
      "[146]\tvalid_0's auc: 0.550505\n",
      "[147]\tvalid_0's auc: 0.54798\n",
      "[148]\tvalid_0's auc: 0.540404\n",
      "[149]\tvalid_0's auc: 0.540404\n",
      "[150]\tvalid_0's auc: 0.530303\n",
      "[151]\tvalid_0's auc: 0.540404\n",
      "[152]\tvalid_0's auc: 0.530303\n",
      "[153]\tvalid_0's auc: 0.530303\n",
      "[154]\tvalid_0's auc: 0.522727\n",
      "[155]\tvalid_0's auc: 0.517677\n",
      "[156]\tvalid_0's auc: 0.512626\n",
      "[157]\tvalid_0's auc: 0.520202\n",
      "[158]\tvalid_0's auc: 0.520202\n",
      "[159]\tvalid_0's auc: 0.527778\n",
      "[160]\tvalid_0's auc: 0.520202\n",
      "[161]\tvalid_0's auc: 0.517677\n",
      "[162]\tvalid_0's auc: 0.505051\n",
      "[163]\tvalid_0's auc: 0.505051\n",
      "[164]\tvalid_0's auc: 0.502525\n",
      "[165]\tvalid_0's auc: 0.502525\n",
      "[166]\tvalid_0's auc: 0.507576\n",
      "[167]\tvalid_0's auc: 0.502525\n",
      "[168]\tvalid_0's auc: 0.502525\n",
      "[169]\tvalid_0's auc: 0.482323\n",
      "[170]\tvalid_0's auc: 0.489899\n",
      "[171]\tvalid_0's auc: 0.489899\n",
      "[172]\tvalid_0's auc: 0.484848\n",
      "[173]\tvalid_0's auc: 0.477273\n",
      "[174]\tvalid_0's auc: 0.482323\n",
      "[175]\tvalid_0's auc: 0.484848\n",
      "[176]\tvalid_0's auc: 0.484848\n",
      "[177]\tvalid_0's auc: 0.487374\n",
      "[178]\tvalid_0's auc: 0.492424\n",
      "[179]\tvalid_0's auc: 0.482323\n",
      "[180]\tvalid_0's auc: 0.487374\n",
      "[181]\tvalid_0's auc: 0.484848\n",
      "[182]\tvalid_0's auc: 0.487374\n",
      "[183]\tvalid_0's auc: 0.477273\n",
      "[184]\tvalid_0's auc: 0.474747\n",
      "[185]\tvalid_0's auc: 0.474747\n",
      "[186]\tvalid_0's auc: 0.477273\n",
      "[187]\tvalid_0's auc: 0.469697\n",
      "[188]\tvalid_0's auc: 0.472222\n",
      "[189]\tvalid_0's auc: 0.469697\n",
      "[190]\tvalid_0's auc: 0.467172\n",
      "[191]\tvalid_0's auc: 0.469697\n",
      "[192]\tvalid_0's auc: 0.459596\n",
      "[193]\tvalid_0's auc: 0.457071\n",
      "[194]\tvalid_0's auc: 0.459596\n",
      "[195]\tvalid_0's auc: 0.454545\n",
      "[196]\tvalid_0's auc: 0.457071\n",
      "[197]\tvalid_0's auc: 0.454545\n",
      "[198]\tvalid_0's auc: 0.449495\n",
      "[199]\tvalid_0's auc: 0.457071\n",
      "[200]\tvalid_0's auc: 0.454545\n",
      "[201]\tvalid_0's auc: 0.45202\n",
      "[202]\tvalid_0's auc: 0.454545\n",
      "[203]\tvalid_0's auc: 0.45202\n",
      "[204]\tvalid_0's auc: 0.459596\n",
      "[205]\tvalid_0's auc: 0.457071\n",
      "[206]\tvalid_0's auc: 0.457071\n",
      "[207]\tvalid_0's auc: 0.454545\n",
      "[208]\tvalid_0's auc: 0.449495\n",
      "[209]\tvalid_0's auc: 0.454545\n",
      "[210]\tvalid_0's auc: 0.449495\n",
      "[211]\tvalid_0's auc: 0.449495\n",
      "[212]\tvalid_0's auc: 0.454545\n",
      "[213]\tvalid_0's auc: 0.44697\n",
      "[214]\tvalid_0's auc: 0.454545\n",
      "[215]\tvalid_0's auc: 0.457071\n",
      "[216]\tvalid_0's auc: 0.459596\n",
      "[217]\tvalid_0's auc: 0.459596\n",
      "[218]\tvalid_0's auc: 0.462121\n",
      "[219]\tvalid_0's auc: 0.469697\n",
      "[220]\tvalid_0's auc: 0.464646\n",
      "[221]\tvalid_0's auc: 0.472222\n",
      "[222]\tvalid_0's auc: 0.464646\n",
      "[223]\tvalid_0's auc: 0.464646\n",
      "[224]\tvalid_0's auc: 0.472222\n",
      "[225]\tvalid_0's auc: 0.472222\n",
      "[226]\tvalid_0's auc: 0.472222\n",
      "[227]\tvalid_0's auc: 0.469697\n",
      "[228]\tvalid_0's auc: 0.474747\n",
      "[229]\tvalid_0's auc: 0.479798\n",
      "[230]\tvalid_0's auc: 0.482323\n",
      "[231]\tvalid_0's auc: 0.479798\n",
      "[232]\tvalid_0's auc: 0.487374\n",
      "[233]\tvalid_0's auc: 0.479798\n",
      "[234]\tvalid_0's auc: 0.479798\n",
      "[235]\tvalid_0's auc: 0.477273\n",
      "[236]\tvalid_0's auc: 0.477273\n",
      "[237]\tvalid_0's auc: 0.469697\n",
      "[238]\tvalid_0's auc: 0.469697\n",
      "[239]\tvalid_0's auc: 0.477273\n",
      "[240]\tvalid_0's auc: 0.479798\n",
      "[241]\tvalid_0's auc: 0.482323\n",
      "[242]\tvalid_0's auc: 0.482323\n",
      "[243]\tvalid_0's auc: 0.484848\n",
      "[244]\tvalid_0's auc: 0.484848\n",
      "[245]\tvalid_0's auc: 0.477273\n",
      "[246]\tvalid_0's auc: 0.477273\n",
      "[247]\tvalid_0's auc: 0.477273\n",
      "[248]\tvalid_0's auc: 0.474747\n",
      "[249]\tvalid_0's auc: 0.479798\n",
      "[250]\tvalid_0's auc: 0.477273\n",
      "[251]\tvalid_0's auc: 0.479798\n",
      "[252]\tvalid_0's auc: 0.479798\n",
      "[253]\tvalid_0's auc: 0.492424\n",
      "[254]\tvalid_0's auc: 0.492424\n",
      "[255]\tvalid_0's auc: 0.5\n",
      "[256]\tvalid_0's auc: 0.502525\n",
      "[257]\tvalid_0's auc: 0.505051\n",
      "[258]\tvalid_0's auc: 0.502525\n",
      "[259]\tvalid_0's auc: 0.502525\n",
      "[260]\tvalid_0's auc: 0.494949\n",
      "[261]\tvalid_0's auc: 0.489899\n",
      "[262]\tvalid_0's auc: 0.487374\n",
      "[263]\tvalid_0's auc: 0.492424\n",
      "[264]\tvalid_0's auc: 0.497475\n",
      "[265]\tvalid_0's auc: 0.5\n",
      "[266]\tvalid_0's auc: 0.492424\n",
      "[267]\tvalid_0's auc: 0.510101\n",
      "[268]\tvalid_0's auc: 0.510101\n",
      "[269]\tvalid_0's auc: 0.515152\n",
      "[270]\tvalid_0's auc: 0.515152\n",
      "[271]\tvalid_0's auc: 0.525253\n",
      "[272]\tvalid_0's auc: 0.532828\n",
      "[273]\tvalid_0's auc: 0.537879\n",
      "[274]\tvalid_0's auc: 0.540404\n",
      "[275]\tvalid_0's auc: 0.537879\n",
      "[276]\tvalid_0's auc: 0.535354\n",
      "[277]\tvalid_0's auc: 0.532828\n",
      "[278]\tvalid_0's auc: 0.532828\n",
      "[279]\tvalid_0's auc: 0.530303\n"
     ]
    },
    {
     "name": "stdout",
     "output_type": "stream",
     "text": [
      "[280]\tvalid_0's auc: 0.54798\n",
      "[281]\tvalid_0's auc: 0.535354\n",
      "[282]\tvalid_0's auc: 0.532828\n",
      "[283]\tvalid_0's auc: 0.530303\n",
      "[284]\tvalid_0's auc: 0.532828\n",
      "[285]\tvalid_0's auc: 0.530303\n",
      "[286]\tvalid_0's auc: 0.535354\n",
      "[287]\tvalid_0's auc: 0.540404\n",
      "[288]\tvalid_0's auc: 0.537879\n",
      "[289]\tvalid_0's auc: 0.535354\n",
      "[290]\tvalid_0's auc: 0.542929\n",
      "[291]\tvalid_0's auc: 0.55303\n",
      "[292]\tvalid_0's auc: 0.55303\n",
      "[293]\tvalid_0's auc: 0.560606\n",
      "[294]\tvalid_0's auc: 0.555556\n",
      "[295]\tvalid_0's auc: 0.558081\n",
      "[296]\tvalid_0's auc: 0.555556\n",
      "[297]\tvalid_0's auc: 0.558081\n",
      "[298]\tvalid_0's auc: 0.560606\n",
      "[299]\tvalid_0's auc: 0.560606\n",
      "[300]\tvalid_0's auc: 0.565657\n",
      "[301]\tvalid_0's auc: 0.565657\n",
      "[302]\tvalid_0's auc: 0.570707\n",
      "[303]\tvalid_0's auc: 0.570707\n",
      "[304]\tvalid_0's auc: 0.560606\n",
      "[305]\tvalid_0's auc: 0.563131\n",
      "[306]\tvalid_0's auc: 0.563131\n",
      "[307]\tvalid_0's auc: 0.563131\n",
      "[308]\tvalid_0's auc: 0.563131\n",
      "[309]\tvalid_0's auc: 0.565657\n",
      "[310]\tvalid_0's auc: 0.568182\n",
      "[311]\tvalid_0's auc: 0.570707\n",
      "[312]\tvalid_0's auc: 0.560606\n",
      "[313]\tvalid_0's auc: 0.55303\n",
      "[314]\tvalid_0's auc: 0.55303\n",
      "[315]\tvalid_0's auc: 0.550505\n",
      "[316]\tvalid_0's auc: 0.555556\n",
      "[317]\tvalid_0's auc: 0.558081\n",
      "[318]\tvalid_0's auc: 0.560606\n",
      "[319]\tvalid_0's auc: 0.555556\n",
      "[320]\tvalid_0's auc: 0.555556\n",
      "[321]\tvalid_0's auc: 0.540404\n",
      "[322]\tvalid_0's auc: 0.542929\n",
      "[323]\tvalid_0's auc: 0.542929\n",
      "[324]\tvalid_0's auc: 0.545455\n",
      "[325]\tvalid_0's auc: 0.540404\n",
      "[326]\tvalid_0's auc: 0.558081\n",
      "[327]\tvalid_0's auc: 0.545455\n",
      "[328]\tvalid_0's auc: 0.550505\n",
      "[329]\tvalid_0's auc: 0.54798\n",
      "[330]\tvalid_0's auc: 0.545455\n",
      "[331]\tvalid_0's auc: 0.540404\n",
      "[332]\tvalid_0's auc: 0.540404\n",
      "[333]\tvalid_0's auc: 0.540404\n",
      "[334]\tvalid_0's auc: 0.535354\n",
      "[335]\tvalid_0's auc: 0.535354\n",
      "[336]\tvalid_0's auc: 0.527778\n",
      "[337]\tvalid_0's auc: 0.532828\n",
      "[338]\tvalid_0's auc: 0.525253\n",
      "[339]\tvalid_0's auc: 0.530303\n",
      "[340]\tvalid_0's auc: 0.527778\n",
      "[341]\tvalid_0's auc: 0.537879\n",
      "[342]\tvalid_0's auc: 0.532828\n",
      "[343]\tvalid_0's auc: 0.530303\n",
      "[344]\tvalid_0's auc: 0.525253\n",
      "[345]\tvalid_0's auc: 0.517677\n",
      "[346]\tvalid_0's auc: 0.522727\n",
      "[347]\tvalid_0's auc: 0.520202\n",
      "[348]\tvalid_0's auc: 0.510101\n",
      "[349]\tvalid_0's auc: 0.512626\n",
      "[350]\tvalid_0's auc: 0.512626\n",
      "[351]\tvalid_0's auc: 0.510101\n",
      "[352]\tvalid_0's auc: 0.510101\n",
      "[353]\tvalid_0's auc: 0.515152\n",
      "[354]\tvalid_0's auc: 0.512626\n",
      "[355]\tvalid_0's auc: 0.517677\n",
      "[356]\tvalid_0's auc: 0.510101\n",
      "[357]\tvalid_0's auc: 0.510101\n",
      "[358]\tvalid_0's auc: 0.512626\n",
      "[359]\tvalid_0's auc: 0.517677\n",
      "[360]\tvalid_0's auc: 0.505051\n",
      "[361]\tvalid_0's auc: 0.512626\n",
      "[362]\tvalid_0's auc: 0.512626\n",
      "[363]\tvalid_0's auc: 0.512626\n",
      "[364]\tvalid_0's auc: 0.517677\n",
      "[365]\tvalid_0's auc: 0.512626\n",
      "[366]\tvalid_0's auc: 0.512626\n",
      "[367]\tvalid_0's auc: 0.510101\n",
      "[368]\tvalid_0's auc: 0.5\n",
      "[369]\tvalid_0's auc: 0.505051\n",
      "[370]\tvalid_0's auc: 0.507576\n",
      "[371]\tvalid_0's auc: 0.505051\n",
      "[372]\tvalid_0's auc: 0.507576\n",
      "[373]\tvalid_0's auc: 0.505051\n",
      "[374]\tvalid_0's auc: 0.502525\n",
      "[375]\tvalid_0's auc: 0.497475\n",
      "[376]\tvalid_0's auc: 0.502525\n",
      "[377]\tvalid_0's auc: 0.497475\n",
      "[378]\tvalid_0's auc: 0.489899\n",
      "[379]\tvalid_0's auc: 0.494949\n",
      "[380]\tvalid_0's auc: 0.502525\n",
      "[381]\tvalid_0's auc: 0.494949\n",
      "[382]\tvalid_0's auc: 0.494949\n",
      "[383]\tvalid_0's auc: 0.492424\n",
      "[384]\tvalid_0's auc: 0.487374\n",
      "[385]\tvalid_0's auc: 0.494949\n",
      "[386]\tvalid_0's auc: 0.497475\n",
      "[387]\tvalid_0's auc: 0.494949\n",
      "[388]\tvalid_0's auc: 0.494949\n",
      "[389]\tvalid_0's auc: 0.497475\n",
      "[390]\tvalid_0's auc: 0.492424\n",
      "[391]\tvalid_0's auc: 0.494949\n",
      "[392]\tvalid_0's auc: 0.492424\n",
      "[393]\tvalid_0's auc: 0.487374\n",
      "[394]\tvalid_0's auc: 0.489899\n",
      "[395]\tvalid_0's auc: 0.492424\n",
      "[396]\tvalid_0's auc: 0.489899\n",
      "[397]\tvalid_0's auc: 0.497475\n",
      "[398]\tvalid_0's auc: 0.494949\n",
      "[399]\tvalid_0's auc: 0.487374\n",
      "[400]\tvalid_0's auc: 0.487374\n",
      "[401]\tvalid_0's auc: 0.492424\n",
      "[402]\tvalid_0's auc: 0.484848\n",
      "[403]\tvalid_0's auc: 0.487374\n",
      "[404]\tvalid_0's auc: 0.489899\n",
      "[405]\tvalid_0's auc: 0.489899\n",
      "[406]\tvalid_0's auc: 0.482323\n",
      "[407]\tvalid_0's auc: 0.484848\n",
      "[408]\tvalid_0's auc: 0.484848\n",
      "[409]\tvalid_0's auc: 0.484848\n",
      "[410]\tvalid_0's auc: 0.482323\n",
      "[411]\tvalid_0's auc: 0.482323\n",
      "[412]\tvalid_0's auc: 0.479798\n",
      "[413]\tvalid_0's auc: 0.477273\n",
      "[414]\tvalid_0's auc: 0.477273\n",
      "[415]\tvalid_0's auc: 0.477273\n",
      "[416]\tvalid_0's auc: 0.477273\n",
      "[417]\tvalid_0's auc: 0.469697\n",
      "[418]\tvalid_0's auc: 0.474747\n",
      "[419]\tvalid_0's auc: 0.469697\n",
      "[420]\tvalid_0's auc: 0.464646\n",
      "[421]\tvalid_0's auc: 0.467172\n",
      "[422]\tvalid_0's auc: 0.467172\n",
      "[423]\tvalid_0's auc: 0.467172\n",
      "[424]\tvalid_0's auc: 0.467172\n",
      "[425]\tvalid_0's auc: 0.469697\n",
      "[426]\tvalid_0's auc: 0.472222\n",
      "[427]\tvalid_0's auc: 0.472222\n",
      "[428]\tvalid_0's auc: 0.472222\n",
      "[429]\tvalid_0's auc: 0.474747\n",
      "[430]\tvalid_0's auc: 0.474747\n",
      "[431]\tvalid_0's auc: 0.477273\n",
      "[432]\tvalid_0's auc: 0.477273\n",
      "[433]\tvalid_0's auc: 0.474747\n",
      "[434]\tvalid_0's auc: 0.479798\n",
      "[435]\tvalid_0's auc: 0.482323\n",
      "[436]\tvalid_0's auc: 0.477273\n",
      "[437]\tvalid_0's auc: 0.479798\n",
      "[438]\tvalid_0's auc: 0.479798\n",
      "[439]\tvalid_0's auc: 0.474747\n",
      "[440]\tvalid_0's auc: 0.477273\n",
      "[441]\tvalid_0's auc: 0.472222\n",
      "[442]\tvalid_0's auc: 0.474747\n",
      "[443]\tvalid_0's auc: 0.477273\n",
      "[444]\tvalid_0's auc: 0.477273\n",
      "[445]\tvalid_0's auc: 0.474747\n",
      "[446]\tvalid_0's auc: 0.477273\n",
      "[447]\tvalid_0's auc: 0.477273\n",
      "[448]\tvalid_0's auc: 0.477273\n",
      "[449]\tvalid_0's auc: 0.477273\n",
      "[450]\tvalid_0's auc: 0.477273\n",
      "[451]\tvalid_0's auc: 0.469697\n",
      "[452]\tvalid_0's auc: 0.474747\n",
      "[453]\tvalid_0's auc: 0.474747\n",
      "[454]\tvalid_0's auc: 0.472222\n",
      "[455]\tvalid_0's auc: 0.472222\n",
      "[456]\tvalid_0's auc: 0.469697\n",
      "[457]\tvalid_0's auc: 0.469697\n",
      "[458]\tvalid_0's auc: 0.469697\n",
      "[459]\tvalid_0's auc: 0.464646\n",
      "[460]\tvalid_0's auc: 0.464646\n",
      "[461]\tvalid_0's auc: 0.467172\n",
      "[462]\tvalid_0's auc: 0.467172\n",
      "[463]\tvalid_0's auc: 0.467172\n",
      "[464]\tvalid_0's auc: 0.472222\n",
      "[465]\tvalid_0's auc: 0.469697\n",
      "[466]\tvalid_0's auc: 0.469697\n",
      "[467]\tvalid_0's auc: 0.472222\n",
      "[468]\tvalid_0's auc: 0.477273\n",
      "[469]\tvalid_0's auc: 0.482323\n",
      "[470]\tvalid_0's auc: 0.479798\n",
      "[471]\tvalid_0's auc: 0.477273\n",
      "[472]\tvalid_0's auc: 0.484848\n",
      "[473]\tvalid_0's auc: 0.484848\n",
      "[474]\tvalid_0's auc: 0.477273\n",
      "[475]\tvalid_0's auc: 0.484848\n",
      "[476]\tvalid_0's auc: 0.482323\n",
      "[477]\tvalid_0's auc: 0.479798\n",
      "[478]\tvalid_0's auc: 0.484848\n",
      "[479]\tvalid_0's auc: 0.484848\n",
      "[480]\tvalid_0's auc: 0.479798\n",
      "[481]\tvalid_0's auc: 0.482323\n",
      "[482]\tvalid_0's auc: 0.484848\n",
      "[483]\tvalid_0's auc: 0.484848\n",
      "[484]\tvalid_0's auc: 0.484848\n",
      "[485]\tvalid_0's auc: 0.482323\n",
      "[486]\tvalid_0's auc: 0.482323\n",
      "[487]\tvalid_0's auc: 0.484848\n",
      "[488]\tvalid_0's auc: 0.487374\n",
      "[489]\tvalid_0's auc: 0.487374\n",
      "[490]\tvalid_0's auc: 0.487374\n",
      "[491]\tvalid_0's auc: 0.484848\n",
      "[492]\tvalid_0's auc: 0.484848\n",
      "[493]\tvalid_0's auc: 0.482323\n",
      "[494]\tvalid_0's auc: 0.482323\n",
      "[495]\tvalid_0's auc: 0.487374\n",
      "[496]\tvalid_0's auc: 0.482323\n",
      "[497]\tvalid_0's auc: 0.487374\n",
      "[498]\tvalid_0's auc: 0.484848\n",
      "[499]\tvalid_0's auc: 0.484848\n",
      "[500]\tvalid_0's auc: 0.484848\n",
      "[501]\tvalid_0's auc: 0.484848\n",
      "[502]\tvalid_0's auc: 0.484848\n",
      "[503]\tvalid_0's auc: 0.484848\n",
      "[504]\tvalid_0's auc: 0.489899\n",
      "[505]\tvalid_0's auc: 0.492424\n",
      "[506]\tvalid_0's auc: 0.487374\n",
      "[507]\tvalid_0's auc: 0.497475\n",
      "[508]\tvalid_0's auc: 0.492424\n",
      "[509]\tvalid_0's auc: 0.497475\n",
      "[510]\tvalid_0's auc: 0.497475\n",
      "[511]\tvalid_0's auc: 0.497475\n",
      "[512]\tvalid_0's auc: 0.497475\n",
      "[513]\tvalid_0's auc: 0.5\n",
      "[514]\tvalid_0's auc: 0.502525\n",
      "[515]\tvalid_0's auc: 0.502525\n",
      "[516]\tvalid_0's auc: 0.502525\n",
      "[517]\tvalid_0's auc: 0.502525\n",
      "[518]\tvalid_0's auc: 0.502525\n",
      "[519]\tvalid_0's auc: 0.502525\n",
      "[520]\tvalid_0's auc: 0.505051\n",
      "[521]\tvalid_0's auc: 0.505051\n",
      "[522]\tvalid_0's auc: 0.507576\n",
      "[523]\tvalid_0's auc: 0.510101\n",
      "[524]\tvalid_0's auc: 0.510101\n",
      "[525]\tvalid_0's auc: 0.505051\n",
      "[526]\tvalid_0's auc: 0.502525\n",
      "[527]\tvalid_0's auc: 0.502525\n",
      "[528]\tvalid_0's auc: 0.502525\n",
      "[529]\tvalid_0's auc: 0.502525\n",
      "[530]\tvalid_0's auc: 0.510101\n",
      "[531]\tvalid_0's auc: 0.507576\n",
      "[532]\tvalid_0's auc: 0.507576\n",
      "[533]\tvalid_0's auc: 0.510101\n",
      "[534]\tvalid_0's auc: 0.510101\n",
      "[535]\tvalid_0's auc: 0.505051\n",
      "[536]\tvalid_0's auc: 0.507576\n",
      "[537]\tvalid_0's auc: 0.505051\n",
      "[538]\tvalid_0's auc: 0.517677\n",
      "[539]\tvalid_0's auc: 0.505051\n",
      "[540]\tvalid_0's auc: 0.517677\n",
      "[541]\tvalid_0's auc: 0.510101\n",
      "[542]\tvalid_0's auc: 0.507576\n",
      "[543]\tvalid_0's auc: 0.510101\n",
      "[544]\tvalid_0's auc: 0.510101\n",
      "[545]\tvalid_0's auc: 0.507576\n",
      "[546]\tvalid_0's auc: 0.510101\n",
      "[547]\tvalid_0's auc: 0.512626\n",
      "[548]\tvalid_0's auc: 0.512626\n",
      "[549]\tvalid_0's auc: 0.512626\n",
      "[550]\tvalid_0's auc: 0.510101\n",
      "[551]\tvalid_0's auc: 0.510101\n",
      "[552]\tvalid_0's auc: 0.510101\n",
      "[553]\tvalid_0's auc: 0.507576\n",
      "[554]\tvalid_0's auc: 0.507576\n",
      "[555]\tvalid_0's auc: 0.512626\n",
      "[556]\tvalid_0's auc: 0.507576\n",
      "[557]\tvalid_0's auc: 0.505051\n",
      "[558]\tvalid_0's auc: 0.507576\n",
      "[559]\tvalid_0's auc: 0.502525\n",
      "[560]\tvalid_0's auc: 0.494949\n",
      "[561]\tvalid_0's auc: 0.494949\n",
      "[562]\tvalid_0's auc: 0.494949\n",
      "[563]\tvalid_0's auc: 0.494949\n",
      "[564]\tvalid_0's auc: 0.5\n",
      "[565]\tvalid_0's auc: 0.5\n",
      "[566]\tvalid_0's auc: 0.505051\n",
      "[567]\tvalid_0's auc: 0.502525\n",
      "[568]\tvalid_0's auc: 0.502525\n",
      "[569]\tvalid_0's auc: 0.507576\n"
     ]
    },
    {
     "name": "stdout",
     "output_type": "stream",
     "text": [
      "[570]\tvalid_0's auc: 0.505051\n",
      "[571]\tvalid_0's auc: 0.497475\n",
      "[572]\tvalid_0's auc: 0.505051\n",
      "[573]\tvalid_0's auc: 0.510101\n",
      "[574]\tvalid_0's auc: 0.515152\n",
      "[575]\tvalid_0's auc: 0.510101\n",
      "[576]\tvalid_0's auc: 0.507576\n",
      "[577]\tvalid_0's auc: 0.510101\n",
      "[578]\tvalid_0's auc: 0.510101\n",
      "[579]\tvalid_0's auc: 0.505051\n",
      "[580]\tvalid_0's auc: 0.507576\n",
      "[581]\tvalid_0's auc: 0.505051\n",
      "[582]\tvalid_0's auc: 0.510101\n",
      "[583]\tvalid_0's auc: 0.512626\n",
      "[584]\tvalid_0's auc: 0.507576\n",
      "[585]\tvalid_0's auc: 0.505051\n",
      "[586]\tvalid_0's auc: 0.507576\n",
      "[587]\tvalid_0's auc: 0.505051\n",
      "[588]\tvalid_0's auc: 0.505051\n",
      "[589]\tvalid_0's auc: 0.502525\n",
      "[590]\tvalid_0's auc: 0.502525\n",
      "[591]\tvalid_0's auc: 0.507576\n",
      "[592]\tvalid_0's auc: 0.507576\n",
      "[593]\tvalid_0's auc: 0.512626\n",
      "[594]\tvalid_0's auc: 0.512626\n",
      "[595]\tvalid_0's auc: 0.515152\n",
      "[596]\tvalid_0's auc: 0.515152\n",
      "[597]\tvalid_0's auc: 0.512626\n",
      "[598]\tvalid_0's auc: 0.510101\n",
      "[599]\tvalid_0's auc: 0.517677\n",
      "[600]\tvalid_0's auc: 0.517677\n",
      "[601]\tvalid_0's auc: 0.515152\n",
      "[602]\tvalid_0's auc: 0.515152\n",
      "[603]\tvalid_0's auc: 0.515152\n",
      "[604]\tvalid_0's auc: 0.515152\n",
      "[605]\tvalid_0's auc: 0.515152\n",
      "[606]\tvalid_0's auc: 0.512626\n",
      "[607]\tvalid_0's auc: 0.515152\n",
      "[608]\tvalid_0's auc: 0.515152\n",
      "[609]\tvalid_0's auc: 0.515152\n",
      "[610]\tvalid_0's auc: 0.517677\n",
      "[611]\tvalid_0's auc: 0.515152\n",
      "[612]\tvalid_0's auc: 0.515152\n",
      "[613]\tvalid_0's auc: 0.517677\n",
      "[614]\tvalid_0's auc: 0.520202\n",
      "[615]\tvalid_0's auc: 0.522727\n",
      "[616]\tvalid_0's auc: 0.520202\n",
      "[617]\tvalid_0's auc: 0.525253\n",
      "[618]\tvalid_0's auc: 0.515152\n",
      "[619]\tvalid_0's auc: 0.515152\n",
      "[620]\tvalid_0's auc: 0.517677\n",
      "[621]\tvalid_0's auc: 0.517677\n",
      "[622]\tvalid_0's auc: 0.517677\n",
      "[623]\tvalid_0's auc: 0.515152\n",
      "[624]\tvalid_0's auc: 0.515152\n",
      "[625]\tvalid_0's auc: 0.520202\n",
      "[626]\tvalid_0's auc: 0.525253\n",
      "[627]\tvalid_0's auc: 0.522727\n",
      "[628]\tvalid_0's auc: 0.522727\n",
      "[629]\tvalid_0's auc: 0.525253\n",
      "[630]\tvalid_0's auc: 0.530303\n",
      "[631]\tvalid_0's auc: 0.527778\n",
      "[632]\tvalid_0's auc: 0.532828\n",
      "[633]\tvalid_0's auc: 0.535354\n",
      "[634]\tvalid_0's auc: 0.532828\n",
      "[635]\tvalid_0's auc: 0.530303\n",
      "[636]\tvalid_0's auc: 0.527778\n",
      "[637]\tvalid_0's auc: 0.527778\n",
      "[638]\tvalid_0's auc: 0.522727\n",
      "[639]\tvalid_0's auc: 0.525253\n",
      "[640]\tvalid_0's auc: 0.520202\n",
      "[641]\tvalid_0's auc: 0.520202\n",
      "[642]\tvalid_0's auc: 0.515152\n",
      "[643]\tvalid_0's auc: 0.520202\n",
      "[644]\tvalid_0's auc: 0.520202\n",
      "[645]\tvalid_0's auc: 0.517677\n",
      "[646]\tvalid_0's auc: 0.520202\n",
      "[647]\tvalid_0's auc: 0.525253\n",
      "[648]\tvalid_0's auc: 0.527778\n",
      "[649]\tvalid_0's auc: 0.530303\n",
      "[650]\tvalid_0's auc: 0.530303\n",
      "[651]\tvalid_0's auc: 0.530303\n",
      "[652]\tvalid_0's auc: 0.532828\n",
      "[653]\tvalid_0's auc: 0.532828\n",
      "[654]\tvalid_0's auc: 0.532828\n",
      "[655]\tvalid_0's auc: 0.532828\n",
      "[656]\tvalid_0's auc: 0.535354\n",
      "[657]\tvalid_0's auc: 0.537879\n",
      "[658]\tvalid_0's auc: 0.537879\n",
      "[659]\tvalid_0's auc: 0.540404\n",
      "[660]\tvalid_0's auc: 0.537879\n",
      "[661]\tvalid_0's auc: 0.537879\n",
      "[662]\tvalid_0's auc: 0.537879\n",
      "[663]\tvalid_0's auc: 0.542929\n",
      "[664]\tvalid_0's auc: 0.542929\n",
      "[665]\tvalid_0's auc: 0.542929\n",
      "[666]\tvalid_0's auc: 0.540404\n",
      "[667]\tvalid_0's auc: 0.535354\n",
      "[668]\tvalid_0's auc: 0.535354\n",
      "[669]\tvalid_0's auc: 0.535354\n",
      "[670]\tvalid_0's auc: 0.532828\n",
      "[671]\tvalid_0's auc: 0.532828\n",
      "[672]\tvalid_0's auc: 0.532828\n",
      "[673]\tvalid_0's auc: 0.530303\n",
      "[674]\tvalid_0's auc: 0.532828\n",
      "[675]\tvalid_0's auc: 0.532828\n",
      "[676]\tvalid_0's auc: 0.530303\n",
      "[677]\tvalid_0's auc: 0.530303\n",
      "[678]\tvalid_0's auc: 0.532828\n",
      "[679]\tvalid_0's auc: 0.535354\n",
      "[680]\tvalid_0's auc: 0.525253\n",
      "[681]\tvalid_0's auc: 0.527778\n",
      "[682]\tvalid_0's auc: 0.527778\n",
      "[683]\tvalid_0's auc: 0.525253\n",
      "[684]\tvalid_0's auc: 0.525253\n",
      "[685]\tvalid_0's auc: 0.527778\n",
      "[686]\tvalid_0's auc: 0.527778\n",
      "[687]\tvalid_0's auc: 0.525253\n",
      "[688]\tvalid_0's auc: 0.527778\n",
      "[689]\tvalid_0's auc: 0.527778\n",
      "[690]\tvalid_0's auc: 0.527778\n",
      "[691]\tvalid_0's auc: 0.527778\n",
      "[692]\tvalid_0's auc: 0.525253\n",
      "[693]\tvalid_0's auc: 0.527778\n",
      "[694]\tvalid_0's auc: 0.527778\n",
      "[695]\tvalid_0's auc: 0.527778\n",
      "[696]\tvalid_0's auc: 0.530303\n",
      "[697]\tvalid_0's auc: 0.532828\n",
      "[698]\tvalid_0's auc: 0.530303\n",
      "[699]\tvalid_0's auc: 0.530303\n",
      "[700]\tvalid_0's auc: 0.530303\n",
      "[701]\tvalid_0's auc: 0.530303\n",
      "[702]\tvalid_0's auc: 0.532828\n",
      "Early stopping, best iteration is:\n",
      "[302]\tvalid_0's auc: 0.570707\n"
     ]
    }
   ],
   "source": [
    "model = lightgbm.train(parameters,\n",
    "                       train_data,\n",
    "                       valid_sets=test_data,\n",
    "                       num_boost_round=2000,\n",
    "                       early_stopping_rounds=400)"
   ]
  },
  {
   "cell_type": "code",
   "execution_count": null,
   "metadata": {},
   "outputs": [],
   "source": []
  }
 ],
 "metadata": {
  "kernelspec": {
   "display_name": "Python 2",
   "language": "python",
   "name": "python2"
  },
  "language_info": {
   "codemirror_mode": {
    "name": "ipython",
    "version": 2
   },
   "file_extension": ".py",
   "mimetype": "text/x-python",
   "name": "python",
   "nbconvert_exporter": "python",
   "pygments_lexer": "ipython2",
   "version": "2.7.15"
  }
 },
 "nbformat": 4,
 "nbformat_minor": 2
}
