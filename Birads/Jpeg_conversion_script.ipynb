{
 "cells": [
  {
   "cell_type": "code",
   "execution_count": 1,
   "metadata": {},
   "outputs": [
    {
     "name": "stderr",
     "output_type": "stream",
     "text": [
      "DEBUG:backend module://ipykernel.pylab.backend_inline version unknown\n"
     ]
    }
   ],
   "source": [
    "import os\n",
    "import pydicom\n",
    "import pandas as pd\n",
    "import numpy as np\n",
    "from tqdm import tqdm\n",
    "from scipy.misc import imsave, imresize\n",
    "from imageio import imwrite\n",
    "from skimage import img_as_ubyte\n",
    "from tqdm import tqdm\n",
    "\n",
    "import matplotlib.pyplot as plt\n",
    "%matplotlib inline\n",
    "import warnings\n",
    "warnings.simplefilter('ignore')\n",
    "warnings.filterwarnings('ignore')\n",
    "import logging\n",
    "logging.basicConfig(format='%(levelname)s:%(message)s', level=logging.DEBUG)"
   ]
  },
  {
   "cell_type": "code",
   "execution_count": 52,
   "metadata": {},
   "outputs": [],
   "source": []
  },
  {
   "cell_type": "markdown",
   "metadata": {},
   "source": [
    "### File Conversion Code"
   ]
  },
  {
   "cell_type": "code",
   "execution_count": 2,
   "metadata": {},
   "outputs": [],
   "source": [
    "baseFolder = '/home/santhosr/Documents/Birad/Data'\n",
    "outputFolder = '/home/santhosr/Documents/Birad/ProcessedData/FullRes'\n",
    "truthFile = '/home/santhosr/Documents/Birad/birad_targetFile.csv'"
   ]
  },
  {
   "cell_type": "code",
   "execution_count": 3,
   "metadata": {},
   "outputs": [],
   "source": [
    "###### Preprocessing function\n",
    "\n",
    "def preprocess(img):\n",
    "    \n",
    "    img = img + 15000\n",
    "    \n",
    "    shape = img.shape\n",
    "    img = img.reshape((shape[0]*shape[1],))\n",
    "    img = img.tolist()\n",
    "    img = np.array([min(x,16384) for x in img])\n",
    "    img = img.reshape(shape)\n",
    "    \n",
    "    return(img)\n"
   ]
  },
  {
   "cell_type": "code",
   "execution_count": 4,
   "metadata": {},
   "outputs": [
    {
     "data": {
      "text/html": [
       "<div>\n",
       "<style scoped>\n",
       "    .dataframe tbody tr th:only-of-type {\n",
       "        vertical-align: middle;\n",
       "    }\n",
       "\n",
       "    .dataframe tbody tr th {\n",
       "        vertical-align: top;\n",
       "    }\n",
       "\n",
       "    .dataframe thead th {\n",
       "        text-align: right;\n",
       "    }\n",
       "</style>\n",
       "<table border=\"1\" class=\"dataframe\">\n",
       "  <thead>\n",
       "    <tr style=\"text-align: right;\">\n",
       "      <th></th>\n",
       "      <th>BMI</th>\n",
       "      <th>Medview_Race</th>\n",
       "      <th>ScreenDate</th>\n",
       "      <th>Age</th>\n",
       "      <th>DummyID</th>\n",
       "      <th>PresIntentType</th>\n",
       "      <th>DBT</th>\n",
       "      <th>Density_Overall</th>\n",
       "    </tr>\n",
       "  </thead>\n",
       "  <tbody>\n",
       "    <tr>\n",
       "      <th>0</th>\n",
       "      <td>27.1</td>\n",
       "      <td>White</td>\n",
       "      <td>3/23/2011</td>\n",
       "      <td>67.8</td>\n",
       "      <td>2508626</td>\n",
       "      <td>FOR PROCESSING</td>\n",
       "      <td>NaN</td>\n",
       "      <td>2</td>\n",
       "    </tr>\n",
       "    <tr>\n",
       "      <th>1</th>\n",
       "      <td>25.7</td>\n",
       "      <td>White</td>\n",
       "      <td>6/2/2011</td>\n",
       "      <td>58.8</td>\n",
       "      <td>2505738</td>\n",
       "      <td>FOR PROCESSING</td>\n",
       "      <td>NaN</td>\n",
       "      <td>2</td>\n",
       "    </tr>\n",
       "    <tr>\n",
       "      <th>2</th>\n",
       "      <td>28.1</td>\n",
       "      <td>White</td>\n",
       "      <td>5/24/2011</td>\n",
       "      <td>56.4</td>\n",
       "      <td>2547962</td>\n",
       "      <td>FOR PROCESSING</td>\n",
       "      <td>NaN</td>\n",
       "      <td>2</td>\n",
       "    </tr>\n",
       "    <tr>\n",
       "      <th>3</th>\n",
       "      <td>31.8</td>\n",
       "      <td>White</td>\n",
       "      <td>5/6/2011</td>\n",
       "      <td>51.7</td>\n",
       "      <td>2575490</td>\n",
       "      <td>FOR PROCESSING</td>\n",
       "      <td>NaN</td>\n",
       "      <td>2</td>\n",
       "    </tr>\n",
       "    <tr>\n",
       "      <th>4</th>\n",
       "      <td>27.5</td>\n",
       "      <td>Other</td>\n",
       "      <td>5/5/2011</td>\n",
       "      <td>63.7</td>\n",
       "      <td>2591080</td>\n",
       "      <td>FOR PROCESSING\\</td>\n",
       "      <td>No Tomo images</td>\n",
       "      <td>2</td>\n",
       "    </tr>\n",
       "  </tbody>\n",
       "</table>\n",
       "</div>"
      ],
      "text/plain": [
       "    BMI Medview_Race ScreenDate   Age  DummyID   PresIntentType  \\\n",
       "0  27.1        White  3/23/2011  67.8  2508626   FOR PROCESSING   \n",
       "1  25.7        White   6/2/2011  58.8  2505738   FOR PROCESSING   \n",
       "2  28.1        White  5/24/2011  56.4  2547962   FOR PROCESSING   \n",
       "3  31.8        White   5/6/2011  51.7  2575490   FOR PROCESSING   \n",
       "4  27.5        Other   5/5/2011  63.7  2591080  FOR PROCESSING\\   \n",
       "\n",
       "              DBT  Density_Overall  \n",
       "0             NaN                2  \n",
       "1             NaN                2  \n",
       "2             NaN                2  \n",
       "3             NaN                2  \n",
       "4  No Tomo images                2  "
      ]
     },
     "execution_count": 4,
     "metadata": {},
     "output_type": "execute_result"
    }
   ],
   "source": [
    "truth = pd.read_csv(truthFile)\n",
    "truth.head()"
   ]
  },
  {
   "cell_type": "code",
   "execution_count": 9,
   "metadata": {},
   "outputs": [
    {
     "name": "stderr",
     "output_type": "stream",
     "text": [
      "  0%|          | 0/1335 [00:00<?, ?it/s]WARNING:Lossy conversion from int64 to uint8. Range [15418, 16384]. Convert image to uint8 prior to saving to suppress this warning.\n"
     ]
    },
    {
     "name": "stdout",
     "output_type": "stream",
     "text": [
      "('76162748_L_CC_1.dcm', 2)\n"
     ]
    },
    {
     "name": "stderr",
     "output_type": "stream",
     "text": [
      "  0%|          | 1/1335 [00:02<55:40,  2.50s/it]WARNING:Lossy conversion from int64 to uint8. Range [15303, 16384]. Convert image to uint8 prior to saving to suppress this warning.\n"
     ]
    },
    {
     "name": "stdout",
     "output_type": "stream",
     "text": [
      "('4457116_L_CC_1.dcm', 3)\n"
     ]
    },
    {
     "name": "stderr",
     "output_type": "stream",
     "text": [
      "  0%|          | 2/1335 [00:04<54:00,  2.43s/it]WARNING:Lossy conversion from int64 to uint8. Range [15203, 16384]. Convert image to uint8 prior to saving to suppress this warning.\n"
     ]
    },
    {
     "name": "stdout",
     "output_type": "stream",
     "text": [
      "('76359518_R_MLO_1.dcm', 2)\n"
     ]
    },
    {
     "name": "stderr",
     "output_type": "stream",
     "text": [
      "  0%|          | 3/1335 [00:06<52:22,  2.36s/it]WARNING:Lossy conversion from int64 to uint8. Range [15422, 16384]. Convert image to uint8 prior to saving to suppress this warning.\n"
     ]
    },
    {
     "name": "stdout",
     "output_type": "stream",
     "text": [
      "('3637071_R_CC_1.dcm', 3)\n"
     ]
    },
    {
     "name": "stderr",
     "output_type": "stream",
     "text": [
      "  0%|          | 4/1335 [00:09<52:41,  2.38s/it]WARNING:Lossy conversion from int64 to uint8. Range [15282, 16384]. Convert image to uint8 prior to saving to suppress this warning.\n",
      "  1%|          | 7/1335 [00:10<40:04,  1.81s/it]"
     ]
    },
    {
     "name": "stdout",
     "output_type": "stream",
     "text": [
      "('76033548_L_MLO_1.dcm', 2)\n"
     ]
    },
    {
     "name": "stderr",
     "output_type": "stream",
     "text": [
      "WARNING:Lossy conversion from int64 to uint8. Range [15000, 16384]. Convert image to uint8 prior to saving to suppress this warning.\n"
     ]
    },
    {
     "name": "stdout",
     "output_type": "stream",
     "text": [
      "('76418067_R_MLO_1.dcm', 2)\n"
     ]
    },
    {
     "name": "stderr",
     "output_type": "stream",
     "text": [
      "  1%|          | 10/1335 [00:13<33:08,  1.50s/it]WARNING:Lossy conversion from int64 to uint8. Range [15373, 16384]. Convert image to uint8 prior to saving to suppress this warning.\n"
     ]
    },
    {
     "name": "stdout",
     "output_type": "stream",
     "text": [
      "('4456855_R_MLO_1.dcm', 1)\n"
     ]
    },
    {
     "name": "stderr",
     "output_type": "stream",
     "text": [
      "  1%|          | 11/1335 [00:15<39:41,  1.80s/it]WARNING:Lossy conversion from int64 to uint8. Range [15347, 16384]. Convert image to uint8 prior to saving to suppress this warning.\n",
      "  1%|          | 12/1335 [00:17<36:53,  1.67s/it]"
     ]
    },
    {
     "name": "stdout",
     "output_type": "stream",
     "text": [
      "('75935563_L_MLO_1.dcm', 3)\n"
     ]
    },
    {
     "name": "stderr",
     "output_type": "stream",
     "text": [
      "WARNING:Lossy conversion from int64 to uint8. Range [15452, 16384]. Convert image to uint8 prior to saving to suppress this warning.\n"
     ]
    },
    {
     "name": "stdout",
     "output_type": "stream",
     "text": [
      "('76321888_L_CC_1.dcm', 2)\n"
     ]
    },
    {
     "name": "stderr",
     "output_type": "stream",
     "text": [
      "  1%|          | 13/1335 [00:19<40:49,  1.85s/it]WARNING:Lossy conversion from int64 to uint8. Range [15398, 16384]. Convert image to uint8 prior to saving to suppress this warning.\n"
     ]
    },
    {
     "name": "stdout",
     "output_type": "stream",
     "text": [
      "('5193678_R_CC_1.dcm', 2)\n"
     ]
    },
    {
     "name": "stderr",
     "output_type": "stream",
     "text": [
      "  1%|          | 14/1335 [00:21<42:49,  1.95s/it]WARNING:Lossy conversion from int64 to uint8. Range [15361, 16384]. Convert image to uint8 prior to saving to suppress this warning.\n"
     ]
    },
    {
     "name": "stdout",
     "output_type": "stream",
     "text": [
      "('76126435_R_MLO_1.dcm', 2)\n"
     ]
    },
    {
     "name": "stderr",
     "output_type": "stream",
     "text": [
      "  1%|          | 15/1335 [00:23<44:35,  2.03s/it]WARNING:Lossy conversion from int64 to uint8. Range [15072, 16384]. Convert image to uint8 prior to saving to suppress this warning.\n",
      "  1%|          | 16/1335 [00:25<40:16,  1.83s/it]"
     ]
    },
    {
     "name": "stdout",
     "output_type": "stream",
     "text": [
      "('76106232_R_MLO_1.dcm', 3)\n"
     ]
    },
    {
     "name": "stderr",
     "output_type": "stream",
     "text": [
      "WARNING:Lossy conversion from int64 to uint8. Range [15311, 16384]. Convert image to uint8 prior to saving to suppress this warning.\n"
     ]
    },
    {
     "name": "stdout",
     "output_type": "stream",
     "text": [
      "('76457450_L_MLO_1.dcm', 1)\n"
     ]
    },
    {
     "name": "stderr",
     "output_type": "stream",
     "text": [
      "  1%|▏         | 17/1335 [00:27<44:09,  2.01s/it]WARNING:Lossy conversion from int64 to uint8. Range [15245, 16384]. Convert image to uint8 prior to saving to suppress this warning.\n"
     ]
    },
    {
     "name": "stdout",
     "output_type": "stream",
     "text": [
      "('75079706_L_MLO_1.dcm', 2)\n"
     ]
    },
    {
     "name": "stderr",
     "output_type": "stream",
     "text": [
      "  1%|▏         | 18/1335 [00:29<45:03,  2.05s/it]WARNING:Lossy conversion from int64 to uint8. Range [15376, 16384]. Convert image to uint8 prior to saving to suppress this warning.\n",
      "  1%|▏         | 19/1335 [00:31<40:21,  1.84s/it]"
     ]
    },
    {
     "name": "stdout",
     "output_type": "stream",
     "text": [
      "('5242557_R_CC_1.dcm', 2)\n"
     ]
    },
    {
     "name": "stderr",
     "output_type": "stream",
     "text": [
      "WARNING:Lossy conversion from int64 to uint8. Range [15336, 16384]. Convert image to uint8 prior to saving to suppress this warning.\n"
     ]
    },
    {
     "name": "stdout",
     "output_type": "stream",
     "text": [
      "('5302310_R_CC_1.dcm', 2)\n"
     ]
    },
    {
     "name": "stderr",
     "output_type": "stream",
     "text": [
      "  1%|▏         | 20/1335 [00:33<43:29,  1.98s/it]WARNING:Lossy conversion from int64 to uint8. Range [15333, 16384]. Convert image to uint8 prior to saving to suppress this warning.\n",
      "  2%|▏         | 21/1335 [00:34<39:29,  1.80s/it]"
     ]
    },
    {
     "name": "stdout",
     "output_type": "stream",
     "text": [
      "('76582135_L_MLO_1.dcm', 2)\n"
     ]
    },
    {
     "name": "stderr",
     "output_type": "stream",
     "text": [
      "WARNING:Lossy conversion from int64 to uint8. Range [15280, 16384]. Convert image to uint8 prior to saving to suppress this warning.\n"
     ]
    },
    {
     "name": "stdout",
     "output_type": "stream",
     "text": [
      "('4306851_L_CC_1.dcm', 3)\n"
     ]
    },
    {
     "name": "stderr",
     "output_type": "stream",
     "text": [
      "  2%|▏         | 22/1335 [00:37<43:51,  2.00s/it]WARNING:Lossy conversion from int64 to uint8. Range [15353, 16384]. Convert image to uint8 prior to saving to suppress this warning.\n",
      "  2%|▏         | 23/1335 [00:38<40:22,  1.85s/it]"
     ]
    },
    {
     "name": "stdout",
     "output_type": "stream",
     "text": [
      "('4434815_R_CC_1.dcm', 2)\n"
     ]
    },
    {
     "name": "stderr",
     "output_type": "stream",
     "text": [
      "WARNING:Lossy conversion from int64 to uint8. Range [15317, 16384]. Convert image to uint8 prior to saving to suppress this warning.\n"
     ]
    },
    {
     "name": "stdout",
     "output_type": "stream",
     "text": [
      "('76372826_R_MLO_1.dcm', 2)\n"
     ]
    },
    {
     "name": "stderr",
     "output_type": "stream",
     "text": [
      "  2%|▏         | 24/1335 [00:41<44:06,  2.02s/it]WARNING:Lossy conversion from int64 to uint8. Range [15277, 16384]. Convert image to uint8 prior to saving to suppress this warning.\n",
      "  2%|▏         | 25/1335 [00:42<39:45,  1.82s/it]"
     ]
    },
    {
     "name": "stdout",
     "output_type": "stream",
     "text": [
      "('76328184_R_MLO_1.dcm', 3)\n"
     ]
    },
    {
     "name": "stderr",
     "output_type": "stream",
     "text": [
      "WARNING:Lossy conversion from int64 to uint8. Range [15328, 16384]. Convert image to uint8 prior to saving to suppress this warning.\n",
      "  2%|▏         | 26/1335 [00:43<37:05,  1.70s/it]"
     ]
    },
    {
     "name": "stdout",
     "output_type": "stream",
     "text": [
      "('76277398_R_CC_1.dcm', 2)\n"
     ]
    },
    {
     "name": "stderr",
     "output_type": "stream",
     "text": [
      "WARNING:Lossy conversion from int64 to uint8. Range [15509, 16384]. Convert image to uint8 prior to saving to suppress this warning.\n"
     ]
    },
    {
     "name": "stdout",
     "output_type": "stream",
     "text": [
      "('76386434_R_CC_1.dcm', 2)\n"
     ]
    },
    {
     "name": "stderr",
     "output_type": "stream",
     "text": [
      "  2%|▏         | 27/1335 [00:46<40:38,  1.86s/it]WARNING:Lossy conversion from int64 to uint8. Range [15325, 16384]. Convert image to uint8 prior to saving to suppress this warning.\n",
      "  2%|▏         | 28/1335 [00:47<37:20,  1.71s/it]"
     ]
    },
    {
     "name": "stdout",
     "output_type": "stream",
     "text": [
      "('76049020_L_MLO_1.dcm', 3)\n"
     ]
    },
    {
     "name": "stderr",
     "output_type": "stream",
     "text": [
      "WARNING:Lossy conversion from int64 to uint8. Range [15101, 16384]. Convert image to uint8 prior to saving to suppress this warning.\n"
     ]
    },
    {
     "name": "stdout",
     "output_type": "stream",
     "text": [
      "('76086832_R_CC_1.dcm', 2)\n"
     ]
    },
    {
     "name": "stderr",
     "output_type": "stream",
     "text": [
      "  2%|▏         | 29/1335 [00:49<40:21,  1.85s/it]WARNING:Lossy conversion from int64 to uint8. Range [15427, 16384]. Convert image to uint8 prior to saving to suppress this warning.\n"
     ]
    },
    {
     "name": "stdout",
     "output_type": "stream",
     "text": [
      "('4353445_R_MLO_1.dcm', 3)\n"
     ]
    },
    {
     "name": "stderr",
     "output_type": "stream",
     "text": [
      "  2%|▏         | 30/1335 [00:52<44:09,  2.03s/it]WARNING:Lossy conversion from int64 to uint8. Range [15337, 16384]. Convert image to uint8 prior to saving to suppress this warning.\n"
     ]
    },
    {
     "name": "stdout",
     "output_type": "stream",
     "text": [
      "('75904104_L_MLO_1.dcm', 2)\n"
     ]
    },
    {
     "name": "stderr",
     "output_type": "stream",
     "text": [
      "  2%|▏         | 31/1335 [00:54<45:41,  2.10s/it]WARNING:Lossy conversion from int64 to uint8. Range [15331, 16384]. Convert image to uint8 prior to saving to suppress this warning.\n"
     ]
    },
    {
     "name": "stdout",
     "output_type": "stream",
     "text": [
      "('5284119_R_MLO_1.dcm', 2)\n"
     ]
    },
    {
     "name": "stderr",
     "output_type": "stream",
     "text": [
      "  2%|▏         | 32/1335 [00:56<47:05,  2.17s/it]WARNING:Lossy conversion from int64 to uint8. Range [15378, 16384]. Convert image to uint8 prior to saving to suppress this warning.\n",
      "  2%|▏         | 33/1335 [00:58<41:41,  1.92s/it]"
     ]
    },
    {
     "name": "stdout",
     "output_type": "stream",
     "text": [
      "('76013463_L_CC_1.dcm', 4)\n"
     ]
    },
    {
     "name": "stderr",
     "output_type": "stream",
     "text": [
      "WARNING:Lossy conversion from int64 to uint8. Range [15343, 16384]. Convert image to uint8 prior to saving to suppress this warning.\n"
     ]
    },
    {
     "name": "stdout",
     "output_type": "stream",
     "text": [
      "('76364161_R_CC_1.dcm', 2)\n"
     ]
    },
    {
     "name": "stderr",
     "output_type": "stream",
     "text": [
      "  3%|▎         | 34/1335 [01:00<44:01,  2.03s/it]WARNING:Lossy conversion from int64 to uint8. Range [15474, 16384]. Convert image to uint8 prior to saving to suppress this warning.\n"
     ]
    },
    {
     "name": "stdout",
     "output_type": "stream",
     "text": [
      "('76152697_L_CC_1.dcm', 2)\n"
     ]
    },
    {
     "name": "stderr",
     "output_type": "stream",
     "text": [
      "  3%|▎         | 36/1335 [01:02<38:36,  1.78s/it]WARNING:Lossy conversion from int64 to uint8. Range [15433, 16384]. Convert image to uint8 prior to saving to suppress this warning.\n"
     ]
    },
    {
     "name": "stdout",
     "output_type": "stream",
     "text": [
      "('76234226_R_MLO_1.dcm', 1)\n"
     ]
    },
    {
     "name": "stderr",
     "output_type": "stream",
     "text": [
      "  3%|▎         | 38/1335 [01:05<34:29,  1.60s/it]WARNING:Lossy conversion from int64 to uint8. Range [15329, 16384]. Convert image to uint8 prior to saving to suppress this warning.\n",
      "  3%|▎         | 39/1335 [01:06<32:58,  1.53s/it]"
     ]
    },
    {
     "name": "stdout",
     "output_type": "stream",
     "text": [
      "('4434815_L_CC_1.dcm', 2)\n"
     ]
    },
    {
     "name": "stderr",
     "output_type": "stream",
     "text": [
      "WARNING:Lossy conversion from int64 to uint8. Range [15478, 16384]. Convert image to uint8 prior to saving to suppress this warning.\n"
     ]
    },
    {
     "name": "stdout",
     "output_type": "stream",
     "text": [
      "('75063205_L_CC_1.dcm', 1)\n"
     ]
    },
    {
     "name": "stderr",
     "output_type": "stream",
     "text": [
      "  3%|▎         | 40/1335 [01:08<37:31,  1.74s/it]WARNING:Lossy conversion from int64 to uint8. Range [15231, 16384]. Convert image to uint8 prior to saving to suppress this warning.\n"
     ]
    },
    {
     "name": "stdout",
     "output_type": "stream",
     "text": [
      "('76465727_R_CC_1.dcm', 1)\n"
     ]
    },
    {
     "name": "stderr",
     "output_type": "stream",
     "text": [
      "  3%|▎         | 43/1335 [01:10<30:54,  1.44s/it]WARNING:Lossy conversion from int64 to uint8. Range [15072, 16384]. Convert image to uint8 prior to saving to suppress this warning.\n"
     ]
    },
    {
     "name": "stdout",
     "output_type": "stream",
     "text": [
      "('76394092_L_CC_1.dcm', 2)\n"
     ]
    },
    {
     "name": "stderr",
     "output_type": "stream",
     "text": [
      "  3%|▎         | 44/1335 [01:13<35:42,  1.66s/it]WARNING:Lossy conversion from int64 to uint8. Range [15471, 16384]. Convert image to uint8 prior to saving to suppress this warning.\n",
      "  3%|▎         | 45/1335 [01:14<34:14,  1.59s/it]"
     ]
    },
    {
     "name": "stdout",
     "output_type": "stream",
     "text": [
      "('75054702_L_CC_1.dcm', 2)\n"
     ]
    },
    {
     "name": "stderr",
     "output_type": "stream",
     "text": [
      "WARNING:Lossy conversion from int64 to uint8. Range [15603, 16384]. Convert image to uint8 prior to saving to suppress this warning.\n",
      "  3%|▎         | 46/1335 [01:15<32:55,  1.53s/it]"
     ]
    },
    {
     "name": "stdout",
     "output_type": "stream",
     "text": [
      "('76455220_R_CC_1.dcm', 2)\n"
     ]
    },
    {
     "name": "stderr",
     "output_type": "stream",
     "text": [
      "WARNING:Lossy conversion from int64 to uint8. Range [15050, 16384]. Convert image to uint8 prior to saving to suppress this warning.\n"
     ]
    },
    {
     "name": "stdout",
     "output_type": "stream",
     "text": [
      "('76140197_R_CC_1.dcm', 2)\n"
     ]
    },
    {
     "name": "stderr",
     "output_type": "stream",
     "text": [
      "  4%|▎         | 47/1335 [01:18<37:33,  1.75s/it]WARNING:Lossy conversion from int64 to uint8. Range [15081, 16384]. Convert image to uint8 prior to saving to suppress this warning.\n"
     ]
    },
    {
     "name": "stdout",
     "output_type": "stream",
     "text": [
      "('5203080_R_CC_1.dcm', 2)\n"
     ]
    },
    {
     "name": "stderr",
     "output_type": "stream",
     "text": [
      "  4%|▎         | 48/1335 [01:20<41:18,  1.93s/it]WARNING:Lossy conversion from int64 to uint8. Range [15449, 16384]. Convert image to uint8 prior to saving to suppress this warning.\n"
     ]
    },
    {
     "name": "stdout",
     "output_type": "stream",
     "text": [
      "('76282837_R_MLO_1.dcm', 3)\n"
     ]
    },
    {
     "name": "stderr",
     "output_type": "stream",
     "text": [
      "  4%|▎         | 49/1335 [01:22<43:15,  2.02s/it]WARNING:Lossy conversion from int64 to uint8. Range [15460, 16384]. Convert image to uint8 prior to saving to suppress this warning.\n"
     ]
    },
    {
     "name": "stdout",
     "output_type": "stream",
     "text": [
      "('76522651_R_CC_1.dcm', 3)\n"
     ]
    },
    {
     "name": "stderr",
     "output_type": "stream",
     "text": [
      "  4%|▎         | 50/1335 [01:24<44:59,  2.10s/it]WARNING:Lossy conversion from int64 to uint8. Range [15177, 16384]. Convert image to uint8 prior to saving to suppress this warning.\n"
     ]
    },
    {
     "name": "stdout",
     "output_type": "stream",
     "text": [
      "('76033649_L_CC_1.dcm', 2)\n"
     ]
    },
    {
     "name": "stderr",
     "output_type": "stream",
     "text": [
      "  4%|▍         | 52/1335 [01:27<38:19,  1.79s/it]WARNING:Lossy conversion from int64 to uint8. Range [15391, 16384]. Convert image to uint8 prior to saving to suppress this warning.\n"
     ]
    },
    {
     "name": "stdout",
     "output_type": "stream",
     "text": [
      "('4353445_L_MLO_1.dcm', 3)\n"
     ]
    },
    {
     "name": "stderr",
     "output_type": "stream",
     "text": [
      "  4%|▍         | 53/1335 [01:29<40:46,  1.91s/it]WARNING:Lossy conversion from int64 to uint8. Range [15333, 16384]. Convert image to uint8 prior to saving to suppress this warning.\n",
      "  4%|▍         | 54/1335 [01:30<37:07,  1.74s/it]"
     ]
    },
    {
     "name": "stdout",
     "output_type": "stream",
     "text": [
      "('3931997_L_CC_1.dcm', 3)\n"
     ]
    },
    {
     "name": "stderr",
     "output_type": "stream",
     "text": [
      "WARNING:Lossy conversion from int64 to uint8. Range [15352, 16384]. Convert image to uint8 prior to saving to suppress this warning.\n"
     ]
    },
    {
     "name": "stdout",
     "output_type": "stream",
     "text": [
      "('76200017_L_MLO_1.dcm', 2)\n"
     ]
    },
    {
     "name": "stderr",
     "output_type": "stream",
     "text": [
      "  4%|▍         | 55/1335 [01:32<40:06,  1.88s/it]WARNING:Lossy conversion from int64 to uint8. Range [15266, 16384]. Convert image to uint8 prior to saving to suppress this warning.\n",
      "  4%|▍         | 57/1335 [01:34<32:29,  1.53s/it]"
     ]
    },
    {
     "name": "stdout",
     "output_type": "stream",
     "text": [
      "('4300843_R_MLO_1.dcm', 3)\n"
     ]
    },
    {
     "name": "stderr",
     "output_type": "stream",
     "text": [
      "WARNING:Lossy conversion from int64 to uint8. Range [15412, 16384]. Convert image to uint8 prior to saving to suppress this warning.\n"
     ]
    },
    {
     "name": "stdout",
     "output_type": "stream",
     "text": [
      "('75023037_R_CC_1.dcm', 3)\n"
     ]
    },
    {
     "name": "stderr",
     "output_type": "stream",
     "text": [
      "  4%|▍         | 59/1335 [01:36<29:42,  1.40s/it]WARNING:Lossy conversion from int64 to uint8. Range [15331, 16384]. Convert image to uint8 prior to saving to suppress this warning.\n"
     ]
    },
    {
     "name": "stdout",
     "output_type": "stream",
     "text": [
      "('75979901_R_MLO_1.dcm', 2)\n"
     ]
    },
    {
     "name": "stderr",
     "output_type": "stream",
     "text": [
      "  4%|▍         | 60/1335 [01:38<36:10,  1.70s/it]WARNING:Lossy conversion from int64 to uint8. Range [15433, 16384]. Convert image to uint8 prior to saving to suppress this warning.\n"
     ]
    },
    {
     "name": "stdout",
     "output_type": "stream",
     "text": [
      "('3991880_R_CC_1.dcm', 2)\n"
     ]
    },
    {
     "name": "stderr",
     "output_type": "stream",
     "text": [
      "  5%|▍         | 61/1335 [01:41<39:57,  1.88s/it]WARNING:Lossy conversion from int64 to uint8. Range [15467, 16384]. Convert image to uint8 prior to saving to suppress this warning.\n"
     ]
    },
    {
     "name": "stdout",
     "output_type": "stream",
     "text": [
      "('4360451_R_CC_1.dcm', 2)\n"
     ]
    },
    {
     "name": "stderr",
     "output_type": "stream",
     "text": [
      "  5%|▍         | 62/1335 [01:43<42:15,  1.99s/it]WARNING:Lossy conversion from int64 to uint8. Range [15318, 16384]. Convert image to uint8 prior to saving to suppress this warning.\n"
     ]
    },
    {
     "name": "stdout",
     "output_type": "stream",
     "text": [
      "('3542781_R_CC_1.dcm', 2)\n"
     ]
    },
    {
     "name": "stderr",
     "output_type": "stream",
     "text": [
      "  5%|▍         | 64/1335 [01:45<36:40,  1.73s/it]WARNING:Lossy conversion from int64 to uint8. Range [15181, 16384]. Convert image to uint8 prior to saving to suppress this warning.\n",
      "  5%|▍         | 65/1335 [01:47<34:30,  1.63s/it]"
     ]
    },
    {
     "name": "stdout",
     "output_type": "stream",
     "text": [
      "('76032302_R_CC_1.dcm', 2)\n"
     ]
    },
    {
     "name": "stderr",
     "output_type": "stream",
     "text": [
      "WARNING:Lossy conversion from int64 to uint8. Range [15204, 16384]. Convert image to uint8 prior to saving to suppress this warning.\n"
     ]
    },
    {
     "name": "stdout",
     "output_type": "stream",
     "text": [
      "('3632345_R_MLO_1.dcm', 2)\n"
     ]
    },
    {
     "name": "stderr",
     "output_type": "stream",
     "text": [
      "  5%|▍         | 66/1335 [01:49<37:55,  1.79s/it]WARNING:Lossy conversion from int64 to uint8. Range [15293, 16384]. Convert image to uint8 prior to saving to suppress this warning.\n"
     ]
    },
    {
     "name": "stdout",
     "output_type": "stream",
     "text": [
      "('5290743_L_MLO_1.dcm', 2)\n"
     ]
    },
    {
     "name": "stderr",
     "output_type": "stream",
     "text": [
      "  5%|▌         | 67/1335 [01:51<40:36,  1.92s/it]WARNING:Lossy conversion from int64 to uint8. Range [15307, 16384]. Convert image to uint8 prior to saving to suppress this warning.\n",
      "  5%|▌         | 69/1335 [01:52<33:02,  1.57s/it]"
     ]
    },
    {
     "name": "stdout",
     "output_type": "stream",
     "text": [
      "('75935563_R_MLO_1.dcm', 3)\n"
     ]
    },
    {
     "name": "stderr",
     "output_type": "stream",
     "text": [
      "WARNING:Lossy conversion from int64 to uint8. Range [15294, 16384]. Convert image to uint8 prior to saving to suppress this warning.\n",
      "  5%|▌         | 70/1335 [01:54<32:39,  1.55s/it]"
     ]
    },
    {
     "name": "stdout",
     "output_type": "stream",
     "text": [
      "('4236900_L_MLO_1.dcm', 3)\n"
     ]
    },
    {
     "name": "stderr",
     "output_type": "stream",
     "text": [
      "WARNING:Lossy conversion from int64 to uint8. Range [15367, 16384]. Convert image to uint8 prior to saving to suppress this warning.\n"
     ]
    },
    {
     "name": "stdout",
     "output_type": "stream",
     "text": [
      "('5209804_R_MLO_1.dcm', 2)\n"
     ]
    },
    {
     "name": "stderr",
     "output_type": "stream",
     "text": [
      "  5%|▌         | 71/1335 [01:56<37:46,  1.79s/it]WARNING:Lossy conversion from int64 to uint8. Range [15253, 16384]. Convert image to uint8 prior to saving to suppress this warning.\n",
      "  5%|▌         | 73/1335 [01:58<30:37,  1.46s/it]"
     ]
    },
    {
     "name": "stdout",
     "output_type": "stream",
     "text": [
      "('76387928_L_CC_1.dcm', 2)\n"
     ]
    },
    {
     "name": "stderr",
     "output_type": "stream",
     "text": [
      "WARNING:Lossy conversion from int64 to uint8. Range [15282, 16384]. Convert image to uint8 prior to saving to suppress this warning.\n"
     ]
    },
    {
     "name": "stdout",
     "output_type": "stream",
     "text": [
      "('3632345_L_CC_1.dcm', 2)\n"
     ]
    },
    {
     "name": "stderr",
     "output_type": "stream",
     "text": [
      "  6%|▌         | 74/1335 [02:00<35:42,  1.70s/it]WARNING:Lossy conversion from int64 to uint8. Range [15244, 16384]. Convert image to uint8 prior to saving to suppress this warning.\n",
      "  6%|▌         | 75/1335 [02:01<33:35,  1.60s/it]"
     ]
    },
    {
     "name": "stdout",
     "output_type": "stream",
     "text": [
      "('4291502_R_MLO_1.dcm', 2)\n"
     ]
    },
    {
     "name": "stderr",
     "output_type": "stream",
     "text": [
      "WARNING:Lossy conversion from int64 to uint8. Range [15404, 16384]. Convert image to uint8 prior to saving to suppress this warning.\n"
     ]
    },
    {
     "name": "stdout",
     "output_type": "stream",
     "text": [
      "('76433131_L_MLO_1.dcm', 1)\n"
     ]
    },
    {
     "name": "stderr",
     "output_type": "stream",
     "text": [
      "  6%|▌         | 76/1335 [02:04<37:43,  1.80s/it]WARNING:Lossy conversion from int64 to uint8. Range [15438, 16384]. Convert image to uint8 prior to saving to suppress this warning.\n"
     ]
    },
    {
     "name": "stdout",
     "output_type": "stream",
     "text": [
      "('75019468_L_CC_1.dcm', 2)\n"
     ]
    },
    {
     "name": "stderr",
     "output_type": "stream",
     "text": [
      "  6%|▌         | 77/1335 [02:06<41:55,  2.00s/it]WARNING:Lossy conversion from int64 to uint8. Range [15413, 16384]. Convert image to uint8 prior to saving to suppress this warning.\n"
     ]
    },
    {
     "name": "stdout",
     "output_type": "stream",
     "text": [
      "('76364161_L_MLO_1.dcm', 2)\n"
     ]
    },
    {
     "name": "stderr",
     "output_type": "stream",
     "text": [
      "  6%|▌         | 78/1335 [02:08<43:13,  2.06s/it]WARNING:Lossy conversion from int64 to uint8. Range [15313, 16384]. Convert image to uint8 prior to saving to suppress this warning.\n"
     ]
    },
    {
     "name": "stdout",
     "output_type": "stream",
     "text": [
      "('4478231_L_MLO_1.dcm', 2)\n"
     ]
    },
    {
     "name": "stderr",
     "output_type": "stream",
     "text": [
      "  6%|▌         | 79/1335 [02:10<43:53,  2.10s/it]WARNING:Lossy conversion from int64 to uint8. Range [15424, 16384]. Convert image to uint8 prior to saving to suppress this warning.\n"
     ]
    },
    {
     "name": "stdout",
     "output_type": "stream",
     "text": [
      "('3805814_R_CC_1.dcm', 3)\n"
     ]
    },
    {
     "name": "stderr",
     "output_type": "stream",
     "text": [
      "  6%|▌         | 80/1335 [02:13<44:37,  2.13s/it]WARNING:Lossy conversion from int64 to uint8. Range [15317, 16384]. Convert image to uint8 prior to saving to suppress this warning.\n"
     ]
    },
    {
     "name": "stdout",
     "output_type": "stream",
     "text": [
      "('3882314_R_CC_1.dcm', 2)\n"
     ]
    },
    {
     "name": "stderr",
     "output_type": "stream",
     "text": [
      "  6%|▌         | 81/1335 [02:15<46:09,  2.21s/it]WARNING:Lossy conversion from int64 to uint8. Range [15210, 16384]. Convert image to uint8 prior to saving to suppress this warning.\n"
     ]
    },
    {
     "name": "stdout",
     "output_type": "stream",
     "text": [
      "('76251641_R_MLO_1.dcm', 2)\n"
     ]
    },
    {
     "name": "stderr",
     "output_type": "stream",
     "text": [
      "  6%|▌         | 82/1335 [02:17<46:37,  2.23s/it]WARNING:Lossy conversion from int64 to uint8. Range [15390, 16384]. Convert image to uint8 prior to saving to suppress this warning.\n"
     ]
    },
    {
     "name": "stdout",
     "output_type": "stream",
     "text": [
      "('5193678_L_CC_1.dcm', 2)\n"
     ]
    },
    {
     "name": "stderr",
     "output_type": "stream",
     "text": [
      "  6%|▌         | 83/1335 [02:20<47:06,  2.26s/it]WARNING:Lossy conversion from int64 to uint8. Range [15367, 16384]. Convert image to uint8 prior to saving to suppress this warning.\n"
     ]
    },
    {
     "name": "stdout",
     "output_type": "stream",
     "text": [
      "('76268891_L_CC_1.dcm', 2)\n"
     ]
    },
    {
     "name": "stderr",
     "output_type": "stream",
     "text": [
      "  6%|▋         | 84/1335 [02:22<46:37,  2.24s/it]WARNING:Lossy conversion from int64 to uint8. Range [15048, 16384]. Convert image to uint8 prior to saving to suppress this warning.\n"
     ]
    },
    {
     "name": "stdout",
     "output_type": "stream",
     "text": [
      "('76443829_L_CC_1.dcm', 2)\n"
     ]
    },
    {
     "name": "stderr",
     "output_type": "stream",
     "text": [
      "  6%|▋         | 85/1335 [02:24<45:59,  2.21s/it]WARNING:Lossy conversion from int64 to uint8. Range [15321, 16384]. Convert image to uint8 prior to saving to suppress this warning.\n"
     ]
    },
    {
     "name": "stdout",
     "output_type": "stream",
     "text": [
      "('76340218_L_MLO_1.dcm', 2)\n"
     ]
    },
    {
     "name": "stderr",
     "output_type": "stream",
     "text": [
      "  6%|▋         | 86/1335 [02:26<46:07,  2.22s/it]WARNING:Lossy conversion from int64 to uint8. Range [15102, 16384]. Convert image to uint8 prior to saving to suppress this warning.\n",
      "  7%|▋         | 87/1335 [02:28<41:37,  2.00s/it]"
     ]
    },
    {
     "name": "stdout",
     "output_type": "stream",
     "text": [
      "('76047867_R_CC_1.dcm', 3)\n"
     ]
    },
    {
     "name": "stderr",
     "output_type": "stream",
     "text": [
      "WARNING:Lossy conversion from int64 to uint8. Range [15291, 16384]. Convert image to uint8 prior to saving to suppress this warning.\n"
     ]
    },
    {
     "name": "stdout",
     "output_type": "stream",
     "text": [
      "('76433131_R_MLO_1.dcm', 1)\n"
     ]
    },
    {
     "name": "stderr",
     "output_type": "stream",
     "text": [
      "  7%|▋         | 88/1335 [02:30<44:15,  2.13s/it]WARNING:Lossy conversion from int64 to uint8. Range [15315, 16384]. Convert image to uint8 prior to saving to suppress this warning.\n"
     ]
    },
    {
     "name": "stdout",
     "output_type": "stream",
     "text": [
      "('5226635_L_CC_1.dcm', 2)\n"
     ]
    },
    {
     "name": "stderr",
     "output_type": "stream",
     "text": [
      "  7%|▋         | 89/1335 [02:32<45:00,  2.17s/it]WARNING:Lossy conversion from int64 to uint8. Range [15383, 16384]. Convert image to uint8 prior to saving to suppress this warning.\n"
     ]
    },
    {
     "name": "stdout",
     "output_type": "stream",
     "text": [
      "('76475506_L_MLO_1.dcm', 3)\n"
     ]
    },
    {
     "name": "stderr",
     "output_type": "stream",
     "text": [
      "  7%|▋         | 91/1335 [02:35<38:26,  1.85s/it]WARNING:Lossy conversion from int64 to uint8. Range [15349, 16384]. Convert image to uint8 prior to saving to suppress this warning.\n"
     ]
    },
    {
     "name": "stdout",
     "output_type": "stream",
     "text": [
      "('76359518_R_CC_1.dcm', 2)\n"
     ]
    },
    {
     "name": "stderr",
     "output_type": "stream",
     "text": [
      "  7%|▋         | 93/1335 [02:37<33:47,  1.63s/it]WARNING:Lossy conversion from int64 to uint8. Range [15392, 16384]. Convert image to uint8 prior to saving to suppress this warning.\n"
     ]
    },
    {
     "name": "stdout",
     "output_type": "stream",
     "text": [
      "('5127821_R_CC_1.dcm', 2)\n"
     ]
    },
    {
     "name": "stderr",
     "output_type": "stream",
     "text": [
      "  7%|▋         | 94/1335 [02:39<37:42,  1.82s/it]WARNING:Lossy conversion from int64 to uint8. Range [15331, 16384]. Convert image to uint8 prior to saving to suppress this warning.\n"
     ]
    },
    {
     "name": "stdout",
     "output_type": "stream",
     "text": [
      "('3540631_L_CC_1.dcm', 2)\n"
     ]
    },
    {
     "name": "stderr",
     "output_type": "stream",
     "text": [
      "  7%|▋         | 95/1335 [02:41<41:16,  2.00s/it]WARNING:Lossy conversion from int64 to uint8. Range [15416, 16384]. Convert image to uint8 prior to saving to suppress this warning.\n"
     ]
    },
    {
     "name": "stdout",
     "output_type": "stream",
     "text": [
      "('76226671_R_MLO_1.dcm', 2)\n"
     ]
    },
    {
     "name": "stderr",
     "output_type": "stream",
     "text": [
      "  7%|▋         | 96/1335 [02:44<42:50,  2.07s/it]WARNING:Lossy conversion from int64 to uint8. Range [15226, 16384]. Convert image to uint8 prior to saving to suppress this warning.\n"
     ]
    },
    {
     "name": "stdout",
     "output_type": "stream",
     "text": [
      "('4339045_R_MLO_1.dcm', 2)\n"
     ]
    },
    {
     "name": "stderr",
     "output_type": "stream",
     "text": [
      "  7%|▋         | 97/1335 [02:46<44:26,  2.15s/it]WARNING:Lossy conversion from int64 to uint8. Range [15448, 16384]. Convert image to uint8 prior to saving to suppress this warning.\n",
      "  7%|▋         | 98/1335 [02:47<39:33,  1.92s/it]"
     ]
    },
    {
     "name": "stdout",
     "output_type": "stream",
     "text": [
      "('75054702_R_CC_1.dcm', 2)\n"
     ]
    },
    {
     "name": "stderr",
     "output_type": "stream",
     "text": [
      "WARNING:Lossy conversion from int64 to uint8. Range [15348, 16384]. Convert image to uint8 prior to saving to suppress this warning.\n"
     ]
    },
    {
     "name": "stdout",
     "output_type": "stream",
     "text": [
      "('4337163_R_MLO_1.dcm', 2)\n"
     ]
    },
    {
     "name": "stderr",
     "output_type": "stream",
     "text": [
      "  7%|▋         | 99/1335 [02:50<41:15,  2.00s/it]WARNING:Lossy conversion from int64 to uint8. Range [15313, 16384]. Convert image to uint8 prior to saving to suppress this warning.\n"
     ]
    },
    {
     "name": "stdout",
     "output_type": "stream",
     "text": [
      "('76349133_R_MLO_1.dcm', 3)\n"
     ]
    },
    {
     "name": "stderr",
     "output_type": "stream",
     "text": [
      "  8%|▊         | 101/1335 [02:52<35:47,  1.74s/it]WARNING:Lossy conversion from int64 to uint8. Range [15314, 16384]. Convert image to uint8 prior to saving to suppress this warning.\n"
     ]
    },
    {
     "name": "stdout",
     "output_type": "stream",
     "text": [
      "('5292180_R_CC_1.dcm', 3)\n"
     ]
    },
    {
     "name": "stderr",
     "output_type": "stream",
     "text": [
      "  8%|▊         | 103/1335 [02:54<32:02,  1.56s/it]WARNING:Lossy conversion from int64 to uint8. Range [15343, 16384]. Convert image to uint8 prior to saving to suppress this warning.\n"
     ]
    },
    {
     "name": "stdout",
     "output_type": "stream",
     "text": [
      "('76544026_R_CC_1.dcm', 2)\n"
     ]
    },
    {
     "name": "stderr",
     "output_type": "stream",
     "text": [
      "  8%|▊         | 104/1335 [02:56<36:28,  1.78s/it]WARNING:Lossy conversion from int64 to uint8. Range [15050, 16384]. Convert image to uint8 prior to saving to suppress this warning.\n"
     ]
    },
    {
     "name": "stdout",
     "output_type": "stream",
     "text": [
      "('76443829_R_CC_1.dcm', 2)\n"
     ]
    },
    {
     "name": "stderr",
     "output_type": "stream",
     "text": [
      "  8%|▊         | 105/1335 [02:59<39:39,  1.93s/it]WARNING:Lossy conversion from int64 to uint8. Range [15373, 16384]. Convert image to uint8 prior to saving to suppress this warning.\n"
     ]
    },
    {
     "name": "stdout",
     "output_type": "stream",
     "text": [
      "('76200017_L_CC_1.dcm', 2)\n"
     ]
    },
    {
     "name": "stderr",
     "output_type": "stream",
     "text": [
      "  8%|▊         | 106/1335 [03:01<42:08,  2.06s/it]WARNING:Lossy conversion from int64 to uint8. Range [15232, 16384]. Convert image to uint8 prior to saving to suppress this warning.\n",
      "  8%|▊         | 107/1335 [03:02<37:59,  1.86s/it]"
     ]
    },
    {
     "name": "stdout",
     "output_type": "stream",
     "text": [
      "('76267257_L_CC_1.dcm', 2)\n"
     ]
    },
    {
     "name": "stderr",
     "output_type": "stream",
     "text": [
      "WARNING:Lossy conversion from int64 to uint8. Range [15392, 16384]. Convert image to uint8 prior to saving to suppress this warning.\n",
      "  8%|▊         | 108/1335 [03:04<35:09,  1.72s/it]"
     ]
    },
    {
     "name": "stdout",
     "output_type": "stream",
     "text": [
      "('4245154_L_MLO_1.dcm', 2)\n"
     ]
    },
    {
     "name": "stderr",
     "output_type": "stream",
     "text": [
      "WARNING:Lossy conversion from int64 to uint8. Range [15305, 16384]. Convert image to uint8 prior to saving to suppress this warning.\n"
     ]
    },
    {
     "name": "stdout",
     "output_type": "stream",
     "text": [
      "('76000381_R_MLO_1.dcm', 1)\n"
     ]
    },
    {
     "name": "stderr",
     "output_type": "stream",
     "text": [
      "  8%|▊         | 109/1335 [03:06<38:20,  1.88s/it]WARNING:Lossy conversion from int64 to uint8. Range [15341, 16384]. Convert image to uint8 prior to saving to suppress this warning.\n"
     ]
    },
    {
     "name": "stdout",
     "output_type": "stream",
     "text": [
      "('76000381_L_CC_1.dcm', 1)\n"
     ]
    },
    {
     "name": "stderr",
     "output_type": "stream",
     "text": [
      "  8%|▊         | 110/1335 [03:08<39:55,  1.96s/it]WARNING:Lossy conversion from int64 to uint8. Range [15327, 16384]. Convert image to uint8 prior to saving to suppress this warning.\n"
     ]
    },
    {
     "name": "stdout",
     "output_type": "stream",
     "text": [
      "('76127397_L_MLO_1.dcm', 2)\n"
     ]
    },
    {
     "name": "stderr",
     "output_type": "stream",
     "text": [
      "  8%|▊         | 112/1335 [03:11<34:44,  1.70s/it]WARNING:Lossy conversion from int64 to uint8. Range [15000, 16384]. Convert image to uint8 prior to saving to suppress this warning.\n"
     ]
    },
    {
     "name": "stdout",
     "output_type": "stream",
     "text": [
      "('5294007_L_MLO_1.dcm', 2)\n"
     ]
    },
    {
     "name": "stderr",
     "output_type": "stream",
     "text": [
      "  8%|▊         | 113/1335 [03:13<38:08,  1.87s/it]WARNING:Lossy conversion from int64 to uint8. Range [15394, 16384]. Convert image to uint8 prior to saving to suppress this warning.\n"
     ]
    },
    {
     "name": "stdout",
     "output_type": "stream",
     "text": [
      "('4310319_L_MLO_1.dcm', 2)\n"
     ]
    },
    {
     "name": "stderr",
     "output_type": "stream",
     "text": [
      "  9%|▊         | 114/1335 [03:15<41:12,  2.02s/it]WARNING:Lossy conversion from int64 to uint8. Range [15367, 16384]. Convert image to uint8 prior to saving to suppress this warning.\n"
     ]
    },
    {
     "name": "stdout",
     "output_type": "stream",
     "text": [
      "('75063022_L_CC_1.dcm', 2)\n"
     ]
    },
    {
     "name": "stderr",
     "output_type": "stream",
     "text": [
      "  9%|▊         | 115/1335 [03:18<43:23,  2.13s/it]WARNING:Lossy conversion from int64 to uint8. Range [15435, 16384]. Convert image to uint8 prior to saving to suppress this warning.\n"
     ]
    },
    {
     "name": "stdout",
     "output_type": "stream",
     "text": [
      "('5138593_R_CC_1.dcm', 2)\n"
     ]
    },
    {
     "name": "stderr",
     "output_type": "stream",
     "text": [
      "  9%|▊         | 116/1335 [03:20<44:49,  2.21s/it]WARNING:Lossy conversion from int64 to uint8. Range [15275, 16384]. Convert image to uint8 prior to saving to suppress this warning.\n",
      "  9%|▉         | 117/1335 [03:21<39:42,  1.96s/it]"
     ]
    },
    {
     "name": "stdout",
     "output_type": "stream",
     "text": [
      "('76483593_L_MLO_1.dcm', 2)\n"
     ]
    },
    {
     "name": "stderr",
     "output_type": "stream",
     "text": [
      "WARNING:Lossy conversion from int64 to uint8. Range [15316, 16384]. Convert image to uint8 prior to saving to suppress this warning.\n",
      "  9%|▉         | 118/1335 [03:23<36:10,  1.78s/it]"
     ]
    },
    {
     "name": "stdout",
     "output_type": "stream",
     "text": [
      "('75054702_R_MLO_1.dcm', 2)\n"
     ]
    },
    {
     "name": "stderr",
     "output_type": "stream",
     "text": [
      "WARNING:Lossy conversion from int64 to uint8. Range [15096, 16384]. Convert image to uint8 prior to saving to suppress this warning.\n",
      "  9%|▉         | 119/1335 [03:24<34:33,  1.71s/it]"
     ]
    },
    {
     "name": "stdout",
     "output_type": "stream",
     "text": [
      "('5161848_R_MLO_1.dcm', 3)\n"
     ]
    },
    {
     "name": "stderr",
     "output_type": "stream",
     "text": [
      "WARNING:Lossy conversion from int64 to uint8. Range [15403, 16384]. Convert image to uint8 prior to saving to suppress this warning.\n"
     ]
    },
    {
     "name": "stdout",
     "output_type": "stream",
     "text": [
      "('75904104_L_CC_1.dcm', 2)\n"
     ]
    },
    {
     "name": "stderr",
     "output_type": "stream",
     "text": [
      "  9%|▉         | 120/1335 [03:27<39:14,  1.94s/it]WARNING:Lossy conversion from int64 to uint8. Range [15300, 16384]. Convert image to uint8 prior to saving to suppress this warning.\n"
     ]
    },
    {
     "name": "stdout",
     "output_type": "stream",
     "text": [
      "('76251641_R_CC_1.dcm', 2)\n"
     ]
    },
    {
     "name": "stderr",
     "output_type": "stream",
     "text": [
      "  9%|▉         | 121/1335 [03:29<40:33,  2.00s/it]WARNING:Lossy conversion from int64 to uint8. Range [15408, 16384]. Convert image to uint8 prior to saving to suppress this warning.\n"
     ]
    },
    {
     "name": "stdout",
     "output_type": "stream",
     "text": [
      "('76587824_L_CC_1.dcm', 4)\n"
     ]
    },
    {
     "name": "stderr",
     "output_type": "stream",
     "text": [
      "  9%|▉         | 122/1335 [03:31<41:30,  2.05s/it]WARNING:Lossy conversion from int64 to uint8. Range [15346, 16384]. Convert image to uint8 prior to saving to suppress this warning.\n",
      "  9%|▉         | 124/1335 [03:32<33:29,  1.66s/it]"
     ]
    },
    {
     "name": "stdout",
     "output_type": "stream",
     "text": [
      "('76460754_R_CC_1.dcm', 2)\n"
     ]
    },
    {
     "name": "stderr",
     "output_type": "stream",
     "text": [
      "WARNING:Lossy conversion from int64 to uint8. Range [15045, 16384]. Convert image to uint8 prior to saving to suppress this warning.\n"
     ]
    },
    {
     "name": "stdout",
     "output_type": "stream",
     "text": [
      "('76443829_L_MLO_1.dcm', 2)\n"
     ]
    },
    {
     "name": "stderr",
     "output_type": "stream",
     "text": [
      "  9%|▉         | 125/1335 [03:35<38:04,  1.89s/it]WARNING:Lossy conversion from int64 to uint8. Range [15312, 16384]. Convert image to uint8 prior to saving to suppress this warning.\n"
     ]
    },
    {
     "name": "stdout",
     "output_type": "stream",
     "text": [
      "('76465727_L_CC_1.dcm', 1)\n"
     ]
    },
    {
     "name": "stderr",
     "output_type": "stream",
     "text": [
      "  9%|▉         | 126/1335 [03:37<40:04,  1.99s/it]WARNING:Lossy conversion from int64 to uint8. Range [15368, 16384]. Convert image to uint8 prior to saving to suppress this warning.\n",
      " 10%|▉         | 127/1335 [03:39<37:05,  1.84s/it]"
     ]
    },
    {
     "name": "stdout",
     "output_type": "stream",
     "text": [
      "('76398885_R_CC_1.dcm', 3)\n"
     ]
    },
    {
     "name": "stderr",
     "output_type": "stream",
     "text": [
      "WARNING:Lossy conversion from int64 to uint8. Range [15302, 16384]. Convert image to uint8 prior to saving to suppress this warning.\n"
     ]
    },
    {
     "name": "stdout",
     "output_type": "stream",
     "text": [
      "('3823517_R_MLO_1.dcm', 1)\n"
     ]
    },
    {
     "name": "stderr",
     "output_type": "stream",
     "text": [
      " 10%|▉         | 128/1335 [03:41<39:31,  1.96s/it]WARNING:Lossy conversion from int64 to uint8. Range [15428, 16384]. Convert image to uint8 prior to saving to suppress this warning.\n"
     ]
    },
    {
     "name": "stdout",
     "output_type": "stream",
     "text": [
      "('3602828_L_CC_1.dcm', 1)\n"
     ]
    },
    {
     "name": "stderr",
     "output_type": "stream",
     "text": [
      " 10%|▉         | 131/1335 [03:43<32:09,  1.60s/it]WARNING:Lossy conversion from int64 to uint8. Range [15323, 16384]. Convert image to uint8 prior to saving to suppress this warning.\n",
      " 10%|▉         | 132/1335 [03:45<30:45,  1.53s/it]"
     ]
    },
    {
     "name": "stdout",
     "output_type": "stream",
     "text": [
      "('4457149_L_MLO_1.dcm', 2)\n"
     ]
    },
    {
     "name": "stderr",
     "output_type": "stream",
     "text": [
      "WARNING:Lossy conversion from int64 to uint8. Range [15307, 16384]. Convert image to uint8 prior to saving to suppress this warning.\n",
      " 10%|▉         | 133/1335 [03:46<29:47,  1.49s/it]"
     ]
    },
    {
     "name": "stdout",
     "output_type": "stream",
     "text": [
      "('76243793_L_CC_1.dcm', 2)\n"
     ]
    },
    {
     "name": "stderr",
     "output_type": "stream",
     "text": [
      "WARNING:Lossy conversion from int64 to uint8. Range [15189, 16384]. Convert image to uint8 prior to saving to suppress this warning.\n"
     ]
    },
    {
     "name": "stdout",
     "output_type": "stream",
     "text": [
      "('5169104_R_CC_1.dcm', 2)\n"
     ]
    },
    {
     "name": "stderr",
     "output_type": "stream",
     "text": [
      " 10%|█         | 134/1335 [03:48<35:17,  1.76s/it]WARNING:Lossy conversion from int64 to uint8. Range [15409, 16384]. Convert image to uint8 prior to saving to suppress this warning.\n"
     ]
    },
    {
     "name": "stdout",
     "output_type": "stream",
     "text": [
      "('5127821_L_MLO_1.dcm', 2)\n"
     ]
    },
    {
     "name": "stderr",
     "output_type": "stream",
     "text": [
      " 10%|█         | 135/1335 [03:51<37:49,  1.89s/it]WARNING:Lossy conversion from int64 to uint8. Range [15074, 16384]. Convert image to uint8 prior to saving to suppress this warning.\n",
      " 10%|█         | 136/1335 [03:52<35:05,  1.76s/it]"
     ]
    },
    {
     "name": "stdout",
     "output_type": "stream",
     "text": [
      "('76398885_L_CC_1.dcm', 3)\n"
     ]
    },
    {
     "name": "stderr",
     "output_type": "stream",
     "text": [
      "WARNING:Lossy conversion from int64 to uint8. Range [15315, 16384]. Convert image to uint8 prior to saving to suppress this warning.\n"
     ]
    },
    {
     "name": "stdout",
     "output_type": "stream",
     "text": [
      "('76488839_R_CC_1.dcm', 2)\n"
     ]
    },
    {
     "name": "stderr",
     "output_type": "stream",
     "text": [
      " 10%|█         | 139/1335 [03:54<28:59,  1.45s/it]WARNING:Lossy conversion from int64 to uint8. Range [15420, 16384]. Convert image to uint8 prior to saving to suppress this warning.\n"
     ]
    },
    {
     "name": "stdout",
     "output_type": "stream",
     "text": [
      "('75954157_R_MLO_1.dcm', 2)\n"
     ]
    },
    {
     "name": "stderr",
     "output_type": "stream",
     "text": [
      " 10%|█         | 140/1335 [03:56<33:23,  1.68s/it]WARNING:Lossy conversion from int64 to uint8. Range [15050, 16384]. Convert image to uint8 prior to saving to suppress this warning.\n"
     ]
    },
    {
     "name": "stdout",
     "output_type": "stream",
     "text": [
      "('76350365_L_CC_1.dcm', 2)\n"
     ]
    },
    {
     "name": "stderr",
     "output_type": "stream",
     "text": [
      " 11%|█         | 142/1335 [03:59<30:38,  1.54s/it]WARNING:Lossy conversion from int64 to uint8. Range [15050, 16384]. Convert image to uint8 prior to saving to suppress this warning.\n"
     ]
    },
    {
     "name": "stdout",
     "output_type": "stream",
     "text": [
      "('76372050_R_MLO_1.dcm', 1)\n"
     ]
    },
    {
     "name": "stderr",
     "output_type": "stream",
     "text": [
      " 11%|█         | 143/1335 [04:01<34:53,  1.76s/it]WARNING:Lossy conversion from int64 to uint8. Range [15348, 16384]. Convert image to uint8 prior to saving to suppress this warning.\n"
     ]
    },
    {
     "name": "stdout",
     "output_type": "stream",
     "text": [
      "('75023037_L_CC_1.dcm', 3)\n"
     ]
    },
    {
     "name": "stderr",
     "output_type": "stream",
     "text": [
      " 11%|█         | 144/1335 [04:03<37:29,  1.89s/it]WARNING:Lossy conversion from int64 to uint8. Range [15623, 16384]. Convert image to uint8 prior to saving to suppress this warning.\n"
     ]
    },
    {
     "name": "stdout",
     "output_type": "stream",
     "text": [
      "('76077695_L_CC_1.dcm', 1)\n"
     ]
    },
    {
     "name": "stderr",
     "output_type": "stream",
     "text": [
      " 11%|█         | 145/1335 [04:06<39:48,  2.01s/it]WARNING:Lossy conversion from int64 to uint8. Range [15581, 16384]. Convert image to uint8 prior to saving to suppress this warning.\n"
     ]
    },
    {
     "name": "stdout",
     "output_type": "stream",
     "text": [
      "('5257817_R_CC_1.dcm', 2)\n"
     ]
    },
    {
     "name": "stderr",
     "output_type": "stream",
     "text": [
      " 11%|█         | 146/1335 [04:08<42:01,  2.12s/it]WARNING:Lossy conversion from int64 to uint8. Range [15206, 16384]. Convert image to uint8 prior to saving to suppress this warning.\n",
      " 11%|█         | 147/1335 [04:09<37:49,  1.91s/it]"
     ]
    },
    {
     "name": "stdout",
     "output_type": "stream",
     "text": [
      "('76454721_L_MLO_1.dcm', 2)\n"
     ]
    },
    {
     "name": "stderr",
     "output_type": "stream",
     "text": [
      "WARNING:Lossy conversion from int64 to uint8. Range [15296, 16384]. Convert image to uint8 prior to saving to suppress this warning.\n"
     ]
    },
    {
     "name": "stdout",
     "output_type": "stream",
     "text": [
      "('75067964_L_CC_1.dcm', 1)\n"
     ]
    },
    {
     "name": "stderr",
     "output_type": "stream",
     "text": [
      " 11%|█         | 148/1335 [04:12<40:16,  2.04s/it]WARNING:Lossy conversion from int64 to uint8. Range [15265, 16384]. Convert image to uint8 prior to saving to suppress this warning.\n"
     ]
    },
    {
     "name": "stdout",
     "output_type": "stream",
     "text": [
      "('76268891_L_MLO_1.dcm', 2)\n"
     ]
    },
    {
     "name": "stderr",
     "output_type": "stream",
     "text": [
      " 11%|█         | 149/1335 [04:14<41:30,  2.10s/it]WARNING:Lossy conversion from int64 to uint8. Range [15322, 16384]. Convert image to uint8 prior to saving to suppress this warning.\n"
     ]
    },
    {
     "name": "stdout",
     "output_type": "stream",
     "text": [
      "('76272378_R_MLO_1.dcm', 2)\n"
     ]
    },
    {
     "name": "stderr",
     "output_type": "stream",
     "text": [
      " 11%|█         | 150/1335 [04:16<42:21,  2.15s/it]WARNING:Lossy conversion from int64 to uint8. Range [15095, 16384]. Convert image to uint8 prior to saving to suppress this warning.\n",
      " 11%|█▏        | 151/1335 [04:18<38:28,  1.95s/it]"
     ]
    },
    {
     "name": "stdout",
     "output_type": "stream",
     "text": [
      "('5161848_R_CC_1.dcm', 3)\n"
     ]
    },
    {
     "name": "stderr",
     "output_type": "stream",
     "text": [
      "WARNING:Lossy conversion from int64 to uint8. Range [15253, 16384]. Convert image to uint8 prior to saving to suppress this warning.\n"
     ]
    },
    {
     "name": "stdout",
     "output_type": "stream",
     "text": [
      "('5138593_L_CC_1.dcm', 2)\n"
     ]
    },
    {
     "name": "stderr",
     "output_type": "stream",
     "text": [
      " 11%|█▏        | 152/1335 [04:20<40:14,  2.04s/it]WARNING:Lossy conversion from int64 to uint8. Range [15419, 16384]. Convert image to uint8 prior to saving to suppress this warning.\n",
      " 11%|█▏        | 153/1335 [04:21<36:32,  1.85s/it]"
     ]
    },
    {
     "name": "stdout",
     "output_type": "stream",
     "text": [
      "('4300843_R_CC_1.dcm', 3)\n"
     ]
    },
    {
     "name": "stderr",
     "output_type": "stream",
     "text": [
      "WARNING:Lossy conversion from int64 to uint8. Range [15338, 16384]. Convert image to uint8 prior to saving to suppress this warning.\n"
     ]
    },
    {
     "name": "stdout",
     "output_type": "stream",
     "text": [
      "('76016788_R_CC_1.dcm', 2)\n"
     ]
    },
    {
     "name": "stderr",
     "output_type": "stream",
     "text": [
      " 12%|█▏        | 154/1335 [04:24<39:00,  1.98s/it]WARNING:Lossy conversion from int64 to uint8. Range [15455, 16384]. Convert image to uint8 prior to saving to suppress this warning.\n"
     ]
    },
    {
     "name": "stdout",
     "output_type": "stream",
     "text": [
      "('75019468_R_CC_1.dcm', 2)\n"
     ]
    },
    {
     "name": "stderr",
     "output_type": "stream",
     "text": [
      " 12%|█▏        | 155/1335 [04:26<40:34,  2.06s/it]WARNING:Lossy conversion from int64 to uint8. Range [15301, 16384]. Convert image to uint8 prior to saving to suppress this warning.\n"
     ]
    },
    {
     "name": "stdout",
     "output_type": "stream",
     "text": [
      "('76145918_L_CC_1.dcm', 1)\n"
     ]
    },
    {
     "name": "stderr",
     "output_type": "stream",
     "text": [
      " 12%|█▏        | 156/1335 [04:28<41:22,  2.11s/it]WARNING:Lossy conversion from int64 to uint8. Range [15312, 16384]. Convert image to uint8 prior to saving to suppress this warning.\n"
     ]
    },
    {
     "name": "stdout",
     "output_type": "stream",
     "text": [
      "('76269418_R_CC_1.dcm', 2)\n"
     ]
    },
    {
     "name": "stderr",
     "output_type": "stream",
     "text": [
      " 12%|█▏        | 157/1335 [04:30<41:34,  2.12s/it]WARNING:Lossy conversion from int64 to uint8. Range [15424, 16384]. Convert image to uint8 prior to saving to suppress this warning.\n"
     ]
    },
    {
     "name": "stdout",
     "output_type": "stream",
     "text": [
      "('4531219_L_CC_1.dcm', 3)\n"
     ]
    },
    {
     "name": "stderr",
     "output_type": "stream",
     "text": [
      " 12%|█▏        | 158/1335 [04:33<42:37,  2.17s/it]WARNING:Lossy conversion from int64 to uint8. Range [15381, 16384]. Convert image to uint8 prior to saving to suppress this warning.\n"
     ]
    },
    {
     "name": "stdout",
     "output_type": "stream",
     "text": [
      "('4306851_R_CC_1.dcm', 3)\n"
     ]
    },
    {
     "name": "stderr",
     "output_type": "stream",
     "text": [
      " 12%|█▏        | 159/1335 [04:35<42:45,  2.18s/it]WARNING:Lossy conversion from int64 to uint8. Range [15221, 16384]. Convert image to uint8 prior to saving to suppress this warning.\n",
      " 12%|█▏        | 160/1335 [04:36<38:05,  1.95s/it]"
     ]
    },
    {
     "name": "stdout",
     "output_type": "stream",
     "text": [
      "('76047867_R_MLO_1.dcm', 3)\n"
     ]
    },
    {
     "name": "stderr",
     "output_type": "stream",
     "text": [
      "WARNING:Lossy conversion from int64 to uint8. Range [15357, 16384]. Convert image to uint8 prior to saving to suppress this warning.\n"
     ]
    },
    {
     "name": "stdout",
     "output_type": "stream",
     "text": [
      "('3554447_R_MLO_1.dcm', 2)\n"
     ]
    },
    {
     "name": "stderr",
     "output_type": "stream",
     "text": [
      " 12%|█▏        | 161/1335 [04:39<40:54,  2.09s/it]WARNING:Lossy conversion from int64 to uint8. Range [15347, 16384]. Convert image to uint8 prior to saving to suppress this warning.\n"
     ]
    },
    {
     "name": "stdout",
     "output_type": "stream",
     "text": [
      "('76147248_L_MLO_1.dcm', 2)\n"
     ]
    },
    {
     "name": "stderr",
     "output_type": "stream",
     "text": [
      " 12%|█▏        | 162/1335 [04:41<41:25,  2.12s/it]WARNING:Lossy conversion from int64 to uint8. Range [15511, 16384]. Convert image to uint8 prior to saving to suppress this warning.\n"
     ]
    },
    {
     "name": "stdout",
     "output_type": "stream",
     "text": [
      "('5215632_R_CC_1.dcm', 2)\n"
     ]
    },
    {
     "name": "stderr",
     "output_type": "stream",
     "text": [
      " 12%|█▏        | 163/1335 [04:43<42:27,  2.17s/it]WARNING:Lossy conversion from int64 to uint8. Range [15324, 16384]. Convert image to uint8 prior to saving to suppress this warning.\n"
     ]
    },
    {
     "name": "stdout",
     "output_type": "stream",
     "text": [
      "('75979901_L_CC_1.dcm', 2)\n"
     ]
    },
    {
     "name": "stderr",
     "output_type": "stream",
     "text": [
      " 12%|█▏        | 164/1335 [04:45<42:29,  2.18s/it]WARNING:Lossy conversion from int64 to uint8. Range [15310, 16384]. Convert image to uint8 prior to saving to suppress this warning.\n"
     ]
    },
    {
     "name": "stdout",
     "output_type": "stream",
     "text": [
      "('3991880_L_MLO_1.dcm', 2)\n"
     ]
    },
    {
     "name": "stderr",
     "output_type": "stream",
     "text": [
      " 12%|█▏        | 165/1335 [04:47<42:17,  2.17s/it]WARNING:Lossy conversion from int64 to uint8. Range [15195, 16384]. Convert image to uint8 prior to saving to suppress this warning.\n"
     ]
    },
    {
     "name": "stdout",
     "output_type": "stream",
     "text": [
      "('76433131_R_CC_1.dcm', 1)\n"
     ]
    },
    {
     "name": "stderr",
     "output_type": "stream",
     "text": [
      " 12%|█▏        | 166/1335 [04:50<43:04,  2.21s/it]WARNING:Lossy conversion from int64 to uint8. Range [15310, 16384]. Convert image to uint8 prior to saving to suppress this warning.\n"
     ]
    },
    {
     "name": "stdout",
     "output_type": "stream",
     "text": [
      "('76016788_L_CC_1.dcm', 2)\n"
     ]
    },
    {
     "name": "stderr",
     "output_type": "stream",
     "text": [
      " 13%|█▎        | 167/1335 [04:52<42:52,  2.20s/it]WARNING:Lossy conversion from int64 to uint8. Range [15256, 16384]. Convert image to uint8 prior to saving to suppress this warning.\n",
      " 13%|█▎        | 168/1335 [04:53<38:06,  1.96s/it]"
     ]
    },
    {
     "name": "stdout",
     "output_type": "stream",
     "text": [
      "('76541983_R_MLO_1.dcm', 2)\n"
     ]
    },
    {
     "name": "stderr",
     "output_type": "stream",
     "text": [
      "WARNING:Lossy conversion from int64 to uint8. Range [15441, 16384]. Convert image to uint8 prior to saving to suppress this warning.\n"
     ]
    },
    {
     "name": "stdout",
     "output_type": "stream",
     "text": [
      "('76156451_R_MLO_1.dcm', 3)\n"
     ]
    },
    {
     "name": "stderr",
     "output_type": "stream",
     "text": [
      " 13%|█▎        | 169/1335 [04:56<41:35,  2.14s/it]WARNING:Lossy conversion from int64 to uint8. Range [15091, 16384]. Convert image to uint8 prior to saving to suppress this warning.\n"
     ]
    },
    {
     "name": "stdout",
     "output_type": "stream",
     "text": [
      "('4472726_L_CC_1.dcm', 2)\n"
     ]
    },
    {
     "name": "stderr",
     "output_type": "stream",
     "text": [
      " 13%|█▎        | 170/1335 [04:58<41:41,  2.15s/it]WARNING:Lossy conversion from int64 to uint8. Range [15362, 16384]. Convert image to uint8 prior to saving to suppress this warning.\n",
      " 13%|█▎        | 171/1335 [04:59<37:20,  1.92s/it]"
     ]
    },
    {
     "name": "stdout",
     "output_type": "stream",
     "text": [
      "('75910199_L_CC_1.dcm', 4)\n"
     ]
    },
    {
     "name": "stderr",
     "output_type": "stream",
     "text": [
      "WARNING:Lossy conversion from int64 to uint8. Range [15072, 16384]. Convert image to uint8 prior to saving to suppress this warning.\n",
      " 13%|█▎        | 172/1335 [05:01<34:10,  1.76s/it]"
     ]
    },
    {
     "name": "stdout",
     "output_type": "stream",
     "text": [
      "('76398885_L_MLO_1.dcm', 3)\n"
     ]
    },
    {
     "name": "stderr",
     "output_type": "stream",
     "text": [
      "WARNING:Lossy conversion from int64 to uint8. Range [15332, 16384]. Convert image to uint8 prior to saving to suppress this warning.\n"
     ]
    },
    {
     "name": "stdout",
     "output_type": "stream",
     "text": [
      "('5207299_R_CC_1.dcm', 1)\n"
     ]
    },
    {
     "name": "stderr",
     "output_type": "stream",
     "text": [
      " 13%|█▎        | 174/1335 [05:03<30:50,  1.59s/it]WARNING:Lossy conversion from int64 to uint8. Range [15417, 16384]. Convert image to uint8 prior to saving to suppress this warning.\n"
     ]
    },
    {
     "name": "stdout",
     "output_type": "stream",
     "text": [
      "('76312395_L_CC_1.dcm', 2)\n"
     ]
    },
    {
     "name": "stderr",
     "output_type": "stream",
     "text": [
      " 13%|█▎        | 175/1335 [05:05<34:45,  1.80s/it]WARNING:Lossy conversion from int64 to uint8. Range [15261, 16384]. Convert image to uint8 prior to saving to suppress this warning.\n",
      " 13%|█▎        | 176/1335 [05:07<32:10,  1.67s/it]"
     ]
    },
    {
     "name": "stdout",
     "output_type": "stream",
     "text": [
      "('5145490_L_MLO_1.dcm', 3)\n"
     ]
    },
    {
     "name": "stderr",
     "output_type": "stream",
     "text": [
      "WARNING:Lossy conversion from int64 to uint8. Range [15312, 16384]. Convert image to uint8 prior to saving to suppress this warning.\n"
     ]
    },
    {
     "name": "stdout",
     "output_type": "stream",
     "text": [
      "('5179559_R_CC_1.dcm', 1)\n"
     ]
    },
    {
     "name": "stderr",
     "output_type": "stream",
     "text": [
      " 13%|█▎        | 177/1335 [05:09<35:42,  1.85s/it]WARNING:Lossy conversion from int64 to uint8. Range [15416, 16384]. Convert image to uint8 prior to saving to suppress this warning.\n"
     ]
    },
    {
     "name": "stdout",
     "output_type": "stream",
     "text": [
      "('3589676_L_CC_1.dcm', 2)\n"
     ]
    },
    {
     "name": "stderr",
     "output_type": "stream",
     "text": [
      " 13%|█▎        | 178/1335 [05:11<38:17,  1.99s/it]WARNING:Lossy conversion from int64 to uint8. Range [15308, 16384]. Convert image to uint8 prior to saving to suppress this warning.\n",
      " 13%|█▎        | 179/1335 [05:13<34:53,  1.81s/it]"
     ]
    },
    {
     "name": "stdout",
     "output_type": "stream",
     "text": [
      "('3931997_R_MLO_1.dcm', 3)\n"
     ]
    },
    {
     "name": "stderr",
     "output_type": "stream",
     "text": [
      "WARNING:Lossy conversion from int64 to uint8. Range [15512, 16384]. Convert image to uint8 prior to saving to suppress this warning.\n"
     ]
    },
    {
     "name": "stdout",
     "output_type": "stream",
     "text": [
      "('5231733_L_CC_1.dcm', 3)\n"
     ]
    },
    {
     "name": "stderr",
     "output_type": "stream",
     "text": [
      " 13%|█▎        | 180/1335 [05:15<38:09,  1.98s/it]WARNING:Lossy conversion from int64 to uint8. Range [15277, 16384]. Convert image to uint8 prior to saving to suppress this warning.\n"
     ]
    },
    {
     "name": "stdout",
     "output_type": "stream",
     "text": [
      "('3587543_L_CC_1.dcm', 1)\n"
     ]
    },
    {
     "name": "stderr",
     "output_type": "stream",
     "text": [
      " 14%|█▎        | 181/1335 [05:17<39:47,  2.07s/it]WARNING:Lossy conversion from int64 to uint8. Range [15277, 16384]. Convert image to uint8 prior to saving to suppress this warning.\n"
     ]
    },
    {
     "name": "stdout",
     "output_type": "stream",
     "text": [
      "('76147529_R_CC_1.dcm', 2)\n"
     ]
    },
    {
     "name": "stderr",
     "output_type": "stream",
     "text": [
      " 14%|█▎        | 182/1335 [05:20<40:28,  2.11s/it]WARNING:Lossy conversion from int64 to uint8. Range [15343, 16384]. Convert image to uint8 prior to saving to suppress this warning.\n"
     ]
    },
    {
     "name": "stdout",
     "output_type": "stream",
     "text": [
      "('5290178_L_CC_1.dcm', 1)\n"
     ]
    },
    {
     "name": "stderr",
     "output_type": "stream",
     "text": [
      " 14%|█▍        | 184/1335 [05:22<34:41,  1.81s/it]WARNING:Lossy conversion from int64 to uint8. Range [15275, 16384]. Convert image to uint8 prior to saving to suppress this warning.\n"
     ]
    },
    {
     "name": "stdout",
     "output_type": "stream",
     "text": [
      "('5207299_L_MLO_1.dcm', 1)\n"
     ]
    },
    {
     "name": "stderr",
     "output_type": "stream",
     "text": [
      " 14%|█▍        | 185/1335 [05:24<37:08,  1.94s/it]WARNING:Lossy conversion from int64 to uint8. Range [15251, 16384]. Convert image to uint8 prior to saving to suppress this warning.\n",
      " 14%|█▍        | 186/1335 [05:26<33:49,  1.77s/it]"
     ]
    },
    {
     "name": "stdout",
     "output_type": "stream",
     "text": [
      "('5288360_R_MLO_1.dcm', 2)\n"
     ]
    },
    {
     "name": "stderr",
     "output_type": "stream",
     "text": [
      "WARNING:Lossy conversion from int64 to uint8. Range [15132, 16384]. Convert image to uint8 prior to saving to suppress this warning.\n"
     ]
    },
    {
     "name": "stdout",
     "output_type": "stream",
     "text": [
      "('76086832_R_MLO_1.dcm', 2)\n"
     ]
    },
    {
     "name": "stderr",
     "output_type": "stream",
     "text": [
      " 14%|█▍        | 187/1335 [05:28<37:49,  1.98s/it]WARNING:Lossy conversion from int64 to uint8. Range [15304, 16384]. Convert image to uint8 prior to saving to suppress this warning.\n"
     ]
    },
    {
     "name": "stdout",
     "output_type": "stream",
     "text": [
      "('76219575_R_MLO_1.dcm', 3)\n"
     ]
    },
    {
     "name": "stderr",
     "output_type": "stream",
     "text": [
      " 14%|█▍        | 188/1335 [05:30<39:33,  2.07s/it]WARNING:Lossy conversion from int64 to uint8. Range [15279, 16384]. Convert image to uint8 prior to saving to suppress this warning.\n"
     ]
    },
    {
     "name": "stdout",
     "output_type": "stream",
     "text": [
      "('76012842_R_CC_1.dcm', 2)\n"
     ]
    },
    {
     "name": "stderr",
     "output_type": "stream",
     "text": [
      " 14%|█▍        | 189/1335 [05:32<39:52,  2.09s/it]WARNING:Lossy conversion from int64 to uint8. Range [15248, 16384]. Convert image to uint8 prior to saving to suppress this warning.\n"
     ]
    },
    {
     "name": "stdout",
     "output_type": "stream",
     "text": [
      "('76054060_R_MLO_1.dcm', 3)\n"
     ]
    },
    {
     "name": "stderr",
     "output_type": "stream",
     "text": [
      " 14%|█▍        | 190/1335 [05:35<41:08,  2.16s/it]WARNING:Lossy conversion from int64 to uint8. Range [15382, 16384]. Convert image to uint8 prior to saving to suppress this warning.\n"
     ]
    },
    {
     "name": "stdout",
     "output_type": "stream",
     "text": [
      "('4233357_L_CC_1.dcm', 1)\n"
     ]
    },
    {
     "name": "stderr",
     "output_type": "stream",
     "text": [
      " 14%|█▍        | 192/1335 [05:37<34:49,  1.83s/it]WARNING:Lossy conversion from int64 to uint8. Range [15233, 16384]. Convert image to uint8 prior to saving to suppress this warning.\n",
      " 14%|█▍        | 193/1335 [05:38<32:10,  1.69s/it]"
     ]
    },
    {
     "name": "stdout",
     "output_type": "stream",
     "text": [
      "('76243752_L_MLO_1.dcm', 4)\n"
     ]
    },
    {
     "name": "stderr",
     "output_type": "stream",
     "text": [
      "WARNING:Lossy conversion from int64 to uint8. Range [15279, 16384]. Convert image to uint8 prior to saving to suppress this warning.\n",
      " 15%|█▍        | 194/1335 [05:40<30:26,  1.60s/it]"
     ]
    },
    {
     "name": "stdout",
     "output_type": "stream",
     "text": [
      "('76068458_R_MLO_1.dcm', 2)\n"
     ]
    },
    {
     "name": "stderr",
     "output_type": "stream",
     "text": [
      "WARNING:Lossy conversion from int64 to uint8. Range [15261, 16384]. Convert image to uint8 prior to saving to suppress this warning.\n",
      " 15%|█▍        | 195/1335 [05:41<29:13,  1.54s/it]"
     ]
    },
    {
     "name": "stdout",
     "output_type": "stream",
     "text": [
      "('76243793_R_MLO_1.dcm', 2)\n"
     ]
    },
    {
     "name": "stderr",
     "output_type": "stream",
     "text": [
      "WARNING:Lossy conversion from int64 to uint8. Range [15363, 16384]. Convert image to uint8 prior to saving to suppress this warning.\n",
      " 15%|█▍        | 196/1335 [05:42<28:06,  1.48s/it]"
     ]
    },
    {
     "name": "stdout",
     "output_type": "stream",
     "text": [
      "('3931997_R_CC_1.dcm', 3)\n"
     ]
    },
    {
     "name": "stderr",
     "output_type": "stream",
     "text": [
      "WARNING:Lossy conversion from int64 to uint8. Range [15413, 16384]. Convert image to uint8 prior to saving to suppress this warning.\n"
     ]
    },
    {
     "name": "stdout",
     "output_type": "stream",
     "text": [
      "('5170980_L_CC_1.dcm', 2)\n"
     ]
    },
    {
     "name": "stderr",
     "output_type": "stream",
     "text": [
      " 15%|█▍        | 197/1335 [05:45<32:08,  1.69s/it]WARNING:Lossy conversion from int64 to uint8. Range [15530, 16384]. Convert image to uint8 prior to saving to suppress this warning.\n"
     ]
    },
    {
     "name": "stdout",
     "output_type": "stream",
     "text": [
      "('76363152_L_CC_1.dcm', 2)\n"
     ]
    },
    {
     "name": "stderr",
     "output_type": "stream",
     "text": [
      " 15%|█▍        | 199/1335 [05:47<28:36,  1.51s/it]WARNING:Lossy conversion from int64 to uint8. Range [15528, 16384]. Convert image to uint8 prior to saving to suppress this warning.\n"
     ]
    },
    {
     "name": "stdout",
     "output_type": "stream",
     "text": [
      "('76049731_R_CC_1.dcm', 2)\n"
     ]
    },
    {
     "name": "stderr",
     "output_type": "stream",
     "text": [
      " 15%|█▌        | 202/1335 [05:49<24:03,  1.27s/it]WARNING:Lossy conversion from int64 to uint8. Range [15301, 16384]. Convert image to uint8 prior to saving to suppress this warning.\n",
      " 15%|█▌        | 203/1335 [05:50<24:59,  1.32s/it]"
     ]
    },
    {
     "name": "stdout",
     "output_type": "stream",
     "text": [
      "('76582135_R_MLO_1.dcm', 2)\n"
     ]
    },
    {
     "name": "stderr",
     "output_type": "stream",
     "text": [
      "WARNING:Lossy conversion from int64 to uint8. Range [15488, 16384]. Convert image to uint8 prior to saving to suppress this warning.\n"
     ]
    },
    {
     "name": "stdout",
     "output_type": "stream",
     "text": [
      "('76226671_L_MLO_1.dcm', 2)\n"
     ]
    },
    {
     "name": "stderr",
     "output_type": "stream",
     "text": [
      " 15%|█▌        | 204/1335 [05:52<29:41,  1.58s/it]WARNING:Lossy conversion from int64 to uint8. Range [15336, 16384]. Convert image to uint8 prior to saving to suppress this warning.\n",
      " 15%|█▌        | 205/1335 [05:54<28:46,  1.53s/it]"
     ]
    },
    {
     "name": "stdout",
     "output_type": "stream",
     "text": [
      "('76006495_R_CC_1.dcm', 3)\n"
     ]
    },
    {
     "name": "stderr",
     "output_type": "stream",
     "text": [
      "WARNING:Lossy conversion from int64 to uint8. Range [15417, 16384]. Convert image to uint8 prior to saving to suppress this warning.\n"
     ]
    },
    {
     "name": "stdout",
     "output_type": "stream",
     "text": [
      "('76268663_R_CC_1.dcm', 2)\n"
     ]
    },
    {
     "name": "stderr",
     "output_type": "stream",
     "text": [
      " 15%|█▌        | 206/1335 [05:56<33:00,  1.75s/it]WARNING:Lossy conversion from int64 to uint8. Range [15343, 16384]. Convert image to uint8 prior to saving to suppress this warning.\n"
     ]
    },
    {
     "name": "stdout",
     "output_type": "stream",
     "text": [
      "('76299642_L_CC_1.dcm', 2)\n"
     ]
    },
    {
     "name": "stderr",
     "output_type": "stream",
     "text": [
      " 16%|█▌        | 207/1335 [05:58<35:14,  1.87s/it]WARNING:Lossy conversion from int64 to uint8. Range [15232, 16384]. Convert image to uint8 prior to saving to suppress this warning.\n",
      " 16%|█▌        | 208/1335 [06:00<32:19,  1.72s/it]"
     ]
    },
    {
     "name": "stdout",
     "output_type": "stream",
     "text": [
      "('75925559_R_MLO_1.dcm', 3)\n"
     ]
    },
    {
     "name": "stderr",
     "output_type": "stream",
     "text": [
      "WARNING:Lossy conversion from int64 to uint8. Range [15298, 16384]. Convert image to uint8 prior to saving to suppress this warning.\n"
     ]
    },
    {
     "name": "stdout",
     "output_type": "stream",
     "text": [
      "('76193968_R_CC_1.dcm', 2)\n"
     ]
    },
    {
     "name": "stderr",
     "output_type": "stream",
     "text": [
      " 16%|█▌        | 209/1335 [06:02<34:56,  1.86s/it]WARNING:Lossy conversion from int64 to uint8. Range [15080, 16384]. Convert image to uint8 prior to saving to suppress this warning.\n"
     ]
    },
    {
     "name": "stdout",
     "output_type": "stream",
     "text": [
      "('3651998_L_CC_1.dcm', 2)\n"
     ]
    },
    {
     "name": "stderr",
     "output_type": "stream",
     "text": [
      " 16%|█▌        | 210/1335 [06:04<36:35,  1.95s/it]WARNING:Lossy conversion from int64 to uint8. Range [15146, 16384]. Convert image to uint8 prior to saving to suppress this warning.\n"
     ]
    },
    {
     "name": "stdout",
     "output_type": "stream",
     "text": [
      "('3632345_R_CC_1.dcm', 2)\n"
     ]
    },
    {
     "name": "stderr",
     "output_type": "stream",
     "text": [
      " 16%|█▌        | 211/1335 [06:06<37:28,  2.00s/it]WARNING:Lossy conversion from int64 to uint8. Range [15361, 16384]. Convert image to uint8 prior to saving to suppress this warning.\n"
     ]
    },
    {
     "name": "stdout",
     "output_type": "stream",
     "text": [
      "('76368917_L_CC_1.dcm', 2)\n"
     ]
    },
    {
     "name": "stderr",
     "output_type": "stream",
     "text": [
      " 16%|█▌        | 214/1335 [06:08<30:14,  1.62s/it]WARNING:Lossy conversion from int64 to uint8. Range [15275, 16384]. Convert image to uint8 prior to saving to suppress this warning.\n",
      " 16%|█▌        | 216/1335 [06:10<24:59,  1.34s/it]"
     ]
    },
    {
     "name": "stdout",
     "output_type": "stream",
     "text": [
      "('5145490_L_CC_1.dcm', 3)\n"
     ]
    },
    {
     "name": "stderr",
     "output_type": "stream",
     "text": [
      "WARNING:Lossy conversion from int64 to uint8. Range [15318, 16384]. Convert image to uint8 prior to saving to suppress this warning.\n",
      " 16%|█▋        | 217/1335 [06:11<25:06,  1.35s/it]"
     ]
    },
    {
     "name": "stdout",
     "output_type": "stream",
     "text": [
      "('4434815_L_MLO_1.dcm', 2)\n"
     ]
    },
    {
     "name": "stderr",
     "output_type": "stream",
     "text": [
      "WARNING:Lossy conversion from int64 to uint8. Range [15379, 16384]. Convert image to uint8 prior to saving to suppress this warning.\n"
     ]
    },
    {
     "name": "stdout",
     "output_type": "stream",
     "text": [
      "('76333731_L_CC_1.dcm', 2)\n"
     ]
    },
    {
     "name": "stderr",
     "output_type": "stream",
     "text": [
      " 16%|█▋        | 218/1335 [06:13<29:30,  1.58s/it]WARNING:Lossy conversion from int64 to uint8. Range [15202, 16384]. Convert image to uint8 prior to saving to suppress this warning.\n",
      " 16%|█▋        | 219/1335 [06:15<28:15,  1.52s/it]"
     ]
    },
    {
     "name": "stdout",
     "output_type": "stream",
     "text": [
      "('5309804_L_MLO_1.dcm', 3)\n"
     ]
    },
    {
     "name": "stderr",
     "output_type": "stream",
     "text": [
      "WARNING:Lossy conversion from int64 to uint8. Range [15261, 16384]. Convert image to uint8 prior to saving to suppress this warning.\n"
     ]
    },
    {
     "name": "stdout",
     "output_type": "stream",
     "text": [
      "('4484666_L_MLO_1.dcm', 2)\n"
     ]
    },
    {
     "name": "stderr",
     "output_type": "stream",
     "text": [
      " 17%|█▋        | 221/1335 [06:17<26:04,  1.40s/it]WARNING:Lossy conversion from int64 to uint8. Range [15416, 16384]. Convert image to uint8 prior to saving to suppress this warning.\n"
     ]
    },
    {
     "name": "stdout",
     "output_type": "stream",
     "text": [
      "('76000456_R_CC_1.dcm', 1)\n"
     ]
    },
    {
     "name": "stderr",
     "output_type": "stream",
     "text": [
      " 17%|█▋        | 223/1335 [06:19<24:15,  1.31s/it]WARNING:Lossy conversion from int64 to uint8. Range [15194, 16384]. Convert image to uint8 prior to saving to suppress this warning.\n"
     ]
    },
    {
     "name": "stdout",
     "output_type": "stream",
     "text": [
      "('76162748_R_MLO_1.dcm', 2)\n"
     ]
    },
    {
     "name": "stderr",
     "output_type": "stream",
     "text": [
      " 17%|█▋        | 224/1335 [06:21<28:52,  1.56s/it]WARNING:Lossy conversion from int64 to uint8. Range [15511, 16384]. Convert image to uint8 prior to saving to suppress this warning.\n"
     ]
    },
    {
     "name": "stdout",
     "output_type": "stream",
     "text": [
      "('76226671_R_CC_1.dcm', 2)\n"
     ]
    },
    {
     "name": "stderr",
     "output_type": "stream",
     "text": [
      " 17%|█▋        | 225/1335 [06:23<32:10,  1.74s/it]WARNING:Lossy conversion from int64 to uint8. Range [15322, 16384]. Convert image to uint8 prior to saving to suppress this warning.\n"
     ]
    },
    {
     "name": "stdout",
     "output_type": "stream",
     "text": [
      "('76271434_L_MLO_1.dcm', 1)\n"
     ]
    },
    {
     "name": "stderr",
     "output_type": "stream",
     "text": [
      " 17%|█▋        | 226/1335 [06:26<34:47,  1.88s/it]WARNING:Lossy conversion from int64 to uint8. Range [15363, 16384]. Convert image to uint8 prior to saving to suppress this warning.\n"
     ]
    },
    {
     "name": "stdout",
     "output_type": "stream",
     "text": [
      "('5185724_L_CC_1.dcm', 3)\n"
     ]
    },
    {
     "name": "stderr",
     "output_type": "stream",
     "text": [
      " 17%|█▋        | 227/1335 [06:28<36:27,  1.97s/it]WARNING:Lossy conversion from int64 to uint8. Range [15324, 16384]. Convert image to uint8 prior to saving to suppress this warning.\n",
      " 17%|█▋        | 228/1335 [06:29<33:11,  1.80s/it]"
     ]
    },
    {
     "name": "stdout",
     "output_type": "stream",
     "text": [
      "('75910199_R_CC_1.dcm', 4)\n"
     ]
    },
    {
     "name": "stderr",
     "output_type": "stream",
     "text": [
      "WARNING:Lossy conversion from int64 to uint8. Range [15265, 16384]. Convert image to uint8 prior to saving to suppress this warning.\n"
     ]
    },
    {
     "name": "stdout",
     "output_type": "stream",
     "text": [
      "('4337163_L_CC_1.dcm', 2)\n"
     ]
    },
    {
     "name": "stderr",
     "output_type": "stream",
     "text": [
      " 17%|█▋        | 229/1335 [06:31<36:03,  1.96s/it]WARNING:Lossy conversion from int64 to uint8. Range [15476, 16384]. Convert image to uint8 prior to saving to suppress this warning.\n"
     ]
    },
    {
     "name": "stdout",
     "output_type": "stream",
     "text": [
      "('4318343_L_CC_1.dcm', 1)\n"
     ]
    },
    {
     "name": "stderr",
     "output_type": "stream",
     "text": [
      " 17%|█▋        | 230/1335 [06:34<37:17,  2.02s/it]WARNING:Lossy conversion from int64 to uint8. Range [15395, 16384]. Convert image to uint8 prior to saving to suppress this warning.\n",
      " 17%|█▋        | 231/1335 [06:35<33:30,  1.82s/it]"
     ]
    },
    {
     "name": "stdout",
     "output_type": "stream",
     "text": [
      "('75022020_L_MLO_1.dcm', 4)\n"
     ]
    },
    {
     "name": "stderr",
     "output_type": "stream",
     "text": [
      "WARNING:Lossy conversion from int64 to uint8. Range [15243, 16384]. Convert image to uint8 prior to saving to suppress this warning.\n"
     ]
    },
    {
     "name": "stdout",
     "output_type": "stream",
     "text": [
      "('76193968_R_MLO_1.dcm', 2)\n"
     ]
    },
    {
     "name": "stderr",
     "output_type": "stream",
     "text": [
      " 17%|█▋        | 232/1335 [06:37<35:40,  1.94s/it]WARNING:Lossy conversion from int64 to uint8. Range [15126, 16384]. Convert image to uint8 prior to saving to suppress this warning.\n",
      " 17%|█▋        | 233/1335 [06:39<32:28,  1.77s/it]"
     ]
    },
    {
     "name": "stdout",
     "output_type": "stream",
     "text": [
      "('76482137_L_MLO_1.dcm', 3)\n"
     ]
    },
    {
     "name": "stderr",
     "output_type": "stream",
     "text": [
      "WARNING:Lossy conversion from int64 to uint8. Range [15397, 16384]. Convert image to uint8 prior to saving to suppress this warning.\n"
     ]
    },
    {
     "name": "stdout",
     "output_type": "stream",
     "text": [
      "('4478231_R_MLO_1.dcm', 2)\n"
     ]
    },
    {
     "name": "stderr",
     "output_type": "stream",
     "text": [
      " 18%|█▊        | 234/1335 [06:41<35:25,  1.93s/it]WARNING:Lossy conversion from int64 to uint8. Range [15400, 16384]. Convert image to uint8 prior to saving to suppress this warning.\n"
     ]
    },
    {
     "name": "stdout",
     "output_type": "stream",
     "text": [
      "('75945565_R_MLO_1.dcm', 3)\n"
     ]
    },
    {
     "name": "stderr",
     "output_type": "stream",
     "text": [
      " 18%|█▊        | 237/1335 [06:43<28:45,  1.57s/it]WARNING:Lossy conversion from int64 to uint8. Range [15432, 16384]. Convert image to uint8 prior to saving to suppress this warning.\n"
     ]
    },
    {
     "name": "stdout",
     "output_type": "stream",
     "text": [
      "('5261275_R_CC_1.dcm', 2)\n"
     ]
    },
    {
     "name": "stderr",
     "output_type": "stream",
     "text": [
      " 18%|█▊        | 238/1335 [06:45<31:57,  1.75s/it]WARNING:Lossy conversion from int64 to uint8. Range [15367, 16384]. Convert image to uint8 prior to saving to suppress this warning.\n"
     ]
    },
    {
     "name": "stdout",
     "output_type": "stream",
     "text": [
      "('4533275_L_MLO_1.dcm', 2)\n"
     ]
    },
    {
     "name": "stderr",
     "output_type": "stream",
     "text": [
      " 18%|█▊        | 239/1335 [06:47<34:21,  1.88s/it]WARNING:Lossy conversion from int64 to uint8. Range [15340, 16384]. Convert image to uint8 prior to saving to suppress this warning.\n"
     ]
    },
    {
     "name": "stdout",
     "output_type": "stream",
     "text": [
      "('76364161_L_CC_1.dcm', 2)\n"
     ]
    },
    {
     "name": "stderr",
     "output_type": "stream",
     "text": [
      " 18%|█▊        | 240/1335 [06:50<36:26,  2.00s/it]WARNING:Lossy conversion from int64 to uint8. Range [15400, 16384]. Convert image to uint8 prior to saving to suppress this warning.\n"
     ]
    },
    {
     "name": "stdout",
     "output_type": "stream",
     "text": [
      "('76405255_R_MLO_1.dcm', 2)\n"
     ]
    },
    {
     "name": "stderr",
     "output_type": "stream",
     "text": [
      " 18%|█▊        | 241/1335 [06:52<37:18,  2.05s/it]WARNING:Lossy conversion from int64 to uint8. Range [15056, 16384]. Convert image to uint8 prior to saving to suppress this warning.\n"
     ]
    },
    {
     "name": "stdout",
     "output_type": "stream",
     "text": [
      "('5284119_L_MLO_1.dcm', 2)\n"
     ]
    },
    {
     "name": "stderr",
     "output_type": "stream",
     "text": [
      " 18%|█▊        | 242/1335 [06:54<37:46,  2.07s/it]WARNING:Lossy conversion from int64 to uint8. Range [15356, 16384]. Convert image to uint8 prior to saving to suppress this warning.\n"
     ]
    },
    {
     "name": "stdout",
     "output_type": "stream",
     "text": [
      "('3572293_R_CC_1.dcm', 1)\n"
     ]
    },
    {
     "name": "stderr",
     "output_type": "stream",
     "text": [
      " 18%|█▊        | 243/1335 [06:56<38:09,  2.10s/it]WARNING:Lossy conversion from int64 to uint8. Range [15204, 16384]. Convert image to uint8 prior to saving to suppress this warning.\n"
     ]
    },
    {
     "name": "stdout",
     "output_type": "stream",
     "text": [
      "('5161317_R_MLO_1.dcm', 2)\n"
     ]
    },
    {
     "name": "stderr",
     "output_type": "stream",
     "text": [
      " 18%|█▊        | 244/1335 [06:58<38:25,  2.11s/it]WARNING:Lossy conversion from int64 to uint8. Range [15278, 16384]. Convert image to uint8 prior to saving to suppress this warning.\n",
      " 18%|█▊        | 246/1335 [07:00<30:31,  1.68s/it]"
     ]
    },
    {
     "name": "stdout",
     "output_type": "stream",
     "text": [
      "('5187297_L_MLO_1.dcm', 3)\n"
     ]
    },
    {
     "name": "stderr",
     "output_type": "stream",
     "text": [
      "WARNING:Lossy conversion from int64 to uint8. Range [15378, 16384]. Convert image to uint8 prior to saving to suppress this warning.\n"
     ]
    },
    {
     "name": "stdout",
     "output_type": "stream",
     "text": [
      "('5138531_L_CC_1.dcm', 2)\n"
     ]
    },
    {
     "name": "stderr",
     "output_type": "stream",
     "text": [
      " 19%|█▊        | 247/1335 [07:02<33:16,  1.84s/it]WARNING:Lossy conversion from int64 to uint8. Range [15255, 16384]. Convert image to uint8 prior to saving to suppress this warning.\n"
     ]
    },
    {
     "name": "stdout",
     "output_type": "stream",
     "text": [
      "('76401595_R_CC_1.dcm', 1)\n"
     ]
    },
    {
     "name": "stderr",
     "output_type": "stream",
     "text": [
      " 19%|█▊        | 248/1335 [07:04<35:51,  1.98s/it]WARNING:Lossy conversion from int64 to uint8. Range [15262, 16384]. Convert image to uint8 prior to saving to suppress this warning.\n"
     ]
    },
    {
     "name": "stdout",
     "output_type": "stream",
     "text": [
      "('76561510_R_MLO_1.dcm', 1)\n"
     ]
    },
    {
     "name": "stderr",
     "output_type": "stream",
     "text": [
      " 19%|█▊        | 250/1335 [07:06<31:07,  1.72s/it]WARNING:Lossy conversion from int64 to uint8. Range [15381, 16384]. Convert image to uint8 prior to saving to suppress this warning.\n"
     ]
    },
    {
     "name": "stdout",
     "output_type": "stream",
     "text": [
      "('75924970_L_CC_1.dcm', 2)\n"
     ]
    },
    {
     "name": "stderr",
     "output_type": "stream",
     "text": [
      " 19%|█▉        | 251/1335 [07:09<33:28,  1.85s/it]WARNING:Lossy conversion from int64 to uint8. Range [15363, 16384]. Convert image to uint8 prior to saving to suppress this warning.\n"
     ]
    },
    {
     "name": "stdout",
     "output_type": "stream",
     "text": [
      "('76561510_R_CC_1.dcm', 1)\n"
     ]
    },
    {
     "name": "stderr",
     "output_type": "stream",
     "text": [
      " 19%|█▉        | 252/1335 [07:11<35:53,  1.99s/it]WARNING:Lossy conversion from int64 to uint8. Range [15395, 16384]. Convert image to uint8 prior to saving to suppress this warning.\n"
     ]
    },
    {
     "name": "stdout",
     "output_type": "stream",
     "text": [
      "('75046480_R_CC_1.dcm', 1)\n"
     ]
    },
    {
     "name": "stderr",
     "output_type": "stream",
     "text": [
      " 19%|█▉        | 253/1335 [07:13<37:16,  2.07s/it]WARNING:Lossy conversion from int64 to uint8. Range [15362, 16384]. Convert image to uint8 prior to saving to suppress this warning.\n",
      " 19%|█▉        | 254/1335 [07:14<33:19,  1.85s/it]"
     ]
    },
    {
     "name": "stdout",
     "output_type": "stream",
     "text": [
      "('76393393_L_CC_1.dcm', 3)\n"
     ]
    },
    {
     "name": "stderr",
     "output_type": "stream",
     "text": [
      "WARNING:Lossy conversion from int64 to uint8. Range [15257, 16384]. Convert image to uint8 prior to saving to suppress this warning.\n",
      " 19%|█▉        | 255/1335 [07:16<30:40,  1.70s/it]"
     ]
    },
    {
     "name": "stdout",
     "output_type": "stream",
     "text": [
      "('76387928_R_MLO_1.dcm', 2)\n"
     ]
    },
    {
     "name": "stderr",
     "output_type": "stream",
     "text": [
      "WARNING:Lossy conversion from int64 to uint8. Range [15238, 16384]. Convert image to uint8 prior to saving to suppress this warning.\n"
     ]
    },
    {
     "name": "stdout",
     "output_type": "stream",
     "text": [
      "('4306851_R_MLO_1.dcm', 3)\n"
     ]
    },
    {
     "name": "stderr",
     "output_type": "stream",
     "text": [
      " 19%|█▉        | 256/1335 [07:18<33:21,  1.86s/it]WARNING:Lossy conversion from int64 to uint8. Range [15341, 16384]. Convert image to uint8 prior to saving to suppress this warning.\n"
     ]
    },
    {
     "name": "stdout",
     "output_type": "stream",
     "text": [
      "('75010093_R_CC_1.dcm', 2)\n"
     ]
    },
    {
     "name": "stderr",
     "output_type": "stream",
     "text": [
      " 19%|█▉        | 257/1335 [07:20<34:54,  1.94s/it]WARNING:Lossy conversion from int64 to uint8. Range [15203, 16384]. Convert image to uint8 prior to saving to suppress this warning.\n"
     ]
    },
    {
     "name": "stdout",
     "output_type": "stream",
     "text": [
      "('5169104_L_CC_1.dcm', 2)\n"
     ]
    },
    {
     "name": "stderr",
     "output_type": "stream",
     "text": [
      " 19%|█▉        | 258/1335 [07:22<36:11,  2.02s/it]WARNING:Lossy conversion from int64 to uint8. Range [15559, 16384]. Convert image to uint8 prior to saving to suppress this warning.\n"
     ]
    },
    {
     "name": "stdout",
     "output_type": "stream",
     "text": [
      "('75883791_L_CC_1.dcm', 1)\n"
     ]
    },
    {
     "name": "stderr",
     "output_type": "stream",
     "text": [
      " 19%|█▉        | 259/1335 [07:25<37:04,  2.07s/it]WARNING:Lossy conversion from int64 to uint8. Range [15205, 16384]. Convert image to uint8 prior to saving to suppress this warning.\n"
     ]
    },
    {
     "name": "stdout",
     "output_type": "stream",
     "text": [
      "('76575783_R_MLO_1.dcm', 2)\n"
     ]
    },
    {
     "name": "stderr",
     "output_type": "stream",
     "text": [
      " 19%|█▉        | 260/1335 [07:27<38:17,  2.14s/it]WARNING:Lossy conversion from int64 to uint8. Range [15229, 16384]. Convert image to uint8 prior to saving to suppress this warning.\n"
     ]
    },
    {
     "name": "stdout",
     "output_type": "stream",
     "text": [
      "('76252066_L_MLO_1.dcm', 2)\n"
     ]
    },
    {
     "name": "stderr",
     "output_type": "stream",
     "text": [
      " 20%|█▉        | 261/1335 [07:29<38:16,  2.14s/it]WARNING:Lossy conversion from int64 to uint8. Range [15432, 16384]. Convert image to uint8 prior to saving to suppress this warning.\n",
      " 20%|█▉        | 262/1335 [07:30<33:58,  1.90s/it]"
     ]
    },
    {
     "name": "stdout",
     "output_type": "stream",
     "text": [
      "('5309266_R_CC_1.dcm', 2)\n"
     ]
    },
    {
     "name": "stderr",
     "output_type": "stream",
     "text": [
      "WARNING:Lossy conversion from int64 to uint8. Range [15050, 16384]. Convert image to uint8 prior to saving to suppress this warning.\n"
     ]
    },
    {
     "name": "stdout",
     "output_type": "stream",
     "text": [
      "('76380252_L_CC_1.dcm', 2)\n"
     ]
    },
    {
     "name": "stderr",
     "output_type": "stream",
     "text": [
      " 20%|█▉        | 264/1335 [07:33<29:37,  1.66s/it]WARNING:Lossy conversion from int64 to uint8. Range [15441, 16384]. Convert image to uint8 prior to saving to suppress this warning.\n"
     ]
    },
    {
     "name": "stdout",
     "output_type": "stream",
     "text": [
      "('4354725_L_MLO_1.dcm', 2)\n"
     ]
    },
    {
     "name": "stderr",
     "output_type": "stream",
     "text": [
      " 20%|█▉        | 265/1335 [07:35<32:31,  1.82s/it]WARNING:Lossy conversion from int64 to uint8. Range [15220, 16384]. Convert image to uint8 prior to saving to suppress this warning.\n"
     ]
    },
    {
     "name": "stdout",
     "output_type": "stream",
     "text": [
      "('76251641_L_MLO_1.dcm', 2)\n"
     ]
    },
    {
     "name": "stderr",
     "output_type": "stream",
     "text": [
      " 20%|█▉        | 266/1335 [07:37<34:13,  1.92s/it]WARNING:Lossy conversion from int64 to uint8. Range [15397, 16384]. Convert image to uint8 prior to saving to suppress this warning.\n"
     ]
    },
    {
     "name": "stdout",
     "output_type": "stream",
     "text": [
      "('75063205_R_MLO_1.dcm', 1)\n"
     ]
    },
    {
     "name": "stderr",
     "output_type": "stream",
     "text": [
      " 20%|██        | 267/1335 [07:39<35:54,  2.02s/it]WARNING:Lossy conversion from int64 to uint8. Range [15318, 16384]. Convert image to uint8 prior to saving to suppress this warning.\n"
     ]
    },
    {
     "name": "stdout",
     "output_type": "stream",
     "text": [
      "('76534519_R_MLO_1.dcm', 3)\n"
     ]
    },
    {
     "name": "stderr",
     "output_type": "stream",
     "text": [
      " 20%|██        | 268/1335 [07:41<36:39,  2.06s/it]WARNING:Lossy conversion from int64 to uint8. Range [15283, 16384]. Convert image to uint8 prior to saving to suppress this warning.\n",
      " 20%|██        | 269/1335 [07:43<33:00,  1.86s/it]"
     ]
    },
    {
     "name": "stdout",
     "output_type": "stream",
     "text": [
      "('76480623_R_CC_1.dcm', 2)\n"
     ]
    },
    {
     "name": "stderr",
     "output_type": "stream",
     "text": [
      "WARNING:Lossy conversion from int64 to uint8. Range [15375, 16384]. Convert image to uint8 prior to saving to suppress this warning.\n"
     ]
    },
    {
     "name": "stdout",
     "output_type": "stream",
     "text": [
      "('75924970_R_MLO_1.dcm', 2)\n"
     ]
    },
    {
     "name": "stderr",
     "output_type": "stream",
     "text": [
      " 20%|██        | 270/1335 [07:45<34:58,  1.97s/it]WARNING:Lossy conversion from int64 to uint8. Range [15509, 16384]. Convert image to uint8 prior to saving to suppress this warning.\n"
     ]
    },
    {
     "name": "stdout",
     "output_type": "stream",
     "text": [
      "('76271434_R_CC_1.dcm', 1)\n"
     ]
    },
    {
     "name": "stderr",
     "output_type": "stream",
     "text": [
      " 20%|██        | 271/1335 [07:47<35:50,  2.02s/it]WARNING:Lossy conversion from int64 to uint8. Range [15378, 16384]. Convert image to uint8 prior to saving to suppress this warning.\n"
     ]
    },
    {
     "name": "stdout",
     "output_type": "stream",
     "text": [
      "('76405255_L_MLO_1.dcm', 2)\n"
     ]
    },
    {
     "name": "stderr",
     "output_type": "stream",
     "text": [
      " 20%|██        | 272/1335 [07:49<36:21,  2.05s/it]WARNING:Lossy conversion from int64 to uint8. Range [15050, 16384]. Convert image to uint8 prior to saving to suppress this warning.\n"
     ]
    },
    {
     "name": "stdout",
     "output_type": "stream",
     "text": [
      "('76306713_R_CC_1.dcm', 2)\n"
     ]
    },
    {
     "name": "stderr",
     "output_type": "stream",
     "text": [
      " 20%|██        | 273/1335 [07:51<36:38,  2.07s/it]WARNING:Lossy conversion from int64 to uint8. Range [15044, 16384]. Convert image to uint8 prior to saving to suppress this warning.\n",
      " 21%|██        | 274/1335 [07:53<33:06,  1.87s/it]"
     ]
    },
    {
     "name": "stdout",
     "output_type": "stream",
     "text": [
      "('76512652_R_MLO_1.dcm', 3)\n"
     ]
    },
    {
     "name": "stderr",
     "output_type": "stream",
     "text": [
      "WARNING:Lossy conversion from int64 to uint8. Range [15364, 16384]. Convert image to uint8 prior to saving to suppress this warning.\n"
     ]
    },
    {
     "name": "stdout",
     "output_type": "stream",
     "text": [
      "('76561252_L_CC_1.dcm', 1)\n"
     ]
    },
    {
     "name": "stderr",
     "output_type": "stream",
     "text": [
      " 21%|██        | 275/1335 [07:55<35:28,  2.01s/it]WARNING:Lossy conversion from int64 to uint8. Range [15367, 16384]. Convert image to uint8 prior to saving to suppress this warning.\n"
     ]
    },
    {
     "name": "stdout",
     "output_type": "stream",
     "text": [
      "('3854193_L_CC_1.dcm', 3)\n"
     ]
    },
    {
     "name": "stderr",
     "output_type": "stream",
     "text": [
      " 21%|██        | 276/1335 [07:57<36:21,  2.06s/it]WARNING:Lossy conversion from int64 to uint8. Range [15377, 16384]. Convert image to uint8 prior to saving to suppress this warning.\n"
     ]
    },
    {
     "name": "stdout",
     "output_type": "stream",
     "text": [
      "('75989500_R_CC_1.dcm', 3)\n"
     ]
    },
    {
     "name": "stderr",
     "output_type": "stream",
     "text": [
      " 21%|██        | 277/1335 [07:59<36:50,  2.09s/it]WARNING:Lossy conversion from int64 to uint8. Range [15268, 16384]. Convert image to uint8 prior to saving to suppress this warning.\n",
      " 21%|██        | 278/1335 [08:01<32:55,  1.87s/it]"
     ]
    },
    {
     "name": "stdout",
     "output_type": "stream",
     "text": [
      "('5309266_R_MLO_1.dcm', 2)\n"
     ]
    },
    {
     "name": "stderr",
     "output_type": "stream",
     "text": [
      "WARNING:Lossy conversion from int64 to uint8. Range [15339, 16384]. Convert image to uint8 prior to saving to suppress this warning.\n"
     ]
    },
    {
     "name": "stdout",
     "output_type": "stream",
     "text": [
      "('5257817_R_MLO_1.dcm', 2)\n"
     ]
    },
    {
     "name": "stderr",
     "output_type": "stream",
     "text": [
      " 21%|██        | 280/1335 [08:03<28:45,  1.64s/it]WARNING:Lossy conversion from int64 to uint8. Range [15063, 16384]. Convert image to uint8 prior to saving to suppress this warning.\n",
      " 21%|██        | 282/1335 [08:04<23:41,  1.35s/it]"
     ]
    },
    {
     "name": "stdout",
     "output_type": "stream",
     "text": [
      "('76160169_R_MLO_1.dcm', 3)\n"
     ]
    },
    {
     "name": "stderr",
     "output_type": "stream",
     "text": [
      "WARNING:Lossy conversion from int64 to uint8. Range [15321, 16384]. Convert image to uint8 prior to saving to suppress this warning.\n",
      " 21%|██        | 283/1335 [08:06<23:24,  1.34s/it]"
     ]
    },
    {
     "name": "stdout",
     "output_type": "stream",
     "text": [
      "('75925559_R_CC_1.dcm', 3)\n"
     ]
    },
    {
     "name": "stderr",
     "output_type": "stream",
     "text": [
      "WARNING:Lossy conversion from int64 to uint8. Range [15258, 16384]. Convert image to uint8 prior to saving to suppress this warning.\n",
      " 21%|██▏       | 284/1335 [08:07<23:28,  1.34s/it]"
     ]
    },
    {
     "name": "stdout",
     "output_type": "stream",
     "text": [
      "('5309266_L_MLO_1.dcm', 2)\n"
     ]
    },
    {
     "name": "stderr",
     "output_type": "stream",
     "text": [
      "WARNING:Lossy conversion from int64 to uint8. Range [15111, 16384]. Convert image to uint8 prior to saving to suppress this warning.\n"
     ]
    },
    {
     "name": "stdout",
     "output_type": "stream",
     "text": [
      "('76489648_R_CC_1.dcm', 2)\n"
     ]
    },
    {
     "name": "stderr",
     "output_type": "stream",
     "text": [
      " 21%|██▏       | 285/1335 [08:09<28:01,  1.60s/it]WARNING:Lossy conversion from int64 to uint8. Range [15519, 16384]. Convert image to uint8 prior to saving to suppress this warning.\n"
     ]
    },
    {
     "name": "stdout",
     "output_type": "stream",
     "text": [
      "('4340598_L_CC_1.dcm', 1)\n"
     ]
    },
    {
     "name": "stderr",
     "output_type": "stream",
     "text": [
      " 21%|██▏       | 286/1335 [08:11<31:46,  1.82s/it]WARNING:Lossy conversion from int64 to uint8. Range [15352, 16384]. Convert image to uint8 prior to saving to suppress this warning.\n"
     ]
    },
    {
     "name": "stdout",
     "output_type": "stream",
     "text": [
      "('3804261_R_CC_1.dcm', 2)\n"
     ]
    },
    {
     "name": "stderr",
     "output_type": "stream",
     "text": [
      " 21%|██▏       | 287/1335 [08:14<33:31,  1.92s/it]WARNING:Lossy conversion from int64 to uint8. Range [15269, 16384]. Convert image to uint8 prior to saving to suppress this warning.\n"
     ]
    },
    {
     "name": "stdout",
     "output_type": "stream",
     "text": [
      "('76126435_L_MLO_1.dcm', 2)\n"
     ]
    },
    {
     "name": "stderr",
     "output_type": "stream",
     "text": [
      " 22%|██▏       | 288/1335 [08:16<34:42,  1.99s/it]WARNING:Lossy conversion from int64 to uint8. Range [15483, 16384]. Convert image to uint8 prior to saving to suppress this warning.\n"
     ]
    },
    {
     "name": "stdout",
     "output_type": "stream",
     "text": [
      "('76226671_L_CC_1.dcm', 2)\n"
     ]
    },
    {
     "name": "stderr",
     "output_type": "stream",
     "text": [
      " 22%|██▏       | 289/1335 [08:18<35:54,  2.06s/it]WARNING:Lossy conversion from int64 to uint8. Range [15312, 16384]. Convert image to uint8 prior to saving to suppress this warning.\n"
     ]
    },
    {
     "name": "stdout",
     "output_type": "stream",
     "text": [
      "('76349133_L_MLO_1.dcm', 3)\n"
     ]
    },
    {
     "name": "stderr",
     "output_type": "stream",
     "text": [
      " 22%|██▏       | 290/1335 [08:20<36:30,  2.10s/it]WARNING:Lossy conversion from int64 to uint8. Range [15294, 16384]. Convert image to uint8 prior to saving to suppress this warning.\n",
      " 22%|██▏       | 291/1335 [08:21<32:29,  1.87s/it]"
     ]
    },
    {
     "name": "stdout",
     "output_type": "stream",
     "text": [
      "('5145490_R_MLO_1.dcm', 3)\n"
     ]
    },
    {
     "name": "stderr",
     "output_type": "stream",
     "text": [
      "WARNING:Lossy conversion from int64 to uint8. Range [15333, 16384]. Convert image to uint8 prior to saving to suppress this warning.\n",
      " 22%|██▏       | 292/1335 [08:23<29:47,  1.71s/it]"
     ]
    },
    {
     "name": "stdout",
     "output_type": "stream",
     "text": [
      "('76112297_R_CC_1.dcm', 2)\n"
     ]
    },
    {
     "name": "stderr",
     "output_type": "stream",
     "text": [
      "WARNING:Lossy conversion from int64 to uint8. Range [15337, 16384]. Convert image to uint8 prior to saving to suppress this warning.\n",
      " 22%|██▏       | 293/1335 [08:24<27:47,  1.60s/it]"
     ]
    },
    {
     "name": "stdout",
     "output_type": "stream",
     "text": [
      "('3623063_R_CC_1.dcm', 2)\n"
     ]
    },
    {
     "name": "stderr",
     "output_type": "stream",
     "text": [
      "WARNING:Lossy conversion from int64 to uint8. Range [15390, 16384]. Convert image to uint8 prior to saving to suppress this warning.\n",
      " 22%|██▏       | 294/1335 [08:26<26:35,  1.53s/it]"
     ]
    },
    {
     "name": "stdout",
     "output_type": "stream",
     "text": [
      "('76483593_R_CC_1.dcm', 2)\n"
     ]
    },
    {
     "name": "stderr",
     "output_type": "stream",
     "text": [
      "WARNING:Lossy conversion from int64 to uint8. Range [15250, 16384]. Convert image to uint8 prior to saving to suppress this warning.\n"
     ]
    },
    {
     "name": "stdout",
     "output_type": "stream",
     "text": [
      "('3857711_R_MLO_1.dcm', 2)\n"
     ]
    },
    {
     "name": "stderr",
     "output_type": "stream",
     "text": [
      " 22%|██▏       | 295/1335 [08:28<29:41,  1.71s/it]WARNING:Lossy conversion from int64 to uint8. Range [15309, 16384]. Convert image to uint8 prior to saving to suppress this warning.\n"
     ]
    },
    {
     "name": "stdout",
     "output_type": "stream",
     "text": [
      "('3540631_R_MLO_1.dcm', 2)\n"
     ]
    },
    {
     "name": "stderr",
     "output_type": "stream",
     "text": [
      " 22%|██▏       | 296/1335 [08:30<32:18,  1.87s/it]WARNING:Lossy conversion from int64 to uint8. Range [15476, 16384]. Convert image to uint8 prior to saving to suppress this warning.\n"
     ]
    },
    {
     "name": "stdout",
     "output_type": "stream",
     "text": [
      "('76081249_L_CC_1.dcm', 1)\n"
     ]
    },
    {
     "name": "stderr",
     "output_type": "stream",
     "text": [
      " 22%|██▏       | 297/1335 [08:32<33:51,  1.96s/it]WARNING:Lossy conversion from int64 to uint8. Range [15409, 16384]. Convert image to uint8 prior to saving to suppress this warning.\n"
     ]
    },
    {
     "name": "stdout",
     "output_type": "stream",
     "text": [
      "('76333731_L_MLO_1.dcm', 2)\n"
     ]
    },
    {
     "name": "stderr",
     "output_type": "stream",
     "text": [
      " 22%|██▏       | 299/1335 [08:34<29:37,  1.72s/it]WARNING:Lossy conversion from int64 to uint8. Range [15469, 16384]. Convert image to uint8 prior to saving to suppress this warning.\n"
     ]
    },
    {
     "name": "stdout",
     "output_type": "stream",
     "text": [
      "('75883791_L_MLO_1.dcm', 1)\n"
     ]
    },
    {
     "name": "stderr",
     "output_type": "stream",
     "text": [
      " 22%|██▏       | 300/1335 [08:37<32:04,  1.86s/it]WARNING:Lossy conversion from int64 to uint8. Range [15467, 16384]. Convert image to uint8 prior to saving to suppress this warning.\n"
     ]
    },
    {
     "name": "stdout",
     "output_type": "stream",
     "text": [
      "('76206037_R_CC_1.dcm', 1)\n"
     ]
    },
    {
     "name": "stderr",
     "output_type": "stream",
     "text": [
      " 23%|██▎       | 301/1335 [08:39<33:30,  1.94s/it]WARNING:Lossy conversion from int64 to uint8. Range [15294, 16384]. Convert image to uint8 prior to saving to suppress this warning.\n",
      " 23%|██▎       | 302/1335 [08:40<30:30,  1.77s/it]"
     ]
    },
    {
     "name": "stdout",
     "output_type": "stream",
     "text": [
      "('76328184_L_MLO_1.dcm', 3)\n"
     ]
    },
    {
     "name": "stderr",
     "output_type": "stream",
     "text": [
      "WARNING:Lossy conversion from int64 to uint8. Range [15403, 16384]. Convert image to uint8 prior to saving to suppress this warning.\n"
     ]
    },
    {
     "name": "stdout",
     "output_type": "stream",
     "text": [
      "('76386434_L_MLO_1.dcm', 2)\n"
     ]
    },
    {
     "name": "stderr",
     "output_type": "stream",
     "text": [
      " 23%|██▎       | 303/1335 [08:42<32:14,  1.87s/it]WARNING:Lossy conversion from int64 to uint8. Range [15392, 16384]. Convert image to uint8 prior to saving to suppress this warning.\n"
     ]
    },
    {
     "name": "stdout",
     "output_type": "stream",
     "text": [
      "('75045968_L_CC_1.dcm', 3)\n"
     ]
    },
    {
     "name": "stderr",
     "output_type": "stream",
     "text": [
      " 23%|██▎       | 305/1335 [08:44<28:17,  1.65s/it]WARNING:Lossy conversion from int64 to uint8. Range [15321, 16384]. Convert image to uint8 prior to saving to suppress this warning.\n"
     ]
    },
    {
     "name": "stdout",
     "output_type": "stream",
     "text": [
      "('5209340_R_MLO_1.dcm', 2)\n"
     ]
    },
    {
     "name": "stderr",
     "output_type": "stream",
     "text": [
      " 23%|██▎       | 306/1335 [08:47<30:46,  1.79s/it]WARNING:Lossy conversion from int64 to uint8. Range [15298, 16384]. Convert image to uint8 prior to saving to suppress this warning.\n"
     ]
    },
    {
     "name": "stdout",
     "output_type": "stream",
     "text": [
      "('5265592_R_CC_1.dcm', 2)\n"
     ]
    },
    {
     "name": "stderr",
     "output_type": "stream",
     "text": [
      " 23%|██▎       | 307/1335 [08:49<32:33,  1.90s/it]WARNING:Lossy conversion from int64 to uint8. Range [15080, 16384]. Convert image to uint8 prior to saving to suppress this warning.\n"
     ]
    },
    {
     "name": "stdout",
     "output_type": "stream",
     "text": [
      "('76147529_L_MLO_1.dcm', 2)\n"
     ]
    },
    {
     "name": "stderr",
     "output_type": "stream",
     "text": [
      " 23%|██▎       | 308/1335 [08:51<34:05,  1.99s/it]WARNING:Lossy conversion from int64 to uint8. Range [15290, 16384]. Convert image to uint8 prior to saving to suppress this warning.\n"
     ]
    },
    {
     "name": "stdout",
     "output_type": "stream",
     "text": [
      "('76372174_R_MLO_1.dcm', 2)\n"
     ]
    },
    {
     "name": "stderr",
     "output_type": "stream",
     "text": [
      " 23%|██▎       | 309/1335 [08:53<35:05,  2.05s/it]WARNING:Lossy conversion from int64 to uint8. Range [15460, 16384]. Convert image to uint8 prior to saving to suppress this warning.\n"
     ]
    },
    {
     "name": "stdout",
     "output_type": "stream",
     "text": [
      "('5255735_L_MLO_1.dcm', 2)\n"
     ]
    },
    {
     "name": "stderr",
     "output_type": "stream",
     "text": [
      " 23%|██▎       | 310/1335 [08:55<36:12,  2.12s/it]WARNING:Lossy conversion from int64 to uint8. Range [15432, 16384]. Convert image to uint8 prior to saving to suppress this warning.\n"
     ]
    },
    {
     "name": "stdout",
     "output_type": "stream",
     "text": [
      "('76368917_R_CC_1.dcm', 2)\n"
     ]
    },
    {
     "name": "stderr",
     "output_type": "stream",
     "text": [
      " 23%|██▎       | 311/1335 [08:58<36:24,  2.13s/it]WARNING:Lossy conversion from int64 to uint8. Range [15250, 16384]. Convert image to uint8 prior to saving to suppress this warning.\n"
     ]
    },
    {
     "name": "stdout",
     "output_type": "stream",
     "text": [
      "('76544026_L_CC_1.dcm', 2)\n"
     ]
    },
    {
     "name": "stderr",
     "output_type": "stream",
     "text": [
      " 23%|██▎       | 313/1335 [09:00<31:16,  1.84s/it]WARNING:Lossy conversion from int64 to uint8. Range [15365, 16384]. Convert image to uint8 prior to saving to suppress this warning.\n",
      " 24%|██▎       | 314/1335 [09:01<28:49,  1.69s/it]"
     ]
    },
    {
     "name": "stdout",
     "output_type": "stream",
     "text": [
      "('4457149_L_CC_1.dcm', 2)\n"
     ]
    },
    {
     "name": "stderr",
     "output_type": "stream",
     "text": [
      "WARNING:Lossy conversion from int64 to uint8. Range [15385, 16384]. Convert image to uint8 prior to saving to suppress this warning.\n"
     ]
    },
    {
     "name": "stdout",
     "output_type": "stream",
     "text": [
      "('5266778_R_MLO_1.dcm', 2)\n"
     ]
    },
    {
     "name": "stderr",
     "output_type": "stream",
     "text": [
      " 24%|██▎       | 316/1335 [09:04<26:04,  1.53s/it]WARNING:Lossy conversion from int64 to uint8. Range [15529, 16384]. Convert image to uint8 prior to saving to suppress this warning.\n"
     ]
    },
    {
     "name": "stdout",
     "output_type": "stream",
     "text": [
      "('76386434_L_CC_1.dcm', 2)\n"
     ]
    },
    {
     "name": "stderr",
     "output_type": "stream",
     "text": [
      " 24%|██▎       | 317/1335 [09:06<29:09,  1.72s/it]WARNING:Lossy conversion from int64 to uint8. Range [15331, 16384]. Convert image to uint8 prior to saving to suppress this warning.\n",
      " 24%|██▍       | 318/1335 [09:07<27:17,  1.61s/it]"
     ]
    },
    {
     "name": "stdout",
     "output_type": "stream",
     "text": [
      "('76472752_L_MLO_1.dcm', 2)\n"
     ]
    },
    {
     "name": "stderr",
     "output_type": "stream",
     "text": [
      "WARNING:Lossy conversion from int64 to uint8. Range [15476, 16384]. Convert image to uint8 prior to saving to suppress this warning.\n"
     ]
    },
    {
     "name": "stdout",
     "output_type": "stream",
     "text": [
      "('76363152_R_CC_1.dcm', 2)\n"
     ]
    },
    {
     "name": "stderr",
     "output_type": "stream",
     "text": [
      " 24%|██▍       | 319/1335 [09:09<30:31,  1.80s/it]WARNING:Lossy conversion from int64 to uint8. Range [15035, 16384]. Convert image to uint8 prior to saving to suppress this warning.\n",
      " 24%|██▍       | 320/1335 [09:11<28:32,  1.69s/it]"
     ]
    },
    {
     "name": "stdout",
     "output_type": "stream",
     "text": [
      "('76160169_L_MLO_1.dcm', 3)\n"
     ]
    },
    {
     "name": "stderr",
     "output_type": "stream",
     "text": [
      "WARNING:Lossy conversion from int64 to uint8. Range [15408, 16384]. Convert image to uint8 prior to saving to suppress this warning.\n"
     ]
    },
    {
     "name": "stdout",
     "output_type": "stream",
     "text": [
      "('75904104_R_MLO_1.dcm', 2)\n"
     ]
    },
    {
     "name": "stderr",
     "output_type": "stream",
     "text": [
      " 24%|██▍       | 321/1335 [09:13<31:13,  1.85s/it]WARNING:Lossy conversion from int64 to uint8. Range [15429, 16384]. Convert image to uint8 prior to saving to suppress this warning.\n",
      " 24%|██▍       | 322/1335 [09:14<28:46,  1.70s/it]"
     ]
    },
    {
     "name": "stdout",
     "output_type": "stream",
     "text": [
      "('76447017_L_CC_1.dcm', 3)\n"
     ]
    },
    {
     "name": "stderr",
     "output_type": "stream",
     "text": [
      "WARNING:Lossy conversion from int64 to uint8. Range [15302, 16384]. Convert image to uint8 prior to saving to suppress this warning.\n",
      " 24%|██▍       | 323/1335 [09:16<27:06,  1.61s/it]"
     ]
    },
    {
     "name": "stdout",
     "output_type": "stream",
     "text": [
      "('5220478_R_MLO_1.dcm', 2)\n"
     ]
    },
    {
     "name": "stderr",
     "output_type": "stream",
     "text": [
      "WARNING:Lossy conversion from int64 to uint8. Range [15292, 16384]. Convert image to uint8 prior to saving to suppress this warning.\n"
     ]
    },
    {
     "name": "stdout",
     "output_type": "stream",
     "text": [
      "('76219575_L_CC_1.dcm', 3)\n"
     ]
    },
    {
     "name": "stderr",
     "output_type": "stream",
     "text": [
      " 24%|██▍       | 324/1335 [09:18<30:18,  1.80s/it]WARNING:Lossy conversion from int64 to uint8. Range [15380, 16384]. Convert image to uint8 prior to saving to suppress this warning.\n"
     ]
    },
    {
     "name": "stdout",
     "output_type": "stream",
     "text": [
      "('75945565_L_MLO_1.dcm', 3)\n"
     ]
    },
    {
     "name": "stderr",
     "output_type": "stream",
     "text": [
      " 24%|██▍       | 325/1335 [09:20<32:00,  1.90s/it]WARNING:Lossy conversion from int64 to uint8. Range [15272, 16384]. Convert image to uint8 prior to saving to suppress this warning.\n"
     ]
    },
    {
     "name": "stdout",
     "output_type": "stream",
     "text": [
      "('76206248_L_MLO_1.dcm', 3)\n"
     ]
    },
    {
     "name": "stderr",
     "output_type": "stream",
     "text": [
      " 24%|██▍       | 326/1335 [09:22<33:28,  1.99s/it]WARNING:Lossy conversion from int64 to uint8. Range [15338, 16384]. Convert image to uint8 prior to saving to suppress this warning.\n",
      " 24%|██▍       | 327/1335 [09:24<30:07,  1.79s/it]"
     ]
    },
    {
     "name": "stdout",
     "output_type": "stream",
     "text": [
      "('76068458_R_CC_1.dcm', 2)\n"
     ]
    },
    {
     "name": "stderr",
     "output_type": "stream",
     "text": [
      "WARNING:Lossy conversion from int64 to uint8. Range [15349, 16384]. Convert image to uint8 prior to saving to suppress this warning.\n"
     ]
    },
    {
     "name": "stdout",
     "output_type": "stream",
     "text": [
      "('76200017_R_MLO_1.dcm', 2)\n"
     ]
    },
    {
     "name": "stderr",
     "output_type": "stream",
     "text": [
      " 25%|██▍       | 328/1335 [09:26<32:30,  1.94s/it]WARNING:Lossy conversion from int64 to uint8. Range [15320, 16384]. Convert image to uint8 prior to saving to suppress this warning.\n",
      " 25%|██▍       | 329/1335 [09:27<29:30,  1.76s/it]"
     ]
    },
    {
     "name": "stdout",
     "output_type": "stream",
     "text": [
      "('4457149_R_CC_1.dcm', 2)\n"
     ]
    },
    {
     "name": "stderr",
     "output_type": "stream",
     "text": [
      "WARNING:Lossy conversion from int64 to uint8. Range [15326, 16384]. Convert image to uint8 prior to saving to suppress this warning.\n",
      " 25%|██▍       | 330/1335 [09:29<27:26,  1.64s/it]"
     ]
    },
    {
     "name": "stdout",
     "output_type": "stream",
     "text": [
      "('76480623_L_CC_1.dcm', 2)\n"
     ]
    },
    {
     "name": "stderr",
     "output_type": "stream",
     "text": [
      "WARNING:Lossy conversion from int64 to uint8. Range [15302, 16384]. Convert image to uint8 prior to saving to suppress this warning.\n"
     ]
    },
    {
     "name": "stdout",
     "output_type": "stream",
     "text": [
      "('3903811_L_MLO_1.dcm', 2)\n"
     ]
    },
    {
     "name": "stderr",
     "output_type": "stream",
     "text": [
      " 25%|██▍       | 331/1335 [09:31<30:16,  1.81s/it]WARNING:Lossy conversion from int64 to uint8. Range [15287, 16384]. Convert image to uint8 prior to saving to suppress this warning.\n"
     ]
    },
    {
     "name": "stdout",
     "output_type": "stream",
     "text": [
      "('76283628_R_MLO_1.dcm', 2)\n"
     ]
    },
    {
     "name": "stderr",
     "output_type": "stream",
     "text": [
      " 25%|██▍       | 332/1335 [09:33<31:53,  1.91s/it]WARNING:Lossy conversion from int64 to uint8. Range [15346, 16384]. Convert image to uint8 prior to saving to suppress this warning.\n"
     ]
    },
    {
     "name": "stdout",
     "output_type": "stream",
     "text": [
      "('76251821_R_CC_1.dcm', 3)\n"
     ]
    },
    {
     "name": "stderr",
     "output_type": "stream",
     "text": [
      " 25%|██▍       | 333/1335 [09:35<32:52,  1.97s/it]WARNING:Lossy conversion from int64 to uint8. Range [15289, 16384]. Convert image to uint8 prior to saving to suppress this warning.\n",
      " 25%|██▌       | 334/1335 [09:36<29:53,  1.79s/it]"
     ]
    },
    {
     "name": "stdout",
     "output_type": "stream",
     "text": [
      "('76442661_R_CC_1.dcm', 4)\n"
     ]
    },
    {
     "name": "stderr",
     "output_type": "stream",
     "text": [
      "WARNING:Lossy conversion from int64 to uint8. Range [15333, 16384]. Convert image to uint8 prior to saving to suppress this warning.\n"
     ]
    },
    {
     "name": "stdout",
     "output_type": "stream",
     "text": [
      "('4421709_R_MLO_1.dcm', 1)\n"
     ]
    },
    {
     "name": "stderr",
     "output_type": "stream",
     "text": [
      " 25%|██▌       | 335/1335 [09:39<31:38,  1.90s/it]WARNING:Lossy conversion from int64 to uint8. Range [15311, 16384]. Convert image to uint8 prior to saving to suppress this warning.\n"
     ]
    },
    {
     "name": "stdout",
     "output_type": "stream",
     "text": [
      "('3640221_L_CC_1.dcm', 2)\n"
     ]
    },
    {
     "name": "stderr",
     "output_type": "stream",
     "text": [
      " 25%|██▌       | 337/1335 [09:41<27:32,  1.66s/it]WARNING:Lossy conversion from int64 to uint8. Range [15386, 16384]. Convert image to uint8 prior to saving to suppress this warning.\n"
     ]
    },
    {
     "name": "stdout",
     "output_type": "stream",
     "text": [
      "('76590683_R_MLO_1.dcm', 3)\n"
     ]
    },
    {
     "name": "stderr",
     "output_type": "stream",
     "text": [
      " 25%|██▌       | 338/1335 [09:43<30:12,  1.82s/it]WARNING:Lossy conversion from int64 to uint8. Range [15272, 16384]. Convert image to uint8 prior to saving to suppress this warning.\n"
     ]
    },
    {
     "name": "stdout",
     "output_type": "stream",
     "text": [
      "('4457116_R_CC_1.dcm', 3)\n"
     ]
    },
    {
     "name": "stderr",
     "output_type": "stream",
     "text": [
      " 25%|██▌       | 339/1335 [09:45<32:15,  1.94s/it]WARNING:Lossy conversion from int64 to uint8. Range [15529, 16384]. Convert image to uint8 prior to saving to suppress this warning.\n"
     ]
    },
    {
     "name": "stdout",
     "output_type": "stream",
     "text": [
      "('75063022_R_MLO_1.dcm', 2)\n"
     ]
    },
    {
     "name": "stderr",
     "output_type": "stream",
     "text": [
      " 25%|██▌       | 340/1335 [09:47<33:34,  2.02s/it]WARNING:Lossy conversion from int64 to uint8. Range [15337, 16384]. Convert image to uint8 prior to saving to suppress this warning.\n",
      " 26%|██▌       | 341/1335 [09:49<30:15,  1.83s/it]"
     ]
    },
    {
     "name": "stdout",
     "output_type": "stream",
     "text": [
      "('76049020_L_CC_1.dcm', 3)\n"
     ]
    },
    {
     "name": "stderr",
     "output_type": "stream",
     "text": [
      "WARNING:Lossy conversion from int64 to uint8. Range [15206, 16384]. Convert image to uint8 prior to saving to suppress this warning.\n"
     ]
    },
    {
     "name": "stdout",
     "output_type": "stream",
     "text": [
      "('4457116_R_MLO_1.dcm', 3)\n"
     ]
    },
    {
     "name": "stderr",
     "output_type": "stream",
     "text": [
      " 26%|██▌       | 342/1335 [09:51<32:05,  1.94s/it]WARNING:Lossy conversion from int64 to uint8. Range [15570, 16384]. Convert image to uint8 prior to saving to suppress this warning.\n"
     ]
    },
    {
     "name": "stdout",
     "output_type": "stream",
     "text": [
      "('4533275_L_CC_1.dcm', 2)\n"
     ]
    },
    {
     "name": "stderr",
     "output_type": "stream",
     "text": [
      " 26%|██▌       | 343/1335 [09:53<33:03,  2.00s/it]WARNING:Lossy conversion from int64 to uint8. Range [15246, 16384]. Convert image to uint8 prior to saving to suppress this warning.\n"
     ]
    },
    {
     "name": "stdout",
     "output_type": "stream",
     "text": [
      "('3823517_L_CC_1.dcm', 1)\n"
     ]
    },
    {
     "name": "stderr",
     "output_type": "stream",
     "text": [
      " 26%|██▌       | 344/1335 [09:55<33:39,  2.04s/it]WARNING:Lossy conversion from int64 to uint8. Range [15208, 16384]. Convert image to uint8 prior to saving to suppress this warning.\n"
     ]
    },
    {
     "name": "stdout",
     "output_type": "stream",
     "text": [
      "('76033649_L_MLO_1.dcm', 2)\n"
     ]
    },
    {
     "name": "stderr",
     "output_type": "stream",
     "text": [
      " 26%|██▌       | 345/1335 [09:57<34:11,  2.07s/it]WARNING:Lossy conversion from int64 to uint8. Range [15518, 16384]. Convert image to uint8 prior to saving to suppress this warning.\n"
     ]
    },
    {
     "name": "stdout",
     "output_type": "stream",
     "text": [
      "('76132751_L_CC_1.dcm', 2)\n"
     ]
    },
    {
     "name": "stderr",
     "output_type": "stream",
     "text": [
      " 26%|██▌       | 346/1335 [10:00<34:35,  2.10s/it]WARNING:Lossy conversion from int64 to uint8. Range [15301, 16384]. Convert image to uint8 prior to saving to suppress this warning.\n",
      " 26%|██▌       | 347/1335 [10:01<31:05,  1.89s/it]"
     ]
    },
    {
     "name": "stdout",
     "output_type": "stream",
     "text": [
      "('76033548_R_MLO_1.dcm', 2)\n"
     ]
    },
    {
     "name": "stderr",
     "output_type": "stream",
     "text": [
      "WARNING:Lossy conversion from int64 to uint8. Range [15207, 16384]. Convert image to uint8 prior to saving to suppress this warning.\n"
     ]
    },
    {
     "name": "stdout",
     "output_type": "stream",
     "text": [
      "('3804261_R_MLO_1.dcm', 2)\n"
     ]
    },
    {
     "name": "stderr",
     "output_type": "stream",
     "text": [
      " 26%|██▌       | 348/1335 [10:03<32:20,  1.97s/it]WARNING:Lossy conversion from int64 to uint8. Range [15285, 16384]. Convert image to uint8 prior to saving to suppress this warning.\n"
     ]
    },
    {
     "name": "stdout",
     "output_type": "stream",
     "text": [
      "('5138531_L_MLO_1.dcm', 2)\n"
     ]
    },
    {
     "name": "stderr",
     "output_type": "stream",
     "text": [
      " 26%|██▌       | 349/1335 [10:05<33:22,  2.03s/it]WARNING:Lossy conversion from int64 to uint8. Range [15261, 16384]. Convert image to uint8 prior to saving to suppress this warning.\n"
     ]
    },
    {
     "name": "stdout",
     "output_type": "stream",
     "text": [
      "('76251641_L_CC_1.dcm', 2)\n"
     ]
    },
    {
     "name": "stderr",
     "output_type": "stream",
     "text": [
      " 26%|██▌       | 350/1335 [10:07<33:45,  2.06s/it]WARNING:Lossy conversion from int64 to uint8. Range [15231, 16384]. Convert image to uint8 prior to saving to suppress this warning.\n",
      " 26%|██▋       | 352/1335 [10:09<26:55,  1.64s/it]"
     ]
    },
    {
     "name": "stdout",
     "output_type": "stream",
     "text": [
      "('5309804_R_MLO_1.dcm', 3)\n"
     ]
    },
    {
     "name": "stderr",
     "output_type": "stream",
     "text": [
      "WARNING:Lossy conversion from int64 to uint8. Range [15182, 16384]. Convert image to uint8 prior to saving to suppress this warning.\n"
     ]
    },
    {
     "name": "stdout",
     "output_type": "stream",
     "text": [
      "('76234226_R_CC_1.dcm', 1)\n"
     ]
    },
    {
     "name": "stderr",
     "output_type": "stream",
     "text": [
      " 27%|██▋       | 354/1335 [10:11<24:22,  1.49s/it]WARNING:Lossy conversion from int64 to uint8. Range [15398, 16384]. Convert image to uint8 prior to saving to suppress this warning.\n"
     ]
    },
    {
     "name": "stdout",
     "output_type": "stream",
     "text": [
      "('75989500_L_CC_1.dcm', 3)\n"
     ]
    },
    {
     "name": "stderr",
     "output_type": "stream",
     "text": [
      " 27%|██▋       | 355/1335 [10:13<27:30,  1.68s/it]WARNING:Lossy conversion from int64 to uint8. Range [15124, 16384]. Convert image to uint8 prior to saving to suppress this warning.\n"
     ]
    },
    {
     "name": "stdout",
     "output_type": "stream",
     "text": [
      "('76251821_L_CC_1.dcm', 3)\n"
     ]
    },
    {
     "name": "stderr",
     "output_type": "stream",
     "text": [
      " 27%|██▋       | 356/1335 [10:15<29:37,  1.82s/it]WARNING:Lossy conversion from int64 to uint8. Range [15312, 16384]. Convert image to uint8 prior to saving to suppress this warning.\n"
     ]
    },
    {
     "name": "stdout",
     "output_type": "stream",
     "text": [
      "('5203080_L_MLO_1.dcm', 2)\n"
     ]
    },
    {
     "name": "stderr",
     "output_type": "stream",
     "text": [
      " 27%|██▋       | 357/1335 [10:17<31:08,  1.91s/it]WARNING:Lossy conversion from int64 to uint8. Range [15262, 16384]. Convert image to uint8 prior to saving to suppress this warning.\n"
     ]
    },
    {
     "name": "stdout",
     "output_type": "stream",
     "text": [
      "('76358683_L_MLO_1.dcm', 2)\n"
     ]
    },
    {
     "name": "stderr",
     "output_type": "stream",
     "text": [
      " 27%|██▋       | 358/1335 [10:20<32:16,  1.98s/it]WARNING:Lossy conversion from int64 to uint8. Range [15053, 16384]. Convert image to uint8 prior to saving to suppress this warning.\n"
     ]
    },
    {
     "name": "stdout",
     "output_type": "stream",
     "text": [
      "('76473823_L_MLO_1.dcm', 2)\n"
     ]
    },
    {
     "name": "stderr",
     "output_type": "stream",
     "text": [
      " 27%|██▋       | 359/1335 [10:22<33:04,  2.03s/it]WARNING:Lossy conversion from int64 to uint8. Range [15426, 16384]. Convert image to uint8 prior to saving to suppress this warning.\n"
     ]
    },
    {
     "name": "stdout",
     "output_type": "stream",
     "text": [
      "('76405255_L_CC_1.dcm', 2)\n"
     ]
    },
    {
     "name": "stderr",
     "output_type": "stream",
     "text": [
      " 27%|██▋       | 360/1335 [10:24<33:34,  2.07s/it]WARNING:Lossy conversion from int64 to uint8. Range [15120, 16384]. Convert image to uint8 prior to saving to suppress this warning.\n"
     ]
    },
    {
     "name": "stdout",
     "output_type": "stream",
     "text": [
      "('76269418_L_MLO_1.dcm', 2)\n"
     ]
    },
    {
     "name": "stderr",
     "output_type": "stream",
     "text": [
      " 27%|██▋       | 361/1335 [10:26<34:07,  2.10s/it]WARNING:Lossy conversion from int64 to uint8. Range [15360, 16384]. Convert image to uint8 prior to saving to suppress this warning.\n"
     ]
    },
    {
     "name": "stdout",
     "output_type": "stream",
     "text": [
      "('76534744_L_CC_1.dcm', 2)\n"
     ]
    },
    {
     "name": "stderr",
     "output_type": "stream",
     "text": [
      " 27%|██▋       | 362/1335 [10:28<34:17,  2.11s/it]WARNING:Lossy conversion from int64 to uint8. Range [15303, 16384]. Convert image to uint8 prior to saving to suppress this warning.\n",
      " 27%|██▋       | 363/1335 [10:30<30:33,  1.89s/it]"
     ]
    },
    {
     "name": "stdout",
     "output_type": "stream",
     "text": [
      "('4457149_R_MLO_1.dcm', 2)\n"
     ]
    },
    {
     "name": "stderr",
     "output_type": "stream",
     "text": [
      "WARNING:Lossy conversion from int64 to uint8. Range [15357, 16384]. Convert image to uint8 prior to saving to suppress this warning.\n",
      " 27%|██▋       | 364/1335 [10:31<28:14,  1.75s/it]"
     ]
    },
    {
     "name": "stdout",
     "output_type": "stream",
     "text": [
      "('4291502_L_MLO_1.dcm', 2)\n"
     ]
    },
    {
     "name": "stderr",
     "output_type": "stream",
     "text": [
      "WARNING:Lossy conversion from int64 to uint8. Range [15326, 16384]. Convert image to uint8 prior to saving to suppress this warning.\n"
     ]
    },
    {
     "name": "stdout",
     "output_type": "stream",
     "text": [
      "('76049731_L_MLO_1.dcm', 2)\n"
     ]
    },
    {
     "name": "stderr",
     "output_type": "stream",
     "text": [
      " 27%|██▋       | 365/1335 [10:33<30:22,  1.88s/it]WARNING:Lossy conversion from int64 to uint8. Range [15183, 16384]. Convert image to uint8 prior to saving to suppress this warning.\n"
     ]
    },
    {
     "name": "stdout",
     "output_type": "stream",
     "text": [
      "('3819798_R_CC_1.dcm', 2)\n"
     ]
    },
    {
     "name": "stderr",
     "output_type": "stream",
     "text": [
      " 27%|██▋       | 366/1335 [10:35<31:53,  1.97s/it]WARNING:Lossy conversion from int64 to uint8. Range [15449, 16384]. Convert image to uint8 prior to saving to suppress this warning.\n"
     ]
    },
    {
     "name": "stdout",
     "output_type": "stream",
     "text": [
      "('75970217_L_MLO_1.dcm', 2)\n"
     ]
    },
    {
     "name": "stderr",
     "output_type": "stream",
     "text": [
      " 27%|██▋       | 367/1335 [10:38<32:53,  2.04s/it]WARNING:Lossy conversion from int64 to uint8. Range [15360, 16384]. Convert image to uint8 prior to saving to suppress this warning.\n"
     ]
    },
    {
     "name": "stdout",
     "output_type": "stream",
     "text": [
      "('3540631_L_MLO_1.dcm', 2)\n"
     ]
    },
    {
     "name": "stderr",
     "output_type": "stream",
     "text": [
      " 28%|██▊       | 368/1335 [10:40<34:02,  2.11s/it]WARNING:Lossy conversion from int64 to uint8. Range [15347, 16384]. Convert image to uint8 prior to saving to suppress this warning.\n",
      " 28%|██▊       | 369/1335 [10:41<30:16,  1.88s/it]"
     ]
    },
    {
     "name": "stdout",
     "output_type": "stream",
     "text": [
      "('75067166_L_CC_1.dcm', 3)\n"
     ]
    },
    {
     "name": "stderr",
     "output_type": "stream",
     "text": [
      "WARNING:Lossy conversion from int64 to uint8. Range [15139, 16384]. Convert image to uint8 prior to saving to suppress this warning.\n"
     ]
    },
    {
     "name": "stdout",
     "output_type": "stream",
     "text": [
      "('76271054_R_MLO_1.dcm', 3)\n"
     ]
    },
    {
     "name": "stderr",
     "output_type": "stream",
     "text": [
      " 28%|██▊       | 370/1335 [10:43<32:01,  1.99s/it]WARNING:Lossy conversion from int64 to uint8. Range [15339, 16384]. Convert image to uint8 prior to saving to suppress this warning.\n",
      " 28%|██▊       | 373/1335 [10:45<24:33,  1.53s/it]"
     ]
    },
    {
     "name": "stdout",
     "output_type": "stream",
     "text": [
      "('76328184_R_CC_1.dcm', 3)\n"
     ]
    },
    {
     "name": "stderr",
     "output_type": "stream",
     "text": [
      "WARNING:Lossy conversion from int64 to uint8. Range [15369, 16384]. Convert image to uint8 prior to saving to suppress this warning.\n"
     ]
    },
    {
     "name": "stdout",
     "output_type": "stream",
     "text": [
      "('3994568_L_MLO_1.dcm', 2)\n"
     ]
    },
    {
     "name": "stderr",
     "output_type": "stream",
     "text": [
      " 28%|██▊       | 374/1335 [10:47<27:52,  1.74s/it]WARNING:Lossy conversion from int64 to uint8. Range [15286, 16384]. Convert image to uint8 prior to saving to suppress this warning.\n",
      " 28%|██▊       | 375/1335 [10:48<25:47,  1.61s/it]"
     ]
    },
    {
     "name": "stdout",
     "output_type": "stream",
     "text": [
      "('5309804_L_CC_1.dcm', 3)\n"
     ]
    },
    {
     "name": "stderr",
     "output_type": "stream",
     "text": [
      "WARNING:Lossy conversion from int64 to uint8. Range [15455, 16384]. Convert image to uint8 prior to saving to suppress this warning.\n"
     ]
    },
    {
     "name": "stdout",
     "output_type": "stream",
     "text": [
      "('5242950_R_MLO_1.dcm', 2)\n"
     ]
    },
    {
     "name": "stderr",
     "output_type": "stream",
     "text": [
      " 28%|██▊       | 376/1335 [10:50<28:22,  1.78s/it]WARNING:Lossy conversion from int64 to uint8. Range [15222, 16384]. Convert image to uint8 prior to saving to suppress this warning.\n"
     ]
    },
    {
     "name": "stdout",
     "output_type": "stream",
     "text": [
      "('5226635_L_MLO_1.dcm', 2)\n"
     ]
    },
    {
     "name": "stderr",
     "output_type": "stream",
     "text": [
      " 28%|██▊       | 377/1335 [10:53<30:12,  1.89s/it]WARNING:Lossy conversion from int64 to uint8. Range [15050, 16384]. Convert image to uint8 prior to saving to suppress this warning.\n"
     ]
    },
    {
     "name": "stdout",
     "output_type": "stream",
     "text": [
      "('76372050_R_CC_1.dcm', 1)\n"
     ]
    },
    {
     "name": "stderr",
     "output_type": "stream",
     "text": [
      " 28%|██▊       | 378/1335 [10:55<31:22,  1.97s/it]WARNING:Lossy conversion from int64 to uint8. Range [15266, 16384]. Convert image to uint8 prior to saving to suppress this warning.\n"
     ]
    },
    {
     "name": "stdout",
     "output_type": "stream",
     "text": [
      "('76206248_R_MLO_1.dcm', 3)\n"
     ]
    },
    {
     "name": "stderr",
     "output_type": "stream",
     "text": [
      " 28%|██▊       | 380/1335 [10:57<27:00,  1.70s/it]WARNING:Lossy conversion from int64 to uint8. Range [15333, 16384]. Convert image to uint8 prior to saving to suppress this warning.\n"
     ]
    },
    {
     "name": "stdout",
     "output_type": "stream",
     "text": [
      "('3572293_L_MLO_1.dcm', 1)\n"
     ]
    },
    {
     "name": "stderr",
     "output_type": "stream",
     "text": [
      " 29%|██▊       | 382/1335 [10:59<24:21,  1.53s/it]WARNING:Lossy conversion from int64 to uint8. Range [15291, 16384]. Convert image to uint8 prior to saving to suppress this warning.\n"
     ]
    },
    {
     "name": "stdout",
     "output_type": "stream",
     "text": [
      "('5290743_R_MLO_1.dcm', 2)\n"
     ]
    },
    {
     "name": "stderr",
     "output_type": "stream",
     "text": [
      " 29%|██▊       | 383/1335 [11:01<27:12,  1.71s/it]WARNING:Lossy conversion from int64 to uint8. Range [15428, 16384]. Convert image to uint8 prior to saving to suppress this warning.\n"
     ]
    },
    {
     "name": "stdout",
     "output_type": "stream",
     "text": [
      "('3860066_L_MLO_1.dcm', 2)\n"
     ]
    },
    {
     "name": "stderr",
     "output_type": "stream",
     "text": [
      " 29%|██▉       | 384/1335 [11:04<29:41,  1.87s/it]WARNING:Lossy conversion from int64 to uint8. Range [15307, 16384]. Convert image to uint8 prior to saving to suppress this warning.\n"
     ]
    },
    {
     "name": "stdout",
     "output_type": "stream",
     "text": [
      "('76368917_R_MLO_1.dcm', 2)\n"
     ]
    },
    {
     "name": "stderr",
     "output_type": "stream",
     "text": [
      " 29%|██▉       | 385/1335 [11:06<31:09,  1.97s/it]WARNING:Lossy conversion from int64 to uint8. Range [15415, 16384]. Convert image to uint8 prior to saving to suppress this warning.\n"
     ]
    },
    {
     "name": "stdout",
     "output_type": "stream",
     "text": [
      "('76234226_L_MLO_1.dcm', 1)\n"
     ]
    },
    {
     "name": "stderr",
     "output_type": "stream",
     "text": [
      " 29%|██▉       | 387/1335 [11:08<26:51,  1.70s/it]WARNING:Lossy conversion from int64 to uint8. Range [15451, 16384]. Convert image to uint8 prior to saving to suppress this warning.\n",
      " 29%|██▉       | 388/1335 [11:09<25:06,  1.59s/it]"
     ]
    },
    {
     "name": "stdout",
     "output_type": "stream",
     "text": [
      "('76447017_R_CC_1.dcm', 3)\n"
     ]
    },
    {
     "name": "stderr",
     "output_type": "stream",
     "text": [
      "WARNING:Lossy conversion from int64 to uint8. Range [15282, 16384]. Convert image to uint8 prior to saving to suppress this warning.\n"
     ]
    },
    {
     "name": "stdout",
     "output_type": "stream",
     "text": [
      "('76534744_R_MLO_1.dcm', 2)\n"
     ]
    },
    {
     "name": "stderr",
     "output_type": "stream",
     "text": [
      " 29%|██▉       | 389/1335 [11:12<28:10,  1.79s/it]WARNING:Lossy conversion from int64 to uint8. Range [15473, 16384]. Convert image to uint8 prior to saving to suppress this warning.\n"
     ]
    },
    {
     "name": "stdout",
     "output_type": "stream",
     "text": [
      "('76589784_L_CC_1.dcm', 2)\n"
     ]
    },
    {
     "name": "stderr",
     "output_type": "stream",
     "text": [
      " 29%|██▉       | 390/1335 [11:14<30:05,  1.91s/it]WARNING:Lossy conversion from int64 to uint8. Range [15403, 16384]. Convert image to uint8 prior to saving to suppress this warning.\n"
     ]
    },
    {
     "name": "stdout",
     "output_type": "stream",
     "text": [
      "('3805844_L_CC_1.dcm', 2)\n"
     ]
    },
    {
     "name": "stderr",
     "output_type": "stream",
     "text": [
      " 29%|██▉       | 391/1335 [11:16<31:13,  1.98s/it]WARNING:Lossy conversion from int64 to uint8. Range [15376, 16384]. Convert image to uint8 prior to saving to suppress this warning.\n",
      " 29%|██▉       | 393/1335 [11:17<25:06,  1.60s/it]"
     ]
    },
    {
     "name": "stdout",
     "output_type": "stream",
     "text": [
      "('5161848_L_CC_1.dcm', 3)\n"
     ]
    },
    {
     "name": "stderr",
     "output_type": "stream",
     "text": [
      "WARNING:Lossy conversion from int64 to uint8. Range [15520, 16384]. Convert image to uint8 prior to saving to suppress this warning.\n"
     ]
    },
    {
     "name": "stdout",
     "output_type": "stream",
     "text": [
      "('5209340_L_MLO_1.dcm', 2)\n"
     ]
    },
    {
     "name": "stderr",
     "output_type": "stream",
     "text": [
      " 30%|██▉       | 395/1335 [11:19<22:32,  1.44s/it]WARNING:Lossy conversion from int64 to uint8. Range [15236, 16384]. Convert image to uint8 prior to saving to suppress this warning.\n"
     ]
    },
    {
     "name": "stdout",
     "output_type": "stream",
     "text": [
      "('4328468_R_MLO_1.dcm', 2)\n"
     ]
    },
    {
     "name": "stderr",
     "output_type": "stream",
     "text": [
      " 30%|██▉       | 396/1335 [11:22<25:41,  1.64s/it]WARNING:Lossy conversion from int64 to uint8. Range [15313, 16384]. Convert image to uint8 prior to saving to suppress this warning.\n"
     ]
    },
    {
     "name": "stdout",
     "output_type": "stream",
     "text": [
      "('76544026_R_MLO_1.dcm', 2)\n"
     ]
    },
    {
     "name": "stderr",
     "output_type": "stream",
     "text": [
      " 30%|██▉       | 397/1335 [11:24<28:40,  1.83s/it]WARNING:Lossy conversion from int64 to uint8. Range [15302, 16384]. Convert image to uint8 prior to saving to suppress this warning.\n"
     ]
    },
    {
     "name": "stdout",
     "output_type": "stream",
     "text": [
      "('4456855_L_CC_1.dcm', 1)\n"
     ]
    },
    {
     "name": "stderr",
     "output_type": "stream",
     "text": [
      " 30%|██▉       | 400/1335 [11:26<23:29,  1.51s/it]WARNING:Lossy conversion from int64 to uint8. Range [15356, 16384]. Convert image to uint8 prior to saving to suppress this warning.\n"
     ]
    },
    {
     "name": "stdout",
     "output_type": "stream",
     "text": [
      "('75046480_L_CC_1.dcm', 1)\n"
     ]
    },
    {
     "name": "stderr",
     "output_type": "stream",
     "text": [
      " 30%|███       | 401/1335 [11:28<26:46,  1.72s/it]WARNING:Lossy conversion from int64 to uint8. Range [15249, 16384]. Convert image to uint8 prior to saving to suppress this warning.\n"
     ]
    },
    {
     "name": "stdout",
     "output_type": "stream",
     "text": [
      "('5282018_L_MLO_1.dcm', 2)\n"
     ]
    },
    {
     "name": "stderr",
     "output_type": "stream",
     "text": [
      " 30%|███       | 402/1335 [11:30<28:44,  1.85s/it]WARNING:Lossy conversion from int64 to uint8. Range [15342, 16384]. Convert image to uint8 prior to saving to suppress this warning.\n",
      " 30%|███       | 403/1335 [11:32<26:20,  1.70s/it]"
     ]
    },
    {
     "name": "stdout",
     "output_type": "stream",
     "text": [
      "('5172268_R_CC_1.dcm', 3)\n"
     ]
    },
    {
     "name": "stderr",
     "output_type": "stream",
     "text": [
      "WARNING:Lossy conversion from int64 to uint8. Range [15500, 16384]. Convert image to uint8 prior to saving to suppress this warning.\n"
     ]
    },
    {
     "name": "stdout",
     "output_type": "stream",
     "text": [
      "('76271434_L_CC_1.dcm', 1)\n"
     ]
    },
    {
     "name": "stderr",
     "output_type": "stream",
     "text": [
      " 30%|███       | 406/1335 [11:34<21:58,  1.42s/it]WARNING:Lossy conversion from int64 to uint8. Range [15374, 16384]. Convert image to uint8 prior to saving to suppress this warning.\n"
     ]
    },
    {
     "name": "stdout",
     "output_type": "stream",
     "text": [
      "('75970217_R_MLO_1.dcm', 2)\n"
     ]
    },
    {
     "name": "stderr",
     "output_type": "stream",
     "text": [
      " 30%|███       | 407/1335 [11:36<25:22,  1.64s/it]WARNING:Lossy conversion from int64 to uint8. Range [15395, 16384]. Convert image to uint8 prior to saving to suppress this warning.\n"
     ]
    },
    {
     "name": "stdout",
     "output_type": "stream",
     "text": [
      "('5233702_L_MLO_1.dcm', 2)\n"
     ]
    },
    {
     "name": "stderr",
     "output_type": "stream",
     "text": [
      " 31%|███       | 408/1335 [11:38<27:55,  1.81s/it]WARNING:Lossy conversion from int64 to uint8. Range [15389, 16384]. Convert image to uint8 prior to saving to suppress this warning.\n"
     ]
    },
    {
     "name": "stdout",
     "output_type": "stream",
     "text": [
      "('76168600_L_CC_1.dcm', 2)\n"
     ]
    },
    {
     "name": "stderr",
     "output_type": "stream",
     "text": [
      " 31%|███       | 409/1335 [11:41<29:41,  1.92s/it]WARNING:Lossy conversion from int64 to uint8. Range [15391, 16384]. Convert image to uint8 prior to saving to suppress this warning.\n"
     ]
    },
    {
     "name": "stdout",
     "output_type": "stream",
     "text": [
      "('5261275_L_CC_1.dcm', 2)\n"
     ]
    },
    {
     "name": "stderr",
     "output_type": "stream",
     "text": [
      " 31%|███       | 411/1335 [11:43<25:40,  1.67s/it]WARNING:Lossy conversion from int64 to uint8. Range [15254, 16384]. Convert image to uint8 prior to saving to suppress this warning.\n",
      " 31%|███       | 412/1335 [11:44<24:07,  1.57s/it]"
     ]
    },
    {
     "name": "stdout",
     "output_type": "stream",
     "text": [
      "('5273834_L_CC_1.dcm', 2)\n"
     ]
    },
    {
     "name": "stderr",
     "output_type": "stream",
     "text": [
      "WARNING:Lossy conversion from int64 to uint8. Range [15071, 16384]. Convert image to uint8 prior to saving to suppress this warning.\n",
      " 31%|███       | 413/1335 [11:45<22:57,  1.49s/it]"
     ]
    },
    {
     "name": "stdout",
     "output_type": "stream",
     "text": [
      "('76106232_R_CC_1.dcm', 3)\n"
     ]
    },
    {
     "name": "stderr",
     "output_type": "stream",
     "text": [
      "WARNING:Lossy conversion from int64 to uint8. Range [15064, 16384]. Convert image to uint8 prior to saving to suppress this warning.\n",
      " 31%|███       | 414/1335 [11:47<22:25,  1.46s/it]"
     ]
    },
    {
     "name": "stdout",
     "output_type": "stream",
     "text": [
      "('76049020_R_MLO_1.dcm', 3)\n"
     ]
    },
    {
     "name": "stderr",
     "output_type": "stream",
     "text": [
      "WARNING:Lossy conversion from int64 to uint8. Range [15354, 16384]. Convert image to uint8 prior to saving to suppress this warning.\n",
      " 31%|███       | 415/1335 [11:48<21:56,  1.43s/it]"
     ]
    },
    {
     "name": "stdout",
     "output_type": "stream",
     "text": [
      "('76013463_L_MLO_1.dcm', 4)\n"
     ]
    },
    {
     "name": "stderr",
     "output_type": "stream",
     "text": [
      "WARNING:Lossy conversion from int64 to uint8. Range [15274, 16384]. Convert image to uint8 prior to saving to suppress this warning.\n",
      " 31%|███       | 416/1335 [11:49<21:25,  1.40s/it]"
     ]
    },
    {
     "name": "stdout",
     "output_type": "stream",
     "text": [
      "('5255713_L_CC_1.dcm', 3)\n"
     ]
    },
    {
     "name": "stderr",
     "output_type": "stream",
     "text": [
      "WARNING:Lossy conversion from int64 to uint8. Range [15265, 16384]. Convert image to uint8 prior to saving to suppress this warning.\n"
     ]
    },
    {
     "name": "stdout",
     "output_type": "stream",
     "text": [
      "('4328468_L_MLO_1.dcm', 2)\n"
     ]
    },
    {
     "name": "stderr",
     "output_type": "stream",
     "text": [
      " 31%|███       | 417/1335 [11:52<24:46,  1.62s/it]WARNING:Lossy conversion from int64 to uint8. Range [15080, 16384]. Convert image to uint8 prior to saving to suppress this warning.\n",
      " 31%|███▏      | 418/1335 [11:53<23:36,  1.55s/it]"
     ]
    },
    {
     "name": "stdout",
     "output_type": "stream",
     "text": [
      "('76387928_L_MLO_1.dcm', 2)\n"
     ]
    },
    {
     "name": "stderr",
     "output_type": "stream",
     "text": [
      "WARNING:Lossy conversion from int64 to uint8. Range [15124, 16384]. Convert image to uint8 prior to saving to suppress this warning.\n"
     ]
    },
    {
     "name": "stdout",
     "output_type": "stream",
     "text": [
      "('76569104_R_MLO_1.dcm', 3)\n"
     ]
    },
    {
     "name": "stderr",
     "output_type": "stream",
     "text": [
      " 31%|███▏      | 419/1335 [11:55<26:55,  1.76s/it]WARNING:Lossy conversion from int64 to uint8. Range [15187, 16384]. Convert image to uint8 prior to saving to suppress this warning.\n",
      " 31%|███▏      | 420/1335 [11:57<24:55,  1.63s/it]"
     ]
    },
    {
     "name": "stdout",
     "output_type": "stream",
     "text": [
      "('76032302_L_MLO_1.dcm', 2)\n"
     ]
    },
    {
     "name": "stderr",
     "output_type": "stream",
     "text": [
      "WARNING:Lossy conversion from int64 to uint8. Range [15251, 16384]. Convert image to uint8 prior to saving to suppress this warning.\n",
      " 32%|███▏      | 421/1335 [11:58<23:36,  1.55s/it]"
     ]
    },
    {
     "name": "stdout",
     "output_type": "stream",
     "text": [
      "('75067166_R_CC_1.dcm', 3)\n"
     ]
    },
    {
     "name": "stderr",
     "output_type": "stream",
     "text": [
      "WARNING:Lossy conversion from int64 to uint8. Range [15223, 16384]. Convert image to uint8 prior to saving to suppress this warning.\n"
     ]
    },
    {
     "name": "stdout",
     "output_type": "stream",
     "text": [
      "('76070388_L_MLO_1.dcm', 3)\n"
     ]
    },
    {
     "name": "stderr",
     "output_type": "stream",
     "text": [
      " 32%|███▏      | 422/1335 [12:00<26:36,  1.75s/it]WARNING:Lossy conversion from int64 to uint8. Range [15469, 16384]. Convert image to uint8 prior to saving to suppress this warning.\n"
     ]
    },
    {
     "name": "stdout",
     "output_type": "stream",
     "text": [
      "('5215632_L_CC_1.dcm', 2)\n"
     ]
    },
    {
     "name": "stderr",
     "output_type": "stream",
     "text": [
      " 32%|███▏      | 423/1335 [12:02<28:29,  1.87s/it]WARNING:Lossy conversion from int64 to uint8. Range [15347, 16384]. Convert image to uint8 prior to saving to suppress this warning.\n"
     ]
    },
    {
     "name": "stdout",
     "output_type": "stream",
     "text": [
      "('76312395_R_CC_1.dcm', 2)\n"
     ]
    },
    {
     "name": "stderr",
     "output_type": "stream",
     "text": [
      " 32%|███▏      | 424/1335 [12:05<30:12,  1.99s/it]WARNING:Lossy conversion from int64 to uint8. Range [15334, 16384]. Convert image to uint8 prior to saving to suppress this warning.\n"
     ]
    },
    {
     "name": "stdout",
     "output_type": "stream",
     "text": [
      "('76033649_R_CC_1.dcm', 2)\n"
     ]
    },
    {
     "name": "stderr",
     "output_type": "stream",
     "text": [
      " 32%|███▏      | 425/1335 [12:07<30:52,  2.04s/it]WARNING:Lossy conversion from int64 to uint8. Range [15202, 16384]. Convert image to uint8 prior to saving to suppress this warning.\n"
     ]
    },
    {
     "name": "stdout",
     "output_type": "stream",
     "text": [
      "('76359518_L_CC_1.dcm', 2)\n"
     ]
    },
    {
     "name": "stderr",
     "output_type": "stream",
     "text": [
      " 32%|███▏      | 428/1335 [12:09<24:49,  1.64s/it]WARNING:Lossy conversion from int64 to uint8. Range [15050, 16384]. Convert image to uint8 prior to saving to suppress this warning.\n"
     ]
    },
    {
     "name": "stdout",
     "output_type": "stream",
     "text": [
      "('76380252_L_MLO_1.dcm', 2)\n"
     ]
    },
    {
     "name": "stderr",
     "output_type": "stream",
     "text": [
      " 32%|███▏      | 429/1335 [12:11<27:21,  1.81s/it]WARNING:Lossy conversion from int64 to uint8. Range [15254, 16384]. Convert image to uint8 prior to saving to suppress this warning.\n",
      " 32%|███▏      | 431/1335 [12:12<22:12,  1.47s/it]"
     ]
    },
    {
     "name": "stdout",
     "output_type": "stream",
     "text": [
      "('76393393_L_MLO_1.dcm', 3)\n"
     ]
    },
    {
     "name": "stderr",
     "output_type": "stream",
     "text": [
      "WARNING:Lossy conversion from int64 to uint8. Range [15432, 16384]. Convert image to uint8 prior to saving to suppress this warning.\n",
      " 32%|███▏      | 432/1335 [12:14<21:55,  1.46s/it]"
     ]
    },
    {
     "name": "stdout",
     "output_type": "stream",
     "text": [
      "('5172268_R_MLO_1.dcm', 3)\n"
     ]
    },
    {
     "name": "stderr",
     "output_type": "stream",
     "text": [
      "WARNING:Lossy conversion from int64 to uint8. Range [15264, 16384]. Convert image to uint8 prior to saving to suppress this warning.\n"
     ]
    },
    {
     "name": "stdout",
     "output_type": "stream",
     "text": [
      "('76488839_R_MLO_1.dcm', 2)\n"
     ]
    },
    {
     "name": "stderr",
     "output_type": "stream",
     "text": [
      " 32%|███▏      | 433/1335 [12:16<25:25,  1.69s/it]WARNING:Lossy conversion from int64 to uint8. Range [15317, 16384]. Convert image to uint8 prior to saving to suppress this warning.\n"
     ]
    },
    {
     "name": "stdout",
     "output_type": "stream",
     "text": [
      "('76340218_R_MLO_1.dcm', 2)\n"
     ]
    },
    {
     "name": "stderr",
     "output_type": "stream",
     "text": [
      " 33%|███▎      | 434/1335 [12:18<27:29,  1.83s/it]WARNING:Lossy conversion from int64 to uint8. Range [15388, 16384]. Convert image to uint8 prior to saving to suppress this warning.\n"
     ]
    },
    {
     "name": "stdout",
     "output_type": "stream",
     "text": [
      "('76255029_L_MLO_1.dcm', 2)\n"
     ]
    },
    {
     "name": "stderr",
     "output_type": "stream",
     "text": [
      " 33%|███▎      | 435/1335 [12:20<29:13,  1.95s/it]WARNING:Lossy conversion from int64 to uint8. Range [15336, 16384]. Convert image to uint8 prior to saving to suppress this warning.\n"
     ]
    },
    {
     "name": "stdout",
     "output_type": "stream",
     "text": [
      "('3590663_L_MLO_1.dcm', 2)\n"
     ]
    },
    {
     "name": "stderr",
     "output_type": "stream",
     "text": [
      " 33%|███▎      | 436/1335 [12:23<30:06,  2.01s/it]WARNING:Lossy conversion from int64 to uint8. Range [15050, 16384]. Convert image to uint8 prior to saving to suppress this warning.\n"
     ]
    },
    {
     "name": "stdout",
     "output_type": "stream",
     "text": [
      "('76372050_L_MLO_1.dcm', 1)\n"
     ]
    },
    {
     "name": "stderr",
     "output_type": "stream",
     "text": [
      " 33%|███▎      | 437/1335 [12:25<30:48,  2.06s/it]WARNING:Lossy conversion from int64 to uint8. Range [15050, 16384]. Convert image to uint8 prior to saving to suppress this warning.\n"
     ]
    },
    {
     "name": "stdout",
     "output_type": "stream",
     "text": [
      "('76140197_L_MLO_1.dcm', 2)\n"
     ]
    },
    {
     "name": "stderr",
     "output_type": "stream",
     "text": [
      " 33%|███▎      | 438/1335 [12:27<31:26,  2.10s/it]WARNING:Lossy conversion from int64 to uint8. Range [15285, 16384]. Convert image to uint8 prior to saving to suppress this warning.\n"
     ]
    },
    {
     "name": "stdout",
     "output_type": "stream",
     "text": [
      "('3903811_R_MLO_1.dcm', 2)\n"
     ]
    },
    {
     "name": "stderr",
     "output_type": "stream",
     "text": [
      " 33%|███▎      | 439/1335 [12:29<31:44,  2.13s/it]WARNING:Lossy conversion from int64 to uint8. Range [15418, 16384]. Convert image to uint8 prior to saving to suppress this warning.\n",
      " 33%|███▎      | 440/1335 [12:31<28:10,  1.89s/it]"
     ]
    },
    {
     "name": "stdout",
     "output_type": "stream",
     "text": [
      "('4300843_L_CC_1.dcm', 3)\n"
     ]
    },
    {
     "name": "stderr",
     "output_type": "stream",
     "text": [
      "WARNING:Lossy conversion from int64 to uint8. Range [15308, 16384]. Convert image to uint8 prior to saving to suppress this warning.\n",
      " 33%|███▎      | 441/1335 [12:32<26:15,  1.76s/it]"
     ]
    },
    {
     "name": "stdout",
     "output_type": "stream",
     "text": [
      "('76277398_L_MLO_1.dcm', 2)\n"
     ]
    },
    {
     "name": "stderr",
     "output_type": "stream",
     "text": [
      "WARNING:Lossy conversion from int64 to uint8. Range [15289, 16384]. Convert image to uint8 prior to saving to suppress this warning.\n"
     ]
    },
    {
     "name": "stdout",
     "output_type": "stream",
     "text": [
      "('76586167_R_CC_1.dcm', 2)\n"
     ]
    },
    {
     "name": "stderr",
     "output_type": "stream",
     "text": [
      " 33%|███▎      | 442/1335 [12:34<28:07,  1.89s/it]WARNING:Lossy conversion from int64 to uint8. Range [15413, 16384]. Convert image to uint8 prior to saving to suppress this warning.\n"
     ]
    },
    {
     "name": "stdout",
     "output_type": "stream",
     "text": [
      "('76380804_R_CC_1.dcm', 2)\n"
     ]
    },
    {
     "name": "stderr",
     "output_type": "stream",
     "text": [
      " 33%|███▎      | 443/1335 [12:36<29:45,  2.00s/it]WARNING:Lossy conversion from int64 to uint8. Range [15350, 16384]. Convert image to uint8 prior to saving to suppress this warning.\n"
     ]
    },
    {
     "name": "stdout",
     "output_type": "stream",
     "text": [
      "('76534519_L_MLO_1.dcm', 3)\n"
     ]
    },
    {
     "name": "stderr",
     "output_type": "stream",
     "text": [
      " 33%|███▎      | 444/1335 [12:39<30:34,  2.06s/it]WARNING:Lossy conversion from int64 to uint8. Range [15178, 16384]. Convert image to uint8 prior to saving to suppress this warning.\n"
     ]
    },
    {
     "name": "stdout",
     "output_type": "stream",
     "text": [
      "('5226635_R_MLO_1.dcm', 2)\n"
     ]
    },
    {
     "name": "stderr",
     "output_type": "stream",
     "text": [
      " 33%|███▎      | 445/1335 [12:41<30:56,  2.09s/it]WARNING:Lossy conversion from int64 to uint8. Range [15553, 16384]. Convert image to uint8 prior to saving to suppress this warning.\n",
      " 33%|███▎      | 446/1335 [12:42<27:28,  1.85s/it]"
     ]
    },
    {
     "name": "stdout",
     "output_type": "stream",
     "text": [
      "('5156000_L_CC_1.dcm', 2)\n"
     ]
    },
    {
     "name": "stderr",
     "output_type": "stream",
     "text": [
      "WARNING:Lossy conversion from int64 to uint8. Range [15453, 16384]. Convert image to uint8 prior to saving to suppress this warning.\n"
     ]
    },
    {
     "name": "stdout",
     "output_type": "stream",
     "text": [
      "('4378437_L_MLO_1.dcm', 1)\n"
     ]
    },
    {
     "name": "stderr",
     "output_type": "stream",
     "text": [
      " 33%|███▎      | 447/1335 [12:44<28:46,  1.94s/it]WARNING:Lossy conversion from int64 to uint8. Range [15210, 16384]. Convert image to uint8 prior to saving to suppress this warning.\n",
      " 34%|███▎      | 448/1335 [12:46<26:02,  1.76s/it]"
     ]
    },
    {
     "name": "stdout",
     "output_type": "stream",
     "text": [
      "('76482137_R_MLO_1.dcm', 3)\n"
     ]
    },
    {
     "name": "stderr",
     "output_type": "stream",
     "text": [
      "WARNING:Lossy conversion from int64 to uint8. Range [15361, 16384]. Convert image to uint8 prior to saving to suppress this warning.\n"
     ]
    },
    {
     "name": "stdout",
     "output_type": "stream",
     "text": [
      "('4478231_R_CC_1.dcm', 2)\n"
     ]
    },
    {
     "name": "stderr",
     "output_type": "stream",
     "text": [
      " 34%|███▎      | 449/1335 [12:48<27:50,  1.89s/it]WARNING:Lossy conversion from int64 to uint8. Range [15391, 16384]. Convert image to uint8 prior to saving to suppress this warning.\n"
     ]
    },
    {
     "name": "stdout",
     "output_type": "stream",
     "text": [
      "('76483531_R_MLO_1.dcm', 2)\n"
     ]
    },
    {
     "name": "stderr",
     "output_type": "stream",
     "text": [
      " 34%|███▍      | 451/1335 [12:50<24:31,  1.66s/it]WARNING:Lossy conversion from int64 to uint8. Range [15348, 16384]. Convert image to uint8 prior to saving to suppress this warning.\n"
     ]
    },
    {
     "name": "stdout",
     "output_type": "stream",
     "text": [
      "('76152697_R_MLO_1.dcm', 2)\n"
     ]
    },
    {
     "name": "stderr",
     "output_type": "stream",
     "text": [
      " 34%|███▍      | 453/1335 [12:52<21:59,  1.50s/it]WARNING:Lossy conversion from int64 to uint8. Range [15313, 16384]. Convert image to uint8 prior to saving to suppress this warning.\n"
     ]
    },
    {
     "name": "stdout",
     "output_type": "stream",
     "text": [
      "('76423839_R_MLO_1.dcm', 2)\n"
     ]
    },
    {
     "name": "stderr",
     "output_type": "stream",
     "text": [
      " 34%|███▍      | 454/1335 [12:54<24:53,  1.70s/it]WARNING:Lossy conversion from int64 to uint8. Range [15340, 16384]. Convert image to uint8 prior to saving to suppress this warning.\n"
     ]
    },
    {
     "name": "stdout",
     "output_type": "stream",
     "text": [
      "('76372174_R_CC_1.dcm', 2)\n"
     ]
    },
    {
     "name": "stderr",
     "output_type": "stream",
     "text": [
      " 34%|███▍      | 455/1335 [12:57<26:53,  1.83s/it]WARNING:Lossy conversion from int64 to uint8. Range [15307, 16384]. Convert image to uint8 prior to saving to suppress this warning.\n"
     ]
    },
    {
     "name": "stdout",
     "output_type": "stream",
     "text": [
      "('4318343_L_MLO_1.dcm', 1)\n"
     ]
    },
    {
     "name": "stderr",
     "output_type": "stream",
     "text": [
      " 34%|███▍      | 456/1335 [12:59<28:11,  1.92s/it]WARNING:Lossy conversion from int64 to uint8. Range [15146, 16384]. Convert image to uint8 prior to saving to suppress this warning.\n",
      " 34%|███▍      | 457/1335 [13:00<25:35,  1.75s/it]"
     ]
    },
    {
     "name": "stdout",
     "output_type": "stream",
     "text": [
      "('5242557_L_CC_1.dcm', 2)\n"
     ]
    },
    {
     "name": "stderr",
     "output_type": "stream",
     "text": [
      "WARNING:Lossy conversion from int64 to uint8. Range [15050, 16384]. Convert image to uint8 prior to saving to suppress this warning.\n"
     ]
    },
    {
     "name": "stdout",
     "output_type": "stream",
     "text": [
      "('76380252_R_CC_1.dcm', 2)\n"
     ]
    },
    {
     "name": "stderr",
     "output_type": "stream",
     "text": [
      " 34%|███▍      | 458/1335 [13:02<27:24,  1.88s/it]WARNING:Lossy conversion from int64 to uint8. Range [15336, 16384]. Convert image to uint8 prior to saving to suppress this warning.\n"
     ]
    },
    {
     "name": "stdout",
     "output_type": "stream",
     "text": [
      "('76340218_L_CC_1.dcm', 2)\n"
     ]
    },
    {
     "name": "stderr",
     "output_type": "stream",
     "text": [
      " 34%|███▍      | 459/1335 [13:04<28:49,  1.97s/it]WARNING:Lossy conversion from int64 to uint8. Range [15000, 16384]. Convert image to uint8 prior to saving to suppress this warning.\n"
     ]
    },
    {
     "name": "stdout",
     "output_type": "stream",
     "text": [
      "('76168600_R_MLO_1.dcm', 2)\n"
     ]
    },
    {
     "name": "stderr",
     "output_type": "stream",
     "text": [
      " 34%|███▍      | 460/1335 [13:07<29:41,  2.04s/it]WARNING:Lossy conversion from int64 to uint8. Range [15345, 16384]. Convert image to uint8 prior to saving to suppress this warning.\n"
     ]
    },
    {
     "name": "stdout",
     "output_type": "stream",
     "text": [
      "('5284119_L_CC_1.dcm', 2)\n"
     ]
    },
    {
     "name": "stderr",
     "output_type": "stream",
     "text": [
      " 35%|███▍      | 461/1335 [13:09<30:10,  2.07s/it]WARNING:Lossy conversion from int64 to uint8. Range [15463, 16384]. Convert image to uint8 prior to saving to suppress this warning.\n"
     ]
    },
    {
     "name": "stdout",
     "output_type": "stream",
     "text": [
      "('76000456_L_CC_1.dcm', 1)\n"
     ]
    },
    {
     "name": "stderr",
     "output_type": "stream",
     "text": [
      " 35%|███▍      | 463/1335 [13:11<25:46,  1.77s/it]WARNING:Lossy conversion from int64 to uint8. Range [15351, 16384]. Convert image to uint8 prior to saving to suppress this warning.\n"
     ]
    },
    {
     "name": "stdout",
     "output_type": "stream",
     "text": [
      "('76206248_L_CC_1.dcm', 3)\n"
     ]
    },
    {
     "name": "stderr",
     "output_type": "stream",
     "text": [
      " 35%|███▍      | 464/1335 [13:13<27:20,  1.88s/it]WARNING:Lossy conversion from int64 to uint8. Range [15290, 16384]. Convert image to uint8 prior to saving to suppress this warning.\n"
     ]
    },
    {
     "name": "stdout",
     "output_type": "stream",
     "text": [
      "('3563284_R_CC_1.dcm', 2)\n"
     ]
    },
    {
     "name": "stderr",
     "output_type": "stream",
     "text": [
      " 35%|███▍      | 465/1335 [13:15<28:20,  1.95s/it]WARNING:Lossy conversion from int64 to uint8. Range [15349, 16384]. Convert image to uint8 prior to saving to suppress this warning.\n",
      " 35%|███▍      | 466/1335 [13:17<25:39,  1.77s/it]"
     ]
    },
    {
     "name": "stdout",
     "output_type": "stream",
     "text": [
      "('3972153_R_CC_1.dcm', 2)\n"
     ]
    },
    {
     "name": "stderr",
     "output_type": "stream",
     "text": [
      "WARNING:Lossy conversion from int64 to uint8. Range [15415, 16384]. Convert image to uint8 prior to saving to suppress this warning.\n"
     ]
    },
    {
     "name": "stdout",
     "output_type": "stream",
     "text": [
      "('3863462_L_MLO_1.dcm', 2)\n"
     ]
    },
    {
     "name": "stderr",
     "output_type": "stream",
     "text": [
      " 35%|███▍      | 467/1335 [13:19<27:30,  1.90s/it]WARNING:Lossy conversion from int64 to uint8. Range [15094, 16384]. Convert image to uint8 prior to saving to suppress this warning.\n"
     ]
    },
    {
     "name": "stdout",
     "output_type": "stream",
     "text": [
      "('76271054_R_CC_1.dcm', 3)\n"
     ]
    },
    {
     "name": "stderr",
     "output_type": "stream",
     "text": [
      " 35%|███▌      | 468/1335 [13:21<28:32,  1.97s/it]WARNING:Lossy conversion from int64 to uint8. Range [15556, 16384]. Convert image to uint8 prior to saving to suppress this warning.\n"
     ]
    },
    {
     "name": "stdout",
     "output_type": "stream",
     "text": [
      "('4330986_L_CC_1.dcm', 3)\n"
     ]
    },
    {
     "name": "stderr",
     "output_type": "stream",
     "text": [
      " 35%|███▌      | 469/1335 [13:23<29:18,  2.03s/it]WARNING:Lossy conversion from int64 to uint8. Range [15249, 16384]. Convert image to uint8 prior to saving to suppress this warning.\n"
     ]
    },
    {
     "name": "stdout",
     "output_type": "stream",
     "text": [
      "('76268891_R_MLO_1.dcm', 2)\n"
     ]
    },
    {
     "name": "stderr",
     "output_type": "stream",
     "text": [
      " 35%|███▌      | 470/1335 [13:25<29:53,  2.07s/it]WARNING:Lossy conversion from int64 to uint8. Range [15468, 16384]. Convert image to uint8 prior to saving to suppress this warning.\n"
     ]
    },
    {
     "name": "stdout",
     "output_type": "stream",
     "text": [
      "('76054060_R_CC_1.dcm', 3)\n"
     ]
    },
    {
     "name": "stderr",
     "output_type": "stream",
     "text": [
      " 35%|███▌      | 472/1335 [13:27<25:42,  1.79s/it]WARNING:Lossy conversion from int64 to uint8. Range [15274, 16384]. Convert image to uint8 prior to saving to suppress this warning.\n"
     ]
    },
    {
     "name": "stdout",
     "output_type": "stream",
     "text": [
      "('76460754_R_MLO_1.dcm', 2)\n"
     ]
    },
    {
     "name": "stderr",
     "output_type": "stream",
     "text": [
      " 35%|███▌      | 473/1335 [13:30<27:20,  1.90s/it]WARNING:Lossy conversion from int64 to uint8. Range [15296, 16384]. Convert image to uint8 prior to saving to suppress this warning.\n"
     ]
    },
    {
     "name": "stdout",
     "output_type": "stream",
     "text": [
      "('76145442_L_CC_1.dcm', 2)\n"
     ]
    },
    {
     "name": "stderr",
     "output_type": "stream",
     "text": [
      " 36%|███▌      | 475/1335 [13:32<23:44,  1.66s/it]WARNING:Lossy conversion from int64 to uint8. Range [15449, 16384]. Convert image to uint8 prior to saving to suppress this warning.\n"
     ]
    },
    {
     "name": "stdout",
     "output_type": "stream",
     "text": [
      "('75046480_R_MLO_1.dcm', 1)\n"
     ]
    },
    {
     "name": "stderr",
     "output_type": "stream",
     "text": [
      " 36%|███▌      | 476/1335 [13:34<26:09,  1.83s/it]WARNING:Lossy conversion from int64 to uint8. Range [15329, 16384]. Convert image to uint8 prior to saving to suppress this warning.\n"
     ]
    },
    {
     "name": "stdout",
     "output_type": "stream",
     "text": [
      "('76283628_L_MLO_1.dcm', 2)\n"
     ]
    },
    {
     "name": "stderr",
     "output_type": "stream",
     "text": [
      " 36%|███▌      | 477/1335 [13:36<27:28,  1.92s/it]WARNING:Lossy conversion from int64 to uint8. Range [15202, 16384]. Convert image to uint8 prior to saving to suppress this warning.\n"
     ]
    },
    {
     "name": "stdout",
     "output_type": "stream",
     "text": [
      "('3563284_R_MLO_1.dcm', 2)\n"
     ]
    },
    {
     "name": "stderr",
     "output_type": "stream",
     "text": [
      " 36%|███▌      | 480/1335 [13:38<22:15,  1.56s/it]WARNING:Lossy conversion from int64 to uint8. Range [15050, 16384]. Convert image to uint8 prior to saving to suppress this warning.\n"
     ]
    },
    {
     "name": "stdout",
     "output_type": "stream",
     "text": [
      "('76306713_L_CC_1.dcm', 2)\n"
     ]
    },
    {
     "name": "stderr",
     "output_type": "stream",
     "text": [
      " 36%|███▌      | 481/1335 [13:40<24:36,  1.73s/it]WARNING:Lossy conversion from int64 to uint8. Range [15352, 16384]. Convert image to uint8 prior to saving to suppress this warning.\n"
     ]
    },
    {
     "name": "stdout",
     "output_type": "stream",
     "text": [
      "('5163328_L_CC_1.dcm', 2)\n"
     ]
    },
    {
     "name": "stderr",
     "output_type": "stream",
     "text": [
      " 36%|███▌      | 482/1335 [13:43<26:21,  1.85s/it]WARNING:Lossy conversion from int64 to uint8. Range [15092, 16384]. Convert image to uint8 prior to saving to suppress this warning.\n"
     ]
    },
    {
     "name": "stdout",
     "output_type": "stream",
     "text": [
      "('76251821_L_MLO_1.dcm', 3)\n"
     ]
    },
    {
     "name": "stderr",
     "output_type": "stream",
     "text": [
      " 36%|███▌      | 483/1335 [13:45<27:35,  1.94s/it]WARNING:Lossy conversion from int64 to uint8. Range [15277, 16384]. Convert image to uint8 prior to saving to suppress this warning.\n",
      " 36%|███▋      | 484/1335 [13:46<25:00,  1.76s/it]"
     ]
    },
    {
     "name": "stdout",
     "output_type": "stream",
     "text": [
      "('5187297_R_MLO_1.dcm', 3)\n"
     ]
    },
    {
     "name": "stderr",
     "output_type": "stream",
     "text": [
      "WARNING:Lossy conversion from int64 to uint8. Range [15354, 16384]. Convert image to uint8 prior to saving to suppress this warning.\n"
     ]
    },
    {
     "name": "stdout",
     "output_type": "stream",
     "text": [
      "('3860066_R_MLO_1.dcm', 2)\n"
     ]
    },
    {
     "name": "stderr",
     "output_type": "stream",
     "text": [
      " 36%|███▋      | 486/1335 [13:48<22:12,  1.57s/it]WARNING:Lossy conversion from int64 to uint8. Range [15408, 16384]. Convert image to uint8 prior to saving to suppress this warning.\n",
      " 36%|███▋      | 487/1335 [13:50<21:26,  1.52s/it]"
     ]
    },
    {
     "name": "stdout",
     "output_type": "stream",
     "text": [
      "('4236900_R_CC_1.dcm', 3)\n"
     ]
    },
    {
     "name": "stderr",
     "output_type": "stream",
     "text": [
      "WARNING:Lossy conversion from int64 to uint8. Range [15429, 16384]. Convert image to uint8 prior to saving to suppress this warning.\n"
     ]
    },
    {
     "name": "stdout",
     "output_type": "stream",
     "text": [
      "('76219575_R_CC_1.dcm', 3)\n"
     ]
    },
    {
     "name": "stderr",
     "output_type": "stream",
     "text": [
      " 37%|███▋      | 489/1335 [13:52<19:41,  1.40s/it]WARNING:Lossy conversion from int64 to uint8. Range [15455, 16384]. Convert image to uint8 prior to saving to suppress this warning.\n"
     ]
    },
    {
     "name": "stdout",
     "output_type": "stream",
     "text": [
      "('76071602_L_CC_1.dcm', 2)\n"
     ]
    },
    {
     "name": "stderr",
     "output_type": "stream",
     "text": [
      " 37%|███▋      | 490/1335 [13:54<22:46,  1.62s/it]WARNING:Lossy conversion from int64 to uint8. Range [15223, 16384]. Convert image to uint8 prior to saving to suppress this warning.\n"
     ]
    },
    {
     "name": "stdout",
     "output_type": "stream",
     "text": [
      "('76145918_R_CC_1.dcm', 1)\n"
     ]
    },
    {
     "name": "stderr",
     "output_type": "stream",
     "text": [
      " 37%|███▋      | 491/1335 [13:56<25:06,  1.78s/it]WARNING:Lossy conversion from int64 to uint8. Range [15583, 16384]. Convert image to uint8 prior to saving to suppress this warning.\n"
     ]
    },
    {
     "name": "stdout",
     "output_type": "stream",
     "text": [
      "('75954157_R_CC_1.dcm', 2)\n"
     ]
    },
    {
     "name": "stderr",
     "output_type": "stream",
     "text": [
      " 37%|███▋      | 492/1335 [13:58<26:47,  1.91s/it]WARNING:Lossy conversion from int64 to uint8. Range [15454, 16384]. Convert image to uint8 prior to saving to suppress this warning.\n"
     ]
    },
    {
     "name": "stdout",
     "output_type": "stream",
     "text": [
      "('76000569_L_MLO_1.dcm', 2)\n"
     ]
    },
    {
     "name": "stderr",
     "output_type": "stream",
     "text": [
      " 37%|███▋      | 493/1335 [14:01<28:04,  2.00s/it]WARNING:Lossy conversion from int64 to uint8. Range [15398, 16384]. Convert image to uint8 prior to saving to suppress this warning.\n"
     ]
    },
    {
     "name": "stdout",
     "output_type": "stream",
     "text": [
      "('5242950_R_CC_1.dcm', 2)\n"
     ]
    },
    {
     "name": "stderr",
     "output_type": "stream",
     "text": [
      " 37%|███▋      | 494/1335 [14:03<29:04,  2.07s/it]WARNING:Lossy conversion from int64 to uint8. Range [15385, 16384]. Convert image to uint8 prior to saving to suppress this warning.\n"
     ]
    },
    {
     "name": "stdout",
     "output_type": "stream",
     "text": [
      "('5138593_L_MLO_1.dcm', 2)\n"
     ]
    },
    {
     "name": "stderr",
     "output_type": "stream",
     "text": [
      " 37%|███▋      | 495/1335 [14:05<29:52,  2.13s/it]WARNING:Lossy conversion from int64 to uint8. Range [15556, 16384]. Convert image to uint8 prior to saving to suppress this warning.\n"
     ]
    },
    {
     "name": "stdout",
     "output_type": "stream",
     "text": [
      "('76152697_R_CC_1.dcm', 2)\n"
     ]
    },
    {
     "name": "stderr",
     "output_type": "stream",
     "text": [
      " 37%|███▋      | 497/1335 [14:07<25:37,  1.84s/it]WARNING:Lossy conversion from int64 to uint8. Range [15350, 16384]. Convert image to uint8 prior to saving to suppress this warning.\n",
      " 37%|███▋      | 498/1335 [14:09<23:28,  1.68s/it]"
     ]
    },
    {
     "name": "stdout",
     "output_type": "stream",
     "text": [
      "('76033548_L_CC_1.dcm', 2)\n"
     ]
    },
    {
     "name": "stderr",
     "output_type": "stream",
     "text": [
      "WARNING:Lossy conversion from int64 to uint8. Range [15479, 16384]. Convert image to uint8 prior to saving to suppress this warning.\n"
     ]
    },
    {
     "name": "stdout",
     "output_type": "stream",
     "text": [
      "('76483531_L_CC_1.dcm', 2)\n"
     ]
    },
    {
     "name": "stderr",
     "output_type": "stream",
     "text": [
      " 37%|███▋      | 499/1335 [14:11<26:09,  1.88s/it]WARNING:Lossy conversion from int64 to uint8. Range [15260, 16384]. Convert image to uint8 prior to saving to suppress this warning.\n"
     ]
    },
    {
     "name": "stdout",
     "output_type": "stream",
     "text": [
      "('76006495_R_MLO_1.dcm', 3)\n"
     ]
    },
    {
     "name": "stderr",
     "output_type": "stream",
     "text": [
      " 37%|███▋      | 500/1335 [14:13<27:14,  1.96s/it]WARNING:Lossy conversion from int64 to uint8. Range [15099, 16384]. Convert image to uint8 prior to saving to suppress this warning.\n"
     ]
    },
    {
     "name": "stdout",
     "output_type": "stream",
     "text": [
      "('4472726_R_MLO_1.dcm', 2)\n"
     ]
    },
    {
     "name": "stderr",
     "output_type": "stream",
     "text": [
      " 38%|███▊      | 501/1335 [14:16<28:27,  2.05s/it]WARNING:Lossy conversion from int64 to uint8. Range [15345, 16384]. Convert image to uint8 prior to saving to suppress this warning.\n"
     ]
    },
    {
     "name": "stdout",
     "output_type": "stream",
     "text": [
      "('5252625_R_CC_1.dcm', 2)\n"
     ]
    },
    {
     "name": "stderr",
     "output_type": "stream",
     "text": [
      " 38%|███▊      | 502/1335 [14:18<29:14,  2.11s/it]WARNING:Lossy conversion from int64 to uint8. Range [15446, 16384]. Convert image to uint8 prior to saving to suppress this warning.\n"
     ]
    },
    {
     "name": "stdout",
     "output_type": "stream",
     "text": [
      "('76255029_R_CC_1.dcm', 2)\n"
     ]
    },
    {
     "name": "stderr",
     "output_type": "stream",
     "text": [
      " 38%|███▊      | 503/1335 [14:20<29:23,  2.12s/it]WARNING:Lossy conversion from int64 to uint8. Range [15383, 16384]. Convert image to uint8 prior to saving to suppress this warning.\n"
     ]
    },
    {
     "name": "stdout",
     "output_type": "stream",
     "text": [
      "('76312395_L_MLO_1.dcm', 2)\n"
     ]
    },
    {
     "name": "stderr",
     "output_type": "stream",
     "text": [
      " 38%|███▊      | 504/1335 [14:22<29:35,  2.14s/it]WARNING:Lossy conversion from int64 to uint8. Range [15327, 16384]. Convert image to uint8 prior to saving to suppress this warning.\n",
      " 38%|███▊      | 505/1335 [14:23<26:21,  1.91s/it]"
     ]
    },
    {
     "name": "stdout",
     "output_type": "stream",
     "text": [
      "('76194054_R_CC_1.dcm', 2)\n"
     ]
    },
    {
     "name": "stderr",
     "output_type": "stream",
     "text": [
      "WARNING:Lossy conversion from int64 to uint8. Range [15306, 16384]. Convert image to uint8 prior to saving to suppress this warning.\n"
     ]
    },
    {
     "name": "stdout",
     "output_type": "stream",
     "text": [
      "('3816546_R_MLO_1.dcm', 1)\n"
     ]
    },
    {
     "name": "stderr",
     "output_type": "stream",
     "text": [
      " 38%|███▊      | 506/1335 [14:26<27:25,  1.99s/it]WARNING:Lossy conversion from int64 to uint8. Range [15267, 16384]. Convert image to uint8 prior to saving to suppress this warning.\n"
     ]
    },
    {
     "name": "stdout",
     "output_type": "stream",
     "text": [
      "('3640539_L_CC_1.dcm', 1)\n"
     ]
    },
    {
     "name": "stderr",
     "output_type": "stream",
     "text": [
      " 38%|███▊      | 507/1335 [14:28<28:24,  2.06s/it]WARNING:Lossy conversion from int64 to uint8. Range [15472, 16384]. Convert image to uint8 prior to saving to suppress this warning.\n"
     ]
    },
    {
     "name": "stdout",
     "output_type": "stream",
     "text": [
      "('76054060_L_CC_1.dcm', 3)\n"
     ]
    },
    {
     "name": "stderr",
     "output_type": "stream",
     "text": [
      " 38%|███▊      | 510/1335 [14:30<22:44,  1.65s/it]WARNING:Lossy conversion from int64 to uint8. Range [15411, 16384]. Convert image to uint8 prior to saving to suppress this warning.\n"
     ]
    },
    {
     "name": "stdout",
     "output_type": "stream",
     "text": [
      "('3554447_R_CC_1.dcm', 2)\n"
     ]
    },
    {
     "name": "stderr",
     "output_type": "stream",
     "text": [
      " 38%|███▊      | 511/1335 [14:32<24:49,  1.81s/it]WARNING:Lossy conversion from int64 to uint8. Range [15338, 16384]. Convert image to uint8 prior to saving to suppress this warning.\n"
     ]
    },
    {
     "name": "stdout",
     "output_type": "stream",
     "text": [
      "('4354725_R_CC_1.dcm', 2)\n"
     ]
    },
    {
     "name": "stderr",
     "output_type": "stream",
     "text": [
      " 38%|███▊      | 512/1335 [14:34<26:17,  1.92s/it]WARNING:Lossy conversion from int64 to uint8. Range [15446, 16384]. Convert image to uint8 prior to saving to suppress this warning.\n"
     ]
    },
    {
     "name": "stdout",
     "output_type": "stream",
     "text": [
      "('76550586_R_MLO_1.dcm', 2)\n"
     ]
    },
    {
     "name": "stderr",
     "output_type": "stream",
     "text": [
      " 38%|███▊      | 513/1335 [14:37<27:31,  2.01s/it]WARNING:Lossy conversion from int64 to uint8. Range [15363, 16384]. Convert image to uint8 prior to saving to suppress this warning.\n",
      " 39%|███▊      | 514/1335 [14:38<25:02,  1.83s/it]"
     ]
    },
    {
     "name": "stdout",
     "output_type": "stream",
     "text": [
      "('75910199_L_MLO_1.dcm', 4)\n"
     ]
    },
    {
     "name": "stderr",
     "output_type": "stream",
     "text": [
      "WARNING:Lossy conversion from int64 to uint8. Range [15279, 16384]. Convert image to uint8 prior to saving to suppress this warning.\n"
     ]
    },
    {
     "name": "stdout",
     "output_type": "stream",
     "text": [
      "('76560269_L_CC_1.dcm', 1)\n"
     ]
    },
    {
     "name": "stderr",
     "output_type": "stream",
     "text": [
      " 39%|███▊      | 515/1335 [14:40<26:40,  1.95s/it]WARNING:Lossy conversion from int64 to uint8. Range [15050, 16384]. Convert image to uint8 prior to saving to suppress this warning.\n"
     ]
    },
    {
     "name": "stdout",
     "output_type": "stream",
     "text": [
      "('76372050_L_CC_1.dcm', 1)\n"
     ]
    },
    {
     "name": "stderr",
     "output_type": "stream",
     "text": [
      " 39%|███▊      | 516/1335 [14:42<27:49,  2.04s/it]WARNING:Lossy conversion from int64 to uint8. Range [15407, 16384]. Convert image to uint8 prior to saving to suppress this warning.\n",
      " 39%|███▊      | 517/1335 [14:44<24:56,  1.83s/it]"
     ]
    },
    {
     "name": "stdout",
     "output_type": "stream",
     "text": [
      "('76472752_L_CC_1.dcm', 2)\n"
     ]
    },
    {
     "name": "stderr",
     "output_type": "stream",
     "text": [
      "WARNING:Lossy conversion from int64 to uint8. Range [15296, 16384]. Convert image to uint8 prior to saving to suppress this warning.\n",
      " 39%|███▉      | 518/1335 [14:45<23:05,  1.70s/it]"
     ]
    },
    {
     "name": "stdout",
     "output_type": "stream",
     "text": [
      "('3623063_L_MLO_1.dcm', 2)\n"
     ]
    },
    {
     "name": "stderr",
     "output_type": "stream",
     "text": [
      "WARNING:Lossy conversion from int64 to uint8. Range [15332, 16384]. Convert image to uint8 prior to saving to suppress this warning.\n"
     ]
    },
    {
     "name": "stdout",
     "output_type": "stream",
     "text": [
      "('3651998_L_MLO_1.dcm', 2)\n"
     ]
    },
    {
     "name": "stderr",
     "output_type": "stream",
     "text": [
      " 39%|███▉      | 519/1335 [14:47<24:56,  1.83s/it]WARNING:Lossy conversion from int64 to uint8. Range [15356, 16384]. Convert image to uint8 prior to saving to suppress this warning.\n"
     ]
    },
    {
     "name": "stdout",
     "output_type": "stream",
     "text": [
      "('76368917_L_MLO_1.dcm', 2)\n"
     ]
    },
    {
     "name": "stderr",
     "output_type": "stream",
     "text": [
      " 39%|███▉      | 520/1335 [14:50<26:20,  1.94s/it]WARNING:Lossy conversion from int64 to uint8. Range [15332, 16384]. Convert image to uint8 prior to saving to suppress this warning.\n"
     ]
    },
    {
     "name": "stdout",
     "output_type": "stream",
     "text": [
      "('76299642_R_CC_1.dcm', 2)\n"
     ]
    },
    {
     "name": "stderr",
     "output_type": "stream",
     "text": [
      " 39%|███▉      | 521/1335 [14:52<27:07,  2.00s/it]WARNING:Lossy conversion from int64 to uint8. Range [15409, 16384]. Convert image to uint8 prior to saving to suppress this warning.\n"
     ]
    },
    {
     "name": "stdout",
     "output_type": "stream",
     "text": [
      "('3637071_R_MLO_1.dcm', 3)\n"
     ]
    },
    {
     "name": "stderr",
     "output_type": "stream",
     "text": [
      " 39%|███▉      | 522/1335 [14:54<27:47,  2.05s/it]WARNING:Lossy conversion from int64 to uint8. Range [15375, 16384]. Convert image to uint8 prior to saving to suppress this warning.\n"
     ]
    },
    {
     "name": "stdout",
     "output_type": "stream",
     "text": [
      "('5207299_L_CC_1.dcm', 1)\n"
     ]
    },
    {
     "name": "stderr",
     "output_type": "stream",
     "text": [
      " 39%|███▉      | 523/1335 [14:56<28:05,  2.08s/it]WARNING:Lossy conversion from int64 to uint8. Range [15272, 16384]. Convert image to uint8 prior to saving to suppress this warning.\n"
     ]
    },
    {
     "name": "stdout",
     "output_type": "stream",
     "text": [
      "('3804261_L_MLO_1.dcm', 2)\n"
     ]
    },
    {
     "name": "stderr",
     "output_type": "stream",
     "text": [
      " 39%|███▉      | 524/1335 [14:58<28:29,  2.11s/it]WARNING:Lossy conversion from int64 to uint8. Range [15336, 16384]. Convert image to uint8 prior to saving to suppress this warning.\n"
     ]
    },
    {
     "name": "stdout",
     "output_type": "stream",
     "text": [
      "('5255735_R_MLO_1.dcm', 2)\n"
     ]
    },
    {
     "name": "stderr",
     "output_type": "stream",
     "text": [
      " 39%|███▉      | 525/1335 [15:00<28:43,  2.13s/it]WARNING:Lossy conversion from int64 to uint8. Range [15540, 16384]. Convert image to uint8 prior to saving to suppress this warning.\n"
     ]
    },
    {
     "name": "stdout",
     "output_type": "stream",
     "text": [
      "('76534519_R_CC_1.dcm', 3)\n"
     ]
    },
    {
     "name": "stderr",
     "output_type": "stream",
     "text": [
      " 39%|███▉      | 526/1335 [15:03<29:01,  2.15s/it]WARNING:Lossy conversion from int64 to uint8. Range [15497, 16384]. Convert image to uint8 prior to saving to suppress this warning.\n"
     ]
    },
    {
     "name": "stdout",
     "output_type": "stream",
     "text": [
      "('5127821_R_MLO_1.dcm', 2)\n"
     ]
    },
    {
     "name": "stderr",
     "output_type": "stream",
     "text": [
      " 39%|███▉      | 527/1335 [15:05<29:16,  2.17s/it]WARNING:Lossy conversion from int64 to uint8. Range [15187, 16384]. Convert image to uint8 prior to saving to suppress this warning.\n"
     ]
    },
    {
     "name": "stdout",
     "output_type": "stream",
     "text": [
      "('75977708_R_MLO_1.dcm', 2)\n"
     ]
    },
    {
     "name": "stderr",
     "output_type": "stream",
     "text": [
      " 40%|███▉      | 528/1335 [15:07<29:23,  2.19s/it]WARNING:Lossy conversion from int64 to uint8. Range [15380, 16384]. Convert image to uint8 prior to saving to suppress this warning.\n"
     ]
    },
    {
     "name": "stdout",
     "output_type": "stream",
     "text": [
      "('76210432_L_CC_1.dcm', 2)\n"
     ]
    },
    {
     "name": "stderr",
     "output_type": "stream",
     "text": [
      " 40%|███▉      | 529/1335 [15:09<29:18,  2.18s/it]WARNING:Lossy conversion from int64 to uint8. Range [15329, 16384]. Convert image to uint8 prior to saving to suppress this warning.\n",
      " 40%|███▉      | 531/1335 [15:11<23:12,  1.73s/it]"
     ]
    },
    {
     "name": "stdout",
     "output_type": "stream",
     "text": [
      "('76006495_L_CC_1.dcm', 3)\n"
     ]
    },
    {
     "name": "stderr",
     "output_type": "stream",
     "text": [
      "WARNING:Lossy conversion from int64 to uint8. Range [15545, 16384]. Convert image to uint8 prior to saving to suppress this warning.\n"
     ]
    },
    {
     "name": "stdout",
     "output_type": "stream",
     "text": [
      "('76589784_R_CC_1.dcm', 2)\n"
     ]
    },
    {
     "name": "stderr",
     "output_type": "stream",
     "text": [
      " 40%|███▉      | 532/1335 [15:13<25:05,  1.87s/it]WARNING:Lossy conversion from int64 to uint8. Range [15423, 16384]. Convert image to uint8 prior to saving to suppress this warning.\n"
     ]
    },
    {
     "name": "stdout",
     "output_type": "stream",
     "text": [
      "('76000456_R_MLO_1.dcm', 1)\n"
     ]
    },
    {
     "name": "stderr",
     "output_type": "stream",
     "text": [
      " 40%|███▉      | 533/1335 [15:15<26:22,  1.97s/it]WARNING:Lossy conversion from int64 to uint8. Range [15319, 16384]. Convert image to uint8 prior to saving to suppress this warning.\n"
     ]
    },
    {
     "name": "stdout",
     "output_type": "stream",
     "text": [
      "('76349133_R_CC_1.dcm', 3)\n"
     ]
    },
    {
     "name": "stderr",
     "output_type": "stream",
     "text": [
      " 40%|████      | 535/1335 [15:17<22:49,  1.71s/it]WARNING:Lossy conversion from int64 to uint8. Range [15282, 16384]. Convert image to uint8 prior to saving to suppress this warning.\n"
     ]
    },
    {
     "name": "stdout",
     "output_type": "stream",
     "text": [
      "('76473823_R_MLO_1.dcm', 2)\n"
     ]
    },
    {
     "name": "stderr",
     "output_type": "stream",
     "text": [
      " 40%|████      | 536/1335 [15:19<24:39,  1.85s/it]WARNING:Lossy conversion from int64 to uint8. Range [15167, 16384]. Convert image to uint8 prior to saving to suppress this warning.\n"
     ]
    },
    {
     "name": "stdout",
     "output_type": "stream",
     "text": [
      "('5292180_L_CC_1.dcm', 3)\n"
     ]
    },
    {
     "name": "stderr",
     "output_type": "stream",
     "text": [
      " 40%|████      | 537/1335 [15:22<26:03,  1.96s/it]WARNING:Lossy conversion from int64 to uint8. Range [15406, 16384]. Convert image to uint8 prior to saving to suppress this warning.\n"
     ]
    },
    {
     "name": "stdout",
     "output_type": "stream",
     "text": [
      "('75989500_L_MLO_1.dcm', 3)\n"
     ]
    },
    {
     "name": "stderr",
     "output_type": "stream",
     "text": [
      " 40%|████      | 538/1335 [15:24<26:51,  2.02s/it]WARNING:Lossy conversion from int64 to uint8. Range [15085, 16384]. Convert image to uint8 prior to saving to suppress this warning.\n"
     ]
    },
    {
     "name": "stdout",
     "output_type": "stream",
     "text": [
      "('4472726_R_CC_1.dcm', 2)\n"
     ]
    },
    {
     "name": "stderr",
     "output_type": "stream",
     "text": [
      " 40%|████      | 539/1335 [15:26<28:02,  2.11s/it]WARNING:Lossy conversion from int64 to uint8. Range [15291, 16384]. Convert image to uint8 prior to saving to suppress this warning.\n"
     ]
    },
    {
     "name": "stdout",
     "output_type": "stream",
     "text": [
      "('3651998_R_MLO_1.dcm', 2)\n"
     ]
    },
    {
     "name": "stderr",
     "output_type": "stream",
     "text": [
      " 40%|████      | 540/1335 [15:28<28:18,  2.14s/it]WARNING:Lossy conversion from int64 to uint8. Range [15328, 16384]. Convert image to uint8 prior to saving to suppress this warning.\n"
     ]
    },
    {
     "name": "stdout",
     "output_type": "stream",
     "text": [
      "('76145442_L_MLO_1.dcm', 2)\n"
     ]
    },
    {
     "name": "stderr",
     "output_type": "stream",
     "text": [
      " 41%|████      | 541/1335 [15:30<28:17,  2.14s/it]WARNING:Lossy conversion from int64 to uint8. Range [15252, 16384]. Convert image to uint8 prior to saving to suppress this warning.\n"
     ]
    },
    {
     "name": "stdout",
     "output_type": "stream",
     "text": [
      "('5193678_L_MLO_1.dcm', 2)\n"
     ]
    },
    {
     "name": "stderr",
     "output_type": "stream",
     "text": [
      " 41%|████      | 542/1335 [15:33<28:23,  2.15s/it]WARNING:Lossy conversion from int64 to uint8. Range [15314, 16384]. Convert image to uint8 prior to saving to suppress this warning.\n"
     ]
    },
    {
     "name": "stdout",
     "output_type": "stream",
     "text": [
      "('76586167_R_MLO_1.dcm', 2)\n"
     ]
    },
    {
     "name": "stderr",
     "output_type": "stream",
     "text": [
      " 41%|████      | 543/1335 [15:35<28:49,  2.18s/it]WARNING:Lossy conversion from int64 to uint8. Range [15312, 16384]. Convert image to uint8 prior to saving to suppress this warning.\n"
     ]
    },
    {
     "name": "stdout",
     "output_type": "stream",
     "text": [
      "('3640539_L_MLO_1.dcm', 1)\n"
     ]
    },
    {
     "name": "stderr",
     "output_type": "stream",
     "text": [
      " 41%|████      | 544/1335 [15:37<28:51,  2.19s/it]WARNING:Lossy conversion from int64 to uint8. Range [15409, 16384]. Convert image to uint8 prior to saving to suppress this warning.\n"
     ]
    },
    {
     "name": "stdout",
     "output_type": "stream",
     "text": [
      "('3590663_L_CC_1.dcm', 2)\n"
     ]
    },
    {
     "name": "stderr",
     "output_type": "stream",
     "text": [
      " 41%|████      | 545/1335 [15:39<28:34,  2.17s/it]WARNING:Lossy conversion from int64 to uint8. Range [15295, 16384]. Convert image to uint8 prior to saving to suppress this warning.\n"
     ]
    },
    {
     "name": "stdout",
     "output_type": "stream",
     "text": [
      "('75010093_L_CC_1.dcm', 2)\n"
     ]
    },
    {
     "name": "stderr",
     "output_type": "stream",
     "text": [
      " 41%|████      | 547/1335 [15:41<24:12,  1.84s/it]WARNING:Lossy conversion from int64 to uint8. Range [15440, 16384]. Convert image to uint8 prior to saving to suppress this warning.\n",
      " 41%|████      | 549/1335 [15:43<19:34,  1.49s/it]"
     ]
    },
    {
     "name": "stdout",
     "output_type": "stream",
     "text": [
      "('75008788_L_CC_1.dcm', 3)\n"
     ]
    },
    {
     "name": "stderr",
     "output_type": "stream",
     "text": [
      "WARNING:Lossy conversion from int64 to uint8. Range [15335, 16384]. Convert image to uint8 prior to saving to suppress this warning.\n",
      " 41%|████      | 550/1335 [15:44<18:59,  1.45s/it]"
     ]
    },
    {
     "name": "stdout",
     "output_type": "stream",
     "text": [
      "('76047867_L_CC_1.dcm', 3)\n"
     ]
    },
    {
     "name": "stderr",
     "output_type": "stream",
     "text": [
      "WARNING:Lossy conversion from int64 to uint8. Range [15380, 16384]. Convert image to uint8 prior to saving to suppress this warning.\n",
      " 41%|████▏     | 551/1335 [15:45<18:39,  1.43s/it]"
     ]
    },
    {
     "name": "stdout",
     "output_type": "stream",
     "text": [
      "('4292093_R_CC_1.dcm', 2)\n"
     ]
    },
    {
     "name": "stderr",
     "output_type": "stream",
     "text": [
      "WARNING:Lossy conversion from int64 to uint8. Range [15390, 16384]. Convert image to uint8 prior to saving to suppress this warning.\n"
     ]
    },
    {
     "name": "stdout",
     "output_type": "stream",
     "text": [
      "('3572293_L_CC_1.dcm', 1)\n"
     ]
    },
    {
     "name": "stderr",
     "output_type": "stream",
     "text": [
      " 41%|████▏     | 552/1335 [15:48<21:47,  1.67s/it]WARNING:Lossy conversion from int64 to uint8. Range [15451, 16384]. Convert image to uint8 prior to saving to suppress this warning.\n"
     ]
    },
    {
     "name": "stdout",
     "output_type": "stream",
     "text": [
      "('76590683_L_CC_1.dcm', 3)\n"
     ]
    },
    {
     "name": "stderr",
     "output_type": "stream",
     "text": [
      " 41%|████▏     | 553/1335 [15:50<24:06,  1.85s/it]WARNING:Lossy conversion from int64 to uint8. Range [15392, 16384]. Convert image to uint8 prior to saving to suppress this warning.\n"
     ]
    },
    {
     "name": "stdout",
     "output_type": "stream",
     "text": [
      "('5255735_L_CC_1.dcm', 2)\n"
     ]
    },
    {
     "name": "stderr",
     "output_type": "stream",
     "text": [
      " 41%|████▏     | 554/1335 [15:52<25:33,  1.96s/it]WARNING:Lossy conversion from int64 to uint8. Range [15341, 16384]. Convert image to uint8 prior to saving to suppress this warning.\n",
      " 42%|████▏     | 555/1335 [15:53<23:06,  1.78s/it]"
     ]
    },
    {
     "name": "stdout",
     "output_type": "stream",
     "text": [
      "('4292093_L_MLO_1.dcm', 2)\n"
     ]
    },
    {
     "name": "stderr",
     "output_type": "stream",
     "text": [
      "WARNING:Lossy conversion from int64 to uint8. Range [15050, 16384]. Convert image to uint8 prior to saving to suppress this warning.\n"
     ]
    },
    {
     "name": "stdout",
     "output_type": "stream",
     "text": [
      "('76140197_L_CC_1.dcm', 2)\n"
     ]
    },
    {
     "name": "stderr",
     "output_type": "stream",
     "text": [
      " 42%|████▏     | 556/1335 [15:56<24:48,  1.91s/it]WARNING:Lossy conversion from int64 to uint8. Range [15291, 16384]. Convert image to uint8 prior to saving to suppress this warning.\n"
     ]
    },
    {
     "name": "stdout",
     "output_type": "stream",
     "text": [
      "('3874461_L_MLO_1.dcm', 2)\n"
     ]
    },
    {
     "name": "stderr",
     "output_type": "stream",
     "text": [
      " 42%|████▏     | 557/1335 [15:58<25:54,  2.00s/it]WARNING:Lossy conversion from int64 to uint8. Range [15341, 16384]. Convert image to uint8 prior to saving to suppress this warning.\n"
     ]
    },
    {
     "name": "stdout",
     "output_type": "stream",
     "text": [
      "('76534744_L_MLO_1.dcm', 2)\n"
     ]
    },
    {
     "name": "stderr",
     "output_type": "stream",
     "text": [
      " 42%|████▏     | 558/1335 [16:00<26:53,  2.08s/it]WARNING:Lossy conversion from int64 to uint8. Range [15463, 16384]. Convert image to uint8 prior to saving to suppress this warning.\n"
     ]
    },
    {
     "name": "stdout",
     "output_type": "stream",
     "text": [
      "('76147529_L_CC_1.dcm', 2)\n"
     ]
    },
    {
     "name": "stderr",
     "output_type": "stream",
     "text": [
      " 42%|████▏     | 559/1335 [16:02<27:21,  2.11s/it]WARNING:Lossy conversion from int64 to uint8. Range [15349, 16384]. Convert image to uint8 prior to saving to suppress this warning.\n"
     ]
    },
    {
     "name": "stdout",
     "output_type": "stream",
     "text": [
      "('3623181_R_CC_1.dcm', 2)\n"
     ]
    },
    {
     "name": "stderr",
     "output_type": "stream",
     "text": [
      " 42%|████▏     | 560/1335 [16:04<27:24,  2.12s/it]WARNING:Lossy conversion from int64 to uint8. Range [15386, 16384]. Convert image to uint8 prior to saving to suppress this warning.\n"
     ]
    },
    {
     "name": "stdout",
     "output_type": "stream",
     "text": [
      "('3542781_L_CC_1.dcm', 2)\n"
     ]
    },
    {
     "name": "stderr",
     "output_type": "stream",
     "text": [
      " 42%|████▏     | 561/1335 [16:07<27:55,  2.16s/it]WARNING:Lossy conversion from int64 to uint8. Range [15286, 16384]. Convert image to uint8 prior to saving to suppress this warning.\n"
     ]
    },
    {
     "name": "stdout",
     "output_type": "stream",
     "text": [
      "('76175539_R_MLO_1.dcm', 2)\n"
     ]
    },
    {
     "name": "stderr",
     "output_type": "stream",
     "text": [
      " 42%|████▏     | 562/1335 [16:09<27:53,  2.17s/it]WARNING:Lossy conversion from int64 to uint8. Range [15592, 16384]. Convert image to uint8 prior to saving to suppress this warning.\n"
     ]
    },
    {
     "name": "stdout",
     "output_type": "stream",
     "text": [
      "('3863462_R_CC_1.dcm', 2)\n"
     ]
    },
    {
     "name": "stderr",
     "output_type": "stream",
     "text": [
      " 42%|████▏     | 564/1335 [16:11<23:40,  1.84s/it]WARNING:Lossy conversion from int64 to uint8. Range [15398, 16384]. Convert image to uint8 prior to saving to suppress this warning.\n"
     ]
    },
    {
     "name": "stdout",
     "output_type": "stream",
     "text": [
      "('4421709_L_CC_1.dcm', 1)\n"
     ]
    },
    {
     "name": "stderr",
     "output_type": "stream",
     "text": [
      " 42%|████▏     | 565/1335 [16:13<24:47,  1.93s/it]WARNING:Lossy conversion from int64 to uint8. Range [15288, 16384]. Convert image to uint8 prior to saving to suppress this warning.\n"
     ]
    },
    {
     "name": "stdout",
     "output_type": "stream",
     "text": [
      "('76206037_R_MLO_1.dcm', 1)\n"
     ]
    },
    {
     "name": "stderr",
     "output_type": "stream",
     "text": [
      " 42%|████▏     | 566/1335 [16:15<25:46,  2.01s/it]WARNING:Lossy conversion from int64 to uint8. Range [15210, 16384]. Convert image to uint8 prior to saving to suppress this warning.\n"
     ]
    },
    {
     "name": "stdout",
     "output_type": "stream",
     "text": [
      "('76500605_R_MLO_1.dcm', 2)\n"
     ]
    },
    {
     "name": "stderr",
     "output_type": "stream",
     "text": [
      " 42%|████▏     | 567/1335 [16:18<26:31,  2.07s/it]WARNING:Lossy conversion from int64 to uint8. Range [15244, 16384]. Convert image to uint8 prior to saving to suppress this warning.\n"
     ]
    },
    {
     "name": "stdout",
     "output_type": "stream",
     "text": [
      "('76500605_L_MLO_1.dcm', 2)\n"
     ]
    },
    {
     "name": "stderr",
     "output_type": "stream",
     "text": [
      " 43%|████▎     | 568/1335 [16:20<26:56,  2.11s/it]WARNING:Lossy conversion from int64 to uint8. Range [15342, 16384]. Convert image to uint8 prior to saving to suppress this warning.\n",
      " 43%|████▎     | 569/1335 [16:21<23:55,  1.87s/it]"
     ]
    },
    {
     "name": "stdout",
     "output_type": "stream",
     "text": [
      "('76393393_R_CC_1.dcm', 3)\n"
     ]
    },
    {
     "name": "stderr",
     "output_type": "stream",
     "text": [
      "WARNING:Lossy conversion from int64 to uint8. Range [15383, 16384]. Convert image to uint8 prior to saving to suppress this warning.\n"
     ]
    },
    {
     "name": "stdout",
     "output_type": "stream",
     "text": [
      "('3540631_R_CC_1.dcm', 2)\n"
     ]
    },
    {
     "name": "stderr",
     "output_type": "stream",
     "text": [
      " 43%|████▎     | 570/1335 [16:23<25:13,  1.98s/it]WARNING:Lossy conversion from int64 to uint8. Range [15326, 16384]. Convert image to uint8 prior to saving to suppress this warning.\n"
     ]
    },
    {
     "name": "stdout",
     "output_type": "stream",
     "text": [
      "('75974175_L_CC_1.dcm', 2)\n"
     ]
    },
    {
     "name": "stderr",
     "output_type": "stream",
     "text": [
      " 43%|████▎     | 572/1335 [16:26<21:52,  1.72s/it]WARNING:Lossy conversion from int64 to uint8. Range [15360, 16384]. Convert image to uint8 prior to saving to suppress this warning.\n",
      " 43%|████▎     | 573/1335 [16:27<20:39,  1.63s/it]"
     ]
    },
    {
     "name": "stdout",
     "output_type": "stream",
     "text": [
      "('3623063_L_CC_1.dcm', 2)\n"
     ]
    },
    {
     "name": "stderr",
     "output_type": "stream",
     "text": [
      "WARNING:Lossy conversion from int64 to uint8. Range [15370, 16384]. Convert image to uint8 prior to saving to suppress this warning.\n"
     ]
    },
    {
     "name": "stdout",
     "output_type": "stream",
     "text": [
      "('3994568_R_CC_1.dcm', 2)\n"
     ]
    },
    {
     "name": "stderr",
     "output_type": "stream",
     "text": [
      " 43%|████▎     | 574/1335 [16:29<22:44,  1.79s/it]WARNING:Lossy conversion from int64 to uint8. Range [15365, 16384]. Convert image to uint8 prior to saving to suppress this warning.\n"
     ]
    },
    {
     "name": "stdout",
     "output_type": "stream",
     "text": [
      "('5265592_R_MLO_1.dcm', 2)\n"
     ]
    },
    {
     "name": "stderr",
     "output_type": "stream",
     "text": [
      " 43%|████▎     | 576/1335 [16:31<20:13,  1.60s/it]WARNING:Lossy conversion from int64 to uint8. Range [15526, 16384]. Convert image to uint8 prior to saving to suppress this warning.\n"
     ]
    },
    {
     "name": "stdout",
     "output_type": "stream",
     "text": [
      "('76109399_R_CC_1.dcm', 1)\n"
     ]
    },
    {
     "name": "stderr",
     "output_type": "stream",
     "text": [
      " 43%|████▎     | 577/1335 [16:34<22:31,  1.78s/it]WARNING:Lossy conversion from int64 to uint8. Range [15491, 16384]. Convert image to uint8 prior to saving to suppress this warning.\n"
     ]
    },
    {
     "name": "stdout",
     "output_type": "stream",
     "text": [
      "('75030937_R_MLO_1.dcm', 2)\n"
     ]
    },
    {
     "name": "stderr",
     "output_type": "stream",
     "text": [
      " 43%|████▎     | 578/1335 [16:36<23:51,  1.89s/it]WARNING:Lossy conversion from int64 to uint8. Range [15301, 16384]. Convert image to uint8 prior to saving to suppress this warning.\n"
     ]
    },
    {
     "name": "stdout",
     "output_type": "stream",
     "text": [
      "('4457116_L_MLO_1.dcm', 3)\n"
     ]
    },
    {
     "name": "stderr",
     "output_type": "stream",
     "text": [
      " 43%|████▎     | 579/1335 [16:38<25:03,  1.99s/it]WARNING:Lossy conversion from int64 to uint8. Range [15347, 16384]. Convert image to uint8 prior to saving to suppress this warning.\n"
     ]
    },
    {
     "name": "stdout",
     "output_type": "stream",
     "text": [
      "('76126435_R_CC_1.dcm', 2)\n"
     ]
    },
    {
     "name": "stderr",
     "output_type": "stream",
     "text": [
      " 43%|████▎     | 580/1335 [16:40<25:42,  2.04s/it]WARNING:Lossy conversion from int64 to uint8. Range [15344, 16384]. Convert image to uint8 prior to saving to suppress this warning.\n",
      " 44%|████▎     | 581/1335 [16:42<23:06,  1.84s/it]"
     ]
    },
    {
     "name": "stdout",
     "output_type": "stream",
     "text": [
      "('76447017_L_MLO_1.dcm', 3)\n"
     ]
    },
    {
     "name": "stderr",
     "output_type": "stream",
     "text": [
      "WARNING:Lossy conversion from int64 to uint8. Range [15312, 16384]. Convert image to uint8 prior to saving to suppress this warning.\n",
      " 44%|████▎     | 582/1335 [16:43<21:21,  1.70s/it]"
     ]
    },
    {
     "name": "stdout",
     "output_type": "stream",
     "text": [
      "('76582135_R_CC_1.dcm', 2)\n"
     ]
    },
    {
     "name": "stderr",
     "output_type": "stream",
     "text": [
      "WARNING:Lossy conversion from int64 to uint8. Range [15536, 16384]. Convert image to uint8 prior to saving to suppress this warning.\n"
     ]
    },
    {
     "name": "stdout",
     "output_type": "stream",
     "text": [
      "('76132751_R_CC_1.dcm', 2)\n"
     ]
    },
    {
     "name": "stderr",
     "output_type": "stream",
     "text": [
      " 44%|████▎     | 583/1335 [16:45<23:43,  1.89s/it]WARNING:Lossy conversion from int64 to uint8. Range [15475, 16384]. Convert image to uint8 prior to saving to suppress this warning.\n"
     ]
    },
    {
     "name": "stdout",
     "output_type": "stream",
     "text": [
      "('75002812_R_MLO_1.dcm', 2)\n"
     ]
    },
    {
     "name": "stderr",
     "output_type": "stream",
     "text": [
      " 44%|████▍     | 586/1335 [16:47<19:15,  1.54s/it]WARNING:Lossy conversion from int64 to uint8. Range [15395, 16384]. Convert image to uint8 prior to saving to suppress this warning.\n"
     ]
    },
    {
     "name": "stdout",
     "output_type": "stream",
     "text": [
      "('75030937_L_MLO_1.dcm', 2)\n"
     ]
    },
    {
     "name": "stderr",
     "output_type": "stream",
     "text": [
      " 44%|████▍     | 587/1335 [16:50<21:57,  1.76s/it]WARNING:Lossy conversion from int64 to uint8. Range [15360, 16384]. Convert image to uint8 prior to saving to suppress this warning.\n"
     ]
    },
    {
     "name": "stdout",
     "output_type": "stream",
     "text": [
      "('3805844_L_MLO_1.dcm', 2)\n"
     ]
    },
    {
     "name": "stderr",
     "output_type": "stream",
     "text": [
      " 44%|████▍     | 588/1335 [16:52<23:49,  1.91s/it]WARNING:Lossy conversion from int64 to uint8. Range [15116, 16384]. Convert image to uint8 prior to saving to suppress this warning.\n"
     ]
    },
    {
     "name": "stdout",
     "output_type": "stream",
     "text": [
      "('76483531_L_MLO_1.dcm', 2)\n"
     ]
    },
    {
     "name": "stderr",
     "output_type": "stream",
     "text": [
      " 44%|████▍     | 589/1335 [16:54<25:28,  2.05s/it]WARNING:Lossy conversion from int64 to uint8. Range [15307, 16384]. Convert image to uint8 prior to saving to suppress this warning.\n"
     ]
    },
    {
     "name": "stdout",
     "output_type": "stream",
     "text": [
      "('5261275_L_MLO_1.dcm', 2)\n"
     ]
    },
    {
     "name": "stderr",
     "output_type": "stream",
     "text": [
      " 44%|████▍     | 590/1335 [16:57<25:54,  2.09s/it]WARNING:Lossy conversion from int64 to uint8. Range [15395, 16384]. Convert image to uint8 prior to saving to suppress this warning.\n"
     ]
    },
    {
     "name": "stdout",
     "output_type": "stream",
     "text": [
      "('76147529_R_MLO_1.dcm', 2)\n"
     ]
    },
    {
     "name": "stderr",
     "output_type": "stream",
     "text": [
      " 44%|████▍     | 591/1335 [16:59<26:23,  2.13s/it]WARNING:Lossy conversion from int64 to uint8. Range [15296, 16384]. Convert image to uint8 prior to saving to suppress this warning.\n"
     ]
    },
    {
     "name": "stdout",
     "output_type": "stream",
     "text": [
      "('5252625_R_MLO_1.dcm', 2)\n"
     ]
    },
    {
     "name": "stderr",
     "output_type": "stream",
     "text": [
      " 44%|████▍     | 592/1335 [17:01<26:52,  2.17s/it]WARNING:Lossy conversion from int64 to uint8. Range [15467, 16384]. Convert image to uint8 prior to saving to suppress this warning.\n"
     ]
    },
    {
     "name": "stdout",
     "output_type": "stream",
     "text": [
      "('4310319_L_CC_1.dcm', 2)\n"
     ]
    },
    {
     "name": "stderr",
     "output_type": "stream",
     "text": [
      " 44%|████▍     | 593/1335 [17:03<26:51,  2.17s/it]WARNING:Lossy conversion from int64 to uint8. Range [15293, 16384]. Convert image to uint8 prior to saving to suppress this warning.\n"
     ]
    },
    {
     "name": "stdout",
     "output_type": "stream",
     "text": [
      "('4340598_L_MLO_1.dcm', 1)\n"
     ]
    },
    {
     "name": "stderr",
     "output_type": "stream",
     "text": [
      " 44%|████▍     | 594/1335 [17:05<27:08,  2.20s/it]WARNING:Lossy conversion from int64 to uint8. Range [15349, 16384]. Convert image to uint8 prior to saving to suppress this warning.\n"
     ]
    },
    {
     "name": "stdout",
     "output_type": "stream",
     "text": [
      "('76405255_R_CC_1.dcm', 2)\n"
     ]
    },
    {
     "name": "stderr",
     "output_type": "stream",
     "text": [
      " 45%|████▍     | 597/1335 [17:08<21:39,  1.76s/it]WARNING:Lossy conversion from int64 to uint8. Range [15407, 16384]. Convert image to uint8 prior to saving to suppress this warning.\n"
     ]
    },
    {
     "name": "stdout",
     "output_type": "stream",
     "text": [
      "('3602828_R_CC_1.dcm', 1)\n"
     ]
    },
    {
     "name": "stderr",
     "output_type": "stream",
     "text": [
      " 45%|████▍     | 598/1335 [17:10<23:39,  1.93s/it]WARNING:Lossy conversion from int64 to uint8. Range [15453, 16384]. Convert image to uint8 prior to saving to suppress this warning.\n"
     ]
    },
    {
     "name": "stdout",
     "output_type": "stream",
     "text": [
      "('5185724_R_CC_1.dcm', 3)\n"
     ]
    },
    {
     "name": "stderr",
     "output_type": "stream",
     "text": [
      " 45%|████▍     | 599/1335 [17:12<24:40,  2.01s/it]WARNING:Lossy conversion from int64 to uint8. Range [15389, 16384]. Convert image to uint8 prior to saving to suppress this warning.\n"
     ]
    },
    {
     "name": "stdout",
     "output_type": "stream",
     "text": [
      "('5231733_R_CC_1.dcm', 3)\n"
     ]
    },
    {
     "name": "stderr",
     "output_type": "stream",
     "text": [
      " 45%|████▍     | 600/1335 [17:14<25:32,  2.08s/it]WARNING:Lossy conversion from int64 to uint8. Range [15200, 16384]. Convert image to uint8 prior to saving to suppress this warning.\n"
     ]
    },
    {
     "name": "stdout",
     "output_type": "stream",
     "text": [
      "('5169104_R_MLO_1.dcm', 2)\n"
     ]
    },
    {
     "name": "stderr",
     "output_type": "stream",
     "text": [
      " 45%|████▌     | 601/1335 [17:17<26:15,  2.15s/it]WARNING:Lossy conversion from int64 to uint8. Range [15430, 16384]. Convert image to uint8 prior to saving to suppress this warning.\n"
     ]
    },
    {
     "name": "stdout",
     "output_type": "stream",
     "text": [
      "('5284119_R_CC_1.dcm', 2)\n"
     ]
    },
    {
     "name": "stderr",
     "output_type": "stream",
     "text": [
      " 45%|████▌     | 602/1335 [17:19<26:20,  2.16s/it]WARNING:Lossy conversion from int64 to uint8. Range [15409, 16384]. Convert image to uint8 prior to saving to suppress this warning.\n",
      " 45%|████▌     | 603/1335 [17:20<23:26,  1.92s/it]"
     ]
    },
    {
     "name": "stdout",
     "output_type": "stream",
     "text": [
      "('75076389_L_MLO_1.dcm', 3)\n"
     ]
    },
    {
     "name": "stderr",
     "output_type": "stream",
     "text": [
      "WARNING:Lossy conversion from int64 to uint8. Range [15352, 16384]. Convert image to uint8 prior to saving to suppress this warning.\n",
      " 45%|████▌     | 604/1335 [17:22<21:24,  1.76s/it]"
     ]
    },
    {
     "name": "stdout",
     "output_type": "stream",
     "text": [
      "('76243793_R_CC_1.dcm', 2)\n"
     ]
    },
    {
     "name": "stderr",
     "output_type": "stream",
     "text": [
      "WARNING:Lossy conversion from int64 to uint8. Range [15277, 16384]. Convert image to uint8 prior to saving to suppress this warning.\n"
     ]
    },
    {
     "name": "stdout",
     "output_type": "stream",
     "text": [
      "('76561510_L_MLO_1.dcm', 1)\n"
     ]
    },
    {
     "name": "stderr",
     "output_type": "stream",
     "text": [
      " 45%|████▌     | 605/1335 [17:24<22:54,  1.88s/it]WARNING:Lossy conversion from int64 to uint8. Range [15566, 16384]. Convert image to uint8 prior to saving to suppress this warning.\n",
      " 45%|████▌     | 606/1335 [17:25<21:00,  1.73s/it]"
     ]
    },
    {
     "name": "stdout",
     "output_type": "stream",
     "text": [
      "('5156000_R_CC_1.dcm', 2)\n"
     ]
    },
    {
     "name": "stderr",
     "output_type": "stream",
     "text": [
      "WARNING:Lossy conversion from int64 to uint8. Range [15421, 16384]. Convert image to uint8 prior to saving to suppress this warning.\n"
     ]
    },
    {
     "name": "stdout",
     "output_type": "stream",
     "text": [
      "('76206248_R_CC_1.dcm', 3)\n"
     ]
    },
    {
     "name": "stderr",
     "output_type": "stream",
     "text": [
      " 45%|████▌     | 607/1335 [17:27<22:28,  1.85s/it]WARNING:Lossy conversion from int64 to uint8. Range [15429, 16384]. Convert image to uint8 prior to saving to suppress this warning.\n"
     ]
    },
    {
     "name": "stdout",
     "output_type": "stream",
     "text": [
      "('75019468_R_MLO_1.dcm', 2)\n"
     ]
    },
    {
     "name": "stderr",
     "output_type": "stream",
     "text": [
      " 46%|████▌     | 608/1335 [17:30<23:49,  1.97s/it]WARNING:Lossy conversion from int64 to uint8. Range [15354, 16384]. Convert image to uint8 prior to saving to suppress this warning.\n"
     ]
    },
    {
     "name": "stdout",
     "output_type": "stream",
     "text": [
      "('76561510_L_CC_1.dcm', 1)\n"
     ]
    },
    {
     "name": "stderr",
     "output_type": "stream",
     "text": [
      " 46%|████▌     | 609/1335 [17:32<25:00,  2.07s/it]WARNING:Lossy conversion from int64 to uint8. Range [15375, 16384]. Convert image to uint8 prior to saving to suppress this warning.\n",
      " 46%|████▌     | 611/1335 [17:33<19:57,  1.65s/it]"
     ]
    },
    {
     "name": "stdout",
     "output_type": "stream",
     "text": [
      "('5220478_R_CC_1.dcm', 2)\n"
     ]
    },
    {
     "name": "stderr",
     "output_type": "stream",
     "text": [
      "WARNING:Lossy conversion from int64 to uint8. Range [15341, 16384]. Convert image to uint8 prior to saving to suppress this warning.\n",
      " 46%|████▌     | 612/1335 [17:35<18:51,  1.56s/it]"
     ]
    },
    {
     "name": "stdout",
     "output_type": "stream",
     "text": [
      "('5156000_R_MLO_1.dcm', 2)\n"
     ]
    },
    {
     "name": "stderr",
     "output_type": "stream",
     "text": [
      "WARNING:Lossy conversion from int64 to uint8. Range [15311, 16384]. Convert image to uint8 prior to saving to suppress this warning.\n",
      " 46%|████▌     | 613/1335 [17:36<18:03,  1.50s/it]"
     ]
    },
    {
     "name": "stdout",
     "output_type": "stream",
     "text": [
      "('76447017_R_MLO_1.dcm', 3)\n"
     ]
    },
    {
     "name": "stderr",
     "output_type": "stream",
     "text": [
      "WARNING:Lossy conversion from int64 to uint8. Range [15464, 16384]. Convert image to uint8 prior to saving to suppress this warning.\n"
     ]
    },
    {
     "name": "stdout",
     "output_type": "stream",
     "text": [
      "('75045968_R_MLO_1.dcm', 3)\n"
     ]
    },
    {
     "name": "stderr",
     "output_type": "stream",
     "text": [
      " 46%|████▌     | 616/1335 [17:38<15:12,  1.27s/it]WARNING:Lossy conversion from int64 to uint8. Range [15192, 16384]. Convert image to uint8 prior to saving to suppress this warning.\n"
     ]
    },
    {
     "name": "stdout",
     "output_type": "stream",
     "text": [
      "('75977708_L_MLO_1.dcm', 2)\n"
     ]
    },
    {
     "name": "stderr",
     "output_type": "stream",
     "text": [
      " 46%|████▋     | 618/1335 [17:40<14:38,  1.22s/it]WARNING:Lossy conversion from int64 to uint8. Range [15241, 16384]. Convert image to uint8 prior to saving to suppress this warning.\n",
      " 46%|████▋     | 619/1335 [17:42<15:00,  1.26s/it]"
     ]
    },
    {
     "name": "stdout",
     "output_type": "stream",
     "text": [
      "('76194054_L_MLO_1.dcm', 2)\n"
     ]
    },
    {
     "name": "stderr",
     "output_type": "stream",
     "text": [
      "WARNING:Lossy conversion from int64 to uint8. Range [15240, 16384]. Convert image to uint8 prior to saving to suppress this warning.\n"
     ]
    },
    {
     "name": "stdout",
     "output_type": "stream",
     "text": [
      "('75010093_R_MLO_1.dcm', 2)\n"
     ]
    },
    {
     "name": "stderr",
     "output_type": "stream",
     "text": [
      " 46%|████▋     | 620/1335 [17:44<18:06,  1.52s/it]WARNING:Lossy conversion from int64 to uint8. Range [15404, 16384]. Convert image to uint8 prior to saving to suppress this warning.\n",
      " 47%|████▋     | 621/1335 [17:45<17:23,  1.46s/it]"
     ]
    },
    {
     "name": "stdout",
     "output_type": "stream",
     "text": [
      "('5185935_L_CC_1.dcm', 2)\n"
     ]
    },
    {
     "name": "stderr",
     "output_type": "stream",
     "text": [
      "WARNING:Lossy conversion from int64 to uint8. Range [15072, 16384]. Convert image to uint8 prior to saving to suppress this warning.\n"
     ]
    },
    {
     "name": "stdout",
     "output_type": "stream",
     "text": [
      "('76372826_L_MLO_1.dcm', 2)\n"
     ]
    },
    {
     "name": "stderr",
     "output_type": "stream",
     "text": [
      " 47%|████▋     | 622/1335 [17:47<19:58,  1.68s/it]WARNING:Lossy conversion from int64 to uint8. Range [15436, 16384]. Convert image to uint8 prior to saving to suppress this warning.\n"
     ]
    },
    {
     "name": "stdout",
     "output_type": "stream",
     "text": [
      "('76077695_L_MLO_1.dcm', 1)\n"
     ]
    },
    {
     "name": "stderr",
     "output_type": "stream",
     "text": [
      " 47%|████▋     | 623/1335 [17:50<21:47,  1.84s/it]WARNING:Lossy conversion from int64 to uint8. Range [15411, 16384]. Convert image to uint8 prior to saving to suppress this warning.\n"
     ]
    },
    {
     "name": "stdout",
     "output_type": "stream",
     "text": [
      "('5149219_R_CC_1.dcm', 2)\n"
     ]
    },
    {
     "name": "stderr",
     "output_type": "stream",
     "text": [
      " 47%|████▋     | 624/1335 [17:52<23:01,  1.94s/it]WARNING:Lossy conversion from int64 to uint8. Range [15320, 16384]. Convert image to uint8 prior to saving to suppress this warning.\n"
     ]
    },
    {
     "name": "stdout",
     "output_type": "stream",
     "text": [
      "('5169089_L_CC_1.dcm', 2)\n"
     ]
    },
    {
     "name": "stderr",
     "output_type": "stream",
     "text": [
      " 47%|████▋     | 625/1335 [17:54<24:16,  2.05s/it]WARNING:Lossy conversion from int64 to uint8. Range [15363, 16384]. Convert image to uint8 prior to saving to suppress this warning.\n"
     ]
    },
    {
     "name": "stdout",
     "output_type": "stream",
     "text": [
      "('3882314_L_MLO_1.dcm', 2)\n"
     ]
    },
    {
     "name": "stderr",
     "output_type": "stream",
     "text": [
      " 47%|████▋     | 627/1335 [17:56<20:44,  1.76s/it]WARNING:Lossy conversion from int64 to uint8. Range [15374, 16384]. Convert image to uint8 prior to saving to suppress this warning.\n"
     ]
    },
    {
     "name": "stdout",
     "output_type": "stream",
     "text": [
      "('5231733_L_MLO_1.dcm', 3)\n"
     ]
    },
    {
     "name": "stderr",
     "output_type": "stream",
     "text": [
      " 47%|████▋     | 628/1335 [17:58<22:09,  1.88s/it]WARNING:Lossy conversion from int64 to uint8. Range [15309, 16384]. Convert image to uint8 prior to saving to suppress this warning.\n",
      " 47%|████▋     | 629/1335 [18:00<20:18,  1.73s/it]"
     ]
    },
    {
     "name": "stdout",
     "output_type": "stream",
     "text": [
      "('5220478_L_MLO_1.dcm', 2)\n"
     ]
    },
    {
     "name": "stderr",
     "output_type": "stream",
     "text": [
      "WARNING:Lossy conversion from int64 to uint8. Range [15050, 16384]. Convert image to uint8 prior to saving to suppress this warning.\n"
     ]
    },
    {
     "name": "stdout",
     "output_type": "stream",
     "text": [
      "('76350365_R_CC_1.dcm', 2)\n"
     ]
    },
    {
     "name": "stderr",
     "output_type": "stream",
     "text": [
      " 47%|████▋     | 630/1335 [18:02<21:53,  1.86s/it]WARNING:Lossy conversion from int64 to uint8. Range [15361, 16384]. Convert image to uint8 prior to saving to suppress this warning.\n",
      " 47%|████▋     | 631/1335 [18:03<20:06,  1.71s/it]"
     ]
    },
    {
     "name": "stdout",
     "output_type": "stream",
     "text": [
      "('5273834_R_CC_1.dcm', 2)\n"
     ]
    },
    {
     "name": "stderr",
     "output_type": "stream",
     "text": [
      "WARNING:Lossy conversion from int64 to uint8. Range [15324, 16384]. Convert image to uint8 prior to saving to suppress this warning.\n"
     ]
    },
    {
     "name": "stdout",
     "output_type": "stream",
     "text": [
      "('3587543_R_MLO_1.dcm', 1)\n"
     ]
    },
    {
     "name": "stderr",
     "output_type": "stream",
     "text": [
      " 47%|████▋     | 632/1335 [18:06<21:42,  1.85s/it]WARNING:Lossy conversion from int64 to uint8. Range [15351, 16384]. Convert image to uint8 prior to saving to suppress this warning.\n"
     ]
    },
    {
     "name": "stdout",
     "output_type": "stream",
     "text": [
      "('4310319_R_MLO_1.dcm', 2)\n"
     ]
    },
    {
     "name": "stderr",
     "output_type": "stream",
     "text": [
      " 47%|████▋     | 633/1335 [18:08<22:39,  1.94s/it]WARNING:Lossy conversion from int64 to uint8. Range [15539, 16384]. Convert image to uint8 prior to saving to suppress this warning.\n"
     ]
    },
    {
     "name": "stdout",
     "output_type": "stream",
     "text": [
      "('4340598_R_CC_1.dcm', 1)\n"
     ]
    },
    {
     "name": "stderr",
     "output_type": "stream",
     "text": [
      " 47%|████▋     | 634/1335 [18:10<23:24,  2.00s/it]WARNING:Lossy conversion from int64 to uint8. Range [15483, 16384]. Convert image to uint8 prior to saving to suppress this warning.\n"
     ]
    },
    {
     "name": "stdout",
     "output_type": "stream",
     "text": [
      "('5182867_R_CC_1.dcm', 2)\n"
     ]
    },
    {
     "name": "stderr",
     "output_type": "stream",
     "text": [
      " 48%|████▊     | 635/1335 [18:12<23:51,  2.04s/it]WARNING:Lossy conversion from int64 to uint8. Range [15606, 16384]. Convert image to uint8 prior to saving to suppress this warning.\n"
     ]
    },
    {
     "name": "stdout",
     "output_type": "stream",
     "text": [
      "('76175539_L_CC_1.dcm', 2)\n"
     ]
    },
    {
     "name": "stderr",
     "output_type": "stream",
     "text": [
      " 48%|████▊     | 636/1335 [18:14<24:33,  2.11s/it]WARNING:Lossy conversion from int64 to uint8. Range [15178, 16384]. Convert image to uint8 prior to saving to suppress this warning.\n"
     ]
    },
    {
     "name": "stdout",
     "output_type": "stream",
     "text": [
      "('3860066_R_CC_1.dcm', 2)\n"
     ]
    },
    {
     "name": "stderr",
     "output_type": "stream",
     "text": [
      " 48%|████▊     | 637/1335 [18:17<25:14,  2.17s/it]WARNING:Lossy conversion from int64 to uint8. Range [15377, 16384]. Convert image to uint8 prior to saving to suppress this warning.\n"
     ]
    },
    {
     "name": "stdout",
     "output_type": "stream",
     "text": [
      "('76544026_L_MLO_1.dcm', 2)\n"
     ]
    },
    {
     "name": "stderr",
     "output_type": "stream",
     "text": [
      " 48%|████▊     | 638/1335 [18:19<25:15,  2.17s/it]WARNING:Lossy conversion from int64 to uint8. Range [15435, 16384]. Convert image to uint8 prior to saving to suppress this warning.\n"
     ]
    },
    {
     "name": "stdout",
     "output_type": "stream",
     "text": [
      "('75046480_L_MLO_1.dcm', 1)\n"
     ]
    },
    {
     "name": "stderr",
     "output_type": "stream",
     "text": [
      " 48%|████▊     | 639/1335 [18:21<25:26,  2.19s/it]WARNING:Lossy conversion from int64 to uint8. Range [15560, 16384]. Convert image to uint8 prior to saving to suppress this warning.\n"
     ]
    },
    {
     "name": "stdout",
     "output_type": "stream",
     "text": [
      "('75972630_L_CC_1.dcm', 2)\n"
     ]
    },
    {
     "name": "stderr",
     "output_type": "stream",
     "text": [
      " 48%|████▊     | 640/1335 [18:23<25:23,  2.19s/it]WARNING:Lossy conversion from int64 to uint8. Range [15360, 16384]. Convert image to uint8 prior to saving to suppress this warning.\n"
     ]
    },
    {
     "name": "stdout",
     "output_type": "stream",
     "text": [
      "('76206037_L_CC_1.dcm', 1)\n"
     ]
    },
    {
     "name": "stderr",
     "output_type": "stream",
     "text": [
      " 48%|████▊     | 643/1335 [18:25<20:14,  1.76s/it]WARNING:Lossy conversion from int64 to uint8. Range [15303, 16384]. Convert image to uint8 prior to saving to suppress this warning.\n",
      " 48%|████▊     | 644/1335 [18:27<18:52,  1.64s/it]"
     ]
    },
    {
     "name": "stdout",
     "output_type": "stream",
     "text": [
      "('76541983_R_CC_1.dcm', 2)\n"
     ]
    },
    {
     "name": "stderr",
     "output_type": "stream",
     "text": [
      "WARNING:Lossy conversion from int64 to uint8. Range [15542, 16384]. Convert image to uint8 prior to saving to suppress this warning.\n"
     ]
    },
    {
     "name": "stdout",
     "output_type": "stream",
     "text": [
      "('5209804_L_CC_1.dcm', 2)\n"
     ]
    },
    {
     "name": "stderr",
     "output_type": "stream",
     "text": [
      " 48%|████▊     | 645/1335 [18:29<21:02,  1.83s/it]WARNING:Lossy conversion from int64 to uint8. Range [15188, 16384]. Convert image to uint8 prior to saving to suppress this warning.\n"
     ]
    },
    {
     "name": "stdout",
     "output_type": "stream",
     "text": [
      "('4441082_R_CC_1.dcm', 2)\n"
     ]
    },
    {
     "name": "stderr",
     "output_type": "stream",
     "text": [
      " 48%|████▊     | 646/1335 [18:31<22:33,  1.96s/it]WARNING:Lossy conversion from int64 to uint8. Range [15301, 16384]. Convert image to uint8 prior to saving to suppress this warning.\n"
     ]
    },
    {
     "name": "stdout",
     "output_type": "stream",
     "text": [
      "('5207299_R_MLO_1.dcm', 1)\n"
     ]
    },
    {
     "name": "stderr",
     "output_type": "stream",
     "text": [
      " 48%|████▊     | 647/1335 [18:33<23:23,  2.04s/it]WARNING:Lossy conversion from int64 to uint8. Range [15357, 16384]. Convert image to uint8 prior to saving to suppress this warning.\n",
      " 49%|████▊     | 648/1335 [18:35<21:01,  1.84s/it]"
     ]
    },
    {
     "name": "stdout",
     "output_type": "stream",
     "text": [
      "('75008788_L_MLO_1.dcm', 3)\n"
     ]
    },
    {
     "name": "stderr",
     "output_type": "stream",
     "text": [
      "WARNING:Lossy conversion from int64 to uint8. Range [15139, 16384]. Convert image to uint8 prior to saving to suppress this warning.\n",
      " 49%|████▊     | 650/1335 [18:36<16:58,  1.49s/it]"
     ]
    },
    {
     "name": "stdout",
     "output_type": "stream",
     "text": [
      "('5242557_L_MLO_1.dcm', 2)\n"
     ]
    },
    {
     "name": "stderr",
     "output_type": "stream",
     "text": [
      "WARNING:Lossy conversion from int64 to uint8. Range [15343, 16384]. Convert image to uint8 prior to saving to suppress this warning.\n"
     ]
    },
    {
     "name": "stdout",
     "output_type": "stream",
     "text": [
      "('4518967_R_CC_1.dcm', 2)\n"
     ]
    },
    {
     "name": "stderr",
     "output_type": "stream",
     "text": [
      " 49%|████▉     | 651/1335 [18:38<19:28,  1.71s/it]WARNING:Lossy conversion from int64 to uint8. Range [15321, 16384]. Convert image to uint8 prior to saving to suppress this warning.\n"
     ]
    },
    {
     "name": "stdout",
     "output_type": "stream",
     "text": [
      "('5163328_L_MLO_1.dcm', 2)\n"
     ]
    },
    {
     "name": "stderr",
     "output_type": "stream",
     "text": [
      " 49%|████▉     | 652/1335 [18:41<21:07,  1.86s/it]WARNING:Lossy conversion from int64 to uint8. Range [15353, 16384]. Convert image to uint8 prior to saving to suppress this warning.\n"
     ]
    },
    {
     "name": "stdout",
     "output_type": "stream",
     "text": [
      "('76380804_R_MLO_1.dcm', 2)\n"
     ]
    },
    {
     "name": "stderr",
     "output_type": "stream",
     "text": [
      " 49%|████▉     | 653/1335 [18:43<22:17,  1.96s/it]WARNING:Lossy conversion from int64 to uint8. Range [15249, 16384]. Convert image to uint8 prior to saving to suppress this warning.\n",
      " 49%|████▉     | 654/1335 [18:44<20:06,  1.77s/it]"
     ]
    },
    {
     "name": "stdout",
     "output_type": "stream",
     "text": [
      "('76112297_L_MLO_1.dcm', 2)\n"
     ]
    },
    {
     "name": "stderr",
     "output_type": "stream",
     "text": [
      "WARNING:Lossy conversion from int64 to uint8. Range [15402, 16384]. Convert image to uint8 prior to saving to suppress this warning.\n"
     ]
    },
    {
     "name": "stdout",
     "output_type": "stream",
     "text": [
      "('3822882_L_CC_1.dcm', 3)\n"
     ]
    },
    {
     "name": "stderr",
     "output_type": "stream",
     "text": [
      " 49%|████▉     | 655/1335 [18:46<21:18,  1.88s/it]WARNING:Lossy conversion from int64 to uint8. Range [15381, 16384]. Convert image to uint8 prior to saving to suppress this warning.\n"
     ]
    },
    {
     "name": "stdout",
     "output_type": "stream",
     "text": [
      "('5290178_L_MLO_1.dcm', 1)\n"
     ]
    },
    {
     "name": "stderr",
     "output_type": "stream",
     "text": [
      " 49%|████▉     | 656/1335 [18:48<22:18,  1.97s/it]WARNING:Lossy conversion from int64 to uint8. Range [15283, 16384]. Convert image to uint8 prior to saving to suppress this warning.\n"
     ]
    },
    {
     "name": "stdout",
     "output_type": "stream",
     "text": [
      "('4531219_R_CC_1.dcm', 3)\n"
     ]
    },
    {
     "name": "stderr",
     "output_type": "stream",
     "text": [
      " 49%|████▉     | 657/1335 [18:51<23:03,  2.04s/it]WARNING:Lossy conversion from int64 to uint8. Range [15306, 16384]. Convert image to uint8 prior to saving to suppress this warning.\n",
      " 49%|████▉     | 658/1335 [18:52<20:59,  1.86s/it]"
     ]
    },
    {
     "name": "stdout",
     "output_type": "stream",
     "text": [
      "('75038187_L_CC_1.dcm', 3)\n"
     ]
    },
    {
     "name": "stderr",
     "output_type": "stream",
     "text": [
      "WARNING:Lossy conversion from int64 to uint8. Range [15305, 16384]. Convert image to uint8 prior to saving to suppress this warning.\n"
     ]
    },
    {
     "name": "stdout",
     "output_type": "stream",
     "text": [
      "('76062746_R_MLO_1.dcm', 1)\n"
     ]
    },
    {
     "name": "stderr",
     "output_type": "stream",
     "text": [
      " 49%|████▉     | 659/1335 [18:54<22:43,  2.02s/it]WARNING:Lossy conversion from int64 to uint8. Range [15482, 16384]. Convert image to uint8 prior to saving to suppress this warning.\n"
     ]
    },
    {
     "name": "stdout",
     "output_type": "stream",
     "text": [
      "('4339045_L_CC_1.dcm', 2)\n"
     ]
    },
    {
     "name": "stderr",
     "output_type": "stream",
     "text": [
      " 49%|████▉     | 660/1335 [18:57<23:13,  2.06s/it]WARNING:Lossy conversion from int64 to uint8. Range [15423, 16384]. Convert image to uint8 prior to saving to suppress this warning.\n"
     ]
    },
    {
     "name": "stdout",
     "output_type": "stream",
     "text": [
      "('76272378_L_CC_1.dcm', 2)\n"
     ]
    },
    {
     "name": "stderr",
     "output_type": "stream",
     "text": [
      " 50%|████▉     | 661/1335 [18:59<23:54,  2.13s/it]WARNING:Lossy conversion from int64 to uint8. Range [15448, 16384]. Convert image to uint8 prior to saving to suppress this warning.\n"
     ]
    },
    {
     "name": "stdout",
     "output_type": "stream",
     "text": [
      "('3994568_L_CC_1.dcm', 2)\n"
     ]
    },
    {
     "name": "stderr",
     "output_type": "stream",
     "text": [
      " 50%|████▉     | 662/1335 [19:01<24:25,  2.18s/it]WARNING:Lossy conversion from int64 to uint8. Range [15251, 16384]. Convert image to uint8 prior to saving to suppress this warning.\n"
     ]
    },
    {
     "name": "stdout",
     "output_type": "stream",
     "text": [
      "('76473823_L_CC_1.dcm', 2)\n"
     ]
    },
    {
     "name": "stderr",
     "output_type": "stream",
     "text": [
      " 50%|████▉     | 663/1335 [19:03<24:21,  2.18s/it]WARNING:Lossy conversion from int64 to uint8. Range [15399, 16384]. Convert image to uint8 prior to saving to suppress this warning.\n"
     ]
    },
    {
     "name": "stdout",
     "output_type": "stream",
     "text": [
      "('75030937_R_CC_1.dcm', 2)\n"
     ]
    },
    {
     "name": "stderr",
     "output_type": "stream",
     "text": [
      " 50%|████▉     | 665/1335 [19:06<20:43,  1.86s/it]WARNING:Lossy conversion from int64 to uint8. Range [15256, 16384]. Convert image to uint8 prior to saving to suppress this warning.\n"
     ]
    },
    {
     "name": "stdout",
     "output_type": "stream",
     "text": [
      "('75010093_L_MLO_1.dcm', 2)\n"
     ]
    },
    {
     "name": "stderr",
     "output_type": "stream",
     "text": [
      " 50%|████▉     | 666/1335 [19:08<21:37,  1.94s/it]WARNING:Lossy conversion from int64 to uint8. Range [15546, 16384]. Convert image to uint8 prior to saving to suppress this warning.\n"
     ]
    },
    {
     "name": "stdout",
     "output_type": "stream",
     "text": [
      "('5294007_R_CC_1.dcm', 2)\n"
     ]
    },
    {
     "name": "stderr",
     "output_type": "stream",
     "text": [
      " 50%|████▉     | 667/1335 [19:10<22:27,  2.02s/it]WARNING:Lossy conversion from int64 to uint8. Range [15433, 16384]. Convert image to uint8 prior to saving to suppress this warning.\n"
     ]
    },
    {
     "name": "stdout",
     "output_type": "stream",
     "text": [
      "('75002812_L_CC_1.dcm', 2)\n"
     ]
    },
    {
     "name": "stderr",
     "output_type": "stream",
     "text": [
      " 50%|█████     | 668/1335 [19:12<22:45,  2.05s/it]WARNING:Lossy conversion from int64 to uint8. Range [15382, 16384]. Convert image to uint8 prior to saving to suppress this warning.\n"
     ]
    },
    {
     "name": "stdout",
     "output_type": "stream",
     "text": [
      "('4456855_L_MLO_1.dcm', 1)\n"
     ]
    },
    {
     "name": "stderr",
     "output_type": "stream",
     "text": [
      " 50%|█████     | 669/1335 [19:14<23:22,  2.11s/it]WARNING:Lossy conversion from int64 to uint8. Range [15332, 16384]. Convert image to uint8 prior to saving to suppress this warning.\n"
     ]
    },
    {
     "name": "stdout",
     "output_type": "stream",
     "text": [
      "('76589784_R_MLO_1.dcm', 2)\n"
     ]
    },
    {
     "name": "stderr",
     "output_type": "stream",
     "text": [
      " 50%|█████     | 670/1335 [19:17<24:03,  2.17s/it]WARNING:Lossy conversion from int64 to uint8. Range [15337, 16384]. Convert image to uint8 prior to saving to suppress this warning.\n"
     ]
    },
    {
     "name": "stdout",
     "output_type": "stream",
     "text": [
      "('76473823_R_CC_1.dcm', 2)\n"
     ]
    },
    {
     "name": "stderr",
     "output_type": "stream",
     "text": [
      " 50%|█████     | 671/1335 [19:19<24:07,  2.18s/it]WARNING:Lossy conversion from int64 to uint8. Range [15293, 16384]. Convert image to uint8 prior to saving to suppress this warning.\n",
      " 50%|█████     | 672/1335 [19:20<21:45,  1.97s/it]"
     ]
    },
    {
     "name": "stdout",
     "output_type": "stream",
     "text": [
      "('76541983_L_CC_1.dcm', 2)\n"
     ]
    },
    {
     "name": "stderr",
     "output_type": "stream",
     "text": [
      "WARNING:Lossy conversion from int64 to uint8. Range [15331, 16384]. Convert image to uint8 prior to saving to suppress this warning.\n"
     ]
    },
    {
     "name": "stdout",
     "output_type": "stream",
     "text": [
      "('3991880_L_CC_1.dcm', 2)\n"
     ]
    },
    {
     "name": "stderr",
     "output_type": "stream",
     "text": [
      " 50%|█████     | 673/1335 [19:22<22:24,  2.03s/it]WARNING:Lossy conversion from int64 to uint8. Range [15338, 16384]. Convert image to uint8 prior to saving to suppress this warning.\n",
      " 51%|█████     | 675/1335 [19:24<17:54,  1.63s/it]"
     ]
    },
    {
     "name": "stdout",
     "output_type": "stream",
     "text": [
      "('76033548_R_CC_1.dcm', 2)\n"
     ]
    },
    {
     "name": "stderr",
     "output_type": "stream",
     "text": [
      "WARNING:Lossy conversion from int64 to uint8. Range [15216, 16384]. Convert image to uint8 prior to saving to suppress this warning.\n",
      " 51%|█████     | 676/1335 [19:25<17:09,  1.56s/it]"
     ]
    },
    {
     "name": "stdout",
     "output_type": "stream",
     "text": [
      "('76483593_R_MLO_1.dcm', 2)\n"
     ]
    },
    {
     "name": "stderr",
     "output_type": "stream",
     "text": [
      "WARNING:Lossy conversion from int64 to uint8. Range [15305, 16384]. Convert image to uint8 prior to saving to suppress this warning.\n",
      " 51%|█████     | 677/1335 [19:27<16:26,  1.50s/it]"
     ]
    },
    {
     "name": "stdout",
     "output_type": "stream",
     "text": [
      "('3972153_R_MLO_1.dcm', 2)\n"
     ]
    },
    {
     "name": "stderr",
     "output_type": "stream",
     "text": [
      "WARNING:Lossy conversion from int64 to uint8. Range [15207, 16384]. Convert image to uint8 prior to saving to suppress this warning.\n"
     ]
    },
    {
     "name": "stdout",
     "output_type": "stream",
     "text": [
      "('3563284_L_MLO_1.dcm', 2)\n"
     ]
    },
    {
     "name": "stderr",
     "output_type": "stream",
     "text": [
      " 51%|█████     | 678/1335 [19:29<18:46,  1.71s/it]WARNING:Lossy conversion from int64 to uint8. Range [15348, 16384]. Convert image to uint8 prior to saving to suppress this warning.\n",
      " 51%|█████     | 680/1335 [19:30<15:14,  1.40s/it]"
     ]
    },
    {
     "name": "stdout",
     "output_type": "stream",
     "text": [
      "('76243752_L_CC_1.dcm', 4)\n"
     ]
    },
    {
     "name": "stderr",
     "output_type": "stream",
     "text": [
      "WARNING:Lossy conversion from int64 to uint8. Range [15421, 16384]. Convert image to uint8 prior to saving to suppress this warning.\n"
     ]
    },
    {
     "name": "stdout",
     "output_type": "stream",
     "text": [
      "('5179559_R_MLO_1.dcm', 1)\n"
     ]
    },
    {
     "name": "stderr",
     "output_type": "stream",
     "text": [
      " 51%|█████     | 681/1335 [19:32<18:05,  1.66s/it]WARNING:Lossy conversion from int64 to uint8. Range [15539, 16384]. Convert image to uint8 prior to saving to suppress this warning.\n"
     ]
    },
    {
     "name": "stdout",
     "output_type": "stream",
     "text": [
      "('4318343_R_CC_1.dcm', 1)\n"
     ]
    },
    {
     "name": "stderr",
     "output_type": "stream",
     "text": [
      " 51%|█████     | 682/1335 [19:35<19:38,  1.80s/it]WARNING:Lossy conversion from int64 to uint8. Range [15303, 16384]. Convert image to uint8 prior to saving to suppress this warning.\n",
      " 51%|█████     | 683/1335 [19:36<18:06,  1.67s/it]"
     ]
    },
    {
     "name": "stdout",
     "output_type": "stream",
     "text": [
      "('75910199_R_MLO_1.dcm', 4)\n"
     ]
    },
    {
     "name": "stderr",
     "output_type": "stream",
     "text": [
      "WARNING:Lossy conversion from int64 to uint8. Range [15359, 16384]. Convert image to uint8 prior to saving to suppress this warning.\n"
     ]
    },
    {
     "name": "stdout",
     "output_type": "stream",
     "text": [
      "('3623181_L_CC_1.dcm', 2)\n"
     ]
    },
    {
     "name": "stderr",
     "output_type": "stream",
     "text": [
      " 51%|█████     | 684/1335 [19:38<19:48,  1.83s/it]WARNING:Lossy conversion from int64 to uint8. Range [15276, 16384]. Convert image to uint8 prior to saving to suppress this warning.\n",
      " 51%|█████▏    | 686/1335 [19:39<16:00,  1.48s/it]"
     ]
    },
    {
     "name": "stdout",
     "output_type": "stream",
     "text": [
      "('5185935_R_MLO_1.dcm', 2)\n"
     ]
    },
    {
     "name": "stderr",
     "output_type": "stream",
     "text": [
      "WARNING:Lossy conversion from int64 to uint8. Range [15251, 16384]. Convert image to uint8 prior to saving to suppress this warning.\n"
     ]
    },
    {
     "name": "stdout",
     "output_type": "stream",
     "text": [
      "('76401595_R_MLO_1.dcm', 1)\n"
     ]
    },
    {
     "name": "stderr",
     "output_type": "stream",
     "text": [
      " 51%|█████▏    | 687/1335 [19:42<18:21,  1.70s/it]WARNING:Lossy conversion from int64 to uint8. Range [15384, 16384]. Convert image to uint8 prior to saving to suppress this warning.\n"
     ]
    },
    {
     "name": "stdout",
     "output_type": "stream",
     "text": [
      "('3816546_L_MLO_1.dcm', 1)\n"
     ]
    },
    {
     "name": "stderr",
     "output_type": "stream",
     "text": [
      " 52%|█████▏    | 688/1335 [19:44<19:56,  1.85s/it]WARNING:Lossy conversion from int64 to uint8. Range [15321, 16384]. Convert image to uint8 prior to saving to suppress this warning.\n"
     ]
    },
    {
     "name": "stdout",
     "output_type": "stream",
     "text": [
      "('3542781_L_MLO_1.dcm', 2)\n"
     ]
    },
    {
     "name": "stderr",
     "output_type": "stream",
     "text": [
      " 52%|█████▏    | 689/1335 [19:46<21:00,  1.95s/it]WARNING:Lossy conversion from int64 to uint8. Range [15466, 16384]. Convert image to uint8 prior to saving to suppress this warning.\n",
      " 52%|█████▏    | 690/1335 [19:47<19:04,  1.77s/it]"
     ]
    },
    {
     "name": "stdout",
     "output_type": "stream",
     "text": [
      "('76282837_R_CC_1.dcm', 3)\n"
     ]
    },
    {
     "name": "stderr",
     "output_type": "stream",
     "text": [
      "WARNING:Lossy conversion from int64 to uint8. Range [15191, 16384]. Convert image to uint8 prior to saving to suppress this warning.\n",
      " 52%|█████▏    | 691/1335 [19:49<17:43,  1.65s/it]"
     ]
    },
    {
     "name": "stdout",
     "output_type": "stream",
     "text": [
      "('76472752_R_MLO_1.dcm', 2)\n"
     ]
    },
    {
     "name": "stderr",
     "output_type": "stream",
     "text": [
      "WARNING:Lossy conversion from int64 to uint8. Range [15341, 16384]. Convert image to uint8 prior to saving to suppress this warning.\n"
     ]
    },
    {
     "name": "stdout",
     "output_type": "stream",
     "text": [
      "('76586167_L_CC_1.dcm', 2)\n"
     ]
    },
    {
     "name": "stderr",
     "output_type": "stream",
     "text": [
      " 52%|█████▏    | 692/1335 [19:51<19:43,  1.84s/it]WARNING:Lossy conversion from int64 to uint8. Range [15467, 16384]. Convert image to uint8 prior to saving to suppress this warning.\n"
     ]
    },
    {
     "name": "stdout",
     "output_type": "stream",
     "text": [
      "('75019468_L_MLO_1.dcm', 2)\n"
     ]
    },
    {
     "name": "stderr",
     "output_type": "stream",
     "text": [
      " 52%|█████▏    | 693/1335 [19:53<20:58,  1.96s/it]WARNING:Lossy conversion from int64 to uint8. Range [15296, 16384]. Convert image to uint8 prior to saving to suppress this warning.\n",
      " 52%|█████▏    | 695/1335 [19:55<16:47,  1.57s/it]"
     ]
    },
    {
     "name": "stdout",
     "output_type": "stream",
     "text": [
      "('76160169_R_CC_1.dcm', 3)\n"
     ]
    },
    {
     "name": "stderr",
     "output_type": "stream",
     "text": [
      "WARNING:Lossy conversion from int64 to uint8. Range [15231, 16384]. Convert image to uint8 prior to saving to suppress this warning.\n"
     ]
    },
    {
     "name": "stdout",
     "output_type": "stream",
     "text": [
      "('76016788_R_MLO_1.dcm', 2)\n"
     ]
    },
    {
     "name": "stderr",
     "output_type": "stream",
     "text": [
      " 52%|█████▏    | 696/1335 [19:57<18:30,  1.74s/it]WARNING:Lossy conversion from int64 to uint8. Range [15276, 16384]. Convert image to uint8 prior to saving to suppress this warning.\n"
     ]
    },
    {
     "name": "stdout",
     "output_type": "stream",
     "text": [
      "('5282018_L_CC_1.dcm', 2)\n"
     ]
    },
    {
     "name": "stderr",
     "output_type": "stream",
     "text": [
      " 52%|█████▏    | 697/1335 [19:59<19:52,  1.87s/it]WARNING:Lossy conversion from int64 to uint8. Range [15262, 16384]. Convert image to uint8 prior to saving to suppress this warning.\n"
     ]
    },
    {
     "name": "stdout",
     "output_type": "stream",
     "text": [
      "('5169104_L_MLO_1.dcm', 2)\n"
     ]
    },
    {
     "name": "stderr",
     "output_type": "stream",
     "text": [
      " 52%|█████▏    | 698/1335 [20:01<20:54,  1.97s/it]WARNING:Lossy conversion from int64 to uint8. Range [15511, 16384]. Convert image to uint8 prior to saving to suppress this warning.\n"
     ]
    },
    {
     "name": "stdout",
     "output_type": "stream",
     "text": [
      "('75043410_L_CC_1.dcm', 2)\n"
     ]
    },
    {
     "name": "stderr",
     "output_type": "stream",
     "text": [
      " 52%|█████▏    | 699/1335 [20:03<21:38,  2.04s/it]WARNING:Lossy conversion from int64 to uint8. Range [15319, 16384]. Convert image to uint8 prior to saving to suppress this warning.\n",
      " 52%|█████▏    | 700/1335 [20:05<19:32,  1.85s/it]"
     ]
    },
    {
     "name": "stdout",
     "output_type": "stream",
     "text": [
      "('75038187_R_CC_1.dcm', 3)\n"
     ]
    },
    {
     "name": "stderr",
     "output_type": "stream",
     "text": [
      "WARNING:Lossy conversion from int64 to uint8. Range [15452, 16384]. Convert image to uint8 prior to saving to suppress this warning.\n"
     ]
    },
    {
     "name": "stdout",
     "output_type": "stream",
     "text": [
      "('5237629_R_CC_1.dcm', 3)\n"
     ]
    },
    {
     "name": "stderr",
     "output_type": "stream",
     "text": [
      " 53%|█████▎    | 701/1335 [20:07<20:31,  1.94s/it]WARNING:Lossy conversion from int64 to uint8. Range [15321, 16384]. Convert image to uint8 prior to saving to suppress this warning.\n"
     ]
    },
    {
     "name": "stdout",
     "output_type": "stream",
     "text": [
      "('4518967_L_MLO_1.dcm', 2)\n"
     ]
    },
    {
     "name": "stderr",
     "output_type": "stream",
     "text": [
      " 53%|█████▎    | 703/1335 [20:09<17:50,  1.69s/it]WARNING:Lossy conversion from int64 to uint8. Range [15265, 16384]. Convert image to uint8 prior to saving to suppress this warning.\n"
     ]
    },
    {
     "name": "stdout",
     "output_type": "stream",
     "text": [
      "('4306851_L_MLO_1.dcm', 3)\n"
     ]
    },
    {
     "name": "stderr",
     "output_type": "stream",
     "text": [
      " 53%|█████▎    | 704/1335 [20:11<19:32,  1.86s/it]WARNING:Lossy conversion from int64 to uint8. Range [15394, 16384]. Convert image to uint8 prior to saving to suppress this warning.\n"
     ]
    },
    {
     "name": "stdout",
     "output_type": "stream",
     "text": [
      "('5127821_L_CC_1.dcm', 2)\n"
     ]
    },
    {
     "name": "stderr",
     "output_type": "stream",
     "text": [
      " 53%|█████▎    | 705/1335 [20:13<20:19,  1.94s/it]WARNING:Lossy conversion from int64 to uint8. Range [15328, 16384]. Convert image to uint8 prior to saving to suppress this warning.\n"
     ]
    },
    {
     "name": "stdout",
     "output_type": "stream",
     "text": [
      "('5149219_L_MLO_1.dcm', 2)\n"
     ]
    },
    {
     "name": "stderr",
     "output_type": "stream",
     "text": [
      " 53%|█████▎    | 706/1335 [20:16<21:11,  2.02s/it]WARNING:Lossy conversion from int64 to uint8. Range [15306, 16384]. Convert image to uint8 prior to saving to suppress this warning.\n"
     ]
    },
    {
     "name": "stdout",
     "output_type": "stream",
     "text": [
      "('76372826_L_CC_1.dcm', 2)\n"
     ]
    },
    {
     "name": "stderr",
     "output_type": "stream",
     "text": [
      " 53%|█████▎    | 707/1335 [20:18<21:48,  2.08s/it]WARNING:Lossy conversion from int64 to uint8. Range [15515, 16384]. Convert image to uint8 prior to saving to suppress this warning.\n"
     ]
    },
    {
     "name": "stdout",
     "output_type": "stream",
     "text": [
      "('76522651_L_CC_1.dcm', 3)\n"
     ]
    },
    {
     "name": "stderr",
     "output_type": "stream",
     "text": [
      " 53%|█████▎    | 708/1335 [20:20<22:14,  2.13s/it]WARNING:Lossy conversion from int64 to uint8. Range [15516, 16384]. Convert image to uint8 prior to saving to suppress this warning.\n"
     ]
    },
    {
     "name": "stdout",
     "output_type": "stream",
     "text": [
      "('76522651_R_MLO_1.dcm', 3)\n"
     ]
    },
    {
     "name": "stderr",
     "output_type": "stream",
     "text": [
      " 53%|█████▎    | 709/1335 [20:22<22:39,  2.17s/it]WARNING:Lossy conversion from int64 to uint8. Range [15393, 16384]. Convert image to uint8 prior to saving to suppress this warning.\n"
     ]
    },
    {
     "name": "stdout",
     "output_type": "stream",
     "text": [
      "('3874461_L_CC_1.dcm', 2)\n"
     ]
    },
    {
     "name": "stderr",
     "output_type": "stream",
     "text": [
      " 53%|█████▎    | 710/1335 [20:25<22:33,  2.17s/it]WARNING:Lossy conversion from int64 to uint8. Range [15337, 16384]. Convert image to uint8 prior to saving to suppress this warning.\n"
     ]
    },
    {
     "name": "stdout",
     "output_type": "stream",
     "text": [
      "('76489648_L_MLO_1.dcm', 2)\n"
     ]
    },
    {
     "name": "stderr",
     "output_type": "stream",
     "text": [
      " 53%|█████▎    | 711/1335 [20:27<22:34,  2.17s/it]WARNING:Lossy conversion from int64 to uint8. Range [15312, 16384]. Convert image to uint8 prior to saving to suppress this warning.\n"
     ]
    },
    {
     "name": "stdout",
     "output_type": "stream",
     "text": [
      "('5138593_R_MLO_1.dcm', 2)\n"
     ]
    },
    {
     "name": "stderr",
     "output_type": "stream",
     "text": [
      " 53%|█████▎    | 713/1335 [20:29<19:17,  1.86s/it]WARNING:Lossy conversion from int64 to uint8. Range [15449, 16384]. Convert image to uint8 prior to saving to suppress this warning.\n"
     ]
    },
    {
     "name": "stdout",
     "output_type": "stream",
     "text": [
      "('5242950_L_MLO_1.dcm', 2)\n"
     ]
    },
    {
     "name": "stderr",
     "output_type": "stream",
     "text": [
      " 53%|█████▎    | 714/1335 [20:31<20:18,  1.96s/it]WARNING:Lossy conversion from int64 to uint8. Range [15278, 16384]. Convert image to uint8 prior to saving to suppress this warning.\n",
      " 54%|█████▎    | 715/1335 [20:33<18:30,  1.79s/it]"
     ]
    },
    {
     "name": "stdout",
     "output_type": "stream",
     "text": [
      "('76267257_R_MLO_1.dcm', 2)\n"
     ]
    },
    {
     "name": "stderr",
     "output_type": "stream",
     "text": [
      "WARNING:Lossy conversion from int64 to uint8. Range [15419, 16384]. Convert image to uint8 prior to saving to suppress this warning.\n",
      " 54%|█████▎    | 716/1335 [20:34<17:05,  1.66s/it]"
     ]
    },
    {
     "name": "stdout",
     "output_type": "stream",
     "text": [
      "('5273834_L_MLO_1.dcm', 2)\n"
     ]
    },
    {
     "name": "stderr",
     "output_type": "stream",
     "text": [
      "WARNING:Lossy conversion from int64 to uint8. Range [15317, 16384]. Convert image to uint8 prior to saving to suppress this warning.\n"
     ]
    },
    {
     "name": "stdout",
     "output_type": "stream",
     "text": [
      "('4518967_L_CC_1.dcm', 2)\n"
     ]
    },
    {
     "name": "stderr",
     "output_type": "stream",
     "text": [
      " 54%|█████▎    | 717/1335 [20:36<18:48,  1.83s/it]WARNING:Lossy conversion from int64 to uint8. Range [15236, 16384]. Convert image to uint8 prior to saving to suppress this warning.\n"
     ]
    },
    {
     "name": "stdout",
     "output_type": "stream",
     "text": [
      "('3572293_R_MLO_1.dcm', 1)\n"
     ]
    },
    {
     "name": "stderr",
     "output_type": "stream",
     "text": [
      " 54%|█████▍    | 718/1335 [20:38<19:50,  1.93s/it]WARNING:Lossy conversion from int64 to uint8. Range [15050, 16384]. Convert image to uint8 prior to saving to suppress this warning.\n"
     ]
    },
    {
     "name": "stdout",
     "output_type": "stream",
     "text": [
      "('76140197_R_MLO_1.dcm', 2)\n"
     ]
    },
    {
     "name": "stderr",
     "output_type": "stream",
     "text": [
      " 54%|█████▍    | 719/1335 [20:41<20:38,  2.01s/it]WARNING:Lossy conversion from int64 to uint8. Range [15050, 16384]. Convert image to uint8 prior to saving to suppress this warning.\n"
     ]
    },
    {
     "name": "stdout",
     "output_type": "stream",
     "text": [
      "('76306713_R_MLO_1.dcm', 2)\n"
     ]
    },
    {
     "name": "stderr",
     "output_type": "stream",
     "text": [
      " 54%|█████▍    | 720/1335 [20:43<21:16,  2.08s/it]WARNING:Lossy conversion from int64 to uint8. Range [15275, 16384]. Convert image to uint8 prior to saving to suppress this warning.\n",
      " 54%|█████▍    | 721/1335 [20:44<19:04,  1.86s/it]"
     ]
    },
    {
     "name": "stdout",
     "output_type": "stream",
     "text": [
      "('76277398_R_MLO_1.dcm', 2)\n"
     ]
    },
    {
     "name": "stderr",
     "output_type": "stream",
     "text": [
      "WARNING:Lossy conversion from int64 to uint8. Range [15357, 16384]. Convert image to uint8 prior to saving to suppress this warning.\n"
     ]
    },
    {
     "name": "stdout",
     "output_type": "stream",
     "text": [
      "('75043410_R_MLO_1.dcm', 2)\n"
     ]
    },
    {
     "name": "stderr",
     "output_type": "stream",
     "text": [
      " 54%|█████▍    | 722/1335 [20:46<20:05,  1.97s/it]WARNING:Lossy conversion from int64 to uint8. Range [15319, 16384]. Convert image to uint8 prior to saving to suppress this warning.\n"
     ]
    },
    {
     "name": "stdout",
     "output_type": "stream",
     "text": [
      "('3611751_L_MLO_1.dcm', 3)\n"
     ]
    },
    {
     "name": "stderr",
     "output_type": "stream",
     "text": [
      " 54%|█████▍    | 723/1335 [20:49<20:44,  2.03s/it]WARNING:Lossy conversion from int64 to uint8. Range [15405, 16384]. Convert image to uint8 prior to saving to suppress this warning.\n"
     ]
    },
    {
     "name": "stdout",
     "output_type": "stream",
     "text": [
      "('76271054_L_CC_1.dcm', 3)\n"
     ]
    },
    {
     "name": "stderr",
     "output_type": "stream",
     "text": [
      " 54%|█████▍    | 724/1335 [20:51<21:19,  2.09s/it]WARNING:Lossy conversion from int64 to uint8. Range [15251, 16384]. Convert image to uint8 prior to saving to suppress this warning.\n"
     ]
    },
    {
     "name": "stdout",
     "output_type": "stream",
     "text": [
      "('76145442_R_MLO_1.dcm', 2)\n"
     ]
    },
    {
     "name": "stderr",
     "output_type": "stream",
     "text": [
      " 54%|█████▍    | 725/1335 [20:53<21:33,  2.12s/it]WARNING:Lossy conversion from int64 to uint8. Range [15530, 16384]. Convert image to uint8 prior to saving to suppress this warning.\n"
     ]
    },
    {
     "name": "stdout",
     "output_type": "stream",
     "text": [
      "('76587824_L_MLO_1.dcm', 4)\n"
     ]
    },
    {
     "name": "stderr",
     "output_type": "stream",
     "text": [
      " 54%|█████▍    | 726/1335 [20:55<21:41,  2.14s/it]WARNING:Lossy conversion from int64 to uint8. Range [15208, 16384]. Convert image to uint8 prior to saving to suppress this warning.\n",
      " 54%|█████▍    | 727/1335 [20:57<19:15,  1.90s/it]"
     ]
    },
    {
     "name": "stdout",
     "output_type": "stream",
     "text": [
      "('5220478_L_CC_1.dcm', 2)\n"
     ]
    },
    {
     "name": "stderr",
     "output_type": "stream",
     "text": [
      "WARNING:Lossy conversion from int64 to uint8. Range [15343, 16384]. Convert image to uint8 prior to saving to suppress this warning.\n",
      " 55%|█████▍    | 728/1335 [20:58<17:29,  1.73s/it]"
     ]
    },
    {
     "name": "stdout",
     "output_type": "stream",
     "text": [
      "('4236900_L_CC_1.dcm', 3)\n"
     ]
    },
    {
     "name": "stderr",
     "output_type": "stream",
     "text": [
      "WARNING:Lossy conversion from int64 to uint8. Range [15425, 16384]. Convert image to uint8 prior to saving to suppress this warning.\n"
     ]
    },
    {
     "name": "stdout",
     "output_type": "stream",
     "text": [
      "('76575783_L_CC_1.dcm', 2)\n"
     ]
    },
    {
     "name": "stderr",
     "output_type": "stream",
     "text": [
      " 55%|█████▍    | 729/1335 [21:00<19:02,  1.89s/it]WARNING:Lossy conversion from int64 to uint8. Range [15366, 16384]. Convert image to uint8 prior to saving to suppress this warning.\n"
     ]
    },
    {
     "name": "stdout",
     "output_type": "stream",
     "text": [
      "('76081249_L_MLO_1.dcm', 1)\n"
     ]
    },
    {
     "name": "stderr",
     "output_type": "stream",
     "text": [
      " 55%|█████▍    | 730/1335 [21:02<19:47,  1.96s/it]WARNING:Lossy conversion from int64 to uint8. Range [15266, 16384]. Convert image to uint8 prior to saving to suppress this warning.\n"
     ]
    },
    {
     "name": "stdout",
     "output_type": "stream",
     "text": [
      "('5138531_R_MLO_1.dcm', 2)\n"
     ]
    },
    {
     "name": "stderr",
     "output_type": "stream",
     "text": [
      " 55%|█████▍    | 731/1335 [21:04<20:33,  2.04s/it]WARNING:Lossy conversion from int64 to uint8. Range [15000, 16384]. Convert image to uint8 prior to saving to suppress this warning.\n"
     ]
    },
    {
     "name": "stdout",
     "output_type": "stream",
     "text": [
      "('76168600_L_MLO_1.dcm', 2)\n"
     ]
    },
    {
     "name": "stderr",
     "output_type": "stream",
     "text": [
      " 55%|█████▍    | 732/1335 [21:07<21:11,  2.11s/it]WARNING:Lossy conversion from int64 to uint8. Range [15385, 16384]. Convert image to uint8 prior to saving to suppress this warning.\n"
     ]
    },
    {
     "name": "stdout",
     "output_type": "stream",
     "text": [
      "('76152697_L_MLO_1.dcm', 2)\n"
     ]
    },
    {
     "name": "stderr",
     "output_type": "stream",
     "text": [
      " 55%|█████▍    | 733/1335 [21:09<21:32,  2.15s/it]WARNING:Lossy conversion from int64 to uint8. Range [15380, 16384]. Convert image to uint8 prior to saving to suppress this warning.\n"
     ]
    },
    {
     "name": "stdout",
     "output_type": "stream",
     "text": [
      "('4421709_L_MLO_1.dcm', 1)\n"
     ]
    },
    {
     "name": "stderr",
     "output_type": "stream",
     "text": [
      " 55%|█████▍    | 734/1335 [21:11<21:58,  2.19s/it]WARNING:Lossy conversion from int64 to uint8. Range [15300, 16384]. Convert image to uint8 prior to saving to suppress this warning.\n"
     ]
    },
    {
     "name": "stdout",
     "output_type": "stream",
     "text": [
      "('76560269_L_MLO_1.dcm', 1)\n"
     ]
    },
    {
     "name": "stderr",
     "output_type": "stream",
     "text": [
      " 55%|█████▌    | 736/1335 [21:14<18:44,  1.88s/it]WARNING:Lossy conversion from int64 to uint8. Range [15275, 16384]. Convert image to uint8 prior to saving to suppress this warning.\n"
     ]
    },
    {
     "name": "stdout",
     "output_type": "stream",
     "text": [
      "('76086832_L_MLO_1.dcm', 2)\n"
     ]
    },
    {
     "name": "stderr",
     "output_type": "stream",
     "text": [
      " 55%|█████▌    | 737/1335 [21:16<19:37,  1.97s/it]WARNING:Lossy conversion from int64 to uint8. Range [15205, 16384]. Convert image to uint8 prior to saving to suppress this warning.\n"
     ]
    },
    {
     "name": "stdout",
     "output_type": "stream",
     "text": [
      "('3958987_R_MLO_1.dcm', 2)\n"
     ]
    },
    {
     "name": "stderr",
     "output_type": "stream",
     "text": [
      " 55%|█████▌    | 738/1335 [21:18<20:16,  2.04s/it]WARNING:Lossy conversion from int64 to uint8. Range [15413, 16384]. Convert image to uint8 prior to saving to suppress this warning.\n"
     ]
    },
    {
     "name": "stdout",
     "output_type": "stream",
     "text": [
      "('3651998_R_CC_1.dcm', 2)\n"
     ]
    },
    {
     "name": "stderr",
     "output_type": "stream",
     "text": [
      " 56%|█████▌    | 741/1335 [21:20<16:16,  1.64s/it]WARNING:Lossy conversion from int64 to uint8. Range [15208, 16384]. Convert image to uint8 prior to saving to suppress this warning.\n"
     ]
    },
    {
     "name": "stdout",
     "output_type": "stream",
     "text": [
      "('76465504_R_MLO_1.dcm', 2)\n"
     ]
    },
    {
     "name": "stderr",
     "output_type": "stream",
     "text": [
      " 56%|█████▌    | 742/1335 [21:22<17:48,  1.80s/it]WARNING:Lossy conversion from int64 to uint8. Range [15242, 16384]. Convert image to uint8 prior to saving to suppress this warning.\n"
     ]
    },
    {
     "name": "stdout",
     "output_type": "stream",
     "text": [
      "('76333731_R_CC_1.dcm', 2)\n"
     ]
    },
    {
     "name": "stderr",
     "output_type": "stream",
     "text": [
      " 56%|█████▌    | 743/1335 [21:24<18:51,  1.91s/it]WARNING:Lossy conversion from int64 to uint8. Range [15413, 16384]. Convert image to uint8 prior to saving to suppress this warning.\n"
     ]
    },
    {
     "name": "stdout",
     "output_type": "stream",
     "text": [
      "('75045968_R_CC_1.dcm', 3)\n"
     ]
    },
    {
     "name": "stderr",
     "output_type": "stream",
     "text": [
      " 56%|█████▌    | 744/1335 [21:27<19:47,  2.01s/it]WARNING:Lossy conversion from int64 to uint8. Range [15221, 16384]. Convert image to uint8 prior to saving to suppress this warning.\n",
      " 56%|█████▌    | 745/1335 [21:28<17:49,  1.81s/it]"
     ]
    },
    {
     "name": "stdout",
     "output_type": "stream",
     "text": [
      "('75067166_R_MLO_1.dcm', 3)\n"
     ]
    },
    {
     "name": "stderr",
     "output_type": "stream",
     "text": [
      "WARNING:Lossy conversion from int64 to uint8. Range [15495, 16384]. Convert image to uint8 prior to saving to suppress this warning.\n"
     ]
    },
    {
     "name": "stdout",
     "output_type": "stream",
     "text": [
      "('75045968_L_MLO_1.dcm', 3)\n"
     ]
    },
    {
     "name": "stderr",
     "output_type": "stream",
     "text": [
      " 56%|█████▌    | 746/1335 [21:30<19:05,  1.94s/it]WARNING:Lossy conversion from int64 to uint8. Range [15000, 16384]. Convert image to uint8 prior to saving to suppress this warning.\n"
     ]
    },
    {
     "name": "stdout",
     "output_type": "stream",
     "text": [
      "('76272378_L_MLO_1.dcm', 2)\n"
     ]
    },
    {
     "name": "stderr",
     "output_type": "stream",
     "text": [
      " 56%|█████▌    | 747/1335 [21:33<19:49,  2.02s/it]WARNING:Lossy conversion from int64 to uint8. Range [15317, 16384]. Convert image to uint8 prior to saving to suppress this warning.\n",
      " 56%|█████▌    | 748/1335 [21:34<17:44,  1.81s/it]"
     ]
    },
    {
     "name": "stdout",
     "output_type": "stream",
     "text": [
      "('5156000_L_MLO_1.dcm', 2)\n"
     ]
    },
    {
     "name": "stderr",
     "output_type": "stream",
     "text": [
      "WARNING:Lossy conversion from int64 to uint8. Range [15385, 16384]. Convert image to uint8 prior to saving to suppress this warning.\n"
     ]
    },
    {
     "name": "stdout",
     "output_type": "stream",
     "text": [
      "('3863462_R_MLO_1.dcm', 2)\n"
     ]
    },
    {
     "name": "stderr",
     "output_type": "stream",
     "text": [
      " 56%|█████▌    | 749/1335 [21:36<19:10,  1.96s/it]WARNING:Lossy conversion from int64 to uint8. Range [15314, 16384]. Convert image to uint8 prior to saving to suppress this warning.\n"
     ]
    },
    {
     "name": "stdout",
     "output_type": "stream",
     "text": [
      "('5252625_L_CC_1.dcm', 2)\n"
     ]
    },
    {
     "name": "stderr",
     "output_type": "stream",
     "text": [
      " 56%|█████▌    | 750/1335 [21:38<19:50,  2.04s/it]WARNING:Lossy conversion from int64 to uint8. Range [15357, 16384]. Convert image to uint8 prior to saving to suppress this warning.\n"
     ]
    },
    {
     "name": "stdout",
     "output_type": "stream",
     "text": [
      "('76071602_L_MLO_1.dcm', 2)\n"
     ]
    },
    {
     "name": "stderr",
     "output_type": "stream",
     "text": [
      " 56%|█████▋    | 751/1335 [21:40<20:07,  2.07s/it]WARNING:Lossy conversion from int64 to uint8. Range [15437, 16384]. Convert image to uint8 prior to saving to suppress this warning.\n"
     ]
    },
    {
     "name": "stdout",
     "output_type": "stream",
     "text": [
      "('4484666_R_CC_1.dcm', 2)\n"
     ]
    },
    {
     "name": "stderr",
     "output_type": "stream",
     "text": [
      " 56%|█████▋    | 752/1335 [21:43<20:23,  2.10s/it]WARNING:Lossy conversion from int64 to uint8. Range [15357, 16384]. Convert image to uint8 prior to saving to suppress this warning.\n"
     ]
    },
    {
     "name": "stdout",
     "output_type": "stream",
     "text": [
      "('5149219_R_MLO_1.dcm', 2)\n"
     ]
    },
    {
     "name": "stderr",
     "output_type": "stream",
     "text": [
      " 56%|█████▋    | 753/1335 [21:45<20:35,  2.12s/it]WARNING:Lossy conversion from int64 to uint8. Range [15315, 16384]. Convert image to uint8 prior to saving to suppress this warning.\n"
     ]
    },
    {
     "name": "stdout",
     "output_type": "stream",
     "text": [
      "('75067964_L_MLO_1.dcm', 1)\n"
     ]
    },
    {
     "name": "stderr",
     "output_type": "stream",
     "text": [
      " 57%|█████▋    | 755/1335 [21:47<17:34,  1.82s/it]WARNING:Lossy conversion from int64 to uint8. Range [15164, 16384]. Convert image to uint8 prior to saving to suppress this warning.\n"
     ]
    },
    {
     "name": "stdout",
     "output_type": "stream",
     "text": [
      "('5163328_R_MLO_1.dcm', 2)\n"
     ]
    },
    {
     "name": "stderr",
     "output_type": "stream",
     "text": [
      " 57%|█████▋    | 757/1335 [21:49<15:24,  1.60s/it]WARNING:Lossy conversion from int64 to uint8. Range [15069, 16384]. Convert image to uint8 prior to saving to suppress this warning.\n",
      " 57%|█████▋    | 758/1335 [21:51<14:35,  1.52s/it]"
     ]
    },
    {
     "name": "stdout",
     "output_type": "stream",
     "text": [
      "('76049020_R_CC_1.dcm', 3)\n"
     ]
    },
    {
     "name": "stderr",
     "output_type": "stream",
     "text": [
      "WARNING:Lossy conversion from int64 to uint8. Range [15421, 16384]. Convert image to uint8 prior to saving to suppress this warning.\n"
     ]
    },
    {
     "name": "stdout",
     "output_type": "stream",
     "text": [
      "('76234226_L_CC_1.dcm', 1)\n"
     ]
    },
    {
     "name": "stderr",
     "output_type": "stream",
     "text": [
      " 57%|█████▋    | 759/1335 [21:53<16:42,  1.74s/it]WARNING:Lossy conversion from int64 to uint8. Range [15343, 16384]. Convert image to uint8 prior to saving to suppress this warning.\n"
     ]
    },
    {
     "name": "stdout",
     "output_type": "stream",
     "text": [
      "('5266778_L_MLO_1.dcm', 2)\n"
     ]
    },
    {
     "name": "stderr",
     "output_type": "stream",
     "text": [
      " 57%|█████▋    | 762/1335 [21:55<13:40,  1.43s/it]WARNING:Lossy conversion from int64 to uint8. Range [15083, 16384]. Convert image to uint8 prior to saving to suppress this warning.\n",
      " 57%|█████▋    | 763/1335 [21:56<13:31,  1.42s/it]"
     ]
    },
    {
     "name": "stdout",
     "output_type": "stream",
     "text": [
      "('5253729_R_CC_1.dcm', 2)\n"
     ]
    },
    {
     "name": "stderr",
     "output_type": "stream",
     "text": [
      "WARNING:Lossy conversion from int64 to uint8. Range [15378, 16384]. Convert image to uint8 prior to saving to suppress this warning.\n",
      " 57%|█████▋    | 764/1335 [21:58<13:14,  1.39s/it]"
     ]
    },
    {
     "name": "stdout",
     "output_type": "stream",
     "text": [
      "('4298837_R_CC_1.dcm', 3)\n"
     ]
    },
    {
     "name": "stderr",
     "output_type": "stream",
     "text": [
      "WARNING:Lossy conversion from int64 to uint8. Range [15287, 16384]. Convert image to uint8 prior to saving to suppress this warning.\n"
     ]
    },
    {
     "name": "stdout",
     "output_type": "stream",
     "text": [
      "('76500605_L_CC_1.dcm', 2)\n"
     ]
    },
    {
     "name": "stderr",
     "output_type": "stream",
     "text": [
      " 57%|█████▋    | 767/1335 [22:00<11:18,  1.19s/it]WARNING:Lossy conversion from int64 to uint8. Range [15378, 16384]. Convert image to uint8 prior to saving to suppress this warning.\n",
      " 58%|█████▊    | 768/1335 [22:01<11:48,  1.25s/it]"
     ]
    },
    {
     "name": "stdout",
     "output_type": "stream",
     "text": [
      "('5288360_R_CC_1.dcm', 2)\n"
     ]
    },
    {
     "name": "stderr",
     "output_type": "stream",
     "text": [
      "WARNING:Lossy conversion from int64 to uint8. Range [15428, 16384]. Convert image to uint8 prior to saving to suppress this warning.\n"
     ]
    },
    {
     "name": "stdout",
     "output_type": "stream",
     "text": [
      "('4233357_L_MLO_1.dcm', 1)\n"
     ]
    },
    {
     "name": "stderr",
     "output_type": "stream",
     "text": [
      " 58%|█████▊    | 769/1335 [22:03<14:20,  1.52s/it]WARNING:Lossy conversion from int64 to uint8. Range [15355, 16384]. Convert image to uint8 prior to saving to suppress this warning.\n",
      " 58%|█████▊    | 771/1335 [22:05<11:54,  1.27s/it]"
     ]
    },
    {
     "name": "stdout",
     "output_type": "stream",
     "text": [
      "('4292093_L_CC_1.dcm', 2)\n"
     ]
    },
    {
     "name": "stderr",
     "output_type": "stream",
     "text": [
      "WARNING:Lossy conversion from int64 to uint8. Range [15551, 16384]. Convert image to uint8 prior to saving to suppress this warning.\n"
     ]
    },
    {
     "name": "stdout",
     "output_type": "stream",
     "text": [
      "('76283628_R_CC_1.dcm', 2)\n"
     ]
    },
    {
     "name": "stderr",
     "output_type": "stream",
     "text": [
      " 58%|█████▊    | 773/1335 [22:07<11:21,  1.21s/it]WARNING:Lossy conversion from int64 to uint8. Range [15450, 16384]. Convert image to uint8 prior to saving to suppress this warning.\n"
     ]
    },
    {
     "name": "stdout",
     "output_type": "stream",
     "text": [
      "('76358683_L_CC_1.dcm', 2)\n"
     ]
    },
    {
     "name": "stderr",
     "output_type": "stream",
     "text": [
      " 58%|█████▊    | 774/1335 [22:09<13:58,  1.49s/it]WARNING:Lossy conversion from int64 to uint8. Range [15000, 16384]. Convert image to uint8 prior to saving to suppress this warning.\n"
     ]
    },
    {
     "name": "stdout",
     "output_type": "stream",
     "text": [
      "('76252066_L_CC_1.dcm', 2)\n"
     ]
    },
    {
     "name": "stderr",
     "output_type": "stream",
     "text": [
      " 58%|█████▊    | 775/1335 [22:11<15:55,  1.71s/it]WARNING:Lossy conversion from int64 to uint8. Range [15000, 16384]. Convert image to uint8 prior to saving to suppress this warning.\n"
     ]
    },
    {
     "name": "stdout",
     "output_type": "stream",
     "text": [
      "('76268663_R_MLO_1.dcm', 2)\n"
     ]
    },
    {
     "name": "stderr",
     "output_type": "stream",
     "text": [
      " 58%|█████▊    | 776/1335 [22:13<17:14,  1.85s/it]WARNING:Lossy conversion from int64 to uint8. Range [15368, 16384]. Convert image to uint8 prior to saving to suppress this warning.\n"
     ]
    },
    {
     "name": "stdout",
     "output_type": "stream",
     "text": [
      "('76372174_L_MLO_1.dcm', 2)\n"
     ]
    },
    {
     "name": "stderr",
     "output_type": "stream",
     "text": [
      " 58%|█████▊    | 777/1335 [22:16<18:07,  1.95s/it]WARNING:Lossy conversion from int64 to uint8. Range [15235, 16384]. Convert image to uint8 prior to saving to suppress this warning.\n",
      " 58%|█████▊    | 778/1335 [22:17<16:37,  1.79s/it]"
     ]
    },
    {
     "name": "stdout",
     "output_type": "stream",
     "text": [
      "('76480623_R_MLO_1.dcm', 2)\n"
     ]
    },
    {
     "name": "stderr",
     "output_type": "stream",
     "text": [
      "WARNING:Lossy conversion from int64 to uint8. Range [15370, 16384]. Convert image to uint8 prior to saving to suppress this warning.\n"
     ]
    },
    {
     "name": "stdout",
     "output_type": "stream",
     "text": [
      "('76586167_L_MLO_1.dcm', 2)\n"
     ]
    },
    {
     "name": "stderr",
     "output_type": "stream",
     "text": [
      " 58%|█████▊    | 779/1335 [22:19<17:47,  1.92s/it]WARNING:Lossy conversion from int64 to uint8. Range [15373, 16384]. Convert image to uint8 prior to saving to suppress this warning.\n"
     ]
    },
    {
     "name": "stdout",
     "output_type": "stream",
     "text": [
      "('76132751_R_MLO_1.dcm', 2)\n"
     ]
    },
    {
     "name": "stderr",
     "output_type": "stream",
     "text": [
      " 58%|█████▊    | 780/1335 [22:21<18:24,  1.99s/it]WARNING:Lossy conversion from int64 to uint8. Range [15137, 16384]. Convert image to uint8 prior to saving to suppress this warning.\n",
      " 59%|█████▊    | 781/1335 [22:23<16:30,  1.79s/it]"
     ]
    },
    {
     "name": "stdout",
     "output_type": "stream",
     "text": [
      "('76160169_L_CC_1.dcm', 3)\n"
     ]
    },
    {
     "name": "stderr",
     "output_type": "stream",
     "text": [
      "WARNING:Lossy conversion from int64 to uint8. Range [15341, 16384]. Convert image to uint8 prior to saving to suppress this warning.\n"
     ]
    },
    {
     "name": "stdout",
     "output_type": "stream",
     "text": [
      "('76271434_R_MLO_1.dcm', 1)\n"
     ]
    },
    {
     "name": "stderr",
     "output_type": "stream",
     "text": [
      " 59%|█████▊    | 782/1335 [22:25<17:36,  1.91s/it]WARNING:Lossy conversion from int64 to uint8. Range [15246, 16384]. Convert image to uint8 prior to saving to suppress this warning.\n"
     ]
    },
    {
     "name": "stdout",
     "output_type": "stream",
     "text": [
      "('3640221_L_MLO_1.dcm', 2)\n"
     ]
    },
    {
     "name": "stderr",
     "output_type": "stream",
     "text": [
      " 59%|█████▊    | 783/1335 [22:27<18:25,  2.00s/it]WARNING:Lossy conversion from int64 to uint8. Range [15291, 16384]. Convert image to uint8 prior to saving to suppress this warning.\n"
     ]
    },
    {
     "name": "stdout",
     "output_type": "stream",
     "text": [
      "('76299642_R_MLO_1.dcm', 2)\n"
     ]
    },
    {
     "name": "stderr",
     "output_type": "stream",
     "text": [
      " 59%|█████▊    | 784/1335 [22:29<18:50,  2.05s/it]WARNING:Lossy conversion from int64 to uint8. Range [15579, 16384]. Convert image to uint8 prior to saving to suppress this warning.\n"
     ]
    },
    {
     "name": "stdout",
     "output_type": "stream",
     "text": [
      "('5257817_L_CC_1.dcm', 2)\n"
     ]
    },
    {
     "name": "stderr",
     "output_type": "stream",
     "text": [
      " 59%|█████▉    | 785/1335 [22:32<19:13,  2.10s/it]WARNING:Lossy conversion from int64 to uint8. Range [15288, 16384]. Convert image to uint8 prior to saving to suppress this warning.\n"
     ]
    },
    {
     "name": "stdout",
     "output_type": "stream",
     "text": [
      "('3854193_L_MLO_1.dcm', 3)\n"
     ]
    },
    {
     "name": "stderr",
     "output_type": "stream",
     "text": [
      " 59%|█████▉    | 786/1335 [22:34<19:18,  2.11s/it]WARNING:Lossy conversion from int64 to uint8. Range [15362, 16384]. Convert image to uint8 prior to saving to suppress this warning.\n"
     ]
    },
    {
     "name": "stdout",
     "output_type": "stream",
     "text": [
      "('76550586_L_CC_1.dcm', 2)\n"
     ]
    },
    {
     "name": "stderr",
     "output_type": "stream",
     "text": [
      " 59%|█████▉    | 787/1335 [22:36<19:32,  2.14s/it]WARNING:Lossy conversion from int64 to uint8. Range [15623, 16384]. Convert image to uint8 prior to saving to suppress this warning.\n"
     ]
    },
    {
     "name": "stdout",
     "output_type": "stream",
     "text": [
      "('5302310_L_CC_1.dcm', 2)\n"
     ]
    },
    {
     "name": "stderr",
     "output_type": "stream",
     "text": [
      " 59%|█████▉    | 789/1335 [22:38<16:38,  1.83s/it]WARNING:Lossy conversion from int64 to uint8. Range [15212, 16384]. Convert image to uint8 prior to saving to suppress this warning.\n"
     ]
    },
    {
     "name": "stdout",
     "output_type": "stream",
     "text": [
      "('76054060_L_MLO_1.dcm', 3)\n"
     ]
    },
    {
     "name": "stderr",
     "output_type": "stream",
     "text": [
      " 59%|█████▉    | 790/1335 [22:40<17:43,  1.95s/it]WARNING:Lossy conversion from int64 to uint8. Range [15319, 16384]. Convert image to uint8 prior to saving to suppress this warning.\n"
     ]
    },
    {
     "name": "stdout",
     "output_type": "stream",
     "text": [
      "('76070388_R_MLO_1.dcm', 3)\n"
     ]
    },
    {
     "name": "stderr",
     "output_type": "stream",
     "text": [
      " 59%|█████▉    | 791/1335 [22:43<18:18,  2.02s/it]WARNING:Lossy conversion from int64 to uint8. Range [15357, 16384]. Convert image to uint8 prior to saving to suppress this warning.\n"
     ]
    },
    {
     "name": "stdout",
     "output_type": "stream",
     "text": [
      "('76475506_L_CC_1.dcm', 3)\n"
     ]
    },
    {
     "name": "stderr",
     "output_type": "stream",
     "text": [
      " 59%|█████▉    | 792/1335 [22:45<18:59,  2.10s/it]WARNING:Lossy conversion from int64 to uint8. Range [15382, 16384]. Convert image to uint8 prior to saving to suppress this warning.\n"
     ]
    },
    {
     "name": "stdout",
     "output_type": "stream",
     "text": [
      "('76200017_R_CC_1.dcm', 2)\n"
     ]
    },
    {
     "name": "stderr",
     "output_type": "stream",
     "text": [
      " 59%|█████▉    | 793/1335 [22:47<19:13,  2.13s/it]WARNING:Lossy conversion from int64 to uint8. Range [15374, 16384]. Convert image to uint8 prior to saving to suppress this warning.\n"
     ]
    },
    {
     "name": "stdout",
     "output_type": "stream",
     "text": [
      "('3587543_L_MLO_1.dcm', 1)\n"
     ]
    },
    {
     "name": "stderr",
     "output_type": "stream",
     "text": [
      " 59%|█████▉    | 794/1335 [22:49<19:24,  2.15s/it]WARNING:Lossy conversion from int64 to uint8. Range [15255, 16384]. Convert image to uint8 prior to saving to suppress this warning.\n"
     ]
    },
    {
     "name": "stdout",
     "output_type": "stream",
     "text": [
      "('76185900_L_MLO_1.dcm', 1)\n"
     ]
    },
    {
     "name": "stderr",
     "output_type": "stream",
     "text": [
      " 60%|█████▉    | 795/1335 [22:51<19:31,  2.17s/it]WARNING:Lossy conversion from int64 to uint8. Range [15339, 16384]. Convert image to uint8 prior to saving to suppress this warning.\n"
     ]
    },
    {
     "name": "stdout",
     "output_type": "stream",
     "text": [
      "('76185900_R_CC_1.dcm', 1)\n"
     ]
    },
    {
     "name": "stderr",
     "output_type": "stream",
     "text": [
      " 60%|█████▉    | 796/1335 [22:54<19:27,  2.17s/it]WARNING:Lossy conversion from int64 to uint8. Range [15310, 16384]. Convert image to uint8 prior to saving to suppress this warning.\n",
      " 60%|█████▉    | 797/1335 [22:55<17:13,  1.92s/it]"
     ]
    },
    {
     "name": "stdout",
     "output_type": "stream",
     "text": [
      "('76454721_R_CC_1.dcm', 2)\n"
     ]
    },
    {
     "name": "stderr",
     "output_type": "stream",
     "text": [
      "WARNING:Lossy conversion from int64 to uint8. Range [15270, 16384]. Convert image to uint8 prior to saving to suppress this warning.\n"
     ]
    },
    {
     "name": "stdout",
     "output_type": "stream",
     "text": [
      "('5169089_R_MLO_1.dcm', 2)\n"
     ]
    },
    {
     "name": "stderr",
     "output_type": "stream",
     "text": [
      " 60%|█████▉    | 798/1335 [22:57<18:15,  2.04s/it]WARNING:Lossy conversion from int64 to uint8. Range [15307, 16384]. Convert image to uint8 prior to saving to suppress this warning.\n"
     ]
    },
    {
     "name": "stdout",
     "output_type": "stream",
     "text": [
      "('4337163_L_MLO_1.dcm', 2)\n"
     ]
    },
    {
     "name": "stderr",
     "output_type": "stream",
     "text": [
      " 60%|█████▉    | 799/1335 [22:59<18:40,  2.09s/it]WARNING:Lossy conversion from int64 to uint8. Range [15090, 16384]. Convert image to uint8 prior to saving to suppress this warning.\n"
     ]
    },
    {
     "name": "stdout",
     "output_type": "stream",
     "text": [
      "('75023037_L_MLO_1.dcm', 3)\n"
     ]
    },
    {
     "name": "stderr",
     "output_type": "stream",
     "text": [
      " 60%|█████▉    | 800/1335 [23:02<18:52,  2.12s/it]WARNING:Lossy conversion from int64 to uint8. Range [15255, 16384]. Convert image to uint8 prior to saving to suppress this warning.\n"
     ]
    },
    {
     "name": "stdout",
     "output_type": "stream",
     "text": [
      "('76560269_R_MLO_1.dcm', 1)\n"
     ]
    },
    {
     "name": "stderr",
     "output_type": "stream",
     "text": [
      " 60%|██████    | 801/1335 [23:04<19:09,  2.15s/it]WARNING:Lossy conversion from int64 to uint8. Range [15316, 16384]. Convert image to uint8 prior to saving to suppress this warning.\n"
     ]
    },
    {
     "name": "stdout",
     "output_type": "stream",
     "text": [
      "('3991880_R_MLO_1.dcm', 2)\n"
     ]
    },
    {
     "name": "stderr",
     "output_type": "stream",
     "text": [
      " 60%|██████    | 802/1335 [23:06<19:16,  2.17s/it]WARNING:Lossy conversion from int64 to uint8. Range [15420, 16384]. Convert image to uint8 prior to saving to suppress this warning.\n"
     ]
    },
    {
     "name": "stdout",
     "output_type": "stream",
     "text": [
      "('76363152_L_MLO_1.dcm', 2)\n"
     ]
    },
    {
     "name": "stderr",
     "output_type": "stream",
     "text": [
      " 60%|██████    | 803/1335 [23:08<19:30,  2.20s/it]WARNING:Lossy conversion from int64 to uint8. Range [15255, 16384]. Convert image to uint8 prior to saving to suppress this warning.\n"
     ]
    },
    {
     "name": "stdout",
     "output_type": "stream",
     "text": [
      "('5233702_R_CC_1.dcm', 2)\n"
     ]
    },
    {
     "name": "stderr",
     "output_type": "stream",
     "text": [
      " 60%|██████    | 804/1335 [23:10<19:19,  2.18s/it]WARNING:Lossy conversion from int64 to uint8. Range [15357, 16384]. Convert image to uint8 prior to saving to suppress this warning.\n"
     ]
    },
    {
     "name": "stdout",
     "output_type": "stream",
     "text": [
      "('5233702_L_CC_1.dcm', 2)\n"
     ]
    },
    {
     "name": "stderr",
     "output_type": "stream",
     "text": [
      " 60%|██████    | 805/1335 [23:13<19:10,  2.17s/it]WARNING:Lossy conversion from int64 to uint8. Range [15341, 16384]. Convert image to uint8 prior to saving to suppress this warning.\n"
     ]
    },
    {
     "name": "stdout",
     "output_type": "stream",
     "text": [
      "('5215632_R_MLO_1.dcm', 2)\n"
     ]
    },
    {
     "name": "stderr",
     "output_type": "stream",
     "text": [
      " 60%|██████    | 806/1335 [23:15<19:23,  2.20s/it]WARNING:Lossy conversion from int64 to uint8. Range [15313, 16384]. Convert image to uint8 prior to saving to suppress this warning.\n"
     ]
    },
    {
     "name": "stdout",
     "output_type": "stream",
     "text": [
      "('76070388_R_CC_1.dcm', 3)\n"
     ]
    },
    {
     "name": "stderr",
     "output_type": "stream",
     "text": [
      " 60%|██████    | 807/1335 [23:17<19:38,  2.23s/it]WARNING:Lossy conversion from int64 to uint8. Range [15273, 16384]. Convert image to uint8 prior to saving to suppress this warning.\n",
      " 61%|██████    | 808/1335 [23:19<17:12,  1.96s/it]"
     ]
    },
    {
     "name": "stdout",
     "output_type": "stream",
     "text": [
      "('76112297_R_MLO_1.dcm', 2)\n"
     ]
    },
    {
     "name": "stderr",
     "output_type": "stream",
     "text": [
      "WARNING:Lossy conversion from int64 to uint8. Range [15313, 16384]. Convert image to uint8 prior to saving to suppress this warning.\n"
     ]
    },
    {
     "name": "stdout",
     "output_type": "stream",
     "text": [
      "('76401595_L_CC_1.dcm', 1)\n"
     ]
    },
    {
     "name": "stderr",
     "output_type": "stream",
     "text": [
      " 61%|██████    | 809/1335 [23:21<17:41,  2.02s/it]WARNING:Lossy conversion from int64 to uint8. Range [15337, 16384]. Convert image to uint8 prior to saving to suppress this warning.\n"
     ]
    },
    {
     "name": "stdout",
     "output_type": "stream",
     "text": [
      "('4518967_R_MLO_1.dcm', 2)\n"
     ]
    },
    {
     "name": "stderr",
     "output_type": "stream",
     "text": [
      " 61%|██████    | 810/1335 [23:23<18:22,  2.10s/it]WARNING:Lossy conversion from int64 to uint8. Range [15553, 16384]. Convert image to uint8 prior to saving to suppress this warning.\n"
     ]
    },
    {
     "name": "stdout",
     "output_type": "stream",
     "text": [
      "('76088925_R_MLO_1.dcm', 3)\n"
     ]
    },
    {
     "name": "stderr",
     "output_type": "stream",
     "text": [
      " 61%|██████    | 811/1335 [23:25<18:52,  2.16s/it]WARNING:Lossy conversion from int64 to uint8. Range [15414, 16384]. Convert image to uint8 prior to saving to suppress this warning.\n",
      " 61%|██████    | 812/1335 [23:27<16:44,  1.92s/it]"
     ]
    },
    {
     "name": "stdout",
     "output_type": "stream",
     "text": [
      "('75076389_R_CC_1.dcm', 3)\n"
     ]
    },
    {
     "name": "stderr",
     "output_type": "stream",
     "text": [
      "WARNING:Lossy conversion from int64 to uint8. Range [15338, 16384]. Convert image to uint8 prior to saving to suppress this warning.\n"
     ]
    },
    {
     "name": "stdout",
     "output_type": "stream",
     "text": [
      "('4478231_L_CC_1.dcm', 2)\n"
     ]
    },
    {
     "name": "stderr",
     "output_type": "stream",
     "text": [
      " 61%|██████    | 813/1335 [23:29<17:26,  2.00s/it]WARNING:Lossy conversion from int64 to uint8. Range [15571, 16384]. Convert image to uint8 prior to saving to suppress this warning.\n"
     ]
    },
    {
     "name": "stdout",
     "output_type": "stream",
     "text": [
      "('76077695_R_CC_1.dcm', 1)\n"
     ]
    },
    {
     "name": "stderr",
     "output_type": "stream",
     "text": [
      " 61%|██████    | 814/1335 [23:31<17:56,  2.07s/it]WARNING:Lossy conversion from int64 to uint8. Range [15381, 16384]. Convert image to uint8 prior to saving to suppress this warning.\n"
     ]
    },
    {
     "name": "stdout",
     "output_type": "stream",
     "text": [
      "('76255029_L_CC_1.dcm', 2)\n"
     ]
    },
    {
     "name": "stderr",
     "output_type": "stream",
     "text": [
      " 61%|██████    | 815/1335 [23:33<18:05,  2.09s/it]WARNING:Lossy conversion from int64 to uint8. Range [15050, 16384]. Convert image to uint8 prior to saving to suppress this warning.\n"
     ]
    },
    {
     "name": "stdout",
     "output_type": "stream",
     "text": [
      "('76306713_L_MLO_1.dcm', 2)\n"
     ]
    },
    {
     "name": "stderr",
     "output_type": "stream",
     "text": [
      " 61%|██████    | 816/1335 [23:35<18:29,  2.14s/it]WARNING:Lossy conversion from int64 to uint8. Range [15420, 16384]. Convert image to uint8 prior to saving to suppress this warning.\n"
     ]
    },
    {
     "name": "stdout",
     "output_type": "stream",
     "text": [
      "('76550586_L_MLO_1.dcm', 2)\n"
     ]
    },
    {
     "name": "stderr",
     "output_type": "stream",
     "text": [
      " 61%|██████    | 817/1335 [23:38<18:43,  2.17s/it]WARNING:Lossy conversion from int64 to uint8. Range [15433, 16384]. Convert image to uint8 prior to saving to suppress this warning.\n"
     ]
    },
    {
     "name": "stdout",
     "output_type": "stream",
     "text": [
      "('75883791_R_CC_1.dcm', 1)\n"
     ]
    },
    {
     "name": "stderr",
     "output_type": "stream",
     "text": [
      " 61%|██████▏   | 818/1335 [23:40<18:46,  2.18s/it]WARNING:Lossy conversion from int64 to uint8. Range [15365, 16384]. Convert image to uint8 prior to saving to suppress this warning.\n"
     ]
    },
    {
     "name": "stdout",
     "output_type": "stream",
     "text": [
      "('4245154_L_CC_1.dcm', 2)\n"
     ]
    },
    {
     "name": "stderr",
     "output_type": "stream",
     "text": [
      " 61%|██████▏   | 819/1335 [23:42<18:39,  2.17s/it]WARNING:Lossy conversion from int64 to uint8. Range [15361, 16384]. Convert image to uint8 prior to saving to suppress this warning.\n",
      " 61%|██████▏   | 820/1335 [23:43<16:33,  1.93s/it]"
     ]
    },
    {
     "name": "stdout",
     "output_type": "stream",
     "text": [
      "('5172268_L_CC_1.dcm', 3)\n"
     ]
    },
    {
     "name": "stderr",
     "output_type": "stream",
     "text": [
      "WARNING:Lossy conversion from int64 to uint8. Range [15343, 16384]. Convert image to uint8 prior to saving to suppress this warning.\n"
     ]
    },
    {
     "name": "stdout",
     "output_type": "stream",
     "text": [
      "('4378437_L_CC_1.dcm', 1)\n"
     ]
    },
    {
     "name": "stderr",
     "output_type": "stream",
     "text": [
      " 61%|██████▏   | 821/1335 [23:46<17:12,  2.01s/it]WARNING:Lossy conversion from int64 to uint8. Range [15365, 16384]. Convert image to uint8 prior to saving to suppress this warning.\n"
     ]
    },
    {
     "name": "stdout",
     "output_type": "stream",
     "text": [
      "('75974175_R_MLO_1.dcm', 2)\n"
     ]
    },
    {
     "name": "stderr",
     "output_type": "stream",
     "text": [
      " 62%|██████▏   | 822/1335 [23:48<17:39,  2.07s/it]WARNING:Lossy conversion from int64 to uint8. Range [15440, 16384]. Convert image to uint8 prior to saving to suppress this warning.\n"
     ]
    },
    {
     "name": "stdout",
     "output_type": "stream",
     "text": [
      "('76358683_R_CC_1.dcm', 2)\n"
     ]
    },
    {
     "name": "stderr",
     "output_type": "stream",
     "text": [
      " 62%|██████▏   | 823/1335 [23:50<17:48,  2.09s/it]WARNING:Lossy conversion from int64 to uint8. Range [15241, 16384]. Convert image to uint8 prior to saving to suppress this warning.\n"
     ]
    },
    {
     "name": "stdout",
     "output_type": "stream",
     "text": [
      "('3640221_R_MLO_1.dcm', 2)\n"
     ]
    },
    {
     "name": "stderr",
     "output_type": "stream",
     "text": [
      " 62%|██████▏   | 824/1335 [23:52<18:04,  2.12s/it]WARNING:Lossy conversion from int64 to uint8. Range [15313, 16384]. Convert image to uint8 prior to saving to suppress this warning.\n"
     ]
    },
    {
     "name": "stdout",
     "output_type": "stream",
     "text": [
      "('76569104_R_CC_1.dcm', 3)\n"
     ]
    },
    {
     "name": "stderr",
     "output_type": "stream",
     "text": [
      " 62%|██████▏   | 825/1335 [23:54<18:10,  2.14s/it]WARNING:Lossy conversion from int64 to uint8. Range [15519, 16384]. Convert image to uint8 prior to saving to suppress this warning.\n"
     ]
    },
    {
     "name": "stdout",
     "output_type": "stream",
     "text": [
      "('75043410_R_CC_1.dcm', 2)\n"
     ]
    },
    {
     "name": "stderr",
     "output_type": "stream",
     "text": [
      " 62%|██████▏   | 826/1335 [23:57<18:22,  2.17s/it]WARNING:Lossy conversion from int64 to uint8. Range [15324, 16384]. Convert image to uint8 prior to saving to suppress this warning.\n",
      " 62%|██████▏   | 827/1335 [23:58<16:18,  1.93s/it]"
     ]
    },
    {
     "name": "stdout",
     "output_type": "stream",
     "text": [
      "('76483593_L_CC_1.dcm', 2)\n"
     ]
    },
    {
     "name": "stderr",
     "output_type": "stream",
     "text": [
      "WARNING:Lossy conversion from int64 to uint8. Range [15327, 16384]. Convert image to uint8 prior to saving to suppress this warning.\n"
     ]
    },
    {
     "name": "stdout",
     "output_type": "stream",
     "text": [
      "('75063022_L_MLO_1.dcm', 2)\n"
     ]
    },
    {
     "name": "stderr",
     "output_type": "stream",
     "text": [
      " 62%|██████▏   | 828/1335 [24:00<17:19,  2.05s/it]WARNING:Lossy conversion from int64 to uint8. Range [15427, 16384]. Convert image to uint8 prior to saving to suppress this warning.\n"
     ]
    },
    {
     "name": "stdout",
     "output_type": "stream",
     "text": [
      "('5209340_L_CC_1.dcm', 2)\n"
     ]
    },
    {
     "name": "stderr",
     "output_type": "stream",
     "text": [
      " 62%|██████▏   | 829/1335 [24:03<17:55,  2.13s/it]WARNING:Lossy conversion from int64 to uint8. Range [15342, 16384]. Convert image to uint8 prior to saving to suppress this warning.\n"
     ]
    },
    {
     "name": "stdout",
     "output_type": "stream",
     "text": [
      "('3554447_L_MLO_1.dcm', 2)\n"
     ]
    },
    {
     "name": "stderr",
     "output_type": "stream",
     "text": [
      " 62%|██████▏   | 831/1335 [24:05<15:15,  1.82s/it]WARNING:Lossy conversion from int64 to uint8. Range [15297, 16384]. Convert image to uint8 prior to saving to suppress this warning.\n"
     ]
    },
    {
     "name": "stdout",
     "output_type": "stream",
     "text": [
      "('76193968_L_MLO_1.dcm', 2)\n"
     ]
    },
    {
     "name": "stderr",
     "output_type": "stream",
     "text": [
      " 62%|██████▏   | 833/1335 [24:07<13:22,  1.60s/it]WARNING:Lossy conversion from int64 to uint8. Range [15420, 16384]. Convert image to uint8 prior to saving to suppress this warning.\n"
     ]
    },
    {
     "name": "stdout",
     "output_type": "stream",
     "text": [
      "('3587543_R_CC_1.dcm', 1)\n"
     ]
    },
    {
     "name": "stderr",
     "output_type": "stream",
     "text": [
      " 62%|██████▏   | 834/1335 [24:09<15:05,  1.81s/it]WARNING:Lossy conversion from int64 to uint8. Range [15262, 16384]. Convert image to uint8 prior to saving to suppress this warning.\n",
      " 63%|██████▎   | 835/1335 [24:11<13:59,  1.68s/it]"
     ]
    },
    {
     "name": "stdout",
     "output_type": "stream",
     "text": [
      "('76442661_L_MLO_1.dcm', 4)\n"
     ]
    },
    {
     "name": "stderr",
     "output_type": "stream",
     "text": [
      "WARNING:Lossy conversion from int64 to uint8. Range [15281, 16384]. Convert image to uint8 prior to saving to suppress this warning.\n"
     ]
    },
    {
     "name": "stdout",
     "output_type": "stream",
     "text": [
      "('5185724_R_MLO_1.dcm', 3)\n"
     ]
    },
    {
     "name": "stderr",
     "output_type": "stream",
     "text": [
      " 63%|██████▎   | 836/1335 [24:13<15:15,  1.83s/it]WARNING:Lossy conversion from int64 to uint8. Range [15505, 16384]. Convert image to uint8 prior to saving to suppress this warning.\n"
     ]
    },
    {
     "name": "stdout",
     "output_type": "stream",
     "text": [
      "('76483531_R_CC_1.dcm', 2)\n"
     ]
    },
    {
     "name": "stderr",
     "output_type": "stream",
     "text": [
      " 63%|██████▎   | 837/1335 [24:15<16:09,  1.95s/it]WARNING:Lossy conversion from int64 to uint8. Range [15405, 16384]. Convert image to uint8 prior to saving to suppress this warning.\n",
      " 63%|██████▎   | 838/1335 [24:16<14:43,  1.78s/it]"
     ]
    },
    {
     "name": "stdout",
     "output_type": "stream",
     "text": [
      "('76415344_R_MLO_1.dcm', 3)\n"
     ]
    },
    {
     "name": "stderr",
     "output_type": "stream",
     "text": [
      "WARNING:Lossy conversion from int64 to uint8. Range [15409, 16384]. Convert image to uint8 prior to saving to suppress this warning.\n",
      " 63%|██████▎   | 839/1335 [24:18<13:32,  1.64s/it]"
     ]
    },
    {
     "name": "stdout",
     "output_type": "stream",
     "text": [
      "('75022020_R_CC_1.dcm', 4)\n"
     ]
    },
    {
     "name": "stderr",
     "output_type": "stream",
     "text": [
      "WARNING:Lossy conversion from int64 to uint8. Range [15368, 16384]. Convert image to uint8 prior to saving to suppress this warning.\n"
     ]
    },
    {
     "name": "stdout",
     "output_type": "stream",
     "text": [
      "('76268891_R_CC_1.dcm', 2)\n"
     ]
    },
    {
     "name": "stderr",
     "output_type": "stream",
     "text": [
      " 63%|██████▎   | 840/1335 [24:20<14:47,  1.79s/it]WARNING:Lossy conversion from int64 to uint8. Range [15265, 16384]. Convert image to uint8 prior to saving to suppress this warning.\n"
     ]
    },
    {
     "name": "stdout",
     "output_type": "stream",
     "text": [
      "('76081249_R_CC_1.dcm', 1)\n"
     ]
    },
    {
     "name": "stderr",
     "output_type": "stream",
     "text": [
      " 63%|██████▎   | 841/1335 [24:22<15:36,  1.90s/it]WARNING:Lossy conversion from int64 to uint8. Range [15271, 16384]. Convert image to uint8 prior to saving to suppress this warning.\n"
     ]
    },
    {
     "name": "stdout",
     "output_type": "stream",
     "text": [
      "('4328468_L_CC_1.dcm', 2)\n"
     ]
    },
    {
     "name": "stderr",
     "output_type": "stream",
     "text": [
      " 63%|██████▎   | 842/1335 [24:24<16:12,  1.97s/it]WARNING:Lossy conversion from int64 to uint8. Range [15415, 16384]. Convert image to uint8 prior to saving to suppress this warning.\n",
      " 63%|██████▎   | 844/1335 [24:25<12:57,  1.58s/it]"
     ]
    },
    {
     "name": "stdout",
     "output_type": "stream",
     "text": [
      "('4298837_L_MLO_1.dcm', 3)\n"
     ]
    },
    {
     "name": "stderr",
     "output_type": "stream",
     "text": [
      "WARNING:Lossy conversion from int64 to uint8. Range [15528, 16384]. Convert image to uint8 prior to saving to suppress this warning.\n"
     ]
    },
    {
     "name": "stdout",
     "output_type": "stream",
     "text": [
      "('5209804_R_CC_1.dcm', 2)\n"
     ]
    },
    {
     "name": "stderr",
     "output_type": "stream",
     "text": [
      " 63%|██████▎   | 845/1335 [24:28<14:19,  1.75s/it]WARNING:Lossy conversion from int64 to uint8. Range [15068, 16384]. Convert image to uint8 prior to saving to suppress this warning.\n"
     ]
    },
    {
     "name": "stdout",
     "output_type": "stream",
     "text": [
      "('4441082_L_MLO_1.dcm', 2)\n"
     ]
    },
    {
     "name": "stderr",
     "output_type": "stream",
     "text": [
      " 63%|██████▎   | 846/1335 [24:30<15:27,  1.90s/it]WARNING:Lossy conversion from int64 to uint8. Range [15346, 16384]. Convert image to uint8 prior to saving to suppress this warning.\n"
     ]
    },
    {
     "name": "stdout",
     "output_type": "stream",
     "text": [
      "('5182867_R_MLO_1.dcm', 2)\n"
     ]
    },
    {
     "name": "stderr",
     "output_type": "stream",
     "text": [
      " 63%|██████▎   | 847/1335 [24:32<16:06,  1.98s/it]WARNING:Lossy conversion from int64 to uint8. Range [15539, 16384]. Convert image to uint8 prior to saving to suppress this warning.\n"
     ]
    },
    {
     "name": "stdout",
     "output_type": "stream",
     "text": [
      "('76168600_R_CC_1.dcm', 2)\n"
     ]
    },
    {
     "name": "stderr",
     "output_type": "stream",
     "text": [
      " 64%|██████▎   | 850/1335 [24:34<12:57,  1.60s/it]WARNING:Lossy conversion from int64 to uint8. Range [15548, 16384]. Convert image to uint8 prior to saving to suppress this warning.\n"
     ]
    },
    {
     "name": "stdout",
     "output_type": "stream",
     "text": [
      "('4360451_L_MLO_1.dcm', 2)\n"
     ]
    },
    {
     "name": "stderr",
     "output_type": "stream",
     "text": [
      " 64%|██████▎   | 851/1335 [24:36<14:37,  1.81s/it]WARNING:Lossy conversion from int64 to uint8. Range [15276, 16384]. Convert image to uint8 prior to saving to suppress this warning.\n"
     ]
    },
    {
     "name": "stdout",
     "output_type": "stream",
     "text": [
      "('76269418_R_MLO_1.dcm', 2)\n"
     ]
    },
    {
     "name": "stderr",
     "output_type": "stream",
     "text": [
      " 64%|██████▍   | 852/1335 [24:39<15:28,  1.92s/it]WARNING:Lossy conversion from int64 to uint8. Range [15088, 16384]. Convert image to uint8 prior to saving to suppress this warning.\n"
     ]
    },
    {
     "name": "stdout",
     "output_type": "stream",
     "text": [
      "('4472726_L_MLO_1.dcm', 2)\n"
     ]
    },
    {
     "name": "stderr",
     "output_type": "stream",
     "text": [
      " 64%|██████▍   | 853/1335 [24:41<16:03,  2.00s/it]WARNING:Lossy conversion from int64 to uint8. Range [15183, 16384]. Convert image to uint8 prior to saving to suppress this warning.\n",
      " 64%|██████▍   | 854/1335 [24:42<14:37,  1.82s/it]"
     ]
    },
    {
     "name": "stdout",
     "output_type": "stream",
     "text": [
      "('75038187_R_MLO_1.dcm', 3)\n"
     ]
    },
    {
     "name": "stderr",
     "output_type": "stream",
     "text": [
      "WARNING:Lossy conversion from int64 to uint8. Range [15120, 16384]. Convert image to uint8 prior to saving to suppress this warning.\n"
     ]
    },
    {
     "name": "stdout",
     "output_type": "stream",
     "text": [
      "('3611751_R_CC_1.dcm', 3)\n"
     ]
    },
    {
     "name": "stderr",
     "output_type": "stream",
     "text": [
      " 64%|██████▍   | 855/1335 [24:44<15:19,  1.92s/it]WARNING:Lossy conversion from int64 to uint8. Range [15320, 16384]. Convert image to uint8 prior to saving to suppress this warning.\n"
     ]
    },
    {
     "name": "stdout",
     "output_type": "stream",
     "text": [
      "('75989500_R_MLO_1.dcm', 3)\n"
     ]
    },
    {
     "name": "stderr",
     "output_type": "stream",
     "text": [
      " 64%|██████▍   | 856/1335 [24:47<15:49,  1.98s/it]WARNING:Lossy conversion from int64 to uint8. Range [15430, 16384]. Convert image to uint8 prior to saving to suppress this warning.\n"
     ]
    },
    {
     "name": "stdout",
     "output_type": "stream",
     "text": [
      "('3554447_L_CC_1.dcm', 2)\n"
     ]
    },
    {
     "name": "stderr",
     "output_type": "stream",
     "text": [
      " 64%|██████▍   | 857/1335 [24:49<16:24,  2.06s/it]WARNING:Lossy conversion from int64 to uint8. Range [15340, 16384]. Convert image to uint8 prior to saving to suppress this warning.\n",
      " 64%|██████▍   | 858/1335 [24:50<14:37,  1.84s/it]"
     ]
    },
    {
     "name": "stdout",
     "output_type": "stream",
     "text": [
      "('76415344_R_CC_1.dcm', 3)\n"
     ]
    },
    {
     "name": "stderr",
     "output_type": "stream",
     "text": [
      "WARNING:Lossy conversion from int64 to uint8. Range [15429, 16384]. Convert image to uint8 prior to saving to suppress this warning.\n"
     ]
    },
    {
     "name": "stdout",
     "output_type": "stream",
     "text": [
      "('3602828_R_MLO_1.dcm', 1)\n"
     ]
    },
    {
     "name": "stderr",
     "output_type": "stream",
     "text": [
      " 64%|██████▍   | 859/1335 [24:52<15:28,  1.95s/it]WARNING:Lossy conversion from int64 to uint8. Range [15085, 16384]. Convert image to uint8 prior to saving to suppress this warning.\n"
     ]
    },
    {
     "name": "stdout",
     "output_type": "stream",
     "text": [
      "('76522651_L_MLO_1.dcm', 3)\n"
     ]
    },
    {
     "name": "stderr",
     "output_type": "stream",
     "text": [
      " 64%|██████▍   | 860/1335 [24:55<16:13,  2.05s/it]WARNING:Lossy conversion from int64 to uint8. Range [15223, 16384]. Convert image to uint8 prior to saving to suppress this warning.\n",
      " 65%|██████▍   | 862/1335 [24:56<12:54,  1.64s/it]"
     ]
    },
    {
     "name": "stdout",
     "output_type": "stream",
     "text": [
      "('4236900_R_MLO_1.dcm', 3)\n"
     ]
    },
    {
     "name": "stderr",
     "output_type": "stream",
     "text": [
      "WARNING:Lossy conversion from int64 to uint8. Range [15393, 16384]. Convert image to uint8 prior to saving to suppress this warning.\n"
     ]
    },
    {
     "name": "stdout",
     "output_type": "stream",
     "text": [
      "('75979901_R_CC_1.dcm', 2)\n"
     ]
    },
    {
     "name": "stderr",
     "output_type": "stream",
     "text": [
      " 65%|██████▍   | 863/1335 [24:58<14:07,  1.80s/it]WARNING:Lossy conversion from int64 to uint8. Range [15343, 16384]. Convert image to uint8 prior to saving to suppress this warning.\n",
      " 65%|██████▍   | 864/1335 [24:59<13:03,  1.66s/it]"
     ]
    },
    {
     "name": "stdout",
     "output_type": "stream",
     "text": [
      "('76267257_L_MLO_1.dcm', 2)\n"
     ]
    },
    {
     "name": "stderr",
     "output_type": "stream",
     "text": [
      "WARNING:Lossy conversion from int64 to uint8. Range [15416, 16384]. Convert image to uint8 prior to saving to suppress this warning.\n"
     ]
    },
    {
     "name": "stdout",
     "output_type": "stream",
     "text": [
      "('76418067_L_CC_1.dcm', 2)\n"
     ]
    },
    {
     "name": "stderr",
     "output_type": "stream",
     "text": [
      " 65%|██████▍   | 865/1335 [25:02<14:13,  1.82s/it]WARNING:Lossy conversion from int64 to uint8. Range [15344, 16384]. Convert image to uint8 prior to saving to suppress this warning.\n"
     ]
    },
    {
     "name": "stdout",
     "output_type": "stream",
     "text": [
      "('3589676_L_MLO_1.dcm', 2)\n"
     ]
    },
    {
     "name": "stderr",
     "output_type": "stream",
     "text": [
      " 65%|██████▍   | 866/1335 [25:04<15:01,  1.92s/it]WARNING:Lossy conversion from int64 to uint8. Range [15268, 16384]. Convert image to uint8 prior to saving to suppress this warning.\n"
     ]
    },
    {
     "name": "stdout",
     "output_type": "stream",
     "text": [
      "('3640539_R_MLO_1.dcm', 1)\n"
     ]
    },
    {
     "name": "stderr",
     "output_type": "stream",
     "text": [
      " 65%|██████▌   | 868/1335 [25:06<12:59,  1.67s/it]WARNING:Lossy conversion from int64 to uint8. Range [15208, 16384]. Convert image to uint8 prior to saving to suppress this warning.\n"
     ]
    },
    {
     "name": "stdout",
     "output_type": "stream",
     "text": [
      "('4441082_R_MLO_1.dcm', 2)\n"
     ]
    },
    {
     "name": "stderr",
     "output_type": "stream",
     "text": [
      " 65%|██████▌   | 869/1335 [25:08<14:07,  1.82s/it]WARNING:Lossy conversion from int64 to uint8. Range [15374, 16384]. Convert image to uint8 prior to saving to suppress this warning.\n"
     ]
    },
    {
     "name": "stdout",
     "output_type": "stream",
     "text": [
      "('76071602_R_MLO_1.dcm', 2)\n"
     ]
    },
    {
     "name": "stderr",
     "output_type": "stream",
     "text": [
      " 65%|██████▌   | 870/1335 [25:10<14:55,  1.93s/it]WARNING:Lossy conversion from int64 to uint8. Range [15410, 16384]. Convert image to uint8 prior to saving to suppress this warning.\n"
     ]
    },
    {
     "name": "stdout",
     "output_type": "stream",
     "text": [
      "('4353445_R_CC_1.dcm', 3)\n"
     ]
    },
    {
     "name": "stderr",
     "output_type": "stream",
     "text": [
      " 65%|██████▌   | 871/1335 [25:12<15:29,  2.00s/it]WARNING:Lossy conversion from int64 to uint8. Range [15334, 16384]. Convert image to uint8 prior to saving to suppress this warning.\n"
     ]
    },
    {
     "name": "stdout",
     "output_type": "stream",
     "text": [
      "('76210432_R_CC_1.dcm', 2)\n"
     ]
    },
    {
     "name": "stderr",
     "output_type": "stream",
     "text": [
      " 65%|██████▌   | 872/1335 [25:15<15:48,  2.05s/it]WARNING:Lossy conversion from int64 to uint8. Range [15378, 16384]. Convert image to uint8 prior to saving to suppress this warning.\n",
      " 65%|██████▌   | 873/1335 [25:16<14:16,  1.85s/it]"
     ]
    },
    {
     "name": "stdout",
     "output_type": "stream",
     "text": [
      "('5288360_L_CC_1.dcm', 2)\n"
     ]
    },
    {
     "name": "stderr",
     "output_type": "stream",
     "text": [
      "WARNING:Lossy conversion from int64 to uint8. Range [15288, 16384]. Convert image to uint8 prior to saving to suppress this warning.\n"
     ]
    },
    {
     "name": "stdout",
     "output_type": "stream",
     "text": [
      "('75063022_R_CC_1.dcm', 2)\n"
     ]
    },
    {
     "name": "stderr",
     "output_type": "stream",
     "text": [
      " 65%|██████▌   | 874/1335 [25:18<14:57,  1.95s/it]WARNING:Lossy conversion from int64 to uint8. Range [15490, 16384]. Convert image to uint8 prior to saving to suppress this warning.\n"
     ]
    },
    {
     "name": "stdout",
     "output_type": "stream",
     "text": [
      "('76000569_R_CC_1.dcm', 2)\n"
     ]
    },
    {
     "name": "stderr",
     "output_type": "stream",
     "text": [
      " 66%|██████▌   | 875/1335 [25:20<15:28,  2.02s/it]WARNING:Lossy conversion from int64 to uint8. Range [15352, 16384]. Convert image to uint8 prior to saving to suppress this warning.\n"
     ]
    },
    {
     "name": "stdout",
     "output_type": "stream",
     "text": [
      "('76386434_R_MLO_1.dcm', 2)\n"
     ]
    },
    {
     "name": "stderr",
     "output_type": "stream",
     "text": [
      " 66%|██████▌   | 876/1335 [25:23<15:55,  2.08s/it]WARNING:Lossy conversion from int64 to uint8. Range [15415, 16384]. Convert image to uint8 prior to saving to suppress this warning.\n"
     ]
    },
    {
     "name": "stdout",
     "output_type": "stream",
     "text": [
      "('76534744_R_CC_1.dcm', 2)\n"
     ]
    },
    {
     "name": "stderr",
     "output_type": "stream",
     "text": [
      " 66%|██████▌   | 877/1335 [25:25<16:01,  2.10s/it]WARNING:Lossy conversion from int64 to uint8. Range [15398, 16384]. Convert image to uint8 prior to saving to suppress this warning.\n"
     ]
    },
    {
     "name": "stdout",
     "output_type": "stream",
     "text": [
      "('76475506_R_CC_1.dcm', 3)\n"
     ]
    },
    {
     "name": "stderr",
     "output_type": "stream",
     "text": [
      " 66%|██████▌   | 879/1335 [25:27<13:40,  1.80s/it]WARNING:Lossy conversion from int64 to uint8. Range [15346, 16384]. Convert image to uint8 prior to saving to suppress this warning.\n"
     ]
    },
    {
     "name": "stdout",
     "output_type": "stream",
     "text": [
      "('3903811_R_CC_1.dcm', 2)\n"
     ]
    },
    {
     "name": "stderr",
     "output_type": "stream",
     "text": [
      " 66%|██████▌   | 880/1335 [25:29<14:23,  1.90s/it]WARNING:Lossy conversion from int64 to uint8. Range [15274, 16384]. Convert image to uint8 prior to saving to suppress this warning.\n"
     ]
    },
    {
     "name": "stdout",
     "output_type": "stream",
     "text": [
      "('76460754_L_CC_1.dcm', 2)\n"
     ]
    },
    {
     "name": "stderr",
     "output_type": "stream",
     "text": [
      " 66%|██████▌   | 881/1335 [25:31<15:05,  2.00s/it]WARNING:Lossy conversion from int64 to uint8. Range [15364, 16384]. Convert image to uint8 prior to saving to suppress this warning.\n"
     ]
    },
    {
     "name": "stdout",
     "output_type": "stream",
     "text": [
      "('76000456_L_MLO_1.dcm', 1)\n"
     ]
    },
    {
     "name": "stderr",
     "output_type": "stream",
     "text": [
      " 66%|██████▌   | 882/1335 [25:34<15:42,  2.08s/it]WARNING:Lossy conversion from int64 to uint8. Range [15463, 16384]. Convert image to uint8 prior to saving to suppress this warning.\n"
     ]
    },
    {
     "name": "stdout",
     "output_type": "stream",
     "text": [
      "('5237629_L_MLO_1.dcm', 3)\n"
     ]
    },
    {
     "name": "stderr",
     "output_type": "stream",
     "text": [
      " 66%|██████▌   | 883/1335 [25:36<16:03,  2.13s/it]WARNING:Lossy conversion from int64 to uint8. Range [15445, 16384]. Convert image to uint8 prior to saving to suppress this warning.\n"
     ]
    },
    {
     "name": "stdout",
     "output_type": "stream",
     "text": [
      "('76457450_R_CC_1.dcm', 1)\n"
     ]
    },
    {
     "name": "stderr",
     "output_type": "stream",
     "text": [
      " 66%|██████▌   | 884/1335 [25:38<16:10,  2.15s/it]WARNING:Lossy conversion from int64 to uint8. Range [15254, 16384]. Convert image to uint8 prior to saving to suppress this warning.\n"
     ]
    },
    {
     "name": "stdout",
     "output_type": "stream",
     "text": [
      "('76193968_L_CC_1.dcm', 2)\n"
     ]
    },
    {
     "name": "stderr",
     "output_type": "stream",
     "text": [
      " 66%|██████▋   | 885/1335 [25:40<16:16,  2.17s/it]WARNING:Lossy conversion from int64 to uint8. Range [15439, 16384]. Convert image to uint8 prior to saving to suppress this warning.\n"
     ]
    },
    {
     "name": "stdout",
     "output_type": "stream",
     "text": [
      "('76088925_R_CC_1.dcm', 3)\n"
     ]
    },
    {
     "name": "stderr",
     "output_type": "stream",
     "text": [
      " 66%|██████▋   | 886/1335 [25:42<16:13,  2.17s/it]WARNING:Lossy conversion from int64 to uint8. Range [15297, 16384]. Convert image to uint8 prior to saving to suppress this warning.\n"
     ]
    },
    {
     "name": "stdout",
     "output_type": "stream",
     "text": [
      "('76269418_L_CC_1.dcm', 2)\n"
     ]
    },
    {
     "name": "stderr",
     "output_type": "stream",
     "text": [
      " 66%|██████▋   | 887/1335 [25:45<16:15,  2.18s/it]WARNING:Lossy conversion from int64 to uint8. Range [15044, 16384]. Convert image to uint8 prior to saving to suppress this warning.\n",
      " 67%|██████▋   | 888/1335 [25:46<14:28,  1.94s/it]"
     ]
    },
    {
     "name": "stdout",
     "output_type": "stream",
     "text": [
      "('76512652_L_MLO_1.dcm', 3)\n"
     ]
    },
    {
     "name": "stderr",
     "output_type": "stream",
     "text": [
      "WARNING:Lossy conversion from int64 to uint8. Range [15256, 16384]. Convert image to uint8 prior to saving to suppress this warning.\n",
      " 67%|██████▋   | 894/1335 [25:47<10:30,  1.43s/it]"
     ]
    },
    {
     "name": "stdout",
     "output_type": "stream",
     "text": [
      "('75038187_L_MLO_1.dcm', 3)\n"
     ]
    },
    {
     "name": "stderr",
     "output_type": "stream",
     "text": [
      "WARNING:Lossy conversion from int64 to uint8. Range [15329, 16384]. Convert image to uint8 prior to saving to suppress this warning.\n",
      " 67%|██████▋   | 895/1335 [25:49<10:17,  1.40s/it]"
     ]
    },
    {
     "name": "stdout",
     "output_type": "stream",
     "text": [
      "('76013463_R_MLO_1.dcm', 4)\n"
     ]
    },
    {
     "name": "stderr",
     "output_type": "stream",
     "text": [
      "WARNING:Lossy conversion from int64 to uint8. Range [15130, 16384]. Convert image to uint8 prior to saving to suppress this warning.\n",
      " 67%|██████▋   | 896/1335 [25:50<10:11,  1.39s/it]"
     ]
    },
    {
     "name": "stdout",
     "output_type": "stream",
     "text": [
      "('76482137_L_CC_1.dcm', 3)\n"
     ]
    },
    {
     "name": "stderr",
     "output_type": "stream",
     "text": [
      "WARNING:Lossy conversion from int64 to uint8. Range [15332, 16384]. Convert image to uint8 prior to saving to suppress this warning.\n"
     ]
    },
    {
     "name": "stdout",
     "output_type": "stream",
     "text": [
      "('76077695_R_MLO_1.dcm', 1)\n"
     ]
    },
    {
     "name": "stderr",
     "output_type": "stream",
     "text": [
      " 67%|██████▋   | 897/1335 [25:52<12:01,  1.65s/it]WARNING:Lossy conversion from int64 to uint8. Range [15051, 16384]. Convert image to uint8 prior to saving to suppress this warning.\n"
     ]
    },
    {
     "name": "stdout",
     "output_type": "stream",
     "text": [
      "('76210432_L_MLO_1.dcm', 2)\n"
     ]
    },
    {
     "name": "stderr",
     "output_type": "stream",
     "text": [
      " 67%|██████▋   | 901/1335 [25:54<09:29,  1.31s/it]WARNING:Lossy conversion from int64 to uint8. Range [15240, 16384]. Convert image to uint8 prior to saving to suppress this warning.\n",
      " 68%|██████▊   | 902/1335 [25:56<09:32,  1.32s/it]"
     ]
    },
    {
     "name": "stdout",
     "output_type": "stream",
     "text": [
      "('5161848_L_MLO_1.dcm', 3)\n"
     ]
    },
    {
     "name": "stderr",
     "output_type": "stream",
     "text": [
      "WARNING:Lossy conversion from int64 to uint8. Range [15361, 16384]. Convert image to uint8 prior to saving to suppress this warning.\n"
     ]
    },
    {
     "name": "stdout",
     "output_type": "stream",
     "text": [
      "('76132751_L_MLO_1.dcm', 2)\n"
     ]
    },
    {
     "name": "stderr",
     "output_type": "stream",
     "text": [
      " 68%|██████▊   | 903/1335 [25:58<11:15,  1.56s/it]WARNING:Lossy conversion from int64 to uint8. Range [15323, 16384]. Convert image to uint8 prior to saving to suppress this warning.\n",
      " 68%|██████▊   | 904/1335 [25:59<10:45,  1.50s/it]"
     ]
    },
    {
     "name": "stdout",
     "output_type": "stream",
     "text": [
      "('76194054_L_CC_1.dcm', 2)\n"
     ]
    },
    {
     "name": "stderr",
     "output_type": "stream",
     "text": [
      "WARNING:Lossy conversion from int64 to uint8. Range [15407, 16384]. Convert image to uint8 prior to saving to suppress this warning.\n"
     ]
    },
    {
     "name": "stdout",
     "output_type": "stream",
     "text": [
      "('5265592_L_CC_1.dcm', 2)\n"
     ]
    },
    {
     "name": "stderr",
     "output_type": "stream",
     "text": [
      " 68%|██████▊   | 905/1335 [26:01<12:13,  1.71s/it]WARNING:Lossy conversion from int64 to uint8. Range [15474, 16384]. Convert image to uint8 prior to saving to suppress this warning.\n"
     ]
    },
    {
     "name": "stdout",
     "output_type": "stream",
     "text": [
      "('75974175_L_MLO_1.dcm', 2)\n"
     ]
    },
    {
     "name": "stderr",
     "output_type": "stream",
     "text": [
      " 68%|██████▊   | 906/1335 [26:04<13:20,  1.87s/it]WARNING:Lossy conversion from int64 to uint8. Range [15363, 16384]. Convert image to uint8 prior to saving to suppress this warning.\n",
      " 68%|██████▊   | 907/1335 [26:05<12:15,  1.72s/it]"
     ]
    },
    {
     "name": "stdout",
     "output_type": "stream",
     "text": [
      "('4434815_R_MLO_1.dcm', 2)\n"
     ]
    },
    {
     "name": "stderr",
     "output_type": "stream",
     "text": [
      "WARNING:Lossy conversion from int64 to uint8. Range [15389, 16384]. Convert image to uint8 prior to saving to suppress this warning.\n"
     ]
    },
    {
     "name": "stdout",
     "output_type": "stream",
     "text": [
      "('76321888_R_MLO_1.dcm', 2)\n"
     ]
    },
    {
     "name": "stderr",
     "output_type": "stream",
     "text": [
      " 68%|██████▊   | 908/1335 [26:07<13:07,  1.84s/it]WARNING:Lossy conversion from int64 to uint8. Range [15451, 16384]. Convert image to uint8 prior to saving to suppress this warning.\n"
     ]
    },
    {
     "name": "stdout",
     "output_type": "stream",
     "text": [
      "('75883791_R_MLO_1.dcm', 1)\n"
     ]
    },
    {
     "name": "stderr",
     "output_type": "stream",
     "text": [
      " 68%|██████▊   | 909/1335 [26:09<13:49,  1.95s/it]WARNING:Lossy conversion from int64 to uint8. Range [15057, 16384]. Convert image to uint8 prior to saving to suppress this warning.\n"
     ]
    },
    {
     "name": "stdout",
     "output_type": "stream",
     "text": [
      "('76394092_L_MLO_1.dcm', 2)\n"
     ]
    },
    {
     "name": "stderr",
     "output_type": "stream",
     "text": [
      " 68%|██████▊   | 910/1335 [26:12<14:09,  2.00s/it]WARNING:Lossy conversion from int64 to uint8. Range [15454, 16384]. Convert image to uint8 prior to saving to suppress this warning.\n"
     ]
    },
    {
     "name": "stdout",
     "output_type": "stream",
     "text": [
      "('76147248_L_CC_1.dcm', 2)\n"
     ]
    },
    {
     "name": "stderr",
     "output_type": "stream",
     "text": [
      " 68%|██████▊   | 912/1335 [26:14<12:12,  1.73s/it]WARNING:Lossy conversion from int64 to uint8. Range [15457, 16384]. Convert image to uint8 prior to saving to suppress this warning.\n"
     ]
    },
    {
     "name": "stdout",
     "output_type": "stream",
     "text": [
      "('5182867_L_CC_1.dcm', 2)\n"
     ]
    },
    {
     "name": "stderr",
     "output_type": "stream",
     "text": [
      " 68%|██████▊   | 913/1335 [26:16<13:09,  1.87s/it]WARNING:Lossy conversion from int64 to uint8. Range [15356, 16384]. Convert image to uint8 prior to saving to suppress this warning.\n"
     ]
    },
    {
     "name": "stdout",
     "output_type": "stream",
     "text": [
      "('3805814_L_MLO_1.dcm', 3)\n"
     ]
    },
    {
     "name": "stderr",
     "output_type": "stream",
     "text": [
      " 69%|██████▊   | 915/1335 [26:18<11:26,  1.63s/it]WARNING:Lossy conversion from int64 to uint8. Range [15267, 16384]. Convert image to uint8 prior to saving to suppress this warning.\n",
      " 69%|██████▊   | 917/1335 [26:20<09:26,  1.36s/it]"
     ]
    },
    {
     "name": "stdout",
     "output_type": "stream",
     "text": [
      "('76455220_R_MLO_1.dcm', 2)\n"
     ]
    },
    {
     "name": "stderr",
     "output_type": "stream",
     "text": [
      "WARNING:Lossy conversion from int64 to uint8. Range [15000, 16384]. Convert image to uint8 prior to saving to suppress this warning.\n"
     ]
    },
    {
     "name": "stdout",
     "output_type": "stream",
     "text": [
      "('76268663_L_MLO_1.dcm', 2)\n"
     ]
    },
    {
     "name": "stderr",
     "output_type": "stream",
     "text": [
      " 69%|██████▉   | 918/1335 [26:22<11:03,  1.59s/it]WARNING:Lossy conversion from int64 to uint8. Range [15389, 16384]. Convert image to uint8 prior to saving to suppress this warning.\n"
     ]
    },
    {
     "name": "stdout",
     "output_type": "stream",
     "text": [
      "('3805814_L_CC_1.dcm', 3)\n"
     ]
    },
    {
     "name": "stderr",
     "output_type": "stream",
     "text": [
      " 69%|██████▉   | 920/1335 [26:24<09:56,  1.44s/it]WARNING:Lossy conversion from int64 to uint8. Range [15164, 16384]. Convert image to uint8 prior to saving to suppress this warning.\n",
      " 69%|██████▉   | 921/1335 [26:25<09:41,  1.40s/it]"
     ]
    },
    {
     "name": "stdout",
     "output_type": "stream",
     "text": [
      "('5253729_L_CC_1.dcm', 2)\n"
     ]
    },
    {
     "name": "stderr",
     "output_type": "stream",
     "text": [
      "WARNING:Lossy conversion from int64 to uint8. Range [15270, 16384]. Convert image to uint8 prior to saving to suppress this warning.\n"
     ]
    },
    {
     "name": "stdout",
     "output_type": "stream",
     "text": [
      "('76210432_R_MLO_1.dcm', 2)\n"
     ]
    },
    {
     "name": "stderr",
     "output_type": "stream",
     "text": [
      " 69%|██████▉   | 922/1335 [26:27<11:11,  1.63s/it]WARNING:Lossy conversion from int64 to uint8. Range [15339, 16384]. Convert image to uint8 prior to saving to suppress this warning.\n"
     ]
    },
    {
     "name": "stdout",
     "output_type": "stream",
     "text": [
      "('5169089_R_CC_1.dcm', 2)\n"
     ]
    },
    {
     "name": "stderr",
     "output_type": "stream",
     "text": [
      " 69%|██████▉   | 923/1335 [26:30<12:22,  1.80s/it]WARNING:Lossy conversion from int64 to uint8. Range [15340, 16384]. Convert image to uint8 prior to saving to suppress this warning.\n",
      " 69%|██████▉   | 924/1335 [26:31<11:29,  1.68s/it]"
     ]
    },
    {
     "name": "stdout",
     "output_type": "stream",
     "text": [
      "('4245154_R_MLO_1.dcm', 2)\n"
     ]
    },
    {
     "name": "stderr",
     "output_type": "stream",
     "text": [
      "WARNING:Lossy conversion from int64 to uint8. Range [15415, 16384]. Convert image to uint8 prior to saving to suppress this warning.\n"
     ]
    },
    {
     "name": "stdout",
     "output_type": "stream",
     "text": [
      "('76282837_L_MLO_1.dcm', 3)\n"
     ]
    },
    {
     "name": "stderr",
     "output_type": "stream",
     "text": [
      " 69%|██████▉   | 925/1335 [26:33<12:27,  1.82s/it]WARNING:Lossy conversion from int64 to uint8. Range [15380, 16384]. Convert image to uint8 prior to saving to suppress this warning.\n"
     ]
    },
    {
     "name": "stdout",
     "output_type": "stream",
     "text": [
      "('3589676_R_CC_1.dcm', 2)\n"
     ]
    },
    {
     "name": "stderr",
     "output_type": "stream",
     "text": [
      " 69%|██████▉   | 926/1335 [26:35<13:00,  1.91s/it]WARNING:Lossy conversion from int64 to uint8. Range [15459, 16384]. Convert image to uint8 prior to saving to suppress this warning.\n"
     ]
    },
    {
     "name": "stdout",
     "output_type": "stream",
     "text": [
      "('76475506_R_MLO_1.dcm', 3)\n"
     ]
    },
    {
     "name": "stderr",
     "output_type": "stream",
     "text": [
      " 69%|██████▉   | 927/1335 [26:37<13:37,  2.00s/it]WARNING:Lossy conversion from int64 to uint8. Range [15263, 16384]. Convert image to uint8 prior to saving to suppress this warning.\n",
      " 70%|██████▉   | 928/1335 [26:39<12:21,  1.82s/it]"
     ]
    },
    {
     "name": "stdout",
     "output_type": "stream",
     "text": [
      "('76541983_L_MLO_1.dcm', 2)\n"
     ]
    },
    {
     "name": "stderr",
     "output_type": "stream",
     "text": [
      "WARNING:Lossy conversion from int64 to uint8. Range [15391, 16384]. Convert image to uint8 prior to saving to suppress this warning.\n"
     ]
    },
    {
     "name": "stdout",
     "output_type": "stream",
     "text": [
      "('4531219_L_MLO_1.dcm', 3)\n"
     ]
    },
    {
     "name": "stderr",
     "output_type": "stream",
     "text": [
      " 70%|██████▉   | 929/1335 [26:41<13:06,  1.94s/it]WARNING:Lossy conversion from int64 to uint8. Range [15313, 16384]. Convert image to uint8 prior to saving to suppress this warning.\n"
     ]
    },
    {
     "name": "stdout",
     "output_type": "stream",
     "text": [
      "('76364161_R_MLO_1.dcm', 2)\n"
     ]
    },
    {
     "name": "stderr",
     "output_type": "stream",
     "text": [
      " 70%|██████▉   | 931/1335 [26:43<11:17,  1.68s/it]WARNING:Lossy conversion from int64 to uint8. Range [15338, 16384]. Convert image to uint8 prior to saving to suppress this warning.\n",
      " 70%|██████▉   | 933/1335 [26:44<09:12,  1.37s/it]"
     ]
    },
    {
     "name": "stdout",
     "output_type": "stream",
     "text": [
      "('76398885_R_MLO_1.dcm', 3)\n"
     ]
    },
    {
     "name": "stderr",
     "output_type": "stream",
     "text": [
      "WARNING:Lossy conversion from int64 to uint8. Range [15293, 16384]. Convert image to uint8 prior to saving to suppress this warning.\n",
      " 70%|██████▉   | 934/1335 [26:46<09:12,  1.38s/it]"
     ]
    },
    {
     "name": "stdout",
     "output_type": "stream",
     "text": [
      "('76068458_L_MLO_1.dcm', 2)\n"
     ]
    },
    {
     "name": "stderr",
     "output_type": "stream",
     "text": [
      "WARNING:Lossy conversion from int64 to uint8. Range [15386, 16384]. Convert image to uint8 prior to saving to suppress this warning.\n"
     ]
    },
    {
     "name": "stdout",
     "output_type": "stream",
     "text": [
      "('5209804_L_MLO_1.dcm', 2)\n"
     ]
    },
    {
     "name": "stderr",
     "output_type": "stream",
     "text": [
      " 70%|███████   | 935/1335 [26:48<10:57,  1.64s/it]WARNING:Lossy conversion from int64 to uint8. Range [15270, 16384]. Convert image to uint8 prior to saving to suppress this warning.\n",
      " 70%|███████   | 936/1335 [26:50<10:29,  1.58s/it]"
     ]
    },
    {
     "name": "stdout",
     "output_type": "stream",
     "text": [
      "('76243793_L_MLO_1.dcm', 2)\n"
     ]
    },
    {
     "name": "stderr",
     "output_type": "stream",
     "text": [
      "WARNING:Lossy conversion from int64 to uint8. Range [15423, 16384]. Convert image to uint8 prior to saving to suppress this warning.\n",
      " 70%|███████   | 937/1335 [26:51<09:58,  1.50s/it]"
     ]
    },
    {
     "name": "stdout",
     "output_type": "stream",
     "text": [
      "('4291502_R_CC_1.dcm', 2)\n"
     ]
    },
    {
     "name": "stderr",
     "output_type": "stream",
     "text": [
      "WARNING:Lossy conversion from int64 to uint8. Range [15318, 16384]. Convert image to uint8 prior to saving to suppress this warning.\n"
     ]
    },
    {
     "name": "stdout",
     "output_type": "stream",
     "text": [
      "('5233702_R_MLO_1.dcm', 2)\n"
     ]
    },
    {
     "name": "stderr",
     "output_type": "stream",
     "text": [
      " 70%|███████   | 938/1335 [26:53<11:14,  1.70s/it]WARNING:Lossy conversion from int64 to uint8. Range [15379, 16384]. Convert image to uint8 prior to saving to suppress this warning.\n",
      " 70%|███████   | 940/1335 [26:54<09:07,  1.39s/it]"
     ]
    },
    {
     "name": "stdout",
     "output_type": "stream",
     "text": [
      "('76415344_L_CC_1.dcm', 3)\n"
     ]
    },
    {
     "name": "stderr",
     "output_type": "stream",
     "text": [
      "WARNING:Lossy conversion from int64 to uint8. Range [15426, 16384]. Convert image to uint8 prior to saving to suppress this warning.\n"
     ]
    },
    {
     "name": "stdout",
     "output_type": "stream",
     "text": [
      "('76000569_R_MLO_1.dcm', 2)\n"
     ]
    },
    {
     "name": "stderr",
     "output_type": "stream",
     "text": [
      " 70%|███████   | 941/1335 [26:57<10:45,  1.64s/it]WARNING:Lossy conversion from int64 to uint8. Range [15266, 16384]. Convert image to uint8 prior to saving to suppress this warning.\n"
     ]
    },
    {
     "name": "stdout",
     "output_type": "stream",
     "text": [
      "('5169089_L_MLO_1.dcm', 2)\n"
     ]
    },
    {
     "name": "stderr",
     "output_type": "stream",
     "text": [
      " 71%|███████   | 942/1335 [26:59<11:45,  1.79s/it]WARNING:Lossy conversion from int64 to uint8. Range [15423, 16384]. Convert image to uint8 prior to saving to suppress this warning.\n"
     ]
    },
    {
     "name": "stdout",
     "output_type": "stream",
     "text": [
      "('76465504_R_CC_1.dcm', 2)\n"
     ]
    },
    {
     "name": "stderr",
     "output_type": "stream",
     "text": [
      " 71%|███████   | 943/1335 [27:01<12:30,  1.91s/it]WARNING:Lossy conversion from int64 to uint8. Range [15292, 16384]. Convert image to uint8 prior to saving to suppress this warning.\n",
      " 71%|███████   | 944/1335 [27:02<11:23,  1.75s/it]"
     ]
    },
    {
     "name": "stdout",
     "output_type": "stream",
     "text": [
      "('76442661_L_CC_1.dcm', 4)\n"
     ]
    },
    {
     "name": "stderr",
     "output_type": "stream",
     "text": [
      "WARNING:Lossy conversion from int64 to uint8. Range [15000, 16384]. Convert image to uint8 prior to saving to suppress this warning.\n"
     ]
    },
    {
     "name": "stdout",
     "output_type": "stream",
     "text": [
      "('75043410_L_MLO_1.dcm', 2)\n"
     ]
    },
    {
     "name": "stderr",
     "output_type": "stream",
     "text": [
      " 71%|███████   | 945/1335 [27:05<12:23,  1.91s/it]WARNING:Lossy conversion from int64 to uint8. Range [15452, 16384]. Convert image to uint8 prior to saving to suppress this warning.\n"
     ]
    },
    {
     "name": "stdout",
     "output_type": "stream",
     "text": [
      "('76587824_R_MLO_1.dcm', 4)\n"
     ]
    },
    {
     "name": "stderr",
     "output_type": "stream",
     "text": [
      " 71%|███████   | 946/1335 [27:07<12:53,  1.99s/it]WARNING:Lossy conversion from int64 to uint8. Range [15307, 16384]. Convert image to uint8 prior to saving to suppress this warning.\n"
     ]
    },
    {
     "name": "stdout",
     "output_type": "stream",
     "text": [
      "('4328468_R_CC_1.dcm', 2)\n"
     ]
    },
    {
     "name": "stderr",
     "output_type": "stream",
     "text": [
      " 71%|███████   | 947/1335 [27:09<13:09,  2.03s/it]WARNING:Lossy conversion from int64 to uint8. Range [15380, 16384]. Convert image to uint8 prior to saving to suppress this warning.\n",
      " 71%|███████   | 948/1335 [27:10<11:45,  1.82s/it]"
     ]
    },
    {
     "name": "stdout",
     "output_type": "stream",
     "text": [
      "('76013463_R_CC_1.dcm', 4)\n"
     ]
    },
    {
     "name": "stderr",
     "output_type": "stream",
     "text": [
      "WARNING:Lossy conversion from int64 to uint8. Range [15360, 16384]. Convert image to uint8 prior to saving to suppress this warning.\n"
     ]
    },
    {
     "name": "stdout",
     "output_type": "stream",
     "text": [
      "('76272378_R_CC_1.dcm', 2)\n"
     ]
    },
    {
     "name": "stderr",
     "output_type": "stream",
     "text": [
      " 71%|███████   | 949/1335 [27:12<12:28,  1.94s/it]WARNING:Lossy conversion from int64 to uint8. Range [15207, 16384]. Convert image to uint8 prior to saving to suppress this warning.\n"
     ]
    },
    {
     "name": "stdout",
     "output_type": "stream",
     "text": [
      "('75977708_R_CC_1.dcm', 2)\n"
     ]
    },
    {
     "name": "stderr",
     "output_type": "stream",
     "text": [
      " 71%|███████   | 950/1335 [27:15<13:11,  2.06s/it]WARNING:Lossy conversion from int64 to uint8. Range [15243, 16384]. Convert image to uint8 prior to saving to suppress this warning.\n"
     ]
    },
    {
     "name": "stdout",
     "output_type": "stream",
     "text": [
      "('4339045_L_MLO_1.dcm', 2)\n"
     ]
    },
    {
     "name": "stderr",
     "output_type": "stream",
     "text": [
      " 71%|███████   | 951/1335 [27:17<13:32,  2.11s/it]WARNING:Lossy conversion from int64 to uint8. Range [15430, 16384]. Convert image to uint8 prior to saving to suppress this warning.\n"
     ]
    },
    {
     "name": "stdout",
     "output_type": "stream",
     "text": [
      "('76127397_L_CC_1.dcm', 2)\n"
     ]
    },
    {
     "name": "stderr",
     "output_type": "stream",
     "text": [
      " 71%|███████▏  | 953/1335 [27:19<11:33,  1.81s/it]WARNING:Lossy conversion from int64 to uint8. Range [15468, 16384]. Convert image to uint8 prior to saving to suppress this warning.\n"
     ]
    },
    {
     "name": "stdout",
     "output_type": "stream",
     "text": [
      "('5242950_L_CC_1.dcm', 2)\n"
     ]
    },
    {
     "name": "stderr",
     "output_type": "stream",
     "text": [
      " 71%|███████▏  | 954/1335 [27:21<12:11,  1.92s/it]WARNING:Lossy conversion from int64 to uint8. Range [15465, 16384]. Convert image to uint8 prior to saving to suppress this warning.\n"
     ]
    },
    {
     "name": "stdout",
     "output_type": "stream",
     "text": [
      "('4339045_R_CC_1.dcm', 2)\n"
     ]
    },
    {
     "name": "stderr",
     "output_type": "stream",
     "text": [
      " 72%|███████▏  | 955/1335 [27:24<12:34,  1.98s/it]WARNING:Lossy conversion from int64 to uint8. Range [15285, 16384]. Convert image to uint8 prior to saving to suppress this warning.\n"
     ]
    },
    {
     "name": "stdout",
     "output_type": "stream",
     "text": [
      "('76054106_L_MLO_1.dcm', 2)\n"
     ]
    },
    {
     "name": "stderr",
     "output_type": "stream",
     "text": [
      " 72%|███████▏  | 956/1335 [27:26<12:54,  2.04s/it]WARNING:Lossy conversion from int64 to uint8. Range [15381, 16384]. Convert image to uint8 prior to saving to suppress this warning.\n"
     ]
    },
    {
     "name": "stdout",
     "output_type": "stream",
     "text": [
      "('76012842_R_MLO_1.dcm', 2)\n"
     ]
    },
    {
     "name": "stderr",
     "output_type": "stream",
     "text": [
      " 72%|███████▏  | 957/1335 [27:28<13:07,  2.08s/it]WARNING:Lossy conversion from int64 to uint8. Range [15184, 16384]. Convert image to uint8 prior to saving to suppress this warning.\n"
     ]
    },
    {
     "name": "stdout",
     "output_type": "stream",
     "text": [
      "('76460754_L_MLO_1.dcm', 2)\n"
     ]
    },
    {
     "name": "stderr",
     "output_type": "stream",
     "text": [
      " 72%|███████▏  | 958/1335 [27:30<13:20,  2.12s/it]WARNING:Lossy conversion from int64 to uint8. Range [15198, 16384]. Convert image to uint8 prior to saving to suppress this warning.\n"
     ]
    },
    {
     "name": "stdout",
     "output_type": "stream",
     "text": [
      "('76156451_L_MLO_1.dcm', 3)\n"
     ]
    },
    {
     "name": "stderr",
     "output_type": "stream",
     "text": [
      " 72%|███████▏  | 959/1335 [27:32<13:23,  2.14s/it]WARNING:Lossy conversion from int64 to uint8. Range [15342, 16384]. Convert image to uint8 prior to saving to suppress this warning.\n"
     ]
    },
    {
     "name": "stdout",
     "output_type": "stream",
     "text": [
      "('75972630_L_MLO_1.dcm', 2)\n"
     ]
    },
    {
     "name": "stderr",
     "output_type": "stream",
     "text": [
      " 72%|███████▏  | 960/1335 [27:34<13:27,  2.15s/it]WARNING:Lossy conversion from int64 to uint8. Range [15247, 16384]. Convert image to uint8 prior to saving to suppress this warning.\n"
     ]
    },
    {
     "name": "stdout",
     "output_type": "stream",
     "text": [
      "('76145918_L_MLO_1.dcm', 1)\n"
     ]
    },
    {
     "name": "stderr",
     "output_type": "stream",
     "text": [
      " 72%|███████▏  | 961/1335 [27:37<13:36,  2.18s/it]WARNING:Lossy conversion from int64 to uint8. Range [15375, 16384]. Convert image to uint8 prior to saving to suppress this warning.\n"
     ]
    },
    {
     "name": "stdout",
     "output_type": "stream",
     "text": [
      "('3882314_R_MLO_1.dcm', 2)\n"
     ]
    },
    {
     "name": "stderr",
     "output_type": "stream",
     "text": [
      " 72%|███████▏  | 963/1335 [27:39<11:31,  1.86s/it]WARNING:Lossy conversion from int64 to uint8. Range [15370, 16384]. Convert image to uint8 prior to saving to suppress this warning.\n",
      " 72%|███████▏  | 964/1335 [27:40<10:45,  1.74s/it]"
     ]
    },
    {
     "name": "stdout",
     "output_type": "stream",
     "text": [
      "('4298837_L_CC_1.dcm', 3)\n"
     ]
    },
    {
     "name": "stderr",
     "output_type": "stream",
     "text": [
      "WARNING:Lossy conversion from int64 to uint8. Range [15048, 16384]. Convert image to uint8 prior to saving to suppress this warning.\n"
     ]
    },
    {
     "name": "stdout",
     "output_type": "stream",
     "text": [
      "('76443829_R_MLO_1.dcm', 2)\n"
     ]
    },
    {
     "name": "stderr",
     "output_type": "stream",
     "text": [
      " 72%|███████▏  | 965/1335 [27:43<11:31,  1.87s/it]WARNING:Lossy conversion from int64 to uint8. Range [15277, 16384]. Convert image to uint8 prior to saving to suppress this warning.\n"
     ]
    },
    {
     "name": "stdout",
     "output_type": "stream",
     "text": [
      "('76359518_L_MLO_1.dcm', 2)\n"
     ]
    },
    {
     "name": "stderr",
     "output_type": "stream",
     "text": [
      " 72%|███████▏  | 966/1335 [27:45<12:14,  1.99s/it]WARNING:Lossy conversion from int64 to uint8. Range [15260, 16384]. Convert image to uint8 prior to saving to suppress this warning.\n"
     ]
    },
    {
     "name": "stdout",
     "output_type": "stream",
     "text": [
      "('76145918_R_MLO_1.dcm', 1)\n"
     ]
    },
    {
     "name": "stderr",
     "output_type": "stream",
     "text": [
      " 72%|███████▏  | 967/1335 [27:47<12:30,  2.04s/it]WARNING:Lossy conversion from int64 to uint8. Range [15427, 16384]. Convert image to uint8 prior to saving to suppress this warning.\n"
     ]
    },
    {
     "name": "stdout",
     "output_type": "stream",
     "text": [
      "('76000569_L_CC_1.dcm', 2)\n"
     ]
    },
    {
     "name": "stderr",
     "output_type": "stream",
     "text": [
      " 73%|███████▎  | 972/1335 [27:49<09:25,  1.56s/it]WARNING:Lossy conversion from int64 to uint8. Range [15108, 16384]. Convert image to uint8 prior to saving to suppress this warning.\n"
     ]
    },
    {
     "name": "stdout",
     "output_type": "stream",
     "text": [
      "('5163328_R_CC_1.dcm', 2)\n"
     ]
    },
    {
     "name": "stderr",
     "output_type": "stream",
     "text": [
      " 73%|███████▎  | 973/1335 [27:51<10:26,  1.73s/it]WARNING:Lossy conversion from int64 to uint8. Range [15262, 16384]. Convert image to uint8 prior to saving to suppress this warning.\n"
     ]
    },
    {
     "name": "stdout",
     "output_type": "stream",
     "text": [
      "('3854193_R_MLO_1.dcm', 3)\n"
     ]
    },
    {
     "name": "stderr",
     "output_type": "stream",
     "text": [
      " 73%|███████▎  | 975/1335 [27:54<09:15,  1.54s/it]WARNING:Lossy conversion from int64 to uint8. Range [15283, 16384]. Convert image to uint8 prior to saving to suppress this warning.\n"
     ]
    },
    {
     "name": "stdout",
     "output_type": "stream",
     "text": [
      "('3874461_R_MLO_1.dcm', 2)\n"
     ]
    },
    {
     "name": "stderr",
     "output_type": "stream",
     "text": [
      " 73%|███████▎  | 976/1335 [27:56<10:19,  1.73s/it]WARNING:Lossy conversion from int64 to uint8. Range [15464, 16384]. Convert image to uint8 prior to saving to suppress this warning.\n"
     ]
    },
    {
     "name": "stdout",
     "output_type": "stream",
     "text": [
      "('5170980_R_CC_1.dcm', 2)\n"
     ]
    },
    {
     "name": "stderr",
     "output_type": "stream",
     "text": [
      " 73%|███████▎  | 977/1335 [27:58<11:02,  1.85s/it]WARNING:Lossy conversion from int64 to uint8. Range [15353, 16384]. Convert image to uint8 prior to saving to suppress this warning.\n"
     ]
    },
    {
     "name": "stdout",
     "output_type": "stream",
     "text": [
      "('3623181_R_MLO_1.dcm', 2)\n"
     ]
    },
    {
     "name": "stderr",
     "output_type": "stream",
     "text": [
      " 73%|███████▎  | 978/1335 [28:00<11:33,  1.94s/it]WARNING:Lossy conversion from int64 to uint8. Range [15314, 16384]. Convert image to uint8 prior to saving to suppress this warning.\n"
     ]
    },
    {
     "name": "stdout",
     "output_type": "stream",
     "text": [
      "('76219575_L_MLO_1.dcm', 3)\n"
     ]
    },
    {
     "name": "stderr",
     "output_type": "stream",
     "text": [
      " 73%|███████▎  | 979/1335 [28:02<11:54,  2.01s/it]WARNING:Lossy conversion from int64 to uint8. Range [15140, 16384]. Convert image to uint8 prior to saving to suppress this warning.\n"
     ]
    },
    {
     "name": "stdout",
     "output_type": "stream",
     "text": [
      "('76489648_R_MLO_1.dcm', 2)\n"
     ]
    },
    {
     "name": "stderr",
     "output_type": "stream",
     "text": [
      " 73%|███████▎  | 980/1335 [28:04<12:19,  2.08s/it]WARNING:Lossy conversion from int64 to uint8. Range [15489, 16384]. Convert image to uint8 prior to saving to suppress this warning.\n"
     ]
    },
    {
     "name": "stdout",
     "output_type": "stream",
     "text": [
      "('76321888_R_CC_1.dcm', 2)\n"
     ]
    },
    {
     "name": "stderr",
     "output_type": "stream",
     "text": [
      " 73%|███████▎  | 981/1335 [28:07<12:35,  2.13s/it]WARNING:Lossy conversion from int64 to uint8. Range [15491, 16384]. Convert image to uint8 prior to saving to suppress this warning.\n"
     ]
    },
    {
     "name": "stdout",
     "output_type": "stream",
     "text": [
      "('76109399_L_CC_1.dcm', 1)\n"
     ]
    },
    {
     "name": "stderr",
     "output_type": "stream",
     "text": [
      " 74%|███████▎  | 982/1335 [28:09<12:43,  2.16s/it]WARNING:Lossy conversion from int64 to uint8. Range [15525, 16384]. Convert image to uint8 prior to saving to suppress this warning.\n"
     ]
    },
    {
     "name": "stdout",
     "output_type": "stream",
     "text": [
      "('76185900_L_CC_1.dcm', 1)\n"
     ]
    },
    {
     "name": "stderr",
     "output_type": "stream",
     "text": [
      " 74%|███████▎  | 983/1335 [28:11<12:37,  2.15s/it]WARNING:Lossy conversion from int64 to uint8. Range [15223, 16384]. Convert image to uint8 prior to saving to suppress this warning.\n"
     ]
    },
    {
     "name": "stdout",
     "output_type": "stream",
     "text": [
      "('76185900_R_MLO_1.dcm', 1)\n"
     ]
    },
    {
     "name": "stderr",
     "output_type": "stream",
     "text": [
      " 74%|███████▎  | 984/1335 [28:13<12:47,  2.19s/it]WARNING:Lossy conversion from int64 to uint8. Range [15275, 16384]. Convert image to uint8 prior to saving to suppress this warning.\n",
      " 74%|███████▍  | 985/1335 [28:15<11:18,  1.94s/it]"
     ]
    },
    {
     "name": "stdout",
     "output_type": "stream",
     "text": [
      "('5255713_R_CC_1.dcm', 3)\n"
     ]
    },
    {
     "name": "stderr",
     "output_type": "stream",
     "text": [
      "WARNING:Lossy conversion from int64 to uint8. Range [15253, 16384]. Convert image to uint8 prior to saving to suppress this warning.\n"
     ]
    },
    {
     "name": "stdout",
     "output_type": "stream",
     "text": [
      "('76016788_L_MLO_1.dcm', 2)\n"
     ]
    },
    {
     "name": "stderr",
     "output_type": "stream",
     "text": [
      " 74%|███████▍  | 986/1335 [28:17<11:47,  2.03s/it]WARNING:Lossy conversion from int64 to uint8. Range [15342, 16384]. Convert image to uint8 prior to saving to suppress this warning.\n"
     ]
    },
    {
     "name": "stdout",
     "output_type": "stream",
     "text": [
      "('5215632_L_MLO_1.dcm', 2)\n"
     ]
    },
    {
     "name": "stderr",
     "output_type": "stream",
     "text": [
      " 74%|███████▍  | 987/1335 [28:19<12:02,  2.08s/it]WARNING:Lossy conversion from int64 to uint8. Range [15402, 16384]. Convert image to uint8 prior to saving to suppress this warning.\n",
      " 74%|███████▍  | 988/1335 [28:20<10:44,  1.86s/it]"
     ]
    },
    {
     "name": "stdout",
     "output_type": "stream",
     "text": [
      "('5172268_L_MLO_1.dcm', 3)\n"
     ]
    },
    {
     "name": "stderr",
     "output_type": "stream",
     "text": [
      "WARNING:Lossy conversion from int64 to uint8. Range [15050, 16384]. Convert image to uint8 prior to saving to suppress this warning.\n"
     ]
    },
    {
     "name": "stdout",
     "output_type": "stream",
     "text": [
      "('76350365_L_MLO_1.dcm', 2)\n"
     ]
    },
    {
     "name": "stderr",
     "output_type": "stream",
     "text": [
      " 74%|███████▍  | 991/1335 [28:23<08:43,  1.52s/it]WARNING:Lossy conversion from int64 to uint8. Range [15454, 16384]. Convert image to uint8 prior to saving to suppress this warning.\n"
     ]
    },
    {
     "name": "stdout",
     "output_type": "stream",
     "text": [
      "('76147248_R_CC_1.dcm', 2)\n"
     ]
    },
    {
     "name": "stderr",
     "output_type": "stream",
     "text": [
      " 74%|███████▍  | 992/1335 [28:25<09:47,  1.71s/it]WARNING:Lossy conversion from int64 to uint8. Range [15309, 16384]. Convert image to uint8 prior to saving to suppress this warning.\n"
     ]
    },
    {
     "name": "stdout",
     "output_type": "stream",
     "text": [
      "('76049731_R_MLO_1.dcm', 2)\n"
     ]
    },
    {
     "name": "stderr",
     "output_type": "stream",
     "text": [
      " 74%|███████▍  | 993/1335 [28:27<10:30,  1.84s/it]WARNING:Lossy conversion from int64 to uint8. Range [15323, 16384]. Convert image to uint8 prior to saving to suppress this warning.\n"
     ]
    },
    {
     "name": "stdout",
     "output_type": "stream",
     "text": [
      "('3882314_L_CC_1.dcm', 2)\n"
     ]
    },
    {
     "name": "stderr",
     "output_type": "stream",
     "text": [
      " 74%|███████▍  | 994/1335 [28:29<10:55,  1.92s/it]WARNING:Lossy conversion from int64 to uint8. Range [15061, 16384]. Convert image to uint8 prior to saving to suppress this warning.\n"
     ]
    },
    {
     "name": "stdout",
     "output_type": "stream",
     "text": [
      "('76394092_R_MLO_1.dcm', 2)\n"
     ]
    },
    {
     "name": "stderr",
     "output_type": "stream",
     "text": [
      " 75%|███████▍  | 995/1335 [28:31<11:16,  1.99s/it]WARNING:Lossy conversion from int64 to uint8. Range [15050, 16384]. Convert image to uint8 prior to saving to suppress this warning.\n"
     ]
    },
    {
     "name": "stdout",
     "output_type": "stream",
     "text": [
      "('76380252_R_MLO_1.dcm', 2)\n"
     ]
    },
    {
     "name": "stderr",
     "output_type": "stream",
     "text": [
      " 75%|███████▍  | 996/1335 [28:33<11:30,  2.04s/it]WARNING:Lossy conversion from int64 to uint8. Range [15325, 16384]. Convert image to uint8 prior to saving to suppress this warning.\n",
      " 75%|███████▍  | 997/1335 [28:35<10:21,  1.84s/it]"
     ]
    },
    {
     "name": "stdout",
     "output_type": "stream",
     "text": [
      "('5242557_R_MLO_1.dcm', 2)\n"
     ]
    },
    {
     "name": "stderr",
     "output_type": "stream",
     "text": [
      "WARNING:Lossy conversion from int64 to uint8. Range [15194, 16384]. Convert image to uint8 prior to saving to suppress this warning.\n"
     ]
    },
    {
     "name": "stdout",
     "output_type": "stream",
     "text": [
      "('5282018_R_MLO_1.dcm', 2)\n"
     ]
    },
    {
     "name": "stderr",
     "output_type": "stream",
     "text": [
      " 75%|███████▍  | 998/1335 [28:37<10:54,  1.94s/it]WARNING:Lossy conversion from int64 to uint8. Range [15319, 16384]. Convert image to uint8 prior to saving to suppress this warning.\n",
      " 75%|███████▍  | 1000/1335 [28:38<08:42,  1.56s/it]"
     ]
    },
    {
     "name": "stdout",
     "output_type": "stream",
     "text": [
      "('75054702_L_MLO_1.dcm', 2)\n"
     ]
    },
    {
     "name": "stderr",
     "output_type": "stream",
     "text": [
      "WARNING:Lossy conversion from int64 to uint8. Range [15313, 16384]. Convert image to uint8 prior to saving to suppress this warning.\n",
      " 75%|███████▍  | 1001/1335 [28:40<08:18,  1.49s/it]"
     ]
    },
    {
     "name": "stdout",
     "output_type": "stream",
     "text": [
      "('5185935_R_CC_1.dcm', 2)\n"
     ]
    },
    {
     "name": "stderr",
     "output_type": "stream",
     "text": [
      "WARNING:Lossy conversion from int64 to uint8. Range [15531, 16384]. Convert image to uint8 prior to saving to suppress this warning.\n"
     ]
    },
    {
     "name": "stdout",
     "output_type": "stream",
     "text": [
      "('75002812_R_CC_1.dcm', 2)\n"
     ]
    },
    {
     "name": "stderr",
     "output_type": "stream",
     "text": [
      " 75%|███████▌  | 1002/1335 [28:42<09:18,  1.68s/it]WARNING:Lossy conversion from int64 to uint8. Range [15487, 16384]. Convert image to uint8 prior to saving to suppress this warning.\n"
     ]
    },
    {
     "name": "stdout",
     "output_type": "stream",
     "text": [
      "('76423839_R_CC_1.dcm', 2)\n"
     ]
    },
    {
     "name": "stderr",
     "output_type": "stream",
     "text": [
      " 75%|███████▌  | 1003/1335 [28:44<10:02,  1.81s/it]WARNING:Lossy conversion from int64 to uint8. Range [15608, 16384]. Convert image to uint8 prior to saving to suppress this warning.\n"
     ]
    },
    {
     "name": "stdout",
     "output_type": "stream",
     "text": [
      "('76590683_R_CC_1.dcm', 3)\n"
     ]
    },
    {
     "name": "stderr",
     "output_type": "stream",
     "text": [
      " 75%|███████▌  | 1004/1335 [28:46<10:38,  1.93s/it]WARNING:Lossy conversion from int64 to uint8. Range [15286, 16384]. Convert image to uint8 prior to saving to suppress this warning.\n"
     ]
    },
    {
     "name": "stdout",
     "output_type": "stream",
     "text": [
      "('76252066_R_CC_1.dcm', 2)\n"
     ]
    },
    {
     "name": "stderr",
     "output_type": "stream",
     "text": [
      " 75%|███████▌  | 1005/1335 [28:48<10:59,  2.00s/it]WARNING:Lossy conversion from int64 to uint8. Range [15353, 16384]. Convert image to uint8 prior to saving to suppress this warning.\n"
     ]
    },
    {
     "name": "stdout",
     "output_type": "stream",
     "text": [
      "('76349133_L_CC_1.dcm', 3)\n"
     ]
    },
    {
     "name": "stderr",
     "output_type": "stream",
     "text": [
      " 75%|███████▌  | 1006/1335 [28:50<11:19,  2.06s/it]WARNING:Lossy conversion from int64 to uint8. Range [15415, 16384]. Convert image to uint8 prior to saving to suppress this warning.\n"
     ]
    },
    {
     "name": "stdout",
     "output_type": "stream",
     "text": [
      "('76175539_L_MLO_1.dcm', 2)\n"
     ]
    },
    {
     "name": "stderr",
     "output_type": "stream",
     "text": [
      " 75%|███████▌  | 1007/1335 [28:53<11:32,  2.11s/it]WARNING:Lossy conversion from int64 to uint8. Range [15322, 16384]. Convert image to uint8 prior to saving to suppress this warning.\n"
     ]
    },
    {
     "name": "stdout",
     "output_type": "stream",
     "text": [
      "('3994568_R_MLO_1.dcm', 2)\n"
     ]
    },
    {
     "name": "stderr",
     "output_type": "stream",
     "text": [
      " 76%|███████▌  | 1008/1335 [28:55<11:43,  2.15s/it]WARNING:Lossy conversion from int64 to uint8. Range [15358, 16384]. Convert image to uint8 prior to saving to suppress this warning.\n"
     ]
    },
    {
     "name": "stdout",
     "output_type": "stream",
     "text": [
      "('5302310_R_MLO_1.dcm', 2)\n"
     ]
    },
    {
     "name": "stderr",
     "output_type": "stream",
     "text": [
      " 76%|███████▌  | 1010/1335 [28:57<09:56,  1.83s/it]WARNING:Lossy conversion from int64 to uint8. Range [15394, 16384]. Convert image to uint8 prior to saving to suppress this warning.\n"
     ]
    },
    {
     "name": "stdout",
     "output_type": "stream",
     "text": [
      "('75924970_L_MLO_1.dcm', 2)\n"
     ]
    },
    {
     "name": "stderr",
     "output_type": "stream",
     "text": [
      " 76%|███████▌  | 1011/1335 [28:59<10:30,  1.95s/it]WARNING:Lossy conversion from int64 to uint8. Range [15297, 16384]. Convert image to uint8 prior to saving to suppress this warning.\n",
      " 76%|███████▌  | 1012/1335 [29:01<09:34,  1.78s/it]"
     ]
    },
    {
     "name": "stdout",
     "output_type": "stream",
     "text": [
      "('76243752_R_MLO_1.dcm', 4)\n"
     ]
    },
    {
     "name": "stderr",
     "output_type": "stream",
     "text": [
      "WARNING:Lossy conversion from int64 to uint8. Range [15271, 16384]. Convert image to uint8 prior to saving to suppress this warning.\n"
     ]
    },
    {
     "name": "stdout",
     "output_type": "stream",
     "text": [
      "('5170980_L_MLO_1.dcm', 2)\n"
     ]
    },
    {
     "name": "stderr",
     "output_type": "stream",
     "text": [
      " 76%|███████▌  | 1013/1335 [29:03<10:09,  1.89s/it]WARNING:Lossy conversion from int64 to uint8. Range [15242, 16384]. Convert image to uint8 prior to saving to suppress this warning.\n"
     ]
    },
    {
     "name": "stdout",
     "output_type": "stream",
     "text": [
      "('3632345_L_MLO_1.dcm', 2)\n"
     ]
    },
    {
     "name": "stderr",
     "output_type": "stream",
     "text": [
      " 76%|███████▌  | 1014/1335 [29:05<10:35,  1.98s/it]WARNING:Lossy conversion from int64 to uint8. Range [15374, 16384]. Convert image to uint8 prior to saving to suppress this warning.\n"
     ]
    },
    {
     "name": "stdout",
     "output_type": "stream",
     "text": [
      "('5209340_R_CC_1.dcm', 2)\n"
     ]
    },
    {
     "name": "stderr",
     "output_type": "stream",
     "text": [
      " 76%|███████▌  | 1015/1335 [29:07<10:53,  2.04s/it]WARNING:Lossy conversion from int64 to uint8. Range [15110, 16384]. Convert image to uint8 prior to saving to suppress this warning.\n",
      " 76%|███████▌  | 1016/1335 [29:09<09:46,  1.84s/it]"
     ]
    },
    {
     "name": "stdout",
     "output_type": "stream",
     "text": [
      "('76454721_L_CC_1.dcm', 2)\n"
     ]
    },
    {
     "name": "stderr",
     "output_type": "stream",
     "text": [
      "WARNING:Lossy conversion from int64 to uint8. Range [15066, 16384]. Convert image to uint8 prior to saving to suppress this warning.\n"
     ]
    },
    {
     "name": "stdout",
     "output_type": "stream",
     "text": [
      "('4441082_L_CC_1.dcm', 2)\n"
     ]
    },
    {
     "name": "stderr",
     "output_type": "stream",
     "text": [
      " 76%|███████▌  | 1017/1335 [29:11<10:18,  1.95s/it]WARNING:Lossy conversion from int64 to uint8. Range [15367, 16384]. Convert image to uint8 prior to saving to suppress this warning.\n"
     ]
    },
    {
     "name": "stdout",
     "output_type": "stream",
     "text": [
      "('76589784_L_MLO_1.dcm', 2)\n"
     ]
    },
    {
     "name": "stderr",
     "output_type": "stream",
     "text": [
      " 76%|███████▋  | 1018/1335 [29:13<10:41,  2.03s/it]WARNING:Lossy conversion from int64 to uint8. Range [15000, 16384]. Convert image to uint8 prior to saving to suppress this warning.\n"
     ]
    },
    {
     "name": "stdout",
     "output_type": "stream",
     "text": [
      "('5170980_R_MLO_1.dcm', 2)\n"
     ]
    },
    {
     "name": "stderr",
     "output_type": "stream",
     "text": [
      " 76%|███████▋  | 1019/1335 [29:15<10:54,  2.07s/it]WARNING:Lossy conversion from int64 to uint8. Range [15400, 16384]. Convert image to uint8 prior to saving to suppress this warning.\n",
      " 76%|███████▋  | 1020/1335 [29:16<09:43,  1.85s/it]"
     ]
    },
    {
     "name": "stdout",
     "output_type": "stream",
     "text": [
      "('5145490_R_CC_1.dcm', 3)\n"
     ]
    },
    {
     "name": "stderr",
     "output_type": "stream",
     "text": [
      "WARNING:Lossy conversion from int64 to uint8. Range [15324, 16384]. Convert image to uint8 prior to saving to suppress this warning.\n"
     ]
    },
    {
     "name": "stdout",
     "output_type": "stream",
     "text": [
      "('5161317_R_CC_1.dcm', 2)\n"
     ]
    },
    {
     "name": "stderr",
     "output_type": "stream",
     "text": [
      " 77%|███████▋  | 1022/1335 [29:19<08:27,  1.62s/it]WARNING:Lossy conversion from int64 to uint8. Range [15361, 16384]. Convert image to uint8 prior to saving to suppress this warning.\n"
     ]
    },
    {
     "name": "stdout",
     "output_type": "stream",
     "text": [
      "('75945565_R_CC_1.dcm', 3)\n"
     ]
    },
    {
     "name": "stderr",
     "output_type": "stream",
     "text": [
      " 77%|███████▋  | 1024/1335 [29:21<07:34,  1.46s/it]WARNING:Lossy conversion from int64 to uint8. Range [15339, 16384]. Convert image to uint8 prior to saving to suppress this warning.\n"
     ]
    },
    {
     "name": "stdout",
     "output_type": "stream",
     "text": [
      "('5179559_L_CC_1.dcm', 1)\n"
     ]
    },
    {
     "name": "stderr",
     "output_type": "stream",
     "text": [
      " 77%|███████▋  | 1025/1335 [29:23<08:43,  1.69s/it]WARNING:Lossy conversion from int64 to uint8. Range [15393, 16384]. Convert image to uint8 prior to saving to suppress this warning.\n"
     ]
    },
    {
     "name": "stdout",
     "output_type": "stream",
     "text": [
      "('76268663_L_CC_1.dcm', 2)\n"
     ]
    },
    {
     "name": "stderr",
     "output_type": "stream",
     "text": [
      " 77%|███████▋  | 1026/1335 [29:25<09:28,  1.84s/it]WARNING:Lossy conversion from int64 to uint8. Range [15365, 16384]. Convert image to uint8 prior to saving to suppress this warning.\n"
     ]
    },
    {
     "name": "stdout",
     "output_type": "stream",
     "text": [
      "('5290178_R_CC_1.dcm', 1)\n"
     ]
    },
    {
     "name": "stderr",
     "output_type": "stream",
     "text": [
      " 77%|███████▋  | 1027/1335 [29:27<09:57,  1.94s/it]WARNING:Lossy conversion from int64 to uint8. Range [15328, 16384]. Convert image to uint8 prior to saving to suppress this warning.\n",
      " 77%|███████▋  | 1028/1335 [29:29<09:04,  1.77s/it]"
     ]
    },
    {
     "name": "stdout",
     "output_type": "stream",
     "text": [
      "('76282837_L_CC_1.dcm', 3)\n"
     ]
    },
    {
     "name": "stderr",
     "output_type": "stream",
     "text": [
      "WARNING:Lossy conversion from int64 to uint8. Range [15408, 16384]. Convert image to uint8 prior to saving to suppress this warning.\n"
     ]
    },
    {
     "name": "stdout",
     "output_type": "stream",
     "text": [
      "('76465504_L_CC_1.dcm', 2)\n"
     ]
    },
    {
     "name": "stderr",
     "output_type": "stream",
     "text": [
      " 77%|███████▋  | 1029/1335 [29:31<09:42,  1.90s/it]WARNING:Lossy conversion from int64 to uint8. Range [15273, 16384]. Convert image to uint8 prior to saving to suppress this warning.\n"
     ]
    },
    {
     "name": "stdout",
     "output_type": "stream",
     "text": [
      "('5161317_L_MLO_1.dcm', 2)\n"
     ]
    },
    {
     "name": "stderr",
     "output_type": "stream",
     "text": [
      " 77%|███████▋  | 1030/1335 [29:33<10:06,  1.99s/it]WARNING:Lossy conversion from int64 to uint8. Range [15332, 16384]. Convert image to uint8 prior to saving to suppress this warning.\n",
      " 77%|███████▋  | 1031/1335 [29:34<09:03,  1.79s/it]"
     ]
    },
    {
     "name": "stdout",
     "output_type": "stream",
     "text": [
      "('76106232_L_CC_1.dcm', 3)\n"
     ]
    },
    {
     "name": "stderr",
     "output_type": "stream",
     "text": [
      "WARNING:Lossy conversion from int64 to uint8. Range [15321, 16384]. Convert image to uint8 prior to saving to suppress this warning.\n"
     ]
    },
    {
     "name": "stdout",
     "output_type": "stream",
     "text": [
      "('76457450_L_CC_1.dcm', 1)\n"
     ]
    },
    {
     "name": "stderr",
     "output_type": "stream",
     "text": [
      " 77%|███████▋  | 1032/1335 [29:37<09:41,  1.92s/it]WARNING:Lossy conversion from int64 to uint8. Range [15380, 16384]. Convert image to uint8 prior to saving to suppress this warning.\n",
      " 77%|███████▋  | 1033/1335 [29:38<08:47,  1.75s/it]"
     ]
    },
    {
     "name": "stdout",
     "output_type": "stream",
     "text": [
      "('75935563_R_CC_1.dcm', 3)\n"
     ]
    },
    {
     "name": "stderr",
     "output_type": "stream",
     "text": [
      "WARNING:Lossy conversion from int64 to uint8. Range [15279, 16384]. Convert image to uint8 prior to saving to suppress this warning.\n"
     ]
    },
    {
     "name": "stdout",
     "output_type": "stream",
     "text": [
      "('76333731_R_MLO_1.dcm', 2)\n"
     ]
    },
    {
     "name": "stderr",
     "output_type": "stream",
     "text": [
      " 77%|███████▋  | 1034/1335 [29:40<09:23,  1.87s/it]WARNING:Lossy conversion from int64 to uint8. Range [15476, 16384]. Convert image to uint8 prior to saving to suppress this warning.\n"
     ]
    },
    {
     "name": "stdout",
     "output_type": "stream",
     "text": [
      "('3860066_L_CC_1.dcm', 2)\n"
     ]
    },
    {
     "name": "stderr",
     "output_type": "stream",
     "text": [
      " 78%|███████▊  | 1035/1335 [29:42<09:51,  1.97s/it]WARNING:Lossy conversion from int64 to uint8. Range [15322, 16384]. Convert image to uint8 prior to saving to suppress this warning.\n",
      " 78%|███████▊  | 1036/1335 [29:44<08:51,  1.78s/it]"
     ]
    },
    {
     "name": "stdout",
     "output_type": "stream",
     "text": [
      "('76032302_L_CC_1.dcm', 2)\n"
     ]
    },
    {
     "name": "stderr",
     "output_type": "stream",
     "text": [
      "WARNING:Lossy conversion from int64 to uint8. Range [15514, 16384]. Convert image to uint8 prior to saving to suppress this warning.\n"
     ]
    },
    {
     "name": "stdout",
     "output_type": "stream",
     "text": [
      "('4360451_R_MLO_1.dcm', 2)\n"
     ]
    },
    {
     "name": "stderr",
     "output_type": "stream",
     "text": [
      " 78%|███████▊  | 1037/1335 [29:46<09:27,  1.90s/it]WARNING:Lossy conversion from int64 to uint8. Range [15384, 16384]. Convert image to uint8 prior to saving to suppress this warning.\n",
      " 78%|███████▊  | 1038/1335 [29:47<08:34,  1.73s/it]"
     ]
    },
    {
     "name": "stdout",
     "output_type": "stream",
     "text": [
      "('75935563_L_CC_1.dcm', 3)\n"
     ]
    },
    {
     "name": "stderr",
     "output_type": "stream",
     "text": [
      "WARNING:Lossy conversion from int64 to uint8. Range [15334, 16384]. Convert image to uint8 prior to saving to suppress this warning.\n"
     ]
    },
    {
     "name": "stdout",
     "output_type": "stream",
     "text": [
      "('76590683_L_MLO_1.dcm', 3)\n"
     ]
    },
    {
     "name": "stderr",
     "output_type": "stream",
     "text": [
      " 78%|███████▊  | 1039/1335 [29:49<09:17,  1.88s/it]WARNING:Lossy conversion from int64 to uint8. Range [15243, 16384]. Convert image to uint8 prior to saving to suppress this warning.\n"
     ]
    },
    {
     "name": "stdout",
     "output_type": "stream",
     "text": [
      "('76175539_R_CC_1.dcm', 2)\n"
     ]
    },
    {
     "name": "stderr",
     "output_type": "stream",
     "text": [
      " 78%|███████▊  | 1041/1335 [29:52<08:00,  1.63s/it]WARNING:Lossy conversion from int64 to uint8. Range [15414, 16384]. Convert image to uint8 prior to saving to suppress this warning.\n"
     ]
    },
    {
     "name": "stdout",
     "output_type": "stream",
     "text": [
      "('75954157_L_MLO_1.dcm', 2)\n"
     ]
    },
    {
     "name": "stderr",
     "output_type": "stream",
     "text": [
      " 78%|███████▊  | 1042/1335 [29:54<08:50,  1.81s/it]WARNING:Lossy conversion from int64 to uint8. Range [15386, 16384]. Convert image to uint8 prior to saving to suppress this warning.\n"
     ]
    },
    {
     "name": "stdout",
     "output_type": "stream",
     "text": [
      "('76127397_R_MLO_1.dcm', 2)\n"
     ]
    },
    {
     "name": "stderr",
     "output_type": "stream",
     "text": [
      " 78%|███████▊  | 1044/1335 [29:56<07:43,  1.59s/it]WARNING:Lossy conversion from int64 to uint8. Range [15415, 16384]. Convert image to uint8 prior to saving to suppress this warning.\n"
     ]
    },
    {
     "name": "stdout",
     "output_type": "stream",
     "text": [
      "('76321888_L_MLO_1.dcm', 2)\n"
     ]
    },
    {
     "name": "stderr",
     "output_type": "stream",
     "text": [
      " 78%|███████▊  | 1045/1335 [29:58<08:43,  1.81s/it]WARNING:Lossy conversion from int64 to uint8. Range [15465, 16384]. Convert image to uint8 prior to saving to suppress this warning.\n",
      " 78%|███████▊  | 1046/1335 [30:00<08:03,  1.67s/it]"
     ]
    },
    {
     "name": "stdout",
     "output_type": "stream",
     "text": [
      "('75008788_R_CC_1.dcm', 3)\n"
     ]
    },
    {
     "name": "stderr",
     "output_type": "stream",
     "text": [
      "WARNING:Lossy conversion from int64 to uint8. Range [15338, 16384]. Convert image to uint8 prior to saving to suppress this warning.\n",
      " 79%|███████▊  | 1048/1335 [30:01<06:33,  1.37s/it]"
     ]
    },
    {
     "name": "stdout",
     "output_type": "stream",
     "text": [
      "('5187297_R_CC_1.dcm', 3)\n"
     ]
    },
    {
     "name": "stderr",
     "output_type": "stream",
     "text": [
      "WARNING:Lossy conversion from int64 to uint8. Range [15321, 16384]. Convert image to uint8 prior to saving to suppress this warning.\n"
     ]
    },
    {
     "name": "stdout",
     "output_type": "stream",
     "text": [
      "('3816546_L_CC_1.dcm', 1)\n"
     ]
    },
    {
     "name": "stderr",
     "output_type": "stream",
     "text": [
      " 79%|███████▊  | 1049/1335 [30:03<07:37,  1.60s/it]WARNING:Lossy conversion from int64 to uint8. Range [15276, 16384]. Convert image to uint8 prior to saving to suppress this warning.\n"
     ]
    },
    {
     "name": "stdout",
     "output_type": "stream",
     "text": [
      "('76561252_R_CC_1.dcm', 1)\n"
     ]
    },
    {
     "name": "stderr",
     "output_type": "stream",
     "text": [
      " 79%|███████▊  | 1050/1335 [30:05<08:24,  1.77s/it]WARNING:Lossy conversion from int64 to uint8. Range [15290, 16384]. Convert image to uint8 prior to saving to suppress this warning.\n",
      " 79%|███████▊  | 1051/1335 [30:07<07:43,  1.63s/it]"
     ]
    },
    {
     "name": "stdout",
     "output_type": "stream",
     "text": [
      "('76112297_L_CC_1.dcm', 2)\n"
     ]
    },
    {
     "name": "stderr",
     "output_type": "stream",
     "text": [
      "WARNING:Lossy conversion from int64 to uint8. Range [15417, 16384]. Convert image to uint8 prior to saving to suppress this warning.\n"
     ]
    },
    {
     "name": "stdout",
     "output_type": "stream",
     "text": [
      "('5237629_R_MLO_1.dcm', 3)\n"
     ]
    },
    {
     "name": "stderr",
     "output_type": "stream",
     "text": [
      " 79%|███████▉  | 1052/1335 [30:09<08:27,  1.79s/it]WARNING:Lossy conversion from int64 to uint8. Range [15265, 16384]. Convert image to uint8 prior to saving to suppress this warning.\n"
     ]
    },
    {
     "name": "stdout",
     "output_type": "stream",
     "text": [
      "('76500605_R_CC_1.dcm', 2)\n"
     ]
    },
    {
     "name": "stderr",
     "output_type": "stream",
     "text": [
      " 79%|███████▉  | 1055/1335 [30:11<06:52,  1.47s/it]WARNING:Lossy conversion from int64 to uint8. Range [15503, 16384]. Convert image to uint8 prior to saving to suppress this warning.\n"
     ]
    },
    {
     "name": "stdout",
     "output_type": "stream",
     "text": [
      "('76088925_L_MLO_1.dcm', 3)\n"
     ]
    },
    {
     "name": "stderr",
     "output_type": "stream",
     "text": [
      " 79%|███████▉  | 1056/1335 [30:13<07:55,  1.70s/it]WARNING:Lossy conversion from int64 to uint8. Range [15373, 16384]. Convert image to uint8 prior to saving to suppress this warning.\n"
     ]
    },
    {
     "name": "stdout",
     "output_type": "stream",
     "text": [
      "('75979901_L_MLO_1.dcm', 2)\n"
     ]
    },
    {
     "name": "stderr",
     "output_type": "stream",
     "text": [
      " 79%|███████▉  | 1057/1335 [30:16<08:42,  1.88s/it]WARNING:Lossy conversion from int64 to uint8. Range [15230, 16384]. Convert image to uint8 prior to saving to suppress this warning.\n"
     ]
    },
    {
     "name": "stdout",
     "output_type": "stream",
     "text": [
      "('3903811_L_CC_1.dcm', 2)\n"
     ]
    },
    {
     "name": "stderr",
     "output_type": "stream",
     "text": [
      " 79%|███████▉  | 1058/1335 [30:18<09:04,  1.97s/it]WARNING:Lossy conversion from int64 to uint8. Range [15386, 16384]. Convert image to uint8 prior to saving to suppress this warning.\n"
     ]
    },
    {
     "name": "stdout",
     "output_type": "stream",
     "text": [
      "('3602828_L_MLO_1.dcm', 1)\n"
     ]
    },
    {
     "name": "stderr",
     "output_type": "stream",
     "text": [
      " 79%|███████▉  | 1060/1335 [30:20<07:49,  1.71s/it]WARNING:Lossy conversion from int64 to uint8. Range [15104, 16384]. Convert image to uint8 prior to saving to suppress this warning.\n"
     ]
    },
    {
     "name": "stdout",
     "output_type": "stream",
     "text": [
      "('76569104_L_CC_1.dcm', 3)\n"
     ]
    },
    {
     "name": "stderr",
     "output_type": "stream",
     "text": [
      " 79%|███████▉  | 1061/1335 [30:22<08:24,  1.84s/it]WARNING:Lossy conversion from int64 to uint8. Range [15419, 16384]. Convert image to uint8 prior to saving to suppress this warning.\n"
     ]
    },
    {
     "name": "stdout",
     "output_type": "stream",
     "text": [
      "('5237629_L_CC_1.dcm', 3)\n"
     ]
    },
    {
     "name": "stderr",
     "output_type": "stream",
     "text": [
      " 80%|███████▉  | 1062/1335 [30:24<08:50,  1.94s/it]WARNING:Lossy conversion from int64 to uint8. Range [15456, 16384]. Convert image to uint8 prior to saving to suppress this warning.\n"
     ]
    },
    {
     "name": "stdout",
     "output_type": "stream",
     "text": [
      "('4353445_L_CC_1.dcm', 3)\n"
     ]
    },
    {
     "name": "stderr",
     "output_type": "stream",
     "text": [
      " 80%|███████▉  | 1063/1335 [30:26<09:07,  2.01s/it]WARNING:Lossy conversion from int64 to uint8. Range [15456, 16384]. Convert image to uint8 prior to saving to suppress this warning.\n"
     ]
    },
    {
     "name": "stdout",
     "output_type": "stream",
     "text": [
      "('4310319_R_CC_1.dcm', 2)\n"
     ]
    },
    {
     "name": "stderr",
     "output_type": "stream",
     "text": [
      " 80%|███████▉  | 1064/1335 [30:29<09:16,  2.05s/it]WARNING:Lossy conversion from int64 to uint8. Range [15327, 16384]. Convert image to uint8 prior to saving to suppress this warning.\n"
     ]
    },
    {
     "name": "stdout",
     "output_type": "stream",
     "text": [
      "('3563284_L_CC_1.dcm', 2)\n"
     ]
    },
    {
     "name": "stderr",
     "output_type": "stream",
     "text": [
      " 80%|███████▉  | 1065/1335 [30:31<09:31,  2.12s/it]WARNING:Lossy conversion from int64 to uint8. Range [15349, 16384]. Convert image to uint8 prior to saving to suppress this warning.\n",
      " 80%|███████▉  | 1066/1335 [30:32<08:29,  1.89s/it]"
     ]
    },
    {
     "name": "stdout",
     "output_type": "stream",
     "text": [
      "('3972153_L_CC_1.dcm', 2)\n"
     ]
    },
    {
     "name": "stderr",
     "output_type": "stream",
     "text": [
      "WARNING:Lossy conversion from int64 to uint8. Range [15154, 16384]. Convert image to uint8 prior to saving to suppress this warning.\n"
     ]
    },
    {
     "name": "stdout",
     "output_type": "stream",
     "text": [
      "('75063205_L_MLO_1.dcm', 1)\n"
     ]
    },
    {
     "name": "stderr",
     "output_type": "stream",
     "text": [
      " 80%|███████▉  | 1067/1335 [30:34<08:51,  1.98s/it]WARNING:Lossy conversion from int64 to uint8. Range [15415, 16384]. Convert image to uint8 prior to saving to suppress this warning.\n"
     ]
    },
    {
     "name": "stdout",
     "output_type": "stream",
     "text": [
      "('75002812_L_MLO_1.dcm', 2)\n"
     ]
    },
    {
     "name": "stderr",
     "output_type": "stream",
     "text": [
      " 80%|████████  | 1069/1335 [30:37<07:36,  1.71s/it]WARNING:Lossy conversion from int64 to uint8. Range [15364, 16384]. Convert image to uint8 prior to saving to suppress this warning.\n"
     ]
    },
    {
     "name": "stdout",
     "output_type": "stream",
     "text": [
      "('75970217_R_CC_1.dcm', 2)\n"
     ]
    },
    {
     "name": "stderr",
     "output_type": "stream",
     "text": [
      " 80%|████████  | 1070/1335 [30:39<08:11,  1.86s/it]WARNING:Lossy conversion from int64 to uint8. Range [15478, 16384]. Convert image to uint8 prior to saving to suppress this warning.\n"
     ]
    },
    {
     "name": "stdout",
     "output_type": "stream",
     "text": [
      "('76127397_R_CC_1.dcm', 2)\n"
     ]
    },
    {
     "name": "stderr",
     "output_type": "stream",
     "text": [
      " 80%|████████  | 1071/1335 [30:41<08:32,  1.94s/it]WARNING:Lossy conversion from int64 to uint8. Range [15237, 16384]. Convert image to uint8 prior to saving to suppress this warning.\n"
     ]
    },
    {
     "name": "stdout",
     "output_type": "stream",
     "text": [
      "('5226635_R_CC_1.dcm', 2)\n"
     ]
    },
    {
     "name": "stderr",
     "output_type": "stream",
     "text": [
      " 80%|████████  | 1072/1335 [30:43<08:46,  2.00s/it]WARNING:Lossy conversion from int64 to uint8. Range [15434, 16384]. Convert image to uint8 prior to saving to suppress this warning.\n"
     ]
    },
    {
     "name": "stdout",
     "output_type": "stream",
     "text": [
      "('4378437_R_MLO_1.dcm', 1)\n"
     ]
    },
    {
     "name": "stderr",
     "output_type": "stream",
     "text": [
      " 80%|████████  | 1073/1335 [30:45<09:09,  2.10s/it]WARNING:Lossy conversion from int64 to uint8. Range [15504, 16384]. Convert image to uint8 prior to saving to suppress this warning.\n"
     ]
    },
    {
     "name": "stdout",
     "output_type": "stream",
     "text": [
      "('4233357_R_MLO_1.dcm', 1)\n"
     ]
    },
    {
     "name": "stderr",
     "output_type": "stream",
     "text": [
      " 80%|████████  | 1074/1335 [30:48<09:14,  2.12s/it]WARNING:Lossy conversion from int64 to uint8. Range [15353, 16384]. Convert image to uint8 prior to saving to suppress this warning.\n"
     ]
    },
    {
     "name": "stdout",
     "output_type": "stream",
     "text": [
      "('4245154_R_CC_1.dcm', 2)\n"
     ]
    },
    {
     "name": "stderr",
     "output_type": "stream",
     "text": [
      " 81%|████████  | 1075/1335 [30:50<09:14,  2.13s/it]WARNING:Lossy conversion from int64 to uint8. Range [15216, 16384]. Convert image to uint8 prior to saving to suppress this warning.\n"
     ]
    },
    {
     "name": "stdout",
     "output_type": "stream",
     "text": [
      "('76465727_R_MLO_1.dcm', 1)\n"
     ]
    },
    {
     "name": "stderr",
     "output_type": "stream",
     "text": [
      " 81%|████████  | 1076/1335 [30:52<09:18,  2.15s/it]WARNING:Lossy conversion from int64 to uint8. Range [15304, 16384]. Convert image to uint8 prior to saving to suppress this warning.\n"
     ]
    },
    {
     "name": "stdout",
     "output_type": "stream",
     "text": [
      "('3823517_R_CC_1.dcm', 1)\n"
     ]
    },
    {
     "name": "stderr",
     "output_type": "stream",
     "text": [
      " 81%|████████  | 1077/1335 [30:54<09:17,  2.16s/it]WARNING:Lossy conversion from int64 to uint8. Range [15351, 16384]. Convert image to uint8 prior to saving to suppress this warning.\n"
     ]
    },
    {
     "name": "stdout",
     "output_type": "stream",
     "text": [
      "('76109399_L_MLO_1.dcm', 1)\n"
     ]
    },
    {
     "name": "stderr",
     "output_type": "stream",
     "text": [
      " 81%|████████  | 1078/1335 [30:56<09:24,  2.20s/it]WARNING:Lossy conversion from int64 to uint8. Range [15189, 16384]. Convert image to uint8 prior to saving to suppress this warning.\n"
     ]
    },
    {
     "name": "stdout",
     "output_type": "stream",
     "text": [
      "('3958987_R_CC_1.dcm', 2)\n"
     ]
    },
    {
     "name": "stderr",
     "output_type": "stream",
     "text": [
      " 81%|████████  | 1079/1335 [30:59<09:30,  2.23s/it]WARNING:Lossy conversion from int64 to uint8. Range [15280, 16384]. Convert image to uint8 prior to saving to suppress this warning.\n"
     ]
    },
    {
     "name": "stdout",
     "output_type": "stream",
     "text": [
      "('5193678_R_MLO_1.dcm', 2)\n"
     ]
    },
    {
     "name": "stderr",
     "output_type": "stream",
     "text": [
      " 81%|████████  | 1080/1335 [31:01<09:32,  2.24s/it]WARNING:Lossy conversion from int64 to uint8. Range [15268, 16384]. Convert image to uint8 prior to saving to suppress this warning.\n",
      " 81%|████████  | 1081/1335 [31:02<08:24,  1.99s/it]"
     ]
    },
    {
     "name": "stdout",
     "output_type": "stream",
     "text": [
      "('76415344_L_MLO_1.dcm', 3)\n"
     ]
    },
    {
     "name": "stderr",
     "output_type": "stream",
     "text": [
      "WARNING:Lossy conversion from int64 to uint8. Range [15409, 16384]. Convert image to uint8 prior to saving to suppress this warning.\n"
     ]
    },
    {
     "name": "stdout",
     "output_type": "stream",
     "text": [
      "('4354725_L_CC_1.dcm', 2)\n"
     ]
    },
    {
     "name": "stderr",
     "output_type": "stream",
     "text": [
      " 81%|████████  | 1082/1335 [31:05<08:56,  2.12s/it]WARNING:Lossy conversion from int64 to uint8. Range [15250, 16384]. Convert image to uint8 prior to saving to suppress this warning.\n"
     ]
    },
    {
     "name": "stdout",
     "output_type": "stream",
     "text": [
      "('76372174_L_CC_1.dcm', 2)\n"
     ]
    },
    {
     "name": "stderr",
     "output_type": "stream",
     "text": [
      " 81%|████████  | 1083/1335 [31:07<09:19,  2.22s/it]WARNING:Lossy conversion from int64 to uint8. Range [15361, 16384]. Convert image to uint8 prior to saving to suppress this warning.\n",
      " 81%|████████  | 1084/1335 [31:09<08:23,  2.00s/it]"
     ]
    },
    {
     "name": "stdout",
     "output_type": "stream",
     "text": [
      "('76545923_L_CC_1.dcm', 2)\n"
     ]
    },
    {
     "name": "stderr",
     "output_type": "stream",
     "text": [
      "WARNING:Lossy conversion from int64 to uint8. Range [15338, 16384]. Convert image to uint8 prior to saving to suppress this warning.\n"
     ]
    },
    {
     "name": "stdout",
     "output_type": "stream",
     "text": [
      "('76086832_L_CC_1.dcm', 2)\n"
     ]
    },
    {
     "name": "stderr",
     "output_type": "stream",
     "text": [
      " 81%|████████▏ | 1085/1335 [31:11<08:33,  2.05s/it]WARNING:Lossy conversion from int64 to uint8. Range [15044, 16384]. Convert image to uint8 prior to saving to suppress this warning.\n",
      " 81%|████████▏ | 1088/1335 [31:12<06:31,  1.58s/it]"
     ]
    },
    {
     "name": "stdout",
     "output_type": "stream",
     "text": [
      "('76512652_L_CC_1.dcm', 3)\n"
     ]
    },
    {
     "name": "stderr",
     "output_type": "stream",
     "text": [
      "WARNING:Lossy conversion from int64 to uint8. Range [15303, 16384]. Convert image to uint8 prior to saving to suppress this warning.\n",
      " 82%|████████▏ | 1089/1335 [31:14<06:18,  1.54s/it]"
     ]
    },
    {
     "name": "stdout",
     "output_type": "stream",
     "text": [
      "('4300843_L_MLO_1.dcm', 3)\n"
     ]
    },
    {
     "name": "stderr",
     "output_type": "stream",
     "text": [
      "WARNING:Lossy conversion from int64 to uint8. Range [15372, 16384]. Convert image to uint8 prior to saving to suppress this warning.\n"
     ]
    },
    {
     "name": "stdout",
     "output_type": "stream",
     "text": [
      "('76271054_L_MLO_1.dcm', 3)\n"
     ]
    },
    {
     "name": "stderr",
     "output_type": "stream",
     "text": [
      " 82%|████████▏ | 1090/1335 [31:16<07:15,  1.78s/it]WARNING:Lossy conversion from int64 to uint8. Range [15397, 16384]. Convert image to uint8 prior to saving to suppress this warning.\n"
     ]
    },
    {
     "name": "stdout",
     "output_type": "stream",
     "text": [
      "('3805844_R_CC_1.dcm', 2)\n"
     ]
    },
    {
     "name": "stderr",
     "output_type": "stream",
     "text": [
      " 82%|████████▏ | 1091/1335 [31:18<07:49,  1.93s/it]WARNING:Lossy conversion from int64 to uint8. Range [15333, 16384]. Convert image to uint8 prior to saving to suppress this warning.\n"
     ]
    },
    {
     "name": "stdout",
     "output_type": "stream",
     "text": [
      "('75924970_R_CC_1.dcm', 2)\n"
     ]
    },
    {
     "name": "stderr",
     "output_type": "stream",
     "text": [
      " 82%|████████▏ | 1093/1335 [31:21<06:46,  1.68s/it]WARNING:Lossy conversion from int64 to uint8. Range [15152, 16384]. Convert image to uint8 prior to saving to suppress this warning.\n"
     ]
    },
    {
     "name": "stdout",
     "output_type": "stream",
     "text": [
      "('76162748_R_CC_1.dcm', 2)\n"
     ]
    },
    {
     "name": "stderr",
     "output_type": "stream",
     "text": [
      " 82%|████████▏ | 1094/1335 [31:23<07:23,  1.84s/it]WARNING:Lossy conversion from int64 to uint8. Range [15314, 16384]. Convert image to uint8 prior to saving to suppress this warning.\n"
     ]
    },
    {
     "name": "stdout",
     "output_type": "stream",
     "text": [
      "('5290743_R_CC_1.dcm', 2)\n"
     ]
    },
    {
     "name": "stderr",
     "output_type": "stream",
     "text": [
      " 82%|████████▏ | 1096/1335 [31:25<06:29,  1.63s/it]WARNING:Lossy conversion from int64 to uint8. Range [15421, 16384]. Convert image to uint8 prior to saving to suppress this warning.\n"
     ]
    },
    {
     "name": "stdout",
     "output_type": "stream",
     "text": [
      "('3637071_L_CC_1.dcm', 3)\n"
     ]
    },
    {
     "name": "stderr",
     "output_type": "stream",
     "text": [
      " 82%|████████▏ | 1097/1335 [31:27<07:20,  1.85s/it]WARNING:Lossy conversion from int64 to uint8. Range [15395, 16384]. Convert image to uint8 prior to saving to suppress this warning.\n"
     ]
    },
    {
     "name": "stdout",
     "output_type": "stream",
     "text": [
      "('4330986_L_MLO_1.dcm', 3)\n"
     ]
    },
    {
     "name": "stderr",
     "output_type": "stream",
     "text": [
      " 82%|████████▏ | 1098/1335 [31:30<07:50,  1.99s/it]WARNING:Lossy conversion from int64 to uint8. Range [15295, 16384]. Convert image to uint8 prior to saving to suppress this warning.\n",
      " 82%|████████▏ | 1099/1335 [31:31<07:05,  1.80s/it]"
     ]
    },
    {
     "name": "stdout",
     "output_type": "stream",
     "text": [
      "('76480623_L_MLO_1.dcm', 2)\n"
     ]
    },
    {
     "name": "stderr",
     "output_type": "stream",
     "text": [
      "WARNING:Lossy conversion from int64 to uint8. Range [15312, 16384]. Convert image to uint8 prior to saving to suppress this warning.\n"
     ]
    },
    {
     "name": "stdout",
     "output_type": "stream",
     "text": [
      "('76145442_R_CC_1.dcm', 2)\n"
     ]
    },
    {
     "name": "stderr",
     "output_type": "stream",
     "text": [
      " 82%|████████▏ | 1100/1335 [31:34<07:51,  2.01s/it]WARNING:Lossy conversion from int64 to uint8. Range [15375, 16384]. Convert image to uint8 prior to saving to suppress this warning.\n",
      " 82%|████████▏ | 1101/1335 [31:35<07:06,  1.82s/it]"
     ]
    },
    {
     "name": "stdout",
     "output_type": "stream",
     "text": [
      "('76472752_R_CC_1.dcm', 2)\n"
     ]
    },
    {
     "name": "stderr",
     "output_type": "stream",
     "text": [
      "WARNING:Lossy conversion from int64 to uint8. Range [15363, 16384]. Convert image to uint8 prior to saving to suppress this warning.\n"
     ]
    },
    {
     "name": "stdout",
     "output_type": "stream",
     "text": [
      "('76054106_R_CC_1.dcm', 2)\n"
     ]
    },
    {
     "name": "stderr",
     "output_type": "stream",
     "text": [
      " 83%|████████▎ | 1103/1335 [31:37<06:18,  1.63s/it]WARNING:Lossy conversion from int64 to uint8. Range [15000, 16384]. Convert image to uint8 prior to saving to suppress this warning.\n"
     ]
    },
    {
     "name": "stdout",
     "output_type": "stream",
     "text": [
      "('5302310_L_MLO_1.dcm', 2)\n"
     ]
    },
    {
     "name": "stderr",
     "output_type": "stream",
     "text": [
      " 83%|████████▎ | 1104/1335 [31:40<07:00,  1.82s/it]WARNING:Lossy conversion from int64 to uint8. Range [15306, 16384]. Convert image to uint8 prior to saving to suppress this warning.\n"
     ]
    },
    {
     "name": "stdout",
     "output_type": "stream",
     "text": [
      "('4378437_R_CC_1.dcm', 1)\n"
     ]
    },
    {
     "name": "stderr",
     "output_type": "stream",
     "text": [
      " 83%|████████▎ | 1105/1335 [31:42<07:34,  1.97s/it]WARNING:Lossy conversion from int64 to uint8. Range [15246, 16384]. Convert image to uint8 prior to saving to suppress this warning.\n"
     ]
    },
    {
     "name": "stdout",
     "output_type": "stream",
     "text": [
      "('3857711_L_MLO_1.dcm', 2)\n"
     ]
    },
    {
     "name": "stderr",
     "output_type": "stream",
     "text": [
      " 83%|████████▎ | 1106/1335 [31:44<07:55,  2.07s/it]WARNING:Lossy conversion from int64 to uint8. Range [15293, 16384]. Convert image to uint8 prior to saving to suppress this warning.\n",
      " 83%|████████▎ | 1108/1335 [31:46<06:18,  1.67s/it]"
     ]
    },
    {
     "name": "stdout",
     "output_type": "stream",
     "text": [
      "('76442661_R_MLO_1.dcm', 4)\n"
     ]
    },
    {
     "name": "stderr",
     "output_type": "stream",
     "text": [
      "WARNING:Lossy conversion from int64 to uint8. Range [15264, 16384]. Convert image to uint8 prior to saving to suppress this warning.\n",
      " 83%|████████▎ | 1111/1335 [31:47<04:52,  1.31s/it]"
     ]
    },
    {
     "name": "stdout",
     "output_type": "stream",
     "text": [
      "('76106232_L_MLO_1.dcm', 3)\n"
     ]
    },
    {
     "name": "stderr",
     "output_type": "stream",
     "text": [
      "WARNING:Lossy conversion from int64 to uint8. Range [15418, 16384]. Convert image to uint8 prior to saving to suppress this warning.\n"
     ]
    },
    {
     "name": "stdout",
     "output_type": "stream",
     "text": [
      "('76012842_L_MLO_1.dcm', 2)\n"
     ]
    },
    {
     "name": "stderr",
     "output_type": "stream",
     "text": [
      " 83%|████████▎ | 1113/1335 [31:49<04:35,  1.24s/it]WARNING:Lossy conversion from int64 to uint8. Range [15079, 16384]. Convert image to uint8 prior to saving to suppress this warning.\n",
      " 83%|████████▎ | 1114/1335 [31:51<04:48,  1.30s/it]"
     ]
    },
    {
     "name": "stdout",
     "output_type": "stream",
     "text": [
      "('5253729_R_MLO_1.dcm', 2)\n"
     ]
    },
    {
     "name": "stderr",
     "output_type": "stream",
     "text": [
      "WARNING:Lossy conversion from int64 to uint8. Range [15245, 16384]. Convert image to uint8 prior to saving to suppress this warning.\n",
      " 84%|████████▎ | 1115/1335 [31:52<04:55,  1.34s/it]"
     ]
    },
    {
     "name": "stdout",
     "output_type": "stream",
     "text": [
      "('3972153_L_MLO_1.dcm', 2)\n"
     ]
    },
    {
     "name": "stderr",
     "output_type": "stream",
     "text": [
      "WARNING:Lossy conversion from int64 to uint8. Range [15372, 16384]. Convert image to uint8 prior to saving to suppress this warning.\n"
     ]
    },
    {
     "name": "stdout",
     "output_type": "stream",
     "text": [
      "('76147248_R_MLO_1.dcm', 2)\n"
     ]
    },
    {
     "name": "stderr",
     "output_type": "stream",
     "text": [
      " 84%|████████▎ | 1117/1335 [31:54<04:38,  1.28s/it]WARNING:Lossy conversion from int64 to uint8. Range [15411, 16384]. Convert image to uint8 prior to saving to suppress this warning.\n"
     ]
    },
    {
     "name": "stdout",
     "output_type": "stream",
     "text": [
      "('3805814_R_MLO_1.dcm', 3)\n"
     ]
    },
    {
     "name": "stderr",
     "output_type": "stream",
     "text": [
      " 84%|████████▍ | 1119/1335 [31:57<04:25,  1.23s/it]WARNING:Lossy conversion from int64 to uint8. Range [15383, 16384]. Convert image to uint8 prior to saving to suppress this warning.\n",
      " 84%|████████▍ | 1120/1335 [31:58<04:34,  1.28s/it]"
     ]
    },
    {
     "name": "stdout",
     "output_type": "stream",
     "text": [
      "('75022020_R_MLO_1.dcm', 4)\n"
     ]
    },
    {
     "name": "stderr",
     "output_type": "stream",
     "text": [
      "WARNING:Lossy conversion from int64 to uint8. Range [15368, 16384]. Convert image to uint8 prior to saving to suppress this warning.\n"
     ]
    },
    {
     "name": "stdout",
     "output_type": "stream",
     "text": [
      "('76062746_L_MLO_1.dcm', 1)\n"
     ]
    },
    {
     "name": "stderr",
     "output_type": "stream",
     "text": [
      " 84%|████████▍ | 1121/1335 [32:00<05:40,  1.59s/it]WARNING:Lossy conversion from int64 to uint8. Range [15000, 16384]. Convert image to uint8 prior to saving to suppress this warning.\n"
     ]
    },
    {
     "name": "stdout",
     "output_type": "stream",
     "text": [
      "('76401595_L_MLO_1.dcm', 1)\n"
     ]
    },
    {
     "name": "stderr",
     "output_type": "stream",
     "text": [
      " 84%|████████▍ | 1122/1335 [32:03<06:32,  1.84s/it]WARNING:Lossy conversion from int64 to uint8. Range [15311, 16384]. Convert image to uint8 prior to saving to suppress this warning.\n"
     ]
    },
    {
     "name": "stdout",
     "output_type": "stream",
     "text": [
      "('3819798_L_MLO_1.dcm', 2)\n"
     ]
    },
    {
     "name": "stderr",
     "output_type": "stream",
     "text": [
      " 84%|████████▍ | 1124/1335 [32:05<05:47,  1.65s/it]WARNING:Lossy conversion from int64 to uint8. Range [15368, 16384]. Convert image to uint8 prior to saving to suppress this warning.\n",
      " 84%|████████▍ | 1125/1335 [32:07<05:27,  1.56s/it]"
     ]
    },
    {
     "name": "stdout",
     "output_type": "stream",
     "text": [
      "('5273834_R_MLO_1.dcm', 2)\n"
     ]
    },
    {
     "name": "stderr",
     "output_type": "stream",
     "text": [
      "WARNING:Lossy conversion from int64 to uint8. Range [15112, 16384]. Convert image to uint8 prior to saving to suppress this warning.\n"
     ]
    },
    {
     "name": "stdout",
     "output_type": "stream",
     "text": [
      "('76569104_L_MLO_1.dcm', 3)\n"
     ]
    },
    {
     "name": "stderr",
     "output_type": "stream",
     "text": [
      " 84%|████████▍ | 1126/1335 [32:09<06:05,  1.75s/it]WARNING:Lossy conversion from int64 to uint8. Range [15166, 16384]. Convert image to uint8 prior to saving to suppress this warning.\n",
      " 85%|████████▍ | 1129/1335 [32:10<04:41,  1.37s/it]"
     ]
    },
    {
     "name": "stdout",
     "output_type": "stream",
     "text": [
      "('5253729_L_MLO_1.dcm', 2)\n"
     ]
    },
    {
     "name": "stderr",
     "output_type": "stream",
     "text": [
      "WARNING:Lossy conversion from int64 to uint8. Range [15343, 16384]. Convert image to uint8 prior to saving to suppress this warning.\n",
      " 85%|████████▍ | 1130/1335 [32:12<04:43,  1.38s/it]"
     ]
    },
    {
     "name": "stdout",
     "output_type": "stream",
     "text": [
      "('76582135_L_CC_1.dcm', 2)\n"
     ]
    },
    {
     "name": "stderr",
     "output_type": "stream",
     "text": [
      "WARNING:Lossy conversion from int64 to uint8. Range [15344, 16384]. Convert image to uint8 prior to saving to suppress this warning.\n",
      " 85%|████████▍ | 1131/1335 [32:13<04:44,  1.40s/it]"
     ]
    },
    {
     "name": "stdout",
     "output_type": "stream",
     "text": [
      "('4298837_R_MLO_1.dcm', 3)\n"
     ]
    },
    {
     "name": "stderr",
     "output_type": "stream",
     "text": [
      "WARNING:Lossy conversion from int64 to uint8. Range [15380, 16384]. Convert image to uint8 prior to saving to suppress this warning.\n",
      " 85%|████████▍ | 1132/1335 [32:14<04:47,  1.42s/it]"
     ]
    },
    {
     "name": "stdout",
     "output_type": "stream",
     "text": [
      "('75076389_L_CC_1.dcm', 3)\n"
     ]
    },
    {
     "name": "stderr",
     "output_type": "stream",
     "text": [
      "WARNING:Lossy conversion from int64 to uint8. Range [15251, 16384]. Convert image to uint8 prior to saving to suppress this warning.\n"
     ]
    },
    {
     "name": "stdout",
     "output_type": "stream",
     "text": [
      "('76465504_L_MLO_1.dcm', 2)\n"
     ]
    },
    {
     "name": "stderr",
     "output_type": "stream",
     "text": [
      " 85%|████████▍ | 1133/1335 [32:17<05:45,  1.71s/it]WARNING:Lossy conversion from int64 to uint8. Range [15404, 16384]. Convert image to uint8 prior to saving to suppress this warning.\n"
     ]
    },
    {
     "name": "stdout",
     "output_type": "stream",
     "text": [
      "('5138531_R_CC_1.dcm', 2)\n"
     ]
    },
    {
     "name": "stderr",
     "output_type": "stream",
     "text": [
      " 85%|████████▌ | 1135/1335 [32:19<05:07,  1.54s/it]WARNING:Lossy conversion from int64 to uint8. Range [15302, 16384]. Convert image to uint8 prior to saving to suppress this warning.\n",
      " 85%|████████▌ | 1136/1335 [32:21<05:00,  1.51s/it]"
     ]
    },
    {
     "name": "stdout",
     "output_type": "stream",
     "text": [
      "('5288360_L_MLO_1.dcm', 2)\n"
     ]
    },
    {
     "name": "stderr",
     "output_type": "stream",
     "text": [
      "WARNING:Lossy conversion from int64 to uint8. Range [15248, 16384]. Convert image to uint8 prior to saving to suppress this warning.\n"
     ]
    },
    {
     "name": "stdout",
     "output_type": "stream",
     "text": [
      "('5252625_L_MLO_1.dcm', 2)\n"
     ]
    },
    {
     "name": "stderr",
     "output_type": "stream",
     "text": [
      " 85%|████████▌ | 1137/1335 [32:23<05:48,  1.76s/it]WARNING:Lossy conversion from int64 to uint8. Range [15471, 16384]. Convert image to uint8 prior to saving to suppress this warning.\n"
     ]
    },
    {
     "name": "stdout",
     "output_type": "stream",
     "text": [
      "('76380804_L_CC_1.dcm', 2)\n"
     ]
    },
    {
     "name": "stderr",
     "output_type": "stream",
     "text": [
      " 85%|████████▌ | 1138/1335 [32:25<06:23,  1.95s/it]WARNING:Lossy conversion from int64 to uint8. Range [15386, 16384]. Convert image to uint8 prior to saving to suppress this warning.\n"
     ]
    },
    {
     "name": "stdout",
     "output_type": "stream",
     "text": [
      "('3854193_R_CC_1.dcm', 3)\n"
     ]
    },
    {
     "name": "stderr",
     "output_type": "stream",
     "text": [
      " 85%|████████▌ | 1139/1335 [32:28<06:42,  2.06s/it]WARNING:Lossy conversion from int64 to uint8. Range [15195, 16384]. Convert image to uint8 prior to saving to suppress this warning.\n",
      " 85%|████████▌ | 1140/1335 [32:29<06:04,  1.87s/it]"
     ]
    },
    {
     "name": "stdout",
     "output_type": "stream",
     "text": [
      "('76032302_R_MLO_1.dcm', 2)\n"
     ]
    },
    {
     "name": "stderr",
     "output_type": "stream",
     "text": [
      "WARNING:Lossy conversion from int64 to uint8. Range [15386, 16384]. Convert image to uint8 prior to saving to suppress this warning.\n"
     ]
    },
    {
     "name": "stdout",
     "output_type": "stream",
     "text": [
      "('5265592_L_MLO_1.dcm', 2)\n"
     ]
    },
    {
     "name": "stderr",
     "output_type": "stream",
     "text": [
      " 85%|████████▌ | 1141/1335 [32:31<06:25,  1.99s/it]WARNING:Lossy conversion from int64 to uint8. Range [15360, 16384]. Convert image to uint8 prior to saving to suppress this warning.\n"
     ]
    },
    {
     "name": "stdout",
     "output_type": "stream",
     "text": [
      "('75079706_L_CC_1.dcm', 2)\n"
     ]
    },
    {
     "name": "stderr",
     "output_type": "stream",
     "text": [
      " 86%|████████▌ | 1142/1335 [32:33<06:35,  2.05s/it]WARNING:Lossy conversion from int64 to uint8. Range [15355, 16384]. Convert image to uint8 prior to saving to suppress this warning.\n"
     ]
    },
    {
     "name": "stdout",
     "output_type": "stream",
     "text": [
      "('3611751_R_MLO_1.dcm', 3)\n"
     ]
    },
    {
     "name": "stderr",
     "output_type": "stream",
     "text": [
      " 86%|████████▌ | 1143/1335 [32:36<06:50,  2.14s/it]WARNING:Lossy conversion from int64 to uint8. Range [15355, 16384]. Convert image to uint8 prior to saving to suppress this warning.\n"
     ]
    },
    {
     "name": "stdout",
     "output_type": "stream",
     "text": [
      "('76550586_R_CC_1.dcm', 2)\n"
     ]
    },
    {
     "name": "stderr",
     "output_type": "stream",
     "text": [
      " 86%|████████▌ | 1144/1335 [32:38<06:56,  2.18s/it]WARNING:Lossy conversion from int64 to uint8. Range [15235, 16384]. Convert image to uint8 prior to saving to suppress this warning.\n"
     ]
    },
    {
     "name": "stdout",
     "output_type": "stream",
     "text": [
      "('76006495_L_MLO_1.dcm', 3)\n"
     ]
    },
    {
     "name": "stderr",
     "output_type": "stream",
     "text": [
      " 86%|████████▌ | 1145/1335 [32:40<07:02,  2.22s/it]WARNING:Lossy conversion from int64 to uint8. Range [15295, 16384]. Convert image to uint8 prior to saving to suppress this warning.\n",
      " 86%|████████▌ | 1146/1335 [32:42<06:14,  1.98s/it]"
     ]
    },
    {
     "name": "stdout",
     "output_type": "stream",
     "text": [
      "('75067166_L_MLO_1.dcm', 3)\n"
     ]
    },
    {
     "name": "stderr",
     "output_type": "stream",
     "text": [
      "WARNING:Lossy conversion from int64 to uint8. Range [15315, 16384]. Convert image to uint8 prior to saving to suppress this warning.\n"
     ]
    },
    {
     "name": "stdout",
     "output_type": "stream",
     "text": [
      "('5161317_L_CC_1.dcm', 2)\n"
     ]
    },
    {
     "name": "stderr",
     "output_type": "stream",
     "text": [
      " 86%|████████▌ | 1147/1335 [32:44<06:25,  2.05s/it]WARNING:Lossy conversion from int64 to uint8. Range [15538, 16384]. Convert image to uint8 prior to saving to suppress this warning.\n"
     ]
    },
    {
     "name": "stdout",
     "output_type": "stream",
     "text": [
      "('76049731_L_CC_1.dcm', 2)\n"
     ]
    },
    {
     "name": "stderr",
     "output_type": "stream",
     "text": [
      " 86%|████████▌ | 1148/1335 [32:46<06:38,  2.13s/it]WARNING:Lossy conversion from int64 to uint8. Range [15164, 16384]. Convert image to uint8 prior to saving to suppress this warning.\n"
     ]
    },
    {
     "name": "stdout",
     "output_type": "stream",
     "text": [
      "('75977708_L_CC_1.dcm', 2)\n"
     ]
    },
    {
     "name": "stderr",
     "output_type": "stream",
     "text": [
      " 86%|████████▌ | 1149/1335 [32:49<06:39,  2.15s/it]WARNING:Lossy conversion from int64 to uint8. Range [15238, 16384]. Convert image to uint8 prior to saving to suppress this warning.\n"
     ]
    },
    {
     "name": "stdout",
     "output_type": "stream",
     "text": [
      "('76457450_R_MLO_1.dcm', 1)\n"
     ]
    },
    {
     "name": "stderr",
     "output_type": "stream",
     "text": [
      " 86%|████████▌ | 1150/1335 [32:51<06:48,  2.21s/it]WARNING:Lossy conversion from int64 to uint8. Range [15344, 16384]. Convert image to uint8 prior to saving to suppress this warning.\n",
      " 86%|████████▌ | 1151/1335 [32:52<06:01,  1.96s/it]"
     ]
    },
    {
     "name": "stdout",
     "output_type": "stream",
     "text": [
      "('76047867_L_MLO_1.dcm', 3)\n"
     ]
    },
    {
     "name": "stderr",
     "output_type": "stream",
     "text": [
      "WARNING:Lossy conversion from int64 to uint8. Range [15307, 16384]. Convert image to uint8 prior to saving to suppress this warning.\n"
     ]
    },
    {
     "name": "stdout",
     "output_type": "stream",
     "text": [
      "('5292180_R_MLO_1.dcm', 3)\n"
     ]
    },
    {
     "name": "stderr",
     "output_type": "stream",
     "text": [
      " 86%|████████▋ | 1153/1335 [32:55<05:14,  1.73s/it]WARNING:Lossy conversion from int64 to uint8. Range [15244, 16384]. Convert image to uint8 prior to saving to suppress this warning.\n"
     ]
    },
    {
     "name": "stdout",
     "output_type": "stream",
     "text": [
      "('3822882_L_MLO_1.dcm', 3)\n"
     ]
    },
    {
     "name": "stderr",
     "output_type": "stream",
     "text": [
      " 86%|████████▋ | 1154/1335 [32:57<05:41,  1.89s/it]WARNING:Lossy conversion from int64 to uint8. Range [15344, 16384]. Convert image to uint8 prior to saving to suppress this warning.\n"
     ]
    },
    {
     "name": "stdout",
     "output_type": "stream",
     "text": [
      "('76561252_R_MLO_1.dcm', 1)\n"
     ]
    },
    {
     "name": "stderr",
     "output_type": "stream",
     "text": [
      " 87%|████████▋ | 1155/1335 [32:59<06:06,  2.03s/it]WARNING:Lossy conversion from int64 to uint8. Range [15189, 16384]. Convert image to uint8 prior to saving to suppress this warning.\n"
     ]
    },
    {
     "name": "stdout",
     "output_type": "stream",
     "text": [
      "('76252066_R_MLO_1.dcm', 2)\n"
     ]
    },
    {
     "name": "stderr",
     "output_type": "stream",
     "text": [
      " 87%|████████▋ | 1156/1335 [33:02<06:21,  2.13s/it]WARNING:Lossy conversion from int64 to uint8. Range [15081, 16384]. Convert image to uint8 prior to saving to suppress this warning.\n"
     ]
    },
    {
     "name": "stdout",
     "output_type": "stream",
     "text": [
      "('76380804_L_MLO_1.dcm', 2)\n"
     ]
    },
    {
     "name": "stderr",
     "output_type": "stream",
     "text": [
      " 87%|████████▋ | 1157/1335 [33:04<06:24,  2.16s/it]WARNING:Lossy conversion from int64 to uint8. Range [15246, 16384]. Convert image to uint8 prior to saving to suppress this warning.\n",
      " 87%|████████▋ | 1158/1335 [33:05<05:43,  1.94s/it]"
     ]
    },
    {
     "name": "stdout",
     "output_type": "stream",
     "text": [
      "('76587824_R_CC_1.dcm', 4)\n"
     ]
    },
    {
     "name": "stderr",
     "output_type": "stream",
     "text": [
      "WARNING:Lossy conversion from int64 to uint8. Range [15280, 16384]. Convert image to uint8 prior to saving to suppress this warning.\n"
     ]
    },
    {
     "name": "stdout",
     "output_type": "stream",
     "text": [
      "('76109399_R_MLO_1.dcm', 1)\n"
     ]
    },
    {
     "name": "stderr",
     "output_type": "stream",
     "text": [
      " 87%|████████▋ | 1159/1335 [33:08<05:55,  2.02s/it]WARNING:Lossy conversion from int64 to uint8. Range [15295, 16384]. Convert image to uint8 prior to saving to suppress this warning.\n",
      " 87%|████████▋ | 1160/1335 [33:09<05:18,  1.82s/it]"
     ]
    },
    {
     "name": "stdout",
     "output_type": "stream",
     "text": [
      "('3623063_R_MLO_1.dcm', 2)\n"
     ]
    },
    {
     "name": "stderr",
     "output_type": "stream",
     "text": [
      "WARNING:Lossy conversion from int64 to uint8. Range [15313, 16384]. Convert image to uint8 prior to saving to suppress this warning.\n"
     ]
    },
    {
     "name": "stdout",
     "output_type": "stream",
     "text": [
      "('3857711_L_CC_1.dcm', 2)\n"
     ]
    },
    {
     "name": "stderr",
     "output_type": "stream",
     "text": [
      " 87%|████████▋ | 1161/1335 [33:11<05:37,  1.94s/it]WARNING:Lossy conversion from int64 to uint8. Range [15044, 16384]. Convert image to uint8 prior to saving to suppress this warning.\n",
      " 87%|████████▋ | 1162/1335 [33:13<05:09,  1.79s/it]"
     ]
    },
    {
     "name": "stdout",
     "output_type": "stream",
     "text": [
      "('76512652_R_CC_1.dcm', 3)\n"
     ]
    },
    {
     "name": "stderr",
     "output_type": "stream",
     "text": [
      "WARNING:Lossy conversion from int64 to uint8. Range [15435, 16384]. Convert image to uint8 prior to saving to suppress this warning.\n"
     ]
    },
    {
     "name": "stdout",
     "output_type": "stream",
     "text": [
      "('4360451_L_CC_1.dcm', 2)\n"
     ]
    },
    {
     "name": "stderr",
     "output_type": "stream",
     "text": [
      " 87%|████████▋ | 1164/1335 [33:15<04:32,  1.59s/it]WARNING:Lossy conversion from int64 to uint8. Range [15401, 16384]. Convert image to uint8 prior to saving to suppress this warning.\n"
     ]
    },
    {
     "name": "stdout",
     "output_type": "stream",
     "text": [
      "('5149219_L_CC_1.dcm', 2)\n"
     ]
    },
    {
     "name": "stderr",
     "output_type": "stream",
     "text": [
      " 87%|████████▋ | 1165/1335 [33:17<05:10,  1.83s/it]WARNING:Lossy conversion from int64 to uint8. Range [15147, 16384]. Convert image to uint8 prior to saving to suppress this warning.\n"
     ]
    },
    {
     "name": "stdout",
     "output_type": "stream",
     "text": [
      "('76070388_L_CC_1.dcm', 3)\n"
     ]
    },
    {
     "name": "stderr",
     "output_type": "stream",
     "text": [
      " 87%|████████▋ | 1166/1335 [33:20<05:35,  1.98s/it]WARNING:Lossy conversion from int64 to uint8. Range [15434, 16384]. Convert image to uint8 prior to saving to suppress this warning.\n"
     ]
    },
    {
     "name": "stdout",
     "output_type": "stream",
     "text": [
      "('76000381_R_CC_1.dcm', 1)\n"
     ]
    },
    {
     "name": "stderr",
     "output_type": "stream",
     "text": [
      " 87%|████████▋ | 1167/1335 [33:22<05:47,  2.07s/it]WARNING:Lossy conversion from int64 to uint8. Range [15368, 16384]. Convert image to uint8 prior to saving to suppress this warning.\n"
     ]
    },
    {
     "name": "stdout",
     "output_type": "stream",
     "text": [
      "('5257817_L_MLO_1.dcm', 2)\n"
     ]
    },
    {
     "name": "stderr",
     "output_type": "stream",
     "text": [
      " 88%|████████▊ | 1169/1335 [33:24<04:54,  1.78s/it]WARNING:Lossy conversion from int64 to uint8. Range [15285, 16384]. Convert image to uint8 prior to saving to suppress this warning.\n",
      " 88%|████████▊ | 1170/1335 [33:25<04:34,  1.66s/it]"
     ]
    },
    {
     "name": "stdout",
     "output_type": "stream",
     "text": [
      "('76194054_R_MLO_1.dcm', 2)\n"
     ]
    },
    {
     "name": "stderr",
     "output_type": "stream",
     "text": [
      "WARNING:Lossy conversion from int64 to uint8. Range [15253, 16384]. Convert image to uint8 prior to saving to suppress this warning.\n"
     ]
    },
    {
     "name": "stdout",
     "output_type": "stream",
     "text": [
      "('76488839_L_MLO_1.dcm', 2)\n"
     ]
    },
    {
     "name": "stderr",
     "output_type": "stream",
     "text": [
      " 88%|████████▊ | 1171/1335 [33:28<05:06,  1.87s/it]WARNING:Lossy conversion from int64 to uint8. Range [15348, 16384]. Convert image to uint8 prior to saving to suppress this warning.\n",
      " 88%|████████▊ | 1172/1335 [33:29<04:40,  1.72s/it]"
     ]
    },
    {
     "name": "stdout",
     "output_type": "stream",
     "text": [
      "('76243752_R_CC_1.dcm', 4)\n"
     ]
    },
    {
     "name": "stderr",
     "output_type": "stream",
     "text": [
      "WARNING:Lossy conversion from int64 to uint8. Range [15287, 16384]. Convert image to uint8 prior to saving to suppress this warning.\n"
     ]
    },
    {
     "name": "stdout",
     "output_type": "stream",
     "text": [
      "('76162748_L_MLO_1.dcm', 2)\n"
     ]
    },
    {
     "name": "stderr",
     "output_type": "stream",
     "text": [
      " 88%|████████▊ | 1173/1335 [33:32<05:12,  1.93s/it]WARNING:Lossy conversion from int64 to uint8. Range [15331, 16384]. Convert image to uint8 prior to saving to suppress this warning.\n"
     ]
    },
    {
     "name": "stdout",
     "output_type": "stream",
     "text": [
      "('5203080_L_CC_1.dcm', 2)\n"
     ]
    },
    {
     "name": "stderr",
     "output_type": "stream",
     "text": [
      " 88%|████████▊ | 1174/1335 [33:34<05:29,  2.05s/it]WARNING:Lossy conversion from int64 to uint8. Range [15310, 16384]. Convert image to uint8 prior to saving to suppress this warning.\n"
     ]
    },
    {
     "name": "stdout",
     "output_type": "stream",
     "text": [
      "('3823517_L_MLO_1.dcm', 1)\n"
     ]
    },
    {
     "name": "stderr",
     "output_type": "stream",
     "text": [
      " 88%|████████▊ | 1175/1335 [33:36<05:38,  2.11s/it]WARNING:Lossy conversion from int64 to uint8. Range [15347, 16384]. Convert image to uint8 prior to saving to suppress this warning.\n",
      " 88%|████████▊ | 1177/1335 [33:38<04:28,  1.70s/it]"
     ]
    },
    {
     "name": "stdout",
     "output_type": "stream",
     "text": [
      "('76455220_L_MLO_1.dcm', 2)\n"
     ]
    },
    {
     "name": "stderr",
     "output_type": "stream",
     "text": [
      "WARNING:Lossy conversion from int64 to uint8. Range [15438, 16384]. Convert image to uint8 prior to saving to suppress this warning.\n"
     ]
    },
    {
     "name": "stdout",
     "output_type": "stream",
     "text": [
      "('76283628_L_CC_1.dcm', 2)\n"
     ]
    },
    {
     "name": "stderr",
     "output_type": "stream",
     "text": [
      " 88%|████████▊ | 1178/1335 [33:40<04:53,  1.87s/it]WARNING:Lossy conversion from int64 to uint8. Range [15220, 16384]. Convert image to uint8 prior to saving to suppress this warning.\n"
     ]
    },
    {
     "name": "stdout",
     "output_type": "stream",
     "text": [
      "('3804261_L_CC_1.dcm', 2)\n"
     ]
    },
    {
     "name": "stderr",
     "output_type": "stream",
     "text": [
      " 88%|████████▊ | 1179/1335 [33:42<05:08,  1.98s/it]WARNING:Lossy conversion from int64 to uint8. Range [15377, 16384]. Convert image to uint8 prior to saving to suppress this warning.\n"
     ]
    },
    {
     "name": "stdout",
     "output_type": "stream",
     "text": [
      "('76575783_R_CC_1.dcm', 2)\n"
     ]
    },
    {
     "name": "stderr",
     "output_type": "stream",
     "text": [
      " 88%|████████▊ | 1180/1335 [33:44<05:20,  2.07s/it]WARNING:Lossy conversion from int64 to uint8. Range [15413, 16384]. Convert image to uint8 prior to saving to suppress this warning.\n"
     ]
    },
    {
     "name": "stdout",
     "output_type": "stream",
     "text": [
      "('3590663_R_CC_1.dcm', 2)\n"
     ]
    },
    {
     "name": "stderr",
     "output_type": "stream",
     "text": [
      " 88%|████████▊ | 1181/1335 [33:47<05:28,  2.14s/it]WARNING:Lossy conversion from int64 to uint8. Range [15471, 16384]. Convert image to uint8 prior to saving to suppress this warning.\n"
     ]
    },
    {
     "name": "stdout",
     "output_type": "stream",
     "text": [
      "('75063205_R_CC_1.dcm', 1)\n"
     ]
    },
    {
     "name": "stderr",
     "output_type": "stream",
     "text": [
      " 89%|████████▊ | 1182/1335 [33:49<05:34,  2.19s/it]WARNING:Lossy conversion from int64 to uint8. Range [15341, 16384]. Convert image to uint8 prior to saving to suppress this warning.\n"
     ]
    },
    {
     "name": "stdout",
     "output_type": "stream",
     "text": [
      "('76340218_R_CC_1.dcm', 2)\n"
     ]
    },
    {
     "name": "stderr",
     "output_type": "stream",
     "text": [
      " 89%|████████▉ | 1185/1335 [33:51<04:24,  1.76s/it]WARNING:Lossy conversion from int64 to uint8. Range [15276, 16384]. Convert image to uint8 prior to saving to suppress this warning.\n"
     ]
    },
    {
     "name": "stdout",
     "output_type": "stream",
     "text": [
      "('76363152_R_MLO_1.dcm', 2)\n"
     ]
    },
    {
     "name": "stderr",
     "output_type": "stream",
     "text": [
      " 89%|████████▉ | 1186/1335 [33:54<04:46,  1.92s/it]WARNING:Lossy conversion from int64 to uint8. Range [15050, 16384]. Convert image to uint8 prior to saving to suppress this warning.\n"
     ]
    },
    {
     "name": "stdout",
     "output_type": "stream",
     "text": [
      "('76350365_R_MLO_1.dcm', 2)\n"
     ]
    },
    {
     "name": "stderr",
     "output_type": "stream",
     "text": [
      " 89%|████████▉ | 1187/1335 [33:56<04:58,  2.02s/it]WARNING:Lossy conversion from int64 to uint8. Range [15344, 16384]. Convert image to uint8 prior to saving to suppress this warning.\n",
      " 89%|████████▉ | 1188/1335 [33:57<04:28,  1.83s/it]"
     ]
    },
    {
     "name": "stdout",
     "output_type": "stream",
     "text": [
      "('76267257_R_CC_1.dcm', 2)\n"
     ]
    },
    {
     "name": "stderr",
     "output_type": "stream",
     "text": [
      "WARNING:Lossy conversion from int64 to uint8. Range [15345, 16384]. Convert image to uint8 prior to saving to suppress this warning.\n"
     ]
    },
    {
     "name": "stdout",
     "output_type": "stream",
     "text": [
      "('3640539_R_CC_1.dcm', 1)\n"
     ]
    },
    {
     "name": "stderr",
     "output_type": "stream",
     "text": [
      " 89%|████████▉ | 1189/1335 [33:59<04:44,  1.95s/it]WARNING:Lossy conversion from int64 to uint8. Range [15338, 16384]. Convert image to uint8 prior to saving to suppress this warning.\n"
     ]
    },
    {
     "name": "stdout",
     "output_type": "stream",
     "text": [
      "('5290178_R_MLO_1.dcm', 1)\n"
     ]
    },
    {
     "name": "stderr",
     "output_type": "stream",
     "text": [
      " 89%|████████▉ | 1191/1335 [34:02<04:10,  1.74s/it]WARNING:Lossy conversion from int64 to uint8. Range [15530, 16384]. Convert image to uint8 prior to saving to suppress this warning.\n"
     ]
    },
    {
     "name": "stdout",
     "output_type": "stream",
     "text": [
      "('75954157_L_CC_1.dcm', 2)\n"
     ]
    },
    {
     "name": "stderr",
     "output_type": "stream",
     "text": [
      " 89%|████████▉ | 1192/1335 [34:04<04:29,  1.89s/it]WARNING:Lossy conversion from int64 to uint8. Range [15075, 16384]. Convert image to uint8 prior to saving to suppress this warning.\n"
     ]
    },
    {
     "name": "stdout",
     "output_type": "stream",
     "text": [
      "('76394092_R_CC_1.dcm', 2)\n"
     ]
    },
    {
     "name": "stderr",
     "output_type": "stream",
     "text": [
      " 89%|████████▉ | 1193/1335 [34:06<04:44,  2.00s/it]WARNING:Lossy conversion from int64 to uint8. Range [15352, 16384]. Convert image to uint8 prior to saving to suppress this warning.\n"
     ]
    },
    {
     "name": "stdout",
     "output_type": "stream",
     "text": [
      "('76277398_L_CC_1.dcm', 2)\n"
     ]
    },
    {
     "name": "stderr",
     "output_type": "stream",
     "text": [
      " 90%|████████▉ | 1195/1335 [34:08<03:47,  1.62s/it]WARNING:Lossy conversion from int64 to uint8. Range [15227, 16384]. Convert image to uint8 prior to saving to suppress this warning.\n"
     ]
    },
    {
     "name": "stdout",
     "output_type": "stream",
     "text": [
      "('5290743_L_CC_1.dcm', 2)\n"
     ]
    },
    {
     "name": "stderr",
     "output_type": "stream",
     "text": [
      " 90%|████████▉ | 1196/1335 [34:10<04:11,  1.81s/it]WARNING:Lossy conversion from int64 to uint8. Range [15365, 16384]. Convert image to uint8 prior to saving to suppress this warning.\n"
     ]
    },
    {
     "name": "stdout",
     "output_type": "stream",
     "text": [
      "('76488839_L_CC_1.dcm', 2)\n"
     ]
    },
    {
     "name": "stderr",
     "output_type": "stream",
     "text": [
      " 90%|████████▉ | 1197/1335 [34:13<04:31,  1.96s/it]WARNING:Lossy conversion from int64 to uint8. Range [15266, 16384]. Convert image to uint8 prior to saving to suppress this warning.\n"
     ]
    },
    {
     "name": "stdout",
     "output_type": "stream",
     "text": [
      "('75067964_R_CC_1.dcm', 1)\n"
     ]
    },
    {
     "name": "stderr",
     "output_type": "stream",
     "text": [
      " 90%|████████▉ | 1198/1335 [34:15<04:39,  2.04s/it]WARNING:Lossy conversion from int64 to uint8. Range [15115, 16384]. Convert image to uint8 prior to saving to suppress this warning.\n"
     ]
    },
    {
     "name": "stdout",
     "output_type": "stream",
     "text": [
      "('5203080_R_MLO_1.dcm', 2)\n"
     ]
    },
    {
     "name": "stderr",
     "output_type": "stream",
     "text": [
      " 90%|████████▉ | 1201/1335 [34:17<03:42,  1.66s/it]WARNING:Lossy conversion from int64 to uint8. Range [15433, 16384]. Convert image to uint8 prior to saving to suppress this warning.\n"
     ]
    },
    {
     "name": "stdout",
     "output_type": "stream",
     "text": [
      "('76062746_R_CC_1.dcm', 1)\n"
     ]
    },
    {
     "name": "stderr",
     "output_type": "stream",
     "text": [
      " 90%|█████████ | 1202/1335 [34:19<04:01,  1.81s/it]WARNING:Lossy conversion from int64 to uint8. Range [15230, 16384]. Convert image to uint8 prior to saving to suppress this warning.\n"
     ]
    },
    {
     "name": "stdout",
     "output_type": "stream",
     "text": [
      "('75079706_R_MLO_1.dcm', 2)\n"
     ]
    },
    {
     "name": "stderr",
     "output_type": "stream",
     "text": [
      " 90%|█████████ | 1203/1335 [34:21<04:17,  1.95s/it]WARNING:Lossy conversion from int64 to uint8. Range [15343, 16384]. Convert image to uint8 prior to saving to suppress this warning.\n"
     ]
    },
    {
     "name": "stdout",
     "output_type": "stream",
     "text": [
      "('4531219_R_MLO_1.dcm', 3)\n"
     ]
    },
    {
     "name": "stderr",
     "output_type": "stream",
     "text": [
      " 90%|█████████ | 1205/1335 [34:24<03:43,  1.72s/it]WARNING:Lossy conversion from int64 to uint8. Range [15247, 16384]. Convert image to uint8 prior to saving to suppress this warning.\n",
      " 90%|█████████ | 1207/1335 [34:25<03:03,  1.43s/it]"
     ]
    },
    {
     "name": "stdout",
     "output_type": "stream",
     "text": [
      "('76387928_R_CC_1.dcm', 2)\n"
     ]
    },
    {
     "name": "stderr",
     "output_type": "stream",
     "text": [
      "WARNING:Lossy conversion from int64 to uint8. Range [15321, 16384]. Convert image to uint8 prior to saving to suppress this warning.\n"
     ]
    },
    {
     "name": "stdout",
     "output_type": "stream",
     "text": [
      "('3590663_R_MLO_1.dcm', 2)\n"
     ]
    },
    {
     "name": "stderr",
     "output_type": "stream",
     "text": [
      " 90%|█████████ | 1208/1335 [34:28<03:32,  1.67s/it]WARNING:Lossy conversion from int64 to uint8. Range [15293, 16384]. Convert image to uint8 prior to saving to suppress this warning.\n",
      " 91%|█████████ | 1209/1335 [34:29<03:18,  1.57s/it]"
     ]
    },
    {
     "name": "stdout",
     "output_type": "stream",
     "text": [
      "('75925559_L_CC_1.dcm', 3)\n"
     ]
    },
    {
     "name": "stderr",
     "output_type": "stream",
     "text": [
      "WARNING:Lossy conversion from int64 to uint8. Range [15270, 16384]. Convert image to uint8 prior to saving to suppress this warning.\n"
     ]
    },
    {
     "name": "stdout",
     "output_type": "stream",
     "text": [
      "('75067964_R_MLO_1.dcm', 1)\n"
     ]
    },
    {
     "name": "stderr",
     "output_type": "stream",
     "text": [
      " 91%|█████████ | 1210/1335 [34:31<03:48,  1.83s/it]WARNING:Lossy conversion from int64 to uint8. Range [15564, 16384]. Convert image to uint8 prior to saving to suppress this warning.\n"
     ]
    },
    {
     "name": "stdout",
     "output_type": "stream",
     "text": [
      "('3863462_L_CC_1.dcm', 2)\n"
     ]
    },
    {
     "name": "stderr",
     "output_type": "stream",
     "text": [
      " 91%|█████████ | 1211/1335 [34:34<04:01,  1.95s/it]WARNING:Lossy conversion from int64 to uint8. Range [15294, 16384]. Convert image to uint8 prior to saving to suppress this warning.\n"
     ]
    },
    {
     "name": "stdout",
     "output_type": "stream",
     "text": [
      "('75972630_R_MLO_1.dcm', 2)\n"
     ]
    },
    {
     "name": "stderr",
     "output_type": "stream",
     "text": [
      " 91%|█████████ | 1212/1335 [34:36<04:16,  2.08s/it]WARNING:Lossy conversion from int64 to uint8. Range [15424, 16384]. Convert image to uint8 prior to saving to suppress this warning.\n"
     ]
    },
    {
     "name": "stdout",
     "output_type": "stream",
     "text": [
      "('76071602_R_CC_1.dcm', 2)\n"
     ]
    },
    {
     "name": "stderr",
     "output_type": "stream",
     "text": [
      " 91%|█████████ | 1213/1335 [34:38<04:20,  2.13s/it]WARNING:Lossy conversion from int64 to uint8. Range [15251, 16384]. Convert image to uint8 prior to saving to suppress this warning.\n"
     ]
    },
    {
     "name": "stdout",
     "output_type": "stream",
     "text": [
      "('4484666_L_CC_1.dcm', 2)\n"
     ]
    },
    {
     "name": "stderr",
     "output_type": "stream",
     "text": [
      " 91%|█████████ | 1214/1335 [34:41<04:26,  2.20s/it]WARNING:Lossy conversion from int64 to uint8. Range [15349, 16384]. Convert image to uint8 prior to saving to suppress this warning.\n"
     ]
    },
    {
     "name": "stdout",
     "output_type": "stream",
     "text": [
      "('4533275_R_MLO_1.dcm', 2)\n"
     ]
    },
    {
     "name": "stderr",
     "output_type": "stream",
     "text": [
      " 91%|█████████ | 1215/1335 [34:43<04:26,  2.22s/it]WARNING:Lossy conversion from int64 to uint8. Range [15273, 16384]. Convert image to uint8 prior to saving to suppress this warning.\n"
     ]
    },
    {
     "name": "stdout",
     "output_type": "stream",
     "text": [
      "('3819798_L_CC_1.dcm', 2)\n"
     ]
    },
    {
     "name": "stderr",
     "output_type": "stream",
     "text": [
      " 91%|█████████ | 1216/1335 [34:45<04:26,  2.24s/it]WARNING:Lossy conversion from int64 to uint8. Range [15403, 16384]. Convert image to uint8 prior to saving to suppress this warning.\n",
      " 91%|█████████ | 1217/1335 [34:47<03:56,  2.00s/it]"
     ]
    },
    {
     "name": "stdout",
     "output_type": "stream",
     "text": [
      "('5309266_L_CC_1.dcm', 2)\n"
     ]
    },
    {
     "name": "stderr",
     "output_type": "stream",
     "text": [
      "WARNING:Lossy conversion from int64 to uint8. Range [15383, 16384]. Convert image to uint8 prior to saving to suppress this warning.\n"
     ]
    },
    {
     "name": "stdout",
     "output_type": "stream",
     "text": [
      "('5179559_L_MLO_1.dcm', 1)\n"
     ]
    },
    {
     "name": "stderr",
     "output_type": "stream",
     "text": [
      " 91%|█████████ | 1218/1335 [34:49<04:05,  2.10s/it]WARNING:Lossy conversion from int64 to uint8. Range [15366, 16384]. Convert image to uint8 prior to saving to suppress this warning.\n"
     ]
    },
    {
     "name": "stdout",
     "output_type": "stream",
     "text": [
      "('76423839_L_MLO_1.dcm', 2)\n"
     ]
    },
    {
     "name": "stderr",
     "output_type": "stream",
     "text": [
      " 91%|█████████▏| 1219/1335 [34:51<04:08,  2.14s/it]WARNING:Lossy conversion from int64 to uint8. Range [15335, 16384]. Convert image to uint8 prior to saving to suppress this warning.\n",
      " 91%|█████████▏| 1220/1335 [34:53<03:40,  1.92s/it]"
     ]
    },
    {
     "name": "stdout",
     "output_type": "stream",
     "text": [
      "('5187297_L_CC_1.dcm', 3)\n"
     ]
    },
    {
     "name": "stderr",
     "output_type": "stream",
     "text": [
      "WARNING:Lossy conversion from int64 to uint8. Range [15392, 16384]. Convert image to uint8 prior to saving to suppress this warning.\n"
     ]
    },
    {
     "name": "stdout",
     "output_type": "stream",
     "text": [
      "('3640221_R_CC_1.dcm', 2)\n"
     ]
    },
    {
     "name": "stderr",
     "output_type": "stream",
     "text": [
      " 91%|█████████▏| 1221/1335 [34:55<03:50,  2.02s/it]WARNING:Lossy conversion from int64 to uint8. Range [15288, 16384]. Convert image to uint8 prior to saving to suppress this warning.\n"
     ]
    },
    {
     "name": "stdout",
     "output_type": "stream",
     "text": [
      "('76054106_R_MLO_1.dcm', 2)\n"
     ]
    },
    {
     "name": "stderr",
     "output_type": "stream",
     "text": [
      " 92%|█████████▏| 1223/1335 [34:57<03:16,  1.75s/it]WARNING:Lossy conversion from int64 to uint8. Range [15364, 16384]. Convert image to uint8 prior to saving to suppress this warning.\n",
      " 92%|█████████▏| 1224/1335 [34:59<03:05,  1.67s/it]"
     ]
    },
    {
     "name": "stdout",
     "output_type": "stream",
     "text": [
      "('75022020_L_CC_1.dcm', 4)\n"
     ]
    },
    {
     "name": "stderr",
     "output_type": "stream",
     "text": [
      "WARNING:Lossy conversion from int64 to uint8. Range [15261, 16384]. Convert image to uint8 prior to saving to suppress this warning.\n",
      " 92%|█████████▏| 1225/1335 [35:00<02:55,  1.60s/it]"
     ]
    },
    {
     "name": "stdout",
     "output_type": "stream",
     "text": [
      "('5255713_L_MLO_1.dcm', 3)\n"
     ]
    },
    {
     "name": "stderr",
     "output_type": "stream",
     "text": [
      "WARNING:Lossy conversion from int64 to uint8. Range [15275, 16384]. Convert image to uint8 prior to saving to suppress this warning.\n"
     ]
    },
    {
     "name": "stdout",
     "output_type": "stream",
     "text": [
      "('3805844_R_MLO_1.dcm', 2)\n"
     ]
    },
    {
     "name": "stderr",
     "output_type": "stream",
     "text": [
      " 92%|█████████▏| 1226/1335 [35:02<03:17,  1.81s/it]WARNING:Lossy conversion from int64 to uint8. Range [15394, 16384]. Convert image to uint8 prior to saving to suppress this warning.\n"
     ]
    },
    {
     "name": "stdout",
     "output_type": "stream",
     "text": [
      "('75904104_R_CC_1.dcm', 2)\n"
     ]
    },
    {
     "name": "stderr",
     "output_type": "stream",
     "text": [
      " 92%|█████████▏| 1227/1335 [35:05<03:30,  1.95s/it]WARNING:Lossy conversion from int64 to uint8. Range [15313, 16384]. Convert image to uint8 prior to saving to suppress this warning.\n"
     ]
    },
    {
     "name": "stdout",
     "output_type": "stream",
     "text": [
      "('75023037_R_MLO_1.dcm', 3)\n"
     ]
    },
    {
     "name": "stderr",
     "output_type": "stream",
     "text": [
      " 92%|█████████▏| 1228/1335 [35:07<03:41,  2.07s/it]WARNING:Lossy conversion from int64 to uint8. Range [15313, 16384]. Convert image to uint8 prior to saving to suppress this warning.\n"
     ]
    },
    {
     "name": "stdout",
     "output_type": "stream",
     "text": [
      "('3542781_R_MLO_1.dcm', 2)\n"
     ]
    },
    {
     "name": "stderr",
     "output_type": "stream",
     "text": [
      " 92%|█████████▏| 1229/1335 [35:09<03:47,  2.14s/it]WARNING:Lossy conversion from int64 to uint8. Range [15436, 16384]. Convert image to uint8 prior to saving to suppress this warning.\n"
     ]
    },
    {
     "name": "stdout",
     "output_type": "stream",
     "text": [
      "('5182867_L_MLO_1.dcm', 2)\n"
     ]
    },
    {
     "name": "stderr",
     "output_type": "stream",
     "text": [
      " 92%|█████████▏| 1230/1335 [35:12<03:51,  2.21s/it]WARNING:Lossy conversion from int64 to uint8. Range [15394, 16384]. Convert image to uint8 prior to saving to suppress this warning.\n"
     ]
    },
    {
     "name": "stdout",
     "output_type": "stream",
     "text": [
      "('4421709_R_CC_1.dcm', 1)\n"
     ]
    },
    {
     "name": "stderr",
     "output_type": "stream",
     "text": [
      " 92%|█████████▏| 1231/1335 [35:14<03:53,  2.25s/it]WARNING:Lossy conversion from int64 to uint8. Range [15363, 16384]. Convert image to uint8 prior to saving to suppress this warning.\n"
     ]
    },
    {
     "name": "stdout",
     "output_type": "stream",
     "text": [
      "('3589676_R_MLO_1.dcm', 2)\n"
     ]
    },
    {
     "name": "stderr",
     "output_type": "stream",
     "text": [
      " 92%|█████████▏| 1232/1335 [35:16<03:54,  2.28s/it]WARNING:Lossy conversion from int64 to uint8. Range [15276, 16384]. Convert image to uint8 prior to saving to suppress this warning.\n"
     ]
    },
    {
     "name": "stdout",
     "output_type": "stream",
     "text": [
      "('76312395_R_MLO_1.dcm', 2)\n"
     ]
    },
    {
     "name": "stderr",
     "output_type": "stream",
     "text": [
      " 92%|█████████▏| 1233/1335 [35:19<03:55,  2.31s/it]WARNING:Lossy conversion from int64 to uint8. Range [15242, 16384]. Convert image to uint8 prior to saving to suppress this warning.\n",
      " 92%|█████████▏| 1234/1335 [35:20<03:25,  2.03s/it]"
     ]
    },
    {
     "name": "stdout",
     "output_type": "stream",
     "text": [
      "('5255713_R_MLO_1.dcm', 3)\n"
     ]
    },
    {
     "name": "stderr",
     "output_type": "stream",
     "text": [
      "WARNING:Lossy conversion from int64 to uint8. Range [15473, 16384]. Convert image to uint8 prior to saving to suppress this warning.\n"
     ]
    },
    {
     "name": "stdout",
     "output_type": "stream",
     "text": [
      "('5255735_R_CC_1.dcm', 2)\n"
     ]
    },
    {
     "name": "stderr",
     "output_type": "stream",
     "text": [
      " 93%|█████████▎| 1236/1335 [35:22<02:54,  1.76s/it]WARNING:Lossy conversion from int64 to uint8. Range [15293, 16384]. Convert image to uint8 prior to saving to suppress this warning.\n"
     ]
    },
    {
     "name": "stdout",
     "output_type": "stream",
     "text": [
      "('5261275_R_MLO_1.dcm', 2)\n"
     ]
    },
    {
     "name": "stderr",
     "output_type": "stream",
     "text": [
      " 93%|█████████▎| 1237/1335 [35:25<03:07,  1.91s/it]WARNING:Lossy conversion from int64 to uint8. Range [15331, 16384]. Convert image to uint8 prior to saving to suppress this warning.\n",
      " 93%|█████████▎| 1240/1335 [35:26<02:20,  1.48s/it]"
     ]
    },
    {
     "name": "stdout",
     "output_type": "stream",
     "text": [
      "('3931997_L_MLO_1.dcm', 3)\n"
     ]
    },
    {
     "name": "stderr",
     "output_type": "stream",
     "text": [
      "WARNING:Lossy conversion from int64 to uint8. Range [15338, 16384]. Convert image to uint8 prior to saving to suppress this warning.\n"
     ]
    },
    {
     "name": "stdout",
     "output_type": "stream",
     "text": [
      "('76081249_R_MLO_1.dcm', 1)\n"
     ]
    },
    {
     "name": "stderr",
     "output_type": "stream",
     "text": [
      " 93%|█████████▎| 1241/1335 [35:28<02:43,  1.74s/it]WARNING:Lossy conversion from int64 to uint8. Range [15419, 16384]. Convert image to uint8 prior to saving to suppress this warning.\n"
     ]
    },
    {
     "name": "stdout",
     "output_type": "stream",
     "text": [
      "('75945565_L_CC_1.dcm', 3)\n"
     ]
    },
    {
     "name": "stderr",
     "output_type": "stream",
     "text": [
      " 93%|█████████▎| 1244/1335 [35:30<02:10,  1.44s/it]WARNING:Lossy conversion from int64 to uint8. Range [15323, 16384]. Convert image to uint8 prior to saving to suppress this warning.\n"
     ]
    },
    {
     "name": "stdout",
     "output_type": "stream",
     "text": [
      "('76575783_L_MLO_1.dcm', 2)\n"
     ]
    },
    {
     "name": "stderr",
     "output_type": "stream",
     "text": [
      " 93%|█████████▎| 1245/1335 [35:33<02:30,  1.67s/it]WARNING:Lossy conversion from int64 to uint8. Range [15369, 16384]. Convert image to uint8 prior to saving to suppress this warning.\n"
     ]
    },
    {
     "name": "stdout",
     "output_type": "stream",
     "text": [
      "('3816546_R_CC_1.dcm', 1)\n"
     ]
    },
    {
     "name": "stderr",
     "output_type": "stream",
     "text": [
      " 93%|█████████▎| 1246/1335 [35:35<02:46,  1.87s/it]WARNING:Lossy conversion from int64 to uint8. Range [15382, 16384]. Convert image to uint8 prior to saving to suppress this warning.\n",
      " 93%|█████████▎| 1248/1335 [35:36<02:12,  1.53s/it]"
     ]
    },
    {
     "name": "stdout",
     "output_type": "stream",
     "text": [
      "('76068458_L_CC_1.dcm', 2)\n"
     ]
    },
    {
     "name": "stderr",
     "output_type": "stream",
     "text": [
      "WARNING:Lossy conversion from int64 to uint8. Range [15321, 16384]. Convert image to uint8 prior to saving to suppress this warning.\n"
     ]
    },
    {
     "name": "stdout",
     "output_type": "stream",
     "text": [
      "('76489648_L_CC_1.dcm', 2)\n"
     ]
    },
    {
     "name": "stderr",
     "output_type": "stream",
     "text": [
      " 94%|█████████▎| 1249/1335 [35:39<02:30,  1.75s/it]WARNING:Lossy conversion from int64 to uint8. Range [15428, 16384]. Convert image to uint8 prior to saving to suppress this warning.\n"
     ]
    },
    {
     "name": "stdout",
     "output_type": "stream",
     "text": [
      "('76088925_L_CC_1.dcm', 3)\n"
     ]
    },
    {
     "name": "stderr",
     "output_type": "stream",
     "text": [
      " 94%|█████████▎| 1250/1335 [35:41<02:39,  1.88s/it]WARNING:Lossy conversion from int64 to uint8. Range [15356, 16384]. Convert image to uint8 prior to saving to suppress this warning.\n"
     ]
    },
    {
     "name": "stdout",
     "output_type": "stream",
     "text": [
      "('76561252_L_MLO_1.dcm', 1)\n"
     ]
    },
    {
     "name": "stderr",
     "output_type": "stream",
     "text": [
      " 94%|█████████▎| 1251/1335 [35:43<02:48,  2.00s/it]WARNING:Lossy conversion from int64 to uint8. Range [15284, 16384]. Convert image to uint8 prior to saving to suppress this warning.\n"
     ]
    },
    {
     "name": "stdout",
     "output_type": "stream",
     "text": [
      "('76000381_L_MLO_1.dcm', 1)\n"
     ]
    },
    {
     "name": "stderr",
     "output_type": "stream",
     "text": [
      " 94%|█████████▍| 1252/1335 [35:45<02:53,  2.09s/it]WARNING:Lossy conversion from int64 to uint8. Range [15436, 16384]. Convert image to uint8 prior to saving to suppress this warning.\n"
     ]
    },
    {
     "name": "stdout",
     "output_type": "stream",
     "text": [
      "('4330986_R_MLO_1.dcm', 3)\n"
     ]
    },
    {
     "name": "stderr",
     "output_type": "stream",
     "text": [
      " 94%|█████████▍| 1253/1335 [35:48<02:55,  2.14s/it]WARNING:Lossy conversion from int64 to uint8. Range [15227, 16384]. Convert image to uint8 prior to saving to suppress this warning.\n"
     ]
    },
    {
     "name": "stdout",
     "output_type": "stream",
     "text": [
      "('3958987_L_MLO_1.dcm', 2)\n"
     ]
    },
    {
     "name": "stderr",
     "output_type": "stream",
     "text": [
      " 94%|█████████▍| 1254/1335 [35:50<02:57,  2.19s/it]WARNING:Lossy conversion from int64 to uint8. Range [15354, 16384]. Convert image to uint8 prior to saving to suppress this warning.\n"
     ]
    },
    {
     "name": "stdout",
     "output_type": "stream",
     "text": [
      "('3874461_R_CC_1.dcm', 2)\n"
     ]
    },
    {
     "name": "stderr",
     "output_type": "stream",
     "text": [
      " 94%|█████████▍| 1256/1335 [35:52<02:30,  1.90s/it]WARNING:Lossy conversion from int64 to uint8. Range [15405, 16384]. Convert image to uint8 prior to saving to suppress this warning.\n"
     ]
    },
    {
     "name": "stdout",
     "output_type": "stream",
     "text": [
      "('75079706_R_CC_1.dcm', 2)\n"
     ]
    },
    {
     "name": "stderr",
     "output_type": "stream",
     "text": [
      " 94%|█████████▍| 1257/1335 [35:55<02:37,  2.01s/it]WARNING:Lossy conversion from int64 to uint8. Range [15350, 16384]. Convert image to uint8 prior to saving to suppress this warning.\n"
     ]
    },
    {
     "name": "stdout",
     "output_type": "stream",
     "text": [
      "('76433131_L_CC_1.dcm', 1)\n"
     ]
    },
    {
     "name": "stderr",
     "output_type": "stream",
     "text": [
      " 94%|█████████▍| 1258/1335 [35:57<02:40,  2.08s/it]WARNING:Lossy conversion from int64 to uint8. Range [15412, 16384]. Convert image to uint8 prior to saving to suppress this warning.\n"
     ]
    },
    {
     "name": "stdout",
     "output_type": "stream",
     "text": [
      "('76255029_R_MLO_1.dcm', 2)\n"
     ]
    },
    {
     "name": "stderr",
     "output_type": "stream",
     "text": [
      " 94%|█████████▍| 1259/1335 [35:59<02:42,  2.13s/it]WARNING:Lossy conversion from int64 to uint8. Range [15412, 16384]. Convert image to uint8 prior to saving to suppress this warning.\n",
      " 94%|█████████▍| 1260/1335 [36:01<02:25,  1.95s/it]"
     ]
    },
    {
     "name": "stdout",
     "output_type": "stream",
     "text": [
      "('4291502_L_CC_1.dcm', 2)\n"
     ]
    },
    {
     "name": "stderr",
     "output_type": "stream",
     "text": [
      "WARNING:Lossy conversion from int64 to uint8. Range [15569, 16384]. Convert image to uint8 prior to saving to suppress this warning.\n"
     ]
    },
    {
     "name": "stdout",
     "output_type": "stream",
     "text": [
      "('4330986_R_CC_1.dcm', 3)\n"
     ]
    },
    {
     "name": "stderr",
     "output_type": "stream",
     "text": [
      " 94%|█████████▍| 1261/1335 [36:03<02:29,  2.02s/it]WARNING:Lossy conversion from int64 to uint8. Range [15216, 16384]. Convert image to uint8 prior to saving to suppress this warning.\n"
     ]
    },
    {
     "name": "stdout",
     "output_type": "stream",
     "text": [
      "('3822882_R_MLO_1.dcm', 3)\n"
     ]
    },
    {
     "name": "stderr",
     "output_type": "stream",
     "text": [
      " 95%|█████████▍| 1262/1335 [36:05<02:33,  2.10s/it]WARNING:Lossy conversion from int64 to uint8. Range [15334, 16384]. Convert image to uint8 prior to saving to suppress this warning.\n",
      " 95%|█████████▍| 1263/1335 [36:07<02:17,  1.91s/it]"
     ]
    },
    {
     "name": "stdout",
     "output_type": "stream",
     "text": [
      "('5309804_R_CC_1.dcm', 3)\n"
     ]
    },
    {
     "name": "stderr",
     "output_type": "stream",
     "text": [
      "WARNING:Lossy conversion from int64 to uint8. Range [15561, 16384]. Convert image to uint8 prior to saving to suppress this warning.\n"
     ]
    },
    {
     "name": "stdout",
     "output_type": "stream",
     "text": [
      "('75972630_R_CC_1.dcm', 2)\n"
     ]
    },
    {
     "name": "stderr",
     "output_type": "stream",
     "text": [
      " 95%|█████████▍| 1264/1335 [36:09<02:20,  1.99s/it]WARNING:Lossy conversion from int64 to uint8. Range [15566, 16384]. Convert image to uint8 prior to saving to suppress this warning.\n"
     ]
    },
    {
     "name": "stdout",
     "output_type": "stream",
     "text": [
      "('5294007_L_CC_1.dcm', 2)\n"
     ]
    },
    {
     "name": "stderr",
     "output_type": "stream",
     "text": [
      " 95%|█████████▍| 1265/1335 [36:11<02:27,  2.10s/it]WARNING:Lossy conversion from int64 to uint8. Range [15085, 16384]. Convert image to uint8 prior to saving to suppress this warning.\n"
     ]
    },
    {
     "name": "stdout",
     "output_type": "stream",
     "text": [
      "('76418067_L_MLO_1.dcm', 2)\n"
     ]
    },
    {
     "name": "stderr",
     "output_type": "stream",
     "text": [
      " 95%|█████████▍| 1266/1335 [36:14<02:31,  2.20s/it]WARNING:Lossy conversion from int64 to uint8. Range [15354, 16384]. Convert image to uint8 prior to saving to suppress this warning.\n"
     ]
    },
    {
     "name": "stdout",
     "output_type": "stream",
     "text": [
      "('75030937_L_CC_1.dcm', 2)\n"
     ]
    },
    {
     "name": "stderr",
     "output_type": "stream",
     "text": [
      " 95%|█████████▍| 1267/1335 [36:16<02:32,  2.24s/it]WARNING:Lossy conversion from int64 to uint8. Range [15602, 16384]. Convert image to uint8 prior to saving to suppress this warning.\n"
     ]
    },
    {
     "name": "stdout",
     "output_type": "stream",
     "text": [
      "('4533275_R_CC_1.dcm', 2)\n"
     ]
    },
    {
     "name": "stderr",
     "output_type": "stream",
     "text": [
      " 95%|█████████▍| 1268/1335 [36:18<02:29,  2.23s/it]WARNING:Lossy conversion from int64 to uint8. Range [15380, 16384]. Convert image to uint8 prior to saving to suppress this warning.\n"
     ]
    },
    {
     "name": "stdout",
     "output_type": "stream",
     "text": [
      "('4354725_R_MLO_1.dcm', 2)\n"
     ]
    },
    {
     "name": "stderr",
     "output_type": "stream",
     "text": [
      " 95%|█████████▌| 1269/1335 [36:21<02:30,  2.28s/it]WARNING:Lossy conversion from int64 to uint8. Range [15274, 16384]. Convert image to uint8 prior to saving to suppress this warning.\n"
     ]
    },
    {
     "name": "stdout",
     "output_type": "stream",
     "text": [
      "('3958987_L_CC_1.dcm', 2)\n"
     ]
    },
    {
     "name": "stderr",
     "output_type": "stream",
     "text": [
      " 95%|█████████▌| 1270/1335 [36:23<02:29,  2.29s/it]WARNING:Lossy conversion from int64 to uint8. Range [15341, 16384]. Convert image to uint8 prior to saving to suppress this warning.\n"
     ]
    },
    {
     "name": "stdout",
     "output_type": "stream",
     "text": [
      "('3822882_R_CC_1.dcm', 3)\n"
     ]
    },
    {
     "name": "stderr",
     "output_type": "stream",
     "text": [
      " 95%|█████████▌| 1271/1335 [36:25<02:28,  2.32s/it]WARNING:Lossy conversion from int64 to uint8. Range [15531, 16384]. Convert image to uint8 prior to saving to suppress this warning.\n"
     ]
    },
    {
     "name": "stdout",
     "output_type": "stream",
     "text": [
      "('76534519_L_CC_1.dcm', 3)\n"
     ]
    },
    {
     "name": "stderr",
     "output_type": "stream",
     "text": [
      " 95%|█████████▌| 1274/1335 [36:28<01:52,  1.85s/it]WARNING:Lossy conversion from int64 to uint8. Range [15225, 16384]. Convert image to uint8 prior to saving to suppress this warning.\n"
     ]
    },
    {
     "name": "stdout",
     "output_type": "stream",
     "text": [
      "('76465727_L_MLO_1.dcm', 1)\n"
     ]
    },
    {
     "name": "stderr",
     "output_type": "stream",
     "text": [
      " 96%|█████████▌| 1275/1335 [36:30<01:58,  1.98s/it]WARNING:Lossy conversion from int64 to uint8. Range [15328, 16384]. Convert image to uint8 prior to saving to suppress this warning.\n",
      " 96%|█████████▌| 1276/1335 [36:31<01:48,  1.83s/it]"
     ]
    },
    {
     "name": "stdout",
     "output_type": "stream",
     "text": [
      "('75008788_R_MLO_1.dcm', 3)\n"
     ]
    },
    {
     "name": "stderr",
     "output_type": "stream",
     "text": [
      "WARNING:Lossy conversion from int64 to uint8. Range [15292, 16384]. Convert image to uint8 prior to saving to suppress this warning.\n"
     ]
    },
    {
     "name": "stdout",
     "output_type": "stream",
     "text": [
      "('4340598_R_MLO_1.dcm', 1)\n"
     ]
    },
    {
     "name": "stderr",
     "output_type": "stream",
     "text": [
      " 96%|█████████▌| 1277/1335 [36:34<01:53,  1.96s/it]WARNING:Lossy conversion from int64 to uint8. Range [15303, 16384]. Convert image to uint8 prior to saving to suppress this warning.\n"
     ]
    },
    {
     "name": "stdout",
     "output_type": "stream",
     "text": [
      "('4484666_R_MLO_1.dcm', 2)\n"
     ]
    },
    {
     "name": "stderr",
     "output_type": "stream",
     "text": [
      " 96%|█████████▌| 1278/1335 [36:36<01:56,  2.04s/it]WARNING:Lossy conversion from int64 to uint8. Range [15254, 16384]. Convert image to uint8 prior to saving to suppress this warning.\n"
     ]
    },
    {
     "name": "stdout",
     "output_type": "stream",
     "text": [
      "('76358683_R_MLO_1.dcm', 2)\n"
     ]
    },
    {
     "name": "stderr",
     "output_type": "stream",
     "text": [
      " 96%|█████████▌| 1279/1335 [36:38<01:58,  2.12s/it]WARNING:Lossy conversion from int64 to uint8. Range [15000, 16384]. Convert image to uint8 prior to saving to suppress this warning.\n"
     ]
    },
    {
     "name": "stdout",
     "output_type": "stream",
     "text": [
      "('76206037_L_MLO_1.dcm', 1)\n"
     ]
    },
    {
     "name": "stderr",
     "output_type": "stream",
     "text": [
      " 96%|█████████▌| 1280/1335 [36:40<02:00,  2.19s/it]WARNING:Lossy conversion from int64 to uint8. Range [15416, 16384]. Convert image to uint8 prior to saving to suppress this warning.\n"
     ]
    },
    {
     "name": "stdout",
     "output_type": "stream",
     "text": [
      "('3637071_L_MLO_1.dcm', 3)\n"
     ]
    },
    {
     "name": "stderr",
     "output_type": "stream",
     "text": [
      " 96%|█████████▌| 1281/1335 [36:43<02:01,  2.24s/it]WARNING:Lossy conversion from int64 to uint8. Range [15348, 16384]. Convert image to uint8 prior to saving to suppress this warning.\n"
     ]
    },
    {
     "name": "stdout",
     "output_type": "stream",
     "text": [
      "('3857711_R_CC_1.dcm', 2)\n"
     ]
    },
    {
     "name": "stderr",
     "output_type": "stream",
     "text": [
      " 96%|█████████▌| 1282/1335 [36:45<01:58,  2.23s/it]WARNING:Lossy conversion from int64 to uint8. Range [15312, 16384]. Convert image to uint8 prior to saving to suppress this warning.\n"
     ]
    },
    {
     "name": "stdout",
     "output_type": "stream",
     "text": [
      "('76156451_R_CC_1.dcm', 3)\n"
     ]
    },
    {
     "name": "stderr",
     "output_type": "stream",
     "text": [
      " 96%|█████████▌| 1283/1335 [36:47<01:55,  2.22s/it]WARNING:Lossy conversion from int64 to uint8. Range [15563, 16384]. Convert image to uint8 prior to saving to suppress this warning.\n",
      " 96%|█████████▌| 1284/1335 [36:49<01:40,  1.97s/it]"
     ]
    },
    {
     "name": "stdout",
     "output_type": "stream",
     "text": [
      "('76455220_L_CC_1.dcm', 2)\n"
     ]
    },
    {
     "name": "stderr",
     "output_type": "stream",
     "text": [
      "WARNING:Lossy conversion from int64 to uint8. Range [15327, 16384]. Convert image to uint8 prior to saving to suppress this warning.\n"
     ]
    },
    {
     "name": "stdout",
     "output_type": "stream",
     "text": [
      "('76054106_L_CC_1.dcm', 2)\n"
     ]
    },
    {
     "name": "stderr",
     "output_type": "stream",
     "text": [
      " 96%|█████████▋| 1286/1335 [36:51<01:24,  1.72s/it]WARNING:Lossy conversion from int64 to uint8. Range [15281, 16384]. Convert image to uint8 prior to saving to suppress this warning.\n",
      " 96%|█████████▋| 1287/1335 [36:52<01:19,  1.66s/it]"
     ]
    },
    {
     "name": "stdout",
     "output_type": "stream",
     "text": [
      "('75925559_L_MLO_1.dcm', 3)\n"
     ]
    },
    {
     "name": "stderr",
     "output_type": "stream",
     "text": [
      "WARNING:Lossy conversion from int64 to uint8. Range [15461, 16384]. Convert image to uint8 prior to saving to suppress this warning.\n"
     ]
    },
    {
     "name": "stdout",
     "output_type": "stream",
     "text": [
      "('5266778_L_CC_1.dcm', 2)\n"
     ]
    },
    {
     "name": "stderr",
     "output_type": "stream",
     "text": [
      " 96%|█████████▋| 1288/1335 [36:55<01:26,  1.84s/it]WARNING:Lossy conversion from int64 to uint8. Range [15139, 16384]. Convert image to uint8 prior to saving to suppress this warning.\n"
     ]
    },
    {
     "name": "stdout",
     "output_type": "stream",
     "text": [
      "('76156451_L_CC_1.dcm', 3)\n"
     ]
    },
    {
     "name": "stderr",
     "output_type": "stream",
     "text": [
      " 97%|█████████▋| 1290/1335 [36:57<01:13,  1.64s/it]WARNING:Lossy conversion from int64 to uint8. Range [15102, 16384]. Convert image to uint8 prior to saving to suppress this warning.\n"
     ]
    },
    {
     "name": "stdout",
     "output_type": "stream",
     "text": [
      "('3611751_L_CC_1.dcm', 3)\n"
     ]
    },
    {
     "name": "stderr",
     "output_type": "stream",
     "text": [
      " 97%|█████████▋| 1293/1335 [36:59<00:57,  1.37s/it]WARNING:Lossy conversion from int64 to uint8. Range [15226, 16384]. Convert image to uint8 prior to saving to suppress this warning.\n"
     ]
    },
    {
     "name": "stdout",
     "output_type": "stream",
     "text": [
      "('76418067_R_CC_1.dcm', 2)\n"
     ]
    },
    {
     "name": "stderr",
     "output_type": "stream",
     "text": [
      " 97%|█████████▋| 1294/1335 [37:01<01:06,  1.63s/it]WARNING:Lossy conversion from int64 to uint8. Range [15514, 16384]. Convert image to uint8 prior to saving to suppress this warning.\n"
     ]
    },
    {
     "name": "stdout",
     "output_type": "stream",
     "text": [
      "('76423839_L_CC_1.dcm', 2)\n"
     ]
    },
    {
     "name": "stderr",
     "output_type": "stream",
     "text": [
      " 97%|█████████▋| 1295/1335 [37:04<01:11,  1.80s/it]WARNING:Lossy conversion from int64 to uint8. Range [15268, 16384]. Convert image to uint8 prior to saving to suppress this warning.\n",
      " 97%|█████████▋| 1296/1335 [37:05<01:05,  1.69s/it]"
     ]
    },
    {
     "name": "stdout",
     "output_type": "stream",
     "text": [
      "('76545923_L_MLO_1.dcm', 2)\n"
     ]
    },
    {
     "name": "stderr",
     "output_type": "stream",
     "text": [
      "WARNING:Lossy conversion from int64 to uint8. Range [15209, 16384]. Convert image to uint8 prior to saving to suppress this warning.\n"
     ]
    },
    {
     "name": "stdout",
     "output_type": "stream",
     "text": [
      "('3819798_R_MLO_1.dcm', 2)\n"
     ]
    },
    {
     "name": "stderr",
     "output_type": "stream",
     "text": [
      " 97%|█████████▋| 1297/1335 [37:07<01:11,  1.88s/it]WARNING:Lossy conversion from int64 to uint8. Range [15380, 16384]. Convert image to uint8 prior to saving to suppress this warning.\n"
     ]
    },
    {
     "name": "stdout",
     "output_type": "stream",
     "text": [
      "('76372826_R_CC_1.dcm', 2)\n"
     ]
    },
    {
     "name": "stderr",
     "output_type": "stream",
     "text": [
      " 97%|█████████▋| 1298/1335 [37:10<01:14,  2.02s/it]WARNING:Lossy conversion from int64 to uint8. Range [15196, 16384]. Convert image to uint8 prior to saving to suppress this warning.\n",
      " 97%|█████████▋| 1300/1335 [37:11<00:56,  1.62s/it]"
     ]
    },
    {
     "name": "stdout",
     "output_type": "stream",
     "text": [
      "('76454721_R_MLO_1.dcm', 2)\n"
     ]
    },
    {
     "name": "stderr",
     "output_type": "stream",
     "text": [
      "WARNING:Lossy conversion from int64 to uint8. Range [15317, 16384]. Convert image to uint8 prior to saving to suppress this warning.\n"
     ]
    },
    {
     "name": "stdout",
     "output_type": "stream",
     "text": [
      "('4337163_R_CC_1.dcm', 2)\n"
     ]
    },
    {
     "name": "stderr",
     "output_type": "stream",
     "text": [
      " 97%|█████████▋| 1301/1335 [37:13<01:01,  1.82s/it]WARNING:Lossy conversion from int64 to uint8. Range [15274, 16384]. Convert image to uint8 prior to saving to suppress this warning.\n"
     ]
    },
    {
     "name": "stdout",
     "output_type": "stream",
     "text": [
      "('75974175_R_CC_1.dcm', 2)\n"
     ]
    },
    {
     "name": "stderr",
     "output_type": "stream",
     "text": [
      " 98%|█████████▊| 1305/1335 [37:16<00:43,  1.45s/it]WARNING:Lossy conversion from int64 to uint8. Range [15250, 16384]. Convert image to uint8 prior to saving to suppress this warning.\n",
      " 98%|█████████▊| 1307/1335 [37:17<00:34,  1.22s/it]"
     ]
    },
    {
     "name": "stdout",
     "output_type": "stream",
     "text": [
      "('76393393_R_MLO_1.dcm', 3)\n"
     ]
    },
    {
     "name": "stderr",
     "output_type": "stream",
     "text": [
      "WARNING:Lossy conversion from int64 to uint8. Range [15277, 16384]. Convert image to uint8 prior to saving to suppress this warning.\n",
      " 98%|█████████▊| 1308/1335 [37:19<00:34,  1.28s/it]"
     ]
    },
    {
     "name": "stdout",
     "output_type": "stream",
     "text": [
      "('5185935_L_MLO_1.dcm', 2)\n"
     ]
    },
    {
     "name": "stderr",
     "output_type": "stream",
     "text": [
      "WARNING:Lossy conversion from int64 to uint8. Range [15295, 16384]. Convert image to uint8 prior to saving to suppress this warning.\n"
     ]
    },
    {
     "name": "stdout",
     "output_type": "stream",
     "text": [
      "('5282018_R_CC_1.dcm', 2)\n"
     ]
    },
    {
     "name": "stderr",
     "output_type": "stream",
     "text": [
      " 98%|█████████▊| 1310/1335 [37:21<00:30,  1.24s/it]WARNING:Lossy conversion from int64 to uint8. Range [15285, 16384]. Convert image to uint8 prior to saving to suppress this warning.\n",
      " 98%|█████████▊| 1311/1335 [37:22<00:30,  1.28s/it]"
     ]
    },
    {
     "name": "stdout",
     "output_type": "stream",
     "text": [
      "('76482137_R_CC_1.dcm', 3)\n"
     ]
    },
    {
     "name": "stderr",
     "output_type": "stream",
     "text": [
      "WARNING:Lossy conversion from int64 to uint8. Range [15368, 16384]. Convert image to uint8 prior to saving to suppress this warning.\n"
     ]
    },
    {
     "name": "stdout",
     "output_type": "stream",
     "text": [
      "('5294007_R_MLO_1.dcm', 2)\n"
     ]
    },
    {
     "name": "stderr",
     "output_type": "stream",
     "text": [
      " 98%|█████████▊| 1312/1335 [37:24<00:35,  1.56s/it]WARNING:Lossy conversion from int64 to uint8. Range [15316, 16384]. Convert image to uint8 prior to saving to suppress this warning.\n"
     ]
    },
    {
     "name": "stdout",
     "output_type": "stream",
     "text": [
      "('76033649_R_MLO_1.dcm', 2)\n"
     ]
    },
    {
     "name": "stderr",
     "output_type": "stream",
     "text": [
      " 98%|█████████▊| 1313/1335 [37:27<00:37,  1.73s/it]WARNING:Lossy conversion from int64 to uint8. Range [15425, 16384]. Convert image to uint8 prior to saving to suppress this warning.\n"
     ]
    },
    {
     "name": "stdout",
     "output_type": "stream",
     "text": [
      "('5266778_R_CC_1.dcm', 2)\n"
     ]
    },
    {
     "name": "stderr",
     "output_type": "stream",
     "text": [
      " 99%|█████████▊| 1315/1335 [37:29<00:30,  1.53s/it]WARNING:Lossy conversion from int64 to uint8. Range [15353, 16384]. Convert image to uint8 prior to saving to suppress this warning.\n"
     ]
    },
    {
     "name": "stdout",
     "output_type": "stream",
     "text": [
      "('76126435_L_CC_1.dcm', 2)\n"
     ]
    },
    {
     "name": "stderr",
     "output_type": "stream",
     "text": [
      " 99%|█████████▊| 1316/1335 [37:31<00:32,  1.71s/it]WARNING:Lossy conversion from int64 to uint8. Range [15260, 16384]. Convert image to uint8 prior to saving to suppress this warning.\n"
     ]
    },
    {
     "name": "stdout",
     "output_type": "stream",
     "text": [
      "('76560269_R_CC_1.dcm', 1)\n"
     ]
    },
    {
     "name": "stderr",
     "output_type": "stream",
     "text": [
      " 99%|█████████▊| 1317/1335 [37:33<00:33,  1.86s/it]WARNING:Lossy conversion from int64 to uint8. Range [15327, 16384]. Convert image to uint8 prior to saving to suppress this warning.\n"
     ]
    },
    {
     "name": "stdout",
     "output_type": "stream",
     "text": [
      "('3623181_L_MLO_1.dcm', 2)\n"
     ]
    },
    {
     "name": "stderr",
     "output_type": "stream",
     "text": [
      " 99%|█████████▊| 1318/1335 [37:35<00:33,  1.95s/it]WARNING:Lossy conversion from int64 to uint8. Range [15434, 16384]. Convert image to uint8 prior to saving to suppress this warning.\n"
     ]
    },
    {
     "name": "stdout",
     "output_type": "stream",
     "text": [
      "('4233357_R_CC_1.dcm', 1)\n"
     ]
    },
    {
     "name": "stderr",
     "output_type": "stream",
     "text": [
      " 99%|█████████▉| 1319/1335 [37:37<00:32,  2.01s/it]WARNING:Lossy conversion from int64 to uint8. Range [15224, 16384]. Convert image to uint8 prior to saving to suppress this warning.\n",
      " 99%|█████████▉| 1320/1335 [37:39<00:27,  1.84s/it]"
     ]
    },
    {
     "name": "stdout",
     "output_type": "stream",
     "text": [
      "('76545923_R_MLO_1.dcm', 2)\n"
     ]
    },
    {
     "name": "stderr",
     "output_type": "stream",
     "text": [
      "WARNING:Lossy conversion from int64 to uint8. Range [15385, 16384]. Convert image to uint8 prior to saving to suppress this warning.\n"
     ]
    },
    {
     "name": "stdout",
     "output_type": "stream",
     "text": [
      "('76299642_L_MLO_1.dcm', 2)\n"
     ]
    },
    {
     "name": "stderr",
     "output_type": "stream",
     "text": [
      " 99%|█████████▉| 1321/1335 [37:41<00:27,  1.93s/it]WARNING:Lossy conversion from int64 to uint8. Range [15000, 16384]. Convert image to uint8 prior to saving to suppress this warning.\n"
     ]
    },
    {
     "name": "stdout",
     "output_type": "stream",
     "text": [
      "('5231733_R_MLO_1.dcm', 3)\n"
     ]
    },
    {
     "name": "stderr",
     "output_type": "stream",
     "text": [
      " 99%|█████████▉| 1322/1335 [37:43<00:26,  2.03s/it]WARNING:Lossy conversion from int64 to uint8. Range [15378, 16384]. Convert image to uint8 prior to saving to suppress this warning.\n"
     ]
    },
    {
     "name": "stdout",
     "output_type": "stream",
     "text": [
      "('4456855_R_CC_1.dcm', 1)\n"
     ]
    },
    {
     "name": "stderr",
     "output_type": "stream",
     "text": [
      " 99%|█████████▉| 1323/1335 [37:45<00:25,  2.10s/it]WARNING:Lossy conversion from int64 to uint8. Range [15323, 16384]. Convert image to uint8 prior to saving to suppress this warning.\n"
     ]
    },
    {
     "name": "stdout",
     "output_type": "stream",
     "text": [
      "('4318343_R_MLO_1.dcm', 1)\n"
     ]
    },
    {
     "name": "stderr",
     "output_type": "stream",
     "text": [
      " 99%|█████████▉| 1324/1335 [37:48<00:23,  2.13s/it]WARNING:Lossy conversion from int64 to uint8. Range [15419, 16384]. Convert image to uint8 prior to saving to suppress this warning.\n",
      " 99%|█████████▉| 1325/1335 [37:49<00:18,  1.90s/it]"
     ]
    },
    {
     "name": "stdout",
     "output_type": "stream",
     "text": [
      "('75076389_R_MLO_1.dcm', 3)\n"
     ]
    },
    {
     "name": "stderr",
     "output_type": "stream",
     "text": [
      "WARNING:Lossy conversion from int64 to uint8. Range [15336, 16384]. Convert image to uint8 prior to saving to suppress this warning.\n",
      " 99%|█████████▉| 1327/1335 [37:50<00:12,  1.53s/it]"
     ]
    },
    {
     "name": "stdout",
     "output_type": "stream",
     "text": [
      "('76545923_R_CC_1.dcm', 2)\n"
     ]
    },
    {
     "name": "stderr",
     "output_type": "stream",
     "text": [
      "WARNING:Lossy conversion from int64 to uint8. Range [15000, 16384]. Convert image to uint8 prior to saving to suppress this warning.\n"
     ]
    },
    {
     "name": "stdout",
     "output_type": "stream",
     "text": [
      "('76251821_R_MLO_1.dcm', 3)\n"
     ]
    },
    {
     "name": "stderr",
     "output_type": "stream",
     "text": [
      " 99%|█████████▉| 1328/1335 [37:53<00:12,  1.74s/it]WARNING:Lossy conversion from int64 to uint8. Range [15280, 16384]. Convert image to uint8 prior to saving to suppress this warning.\n",
      "100%|█████████▉| 1329/1335 [37:54<00:09,  1.63s/it]"
     ]
    },
    {
     "name": "stdout",
     "output_type": "stream",
     "text": [
      "('4292093_R_MLO_1.dcm', 2)\n"
     ]
    },
    {
     "name": "stderr",
     "output_type": "stream",
     "text": [
      "WARNING:Lossy conversion from int64 to uint8. Range [15434, 16384]. Convert image to uint8 prior to saving to suppress this warning.\n"
     ]
    },
    {
     "name": "stdout",
     "output_type": "stream",
     "text": [
      "('76062746_L_CC_1.dcm', 1)\n"
     ]
    },
    {
     "name": "stderr",
     "output_type": "stream",
     "text": [
      "100%|█████████▉| 1330/1335 [37:56<00:08,  1.80s/it]WARNING:Lossy conversion from int64 to uint8. Range [15337, 16384]. Convert image to uint8 prior to saving to suppress this warning.\n"
     ]
    },
    {
     "name": "stdout",
     "output_type": "stream",
     "text": [
      "('5185724_L_MLO_1.dcm', 3)\n"
     ]
    },
    {
     "name": "stderr",
     "output_type": "stream",
     "text": [
      "100%|█████████▉| 1331/1335 [37:58<00:07,  1.91s/it]WARNING:Lossy conversion from int64 to uint8. Range [15315, 16384]. Convert image to uint8 prior to saving to suppress this warning.\n"
     ]
    },
    {
     "name": "stdout",
     "output_type": "stream",
     "text": [
      "('76012842_L_CC_1.dcm', 2)\n"
     ]
    },
    {
     "name": "stderr",
     "output_type": "stream",
     "text": [
      "100%|█████████▉| 1332/1335 [38:01<00:06,  2.01s/it]WARNING:Lossy conversion from int64 to uint8. Range [15377, 16384]. Convert image to uint8 prior to saving to suppress this warning.\n",
      "100%|█████████▉| 1333/1335 [38:02<00:03,  1.83s/it]"
     ]
    },
    {
     "name": "stdout",
     "output_type": "stream",
     "text": [
      "('76328184_L_CC_1.dcm', 3)\n"
     ]
    },
    {
     "name": "stderr",
     "output_type": "stream",
     "text": [
      "WARNING:Lossy conversion from int64 to uint8. Range [15398, 16384]. Convert image to uint8 prior to saving to suppress this warning.\n"
     ]
    },
    {
     "name": "stdout",
     "output_type": "stream",
     "text": [
      "('75970217_L_CC_1.dcm', 2)\n"
     ]
    },
    {
     "name": "stderr",
     "output_type": "stream",
     "text": [
      "100%|█████████▉| 1334/1335 [38:04<00:01,  1.92s/it]WARNING:Lossy conversion from int64 to uint8. Range [15199, 16384]. Convert image to uint8 prior to saving to suppress this warning.\n"
     ]
    },
    {
     "name": "stdout",
     "output_type": "stream",
     "text": [
      "('5292180_L_MLO_1.dcm', 3)\n"
     ]
    },
    {
     "name": "stderr",
     "output_type": "stream",
     "text": [
      "100%|██████████| 1335/1335 [38:06<00:00,  2.00s/it]\n"
     ]
    }
   ],
   "source": [
    "fileList = os.listdir(baseFolder)\n",
    "\n",
    "for i in tqdm(range(len(fileList))):\n",
    "    \n",
    "    fileName= fileList[i]\n",
    "    \n",
    "    if '.dcm' in fileName:\n",
    "        \n",
    "        if 'R_MLO_1' in fileName or 'L_MLO_1' in fileName or 'R_CC_1' in fileName or 'L_CC_1' in fileName:\n",
    "            \n",
    "            img = pydicom.read_file(os.path.join(baseFolder, fileName)).pixel_array\n",
    "            img = preprocess(img)\n",
    "            \n",
    "            \n",
    "            outFileName = fileName.split(\".\")[0]+'.jpg'\n",
    "            patientName = fileName.split(\"_\")[0]\n",
    "            \n",
    "            \n",
    "            label = truth.loc[truth.DummyID == int(patientName)]['Density_Overall'].values[0]\n",
    "            \n",
    "            print(fileName,label)\n",
    "            \n",
    "            imwrite(os.path.join(outputFolder, str(label),outFileName), img)\n",
    "        \n",
    "    \n",
    "    \n",
    "    "
   ]
  },
  {
   "cell_type": "code",
   "execution_count": null,
   "metadata": {},
   "outputs": [],
   "source": []
  },
  {
   "cell_type": "code",
   "execution_count": 6,
   "metadata": {},
   "outputs": [
    {
     "data": {
      "text/plain": [
       "African American         10369\n",
       "White                     2416\n",
       "Other                      214\n",
       "Asian                      205\n",
       "Unknown                     67\n",
       "Hispanic Latino/White       51\n",
       "Hispanic Latino/Black       22\n",
       "East Indian                 16\n",
       "Pacific Island               6\n",
       "American Indian              5\n",
       "Name: Medview_Race, dtype: int64"
      ]
     },
     "execution_count": 6,
     "metadata": {},
     "output_type": "execute_result"
    }
   ],
   "source": [
    "truth.Medview_Race.value_counts()"
   ]
  },
  {
   "cell_type": "markdown",
   "metadata": {},
   "source": [
    "### File Copy Code"
   ]
  },
  {
   "cell_type": "code",
   "execution_count": 6,
   "metadata": {},
   "outputs": [],
   "source": [
    "f = open('./folderList.txt')"
   ]
  },
  {
   "cell_type": "code",
   "execution_count": 7,
   "metadata": {},
   "outputs": [],
   "source": [
    "e2=f.readlines()"
   ]
  },
  {
   "cell_type": "code",
   "execution_count": 8,
   "metadata": {},
   "outputs": [],
   "source": [
    "e2 = [x[:-1] for x in e2]"
   ]
  },
  {
   "cell_type": "code",
   "execution_count": 8,
   "metadata": {},
   "outputs": [
    {
     "data": {
      "text/plain": [
       "'75530801'"
      ]
     },
     "execution_count": 8,
     "metadata": {},
     "output_type": "execute_result"
    }
   ],
   "source": [
    "e2[1]"
   ]
  },
  {
   "cell_type": "code",
   "execution_count": 10,
   "metadata": {},
   "outputs": [
    {
     "data": {
      "text/plain": [
       "'African American'"
      ]
     },
     "execution_count": 10,
     "metadata": {},
     "output_type": "execute_result"
    }
   ],
   "source": [
    "truth.loc[truth.DummyID == int(e2[5])]['Medview_Race'].values[0] == 'White'"
   ]
  },
  {
   "cell_type": "code",
   "execution_count": null,
   "metadata": {},
   "outputs": [],
   "source": []
  },
  {
   "cell_type": "code",
   "execution_count": 10,
   "metadata": {},
   "outputs": [
    {
     "name": "stdout",
     "output_type": "stream",
     "text": [
      "get /gpfs/cbica/projects/Mayo-Radiomics/Data/Penn/sorted_2/76505255/*\n",
      "get /gpfs/cbica/projects/Mayo-Radiomics/Data/Penn/sorted_2/75112636/*\n",
      "get /gpfs/cbica/projects/Mayo-Radiomics/Data/Penn/sorted_2/76499098/*\n",
      "get /gpfs/cbica/projects/Mayo-Radiomics/Data/Penn/sorted_2/76485118/*\n",
      "get /gpfs/cbica/projects/Mayo-Radiomics/Data/Penn/sorted_2/76473955/*\n",
      "get /gpfs/cbica/projects/Mayo-Radiomics/Data/Penn/sorted_2/4016308/*\n",
      "get /gpfs/cbica/projects/Mayo-Radiomics/Data/Penn/sorted_2/4012670/*\n",
      "get /gpfs/cbica/projects/Mayo-Radiomics/Data/Penn/sorted_2/76387188/*\n",
      "get /gpfs/cbica/projects/Mayo-Radiomics/Data/Penn/sorted_2/76354199/*\n",
      "get /gpfs/cbica/projects/Mayo-Radiomics/Data/Penn/sorted_2/76246891/*\n",
      "get /gpfs/cbica/projects/Mayo-Radiomics/Data/Penn/sorted_2/4503109/*\n",
      "get /gpfs/cbica/projects/Mayo-Radiomics/Data/Penn/sorted_2/76213952/*\n",
      "get /gpfs/cbica/projects/Mayo-Radiomics/Data/Penn/sorted_2/76201449/*\n",
      "get /gpfs/cbica/projects/Mayo-Radiomics/Data/Penn/sorted_2/76175214/*\n",
      "get /gpfs/cbica/projects/Mayo-Radiomics/Data/Penn/sorted_2/76120195/*\n",
      "get /gpfs/cbica/projects/Mayo-Radiomics/Data/Penn/sorted_2/76120961/*\n",
      "get /gpfs/cbica/projects/Mayo-Radiomics/Data/Penn/sorted_2/76098284/*\n",
      "get /gpfs/cbica/projects/Mayo-Radiomics/Data/Penn/sorted_2/4385102/*\n",
      "get /gpfs/cbica/projects/Mayo-Radiomics/Data/Penn/sorted_2/5276006/*\n",
      "get /gpfs/cbica/projects/Mayo-Radiomics/Data/Penn/sorted_2/5265645/*\n",
      "get /gpfs/cbica/projects/Mayo-Radiomics/Data/Penn/sorted_2/76064272/*\n",
      "get /gpfs/cbica/projects/Mayo-Radiomics/Data/Penn/sorted_2/76051171/*\n",
      "get /gpfs/cbica/projects/Mayo-Radiomics/Data/Penn/sorted_2/76008190/*\n",
      "get /gpfs/cbica/projects/Mayo-Radiomics/Data/Penn/sorted_2/76013329/*\n",
      "get /gpfs/cbica/projects/Mayo-Radiomics/Data/Penn/sorted_2/76027900/*\n",
      "get /gpfs/cbica/projects/Mayo-Radiomics/Data/Penn/sorted_2/5209629/*\n",
      "get /gpfs/cbica/projects/Mayo-Radiomics/Data/Penn/sorted_2/75974381/*\n",
      "get /gpfs/cbica/projects/Mayo-Radiomics/Data/Penn/sorted_2/75966960/*\n",
      "get /gpfs/cbica/projects/Mayo-Radiomics/Data/Penn/sorted_2/3600225/*\n",
      "get /gpfs/cbica/projects/Mayo-Radiomics/Data/Penn/sorted_2/75947658/*\n",
      "get /gpfs/cbica/projects/Mayo-Radiomics/Data/Penn/sorted_2/75936937/*\n",
      "get /gpfs/cbica/projects/Mayo-Radiomics/Data/Penn/sorted_2/75918005/*\n",
      "get /gpfs/cbica/projects/Mayo-Radiomics/Data/Penn/sorted_2/4308147/*\n",
      "get /gpfs/cbica/projects/Mayo-Radiomics/Data/Penn/sorted_2/75882496/*\n",
      "get /gpfs/cbica/projects/Mayo-Radiomics/Data/Penn/sorted_2/75890031/*\n",
      "get /gpfs/cbica/projects/Mayo-Radiomics/Data/Penn/sorted_2/75856922/*\n",
      "get /gpfs/cbica/projects/Mayo-Radiomics/Data/Penn/sorted_2/75870268/*\n",
      "get /gpfs/cbica/projects/Mayo-Radiomics/Data/Penn/sorted_2/75826343/*\n",
      "get /gpfs/cbica/projects/Mayo-Radiomics/Data/Penn/sorted_2/4275356/*\n",
      "get /gpfs/cbica/projects/Mayo-Radiomics/Data/Penn/sorted_2/5152513/*\n",
      "get /gpfs/cbica/projects/Mayo-Radiomics/Data/Penn/sorted_2/75806190/*\n",
      "get /gpfs/cbica/projects/Mayo-Radiomics/Data/Penn/sorted_2/5147418/*\n",
      "get /gpfs/cbica/projects/Mayo-Radiomics/Data/Penn/sorted_2/4264947/*\n",
      "get /gpfs/cbica/projects/Mayo-Radiomics/Data/Penn/sorted_2/75789280/*\n",
      "get /gpfs/cbica/projects/Mayo-Radiomics/Data/Penn/sorted_2/4254982/*\n",
      "get /gpfs/cbica/projects/Mayo-Radiomics/Data/Penn/sorted_2/75742974/*\n",
      "get /gpfs/cbica/projects/Mayo-Radiomics/Data/Penn/sorted_2/75750891/*\n",
      "get /gpfs/cbica/projects/Mayo-Radiomics/Data/Penn/sorted_2/5129795/*\n",
      "get /gpfs/cbica/projects/Mayo-Radiomics/Data/Penn/sorted_2/5120211/*\n",
      "get /gpfs/cbica/projects/Mayo-Radiomics/Data/Penn/sorted_2/75723956/*\n",
      "get /gpfs/cbica/projects/Mayo-Radiomics/Data/Penn/sorted_2/5115418/*\n",
      "get /gpfs/cbica/projects/Mayo-Radiomics/Data/Penn/sorted_2/75709102/*\n",
      "get /gpfs/cbica/projects/Mayo-Radiomics/Data/Penn/sorted_2/5111767/*\n",
      "get /gpfs/cbica/projects/Mayo-Radiomics/Data/Penn/sorted_2/75684164/*\n",
      "get /gpfs/cbica/projects/Mayo-Radiomics/Data/Penn/sorted_2/75656991/*\n",
      "get /gpfs/cbica/projects/Mayo-Radiomics/Data/Penn/sorted_2/4970319/*\n",
      "get /gpfs/cbica/projects/Mayo-Radiomics/Data/Penn/sorted_2/75591290/*\n",
      "get /gpfs/cbica/projects/Mayo-Radiomics/Data/Penn/sorted_2/75590364/*\n",
      "get /gpfs/cbica/projects/Mayo-Radiomics/Data/Penn/sorted_2/75577074/*\n",
      "get /gpfs/cbica/projects/Mayo-Radiomics/Data/Penn/sorted_2/75581728/*\n",
      "get /gpfs/cbica/projects/Mayo-Radiomics/Data/Penn/sorted_2/4944348/*\n",
      "get /gpfs/cbica/projects/Mayo-Radiomics/Data/Penn/sorted_2/4934245/*\n",
      "get /gpfs/cbica/projects/Mayo-Radiomics/Data/Penn/sorted_2/3733303/*\n",
      "get /gpfs/cbica/projects/Mayo-Radiomics/Data/Penn/sorted_2/4897780/*\n",
      "get /gpfs/cbica/projects/Mayo-Radiomics/Data/Penn/sorted_2/75356723/*\n",
      "get /gpfs/cbica/projects/Mayo-Radiomics/Data/Penn/sorted_2/4801216/*\n",
      "get /gpfs/cbica/projects/Mayo-Radiomics/Data/Penn/sorted_2/3028168/*\n",
      "get /gpfs/cbica/projects/Mayo-Radiomics/Data/Penn/sorted_2/4097823/*\n",
      "get /gpfs/cbica/projects/Mayo-Radiomics/Data/Penn/sorted_2/75230799/*\n",
      "get /gpfs/cbica/projects/Mayo-Radiomics/Data/Penn/sorted_2/4075189/*\n",
      "get /gpfs/cbica/projects/Mayo-Radiomics/Data/Penn/sorted_2/4745709/*\n",
      "get /gpfs/cbica/projects/Mayo-Radiomics/Data/Penn/sorted_2/75194888/*\n",
      "get /gpfs/cbica/projects/Mayo-Radiomics/Data/Penn/sorted_2/3071949/*\n",
      "get /gpfs/cbica/projects/Mayo-Radiomics/Data/Penn/sorted_2/75177938/*\n",
      "get /gpfs/cbica/projects/Mayo-Radiomics/Data/Penn/sorted_2/3079877/*\n",
      "get /gpfs/cbica/projects/Mayo-Radiomics/Data/Penn/sorted_2/4721887/*\n",
      "get /gpfs/cbica/projects/Mayo-Radiomics/Data/Penn/sorted_2/76940192/*\n",
      "get /gpfs/cbica/projects/Mayo-Radiomics/Data/Penn/sorted_2/76879596/*\n",
      "get /gpfs/cbica/projects/Mayo-Radiomics/Data/Penn/sorted_2/75149720/*\n",
      "get /gpfs/cbica/projects/Mayo-Radiomics/Data/Penn/sorted_2/4051733/*\n",
      "get /gpfs/cbica/projects/Mayo-Radiomics/Data/Penn/sorted_2/76847929/*\n",
      "get /gpfs/cbica/projects/Mayo-Radiomics/Data/Penn/sorted_2/4050048/*\n",
      "get /gpfs/cbica/projects/Mayo-Radiomics/Data/Penn/sorted_2/3125770/*\n",
      "get /gpfs/cbica/projects/Mayo-Radiomics/Data/Penn/sorted_2/4689423/*\n",
      "get /gpfs/cbica/projects/Mayo-Radiomics/Data/Penn/sorted_2/76663514/*\n",
      "get /gpfs/cbica/projects/Mayo-Radiomics/Data/Penn/sorted_2/76644328/*\n",
      "get /gpfs/cbica/projects/Mayo-Radiomics/Data/Penn/sorted_2/76605913/*\n",
      "get /gpfs/cbica/projects/Mayo-Radiomics/Data/Penn/sorted_2/3418554/*\n",
      "get /gpfs/cbica/projects/Mayo-Radiomics/Data/Penn/sorted_2/76577777/*\n",
      "get /gpfs/cbica/projects/Mayo-Radiomics/Data/Penn/sorted_2/4034285/*\n",
      "get /gpfs/cbica/projects/Mayo-Radiomics/Data/Penn/sorted_2/76525983/*\n",
      "get /gpfs/cbica/projects/Mayo-Radiomics/Data/Penn/sorted_2/75059671/*\n",
      "get /gpfs/cbica/projects/Mayo-Radiomics/Data/Penn/sorted_2/76486058/*\n",
      "get /gpfs/cbica/projects/Mayo-Radiomics/Data/Penn/sorted_2/76464786/*\n",
      "get /gpfs/cbica/projects/Mayo-Radiomics/Data/Penn/sorted_2/76455970/*\n",
      "get /gpfs/cbica/projects/Mayo-Radiomics/Data/Penn/sorted_2/76454027/*\n",
      "get /gpfs/cbica/projects/Mayo-Radiomics/Data/Penn/sorted_2/76419098/*\n",
      "get /gpfs/cbica/projects/Mayo-Radiomics/Data/Penn/sorted_2/76396671/*\n",
      "get /gpfs/cbica/projects/Mayo-Radiomics/Data/Penn/sorted_2/76389796/*\n",
      "get /gpfs/cbica/projects/Mayo-Radiomics/Data/Penn/sorted_2/75003293/*\n",
      "get /gpfs/cbica/projects/Mayo-Radiomics/Data/Penn/sorted_2/5302102/*\n",
      "get /gpfs/cbica/projects/Mayo-Radiomics/Data/Penn/sorted_2/76360614/*\n",
      "get /gpfs/cbica/projects/Mayo-Radiomics/Data/Penn/sorted_2/76328378/*\n",
      "get /gpfs/cbica/projects/Mayo-Radiomics/Data/Penn/sorted_2/76248913/*\n",
      "get /gpfs/cbica/projects/Mayo-Radiomics/Data/Penn/sorted_2/76242848/*\n",
      "get /gpfs/cbica/projects/Mayo-Radiomics/Data/Penn/sorted_2/76231926/*\n",
      "get /gpfs/cbica/projects/Mayo-Radiomics/Data/Penn/sorted_2/76183141/*\n",
      "get /gpfs/cbica/projects/Mayo-Radiomics/Data/Penn/sorted_2/76204134/*\n",
      "get /gpfs/cbica/projects/Mayo-Radiomics/Data/Penn/sorted_2/3972500/*\n",
      "get /gpfs/cbica/projects/Mayo-Radiomics/Data/Penn/sorted_2/5201374/*\n",
      "get /gpfs/cbica/projects/Mayo-Radiomics/Data/Penn/sorted_2/76111321/*\n",
      "get /gpfs/cbica/projects/Mayo-Radiomics/Data/Penn/sorted_2/5172422/*\n",
      "get /gpfs/cbica/projects/Mayo-Radiomics/Data/Penn/sorted_2/5170186/*\n",
      "get /gpfs/cbica/projects/Mayo-Radiomics/Data/Penn/sorted_2/3588031/*\n",
      "get /gpfs/cbica/projects/Mayo-Radiomics/Data/Penn/sorted_2/76018966/*\n",
      "get /gpfs/cbica/projects/Mayo-Radiomics/Data/Penn/sorted_2/76020211/*\n",
      "get /gpfs/cbica/projects/Mayo-Radiomics/Data/Penn/sorted_2/4364339/*\n",
      "get /gpfs/cbica/projects/Mayo-Radiomics/Data/Penn/sorted_2/5142495/*\n",
      "get /gpfs/cbica/projects/Mayo-Radiomics/Data/Penn/sorted_2/5139355/*\n",
      "get /gpfs/cbica/projects/Mayo-Radiomics/Data/Penn/sorted_2/3865298/*\n",
      "get /gpfs/cbica/projects/Mayo-Radiomics/Data/Penn/sorted_2/5124442/*\n",
      "get /gpfs/cbica/projects/Mayo-Radiomics/Data/Penn/sorted_2/3855510/*\n",
      "get /gpfs/cbica/projects/Mayo-Radiomics/Data/Penn/sorted_2/75943213/*\n",
      "get /gpfs/cbica/projects/Mayo-Radiomics/Data/Penn/sorted_2/5110116/*\n",
      "get /gpfs/cbica/projects/Mayo-Radiomics/Data/Penn/sorted_2/5105733/*\n",
      "get /gpfs/cbica/projects/Mayo-Radiomics/Data/Penn/sorted_2/75925610/*\n",
      "get /gpfs/cbica/projects/Mayo-Radiomics/Data/Penn/sorted_2/75914199/*\n",
      "get /gpfs/cbica/projects/Mayo-Radiomics/Data/Penn/sorted_2/3828397/*\n",
      "get /gpfs/cbica/projects/Mayo-Radiomics/Data/Penn/sorted_2/5102389/*\n",
      "get /gpfs/cbica/projects/Mayo-Radiomics/Data/Penn/sorted_2/75886205/*\n"
     ]
    },
    {
     "name": "stdout",
     "output_type": "stream",
     "text": [
      "get /gpfs/cbica/projects/Mayo-Radiomics/Data/Penn/sorted_2/3828031/*\n",
      "get /gpfs/cbica/projects/Mayo-Radiomics/Data/Penn/sorted_2/75844330/*\n",
      "get /gpfs/cbica/projects/Mayo-Radiomics/Data/Penn/sorted_2/4293894/*\n",
      "get /gpfs/cbica/projects/Mayo-Radiomics/Data/Penn/sorted_2/75839668/*\n",
      "get /gpfs/cbica/projects/Mayo-Radiomics/Data/Penn/sorted_2/75830335/*\n",
      "get /gpfs/cbica/projects/Mayo-Radiomics/Data/Penn/sorted_2/4959526/*\n",
      "get /gpfs/cbica/projects/Mayo-Radiomics/Data/Penn/sorted_2/75743398/*\n",
      "get /gpfs/cbica/projects/Mayo-Radiomics/Data/Penn/sorted_2/75700260/*\n",
      "get /gpfs/cbica/projects/Mayo-Radiomics/Data/Penn/sorted_2/4928378/*\n",
      "get /gpfs/cbica/projects/Mayo-Radiomics/Data/Penn/sorted_2/3673890/*\n",
      "get /gpfs/cbica/projects/Mayo-Radiomics/Data/Penn/sorted_2/4918350/*\n",
      "get /gpfs/cbica/projects/Mayo-Radiomics/Data/Penn/sorted_2/75634082/*\n",
      "get /gpfs/cbica/projects/Mayo-Radiomics/Data/Penn/sorted_2/3768242/*\n",
      "get /gpfs/cbica/projects/Mayo-Radiomics/Data/Penn/sorted_2/3698498/*\n",
      "get /gpfs/cbica/projects/Mayo-Radiomics/Data/Penn/sorted_2/75516871/*\n",
      "get /gpfs/cbica/projects/Mayo-Radiomics/Data/Penn/sorted_2/3715835/*\n",
      "get /gpfs/cbica/projects/Mayo-Radiomics/Data/Penn/sorted_2/75451921/*\n",
      "get /gpfs/cbica/projects/Mayo-Radiomics/Data/Penn/sorted_2/75411138/*\n",
      "get /gpfs/cbica/projects/Mayo-Radiomics/Data/Penn/sorted_2/75411533/*\n",
      "get /gpfs/cbica/projects/Mayo-Radiomics/Data/Penn/sorted_2/75362977/*\n",
      "get /gpfs/cbica/projects/Mayo-Radiomics/Data/Penn/sorted_2/4786881/*\n",
      "get /gpfs/cbica/projects/Mayo-Radiomics/Data/Penn/sorted_2/75303775/*\n",
      "get /gpfs/cbica/projects/Mayo-Radiomics/Data/Penn/sorted_2/4779084/*\n",
      "get /gpfs/cbica/projects/Mayo-Radiomics/Data/Penn/sorted_2/75261436/*\n",
      "get /gpfs/cbica/projects/Mayo-Radiomics/Data/Penn/sorted_2/4084996/*\n",
      "get /gpfs/cbica/projects/Mayo-Radiomics/Data/Penn/sorted_2/3052424/*\n",
      "get /gpfs/cbica/projects/Mayo-Radiomics/Data/Penn/sorted_2/76921361/*\n",
      "get /gpfs/cbica/projects/Mayo-Radiomics/Data/Penn/sorted_2/4076035/*\n",
      "get /gpfs/cbica/projects/Mayo-Radiomics/Data/Penn/sorted_2/76897250/*\n",
      "get /gpfs/cbica/projects/Mayo-Radiomics/Data/Penn/sorted_2/76888794/*\n",
      "get /gpfs/cbica/projects/Mayo-Radiomics/Data/Penn/sorted_2/75199373/*\n",
      "get /gpfs/cbica/projects/Mayo-Radiomics/Data/Penn/sorted_2/76849153/*\n",
      "get /gpfs/cbica/projects/Mayo-Radiomics/Data/Penn/sorted_2/76856163/*\n",
      "get /gpfs/cbica/projects/Mayo-Radiomics/Data/Penn/sorted_2/3071795/*\n",
      "get /gpfs/cbica/projects/Mayo-Radiomics/Data/Penn/sorted_2/76837637/*\n",
      "get /gpfs/cbica/projects/Mayo-Radiomics/Data/Penn/sorted_2/76815969/*\n",
      "get /gpfs/cbica/projects/Mayo-Radiomics/Data/Penn/sorted_2/75172141/*\n",
      "get /gpfs/cbica/projects/Mayo-Radiomics/Data/Penn/sorted_2/76801599/*\n",
      "get /gpfs/cbica/projects/Mayo-Radiomics/Data/Penn/sorted_2/76806987/*\n",
      "get /gpfs/cbica/projects/Mayo-Radiomics/Data/Penn/sorted_2/3086253/*\n",
      "get /gpfs/cbica/projects/Mayo-Radiomics/Data/Penn/sorted_2/4710997/*\n",
      "get /gpfs/cbica/projects/Mayo-Radiomics/Data/Penn/sorted_2/76773780/*\n",
      "get /gpfs/cbica/projects/Mayo-Radiomics/Data/Penn/sorted_2/76732601/*\n",
      "get /gpfs/cbica/projects/Mayo-Radiomics/Data/Penn/sorted_2/4049118/*\n",
      "get /gpfs/cbica/projects/Mayo-Radiomics/Data/Penn/sorted_2/76696461/*\n",
      "get /gpfs/cbica/projects/Mayo-Radiomics/Data/Penn/sorted_2/76644929/*\n",
      "get /gpfs/cbica/projects/Mayo-Radiomics/Data/Penn/sorted_2/75112130/*\n",
      "get /gpfs/cbica/projects/Mayo-Radiomics/Data/Penn/sorted_2/4686815/*\n",
      "get /gpfs/cbica/projects/Mayo-Radiomics/Data/Penn/sorted_2/75112125/*\n",
      "get /gpfs/cbica/projects/Mayo-Radiomics/Data/Penn/sorted_2/3352645/*\n",
      "get /gpfs/cbica/projects/Mayo-Radiomics/Data/Penn/sorted_2/4673372/*\n",
      "get /gpfs/cbica/projects/Mayo-Radiomics/Data/Penn/sorted_2/4657978/*\n",
      "get /gpfs/cbica/projects/Mayo-Radiomics/Data/Penn/sorted_2/76484717/*\n",
      "get /gpfs/cbica/projects/Mayo-Radiomics/Data/Penn/sorted_2/4027397/*\n",
      "get /gpfs/cbica/projects/Mayo-Radiomics/Data/Penn/sorted_2/76471601/*\n",
      "get /gpfs/cbica/projects/Mayo-Radiomics/Data/Penn/sorted_2/75058455/*\n",
      "get /gpfs/cbica/projects/Mayo-Radiomics/Data/Penn/sorted_2/76404080/*\n",
      "get /gpfs/cbica/projects/Mayo-Radiomics/Data/Penn/sorted_2/76395419/*\n",
      "get /gpfs/cbica/projects/Mayo-Radiomics/Data/Penn/sorted_2/76391598/*\n",
      "get /gpfs/cbica/projects/Mayo-Radiomics/Data/Penn/sorted_2/4628262/*\n",
      "get /gpfs/cbica/projects/Mayo-Radiomics/Data/Penn/sorted_2/4007343/*\n",
      "get /gpfs/cbica/projects/Mayo-Radiomics/Data/Penn/sorted_2/5286177/*\n",
      "get /gpfs/cbica/projects/Mayo-Radiomics/Data/Penn/sorted_2/4543950/*\n",
      "get /gpfs/cbica/projects/Mayo-Radiomics/Data/Penn/sorted_2/76257864/*\n",
      "get /gpfs/cbica/projects/Mayo-Radiomics/Data/Penn/sorted_2/76235996/*\n",
      "get /gpfs/cbica/projects/Mayo-Radiomics/Data/Penn/sorted_2/4463815/*\n",
      "get /gpfs/cbica/projects/Mayo-Radiomics/Data/Penn/sorted_2/5187845/*\n",
      "get /gpfs/cbica/projects/Mayo-Radiomics/Data/Penn/sorted_2/76141106/*\n",
      "get /gpfs/cbica/projects/Mayo-Radiomics/Data/Penn/sorted_2/5176062/*\n",
      "get /gpfs/cbica/projects/Mayo-Radiomics/Data/Penn/sorted_2/4432744/*\n",
      "get /gpfs/cbica/projects/Mayo-Radiomics/Data/Penn/sorted_2/76127696/*\n",
      "get /gpfs/cbica/projects/Mayo-Radiomics/Data/Penn/sorted_2/76088716/*\n",
      "get /gpfs/cbica/projects/Mayo-Radiomics/Data/Penn/sorted_2/76076425/*\n",
      "get /gpfs/cbica/projects/Mayo-Radiomics/Data/Penn/sorted_2/76030080/*\n",
      "get /gpfs/cbica/projects/Mayo-Radiomics/Data/Penn/sorted_2/76002717/*\n",
      "get /gpfs/cbica/projects/Mayo-Radiomics/Data/Penn/sorted_2/76013108/*\n",
      "get /gpfs/cbica/projects/Mayo-Radiomics/Data/Penn/sorted_2/5118979/*\n",
      "get /gpfs/cbica/projects/Mayo-Radiomics/Data/Penn/sorted_2/75951324/*\n",
      "get /gpfs/cbica/projects/Mayo-Radiomics/Data/Penn/sorted_2/75927385/*\n",
      "get /gpfs/cbica/projects/Mayo-Radiomics/Data/Penn/sorted_2/5104477/*\n",
      "get /gpfs/cbica/projects/Mayo-Radiomics/Data/Penn/sorted_2/4314908/*\n",
      "get /gpfs/cbica/projects/Mayo-Radiomics/Data/Penn/sorted_2/4301774/*\n",
      "get /gpfs/cbica/projects/Mayo-Radiomics/Data/Penn/sorted_2/3826723/*\n",
      "get /gpfs/cbica/projects/Mayo-Radiomics/Data/Penn/sorted_2/4990579/*\n",
      "get /gpfs/cbica/projects/Mayo-Radiomics/Data/Penn/sorted_2/4283480/*\n",
      "get /gpfs/cbica/projects/Mayo-Radiomics/Data/Penn/sorted_2/75783342/*\n",
      "get /gpfs/cbica/projects/Mayo-Radiomics/Data/Penn/sorted_2/75720261/*\n",
      "get /gpfs/cbica/projects/Mayo-Radiomics/Data/Penn/sorted_2/75717283/*\n",
      "get /gpfs/cbica/projects/Mayo-Radiomics/Data/Penn/sorted_2/75675832/*\n",
      "get /gpfs/cbica/projects/Mayo-Radiomics/Data/Penn/sorted_2/4244921/*\n",
      "get /gpfs/cbica/projects/Mayo-Radiomics/Data/Penn/sorted_2/75644439/*\n",
      "get /gpfs/cbica/projects/Mayo-Radiomics/Data/Penn/sorted_2/75636655/*\n",
      "get /gpfs/cbica/projects/Mayo-Radiomics/Data/Penn/sorted_2/4937228/*\n",
      "get /gpfs/cbica/projects/Mayo-Radiomics/Data/Penn/sorted_2/4930463/*\n"
     ]
    }
   ],
   "source": [
    "for i in range(2800,5000):\n",
    "    \n",
    "    if truth.loc[truth.DummyID == int(e2[i])]['Medview_Race'].values[0] == 'White' and truth.loc[truth.DummyID == int(e2[i])]['Density_Overall'].values[0] in [1,2] :\n",
    "        string = 'get /gpfs/cbica/projects/Mayo-Radiomics/Data/Penn/sorted_2/'+ e2[i] +'/*'\n",
    "        print(string)"
   ]
  },
  {
   "cell_type": "markdown",
   "metadata": {},
   "source": [
    "### Race Distribution"
   ]
  },
  {
   "cell_type": "code",
   "execution_count": 12,
   "metadata": {},
   "outputs": [
    {
     "name": "stdout",
     "output_type": "stream",
     "text": [
      "3\n",
      "{'African American': 612, 'White': 223}\n",
      "4\n",
      "{'African American': 464, 'White': 325}\n",
      "2\n",
      "{'African American': 714, 'White': 147}\n",
      "1\n",
      "{'African American': 790, 'White': 91}\n"
     ]
    }
   ],
   "source": [
    "outputFolder = '/home/santhosr/Documents/Birad/ProcessedData/FullRes_Sampled/'\n",
    "folderList = os.listdir(outputFolder)\n",
    "folderList.remove('models')\n",
    "\n",
    "for i in range(len(folderList)):\n",
    "    \n",
    "    print(folderList[i])\n",
    "    patientList=[]\n",
    "    raceCount={'African American':0,'White':0}\n",
    "    \n",
    "    fileList= os.listdir(os.path.join(outputFolder,folderList[i]))\n",
    "    \n",
    "    for j in range(len(fileList)):\n",
    "        \n",
    "        if len(fileList[j].split(\"_\"))==5:\n",
    "            patient = fileList[j].split(\"_\")[1]\n",
    "        else:\n",
    "            patient = fileList[j].split(\"_\")[0]\n",
    "            \n",
    "        if patient not in patientList:\n",
    "            \n",
    "            try:\n",
    "                race = truth.loc[truth.DummyID == int(patient)]['Medview_Race'].values[0]\n",
    "            except:\n",
    "                print(patient)\n",
    "            \n",
    "            if race in ['African American','White']:\n",
    "                raceCount[race] += 1\n",
    "    \n",
    "    print(raceCount)\n",
    "    "
   ]
  },
  {
   "cell_type": "code",
   "execution_count": 15,
   "metadata": {},
   "outputs": [
    {
     "name": "stdout",
     "output_type": "stream",
     "text": [
      "3\n",
      "{'African American': 299, 'White': 170}\n",
      "4\n",
      "{'African American': 14, 'White': 16}\n",
      "2\n",
      "{'African American': 850, 'White': 430}\n",
      "1\n",
      "{'African American': 265, 'White': 66}\n"
     ]
    }
   ],
   "source": [
    "outputFolder = '/home/santhosr/Documents/Birad/ProcessedData/FullRes/'\n",
    "folderList = os.listdir(outputFolder)\n",
    "# folderList.remove('models')\n",
    "\n",
    "for i in range(len(folderList)):\n",
    "    \n",
    "    print(folderList[i])\n",
    "    patientList=[]\n",
    "    raceCount={'African American':0,'White':0}\n",
    "    \n",
    "    fileList= os.listdir(os.path.join(outputFolder,folderList[i]))\n",
    "    \n",
    "    for j in range(len(fileList)):\n",
    "        \n",
    "        if len(fileList[j].split(\"_\"))==5:\n",
    "            patient = fileList[j].split(\"_\")[1]\n",
    "        else:\n",
    "            patient = fileList[j].split(\"_\")[0]\n",
    "            \n",
    "        if patient not in patientList:\n",
    "            \n",
    "            patientList.append(patient)\n",
    "            \n",
    "            try:\n",
    "                race = truth.loc[truth.DummyID == int(patient)]['Medview_Race'].values[0]\n",
    "            except:\n",
    "                print(patient)\n",
    "            \n",
    "            if race in ['African American','White']:\n",
    "                raceCount[race] += 1\n",
    "    \n",
    "    print(raceCount)\n",
    "    "
   ]
  },
  {
   "cell_type": "code",
   "execution_count": 18,
   "metadata": {},
   "outputs": [
    {
     "name": "stdout",
     "output_type": "stream",
     "text": [
      "3\n",
      "{'African American': 285, 'White': 164}\n",
      "4\n",
      "{'African American': 14, 'White': 16}\n",
      "2\n",
      "{'African American': 496, 'White': 245}\n",
      "1\n",
      "{'African American': 265, 'White': 66}\n"
     ]
    }
   ],
   "source": [
    "outputFolder = '/home/santhosr/Documents/Birad/ProcessedData/FullRes_RaceSampled/'\n",
    "folderList = os.listdir(outputFolder)\n",
    "# folderList.remove('models')\n",
    "\n",
    "for i in range(len(folderList)):\n",
    "    \n",
    "    print(folderList[i])\n",
    "    patientList=[]\n",
    "    raceCount={'African American':0,'White':0}\n",
    "    \n",
    "    fileList= os.listdir(os.path.join(outputFolder,folderList[i]))\n",
    "    \n",
    "    for j in range(len(fileList)):\n",
    "        \n",
    "        if len(fileList[j].split(\"_\"))==5:\n",
    "            patient = fileList[j].split(\"_\")[1]\n",
    "        else:\n",
    "            patient = fileList[j].split(\"_\")[0]\n",
    "            \n",
    "        if patient not in patientList:\n",
    "            \n",
    "            patientList.append(patient)\n",
    "            \n",
    "            try:\n",
    "                race = truth.loc[truth.DummyID == int(patient)]['Medview_Race'].values[0]\n",
    "            except:\n",
    "                print(patient)\n",
    "            \n",
    "            if race in ['African American','White']:\n",
    "                raceCount[race] += 1\n",
    "    \n",
    "    print(raceCount)\n",
    "    "
   ]
  },
  {
   "cell_type": "code",
   "execution_count": 14,
   "metadata": {},
   "outputs": [
    {
     "data": {
      "text/plain": [
       "2716"
      ]
     },
     "execution_count": 14,
     "metadata": {},
     "output_type": "execute_result"
    }
   ],
   "source": [
    "678+62+1712+264"
   ]
  },
  {
   "cell_type": "code",
   "execution_count": null,
   "metadata": {},
   "outputs": [],
   "source": []
  }
 ],
 "metadata": {
  "kernelspec": {
   "display_name": "Python 2",
   "language": "python",
   "name": "rsk"
  },
  "language_info": {
   "codemirror_mode": {
    "name": "ipython",
    "version": 2
   },
   "file_extension": ".py",
   "mimetype": "text/x-python",
   "name": "python",
   "nbconvert_exporter": "python",
   "pygments_lexer": "ipython2",
   "version": "2.7.15"
  }
 },
 "nbformat": 4,
 "nbformat_minor": 2
}
