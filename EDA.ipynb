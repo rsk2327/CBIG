{
 "cells": [
  {
   "cell_type": "code",
   "execution_count": 2,
   "metadata": {},
   "outputs": [],
   "source": [
    "import os\n",
    "import pydicom\n",
    "import pandas as pd\n",
    "import numpy as np\n",
    "from tqdm import tqdm\n",
    "from scipy.misc import imsave\n",
    "from imageio import imwrite\n",
    "from skimage import img_as_ubyte\n",
    "\n",
    "import warnings\n",
    "warnings.simplefilter('ignore')\n",
    "warnings.filterwarnings('ignore')\n",
    "import logging\n",
    "logging.basicConfig(format='%(levelname)s:%(message)s', level=logging.DEBUG)"
   ]
  },
  {
   "cell_type": "code",
   "execution_count": 2,
   "metadata": {},
   "outputs": [],
   "source": [
    "baseFolder = \"/gpfs/cbica/projects/Prospr/Data/BreastAnatomy/dicoms\""
   ]
  },
  {
   "cell_type": "code",
   "execution_count": 3,
   "metadata": {},
   "outputs": [],
   "source": [
    "folderList = os.listdir(baseFolder)\n",
    "\n",
    "f = []\n",
    "for folderName in folderList:\n",
    "    if folderName.isdigit():\n",
    "        f.append(folderName)\n",
    "folderList = f"
   ]
  },
  {
   "cell_type": "code",
   "execution_count": 5,
   "metadata": {},
   "outputs": [],
   "source": [
    "# for i in range(len(folderList)):\n",
    "    \n",
    "#     folderName = folderList[i]\n",
    "    \n",
    "#     fileList = os.listdir(baseFolder + \"/\"+folderName)\n",
    "    \n",
    "#     if len(fileList)!=4:\n",
    "#         print(folderName)\n",
    "        \n",
    "#     if folderName+\"_R_MLO_1.dcm\" not in fileList:\n",
    "#         print(\"{} : R MLO missing\".format(folderName))\n",
    "    \n",
    "#     if folderName+\"_L_MLO_1.dcm\" not in fileList:\n",
    "#         print(\"{} : L MLO missing\".format(folderName))"
   ]
  },
  {
   "cell_type": "code",
   "execution_count": 6,
   "metadata": {},
   "outputs": [
    {
     "ename": "NameError",
     "evalue": "name 'folderList' is not defined",
     "output_type": "error",
     "traceback": [
      "\u001b[0;31m---------------------------------------------------------------------------\u001b[0m",
      "\u001b[0;31mNameError\u001b[0m                                 Traceback (most recent call last)",
      "\u001b[0;32m<ipython-input-6-7d4ff2e6f164>\u001b[0m in \u001b[0;36m<module>\u001b[0;34m()\u001b[0m\n\u001b[1;32m      3\u001b[0m \u001b[0;34m\u001b[0m\u001b[0m\n\u001b[1;32m      4\u001b[0m \u001b[0;32mfor\u001b[0m \u001b[0mx\u001b[0m \u001b[0;32min\u001b[0m \u001b[0mavoidList\u001b[0m\u001b[0;34m:\u001b[0m\u001b[0;34m\u001b[0m\u001b[0m\n\u001b[0;32m----> 5\u001b[0;31m     \u001b[0mfolderList\u001b[0m\u001b[0;34m.\u001b[0m\u001b[0mremove\u001b[0m\u001b[0;34m(\u001b[0m\u001b[0mx\u001b[0m\u001b[0;34m)\u001b[0m\u001b[0;34m\u001b[0m\u001b[0m\n\u001b[0m",
      "\u001b[0;31mNameError\u001b[0m: name 'folderList' is not defined"
     ]
    }
   ],
   "source": [
    "avoidList = [3800640, 4531207, 5248457, 75526133]\n",
    "avoidList = [str(x) for x in avoidList]\n",
    "\n",
    "for x in avoidList:\n",
    "    folderList.remove(x)"
   ]
  },
  {
   "cell_type": "code",
   "execution_count": 7,
   "metadata": {},
   "outputs": [],
   "source": [
    "# !pip install jupyter_contrib_nbextensions"
   ]
  },
  {
   "cell_type": "code",
   "execution_count": 7,
   "metadata": {},
   "outputs": [],
   "source": [
    "truth = pd.read_csv('/gpfs/cbica/home/santhosr/Propsr_ClassLabels.csv')\n",
    "truth = truth.loc[~truth.DummyID.isin(avoidList)]   #Removing the 4 bad cases"
   ]
  },
  {
   "cell_type": "code",
   "execution_count": 8,
   "metadata": {},
   "outputs": [
    {
     "data": {
      "text/html": [
       "<div>\n",
       "<style scoped>\n",
       "    .dataframe tbody tr th:only-of-type {\n",
       "        vertical-align: middle;\n",
       "    }\n",
       "\n",
       "    .dataframe tbody tr th {\n",
       "        vertical-align: top;\n",
       "    }\n",
       "\n",
       "    .dataframe thead th {\n",
       "        text-align: right;\n",
       "    }\n",
       "</style>\n",
       "<table border=\"1\" class=\"dataframe\">\n",
       "  <thead>\n",
       "    <tr style=\"text-align: right;\">\n",
       "      <th></th>\n",
       "      <th>DummyID</th>\n",
       "      <th>Class</th>\n",
       "      <th>MatchedGroup</th>\n",
       "    </tr>\n",
       "  </thead>\n",
       "  <tbody>\n",
       "    <tr>\n",
       "      <th>105</th>\n",
       "      <td>2036311</td>\n",
       "      <td>0</td>\n",
       "      <td>37</td>\n",
       "    </tr>\n",
       "    <tr>\n",
       "      <th>476</th>\n",
       "      <td>2043890</td>\n",
       "      <td>0</td>\n",
       "      <td>212</td>\n",
       "    </tr>\n",
       "    <tr>\n",
       "      <th>164</th>\n",
       "      <td>2065661</td>\n",
       "      <td>1</td>\n",
       "      <td>62</td>\n",
       "    </tr>\n",
       "    <tr>\n",
       "      <th>144</th>\n",
       "      <td>2508626</td>\n",
       "      <td>0</td>\n",
       "      <td>55</td>\n",
       "    </tr>\n",
       "    <tr>\n",
       "      <th>555</th>\n",
       "      <td>2708153</td>\n",
       "      <td>0</td>\n",
       "      <td>246</td>\n",
       "    </tr>\n",
       "  </tbody>\n",
       "</table>\n",
       "</div>"
      ],
      "text/plain": [
       "     DummyID  Class  MatchedGroup\n",
       "105  2036311      0            37\n",
       "476  2043890      0           212\n",
       "164  2065661      1            62\n",
       "144  2508626      0            55\n",
       "555  2708153      0           246"
      ]
     },
     "execution_count": 8,
     "metadata": {},
     "output_type": "execute_result"
    }
   ],
   "source": [
    "truth = truth.sort_values('DummyID')\n",
    "truth.head()"
   ]
  },
  {
   "cell_type": "code",
   "execution_count": 9,
   "metadata": {},
   "outputs": [
    {
     "name": "stderr",
     "output_type": "stream",
     "text": [
      "INFO:Truth file read. Number of records : 571\n"
     ]
    }
   ],
   "source": [
    "logging.info('Truth file read. Number of records : {}'.format(len(truth)))\n"
   ]
  },
  {
   "cell_type": "code",
   "execution_count": null,
   "metadata": {},
   "outputs": [],
   "source": []
  },
  {
   "cell_type": "code",
   "execution_count": 12,
   "metadata": {},
   "outputs": [],
   "source": [
    "def preprocess(img):\n",
    "    \n",
    "    img = img + 15000\n",
    "    \n",
    "    shape = img.shape\n",
    "    img = img.reshape((shape[0]*shape[1],))\n",
    "    img = img.tolist()\n",
    "    img = np.array([min(x,16384) for x in img])\n",
    "    img = img.reshape(shape)\n",
    "    \n",
    "    return(img)"
   ]
  },
  {
   "cell_type": "code",
   "execution_count": null,
   "metadata": {
    "scrolled": true
   },
   "outputs": [
    {
     "name": "stderr",
     "output_type": "stream",
     "text": [
      "  0%|          | 0/50 [00:00<?, ?it/s]WARNING:root:Lossy conversion from int64 to uint8. Range [15298, 16384]. Convert image to uint8 prior to saving to suppress this warning.\n"
     ]
    },
    {
     "name": "stdout",
     "output_type": "stream",
     "text": [
      "3286603\n"
     ]
    },
    {
     "name": "stderr",
     "output_type": "stream",
     "text": [
      "WARNING:root:Lossy conversion from int64 to uint8. Range [15250, 16384]. Convert image to uint8 prior to saving to suppress this warning.\n",
      "  2%|▏         | 1/50 [00:10<08:47, 10.77s/it]WARNING:root:Lossy conversion from int64 to uint8. Range [15252, 16384]. Convert image to uint8 prior to saving to suppress this warning.\n"
     ]
    },
    {
     "name": "stdout",
     "output_type": "stream",
     "text": [
      "3302717\n"
     ]
    },
    {
     "name": "stderr",
     "output_type": "stream",
     "text": [
      "WARNING:root:Lossy conversion from int64 to uint8. Range [15198, 16384]. Convert image to uint8 prior to saving to suppress this warning.\n",
      "  4%|▍         | 2/50 [00:17<07:41,  9.61s/it]WARNING:root:Lossy conversion from int64 to uint8. Range [15383, 16384]. Convert image to uint8 prior to saving to suppress this warning.\n"
     ]
    },
    {
     "name": "stdout",
     "output_type": "stream",
     "text": [
      "3304281\n"
     ]
    },
    {
     "name": "stderr",
     "output_type": "stream",
     "text": [
      "WARNING:root:Lossy conversion from int64 to uint8. Range [15362, 16384]. Convert image to uint8 prior to saving to suppress this warning.\n",
      "  6%|▌         | 3/50 [00:28<07:45,  9.90s/it]WARNING:root:Lossy conversion from int64 to uint8. Range [15363, 16384]. Convert image to uint8 prior to saving to suppress this warning.\n"
     ]
    },
    {
     "name": "stdout",
     "output_type": "stream",
     "text": [
      "3329187\n"
     ]
    },
    {
     "name": "stderr",
     "output_type": "stream",
     "text": [
      "WARNING:root:Lossy conversion from int64 to uint8. Range [15316, 16384]. Convert image to uint8 prior to saving to suppress this warning.\n",
      "  8%|▊         | 4/50 [00:38<07:43, 10.08s/it]WARNING:root:Lossy conversion from int64 to uint8. Range [15453, 16384]. Convert image to uint8 prior to saving to suppress this warning.\n"
     ]
    },
    {
     "name": "stdout",
     "output_type": "stream",
     "text": [
      "3382563\n"
     ]
    },
    {
     "name": "stderr",
     "output_type": "stream",
     "text": [
      "WARNING:root:Lossy conversion from int64 to uint8. Range [15360, 16384]. Convert image to uint8 prior to saving to suppress this warning.\n",
      " 10%|█         | 5/50 [00:49<07:39, 10.21s/it]WARNING:root:Lossy conversion from int64 to uint8. Range [15361, 16384]. Convert image to uint8 prior to saving to suppress this warning.\n"
     ]
    },
    {
     "name": "stdout",
     "output_type": "stream",
     "text": [
      "3384114\n"
     ]
    },
    {
     "name": "stderr",
     "output_type": "stream",
     "text": [
      "WARNING:root:Lossy conversion from int64 to uint8. Range [15279, 16384]. Convert image to uint8 prior to saving to suppress this warning.\n",
      " 12%|█▏        | 6/50 [00:59<07:33, 10.32s/it]WARNING:root:Lossy conversion from int64 to uint8. Range [15064, 16384]. Convert image to uint8 prior to saving to suppress this warning.\n"
     ]
    },
    {
     "name": "stdout",
     "output_type": "stream",
     "text": [
      "3398917\n"
     ]
    },
    {
     "name": "stderr",
     "output_type": "stream",
     "text": [
      "WARNING:root:Lossy conversion from int64 to uint8. Range [15360, 16384]. Convert image to uint8 prior to saving to suppress this warning.\n",
      " 14%|█▍        | 7/50 [01:06<06:38,  9.26s/it]WARNING:root:Lossy conversion from int64 to uint8. Range [15294, 16384]. Convert image to uint8 prior to saving to suppress this warning.\n"
     ]
    },
    {
     "name": "stdout",
     "output_type": "stream",
     "text": [
      "3401550\n"
     ]
    },
    {
     "name": "stderr",
     "output_type": "stream",
     "text": [
      "WARNING:root:Lossy conversion from int64 to uint8. Range [15280, 16384]. Convert image to uint8 prior to saving to suppress this warning.\n",
      " 16%|█▌        | 8/50 [01:17<06:48,  9.74s/it]WARNING:root:Lossy conversion from int64 to uint8. Range [15274, 16384]. Convert image to uint8 prior to saving to suppress this warning.\n"
     ]
    },
    {
     "name": "stdout",
     "output_type": "stream",
     "text": [
      "3415619\n"
     ]
    },
    {
     "name": "stderr",
     "output_type": "stream",
     "text": [
      "WARNING:root:Lossy conversion from int64 to uint8. Range [15238, 16384]. Convert image to uint8 prior to saving to suppress this warning.\n",
      " 18%|█▊        | 9/50 [01:25<06:12,  9.09s/it]WARNING:root:Lossy conversion from int64 to uint8. Range [15301, 16384]. Convert image to uint8 prior to saving to suppress this warning.\n"
     ]
    },
    {
     "name": "stdout",
     "output_type": "stream",
     "text": [
      "3416325\n"
     ]
    },
    {
     "name": "stderr",
     "output_type": "stream",
     "text": [
      "WARNING:root:Lossy conversion from int64 to uint8. Range [15342, 16384]. Convert image to uint8 prior to saving to suppress this warning.\n",
      " 20%|██        | 10/50 [01:35<06:23,  9.59s/it]WARNING:root:Lossy conversion from int64 to uint8. Range [15259, 16384]. Convert image to uint8 prior to saving to suppress this warning.\n"
     ]
    },
    {
     "name": "stdout",
     "output_type": "stream",
     "text": [
      "3416397\n"
     ]
    },
    {
     "name": "stderr",
     "output_type": "stream",
     "text": [
      "WARNING:root:Lossy conversion from int64 to uint8. Range [15227, 16384]. Convert image to uint8 prior to saving to suppress this warning.\n",
      " 22%|██▏       | 11/50 [01:46<06:25,  9.88s/it]WARNING:root:Lossy conversion from int64 to uint8. Range [15420, 16384]. Convert image to uint8 prior to saving to suppress this warning.\n"
     ]
    },
    {
     "name": "stdout",
     "output_type": "stream",
     "text": [
      "3437521\n"
     ]
    },
    {
     "name": "stderr",
     "output_type": "stream",
     "text": [
      "WARNING:root:Lossy conversion from int64 to uint8. Range [15311, 16384]. Convert image to uint8 prior to saving to suppress this warning.\n",
      " 24%|██▍       | 12/50 [01:53<05:42,  9.02s/it]WARNING:root:Lossy conversion from int64 to uint8. Range [15225, 16384]. Convert image to uint8 prior to saving to suppress this warning.\n"
     ]
    },
    {
     "name": "stdout",
     "output_type": "stream",
     "text": [
      "3448812\n"
     ]
    },
    {
     "name": "stderr",
     "output_type": "stream",
     "text": [
      "WARNING:root:Lossy conversion from int64 to uint8. Range [15299, 16384]. Convert image to uint8 prior to saving to suppress this warning.\n",
      " 26%|██▌       | 13/50 [02:00<05:10,  8.40s/it]WARNING:root:Lossy conversion from int64 to uint8. Range [15336, 16384]. Convert image to uint8 prior to saving to suppress this warning.\n"
     ]
    },
    {
     "name": "stdout",
     "output_type": "stream",
     "text": [
      "3450519\n"
     ]
    },
    {
     "name": "stderr",
     "output_type": "stream",
     "text": [
      "WARNING:root:Lossy conversion from int64 to uint8. Range [15317, 16384]. Convert image to uint8 prior to saving to suppress this warning.\n",
      " 28%|██▊       | 14/50 [02:07<04:46,  7.96s/it]WARNING:root:Lossy conversion from int64 to uint8. Range [15304, 16384]. Convert image to uint8 prior to saving to suppress this warning.\n"
     ]
    },
    {
     "name": "stdout",
     "output_type": "stream",
     "text": [
      "3452673\n"
     ]
    },
    {
     "name": "stderr",
     "output_type": "stream",
     "text": [
      "WARNING:root:Lossy conversion from int64 to uint8. Range [15275, 16384]. Convert image to uint8 prior to saving to suppress this warning.\n",
      " 30%|███       | 15/50 [02:14<04:27,  7.63s/it]WARNING:root:Lossy conversion from int64 to uint8. Range [15311, 16384]. Convert image to uint8 prior to saving to suppress this warning.\n"
     ]
    },
    {
     "name": "stdout",
     "output_type": "stream",
     "text": [
      "3462128\n"
     ]
    },
    {
     "name": "stderr",
     "output_type": "stream",
     "text": [
      "WARNING:root:Lossy conversion from int64 to uint8. Range [15383, 16384]. Convert image to uint8 prior to saving to suppress this warning.\n",
      " 32%|███▏      | 16/50 [02:24<04:49,  8.52s/it]WARNING:root:Lossy conversion from int64 to uint8. Range [15413, 16384]. Convert image to uint8 prior to saving to suppress this warning.\n"
     ]
    },
    {
     "name": "stdout",
     "output_type": "stream",
     "text": [
      "3468063\n"
     ]
    },
    {
     "name": "stderr",
     "output_type": "stream",
     "text": [
      "WARNING:root:Lossy conversion from int64 to uint8. Range [15210, 16384]. Convert image to uint8 prior to saving to suppress this warning.\n",
      " 34%|███▍      | 17/50 [02:35<05:00,  9.12s/it]WARNING:root:Lossy conversion from int64 to uint8. Range [15383, 16384]. Convert image to uint8 prior to saving to suppress this warning.\n"
     ]
    },
    {
     "name": "stdout",
     "output_type": "stream",
     "text": [
      "3469862\n"
     ]
    },
    {
     "name": "stderr",
     "output_type": "stream",
     "text": [
      "WARNING:root:Lossy conversion from int64 to uint8. Range [15222, 16384]. Convert image to uint8 prior to saving to suppress this warning.\n",
      " 36%|███▌      | 18/50 [02:42<04:29,  8.44s/it]WARNING:root:Lossy conversion from int64 to uint8. Range [15082, 16384]. Convert image to uint8 prior to saving to suppress this warning.\n"
     ]
    },
    {
     "name": "stdout",
     "output_type": "stream",
     "text": [
      "3470102\n"
     ]
    },
    {
     "name": "stderr",
     "output_type": "stream",
     "text": [
      "WARNING:root:Lossy conversion from int64 to uint8. Range [15290, 16384]. Convert image to uint8 prior to saving to suppress this warning.\n",
      " 38%|███▊      | 19/50 [02:52<04:41,  9.09s/it]WARNING:root:Lossy conversion from int64 to uint8. Range [15127, 16384]. Convert image to uint8 prior to saving to suppress this warning.\n"
     ]
    },
    {
     "name": "stdout",
     "output_type": "stream",
     "text": [
      "3470848\n"
     ]
    },
    {
     "name": "stderr",
     "output_type": "stream",
     "text": [
      "WARNING:root:Lossy conversion from int64 to uint8. Range [15369, 16384]. Convert image to uint8 prior to saving to suppress this warning.\n",
      " 40%|████      | 20/50 [03:03<04:45,  9.51s/it]WARNING:root:Lossy conversion from int64 to uint8. Range [15331, 16384]. Convert image to uint8 prior to saving to suppress this warning.\n"
     ]
    },
    {
     "name": "stdout",
     "output_type": "stream",
     "text": [
      "3472621\n"
     ]
    },
    {
     "name": "stderr",
     "output_type": "stream",
     "text": [
      "WARNING:root:Lossy conversion from int64 to uint8. Range [15294, 16384]. Convert image to uint8 prior to saving to suppress this warning.\n",
      " 42%|████▏     | 21/50 [03:13<04:45,  9.84s/it]WARNING:root:Lossy conversion from int64 to uint8. Range [15323, 16384]. Convert image to uint8 prior to saving to suppress this warning.\n"
     ]
    },
    {
     "name": "stdout",
     "output_type": "stream",
     "text": [
      "3473413\n"
     ]
    },
    {
     "name": "stderr",
     "output_type": "stream",
     "text": [
      "WARNING:root:Lossy conversion from int64 to uint8. Range [15287, 16384]. Convert image to uint8 prior to saving to suppress this warning.\n",
      " 44%|████▍     | 22/50 [03:24<04:43, 10.11s/it]WARNING:root:Lossy conversion from int64 to uint8. Range [15351, 16384]. Convert image to uint8 prior to saving to suppress this warning.\n"
     ]
    },
    {
     "name": "stdout",
     "output_type": "stream",
     "text": [
      "3487023\n"
     ]
    },
    {
     "name": "stderr",
     "output_type": "stream",
     "text": [
      "WARNING:root:Lossy conversion from int64 to uint8. Range [15379, 16384]. Convert image to uint8 prior to saving to suppress this warning.\n",
      " 46%|████▌     | 23/50 [03:31<04:06,  9.11s/it]WARNING:root:Lossy conversion from int64 to uint8. Range [15336, 16384]. Convert image to uint8 prior to saving to suppress this warning.\n"
     ]
    },
    {
     "name": "stdout",
     "output_type": "stream",
     "text": [
      "3494983\n"
     ]
    },
    {
     "name": "stderr",
     "output_type": "stream",
     "text": [
      "WARNING:root:Lossy conversion from int64 to uint8. Range [15148, 16384]. Convert image to uint8 prior to saving to suppress this warning.\n",
      " 48%|████▊     | 24/50 [03:42<04:11,  9.68s/it]WARNING:root:Lossy conversion from int64 to uint8. Range [15079, 16384]. Convert image to uint8 prior to saving to suppress this warning.\n"
     ]
    },
    {
     "name": "stdout",
     "output_type": "stream",
     "text": [
      "3502901\n"
     ]
    },
    {
     "name": "stderr",
     "output_type": "stream",
     "text": [
      "WARNING:root:Lossy conversion from int64 to uint8. Range [15248, 16384]. Convert image to uint8 prior to saving to suppress this warning.\n",
      " 50%|█████     | 25/50 [03:53<04:11, 10.07s/it]WARNING:root:Lossy conversion from int64 to uint8. Range [15256, 16384]. Convert image to uint8 prior to saving to suppress this warning.\n"
     ]
    },
    {
     "name": "stdout",
     "output_type": "stream",
     "text": [
      "3504934\n"
     ]
    },
    {
     "name": "stderr",
     "output_type": "stream",
     "text": [
      "WARNING:root:Lossy conversion from int64 to uint8. Range [15223, 16384]. Convert image to uint8 prior to saving to suppress this warning.\n",
      " 52%|█████▏    | 26/50 [04:03<04:04, 10.20s/it]WARNING:root:Lossy conversion from int64 to uint8. Range [15426, 16384]. Convert image to uint8 prior to saving to suppress this warning.\n"
     ]
    },
    {
     "name": "stdout",
     "output_type": "stream",
     "text": [
      "3505043\n"
     ]
    },
    {
     "name": "stderr",
     "output_type": "stream",
     "text": [
      "WARNING:root:Lossy conversion from int64 to uint8. Range [15293, 16384]. Convert image to uint8 prior to saving to suppress this warning.\n",
      " 54%|█████▍    | 27/50 [04:14<03:57, 10.34s/it]WARNING:root:Lossy conversion from int64 to uint8. Range [15325, 16384]. Convert image to uint8 prior to saving to suppress this warning.\n"
     ]
    },
    {
     "name": "stdout",
     "output_type": "stream",
     "text": [
      "3505902\n"
     ]
    },
    {
     "name": "stderr",
     "output_type": "stream",
     "text": [
      "WARNING:root:Lossy conversion from int64 to uint8. Range [15256, 16384]. Convert image to uint8 prior to saving to suppress this warning.\n",
      " 56%|█████▌    | 28/50 [04:25<03:50, 10.50s/it]WARNING:root:Lossy conversion from int64 to uint8. Range [15317, 16384]. Convert image to uint8 prior to saving to suppress this warning.\n"
     ]
    },
    {
     "name": "stdout",
     "output_type": "stream",
     "text": [
      "3508555\n"
     ]
    },
    {
     "name": "stderr",
     "output_type": "stream",
     "text": [
      "WARNING:root:Lossy conversion from int64 to uint8. Range [15343, 16384]. Convert image to uint8 prior to saving to suppress this warning.\n",
      " 58%|█████▊    | 29/50 [04:32<03:19,  9.49s/it]WARNING:root:Lossy conversion from int64 to uint8. Range [15289, 16384]. Convert image to uint8 prior to saving to suppress this warning.\n"
     ]
    },
    {
     "name": "stdout",
     "output_type": "stream",
     "text": [
      "3511811\n"
     ]
    },
    {
     "name": "stderr",
     "output_type": "stream",
     "text": [
      "WARNING:root:Lossy conversion from int64 to uint8. Range [15269, 16384]. Convert image to uint8 prior to saving to suppress this warning.\n",
      " 60%|██████    | 30/50 [04:43<03:17,  9.90s/it]WARNING:root:Lossy conversion from int64 to uint8. Range [15283, 16384]. Convert image to uint8 prior to saving to suppress this warning.\n"
     ]
    },
    {
     "name": "stdout",
     "output_type": "stream",
     "text": [
      "3514862\n"
     ]
    },
    {
     "name": "stderr",
     "output_type": "stream",
     "text": [
      "WARNING:root:Lossy conversion from int64 to uint8. Range [15265, 16384]. Convert image to uint8 prior to saving to suppress this warning.\n",
      " 62%|██████▏   | 31/50 [04:50<02:51,  9.03s/it]WARNING:root:Lossy conversion from int64 to uint8. Range [15306, 16384]. Convert image to uint8 prior to saving to suppress this warning.\n"
     ]
    },
    {
     "name": "stdout",
     "output_type": "stream",
     "text": [
      "3526124\n"
     ]
    },
    {
     "name": "stderr",
     "output_type": "stream",
     "text": [
      "WARNING:root:Lossy conversion from int64 to uint8. Range [15303, 16384]. Convert image to uint8 prior to saving to suppress this warning.\n",
      " 64%|██████▍   | 32/50 [05:01<02:52,  9.58s/it]WARNING:root:Lossy conversion from int64 to uint8. Range [15336, 16384]. Convert image to uint8 prior to saving to suppress this warning.\n"
     ]
    },
    {
     "name": "stdout",
     "output_type": "stream",
     "text": [
      "3531430\n"
     ]
    },
    {
     "name": "stderr",
     "output_type": "stream",
     "text": [
      "WARNING:root:Lossy conversion from int64 to uint8. Range [15286, 16384]. Convert image to uint8 prior to saving to suppress this warning.\n",
      " 66%|██████▌   | 33/50 [05:08<02:31,  8.93s/it]WARNING:root:Lossy conversion from int64 to uint8. Range [15359, 16384]. Convert image to uint8 prior to saving to suppress this warning.\n"
     ]
    },
    {
     "name": "stdout",
     "output_type": "stream",
     "text": [
      "3534230\n"
     ]
    },
    {
     "name": "stderr",
     "output_type": "stream",
     "text": [
      "WARNING:root:Lossy conversion from int64 to uint8. Range [15284, 16384]. Convert image to uint8 prior to saving to suppress this warning.\n",
      " 68%|██████▊   | 34/50 [05:19<02:31,  9.49s/it]WARNING:root:Lossy conversion from int64 to uint8. Range [15410, 16384]. Convert image to uint8 prior to saving to suppress this warning.\n"
     ]
    },
    {
     "name": "stdout",
     "output_type": "stream",
     "text": [
      "3534961\n"
     ]
    },
    {
     "name": "stderr",
     "output_type": "stream",
     "text": [
      "WARNING:root:Lossy conversion from int64 to uint8. Range [15265, 16384]. Convert image to uint8 prior to saving to suppress this warning.\n",
      " 70%|███████   | 35/50 [05:26<02:10,  8.67s/it]WARNING:root:Lossy conversion from int64 to uint8. Range [15376, 16384]. Convert image to uint8 prior to saving to suppress this warning.\n"
     ]
    },
    {
     "name": "stdout",
     "output_type": "stream",
     "text": [
      "3537959\n"
     ]
    },
    {
     "name": "stderr",
     "output_type": "stream",
     "text": [
      "WARNING:root:Lossy conversion from int64 to uint8. Range [15283, 16384]. Convert image to uint8 prior to saving to suppress this warning.\n",
      " 72%|███████▏  | 36/50 [05:32<01:53,  8.09s/it]WARNING:root:Lossy conversion from int64 to uint8. Range [15290, 16384]. Convert image to uint8 prior to saving to suppress this warning.\n"
     ]
    },
    {
     "name": "stdout",
     "output_type": "stream",
     "text": [
      "3542115\n"
     ]
    },
    {
     "name": "stderr",
     "output_type": "stream",
     "text": [
      "WARNING:root:Lossy conversion from int64 to uint8. Range [15172, 16384]. Convert image to uint8 prior to saving to suppress this warning.\n",
      " 74%|███████▍  | 37/50 [05:43<01:54,  8.82s/it]WARNING:root:Lossy conversion from int64 to uint8. Range [15479, 16384]. Convert image to uint8 prior to saving to suppress this warning.\n"
     ]
    },
    {
     "name": "stdout",
     "output_type": "stream",
     "text": [
      "3542909\n"
     ]
    },
    {
     "name": "stderr",
     "output_type": "stream",
     "text": [
      "WARNING:root:Lossy conversion from int64 to uint8. Range [15415, 16384]. Convert image to uint8 prior to saving to suppress this warning.\n",
      " 76%|███████▌  | 38/50 [05:54<01:52,  9.37s/it]WARNING:root:Lossy conversion from int64 to uint8. Range [15242, 16384]. Convert image to uint8 prior to saving to suppress this warning.\n"
     ]
    },
    {
     "name": "stdout",
     "output_type": "stream",
     "text": [
      "3547081\n"
     ]
    },
    {
     "name": "stderr",
     "output_type": "stream",
     "text": [
      "WARNING:root:Lossy conversion from int64 to uint8. Range [15249, 16384]. Convert image to uint8 prior to saving to suppress this warning.\n",
      " 78%|███████▊  | 39/50 [06:03<01:44,  9.54s/it]WARNING:root:Lossy conversion from int64 to uint8. Range [15425, 16384]. Convert image to uint8 prior to saving to suppress this warning.\n"
     ]
    },
    {
     "name": "stdout",
     "output_type": "stream",
     "text": [
      "3552809\n"
     ]
    },
    {
     "name": "stderr",
     "output_type": "stream",
     "text": [
      "WARNING:root:Lossy conversion from int64 to uint8. Range [15371, 16384]. Convert image to uint8 prior to saving to suppress this warning.\n",
      " 80%|████████  | 40/50 [06:10<01:27,  8.74s/it]WARNING:root:Lossy conversion from int64 to uint8. Range [15342, 16384]. Convert image to uint8 prior to saving to suppress this warning.\n"
     ]
    },
    {
     "name": "stdout",
     "output_type": "stream",
     "text": [
      "3554447\n"
     ]
    },
    {
     "name": "stderr",
     "output_type": "stream",
     "text": [
      "WARNING:root:Lossy conversion from int64 to uint8. Range [15357, 16384]. Convert image to uint8 prior to saving to suppress this warning.\n",
      " 82%|████████▏ | 41/50 [06:21<01:23,  9.28s/it]WARNING:root:Lossy conversion from int64 to uint8. Range [15205, 16384]. Convert image to uint8 prior to saving to suppress this warning.\n"
     ]
    },
    {
     "name": "stdout",
     "output_type": "stream",
     "text": [
      "3554910\n"
     ]
    },
    {
     "name": "stderr",
     "output_type": "stream",
     "text": [
      "WARNING:root:Lossy conversion from int64 to uint8. Range [15217, 16384]. Convert image to uint8 prior to saving to suppress this warning.\n",
      " 84%|████████▍ | 42/50 [06:31<01:17,  9.66s/it]WARNING:root:Lossy conversion from int64 to uint8. Range [15311, 16384]. Convert image to uint8 prior to saving to suppress this warning.\n"
     ]
    },
    {
     "name": "stdout",
     "output_type": "stream",
     "text": [
      "3560959\n"
     ]
    },
    {
     "name": "stderr",
     "output_type": "stream",
     "text": [
      "WARNING:root:Lossy conversion from int64 to uint8. Range [15287, 16384]. Convert image to uint8 prior to saving to suppress this warning.\n",
      " 86%|████████▌ | 43/50 [06:38<01:01,  8.85s/it]WARNING:root:Lossy conversion from int64 to uint8. Range [15283, 16384]. Convert image to uint8 prior to saving to suppress this warning.\n"
     ]
    },
    {
     "name": "stdout",
     "output_type": "stream",
     "text": [
      "3561065\n"
     ]
    },
    {
     "name": "stderr",
     "output_type": "stream",
     "text": [
      "WARNING:root:Lossy conversion from int64 to uint8. Range [15280, 16384]. Convert image to uint8 prior to saving to suppress this warning.\n"
     ]
    }
   ],
   "source": [
    "for i in tqdm(range(50,100)):\n",
    "    \n",
    "    if i>=len(truth):\n",
    "        break\n",
    "        \n",
    "    folder = str(truth.iloc[i]['DummyID'])\n",
    "    label = truth.loc[truth.DummyID==int(folder)]['Class'].values[0]\n",
    "\n",
    "    \n",
    "    img1 = pydicom.read_file(baseFolder + '/' + folder + \"/\" + folder + \"_L_MLO_1.dcm\").pixel_array\n",
    "    img2 = pydicom.read_file(baseFolder + '/' + folder + \"/\" + folder + \"_R_MLO_1.dcm\").pixel_array\n",
    "\n",
    "    img1 = preprocess(img1)\n",
    "    img2 = preprocess(img2)\n",
    "    \n",
    "    print(folder)\n",
    "    \n",
    "    if label == 0:\n",
    "        \n",
    "        outFolder = '/gpfs/cbica/home/santhosr/Datasets/jpeg/0'\n",
    "        \n",
    "        imwrite(outFolder  + \"/\" + folder + '_L_MLO_1.jpg', img1)\n",
    "        imwrite(outFolder  + \"/\" + folder + '_R_MLO_1.jpg', img2)\n",
    "        \n",
    "    else:\n",
    "        outFolder = '/gpfs/cbica/home/santhosr/Datasets/jpeg/1'\n",
    "        \n",
    "        imwrite(outFolder  + \"/\" + folder + '_L_MLO_1.jpg', img1)\n",
    "        imwrite(outFolder  + \"/\" + folder + '_R_MLO_1.jpg', img2)\n",
    "    "
   ]
  },
  {
   "cell_type": "code",
   "execution_count": 12,
   "metadata": {
    "scrolled": true
   },
   "outputs": [
    {
     "data": {
      "text/html": [
       "<div>\n",
       "<style scoped>\n",
       "    .dataframe tbody tr th:only-of-type {\n",
       "        vertical-align: middle;\n",
       "    }\n",
       "\n",
       "    .dataframe tbody tr th {\n",
       "        vertical-align: top;\n",
       "    }\n",
       "\n",
       "    .dataframe thead th {\n",
       "        text-align: right;\n",
       "    }\n",
       "</style>\n",
       "<table border=\"1\" class=\"dataframe\">\n",
       "  <thead>\n",
       "    <tr style=\"text-align: right;\">\n",
       "      <th></th>\n",
       "      <th>DummyID</th>\n",
       "      <th>Class</th>\n",
       "      <th>MatchedGroup</th>\n",
       "    </tr>\n",
       "  </thead>\n",
       "  <tbody>\n",
       "    <tr>\n",
       "      <th>4</th>\n",
       "      <td>3969754</td>\n",
       "      <td>1</td>\n",
       "      <td>1</td>\n",
       "    </tr>\n",
       "    <tr>\n",
       "      <th>5</th>\n",
       "      <td>4193934</td>\n",
       "      <td>1</td>\n",
       "      <td>2</td>\n",
       "    </tr>\n",
       "    <tr>\n",
       "      <th>13</th>\n",
       "      <td>3718105</td>\n",
       "      <td>1</td>\n",
       "      <td>3</td>\n",
       "    </tr>\n",
       "    <tr>\n",
       "      <th>18</th>\n",
       "      <td>75102038</td>\n",
       "      <td>1</td>\n",
       "      <td>5</td>\n",
       "    </tr>\n",
       "    <tr>\n",
       "      <th>23</th>\n",
       "      <td>3687522</td>\n",
       "      <td>1</td>\n",
       "      <td>7</td>\n",
       "    </tr>\n",
       "    <tr>\n",
       "      <th>26</th>\n",
       "      <td>3468063</td>\n",
       "      <td>1</td>\n",
       "      <td>9</td>\n",
       "    </tr>\n",
       "    <tr>\n",
       "      <th>30</th>\n",
       "      <td>3415619</td>\n",
       "      <td>1</td>\n",
       "      <td>10</td>\n",
       "    </tr>\n",
       "    <tr>\n",
       "      <th>39</th>\n",
       "      <td>3987350</td>\n",
       "      <td>1</td>\n",
       "      <td>11</td>\n",
       "    </tr>\n",
       "    <tr>\n",
       "      <th>42</th>\n",
       "      <td>75002153</td>\n",
       "      <td>1</td>\n",
       "      <td>12</td>\n",
       "    </tr>\n",
       "    <tr>\n",
       "      <th>46</th>\n",
       "      <td>3542909</td>\n",
       "      <td>1</td>\n",
       "      <td>14</td>\n",
       "    </tr>\n",
       "    <tr>\n",
       "      <th>54</th>\n",
       "      <td>4731954</td>\n",
       "      <td>1</td>\n",
       "      <td>15</td>\n",
       "    </tr>\n",
       "    <tr>\n",
       "      <th>55</th>\n",
       "      <td>3643920</td>\n",
       "      <td>1</td>\n",
       "      <td>18</td>\n",
       "    </tr>\n",
       "    <tr>\n",
       "      <th>64</th>\n",
       "      <td>3994135</td>\n",
       "      <td>1</td>\n",
       "      <td>20</td>\n",
       "    </tr>\n",
       "    <tr>\n",
       "      <th>69</th>\n",
       "      <td>3505043</td>\n",
       "      <td>1</td>\n",
       "      <td>22</td>\n",
       "    </tr>\n",
       "    <tr>\n",
       "      <th>74</th>\n",
       "      <td>75179163</td>\n",
       "      <td>1</td>\n",
       "      <td>23</td>\n",
       "    </tr>\n",
       "    <tr>\n",
       "      <th>79</th>\n",
       "      <td>3994191</td>\n",
       "      <td>1</td>\n",
       "      <td>24</td>\n",
       "    </tr>\n",
       "    <tr>\n",
       "      <th>84</th>\n",
       "      <td>4940134</td>\n",
       "      <td>1</td>\n",
       "      <td>27</td>\n",
       "    </tr>\n",
       "    <tr>\n",
       "      <th>88</th>\n",
       "      <td>4875716</td>\n",
       "      <td>1</td>\n",
       "      <td>30</td>\n",
       "    </tr>\n",
       "    <tr>\n",
       "      <th>93</th>\n",
       "      <td>4821439</td>\n",
       "      <td>1</td>\n",
       "      <td>31</td>\n",
       "    </tr>\n",
       "    <tr>\n",
       "      <th>98</th>\n",
       "      <td>3830123</td>\n",
       "      <td>1</td>\n",
       "      <td>32</td>\n",
       "    </tr>\n",
       "    <tr>\n",
       "      <th>103</th>\n",
       "      <td>3939689</td>\n",
       "      <td>1</td>\n",
       "      <td>34</td>\n",
       "    </tr>\n",
       "    <tr>\n",
       "      <th>106</th>\n",
       "      <td>3282831</td>\n",
       "      <td>1</td>\n",
       "      <td>37</td>\n",
       "    </tr>\n",
       "    <tr>\n",
       "      <th>113</th>\n",
       "      <td>4254842</td>\n",
       "      <td>1</td>\n",
       "      <td>38</td>\n",
       "    </tr>\n",
       "    <tr>\n",
       "      <th>118</th>\n",
       "      <td>4100219</td>\n",
       "      <td>1</td>\n",
       "      <td>39</td>\n",
       "    </tr>\n",
       "    <tr>\n",
       "      <th>123</th>\n",
       "      <td>4738248</td>\n",
       "      <td>1</td>\n",
       "      <td>47</td>\n",
       "    </tr>\n",
       "    <tr>\n",
       "      <th>125</th>\n",
       "      <td>2972511</td>\n",
       "      <td>1</td>\n",
       "      <td>48</td>\n",
       "    </tr>\n",
       "    <tr>\n",
       "      <th>130</th>\n",
       "      <td>3012245</td>\n",
       "      <td>1</td>\n",
       "      <td>49</td>\n",
       "    </tr>\n",
       "    <tr>\n",
       "      <th>139</th>\n",
       "      <td>4384592</td>\n",
       "      <td>1</td>\n",
       "      <td>50</td>\n",
       "    </tr>\n",
       "    <tr>\n",
       "      <th>141</th>\n",
       "      <td>3502901</td>\n",
       "      <td>1</td>\n",
       "      <td>54</td>\n",
       "    </tr>\n",
       "    <tr>\n",
       "      <th>145</th>\n",
       "      <td>3149770</td>\n",
       "      <td>1</td>\n",
       "      <td>55</td>\n",
       "    </tr>\n",
       "    <tr>\n",
       "      <th>...</th>\n",
       "      <td>...</td>\n",
       "      <td>...</td>\n",
       "      <td>...</td>\n",
       "    </tr>\n",
       "    <tr>\n",
       "      <th>425</th>\n",
       "      <td>3903873</td>\n",
       "      <td>1</td>\n",
       "      <td>185</td>\n",
       "    </tr>\n",
       "    <tr>\n",
       "      <th>429</th>\n",
       "      <td>4847986</td>\n",
       "      <td>1</td>\n",
       "      <td>186</td>\n",
       "    </tr>\n",
       "    <tr>\n",
       "      <th>435</th>\n",
       "      <td>4862749</td>\n",
       "      <td>1</td>\n",
       "      <td>191</td>\n",
       "    </tr>\n",
       "    <tr>\n",
       "      <th>440</th>\n",
       "      <td>75031782</td>\n",
       "      <td>1</td>\n",
       "      <td>192</td>\n",
       "    </tr>\n",
       "    <tr>\n",
       "      <th>445</th>\n",
       "      <td>4204128</td>\n",
       "      <td>1</td>\n",
       "      <td>196</td>\n",
       "    </tr>\n",
       "    <tr>\n",
       "      <th>449</th>\n",
       "      <td>4154124</td>\n",
       "      <td>1</td>\n",
       "      <td>197</td>\n",
       "    </tr>\n",
       "    <tr>\n",
       "      <th>456</th>\n",
       "      <td>4331945</td>\n",
       "      <td>1</td>\n",
       "      <td>198</td>\n",
       "    </tr>\n",
       "    <tr>\n",
       "      <th>461</th>\n",
       "      <td>4977686</td>\n",
       "      <td>1</td>\n",
       "      <td>202</td>\n",
       "    </tr>\n",
       "    <tr>\n",
       "      <th>464</th>\n",
       "      <td>4776250</td>\n",
       "      <td>1</td>\n",
       "      <td>203</td>\n",
       "    </tr>\n",
       "    <tr>\n",
       "      <th>466</th>\n",
       "      <td>4042738</td>\n",
       "      <td>1</td>\n",
       "      <td>206</td>\n",
       "    </tr>\n",
       "    <tr>\n",
       "      <th>471</th>\n",
       "      <td>3636670</td>\n",
       "      <td>1</td>\n",
       "      <td>210</td>\n",
       "    </tr>\n",
       "    <tr>\n",
       "      <th>480</th>\n",
       "      <td>3939739</td>\n",
       "      <td>1</td>\n",
       "      <td>212</td>\n",
       "    </tr>\n",
       "    <tr>\n",
       "      <th>481</th>\n",
       "      <td>3066391</td>\n",
       "      <td>1</td>\n",
       "      <td>216</td>\n",
       "    </tr>\n",
       "    <tr>\n",
       "      <th>487</th>\n",
       "      <td>3750302</td>\n",
       "      <td>1</td>\n",
       "      <td>217</td>\n",
       "    </tr>\n",
       "    <tr>\n",
       "      <th>495</th>\n",
       "      <td>4885279</td>\n",
       "      <td>1</td>\n",
       "      <td>218</td>\n",
       "    </tr>\n",
       "    <tr>\n",
       "      <th>496</th>\n",
       "      <td>5102212</td>\n",
       "      <td>1</td>\n",
       "      <td>222</td>\n",
       "    </tr>\n",
       "    <tr>\n",
       "      <th>501</th>\n",
       "      <td>4968727</td>\n",
       "      <td>1</td>\n",
       "      <td>229</td>\n",
       "    </tr>\n",
       "    <tr>\n",
       "      <th>509</th>\n",
       "      <td>3095624</td>\n",
       "      <td>1</td>\n",
       "      <td>232</td>\n",
       "    </tr>\n",
       "    <tr>\n",
       "      <th>515</th>\n",
       "      <td>4996142</td>\n",
       "      <td>1</td>\n",
       "      <td>233</td>\n",
       "    </tr>\n",
       "    <tr>\n",
       "      <th>518</th>\n",
       "      <td>4045799</td>\n",
       "      <td>1</td>\n",
       "      <td>234</td>\n",
       "    </tr>\n",
       "    <tr>\n",
       "      <th>522</th>\n",
       "      <td>4493059</td>\n",
       "      <td>1</td>\n",
       "      <td>236</td>\n",
       "    </tr>\n",
       "    <tr>\n",
       "      <th>528</th>\n",
       "      <td>3984007</td>\n",
       "      <td>1</td>\n",
       "      <td>237</td>\n",
       "    </tr>\n",
       "    <tr>\n",
       "      <th>531</th>\n",
       "      <td>3736695</td>\n",
       "      <td>1</td>\n",
       "      <td>238</td>\n",
       "    </tr>\n",
       "    <tr>\n",
       "      <th>537</th>\n",
       "      <td>75508343</td>\n",
       "      <td>1</td>\n",
       "      <td>239</td>\n",
       "    </tr>\n",
       "    <tr>\n",
       "      <th>544</th>\n",
       "      <td>3715835</td>\n",
       "      <td>1</td>\n",
       "      <td>240</td>\n",
       "    </tr>\n",
       "    <tr>\n",
       "      <th>546</th>\n",
       "      <td>4146610</td>\n",
       "      <td>1</td>\n",
       "      <td>243</td>\n",
       "    </tr>\n",
       "    <tr>\n",
       "      <th>551</th>\n",
       "      <td>3561180</td>\n",
       "      <td>1</td>\n",
       "      <td>245</td>\n",
       "    </tr>\n",
       "    <tr>\n",
       "      <th>556</th>\n",
       "      <td>2735619</td>\n",
       "      <td>1</td>\n",
       "      <td>246</td>\n",
       "    </tr>\n",
       "    <tr>\n",
       "      <th>563</th>\n",
       "      <td>4399411</td>\n",
       "      <td>1</td>\n",
       "      <td>248</td>\n",
       "    </tr>\n",
       "    <tr>\n",
       "      <th>569</th>\n",
       "      <td>3568851</td>\n",
       "      <td>1</td>\n",
       "      <td>250</td>\n",
       "    </tr>\n",
       "  </tbody>\n",
       "</table>\n",
       "<p>115 rows × 3 columns</p>\n",
       "</div>"
      ],
      "text/plain": [
       "      DummyID  Class  MatchedGroup\n",
       "4     3969754      1             1\n",
       "5     4193934      1             2\n",
       "13    3718105      1             3\n",
       "18   75102038      1             5\n",
       "23    3687522      1             7\n",
       "26    3468063      1             9\n",
       "30    3415619      1            10\n",
       "39    3987350      1            11\n",
       "42   75002153      1            12\n",
       "46    3542909      1            14\n",
       "54    4731954      1            15\n",
       "55    3643920      1            18\n",
       "64    3994135      1            20\n",
       "69    3505043      1            22\n",
       "74   75179163      1            23\n",
       "79    3994191      1            24\n",
       "84    4940134      1            27\n",
       "88    4875716      1            30\n",
       "93    4821439      1            31\n",
       "98    3830123      1            32\n",
       "103   3939689      1            34\n",
       "106   3282831      1            37\n",
       "113   4254842      1            38\n",
       "118   4100219      1            39\n",
       "123   4738248      1            47\n",
       "125   2972511      1            48\n",
       "130   3012245      1            49\n",
       "139   4384592      1            50\n",
       "141   3502901      1            54\n",
       "145   3149770      1            55\n",
       "..        ...    ...           ...\n",
       "425   3903873      1           185\n",
       "429   4847986      1           186\n",
       "435   4862749      1           191\n",
       "440  75031782      1           192\n",
       "445   4204128      1           196\n",
       "449   4154124      1           197\n",
       "456   4331945      1           198\n",
       "461   4977686      1           202\n",
       "464   4776250      1           203\n",
       "466   4042738      1           206\n",
       "471   3636670      1           210\n",
       "480   3939739      1           212\n",
       "481   3066391      1           216\n",
       "487   3750302      1           217\n",
       "495   4885279      1           218\n",
       "496   5102212      1           222\n",
       "501   4968727      1           229\n",
       "509   3095624      1           232\n",
       "515   4996142      1           233\n",
       "518   4045799      1           234\n",
       "522   4493059      1           236\n",
       "528   3984007      1           237\n",
       "531   3736695      1           238\n",
       "537  75508343      1           239\n",
       "544   3715835      1           240\n",
       "546   4146610      1           243\n",
       "551   3561180      1           245\n",
       "556   2735619      1           246\n",
       "563   4399411      1           248\n",
       "569   3568851      1           250\n",
       "\n",
       "[115 rows x 3 columns]"
      ]
     },
     "execution_count": 12,
     "metadata": {},
     "output_type": "execute_result"
    }
   ],
   "source": [
    "truth.loc[truth.Class==1]\n"
   ]
  },
  {
   "cell_type": "code",
   "execution_count": 13,
   "metadata": {},
   "outputs": [
    {
     "data": {
      "text/plain": [
       "575"
      ]
     },
     "execution_count": 13,
     "metadata": {},
     "output_type": "execute_result"
    }
   ],
   "source": [
    "len(truth)"
   ]
  },
  {
   "cell_type": "code",
   "execution_count": 17,
   "metadata": {},
   "outputs": [],
   "source": []
  },
  {
   "cell_type": "code",
   "execution_count": 16,
   "metadata": {},
   "outputs": [
    {
     "data": {
      "text/plain": [
       "571"
      ]
     },
     "execution_count": 16,
     "metadata": {},
     "output_type": "execute_result"
    }
   ],
   "source": [
    "len(truth2)"
   ]
  },
  {
   "cell_type": "code",
   "execution_count": null,
   "metadata": {},
   "outputs": [],
   "source": []
  }
 ],
 "metadata": {
  "kernelspec": {
   "display_name": "Python 2",
   "language": "python",
   "name": "python2"
  },
  "language_info": {
   "codemirror_mode": {
    "name": "ipython",
    "version": 2
   },
   "file_extension": ".py",
   "mimetype": "text/x-python",
   "name": "python",
   "nbconvert_exporter": "python",
   "pygments_lexer": "ipython2",
   "version": "2.7.15"
  }
 },
 "nbformat": 4,
 "nbformat_minor": 2
}
